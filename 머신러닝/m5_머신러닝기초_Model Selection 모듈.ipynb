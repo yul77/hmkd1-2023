{
 "cells": [
  {
   "cell_type": "markdown",
   "id": "cb676a18",
   "metadata": {},
   "source": [
    "# 사이킷런의 model_selection 모듈\n",
    "\n",
    "model_selection 모듈은 머신러닝 모델을 개발하고 평가하는 데 유용한 도구입니다. \n",
    "<br>model_selection 모듈을 사용하면 데이터를 더 잘 이해하고 더 나은 모델을 개발할 수 있습니다.\n",
    "\n",
    "- 학습 데이터와 테스트 데이터를 분리하거나 교차 검증, 그리고 Estimator의 하이퍼 파라미터를 튜닝하기 위해서 다양한 함수와 클래스를 제공합니다.\n",
    "<br><br>\n",
    "- 학습 데이터와 테스트 데이터를 분리하는 방법에는 여러가지가 있습니다. 가장 일반적인 방법은 train_test_split() 함수를 사용하는 것입니다. train_test_split()함수는 학습 데이터와 테스트 데이터를 70:30의 비율로 분리합니다.\n",
    "<br><br>\n",
    "- 교차 검증은 모델의 성능을 평가하는 방법입니다.교차 검증은 데이터를 여러개의 폴드로 분리한 다음 각 폴드를 테스트 데이터로 사용하고 나머지 폴드를 학습 데이터로 사용하여 모델을 학습하는 방법입니다. 교차 검증은 모델의 선능을 더 정확하게 평가할 수 있습니다.\n",
    "<br><br>\n",
    "- Estimator의 하이퍼 파라미터를 튜닝하는 방법에는 여러가지가 있습니다. 가장 일반적인 방법은 GridSearchCV()함수를 사용하는 것입니다.  GridSearchCV()함수는 주어진 하이퍼 파라미터의 모든 조합에 대해 모델을 학습하고 평가하여 가장 좋은 하이퍼 파라미터를 찾습니다. "
   ]
  },
  {
   "cell_type": "code",
   "execution_count": 1,
   "id": "5e3433e4",
   "metadata": {},
   "outputs": [],
   "source": [
    "from sklearn.datasets import load_iris\n",
    "from sklearn.tree import DecisionTreeClassifier\n",
    "from sklearn.metrics import accuracy_score"
   ]
  },
  {
   "cell_type": "code",
   "execution_count": 5,
   "id": "2e4ce0b9",
   "metadata": {},
   "outputs": [
    {
     "name": "stdout",
     "output_type": "stream",
     "text": [
      "예측 정확도: 1.0\n"
     ]
    }
   ],
   "source": [
    "#의사결정나무(Decision Tree) 모델을 학습하고, 학습 데이터셋에 대한 예측 정확도를 출력\n",
    "\n",
    "iris = load_iris()\n",
    "dt_clf = DecisionTreeClassifier() #DecisionTreeClassifier() 클래스를 이용하여 의사결정나무 모델을 생성\n",
    "train_data = iris.data #특성값\n",
    "train_label = iris.target #타겟값\n",
    "\n",
    "dt_clf.fit(train_data,train_label)\n",
    "#fit() 메서드를 호출하여 train_data와 train_label 데이터셋으로 의사결정나무 모델을 학습\n",
    "\n",
    "#학습 데이터셋으로 예측 수행\n",
    "pred = dt_clf.predict(train_data) \n",
    "#predict() 메서드를 이용하여 학습 데이터셋인 train_data에 대한 예측값을 계산\n",
    "\n",
    "print('예측 정확도:',accuracy_score(train_label,pred))\n",
    "#accuracy_score() 함수를 이용하여 실제 타겟값인 train_label과 예측값인 pred를 비교하여 \n",
    "#학습 데이터셋에 대한 분류 모델의 예측 정확도를 출력"
   ]
  },
  {
   "cell_type": "markdown",
   "id": "85830865",
   "metadata": {},
   "source": [
    "위와 같은 예측 정확도는 학습 데이터셋에 대한 예측 결과를 평가한 것으로, 모델이 실제 데이터에서 얼마나 잘 예측할 수 있는지를 나타내는 것은 아닙니다. 따라서 모델의 성능을 평가하기 위해서는 학습 데이터셋과 평가 데이터셋을 나누어서 모델을 학습시키고, 평가해야 합니다."
   ]
  },
  {
   "cell_type": "code",
   "execution_count": 9,
   "id": "ce5ec5ae",
   "metadata": {},
   "outputs": [],
   "source": [
    "# Q. 학습 및 검증 데이터를 7:3으로 나누어 모델링 및 평가를 수행하세요.\n",
    "from sklearn.tree import DecisionTreeClassifier as DTC\n",
    "from sklearn.metrics import accuracy_score\n",
    "from sklearn.datasets import load_iris\n",
    "from sklearn.model_selection import train_test_split \n",
    "#train_test_split() 함수를 이용하여 iris_data 데이터셋을 학습 데이터셋과 테스트 데이터셋으로 나눈다\n",
    "#이 함수는 전체 데이터셋을 무작위로 섞은 후 지정된 test_size 비율에 따라 데이터셋을 분리\n",
    "#이때 random_state 값을 지정하여 결과를 재현할 수 있다.\n",
    "\n",
    "dr_clf = DTC( )\n",
    "iris_data=load_iris()\n",
    "\n",
    "X_train, X_test, y_train,y_test = train_test_split(iris_data.data, iris_data.target, \n",
    "                                                  test_size=0.3, random_state=121)\n"
   ]
  },
  {
   "cell_type": "markdown",
   "id": "1f08ff5e",
   "metadata": {},
   "source": [
    "위 코드는 scikit-learn에서 제공하는 DecisionTreeClassifier 모델을 이용하여 붓꽃 데이터셋을 학습하고, 학습된 모델을 이용하여 붓꽃 품종을 예측하는 코드입니다.\n",
    "\n",
    "먼저, \"from sklearn.tree import DecisionTreeClassifier as DTC\" 코드를 이용하여 DecisionTreeClassifier를 DTC라는 이름으로 import합니다.\n",
    "\n",
    "그리고 load_iris() 함수를 이용하여 붓꽃 데이터셋을 로드합니다.\n",
    "\n",
    "train_test_split() 함수를 이용하여 iris_data 데이터셋을 학습 데이터셋과 테스트 데이터셋으로 나눕니다. 이 함수는 데이터셋을 학습과 테스트를 위한 두 개의 subset으로 나누는 함수입니다. 이 함수는 전체 데이터셋을 무작위로 섞은 후 지정된 test_size 비율에 따라 데이터셋을 분리합니다. 이때 random_state 값을 지정하여 결과를 재현할 수 있습니다.\n",
    "\n",
    "그리고 DTC 모델을 생성하고, fit() 메서드를 이용하여 학습 데이터셋인 X_train과 y_train 데이터셋으로 모델을 학습시킵니다.\n",
    "\n",
    "predict() 메서드를 이용하여 테스트 데이터셋인 X_test에 대한 예측을 수행하고, accuracy_score() 함수를 이용하여 예측 결과를 평가합니다. 이때 train_test_split() 함수에서 지정한 test_size 값에 따라 테스트 데이터셋의 크기가 결정됩니다.\n",
    "\n",
    "따라서 이 코드는 학습 데이터셋과 테스트 데이터셋을 이용하여 DecisionTreeClassifier 모델을 학습하고, 테스트 데이터셋에 대한 예측 정확도를 출력하는 코드입니다."
   ]
  },
  {
   "cell_type": "code",
   "execution_count": 10,
   "id": "e5bcdbea",
   "metadata": {},
   "outputs": [
    {
     "name": "stdout",
     "output_type": "stream",
     "text": [
      "예측 정확도: 0.9556\n"
     ]
    }
   ],
   "source": [
    "dt_clf.fit(X_train,y_train)\n",
    "pred =dt_clf.predict(X_test)\n",
    "print('예측 정확도: {0:.4f}'.format(accuracy_score(y_test,pred)))"
   ]
  },
  {
   "cell_type": "markdown",
   "id": "26f88fa4",
   "metadata": {},
   "source": [
    "먼저, fit() 메서드를 이용하여 X_train과 y_train 데이터셋을 이용하여 DecisionTreeClassifier 모델을 학습시킵니다.\n",
    "\n",
    "그리고 predict() 메서드를 이용하여 X_test 데이터셋에 대한 예측을 수행합니다. 이때, X_test 데이터셋은 모델이 이전에 본 적이 없는 새로운 데이터셋입니다.\n",
    "\n",
    "그리고 accuracy_score() 함수를 이용하여 예측 결과를 평가합니다. 이 함수는 예측 결과와 실제 결과를 비교하여 정확도를 계산하는 함수입니다. 이때, y_test는 실제 테스트 데이터셋의 레이블입니다. \n",
    "\n",
    "따라서 이 코드는 학습된 DecisionTreeClassifier 모델을 이용하여 테스트 데이터셋에 대한 예측을 수행하고, 이에 대한 예측 정확도를 출력하는 코드입니다."
   ]
  },
  {
   "cell_type": "markdown",
   "id": "914fc0e6",
   "metadata": {},
   "source": [
    "# 교차 검증이 필요한 이유\n",
    "\n",
    "- 교차 유효성 검사는 독립적인 데이터셋에서 모델의 성능을 평가하고 과적합을 방지하기 위해 기계 학습에 사용되는 통계 기법으로 다음과 같은 이유로 중요합니다.\n",
    "    - 과적합 : 과적합은 모델이 노이즈나 이상값을 포함하여 훈련데이터를 너무 잘 학습할 때 발생합니다. 이러한 경우 모델은 교육데이터에 대해 뛰어난 정확도를 갖지만 보이지 않는 데이터에 대해서는 성능이 저하될 수 있습니다. 교차 검증은 이보다 일반화 된 성능 메트릭을 제공하여 과적합을 방지하는데 도움이 됩니다.\n",
    "    - 하이퍼 파라미터 조정: 교차 검증은 일반저을오 그리드 검색 또는 기타 하이퍼 파라미터 튜닝 방법과 함께 사용되어 최상의 성능을 가진 모델을 생성하는 하이퍼파라미터를 찾습니다.\n",
    "    - 모델 비교: 여러 모델을 비교할 때 교차 검증은 서오 다른 데이터 하위 집합의 성능을 평균화하므로 보다 신뢰할 수 있는 비교를 제공하는데 도움이 됩니다.\n",
    "    \n",
    "- 교차 검증 방법: k -겹 교차 검증\n",
    "    - 데이터셋 분할: 전체 데이터셋을 'k'개의 동일한 부분(또는 '접기')으로 나눕니다. k=5를 선택한다고 가정해 보겠습니다. 즉, 데이터를 5개의 하위 집합으로 나눈다.\n",
    "    - 훈련 및 테스트: 하나의 하위 집합을 테스트 세트로 유지하고 나머지 k-1 하위 집합에서 모델을 훈련\n",
    "    - 평가: 테스트 세트에서 모델의 성능 메트릭( 예: 문제에 따라 정확도, 정밀도, 재현율, F1 점수 등)을 계산합니다.\n",
    "    - 반복: 이 프로세스를 k번 반복합니다. 매번 다른 하위 집합을 테스트셋으로 사용하고 나머지 하위 집합을 훈련세트로 사용합니다\n",
    "    - 평균 성능 : k반복에 대한 성능 메트릭의 평균을 계산합니다. 이는 모델의 교차 유효성 검사 점수로, 성능에 대한 보다 일반화 된 척도를 제공합니다.\n",
    "    \n",
    "- 교차 유효성 검사의 기본 아이디어는 학습용 데이터에 대해 학습하고 검증용 데이터로 테스트할 때 얻은 '점수'가 새로운 데이터에서 모델이 수행되는 방식을 나타낼 가능성을 더 높이나는 것입니다.\n",
    "\n",
    "- Python에서는 sklearn.model_selection 모듈의 cross_val_score 함수를 사용하여 교차 검증을 쉽게 수행할 수 있습니다"
   ]
  },
  {
   "cell_type": "markdown",
   "id": "5d12a28d",
   "metadata": {},
   "source": [
    "# 교차 검증 기술\n",
    "\n",
    "- 기계학습 모델을 학습할 때 학습 데이터에서 학습된 패턴을 기반으로 새로운 보이지 않는 데이터에 대해 정확한 예즉을 할 수 있는 모델을 만들려고 합니다. 문제는 모델을 실제로 테스트하기 전에는 본 적이 없는 데이터에서 모델이 얼마나 잘 작동할지 알 수 없다는 것입니다.\n",
    "\n",
    "- 교차 유효성 검사에는 전체 데이터셋을 모델 훈련을 위한 더 큰 섹션과 모델 테스트를 위한 더 작은 섹션의 두 섹션으로 나누는 작업이 포함됩니다.\n",
    "\n",
    "- '트레이닝 세트'는 데이터의 기본 패턴에 대해 모델을 가르치는 데 사용됩니다. 반면 '테스트셋'은 모델이 이러한 패턴을 얼마나 잘 학습햇는지 평가하는데 사용됩니다. 모델은 교육중에 테스트 데이터를 본적이 없으므로 테스트 세트는 '보이지 않는 새로운 데이터'로 작동합니다.\n",
    "\n",
    "- 이제 이 작은 부분(테스트 세트)에서 모델을 테스트할 때 얻은 '점수'는 모델이 미래에 실제 보이지 않는 데이터에서 얼마나 잘 수행될 것인지에 대한 추정치로 사용됩니다.\n",
    "\n",
    "- 서로 다른 데이터 하위 집합(교차 유효성 검사의 핵심)에 대해 이 프로세스를 여러번 반복함으로써 새 데이터로 일반화 하는 모델의 능력에 대해 보다 신뢰할 수 있는 추정치를 얻습니다."
   ]
  },
  {
   "cell_type": "code",
   "execution_count": 11,
   "id": "e8cf797a",
   "metadata": {},
   "outputs": [
    {
     "name": "stdout",
     "output_type": "stream",
     "text": [
      "붓꽃 데이터 세트 크기: 150\n"
     ]
    }
   ],
   "source": [
    "from sklearn.tree import DecisionTreeClassifier as DTC\n",
    "from sklearn.metrics import accuracy_score\n",
    "from sklearn.model_selection import KFold\n",
    "import numpy as np\n",
    "\n",
    "iris = load_iris()\n",
    "features = iris.data\n",
    "label = iris.target\n",
    "dt_clf = DTC(random_state =156)\n",
    "\n",
    "#5개의 폴드 세트로 분리하는 KFold 객체와 폴드 세트별 정확도를 담은 리스트 객체 생성\n",
    "kfold = KFold(n_splits = 5)\n",
    "cv_accuracy = []\n",
    "print('붓꽃 데이터 세트 크기:', features.shape[0])"
   ]
  },
  {
   "cell_type": "markdown",
   "id": "18164265",
   "metadata": {},
   "source": [
    "위 코드는 sklearn의 KFold를 이용하여 붓꽃 데이터셋을 5개의 폴드 세트로 나누고, 각 폴드 세트별로 DecisionTreeClassifier 모델을 학습하고 예측한 뒤 정확도를 평가하는 코드입니다.\n",
    "\n",
    "먼저, iris 데이터셋을 로드하고, features와 label 변수에 데이터와 레이블을 저장합니다.\n",
    "\n",
    "그리고 DecisionTreeClassifier 모델을 생성합니다. 이때, random_state 값을 지정하여 결과를 재현할 수 있습니다.\n",
    "\n",
    "그리고 KFold(n_splits = 5)를 이용하여 5개의 폴드 세트로 붓꽃 데이터셋을 나눕니다. 이때, n_splits는 나눌 폴드 세트의 수를 의미합니다.\n",
    "\n",
    "cv_accuracy라는 빈 리스트 객체를 생성합니다. 이 리스트 객체는 각 폴드 세트별 정확도를 담을 예정입니다.\n",
    "\n",
    "마지막으로, features.shape[0]를 이용하여 붓꽃 데이터셋의 크기를 출력합니다. 이때, shape[0]은 데이터셋의 행의 수를 의미합니다.\n",
    "\n",
    "따라서 이 코드는 붓꽃 데이터셋을 5개의 폴드 세트로 나누고, 각 폴드 세트별로 DecisionTreeClassifier 모델을 학습하고 예측한 뒤 정확도를 평가하는 코드입니다."
   ]
  },
  {
   "cell_type": "code",
   "execution_count": 12,
   "id": "2a6aa44f",
   "metadata": {},
   "outputs": [
    {
     "data": {
      "text/plain": [
       "array([[5.1, 3.5, 1.4, 0.2],\n",
       "       [4.9, 3. , 1.4, 0.2],\n",
       "       [4.7, 3.2, 1.3, 0.2]])"
      ]
     },
     "execution_count": 12,
     "metadata": {},
     "output_type": "execute_result"
    }
   ],
   "source": [
    "features[:3]"
   ]
  },
  {
   "cell_type": "code",
   "execution_count": 20,
   "id": "5072ea84",
   "metadata": {},
   "outputs": [
    {
     "name": "stdout",
     "output_type": "stream",
     "text": [
      "\n",
      "#1 교차 검증 정확도 : 1.0, 학습 데이터 크기: 120, 검증 데이터 크기: 30\n",
      "#1 검증 세트 인덱스: [ 0  1  2  3  4  5  6  7  8  9 10 11 12 13 14 15 16 17 18 19 20 21 22 23\n",
      " 24 25 26 27 28 29]\n",
      "\n",
      "#2 교차 검증 정확도 : 0.9667, 학습 데이터 크기: 120, 검증 데이터 크기: 30\n",
      "#2 검증 세트 인덱스: [30 31 32 33 34 35 36 37 38 39 40 41 42 43 44 45 46 47 48 49 50 51 52 53\n",
      " 54 55 56 57 58 59]\n",
      "\n",
      "#3 교차 검증 정확도 : 0.8667, 학습 데이터 크기: 120, 검증 데이터 크기: 30\n",
      "#3 검증 세트 인덱스: [60 61 62 63 64 65 66 67 68 69 70 71 72 73 74 75 76 77 78 79 80 81 82 83\n",
      " 84 85 86 87 88 89]\n",
      "\n",
      "#4 교차 검증 정확도 : 0.9333, 학습 데이터 크기: 120, 검증 데이터 크기: 30\n",
      "#4 검증 세트 인덱스: [ 90  91  92  93  94  95  96  97  98  99 100 101 102 103 104 105 106 107\n",
      " 108 109 110 111 112 113 114 115 116 117 118 119]\n",
      "\n",
      "#5 교차 검증 정확도 : 0.7333, 학습 데이터 크기: 120, 검증 데이터 크기: 30\n",
      "#5 검증 세트 인덱스: [120 121 122 123 124 125 126 127 128 129 130 131 132 133 134 135 136 137\n",
      " 138 139 140 141 142 143 144 145 146 147 148 149]\n",
      "\n",
      "## 평균 검증 정확도: 0.9\n"
     ]
    }
   ],
   "source": [
    "#붓꽃 데이터셋을 K-Fold 교차 검증 방법을 이용하여 DecisionTreeClassifier 모델을 학습하고 검증하는 코드\n",
    "\n",
    "n_iter =0 #n_iter 변수를 0으로 초기화\n",
    "\n",
    "# KFolt 객체의 split() 호출하면 폴드 별 학습용, 검증용 테스트의 로우 인덱스를 array로 반환\n",
    "\n",
    "for train_index, test_index  in kfold.split(features):\n",
    "    # kfold.split()으로 반환된 인덱스를 이용하여 학습용, 검증용 테스트 데이터 추출\n",
    "    X_train, X_test = features[train_index], features[test_index]\n",
    "    y_train, y_test = label[train_index], label[test_index]\n",
    "    \n",
    "    #학습 및 예측\n",
    "    dt_clf.fit(X_train , y_train)\n",
    "    pred = dt_clf.predict(X_test)\n",
    "    n_iter += 1\n",
    "    \n",
    "    # 반복 시 마다 정확도 측정\n",
    "    accuracy = np.round(accuracy_score(y_test,pred),4)\n",
    "    train_size = X_train.shape[0]\n",
    "    test_size = X_test.shape[0]\n",
    "    print('\\n#{0} 교차 검증 정확도 : {1}, 학습 데이터 크기: {2}, 검증 데이터 크기: {3}'\n",
    "         .format(n_iter, accuracy, train_size, test_size))\n",
    "    print('#{0} 검증 세트 인덱스: {1}'.format(n_iter, test_index))\n",
    "    cv_accuracy.append(accuracy)\n",
    "    \n",
    "# 개별 iteration별 정확도를 합하여 평균 정확도 계산\n",
    "print('\\n## 평균 검증 정확도:', np.mean(cv_accuracy))"
   ]
  },
  {
   "cell_type": "markdown",
   "id": "cc6251b8",
   "metadata": {},
   "source": [
    "n_iter 변수를 0으로 초기화합니다.\n",
    "\n",
    "그리고 KFold(n_splits=5)를 이용하여 5개의 폴드 세트로 붓꽃 데이터셋을 나눕니다. 이때, n_splits는 나눌 폴드 세트의 수를 의미합니다.\n",
    "\n",
    "for train_index, test_index in kfold.split(features): 구문을 이용하여, KFold 객체의 split() 메소드를 호출하면 폴드 별 학습용, 검증용 테스트의 로우 인덱스를 array로 반환합니다. 이 배열을 이용하여 학습용, 검증용 테스트 데이터를 추출합니다.\n",
    "\n",
    "그리고 DecisionTreeClassifier 모델을 학습하고, 예측합니다.\n",
    "\n",
    "accuracy_score() 함수를 이용하여, 학습용 데이터와 검증용 데이터의 예측 결과를 비교하여 정확도를 측정합니다.\n",
    "\n",
    "마지막으로, cv_accuracy 리스트에 정확도를 추가하고, 개별 iteration별 정확도를 합하여 평균 정확도를 계산합니다.\n",
    "\n",
    "따라서 이 코드는 붓꽃 데이터셋을 K-Fold 교차 검증 방법을 이용하여 DecisionTreeClassifier 모델을 학습하고 검증하는 코드입니다."
   ]
  },
  {
   "cell_type": "markdown",
   "id": "e0f7d59f",
   "metadata": {},
   "source": [
    "과제1_0515. K값을 3, 10으로 설정하여 각각 교차 검증을 수행하고 검증 정확도가 가장 높은 K값을 선택하세요.\n",
    "- Stratified K 폴드"
   ]
  },
  {
   "cell_type": "code",
   "execution_count": 21,
   "id": "2ce288c9",
   "metadata": {},
   "outputs": [
    {
     "data": {
      "text/plain": [
       "0    50\n",
       "1    50\n",
       "2    50\n",
       "Name: label, dtype: int64"
      ]
     },
     "execution_count": 21,
     "metadata": {},
     "output_type": "execute_result"
    }
   ],
   "source": [
    "import pandas as pd\n",
    "\n",
    "iris = load_iris()\n",
    "\n",
    "#pandas의 DataFrame을 이용하여 iris 데이터셋을 가공\n",
    "iris_df = pd.DataFrame(data=iris.data, columns = iris.feature_names)\n",
    "\n",
    "#iris_df 데이터프레임에 'label'이라는 컬럼을 추가하고, \n",
    "#iris.target을 이용하여 붓꽃의 종류를 나타내는 target 정보를 'label' 컬럼에 추가\n",
    "iris_df['label']=iris.target\n",
    "\n",
    "#'label' 컬럼의 값들을 value_counts() 함수를 이용하여 분류별 개수를 측정\n",
    "iris_df['label'].value_counts()"
   ]
  },
  {
   "cell_type": "markdown",
   "id": "bc3e2e24",
   "metadata": {},
   "source": [
    "위의 결과는 'label' 컬럼의 값들을 value_counts() 함수를 이용하여 분류별 개수를 측정한 결과입니다.\n",
    "\n",
    "즉, 붓꽃 데이터셋에서 'label' 컬럼의 값은 0, 1, 2로 구성되며, 각각 50개씩 총 150개의 데이터가 존재합니다. 이는 iris.target에서 0은 setosa, 1은 versicolor, 2는 virginica를 의미하므로, 붓꽃 데이터셋은 각 3종류의 붓꽃(setosa, versicolor, virginica)에서 각 50개씩 총 150개의 데이터를 가지고 있음을 나타냅니다."
   ]
  },
  {
   "cell_type": "markdown",
   "id": "4b19b1d0",
   "metadata": {},
   "source": [
    "위 코드는 scikit-learn의 load_iris() 함수를 이용하여 붓꽃(iris) 데이터셋을 로드하고, pandas의 DataFrame을 이용하여 데이터셋을 가공하는 코드입니다.\n",
    "\n",
    "먼저, load_iris() 함수를 이용하여 iris 데이터셋을 로드합니다.\n",
    "\n",
    "그리고 pandas의 DataFrame을 이용하여 iris 데이터셋을 가공합니다. 이때, data는 붓꽃의 4가지 특징(feature) 정보를 갖고 있으며, feature_names는 4가지 특징(feature) 정보의 이름을 갖고 있습니다. 이를 이용하여 iris_df 데이터프레임을 생성합니다.\n",
    "\n",
    "iris_df 데이터프레임에 'label'이라는 컬럼을 추가하고, iris.target을 이용하여 붓꽃의 종류를 나타내는 target 정보를 'label' 컬럼에 추가합니다.\n",
    "\n",
    "마지막으로, 'label' 컬럼의 값들을 value_counts() 함수를 이용하여 분류별 개수를 측정합니다.\n",
    "\n",
    "따라서 이 코드는 pandas를 이용하여 iris 데이터셋을 가공하고, 붓꽃의 종류를 나타내는 'label' 컬럼의 값들을 value_counts() 함수를 이용하여 측정하는 코드입니다."
   ]
  },
  {
   "cell_type": "code",
   "execution_count": 23,
   "id": "6a14e863",
   "metadata": {},
   "outputs": [
    {
     "name": "stdout",
     "output_type": "stream",
     "text": [
      "## 교차 검증:1\n",
      "학습 레이블 데이터 분포: \n",
      " 1    50\n",
      "2    50\n",
      "Name: label, dtype: int64\n",
      "검증 레이블 데이터 분포: \n",
      " 0    50\n",
      "Name: label, dtype: int64\n",
      "## 교차 검증:2\n",
      "학습 레이블 데이터 분포: \n",
      " 0    50\n",
      "2    50\n",
      "Name: label, dtype: int64\n",
      "검증 레이블 데이터 분포: \n",
      " 1    50\n",
      "Name: label, dtype: int64\n",
      "## 교차 검증:3\n",
      "학습 레이블 데이터 분포: \n",
      " 0    50\n",
      "1    50\n",
      "Name: label, dtype: int64\n",
      "검증 레이블 데이터 분포: \n",
      " 2    50\n",
      "Name: label, dtype: int64\n"
     ]
    }
   ],
   "source": [
    "# K-Fold 교차 검증을 수행\n",
    "from sklearn.model_selection import KFold\n",
    "\n",
    "# kfold 문제: 학습 레이블은 모두 1,2 이고 검증 레이블은 모두 3으로 arrange될 수 있음.\n",
    "kfold = KFold(n_splits=3) #3개의 폴드 생성\n",
    "# kfold.split(X)는 폴드 세트를 5번 반복할 때마다 달라지는 학습/테스트 용 데이터 로우 인덱스 번호 반환.\n",
    "\n",
    "n_iter = 0\n",
    "for train_index, test_index in kfold.split(iris_df): #iris_df 데이터프레임을 3개의 폴드 세트로 나누기\n",
    "    n_iter += 1\n",
    "    label_train = iris_df['label'].iloc[train_index]\n",
    "    label_test = iris_df['label'].iloc[test_index]\n",
    "    print('## 교차 검증:{0}'.format(n_iter))\n",
    "    print('학습 레이블 데이터 분포: \\n', label_train.value_counts())\n",
    "    print('검증 레이블 데이터 분포: \\n', label_test.value_counts())\n",
    "\n",
    "\n",
    "#KFold를 이용하여 iris 데이터셋을 3개의 폴드 세트로 나누어 교차 검증을 수행하고, \n",
    "#학습 레이블과 검증 레이블 데이터 분포를 출력"
   ]
  },
  {
   "cell_type": "markdown",
   "id": "193ff197",
   "metadata": {},
   "source": [
    "## StratifiedKFold\n",
    "\n",
    "- 클래스 불균형 문제가 있는 데이터 세트에 대해 교차 검증을 수행할 때 유용하게 사용될 수 있습니다. 클래스 불균형이란 한 클래스의 샘플 수가 다른 클래스의 샘플 수보다 훨씬 많은 경우를 말합니다.\n",
    "<br><br>\n",
    "- 이진 분류 문제를 생각해봅시다. 여기서 '양성' 클래스 샘플이 100개 있고, '음성' 클래스 샘플이 900개 있는 1000개의 샘플이 있다고 가정해보겠습니다. 이 경우, 데이터 세트는 '음성' 클래스 샘플이 대부분이므로 클래스 불균형이 있습니다.\n",
    "<br><br>\n",
    "- 일반적인 k-겹 교차 검증(KFold)를 사용하면, 일부 fold가 '양성' 클래스 샘플을 거의 포함하지 않을 수 있습니다. 이는 모델이 '양성' 클래스를 올바르게 학습하는 데 어려움을 줄 수 있습니다. 반면에 StratifiedKFold를 사용하면, 각 fold가 전체 데이터 세트의 클래스 분포를 대표하도록 만들 수 있습니다.\n",
    "<br><br>\n",
    "- 즉, 각 fold는 '양성' 클래스 샘플의 약 10%와 '음성' 클래스 샘플의 약 90%를 포함하게 됩니다. 이렇게 하면 모델은 각 fold에서 '양성' 클래스와 '음성' 클래스를 모두 충분히 볼 수 있으므로, 클래스 불균형 문제를 완화할 수 있습니다.\n",
    "<br><br>\n",
    "- StratifiedKFold는 클래스 불균형 문제를 해결하는 데 도움이 될 수 있으며, 이는 모델의 성능을 개선하는 데 중요한 역할을 할 수 있습니다."
   ]
  },
  {
   "cell_type": "code",
   "execution_count": 24,
   "id": "5cfa7c2d",
   "metadata": {},
   "outputs": [
    {
     "name": "stdout",
     "output_type": "stream",
     "text": [
      "## 교차 검증: 1\n",
      "학습 레이블 데이터 분포: \n",
      " 2    34\n",
      "0    33\n",
      "1    33\n",
      "Name: label, dtype: int64\n",
      "검증 레이블 데이터 분포: \n",
      " 0    17\n",
      "1    17\n",
      "2    16\n",
      "Name: label, dtype: int64\n",
      "## 교차 검증: 2\n",
      "학습 레이블 데이터 분포: \n",
      " 1    34\n",
      "0    33\n",
      "2    33\n",
      "Name: label, dtype: int64\n",
      "검증 레이블 데이터 분포: \n",
      " 0    17\n",
      "2    17\n",
      "1    16\n",
      "Name: label, dtype: int64\n",
      "## 교차 검증: 3\n",
      "학습 레이블 데이터 분포: \n",
      " 0    34\n",
      "1    33\n",
      "2    33\n",
      "Name: label, dtype: int64\n",
      "검증 레이블 데이터 분포: \n",
      " 1    17\n",
      "2    17\n",
      "0    16\n",
      "Name: label, dtype: int64\n"
     ]
    }
   ],
   "source": [
    "# StratifiedKFold는 원본 데이터의 레이블 분포를 먼저 고려한 뒤 이 분포와 동일하게 \n",
    "# 학습과 검증 데이텨 세트를 분배함\n",
    "\n",
    "from sklearn.model_selection import StratifiedKFold as SKF\n",
    "skf = SKF(n_splits=3)\n",
    "n_iter=0\n",
    "for train_index, test_index in skf.split(iris_df, iris_df['label']):\n",
    "    n_iter +=1\n",
    "    label_train = iris_df['label'].iloc[train_index]\n",
    "    label_test = iris_df['label'].iloc[test_index]\n",
    "    #각 검증마다 학습 데이터와 검증 데이터로 분리하고, 각각의 데이터셋에서 레이블 값의 분포를 출력\n",
    "    \n",
    "    print('## 교차 검증: {0}'.format(n_iter))\n",
    "    print('학습 레이블 데이터 분포: \\n', label_train.value_counts())\n",
    "    print('검증 레이블 데이터 분포: \\n', label_test.value_counts())"
   ]
  },
  {
   "cell_type": "code",
   "execution_count": 26,
   "id": "cb04f87a",
   "metadata": {},
   "outputs": [
    {
     "name": "stdout",
     "output_type": "stream",
     "text": [
      "\n",
      "#1 교차 검증 정확도 :1.0, 학습 데이터 크기: 100, 검증 데이터 크기: 50\n",
      "#1 검증 세트 인덱스:[  0   1   2   3   4   5   6   7   8   9  10  11  12  13  14  15  16  50\n",
      "  51  52  53  54  55  56  57  58  59  60  61  62  63  64  65  66 100 101\n",
      " 102 103 104 105 106 107 108 109 110 111 112 113 114 115]\n",
      "\n",
      "#2 교차 검증 정확도 :1.0, 학습 데이터 크기: 100, 검증 데이터 크기: 50\n",
      "#2 검증 세트 인덱스:[ 17  18  19  20  21  22  23  24  25  26  27  28  29  30  31  32  33  67\n",
      "  68  69  70  71  72  73  74  75  76  77  78  79  80  81  82 116 117 118\n",
      " 119 120 121 122 123 124 125 126 127 128 129 130 131 132]\n",
      "\n",
      "#3 교차 검증 정확도 :0.98, 학습 데이터 크기: 100, 검증 데이터 크기: 50\n",
      "#3 검증 세트 인덱스:[ 34  35  36  37  38  39  40  41  42  43  44  45  46  47  48  49  83  84\n",
      "  85  86  87  88  89  90  91  92  93  94  95  96  97  98  99 133 134 135\n",
      " 136 137 138 139 140 141 142 143 144 145 146 147 148 149]\n",
      "\n",
      "## 교차 검증별 정확도: [1.   1.   0.98]\n",
      "## 평균 검증 정확도: 0.9933333333333333\n"
     ]
    }
   ],
   "source": [
    "df_clf = DTC(random_state=156)\n",
    "\n",
    "skfold = SKF(n_splits=3)\n",
    "n_iter = 0\n",
    "cv_accuracy=[]\n",
    "\n",
    "# SKF의 split() 호출시 반드시 레이블 데이터셋도 추가 입력 필요\n",
    "for trans_index, test_index in skfold.split(features, label):\n",
    "    # split() 으로 반환된 인덱스를 이용하여 학습용, 검증용 테스트 데이터 추출\n",
    "    X_train, X_test = features[train_index], features[test_index]\n",
    "    y_train, y_test = label[train_index],label[test_index]\n",
    "    #학습 및 예측\n",
    "    dt_clf.fit(X_train, y_train)\n",
    "    pred = dt_clf.predict(X_test)\n",
    "    \n",
    "    #반복 시 마다 정확도 측정\n",
    "    n_iter +=1\n",
    "    accuracy = np.round(accuracy_score(y_test,pred),4)\n",
    "    train_size = X_train.shape[0]\n",
    "    test_size = X_test.shape[0]\n",
    "    print('\\n#{0} 교차 검증 정확도 :{1}, 학습 데이터 크기: {2}, 검증 데이터 크기: {3}'\n",
    "          .format(n_iter, accuracy, train_size, test_size))\n",
    "    print('#{0} 검증 세트 인덱스:{1}'.format(n_iter,test_index))\n",
    "    cv_accuracy.append(accuracy)\n",
    "    \n",
    "#교차 검증별 정확도 및 평균 정확도 계산\n",
    "print('\\n## 교차 검증별 정확도:', np.round(cv_accuracy, 4))\n",
    "print('## 평균 검증 정확도:', np.mean(cv_accuracy)) "
   ]
  },
  {
   "cell_type": "markdown",
   "id": "3d987efa",
   "metadata": {},
   "source": [
    "## cross_val_score( )\n",
    "\n",
    "- Scikit-Learn의 cross_val_score() 함수는 기본적으로 회귀 모델에 대해서는 K-Fold 교차 검증 방법을, 분류 모델에 대해서는 Stratified K-Fold 교차 검증 방법을 사용합니다.\n",
    "<br><br>\n",
    "- 분류 모델에서 cross_val_score()를 사용하면, 데이터의 클래스 비율을 유지하며 데이터를 나누는 Stratified K-Fold 방식이 기본적으로 적용됩니다.\n",
    "<br><br>\n",
    "- 다만, 이는 기본 설정이며, 필요에 따라 cv 파라미터를 사용하여 다른 교차 검증 방법을 지정할 수 있습니다. 예를 들어, cv=KFold(n_splits=5) 와 같이 지정하면 5-Fold 교차 검증을 사용하게 됩니다."
   ]
  },
  {
   "cell_type": "code",
   "execution_count": 2,
   "id": "bc4f7d3d",
   "metadata": {},
   "outputs": [
    {
     "name": "stdout",
     "output_type": "stream",
     "text": [
      "교차 검증별 정확도: [0.98 0.94 0.98]\n",
      "평균 검증 정확도: 0.9667\n"
     ]
    }
   ],
   "source": [
    "from sklearn.tree import DecisionTreeClassifier as DTC\n",
    "from sklearn.model_selection import cross_val_score , cross_validate\n",
    "from sklearn.datasets import load_iris\n",
    "import numpy as np\n",
    "\n",
    "iris_data = load_iris()\n",
    "dt_clf = DTC(random_state=156)\n",
    "\n",
    "data = iris_data.data\n",
    "label = iris_data.target\n",
    "\n",
    "# 성능 지표는 정확도(accuracy), 교차 검증 세트는 3개 \n",
    "scores = cross_val_score(dt_clf, data, label, scoring ='accuracy',cv=3)\n",
    "print('교차 검증별 정확도:', np.round(scores,4))\n",
    "print('평균 검증 정확도:', np.round(np.mean(scores),4))"
   ]
  },
  {
   "cell_type": "markdown",
   "id": "4467c0a8",
   "metadata": {},
   "source": [
    "## GridSearchCV\n",
    "\n",
    "- GridSearchCV는 scikit-learn 라이브러리에서 제공하는 클래스로, 지정된 하이퍼파라미터의 모든 가능한 조합에 대해 교차 검증을 수행하여 최적의 하이퍼파라미터를 찾는 방법입니다.\n",
    "\n",
    "- 하이퍼파라미터는 머신러닝 모델의 성능을 조절하는 초매개변수들입니다. 예를 들어, 서포트 벡터 머신(SVM)에서는 마진의 넓이를 조절하는 C나 커널의 종류를 결정하는 kernel 등이 하이퍼파라미터가 됩니다. 이러한 하이퍼파라미터는 학습 데이터로부터 학습되는 것이 아니라, 사람이 직접 설정해주어야 합니다.\n",
    "\n",
    "- GridSearchCV는 이러한 하이퍼파라미터를 효과적으로 설정하기 위한 도구입니다. 사용자가 지정한 범위 내에서 모든 하이퍼파라미터 조합을 시도하고, 각 조합에 대해 교차 검증을 수행하여 가장 성능이 좋은 조합을 찾습니다.\n",
    "\n",
    "- GridSearchCV의 주요 하이퍼 파라미터는 다음과 같습니다:\n",
    "\n",
    "    - estimator: 사용할 머신러닝 모델입니다.\n",
    "    - param_grid: 하이퍼파라미터의 종류와 시도해 볼 값들을 사전 형태로 지정합니다.\n",
    "    - scoring: 모델의 성능을 평가하는 지표를 지정합니다.\n",
    "    - cv: 교차 검증을 수행할 때 데이터를 나누는 폴드의 개수를 지정합니다.\n",
    "- GridSearchCV를 사용하면, 각각의 하이퍼파라미터 조합에 대해 성능을 자동으로 평가하므로, 수작업으로 각각의 조합을 시도해 볼 필요가 없습니다. 이는 시간을 절약하고, 또한 객체 지향 프로그래밍 방식을 사용하여 코드를 더욱 간결하고 이해하기 쉽게 만듭니다.\n",
    "\n",
    "- 하지만 GridSearchCV는 모든 조합을 시도하므로, 하이퍼파라미터의 개수나 시도해 볼 값의 개수가 많아지면 계산 비용이 크게 증가할 수 있습니다. 이러한 문제를 해결하기 위해 랜덤 서치(RandomizedSearchCV) 같은 다른 기법을 사용하기도 합니다."
   ]
  },
  {
   "cell_type": "code",
   "execution_count": 3,
   "id": "53a79879",
   "metadata": {},
   "outputs": [],
   "source": [
    "from sklearn.datasets import load_iris\n",
    "from sklearn.tree import DecisionTreeClassifier as DTC\n",
    "from sklearn.model_selection import GridSearchCV as GSC\n",
    "from sklearn.model_selection import train_test_split\n",
    "\n",
    "#데이터를 로딩하고 학습데이터와 테스트 데이터 분리\n",
    "iris =load_iris()\n",
    "X_train, X_test, y_train, y_test = train_test_split(iris_data.data, iris_data.target,\n",
    "                                                   test_size = 0.2, random_state = 121)\n",
    "dtree = DTC()\n",
    "\n",
    "# parameter 들을 dictionary 형태로 설정\n",
    "parameters = {'max_depth':[1,2,3], 'min_samples_split':[2,3]}"
   ]
  },
  {
   "cell_type": "code",
   "execution_count": 4,
   "id": "de276f81",
   "metadata": {
    "scrolled": true
   },
   "outputs": [
    {
     "data": {
      "text/html": [
       "<div>\n",
       "<style scoped>\n",
       "    .dataframe tbody tr th:only-of-type {\n",
       "        vertical-align: middle;\n",
       "    }\n",
       "\n",
       "    .dataframe tbody tr th {\n",
       "        vertical-align: top;\n",
       "    }\n",
       "\n",
       "    .dataframe thead th {\n",
       "        text-align: right;\n",
       "    }\n",
       "</style>\n",
       "<table border=\"1\" class=\"dataframe\">\n",
       "  <thead>\n",
       "    <tr style=\"text-align: right;\">\n",
       "      <th></th>\n",
       "      <th>params</th>\n",
       "      <th>mean_test_score</th>\n",
       "      <th>rank_test_score</th>\n",
       "      <th>split0_test_score</th>\n",
       "      <th>split1_test_score</th>\n",
       "      <th>split2_test_score</th>\n",
       "    </tr>\n",
       "  </thead>\n",
       "  <tbody>\n",
       "    <tr>\n",
       "      <th>0</th>\n",
       "      <td>{'max_depth': 1, 'min_samples_split': 2}</td>\n",
       "      <td>0.700000</td>\n",
       "      <td>5</td>\n",
       "      <td>0.700</td>\n",
       "      <td>0.7</td>\n",
       "      <td>0.70</td>\n",
       "    </tr>\n",
       "    <tr>\n",
       "      <th>1</th>\n",
       "      <td>{'max_depth': 1, 'min_samples_split': 3}</td>\n",
       "      <td>0.700000</td>\n",
       "      <td>5</td>\n",
       "      <td>0.700</td>\n",
       "      <td>0.7</td>\n",
       "      <td>0.70</td>\n",
       "    </tr>\n",
       "    <tr>\n",
       "      <th>2</th>\n",
       "      <td>{'max_depth': 2, 'min_samples_split': 2}</td>\n",
       "      <td>0.958333</td>\n",
       "      <td>3</td>\n",
       "      <td>0.925</td>\n",
       "      <td>1.0</td>\n",
       "      <td>0.95</td>\n",
       "    </tr>\n",
       "    <tr>\n",
       "      <th>3</th>\n",
       "      <td>{'max_depth': 2, 'min_samples_split': 3}</td>\n",
       "      <td>0.958333</td>\n",
       "      <td>3</td>\n",
       "      <td>0.925</td>\n",
       "      <td>1.0</td>\n",
       "      <td>0.95</td>\n",
       "    </tr>\n",
       "    <tr>\n",
       "      <th>4</th>\n",
       "      <td>{'max_depth': 3, 'min_samples_split': 2}</td>\n",
       "      <td>0.975000</td>\n",
       "      <td>1</td>\n",
       "      <td>0.975</td>\n",
       "      <td>1.0</td>\n",
       "      <td>0.95</td>\n",
       "    </tr>\n",
       "    <tr>\n",
       "      <th>5</th>\n",
       "      <td>{'max_depth': 3, 'min_samples_split': 3}</td>\n",
       "      <td>0.975000</td>\n",
       "      <td>1</td>\n",
       "      <td>0.975</td>\n",
       "      <td>1.0</td>\n",
       "      <td>0.95</td>\n",
       "    </tr>\n",
       "  </tbody>\n",
       "</table>\n",
       "</div>"
      ],
      "text/plain": [
       "                                     params  mean_test_score  rank_test_score  \\\n",
       "0  {'max_depth': 1, 'min_samples_split': 2}         0.700000                5   \n",
       "1  {'max_depth': 1, 'min_samples_split': 3}         0.700000                5   \n",
       "2  {'max_depth': 2, 'min_samples_split': 2}         0.958333                3   \n",
       "3  {'max_depth': 2, 'min_samples_split': 3}         0.958333                3   \n",
       "4  {'max_depth': 3, 'min_samples_split': 2}         0.975000                1   \n",
       "5  {'max_depth': 3, 'min_samples_split': 3}         0.975000                1   \n",
       "\n",
       "   split0_test_score  split1_test_score  split2_test_score  \n",
       "0              0.700                0.7               0.70  \n",
       "1              0.700                0.7               0.70  \n",
       "2              0.925                1.0               0.95  \n",
       "3              0.925                1.0               0.95  \n",
       "4              0.975                1.0               0.95  \n",
       "5              0.975                1.0               0.95  "
      ]
     },
     "execution_count": 4,
     "metadata": {},
     "output_type": "execute_result"
    }
   ],
   "source": [
    "import pandas as pd\n",
    "\n",
    "#param_grid의 하이퍼 파라미터들을 3개의 train, test set fold 로 나누어서 테스트 수행 설정.\n",
    "# refit=True 가 default임. True면 가장 좋은 파라미터 설정으로 재 학습 시킴.\n",
    "\n",
    "grid_dtree = GSC(dtree, param_grid=parameters, cv=3, refit=True)\n",
    "\n",
    "# 붓꽃 Train데이터로 param_grid의 하이퍼 파라미터들을 순차적으로 학습/평가.\n",
    "grid_dtree.fit(X_train, y_train)\n",
    "\n",
    "# GridSearchCV 결과 추출하여 DataFrame으로 변환\n",
    "scores_df = pd.DataFrame(grid_dtree.cv_results_)\n",
    "scores_df[['params','mean_test_score','rank_test_score',\\\n",
    "          'split0_test_score', 'split1_test_score', 'split2_test_score']]"
   ]
  },
  {
   "cell_type": "markdown",
   "id": "bf8d73cb",
   "metadata": {},
   "source": [
    "위의 코드는 그리드 서치(Grid Search)를 사용하여 의사 결정 트리(DT) 모델의 최적 하이퍼파라미터를 찾는 과정을 수행하는 코드입니다.\n",
    "\n",
    "Grid Search는 모델의 성능을 향상시키기 위해 하이퍼파라미터를 조정하는 방법 중 하나입니다. \n",
    "\n",
    "하이퍼파라미터는 모델의 학습 과정을 제어하고 모델의 일반화 성능에 영향을 주는 매개변수입니다. 예를 들어, 의사 결정 트리의 깊이(max_depth)나 분할 기준(criterion) 등은 하이퍼파라미터로 조정할 수 있습니다.\n",
    "\n",
    "위의 코드에서는 GSC 함수를 사용하여 그리드 서치 객체(grid_dtree)를 생성하고, param_grid 인자를 통해 조정할 하이퍼파라미터들을 지정합니다. cv 인자는 교차 검증(cross-validation)을 수행할 폴드 수를 나타내며, refit=True는 그리드 서치가 최적의 하이퍼파라미터를 찾은 후 해당 모델을 전체 데이터셋으로 재학습시키도록 설정합니다.\n",
    "\n",
    "그리드 서치를 실행한 후 cv_results_ 속성을 사용하여 그리드 서치 결과를 데이터프레임(scores_df)으로 변환합니다. 이 데이터프레임에는 각 조합의 하이퍼파라미터 값(params), 평균 테스트 점수(mean_test_score), 테스트 점수 순위(rank_test_score), 각 폴드별 테스트 점수(split0_test_score, split1_test_score, split2_test_score) 등이 포함됩니다.\n",
    "\n",
    "따라서 위의 코드는 그리드 서치를 통해 여러 하이퍼파라미터 조합에 대한 모델 성능을 평가하고, 그 결과를 분석하기 위한 코드입니다. 이를 통해 최적의 하이퍼파라미터 조합을 선택할 수 있습니다."
   ]
  },
  {
   "cell_type": "code",
   "execution_count": 5,
   "id": "6ccab6db",
   "metadata": {},
   "outputs": [
    {
     "name": "stdout",
     "output_type": "stream",
     "text": [
      "GridSearchCV 최적 파라미터: {'max_depth': 3, 'min_samples_split': 2}\n",
      "GridSearchCV 최고 정확도: 0.9750\n"
     ]
    }
   ],
   "source": [
    "print('GridSearchCV 최적 파라미터:', grid_dtree.best_params_)\n",
    "print('GridSearchCV 최고 정확도: {0:.4f}'.format(grid_dtree.best_score_))"
   ]
  },
  {
   "cell_type": "code",
   "execution_count": 10,
   "id": "6c7d8558",
   "metadata": {},
   "outputs": [
    {
     "name": "stdout",
     "output_type": "stream",
     "text": [
      "테스트 데이터 세트 정확도: 0.9667\n"
     ]
    }
   ],
   "source": [
    "from sklearn.metrics import accuracy_score\n",
    "# GridSearchCV의 refit으로 이미 학습이 된 estimator반환\n",
    "estimator = grid_dtree.best_estimator_\n",
    "\n",
    "# GridSearchCV의 best_estimator_는 이미 최적 하이퍼 파라미터로 학습이 됨\n",
    "pred = estimator.predict(X_test)\n",
    "print('테스트 데이터 세트 정확도: {0:.4f}'.format(accuracy_score(y_test,pred)))"
   ]
  },
  {
   "cell_type": "markdown",
   "id": "5242b967",
   "metadata": {},
   "source": [
    "### 과제1_0516. 와인 데이터에 대해서 아래 사항을 고려하여 모델 생성 및 성능개선을 위한 하이퍼파라미터 튜닝을 수행하세요.\n",
    "\n",
    "- dt를 알고리즘으로 적용\n",
    "- cv = 5\n",
    "- param_grid = {'max_depth': [3, 4, 5, 6], 'min_samples_split': [2, 3, 4]}"
   ]
  },
  {
   "cell_type": "code",
   "execution_count": 11,
   "id": "662d94b7",
   "metadata": {},
   "outputs": [
    {
     "data": {
      "text/plain": [
       "dict_keys(['data', 'target', 'frame', 'target_names', 'DESCR', 'feature_names'])"
      ]
     },
     "execution_count": 11,
     "metadata": {},
     "output_type": "execute_result"
    }
   ],
   "source": [
    "from sklearn import datasets\n",
    "from sklearn.model_selection import GridSearchCV \n",
    "from sklearn.tree import DecisionTreeClassifier\n",
    "\n",
    "#와인 데이터 불러오기 \n",
    "wine = datasets.load_wine()\n",
    "X,y = wine.data,wine.target\n",
    "wine.keys()\n"
   ]
  },
  {
   "cell_type": "code",
   "execution_count": null,
   "id": "a6d00384",
   "metadata": {},
   "outputs": [],
   "source": []
  }
 ],
 "metadata": {
  "kernelspec": {
   "display_name": "Python 3 (ipykernel)",
   "language": "python",
   "name": "python3"
  },
  "language_info": {
   "codemirror_mode": {
    "name": "ipython",
    "version": 3
   },
   "file_extension": ".py",
   "mimetype": "text/x-python",
   "name": "python",
   "nbconvert_exporter": "python",
   "pygments_lexer": "ipython3",
   "version": "3.10.9"
  }
 },
 "nbformat": 4,
 "nbformat_minor": 5
}

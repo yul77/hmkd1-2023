{
 "cells": [
  {
   "cell_type": "markdown",
   "id": "0b3b856c",
   "metadata": {},
   "source": [
    "## 사이킷런을 이용하여 붓꽃(iris) 데이터 품종 예측하기"
   ]
  },
  {
   "cell_type": "code",
   "execution_count": 1,
   "id": "b3dc9a6f",
   "metadata": {},
   "outputs": [],
   "source": [
    "from sklearn.datasets import load_iris\n",
    "from sklearn.tree import DecisionTreeClassifier\n",
    "from sklearn.model_selection import train_test_split"
   ]
  },
  {
   "cell_type": "code",
   "execution_count": 2,
   "id": "9498ae7e",
   "metadata": {},
   "outputs": [
    {
     "data": {
      "text/plain": [
       "dict_keys(['data', 'target', 'frame', 'target_names', 'DESCR', 'feature_names', 'filename', 'data_module'])"
      ]
     },
     "execution_count": 2,
     "metadata": {},
     "output_type": "execute_result"
    }
   ],
   "source": [
    "iris = load_iris()\n",
    "iris.keys()"
   ]
  },
  {
   "cell_type": "code",
   "execution_count": 3,
   "id": "5a3c7190",
   "metadata": {},
   "outputs": [
    {
     "name": "stdout",
     "output_type": "stream",
     "text": [
      "['setosa' 'versicolor' 'virginica']\n"
     ]
    },
    {
     "data": {
      "text/plain": [
       "['sepal length (cm)',\n",
       " 'sepal width (cm)',\n",
       " 'petal length (cm)',\n",
       " 'petal width (cm)']"
      ]
     },
     "execution_count": 3,
     "metadata": {},
     "output_type": "execute_result"
    }
   ],
   "source": [
    "print(iris.target_names)\n",
    "iris.feature_names"
   ]
  },
  {
   "cell_type": "code",
   "execution_count": 5,
   "id": "f555df74",
   "metadata": {},
   "outputs": [
    {
     "name": "stdout",
     "output_type": "stream",
     "text": [
      "iris target값: [0 0 0 0 0 0 0 0 0 0 0 0 0 0 0 0 0 0 0 0 0 0 0 0 0 0 0 0 0 0 0 0 0 0 0 0 0\n",
      " 0 0 0 0 0 0 0 0 0 0 0 0 0 1 1 1 1 1 1 1 1 1 1 1 1 1 1 1 1 1 1 1 1 1 1 1 1\n",
      " 1 1 1 1 1 1 1 1 1 1 1 1 1 1 1 1 1 1 1 1 1 1 1 1 1 1 2 2 2 2 2 2 2 2 2 2 2\n",
      " 2 2 2 2 2 2 2 2 2 2 2 2 2 2 2 2 2 2 2 2 2 2 2 2 2 2 2 2 2 2 2 2 2 2 2 2 2\n",
      " 2 2]\n",
      "iris target명: ['setosa' 'versicolor' 'virginica']\n"
     ]
    },
    {
     "data": {
      "text/html": [
       "<div>\n",
       "<style scoped>\n",
       "    .dataframe tbody tr th:only-of-type {\n",
       "        vertical-align: middle;\n",
       "    }\n",
       "\n",
       "    .dataframe tbody tr th {\n",
       "        vertical-align: top;\n",
       "    }\n",
       "\n",
       "    .dataframe thead th {\n",
       "        text-align: right;\n",
       "    }\n",
       "</style>\n",
       "<table border=\"1\" class=\"dataframe\">\n",
       "  <thead>\n",
       "    <tr style=\"text-align: right;\">\n",
       "      <th></th>\n",
       "      <th>sepal length (cm)</th>\n",
       "      <th>sepal width (cm)</th>\n",
       "      <th>petal length (cm)</th>\n",
       "      <th>petal width (cm)</th>\n",
       "      <th>label</th>\n",
       "    </tr>\n",
       "  </thead>\n",
       "  <tbody>\n",
       "    <tr>\n",
       "      <th>0</th>\n",
       "      <td>5.1</td>\n",
       "      <td>3.5</td>\n",
       "      <td>1.4</td>\n",
       "      <td>0.2</td>\n",
       "      <td>0</td>\n",
       "    </tr>\n",
       "    <tr>\n",
       "      <th>1</th>\n",
       "      <td>4.9</td>\n",
       "      <td>3.0</td>\n",
       "      <td>1.4</td>\n",
       "      <td>0.2</td>\n",
       "      <td>0</td>\n",
       "    </tr>\n",
       "    <tr>\n",
       "      <th>2</th>\n",
       "      <td>4.7</td>\n",
       "      <td>3.2</td>\n",
       "      <td>1.3</td>\n",
       "      <td>0.2</td>\n",
       "      <td>0</td>\n",
       "    </tr>\n",
       "  </tbody>\n",
       "</table>\n",
       "</div>"
      ],
      "text/plain": [
       "   sepal length (cm)  sepal width (cm)  petal length (cm)  petal width (cm)  \\\n",
       "0                5.1               3.5                1.4               0.2   \n",
       "1                4.9               3.0                1.4               0.2   \n",
       "2                4.7               3.2                1.3               0.2   \n",
       "\n",
       "   label  \n",
       "0      0  \n",
       "1      0  \n",
       "2      0  "
      ]
     },
     "execution_count": 5,
     "metadata": {},
     "output_type": "execute_result"
    }
   ],
   "source": [
    "import pandas as pd\n",
    "\n",
    "# 붓꽃 데이터 세트를 로딩합니다.\n",
    "iris = load_iris()\n",
    "\n",
    "#iris.data에 iris 데이터셋에서 특성(feature)만으로 된 데이터를 numpy배열로 저장.\n",
    "iris_data = iris.data\n",
    "\n",
    "#iris.target에 Iris 데이터셋의 클래스(=레이블=결정 값)에 해당하는 값들을 NumPy 배열로 저장\n",
    "iris_label = iris.target \n",
    "\n",
    "print('iris target값:', iris_label) # Iris 데이터셋의 클래스 레이블 값을 확인\n",
    "print('iris target명:',iris.target_names) #Iris 데이터셋의 클래스 레이블에 해당하는 이름을 확인\n",
    "\n",
    "\n",
    "#iris_data를 기반으로 DataFrame을 생성하고, \n",
    "#열(column) 이름으로 iris.feature_names를 사용하여 각 특성에 해당하는 열 이름을 지정\n",
    "iris_df = pd.DataFrame(data=iris_data, columns=iris.feature_names)\n",
    "\n",
    "#iris_df에 'label'이라는 새로운 열을 추가하고, 해당 열에 iris.target 값을 할당\n",
    "iris_df['label']=iris.target\n",
    "iris_df.head(3)"
   ]
  },
  {
   "cell_type": "code",
   "execution_count": 6,
   "id": "148a9adc",
   "metadata": {
    "scrolled": true
   },
   "outputs": [
    {
     "name": "stdout",
     "output_type": "stream",
     "text": [
      "<class 'pandas.core.frame.DataFrame'>\n",
      "RangeIndex: 150 entries, 0 to 149\n",
      "Data columns (total 5 columns):\n",
      " #   Column             Non-Null Count  Dtype  \n",
      "---  ------             --------------  -----  \n",
      " 0   sepal length (cm)  150 non-null    float64\n",
      " 1   sepal width (cm)   150 non-null    float64\n",
      " 2   petal length (cm)  150 non-null    float64\n",
      " 3   petal width (cm)   150 non-null    float64\n",
      " 4   label              150 non-null    int32  \n",
      "dtypes: float64(4), int32(1)\n",
      "memory usage: 5.4 KB\n"
     ]
    }
   ],
   "source": [
    "iris_df.info()"
   ]
  },
  {
   "cell_type": "markdown",
   "id": "83a25579",
   "metadata": {},
   "source": [
    "위의 내용은 데이터 분석을 위해 사용되는 Python 패키지인 Pandas를 이용하여 DataFrame 객체를 생성한 것입니다. \n",
    "\n",
    "150개의 데이터가 포함되어 있으며, 5개의 열(column)로 구성되어 있습니다. 열(column)은 \"sepal length (cm)\", \"sepal width (cm)\", \"petal length (cm)\", \"petal width (cm)\", \"label\"로 구성되어 있습니다. \n",
    "\n",
    "또한, 열(column)은 각각 float64와 int32로 데이터 타입이 지정되어 있습니다. \n",
    "\n",
    "각 열(column)은 아래와 같은 데이터를 나타냅니다.\n",
    "- sepal length (cm) : 꽃받침(sepal)의 길이를 센티미터(cm) 단위로 나타낸 값\n",
    "- sepal width (cm) : 꽃받침(sepal)의 너비를 센티미터(cm) 단위로 나타낸 값\n",
    "- petal length (cm) : 꽃잎(petal)의 길이를 센티미터(cm) 단위로 나타낸 값\n",
    "- petal width (cm) : 꽃잎(petal)의 너비를 센티미터(cm) 단위로 나타낸 값\n",
    "- label : 붓꽃의 종류를 나타내는 값으로, 0, 1, 2 중 하나의 값을 가집니다."
   ]
  },
  {
   "cell_type": "code",
   "execution_count": 8,
   "id": "689db6d1",
   "metadata": {},
   "outputs": [],
   "source": [
    "X_train, X_test,y_train,y_test = train_test_split(iris_data,iris_label,\n",
    "                                                 test_size=0.2, random_state=11)"
   ]
  },
  {
   "cell_type": "markdown",
   "id": "829057e5",
   "metadata": {},
   "source": [
    "위 코드는 머신러닝 모델을 학습시키기 위해 전체 데이터셋을 학습 데이터와 테스트 데이터로 나누는 과정을 수행하는 코드입니다.\n",
    "\n",
    "- iris_data : 붓꽃 데이터의 feature 값들을 담고 있는 데이터 프레임입니다.\n",
    "- iris_label : 붓꽃 데이터의 label 값을 담고 있는 데이터 프레임입니다.\n",
    "- test_size : 전체 데이터셋에서 테스트 데이터셋의 비율을 설정하는 값입니다. 위 코드에서는 전체 데이터셋의 20%가 테스트 데이터셋으로 사용됩니다.\n",
    "- random_state : 데이터셋을 나누는 과정에서 랜덤으로 나누기 때문에, 결과를 재현하기 위한 시드값입니다. 위 코드에서는 11을 시드값으로 사용합니다.\n",
    "\n",
    "위 코드를 실행하면, 학습에 사용될 데이터와 레이블을 담은 X_train과 y_train, 그리고 테스트에 사용될 데이터와 레이블을 담은 X_test와 y_test가 반환됩니다. 이렇게 나뉘어진 데이터셋을 이용하여 머신러닝 모델을 학습시키고, 테스트를 수행할 수 있습니다."
   ]
  },
  {
   "cell_type": "code",
   "execution_count": 9,
   "id": "d572f63c",
   "metadata": {},
   "outputs": [
    {
     "data": {
      "text/plain": [
       "120"
      ]
     },
     "execution_count": 9,
     "metadata": {},
     "output_type": "execute_result"
    }
   ],
   "source": [
    "len(X_train)\n",
    "\n",
    "# 위 코드에서는 전체 데이터셋에서 20%를 테스트 데이터셋으로 사용하고 있으므로, \n",
    "# 학습에 사용되는 데이터의 개수는 전체 데이터셋(150개)에서 테스트 데이터셋(20%)을 제외한 나머지인 \n",
    "# 80%의 개수인 120개입니다. 따라서 len(X_train)을 실행하면 120이 출력됩니다."
   ]
  },
  {
   "cell_type": "code",
   "execution_count": 14,
   "id": "ff5afed2",
   "metadata": {},
   "outputs": [
    {
     "data": {
      "text/html": [
       "<style>#sk-container-id-3 {color: black;background-color: white;}#sk-container-id-3 pre{padding: 0;}#sk-container-id-3 div.sk-toggleable {background-color: white;}#sk-container-id-3 label.sk-toggleable__label {cursor: pointer;display: block;width: 100%;margin-bottom: 0;padding: 0.3em;box-sizing: border-box;text-align: center;}#sk-container-id-3 label.sk-toggleable__label-arrow:before {content: \"▸\";float: left;margin-right: 0.25em;color: #696969;}#sk-container-id-3 label.sk-toggleable__label-arrow:hover:before {color: black;}#sk-container-id-3 div.sk-estimator:hover label.sk-toggleable__label-arrow:before {color: black;}#sk-container-id-3 div.sk-toggleable__content {max-height: 0;max-width: 0;overflow: hidden;text-align: left;background-color: #f0f8ff;}#sk-container-id-3 div.sk-toggleable__content pre {margin: 0.2em;color: black;border-radius: 0.25em;background-color: #f0f8ff;}#sk-container-id-3 input.sk-toggleable__control:checked~div.sk-toggleable__content {max-height: 200px;max-width: 100%;overflow: auto;}#sk-container-id-3 input.sk-toggleable__control:checked~label.sk-toggleable__label-arrow:before {content: \"▾\";}#sk-container-id-3 div.sk-estimator input.sk-toggleable__control:checked~label.sk-toggleable__label {background-color: #d4ebff;}#sk-container-id-3 div.sk-label input.sk-toggleable__control:checked~label.sk-toggleable__label {background-color: #d4ebff;}#sk-container-id-3 input.sk-hidden--visually {border: 0;clip: rect(1px 1px 1px 1px);clip: rect(1px, 1px, 1px, 1px);height: 1px;margin: -1px;overflow: hidden;padding: 0;position: absolute;width: 1px;}#sk-container-id-3 div.sk-estimator {font-family: monospace;background-color: #f0f8ff;border: 1px dotted black;border-radius: 0.25em;box-sizing: border-box;margin-bottom: 0.5em;}#sk-container-id-3 div.sk-estimator:hover {background-color: #d4ebff;}#sk-container-id-3 div.sk-parallel-item::after {content: \"\";width: 100%;border-bottom: 1px solid gray;flex-grow: 1;}#sk-container-id-3 div.sk-label:hover label.sk-toggleable__label {background-color: #d4ebff;}#sk-container-id-3 div.sk-serial::before {content: \"\";position: absolute;border-left: 1px solid gray;box-sizing: border-box;top: 0;bottom: 0;left: 50%;z-index: 0;}#sk-container-id-3 div.sk-serial {display: flex;flex-direction: column;align-items: center;background-color: white;padding-right: 0.2em;padding-left: 0.2em;position: relative;}#sk-container-id-3 div.sk-item {position: relative;z-index: 1;}#sk-container-id-3 div.sk-parallel {display: flex;align-items: stretch;justify-content: center;background-color: white;position: relative;}#sk-container-id-3 div.sk-item::before, #sk-container-id-3 div.sk-parallel-item::before {content: \"\";position: absolute;border-left: 1px solid gray;box-sizing: border-box;top: 0;bottom: 0;left: 50%;z-index: -1;}#sk-container-id-3 div.sk-parallel-item {display: flex;flex-direction: column;z-index: 1;position: relative;background-color: white;}#sk-container-id-3 div.sk-parallel-item:first-child::after {align-self: flex-end;width: 50%;}#sk-container-id-3 div.sk-parallel-item:last-child::after {align-self: flex-start;width: 50%;}#sk-container-id-3 div.sk-parallel-item:only-child::after {width: 0;}#sk-container-id-3 div.sk-dashed-wrapped {border: 1px dashed gray;margin: 0 0.4em 0.5em 0.4em;box-sizing: border-box;padding-bottom: 0.4em;background-color: white;}#sk-container-id-3 div.sk-label label {font-family: monospace;font-weight: bold;display: inline-block;line-height: 1.2em;}#sk-container-id-3 div.sk-label-container {text-align: center;}#sk-container-id-3 div.sk-container {/* jupyter's `normalize.less` sets `[hidden] { display: none; }` but bootstrap.min.css set `[hidden] { display: none !important; }` so we also need the `!important` here to be able to override the default hidden behavior on the sphinx rendered scikit-learn.org. See: https://github.com/scikit-learn/scikit-learn/issues/21755 */display: inline-block !important;position: relative;}#sk-container-id-3 div.sk-text-repr-fallback {display: none;}</style><div id=\"sk-container-id-3\" class=\"sk-top-container\"><div class=\"sk-text-repr-fallback\"><pre>DecisionTreeClassifier(random_state=11)</pre><b>In a Jupyter environment, please rerun this cell to show the HTML representation or trust the notebook. <br />On GitHub, the HTML representation is unable to render, please try loading this page with nbviewer.org.</b></div><div class=\"sk-container\" hidden><div class=\"sk-item\"><div class=\"sk-estimator sk-toggleable\"><input class=\"sk-toggleable__control sk-hidden--visually\" id=\"sk-estimator-id-3\" type=\"checkbox\" checked><label for=\"sk-estimator-id-3\" class=\"sk-toggleable__label sk-toggleable__label-arrow\">DecisionTreeClassifier</label><div class=\"sk-toggleable__content\"><pre>DecisionTreeClassifier(random_state=11)</pre></div></div></div></div></div>"
      ],
      "text/plain": [
       "DecisionTreeClassifier(random_state=11)"
      ]
     },
     "execution_count": 14,
     "metadata": {},
     "output_type": "execute_result"
    }
   ],
   "source": [
    "# DecisionTreeClassifier 객체 생성 \n",
    "df_clf = DecisionTreeClassifier(random_state =11)\n",
    "\n",
    "#학습 수행\n",
    "df_clf.fit(X_train, y_train)"
   ]
  },
  {
   "cell_type": "markdown",
   "id": "23b46c89",
   "metadata": {},
   "source": [
    "🔍 사용자 쿼리에서는 DecisionTreeClassifier 객체를 생성하고 학습을 수행하는 코드가 포함되어 있습니다. 이 코드는 머신러닝에서 의사결정나무(Decision Tree) 알고리즘을 사용하여 학습을 수행하는 코드입니다. \n",
    "\n",
    "DecisionTreeClassifier 객체 생성 코드에서는 random_state를 11로 설정하여 랜덤 시드를 고정하고, X_train과 y_train 데이터를 사용하여 학습을 수행합니다."
   ]
  },
  {
   "cell_type": "code",
   "execution_count": 12,
   "id": "5c3f511c",
   "metadata": {},
   "outputs": [],
   "source": [
    "#학습이 완료된 DecisionTreeClassifier 객체에서 테스트 데이터 세트로 예측 수행\n",
    "pred = dt_clf.predict(X_test)"
   ]
  },
  {
   "cell_type": "markdown",
   "id": "c40a6a89",
   "metadata": {},
   "source": [
    "위 코드는 학습이 완료된 의사결정나무(Decision Tree) 모델인 dt_clf를 사용하여, X_test 데이터셋에 대한 예측값을 구하는 코드입니다. predict() 메서드는 모델에 입력 데이터를 주면, 모델이 예측한 결과값을 반환합니다. 이 코드에서는 dt_clf 모델에 X_test 데이터셋을 입력하여, 각 붓꽃에 대한 품종 예측 결과를 반환하고, 이를 pred 변수에 저장하고 있습니다."
   ]
  },
  {
   "cell_type": "code",
   "execution_count": 13,
   "id": "e70c60eb",
   "metadata": {},
   "outputs": [
    {
     "name": "stdout",
     "output_type": "stream",
     "text": [
      "예측 정확도:0.9333\n"
     ]
    }
   ],
   "source": [
    "from sklearn.metrics import accuracy_score\n",
    "print('예측 정확도:{0:.4f}'.format(accuracy_score(y_test,pred)))"
   ]
  },
  {
   "cell_type": "markdown",
   "id": "50d99f8e",
   "metadata": {},
   "source": [
    "위 코드에서 출력된 0.9333은 붓꽃 데이터셋에 대한 의사결정나무(Decision Tree) 모델의 예측 정확도입니다. \n",
    "\n",
    "accuracy_score() 함수는 y_test와 pred 값을 비교하여 일치하는 비율을 계산합니다. 따라서 y_test 데이터셋과 pred 변수에 저장된 각 붓꽃에 대한 품종 예측값을 비교하여, 전체 붓꽃 데이터셋에서 정확하게 예측한 비율을 계산한 결과가 0.9333이 나오게 됩니다.\n",
    "\n",
    "이는 의사결정나무 모델이 붓꽃 데이터셋에서 새로운 데이터를 93.33% 정확도로 예측할 수 있다는 것을 의미합니다.\n",
    "\n",
    "format() 메서드를 사용하여 예측 정확도를 소수점 4자리까지 출력하고 있습니다."
   ]
  },
  {
   "cell_type": "code",
   "execution_count": null,
   "id": "29c7ee11",
   "metadata": {},
   "outputs": [],
   "source": []
  }
 ],
 "metadata": {
  "kernelspec": {
   "display_name": "Python 3 (ipykernel)",
   "language": "python",
   "name": "python3"
  },
  "language_info": {
   "codemirror_mode": {
    "name": "ipython",
    "version": 3
   },
   "file_extension": ".py",
   "mimetype": "text/x-python",
   "name": "python",
   "nbconvert_exporter": "python",
   "pygments_lexer": "ipython3",
   "version": "3.10.9"
  }
 },
 "nbformat": 4,
 "nbformat_minor": 5
}

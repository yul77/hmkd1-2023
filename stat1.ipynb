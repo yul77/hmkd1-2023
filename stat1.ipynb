{
 "cells": [
  {
   "cell_type": "markdown",
   "id": "53004b40",
   "metadata": {},
   "source": [
    "## 1차원 데이터"
   ]
  },
  {
   "cell_type": "code",
   "execution_count": 1,
   "id": "7667f433",
   "metadata": {},
   "outputs": [
    {
     "data": {
      "text/html": [
       "<div>\n",
       "<style scoped>\n",
       "    .dataframe tbody tr th:only-of-type {\n",
       "        vertical-align: middle;\n",
       "    }\n",
       "\n",
       "    .dataframe tbody tr th {\n",
       "        vertical-align: top;\n",
       "    }\n",
       "\n",
       "    .dataframe thead th {\n",
       "        text-align: right;\n",
       "    }\n",
       "</style>\n",
       "<table border=\"1\" class=\"dataframe\">\n",
       "  <thead>\n",
       "    <tr style=\"text-align: right;\">\n",
       "      <th></th>\n",
       "      <th>english</th>\n",
       "      <th>mathematics</th>\n",
       "    </tr>\n",
       "    <tr>\n",
       "      <th>student number</th>\n",
       "      <th></th>\n",
       "      <th></th>\n",
       "    </tr>\n",
       "  </thead>\n",
       "  <tbody>\n",
       "    <tr>\n",
       "      <th>1</th>\n",
       "      <td>42</td>\n",
       "      <td>65</td>\n",
       "    </tr>\n",
       "    <tr>\n",
       "      <th>2</th>\n",
       "      <td>69</td>\n",
       "      <td>80</td>\n",
       "    </tr>\n",
       "    <tr>\n",
       "      <th>3</th>\n",
       "      <td>56</td>\n",
       "      <td>63</td>\n",
       "    </tr>\n",
       "    <tr>\n",
       "      <th>4</th>\n",
       "      <td>41</td>\n",
       "      <td>63</td>\n",
       "    </tr>\n",
       "    <tr>\n",
       "      <th>5</th>\n",
       "      <td>57</td>\n",
       "      <td>76</td>\n",
       "    </tr>\n",
       "  </tbody>\n",
       "</table>\n",
       "</div>"
      ],
      "text/plain": [
       "                english  mathematics\n",
       "student number                      \n",
       "1                    42           65\n",
       "2                    69           80\n",
       "3                    56           63\n",
       "4                    41           63\n",
       "5                    57           76"
      ]
     },
     "execution_count": 1,
     "metadata": {},
     "output_type": "execute_result"
    }
   ],
   "source": [
    "import numpy as np\n",
    "import pandas as pd\n",
    "df=pd.read_csv('./data/ch2_scores_em.csv',index_col='student number') #.이 하나면 같은 폴더 ..면 상위폴더\n",
    "df.head()"
   ]
  },
  {
   "cell_type": "code",
   "execution_count": 3,
   "id": "2e514db4",
   "metadata": {
    "scrolled": true
   },
   "outputs": [
    {
     "data": {
      "text/plain": [
       "array([42, 69, 56, 41, 57, 48, 65, 49, 65, 58], dtype=int64)"
      ]
     },
     "execution_count": 3,
     "metadata": {},
     "output_type": "execute_result"
    }
   ],
   "source": [
    "scores=np.array(df.english)[:10]\n",
    "scores"
   ]
  },
  {
   "cell_type": "code",
   "execution_count": 65,
   "id": "2d8ad261",
   "metadata": {},
   "outputs": [
    {
     "data": {
      "text/html": [
       "<div>\n",
       "<style scoped>\n",
       "    .dataframe tbody tr th:only-of-type {\n",
       "        vertical-align: middle;\n",
       "    }\n",
       "\n",
       "    .dataframe tbody tr th {\n",
       "        vertical-align: top;\n",
       "    }\n",
       "\n",
       "    .dataframe thead th {\n",
       "        text-align: right;\n",
       "    }\n",
       "</style>\n",
       "<table border=\"1\" class=\"dataframe\">\n",
       "  <thead>\n",
       "    <tr style=\"text-align: right;\">\n",
       "      <th></th>\n",
       "      <th>score</th>\n",
       "    </tr>\n",
       "  </thead>\n",
       "  <tbody>\n",
       "    <tr>\n",
       "      <th>A</th>\n",
       "      <td>42</td>\n",
       "    </tr>\n",
       "    <tr>\n",
       "      <th>B</th>\n",
       "      <td>69</td>\n",
       "    </tr>\n",
       "    <tr>\n",
       "      <th>C</th>\n",
       "      <td>56</td>\n",
       "    </tr>\n",
       "    <tr>\n",
       "      <th>D</th>\n",
       "      <td>41</td>\n",
       "    </tr>\n",
       "    <tr>\n",
       "      <th>E</th>\n",
       "      <td>57</td>\n",
       "    </tr>\n",
       "  </tbody>\n",
       "</table>\n",
       "</div>"
      ],
      "text/plain": [
       "   score\n",
       "A     42\n",
       "B     69\n",
       "C     56\n",
       "D     41\n",
       "E     57"
      ]
     },
     "execution_count": 65,
     "metadata": {},
     "output_type": "execute_result"
    }
   ],
   "source": [
    "scores_df=pd.DataFrame({'score':scores},index=list('ABCDEFGHIJ'))\n",
    "scores_df.head()"
   ]
  },
  {
   "cell_type": "code",
   "execution_count": 66,
   "id": "8af521c5",
   "metadata": {},
   "outputs": [
    {
     "data": {
      "text/html": [
       "<div>\n",
       "<style scoped>\n",
       "    .dataframe tbody tr th:only-of-type {\n",
       "        vertical-align: middle;\n",
       "    }\n",
       "\n",
       "    .dataframe tbody tr th {\n",
       "        vertical-align: top;\n",
       "    }\n",
       "\n",
       "    .dataframe thead th {\n",
       "        text-align: right;\n",
       "    }\n",
       "</style>\n",
       "<table border=\"1\" class=\"dataframe\">\n",
       "  <thead>\n",
       "    <tr style=\"text-align: right;\">\n",
       "      <th></th>\n",
       "      <th>score</th>\n",
       "    </tr>\n",
       "    <tr>\n",
       "      <th>student</th>\n",
       "      <th></th>\n",
       "    </tr>\n",
       "  </thead>\n",
       "  <tbody>\n",
       "    <tr>\n",
       "      <th>A</th>\n",
       "      <td>42</td>\n",
       "    </tr>\n",
       "    <tr>\n",
       "      <th>B</th>\n",
       "      <td>69</td>\n",
       "    </tr>\n",
       "    <tr>\n",
       "      <th>C</th>\n",
       "      <td>56</td>\n",
       "    </tr>\n",
       "    <tr>\n",
       "      <th>D</th>\n",
       "      <td>41</td>\n",
       "    </tr>\n",
       "    <tr>\n",
       "      <th>E</th>\n",
       "      <td>57</td>\n",
       "    </tr>\n",
       "    <tr>\n",
       "      <th>F</th>\n",
       "      <td>48</td>\n",
       "    </tr>\n",
       "    <tr>\n",
       "      <th>G</th>\n",
       "      <td>65</td>\n",
       "    </tr>\n",
       "    <tr>\n",
       "      <th>H</th>\n",
       "      <td>49</td>\n",
       "    </tr>\n",
       "    <tr>\n",
       "      <th>I</th>\n",
       "      <td>65</td>\n",
       "    </tr>\n",
       "    <tr>\n",
       "      <th>J</th>\n",
       "      <td>58</td>\n",
       "    </tr>\n",
       "  </tbody>\n",
       "</table>\n",
       "</div>"
      ],
      "text/plain": [
       "         score\n",
       "student       \n",
       "A           42\n",
       "B           69\n",
       "C           56\n",
       "D           41\n",
       "E           57\n",
       "F           48\n",
       "G           65\n",
       "H           49\n",
       "I           65\n",
       "J           58"
      ]
     },
     "execution_count": 66,
     "metadata": {},
     "output_type": "execute_result"
    }
   ],
   "source": [
    "scores_df=pd.DataFrame({'score':scores},\n",
    "                       index=pd.Index(list('ABCDEFGHIJ'),name='student')) #인덱스에 이름을 주기위한 방식\n",
    "scores_df"
   ]
  },
  {
   "cell_type": "code",
   "execution_count": 67,
   "id": "74d61f64",
   "metadata": {},
   "outputs": [
    {
     "name": "stdout",
     "output_type": "stream",
     "text": [
      "55.0\n",
      "55.0\n"
     ]
    }
   ],
   "source": [
    "#평균값 - 배열\n",
    "print(sum(scores)/len(scores))\n",
    "\n",
    "print(np.mean(scores))"
   ]
  },
  {
   "cell_type": "code",
   "execution_count": 68,
   "id": "7cb06b83",
   "metadata": {},
   "outputs": [
    {
     "data": {
      "text/plain": [
       "score    55.0\n",
       "dtype: float64"
      ]
     },
     "execution_count": 68,
     "metadata": {},
     "output_type": "execute_result"
    }
   ],
   "source": [
    "#평균값 - 데이터프레임\n",
    "scores_df.mean()"
   ]
  },
  {
   "cell_type": "code",
   "execution_count": 69,
   "id": "0423fe20",
   "metadata": {},
   "outputs": [
    {
     "name": "stdout",
     "output_type": "stream",
     "text": [
      "56.5\n",
      "score    56.5\n",
      "dtype: float64\n"
     ]
    }
   ],
   "source": [
    "#중앙값\n",
    "print(np.median(scores))\n",
    "print(scores_df.median())"
   ]
  },
  {
   "cell_type": "code",
   "execution_count": 70,
   "id": "cbb8ee49",
   "metadata": {},
   "outputs": [
    {
     "data": {
      "text/plain": [
       "<AxesSubplot:ylabel='Frequency'>"
      ]
     },
     "execution_count": 70,
     "metadata": {},
     "output_type": "execute_result"
    },
    {
     "data": {
      "image/png": "[encoded data removed]",
      "text/plain": [
       "<Figure size 640x480 with 1 Axes>"
      ]
     },
     "metadata": {},
     "output_type": "display_data"
    }
   ],
   "source": [
    "scores_df.plot(kind='hist')"
   ]
  },
  {
   "cell_type": "code",
   "execution_count": 36,
   "id": "13077d49",
   "metadata": {},
   "outputs": [
    {
     "data": {
      "text/plain": [
       "array([41, 42, 48, 49, 56, 57, 58, 65, 65, 69], dtype=int64)"
      ]
     },
     "execution_count": 36,
     "metadata": {},
     "output_type": "execute_result"
    }
   ],
   "source": [
    "sorted_scores=np.sort(scores)\n",
    "sorted_scores"
   ]
  },
  {
   "cell_type": "code",
   "execution_count": 37,
   "id": "3a20d868",
   "metadata": {},
   "outputs": [
    {
     "data": {
      "text/plain": [
       "56.5"
      ]
     },
     "execution_count": 37,
     "metadata": {},
     "output_type": "execute_result"
    }
   ],
   "source": [
    "#중앙값 구하기(정렬된 리스트 중간값 2개의 합/2)\n",
    "(56+57)/2"
   ]
  },
  {
   "cell_type": "code",
   "execution_count": 38,
   "id": "b3b1020d",
   "metadata": {},
   "outputs": [
    {
     "data": {
      "text/plain": [
       "56.5"
      ]
     },
     "execution_count": 38,
     "metadata": {},
     "output_type": "execute_result"
    }
   ],
   "source": [
    "#식으로 구하여랴\n",
    "n=len(sorted_scores)\n",
    "if n%2==0:\n",
    "    m0=sorted_scores[n//2-1] #짝수구하기: n=10\n",
    "    m1=sorted_scores[n//2]\n",
    "    median=(m0+m1)/2\n",
    "else:\n",
    "    median = sorted_scores[(n+1)//2-1] #홀수일 땐 여기의 n은 9\n",
    "median"
   ]
  },
  {
   "cell_type": "code",
   "execution_count": 39,
   "id": "ad4ccd07",
   "metadata": {},
   "outputs": [
    {
     "data": {
      "text/html": [
       "<div>\n",
       "<style scoped>\n",
       "    .dataframe tbody tr th:only-of-type {\n",
       "        vertical-align: middle;\n",
       "    }\n",
       "\n",
       "    .dataframe tbody tr th {\n",
       "        vertical-align: top;\n",
       "    }\n",
       "\n",
       "    .dataframe thead th {\n",
       "        text-align: right;\n",
       "    }\n",
       "</style>\n",
       "<table border=\"1\" class=\"dataframe\">\n",
       "  <thead>\n",
       "    <tr style=\"text-align: right;\">\n",
       "      <th></th>\n",
       "      <th>score</th>\n",
       "    </tr>\n",
       "  </thead>\n",
       "  <tbody>\n",
       "    <tr>\n",
       "      <th>0</th>\n",
       "      <td>65</td>\n",
       "    </tr>\n",
       "  </tbody>\n",
       "</table>\n",
       "</div>"
      ],
      "text/plain": [
       "   score\n",
       "0     65"
      ]
     },
     "execution_count": 39,
     "metadata": {},
     "output_type": "execute_result"
    }
   ],
   "source": [
    "#최빈값 :빈도수가 가장 많은 것.\n",
    "scores_df.mode()"
   ]
  },
  {
   "cell_type": "code",
   "execution_count": 40,
   "id": "143bdaa4",
   "metadata": {},
   "outputs": [
    {
     "data": {
      "text/plain": [
       "0    65\n",
       "dtype: int64"
      ]
     },
     "execution_count": 40,
     "metadata": {},
     "output_type": "execute_result"
    }
   ],
   "source": [
    "pd.Series(sorted_scores).mode() #시리즈로 바꿔서 구할수도 있다. "
   ]
  },
  {
   "cell_type": "code",
   "execution_count": 41,
   "id": "43595b1c",
   "metadata": {},
   "outputs": [
    {
     "data": {
      "text/html": [
       "<div>\n",
       "<style scoped>\n",
       "    .dataframe tbody tr th:only-of-type {\n",
       "        vertical-align: middle;\n",
       "    }\n",
       "\n",
       "    .dataframe tbody tr th {\n",
       "        vertical-align: top;\n",
       "    }\n",
       "\n",
       "    .dataframe thead th {\n",
       "        text-align: right;\n",
       "    }\n",
       "</style>\n",
       "<table border=\"1\" class=\"dataframe\">\n",
       "  <thead>\n",
       "    <tr style=\"text-align: right;\">\n",
       "      <th></th>\n",
       "      <th>score</th>\n",
       "    </tr>\n",
       "  </thead>\n",
       "  <tbody>\n",
       "    <tr>\n",
       "      <th>count</th>\n",
       "      <td>10.000000</td>\n",
       "    </tr>\n",
       "    <tr>\n",
       "      <th>mean</th>\n",
       "      <td>49.300000</td>\n",
       "    </tr>\n",
       "    <tr>\n",
       "      <th>std</th>\n",
       "      <td>19.556471</td>\n",
       "    </tr>\n",
       "    <tr>\n",
       "      <th>min</th>\n",
       "      <td>1.000000</td>\n",
       "    </tr>\n",
       "    <tr>\n",
       "      <th>25%</th>\n",
       "      <td>43.500000</td>\n",
       "    </tr>\n",
       "    <tr>\n",
       "      <th>50%</th>\n",
       "      <td>52.500000</td>\n",
       "    </tr>\n",
       "    <tr>\n",
       "      <th>75%</th>\n",
       "      <td>63.000000</td>\n",
       "    </tr>\n",
       "    <tr>\n",
       "      <th>max</th>\n",
       "      <td>69.000000</td>\n",
       "    </tr>\n",
       "  </tbody>\n",
       "</table>\n",
       "</div>"
      ],
      "text/plain": [
       "           score\n",
       "count  10.000000\n",
       "mean   49.300000\n",
       "std    19.556471\n",
       "min     1.000000\n",
       "25%    43.500000\n",
       "50%    52.500000\n",
       "75%    63.000000\n",
       "max    69.000000"
      ]
     },
     "execution_count": 41,
     "metadata": {},
     "output_type": "execute_result"
    }
   ],
   "source": [
    "scores_df.describe()"
   ]
  },
  {
   "cell_type": "code",
   "execution_count": 42,
   "id": "ce4c1e59",
   "metadata": {},
   "outputs": [
    {
     "data": {
      "text/plain": [
       "<AxesSubplot:xlabel='score', ylabel='Density'>"
      ]
     },
     "execution_count": 42,
     "metadata": {},
     "output_type": "execute_result"
    },
    {
     "data": {
      "image/png": "[encoded data removed]",
      "text/plain": [
       "<Figure size 640x480 with 1 Axes>"
      ]
     },
     "metadata": {},
     "output_type": "display_data"
    }
   ],
   "source": [
    "import seaborn as sns\n",
    "sns.kdeplot(data=scores_df,x='score')"
   ]
  },
  {
   "cell_type": "code",
   "execution_count": 44,
   "id": "89ca5166",
   "metadata": {
    "scrolled": false
   },
   "outputs": [
    {
     "data": {
      "text/plain": [
       "<AxesSubplot:xlabel='score', ylabel='Count'>"
      ]
     },
     "execution_count": 44,
     "metadata": {},
     "output_type": "execute_result"
    },
    {
     "data": {
      "image/png": "[encoded data removed]",
      "text/plain": [
       "<Figure size 640x480 with 1 Axes>"
      ]
     },
     "metadata": {},
     "output_type": "display_data"
    }
   ],
   "source": [
    "#평균값 >중앙값\n",
    "scores_df_b=scores_df.copy()\n",
    "scores_df_b.iloc[9,0]= 300\n",
    "sns.histplot(data=scores_df_b,x='score',kde=True)\n",
    "#극단적으로 큰 숫자가 있게 되면 평균이 중앙값보다 오른쪽에 있게 되고\n"
   ]
  },
  {
   "cell_type": "code",
   "execution_count": 45,
   "id": "1cb20a76",
   "metadata": {},
   "outputs": [
    {
     "data": {
      "text/plain": [
       "<AxesSubplot:xlabel='score', ylabel='Count'>"
      ]
     },
     "execution_count": 45,
     "metadata": {},
     "output_type": "execute_result"
    },
    {
     "data": {
      "image/png": "[encoded data removed]",
      "text/plain": [
       "<Figure size 640x480 with 1 Axes>"
      ]
     },
     "metadata": {},
     "output_type": "display_data"
    }
   ],
   "source": [
    "#평균값 < 중앙값\n",
    "scores_df_a=scores_df.copy()\n",
    "scores_df_a.iloc[9,0]= 1\n",
    "sns.histplot(data=scores_df_a,x='score',kde=True)\n",
    "#극단적으로 작은 숫자가 있게 되면 평균이 중앙값보다 작아진다. = 오른쪽으로 치우쳐짐"
   ]
  },
  {
   "cell_type": "code",
   "execution_count": 31,
   "id": "6794b519",
   "metadata": {},
   "outputs": [
    {
     "data": {
      "text/html": [
       "<div>\n",
       "<style scoped>\n",
       "    .dataframe tbody tr th:only-of-type {\n",
       "        vertical-align: middle;\n",
       "    }\n",
       "\n",
       "    .dataframe tbody tr th {\n",
       "        vertical-align: top;\n",
       "    }\n",
       "\n",
       "    .dataframe thead th {\n",
       "        text-align: right;\n",
       "    }\n",
       "</style>\n",
       "<table border=\"1\" class=\"dataframe\">\n",
       "  <thead>\n",
       "    <tr style=\"text-align: right;\">\n",
       "      <th></th>\n",
       "      <th>score</th>\n",
       "    </tr>\n",
       "  </thead>\n",
       "  <tbody>\n",
       "    <tr>\n",
       "      <th>count</th>\n",
       "      <td>10.000000</td>\n",
       "    </tr>\n",
       "    <tr>\n",
       "      <th>mean</th>\n",
       "      <td>79.200000</td>\n",
       "    </tr>\n",
       "    <tr>\n",
       "      <th>std</th>\n",
       "      <td>78.187524</td>\n",
       "    </tr>\n",
       "    <tr>\n",
       "      <th>min</th>\n",
       "      <td>41.000000</td>\n",
       "    </tr>\n",
       "    <tr>\n",
       "      <th>25%</th>\n",
       "      <td>48.250000</td>\n",
       "    </tr>\n",
       "    <tr>\n",
       "      <th>50%</th>\n",
       "      <td>56.500000</td>\n",
       "    </tr>\n",
       "    <tr>\n",
       "      <th>75%</th>\n",
       "      <td>65.000000</td>\n",
       "    </tr>\n",
       "    <tr>\n",
       "      <th>max</th>\n",
       "      <td>300.000000</td>\n",
       "    </tr>\n",
       "  </tbody>\n",
       "</table>\n",
       "</div>"
      ],
      "text/plain": [
       "            score\n",
       "count   10.000000\n",
       "mean    79.200000\n",
       "std     78.187524\n",
       "min     41.000000\n",
       "25%     48.250000\n",
       "50%     56.500000\n",
       "75%     65.000000\n",
       "max    300.000000"
      ]
     },
     "execution_count": 31,
     "metadata": {},
     "output_type": "execute_result"
    }
   ],
   "source": [
    "scores_df.describe()"
   ]
  },
  {
   "cell_type": "code",
   "execution_count": 51,
   "id": "2b84c090",
   "metadata": {},
   "outputs": [
    {
     "name": "stdout",
     "output_type": "stream",
     "text": [
      "55.0\n",
      "[42 69 56 41 57 48 65 49 65 58]\n",
      "[-13.  14.   1. -14.   2.  -7.  10.  -6.  10.   3.]\n"
     ]
    }
   ],
   "source": [
    "#데이터의 산포도 지표\n",
    "#분산과 표준편차\n",
    "#편차 (deviation)\n",
    "\n",
    "mean=np.mean(scores)\n",
    "print(mean)\n",
    "print(scores)\n",
    "deviation= scores-mean\n",
    "print(deviation) #편차의 합은 항상 0이 된다. \n"
   ]
  },
  {
   "cell_type": "code",
   "execution_count": 54,
   "id": "bbd87e54",
   "metadata": {},
   "outputs": [
    {
     "name": "stdout",
     "output_type": "stream",
     "text": [
      "0.0\n",
      "0.0\n"
     ]
    }
   ],
   "source": [
    "print(sum(deviation))\n",
    "print(np.mean(deviation)) #편차의 합은 항상 0이 되니까 편차를 제곱을 해준다.(분산)\n",
    "                         #분산:분산은 편차를 제곱한 값의 평균(실제보다 과장되므로 루트씌워준다)\n",
    "                         #분산에 루트를 씌워준게 표준편자(분산의 제곱근)\n",
    "                         #ex)√4=2"
   ]
  },
  {
   "cell_type": "markdown",
   "id": "0f29f76d",
   "metadata": {},
   "source": [
    "### 분산\n",
    "- Numpy와 Pandas는 서로 다른 분산을 기본으로 설정하여 계산. \n",
    " * Numpy는 표본분산, Pandas는 불편분산\n",
    " * Pandas에서 표본분산을 계산하려면 var 메소드의 인수를 ddof=0이라고 설정, 불편분산은 ddof=1일 때 해당됨\n",
    " \n",
    "[표본분산이 분산을 과소평가하는 이유]\n",
    "\n",
    "- 분산은 '데이터와 평균값의 간의 거리' 이므로 모평균 간의 거리를 계산 : np.sum((fish_data - mu)**2)/N  \n",
    "호수안에 물고기가 7마리 있다. 몸길이 {1,2,3,4,5,6,7}, 모평균 4,  \n",
    "샘플링 3마리 {1,2,3} 표본평균 2  .\n",
    "이때 분산은 모평균을 모르기 때문에 표본평균과의 거리를 계산하며 분산을 과소평가 하게된다.\n",
    "(표준편차를 비교해라)\n",
    "- 표본 분산 보다 조금 더 큰 값이 되도록 보정하기 위하여 N 대신 N-1로 나누어 불편분산을 구할 수 있다.\n",
    "- 불편분산:평향되지 않게 조절해준다(과소평가된걸 보완)"
   ]
  },
  {
   "cell_type": "code",
   "execution_count": 56,
   "id": "c1a20409",
   "metadata": {},
   "outputs": [
    {
     "data": {
      "text/plain": [
       "86.0"
      ]
     },
     "execution_count": 56,
     "metadata": {},
     "output_type": "execute_result"
    }
   ],
   "source": [
    "#넘파이 - 표본분산\n",
    "np.mean(deviation**2) #deviation 자승한것의 평균= 분산"
   ]
  },
  {
   "cell_type": "code",
   "execution_count": 57,
   "id": "c5b5d182",
   "metadata": {},
   "outputs": [
    {
     "data": {
      "text/plain": [
       "86.0"
      ]
     },
     "execution_count": 57,
     "metadata": {},
     "output_type": "execute_result"
    }
   ],
   "source": [
    "np.var(scores)"
   ]
  },
  {
   "cell_type": "code",
   "execution_count": 72,
   "id": "7d37bb26",
   "metadata": {},
   "outputs": [
    {
     "data": {
      "text/plain": [
       "score    95.555556\n",
       "dtype: float64"
      ]
     },
     "execution_count": 72,
     "metadata": {},
     "output_type": "execute_result"
    }
   ],
   "source": [
    "#판다스 - 불편분산\n",
    "scores_df.var() "
   ]
  },
  {
   "cell_type": "code",
   "execution_count": 61,
   "id": "5e25e26b",
   "metadata": {},
   "outputs": [],
   "source": [
    "#넘파이로 불편분산. 판다스로 표본분산 구할때 ddpf 사용하게 된다.\n",
    "#ddof=0 표본분산\n",
    "#ddof=1 불편분산"
   ]
  },
  {
   "cell_type": "code",
   "execution_count": 64,
   "id": "514401e5",
   "metadata": {},
   "outputs": [
    {
     "data": {
      "text/plain": [
       "95.55555555555556"
      ]
     },
     "execution_count": 64,
     "metadata": {},
     "output_type": "execute_result"
    }
   ],
   "source": [
    "#넘파이->불편분산\n",
    "np.var(scores,ddof=1) #=불편분산이 됨"
   ]
  },
  {
   "cell_type": "code",
   "execution_count": 73,
   "id": "44797ed6",
   "metadata": {
    "scrolled": false
   },
   "outputs": [
    {
     "data": {
      "text/plain": [
       "score    86.0\n",
       "dtype: float64"
      ]
     },
     "execution_count": 73,
     "metadata": {},
     "output_type": "execute_result"
    }
   ],
   "source": [
    "#판다스->표본분산\n",
    "scores_df.var(ddof=0)"
   ]
  },
  {
   "cell_type": "code",
   "execution_count": 75,
   "id": "2d25950a",
   "metadata": {},
   "outputs": [
    {
     "data": {
      "text/plain": [
       "9.273618495495704"
      ]
     },
     "execution_count": 75,
     "metadata": {},
     "output_type": "execute_result"
    }
   ],
   "source": [
    "#표준편차\n",
    "np.sqrt(np.var(scores,ddof=0)) #sqrt:스퀘어 루트=루트씌우는 함수\n",
    "np.std(scores,ddof=0)  #std: 표준편차 구하는 식"
   ]
  },
  {
   "cell_type": "code",
   "execution_count": 76,
   "id": "043b36c4",
   "metadata": {},
   "outputs": [
    {
     "data": {
      "text/plain": [
       "28"
      ]
     },
     "execution_count": 76,
     "metadata": {},
     "output_type": "execute_result"
    }
   ],
   "source": [
    "#범위와 4분위\n",
    "#범위: 가장 큰 수-가장 작은 수\n",
    "np.max(scores)-np.min(scores)"
   ]
  },
  {
   "cell_type": "code",
   "execution_count": 78,
   "id": "3848e57f",
   "metadata": {},
   "outputs": [
    {
     "data": {
      "text/plain": [
       "15.0"
      ]
     },
     "execution_count": 78,
     "metadata": {},
     "output_type": "execute_result"
    }
   ],
   "source": [
    "#4분위\n",
    "scores_Q1=np.percentile(scores,25)\n",
    "scores_Q3=np.percentile(scores,75)\n",
    "scores_IQR=scores_Q3-scores_Q1\n",
    "scores_IQR"
   ]
  },
  {
   "cell_type": "code",
   "execution_count": 79,
   "id": "492ed274",
   "metadata": {},
   "outputs": [
    {
     "data": {
      "text/plain": [
       "count    10.000000\n",
       "mean     55.000000\n",
       "std       9.775252\n",
       "min      41.000000\n",
       "25%      48.250000\n",
       "50%      56.500000\n",
       "75%      63.250000\n",
       "max      69.000000\n",
       "dtype: float64"
      ]
     },
     "execution_count": 79,
     "metadata": {},
     "output_type": "execute_result"
    }
   ],
   "source": [
    "pd.Series(scores).describe()  #스코어를 판다스로 바꿔야 describe 사용 가능."
   ]
  },
  {
   "cell_type": "code",
   "execution_count": 82,
   "id": "90711ac2",
   "metadata": {},
   "outputs": [
    {
     "name": "stdout",
     "output_type": "stream",
     "text": [
      "[42 69 56 41 57 48 65 49 65 58]\n",
      "평균:55.0, 표준편차:9.2736\n"
     ]
    }
   ],
   "source": [
    "#데이터의 정규화\n",
    "print(scores)\n",
    "print(f'평균:{scores.mean()}, 표준편차:{scores.std().round(4)}')"
   ]
  },
  {
   "cell_type": "code",
   "execution_count": 83,
   "id": "836ee107",
   "metadata": {},
   "outputs": [
    {
     "data": {
      "text/plain": [
       "array([-1.40182605,  1.50965882,  0.10783277, -1.50965882,  0.21566555,\n",
       "       -0.75482941,  1.07832773, -0.64699664,  1.07832773,  0.32349832])"
      ]
     },
     "execution_count": 83,
     "metadata": {},
     "output_type": "execute_result"
    }
   ],
   "source": [
    "#표준화\n",
    "z=(scores-np.mean(scores))/ np.std(scores) #데이터에서 평균을 뺀것을 표준편차로 나눠줌.\n",
    "z #평균이 0, 표준편차 1"
   ]
  },
  {
   "cell_type": "code",
   "execution_count": 84,
   "id": "72a4425f",
   "metadata": {},
   "outputs": [
    {
     "data": {
      "text/plain": [
       "array([42., 69., 56., 41., 57., 48., 65., 49., 65., 58.])"
      ]
     },
     "execution_count": 84,
     "metadata": {},
     "output_type": "execute_result"
    }
   ],
   "source": [
    "#z에 표준편차를 곱해주고 평균을 더해줌. =표준화를 거꾸로 한 공식\n",
    "55.0 + z*scores.std()"
   ]
  },
  {
   "cell_type": "code",
   "execution_count": 112,
   "id": "85ef78dd",
   "metadata": {},
   "outputs": [
    {
     "data": {
      "text/plain": [
       "count    50.000000\n",
       "mean     58.380000\n",
       "std       9.799813\n",
       "min      37.000000\n",
       "25%      54.000000\n",
       "50%      57.500000\n",
       "75%      65.000000\n",
       "max      79.000000\n",
       "dtype: float64"
      ]
     },
     "execution_count": 112,
     "metadata": {},
     "output_type": "execute_result"
    }
   ],
   "source": [
    "#데이터의 시각화\n",
    "english_score=np.array(df.english) #여기까지는 배열\n",
    "pd.Series(english_score).describe() #시리즈로 변경\n",
    "\n"
   ]
  },
  {
   "cell_type": "code",
   "execution_count": 86,
   "id": "3255019c",
   "metadata": {},
   "outputs": [
    {
     "data": {
      "text/plain": [
       "array([ 0,  0,  0,  2,  8, 16, 18,  6,  0,  0], dtype=int64)"
      ]
     },
     "execution_count": 86,
     "metadata": {},
     "output_type": "execute_result"
    }
   ],
   "source": [
    "#도수 분포표\n",
    "freq,_=np.histogram(english_score,bins=10, range=(0,100))\n",
    "freq\n",
    "#최소값이 37이고 최대값이 79이므로 그 사이의 값들만 출력됨. "
   ]
  },
  {
   "cell_type": "code",
   "execution_count": 88,
   "id": "d53c3e2e",
   "metadata": {},
   "outputs": [
    {
     "data": {
      "text/html": [
       "<div>\n",
       "<style scoped>\n",
       "    .dataframe tbody tr th:only-of-type {\n",
       "        vertical-align: middle;\n",
       "    }\n",
       "\n",
       "    .dataframe tbody tr th {\n",
       "        vertical-align: top;\n",
       "    }\n",
       "\n",
       "    .dataframe thead th {\n",
       "        text-align: right;\n",
       "    }\n",
       "</style>\n",
       "<table border=\"1\" class=\"dataframe\">\n",
       "  <thead>\n",
       "    <tr style=\"text-align: right;\">\n",
       "      <th></th>\n",
       "      <th>frequency</th>\n",
       "    </tr>\n",
       "    <tr>\n",
       "      <th>class</th>\n",
       "      <th></th>\n",
       "    </tr>\n",
       "  </thead>\n",
       "  <tbody>\n",
       "    <tr>\n",
       "      <th>0~10</th>\n",
       "      <td>0</td>\n",
       "    </tr>\n",
       "    <tr>\n",
       "      <th>10~20</th>\n",
       "      <td>0</td>\n",
       "    </tr>\n",
       "    <tr>\n",
       "      <th>20~30</th>\n",
       "      <td>0</td>\n",
       "    </tr>\n",
       "    <tr>\n",
       "      <th>30~40</th>\n",
       "      <td>2</td>\n",
       "    </tr>\n",
       "    <tr>\n",
       "      <th>40~50</th>\n",
       "      <td>8</td>\n",
       "    </tr>\n",
       "    <tr>\n",
       "      <th>50~60</th>\n",
       "      <td>16</td>\n",
       "    </tr>\n",
       "    <tr>\n",
       "      <th>60~70</th>\n",
       "      <td>18</td>\n",
       "    </tr>\n",
       "    <tr>\n",
       "      <th>70~80</th>\n",
       "      <td>6</td>\n",
       "    </tr>\n",
       "    <tr>\n",
       "      <th>80~90</th>\n",
       "      <td>0</td>\n",
       "    </tr>\n",
       "    <tr>\n",
       "      <th>90~100</th>\n",
       "      <td>0</td>\n",
       "    </tr>\n",
       "  </tbody>\n",
       "</table>\n",
       "</div>"
      ],
      "text/plain": [
       "        frequency\n",
       "class            \n",
       "0~10            0\n",
       "10~20           0\n",
       "20~30           0\n",
       "30~40           2\n",
       "40~50           8\n",
       "50~60          16\n",
       "60~70          18\n",
       "70~80           6\n",
       "80~90           0\n",
       "90~100          0"
      ]
     },
     "execution_count": 88,
     "metadata": {},
     "output_type": "execute_result"
    }
   ],
   "source": [
    "freq_class=[f'{i}~{i+10}'for i in range(0,100,10)]\n",
    "freq_dist_df=pd.DataFrame({'frequency':freq},index=pd.Index(freq_class,name='class'))\n",
    "freq_dist_df #도수 분포표\n",
    "#0~10이기 때문에 갯수가 11개 -홀수"
   ]
  },
  {
   "cell_type": "code",
   "execution_count": 91,
   "id": "5291a2cc",
   "metadata": {},
   "outputs": [
    {
     "data": {
      "text/plain": [
       "<AxesSubplot:xlabel='frequency', ylabel='Count'>"
      ]
     },
     "execution_count": 91,
     "metadata": {},
     "output_type": "execute_result"
    },
    {
     "data": {
      "image/png": "[encoded data removed]",
      "text/plain": [
       "<Figure size 640x480 with 1 Axes>"
      ]
     },
     "metadata": {},
     "output_type": "display_data"
    }
   ],
   "source": [
    "sns.histplot(data=freq_dist_df,x='frequency',kde=True)"
   ]
  },
  {
   "cell_type": "code",
   "execution_count": 94,
   "id": "d1227225",
   "metadata": {},
   "outputs": [
    {
     "data": {
      "text/plain": [
       "[5, 15, 25, 35, 45, 55, 65, 75, 85, 95]"
      ]
     },
     "execution_count": 94,
     "metadata": {},
     "output_type": "execute_result"
    }
   ],
   "source": [
    "#계급값: 각 계급을 대표하는 값으로 계급의 중앙값이 이용됨\n",
    "class_value=[(i+(i+10))//2 for i in range(0,100,10)]\n",
    "class_value"
   ]
  },
  {
   "cell_type": "code",
   "execution_count": 96,
   "id": "6f43ea1e",
   "metadata": {},
   "outputs": [
    {
     "data": {
      "text/plain": [
       "array([0.  , 0.  , 0.  , 0.04, 0.16, 0.32, 0.36, 0.12, 0.  , 0.  ])"
      ]
     },
     "execution_count": 96,
     "metadata": {},
     "output_type": "execute_result"
    }
   ],
   "source": [
    "#상대도수: 해당 계급 데이터의 상대적인 비율\n",
    "rel_freq=freq/freq.sum()\n",
    "rel_freq"
   ]
  },
  {
   "cell_type": "code",
   "execution_count": 97,
   "id": "ebd6f8d4",
   "metadata": {
    "scrolled": true
   },
   "outputs": [
    {
     "data": {
      "text/plain": [
       "array([0.  , 0.  , 0.  , 0.04, 0.2 , 0.52, 0.88, 1.  , 1.  , 1.  ])"
      ]
     },
     "execution_count": 97,
     "metadata": {},
     "output_type": "execute_result"
    }
   ],
   "source": [
    "#누적 상대도수: 해당 계급까지의 상대도수의 합. cum_rel_freq=누계\n",
    "cum_rel_freq=np.cumsum(rel_freq)\n",
    "cum_rel_freq"
   ]
  },
  {
   "cell_type": "code",
   "execution_count": 100,
   "id": "506b59e9",
   "metadata": {},
   "outputs": [
    {
     "data": {
      "text/html": [
       "<div>\n",
       "<style scoped>\n",
       "    .dataframe tbody tr th:only-of-type {\n",
       "        vertical-align: middle;\n",
       "    }\n",
       "\n",
       "    .dataframe tbody tr th {\n",
       "        vertical-align: top;\n",
       "    }\n",
       "\n",
       "    .dataframe thead th {\n",
       "        text-align: right;\n",
       "    }\n",
       "</style>\n",
       "<table border=\"1\" class=\"dataframe\">\n",
       "  <thead>\n",
       "    <tr style=\"text-align: right;\">\n",
       "      <th></th>\n",
       "      <th>class_value</th>\n",
       "      <th>frequency</th>\n",
       "      <th>relative_frequency</th>\n",
       "      <th>cumulative_frequency</th>\n",
       "    </tr>\n",
       "    <tr>\n",
       "      <th>class</th>\n",
       "      <th></th>\n",
       "      <th></th>\n",
       "      <th></th>\n",
       "      <th></th>\n",
       "    </tr>\n",
       "  </thead>\n",
       "  <tbody>\n",
       "    <tr>\n",
       "      <th>0~10</th>\n",
       "      <td>5</td>\n",
       "      <td>0</td>\n",
       "      <td>0.00</td>\n",
       "      <td>0.00</td>\n",
       "    </tr>\n",
       "    <tr>\n",
       "      <th>10~20</th>\n",
       "      <td>15</td>\n",
       "      <td>0</td>\n",
       "      <td>0.00</td>\n",
       "      <td>0.00</td>\n",
       "    </tr>\n",
       "    <tr>\n",
       "      <th>20~30</th>\n",
       "      <td>25</td>\n",
       "      <td>0</td>\n",
       "      <td>0.00</td>\n",
       "      <td>0.00</td>\n",
       "    </tr>\n",
       "    <tr>\n",
       "      <th>30~40</th>\n",
       "      <td>35</td>\n",
       "      <td>2</td>\n",
       "      <td>0.04</td>\n",
       "      <td>0.04</td>\n",
       "    </tr>\n",
       "    <tr>\n",
       "      <th>40~50</th>\n",
       "      <td>45</td>\n",
       "      <td>8</td>\n",
       "      <td>0.16</td>\n",
       "      <td>0.20</td>\n",
       "    </tr>\n",
       "    <tr>\n",
       "      <th>50~60</th>\n",
       "      <td>55</td>\n",
       "      <td>16</td>\n",
       "      <td>0.32</td>\n",
       "      <td>0.52</td>\n",
       "    </tr>\n",
       "    <tr>\n",
       "      <th>60~70</th>\n",
       "      <td>65</td>\n",
       "      <td>18</td>\n",
       "      <td>0.36</td>\n",
       "      <td>0.88</td>\n",
       "    </tr>\n",
       "    <tr>\n",
       "      <th>70~80</th>\n",
       "      <td>75</td>\n",
       "      <td>6</td>\n",
       "      <td>0.12</td>\n",
       "      <td>1.00</td>\n",
       "    </tr>\n",
       "    <tr>\n",
       "      <th>80~90</th>\n",
       "      <td>85</td>\n",
       "      <td>0</td>\n",
       "      <td>0.00</td>\n",
       "      <td>1.00</td>\n",
       "    </tr>\n",
       "    <tr>\n",
       "      <th>90~100</th>\n",
       "      <td>95</td>\n",
       "      <td>0</td>\n",
       "      <td>0.00</td>\n",
       "      <td>1.00</td>\n",
       "    </tr>\n",
       "  </tbody>\n",
       "</table>\n",
       "</div>"
      ],
      "text/plain": [
       "        class_value  frequency  relative_frequency  cumulative_frequency\n",
       "class                                                                   \n",
       "0~10              5          0                0.00                  0.00\n",
       "10~20            15          0                0.00                  0.00\n",
       "20~30            25          0                0.00                  0.00\n",
       "30~40            35          2                0.04                  0.04\n",
       "40~50            45          8                0.16                  0.20\n",
       "50~60            55         16                0.32                  0.52\n",
       "60~70            65         18                0.36                  0.88\n",
       "70~80            75          6                0.12                  1.00\n",
       "80~90            85          0                0.00                  1.00\n",
       "90~100           95          0                0.00                  1.00"
      ]
     },
     "execution_count": 100,
     "metadata": {},
     "output_type": "execute_result"
    }
   ],
   "source": [
    "freq_dist_df['class_value']=class_value\n",
    "freq_dist_df['relative_frequency']=rel_freq\n",
    "freq_dist_df['cumulative_frequency']=cum_rel_freq\n",
    "freq_dist_df=freq_dist_df[['class_value','frequency','relative_frequency','cumulative_frequency']]\n",
    "freq_dist_df"
   ]
  },
  {
   "cell_type": "code",
   "execution_count": 101,
   "id": "1fd79ee7",
   "metadata": {},
   "outputs": [
    {
     "data": {
      "text/plain": [
       "65"
      ]
     },
     "execution_count": 101,
     "metadata": {},
     "output_type": "execute_result"
    }
   ],
   "source": [
    "#위 그래프에서 최빈값 구하기\n",
    "freq_dist_df.loc[freq_dist_df.frequency.idxmax(),'class_value']\n",
    "#frequency의 가장 큰 값=18. 가장 큰 열의 값 = 65. "
   ]
  },
  {
   "cell_type": "code",
   "execution_count": 106,
   "id": "2d29ae38",
   "metadata": {},
   "outputs": [
    {
     "data": {
      "image/png": "[encoded data removed]",
      "text/plain": [
       "<Figure size 1000x600 with 1 Axes>"
      ]
     },
     "metadata": {},
     "output_type": "display_data"
    }
   ],
   "source": [
    "#히스토그램 : 도수분포표를 막대그래프로 표현 (클래스가 x축. 각 구간의 빈도가 y)\n",
    "#어떤 한 칼럼에 대해 히스토그램을 그리는것과 같다. \n",
    "import matplotlib.pyplot as plt\n",
    "plt.figure(figsize=(10,6))\n",
    "\n",
    "freq,_,_=plt.hist(english_score,bins=10, range=(0,100))\n",
    "plt.xlabel('score')\n",
    "plt.ylabel('person number')\n",
    "plt.xticks(np.linspace(0,100,10+1)) #xticks 눈금 구하기\n",
    "plt.yticks(np.arange(0,freq.max()+1))\n",
    "plt.show()"
   ]
  },
  {
   "cell_type": "code",
   "execution_count": 107,
   "id": "b56c0eb4",
   "metadata": {},
   "outputs": [
    {
     "data": {
      "text/plain": [
       "(array([ 0.,  0.,  0.,  2.,  8., 16., 18.,  6.,  0.,  0.]),\n",
       " array([  0.,  10.,  20.,  30.,  40.,  50.,  60.,  70.,  80.,  90., 100.]),\n",
       " <BarContainer object of 10 artists>)"
      ]
     },
     "execution_count": 107,
     "metadata": {},
     "output_type": "execute_result"
    },
    {
     "data": {
      "image/png": "[encoded data removed]",
      "text/plain": [
       "<Figure size 1000x600 with 1 Axes>"
      ]
     },
     "metadata": {},
     "output_type": "display_data"
    }
   ],
   "source": [
    "import matplotlib.pyplot as plt\n",
    "plt.figure(figsize=(10,6))\n",
    "plt.hist(english_score,bins=10, range=(0,100))"
   ]
  },
  {
   "cell_type": "code",
   "execution_count": 108,
   "id": "f2830ea2",
   "metadata": {},
   "outputs": [
    {
     "data": {
      "image/png": "[encoded data removed]",
      "text/plain": [
       "<Figure size 1000x600 with 1 Axes>"
      ]
     },
     "metadata": {},
     "output_type": "display_data"
    }
   ],
   "source": [
    "plt.figure(figsize=(10,6))\n",
    "\n",
    "freq,_,_=plt.hist(english_score,bins=25, range=(0,100)) # 25= 10보다는 구간을 더 세분화해서 볼 수 있다. \n",
    "plt.xlabel('score')\n",
    "plt.ylabel('person number')\n",
    "plt.xticks(np.linspace(0,100,25+1)) #xticks 눈금 구하기\n",
    "plt.yticks(np.arange(0,freq.max()+1))\n",
    "plt.show()"
   ]
  },
  {
   "cell_type": "markdown",
   "id": "c9fe6de3",
   "metadata": {},
   "source": [
    "##### [과제1]\n",
    "클래스별 빈도를 나타내는 히스토그램에 추가하여 누적 상대도수(y축 왼쪽)를 꺽은선 그래프로 표현하세요. "
   ]
  },
  {
   "cell_type": "code",
   "execution_count": null,
   "id": "8b20ff1a",
   "metadata": {},
   "outputs": [],
   "source": []
  },
  {
   "cell_type": "code",
   "execution_count": 115,
   "id": "8fab45b2",
   "metadata": {},
   "outputs": [
    {
     "data": {
      "text/plain": [
       "{'whiskers': [<matplotlib.lines.Line2D at 0x22da2f94370>,\n",
       "  <matplotlib.lines.Line2D at 0x22da2f94640>],\n",
       " 'caps': [<matplotlib.lines.Line2D at 0x22da2f94910>,\n",
       "  <matplotlib.lines.Line2D at 0x22da2f94be0>],\n",
       " 'boxes': [<matplotlib.lines.Line2D at 0x22da2f940a0>],\n",
       " 'medians': [<matplotlib.lines.Line2D at 0x22da2f94eb0>],\n",
       " 'fliers': [<matplotlib.lines.Line2D at 0x22da2f861c0>],\n",
       " 'means': []}"
      ]
     },
     "execution_count": 115,
     "metadata": {},
     "output_type": "execute_result"
    },
    {
     "data": {
      "image/png": "[encoded data removed]",
      "text/plain": [
       "<Figure size 500x600 with 1 Axes>"
      ]
     },
     "metadata": {},
     "output_type": "display_data"
    }
   ],
   "source": [
    "# box plot\n",
    "fig=plt.figure(figsize=(5,6))\n",
    "plt.boxplot(english_scores,labels=['english'])"
   ]
  },
  {
   "cell_type": "code",
   "execution_count": 114,
   "id": "146147fa",
   "metadata": {},
   "outputs": [
    {
     "data": {
      "text/plain": [
       "count    50.000000\n",
       "mean     58.380000\n",
       "std       9.799813\n",
       "min      37.000000\n",
       "25%      54.000000\n",
       "50%      57.500000\n",
       "75%      65.000000\n",
       "max      79.000000\n",
       "dtype: float64"
      ]
     },
     "execution_count": 114,
     "metadata": {},
     "output_type": "execute_result"
    }
   ],
   "source": [
    "english_scores=np.array(df.english)\n",
    "pd.Series(english_scores).describe()"
   ]
  },
  {
   "cell_type": "markdown",
   "id": "2d025797",
   "metadata": {},
   "source": [
    "#### [과제 2]\n",
    "\n",
    "타이타닉 데이터셋에서 age,pclass,fare,sex,embarked 컬럼 중 2개를 선택하여 컬럼의 특징을 설명하고 종속변수인 survived와의 관계를 기술하세요.\n",
    "- 각 컬럼에 대한 전처리 후 기초 통계량(연속형인 경우.범주형일겨우엔 다른방법), 시각화를 통한 분포 및 특징 탐색, 이상치 여부 탐색.\n",
    "- 선택한 컬럼을 가장 잘 활용할 수 있는 형태로 변환"
   ]
  },
  {
   "cell_type": "markdown",
   "id": "7dc2c366",
   "metadata": {},
   "source": [
    "# 2차원 데이터"
   ]
  },
  {
   "cell_type": "code",
   "execution_count": 118,
   "id": "2e0fa2f8",
   "metadata": {},
   "outputs": [
    {
     "data": {
      "text/html": [
       "<div>\n",
       "<style scoped>\n",
       "    .dataframe tbody tr th:only-of-type {\n",
       "        vertical-align: middle;\n",
       "    }\n",
       "\n",
       "    .dataframe tbody tr th {\n",
       "        vertical-align: top;\n",
       "    }\n",
       "\n",
       "    .dataframe thead th {\n",
       "        text-align: right;\n",
       "    }\n",
       "</style>\n",
       "<table border=\"1\" class=\"dataframe\">\n",
       "  <thead>\n",
       "    <tr style=\"text-align: right;\">\n",
       "      <th></th>\n",
       "      <th>english</th>\n",
       "      <th>mathematics</th>\n",
       "    </tr>\n",
       "    <tr>\n",
       "      <th>student number</th>\n",
       "      <th></th>\n",
       "      <th></th>\n",
       "    </tr>\n",
       "  </thead>\n",
       "  <tbody>\n",
       "    <tr>\n",
       "      <th>1</th>\n",
       "      <td>42</td>\n",
       "      <td>65</td>\n",
       "    </tr>\n",
       "    <tr>\n",
       "      <th>2</th>\n",
       "      <td>69</td>\n",
       "      <td>80</td>\n",
       "    </tr>\n",
       "    <tr>\n",
       "      <th>3</th>\n",
       "      <td>56</td>\n",
       "      <td>63</td>\n",
       "    </tr>\n",
       "    <tr>\n",
       "      <th>4</th>\n",
       "      <td>41</td>\n",
       "      <td>63</td>\n",
       "    </tr>\n",
       "    <tr>\n",
       "      <th>5</th>\n",
       "      <td>57</td>\n",
       "      <td>76</td>\n",
       "    </tr>\n",
       "  </tbody>\n",
       "</table>\n",
       "</div>"
      ],
      "text/plain": [
       "                english  mathematics\n",
       "student number                      \n",
       "1                    42           65\n",
       "2                    69           80\n",
       "3                    56           63\n",
       "4                    41           63\n",
       "5                    57           76"
      ]
     },
     "execution_count": 118,
     "metadata": {},
     "output_type": "execute_result"
    }
   ],
   "source": [
    "import numpy as np\n",
    "import pandas as pd\n",
    "df=pd.read_csv('./data/ch2_scores_em.csv',index_col='student number') #.이 하나면 같은 폴더 ..면 상위폴더\n",
    "df.head()"
   ]
  },
  {
   "cell_type": "code",
   "execution_count": 120,
   "id": "84450b0e",
   "metadata": {},
   "outputs": [
    {
     "data": {
      "text/html": [
       "<div>\n",
       "<style scoped>\n",
       "    .dataframe tbody tr th:only-of-type {\n",
       "        vertical-align: middle;\n",
       "    }\n",
       "\n",
       "    .dataframe tbody tr th {\n",
       "        vertical-align: top;\n",
       "    }\n",
       "\n",
       "    .dataframe thead th {\n",
       "        text-align: right;\n",
       "    }\n",
       "</style>\n",
       "<table border=\"1\" class=\"dataframe\">\n",
       "  <thead>\n",
       "    <tr style=\"text-align: right;\">\n",
       "      <th></th>\n",
       "      <th>english</th>\n",
       "      <th>mathematics</th>\n",
       "    </tr>\n",
       "    <tr>\n",
       "      <th>student</th>\n",
       "      <th></th>\n",
       "      <th></th>\n",
       "    </tr>\n",
       "  </thead>\n",
       "  <tbody>\n",
       "    <tr>\n",
       "      <th>A</th>\n",
       "      <td>42</td>\n",
       "      <td>65</td>\n",
       "    </tr>\n",
       "    <tr>\n",
       "      <th>B</th>\n",
       "      <td>69</td>\n",
       "      <td>80</td>\n",
       "    </tr>\n",
       "    <tr>\n",
       "      <th>C</th>\n",
       "      <td>56</td>\n",
       "      <td>63</td>\n",
       "    </tr>\n",
       "    <tr>\n",
       "      <th>D</th>\n",
       "      <td>41</td>\n",
       "      <td>63</td>\n",
       "    </tr>\n",
       "    <tr>\n",
       "      <th>E</th>\n",
       "      <td>57</td>\n",
       "      <td>76</td>\n",
       "    </tr>\n",
       "    <tr>\n",
       "      <th>F</th>\n",
       "      <td>48</td>\n",
       "      <td>60</td>\n",
       "    </tr>\n",
       "    <tr>\n",
       "      <th>G</th>\n",
       "      <td>65</td>\n",
       "      <td>81</td>\n",
       "    </tr>\n",
       "    <tr>\n",
       "      <th>H</th>\n",
       "      <td>49</td>\n",
       "      <td>66</td>\n",
       "    </tr>\n",
       "    <tr>\n",
       "      <th>I</th>\n",
       "      <td>65</td>\n",
       "      <td>78</td>\n",
       "    </tr>\n",
       "    <tr>\n",
       "      <th>J</th>\n",
       "      <td>58</td>\n",
       "      <td>82</td>\n",
       "    </tr>\n",
       "  </tbody>\n",
       "</table>\n",
       "</div>"
      ],
      "text/plain": [
       "         english  mathematics\n",
       "student                      \n",
       "A             42           65\n",
       "B             69           80\n",
       "C             56           63\n",
       "D             41           63\n",
       "E             57           76\n",
       "F             48           60\n",
       "G             65           81\n",
       "H             49           66\n",
       "I             65           78\n",
       "J             58           82"
      ]
     },
     "execution_count": 120,
     "metadata": {},
     "output_type": "execute_result"
    }
   ],
   "source": [
    "en_scores=np.array(df['english'])[:10]\n",
    "ma_scores=np.array(df['mathematics'])[:10]\n",
    "\n",
    "scores_df= pd.DataFrame({'english':en_scores,\n",
    "                        'mathematics':ma_scores},\n",
    "                       index=pd.Index(list('ABCDEFGHIJ'),name='student'))\n",
    "scores_df"
   ]
  },
  {
   "cell_type": "code",
   "execution_count": 124,
   "id": "dee16de6",
   "metadata": {},
   "outputs": [
    {
     "data": {
      "text/html": [
       "<div>\n",
       "<style scoped>\n",
       "    .dataframe tbody tr th:only-of-type {\n",
       "        vertical-align: middle;\n",
       "    }\n",
       "\n",
       "    .dataframe tbody tr th {\n",
       "        vertical-align: top;\n",
       "    }\n",
       "\n",
       "    .dataframe thead th {\n",
       "        text-align: right;\n",
       "    }\n",
       "</style>\n",
       "<table border=\"1\" class=\"dataframe\">\n",
       "  <thead>\n",
       "    <tr style=\"text-align: right;\">\n",
       "      <th></th>\n",
       "      <th>english</th>\n",
       "      <th>mathematics</th>\n",
       "      <th>english_deviation</th>\n",
       "      <th>mathematics_deviation</th>\n",
       "      <th>product of deviation</th>\n",
       "    </tr>\n",
       "    <tr>\n",
       "      <th>student</th>\n",
       "      <th></th>\n",
       "      <th></th>\n",
       "      <th></th>\n",
       "      <th></th>\n",
       "      <th></th>\n",
       "    </tr>\n",
       "  </thead>\n",
       "  <tbody>\n",
       "    <tr>\n",
       "      <th>A</th>\n",
       "      <td>42</td>\n",
       "      <td>65</td>\n",
       "      <td>-13.0</td>\n",
       "      <td>-6.4</td>\n",
       "      <td>83.2</td>\n",
       "    </tr>\n",
       "    <tr>\n",
       "      <th>B</th>\n",
       "      <td>69</td>\n",
       "      <td>80</td>\n",
       "      <td>14.0</td>\n",
       "      <td>8.6</td>\n",
       "      <td>120.4</td>\n",
       "    </tr>\n",
       "    <tr>\n",
       "      <th>C</th>\n",
       "      <td>56</td>\n",
       "      <td>63</td>\n",
       "      <td>1.0</td>\n",
       "      <td>-8.4</td>\n",
       "      <td>-8.4</td>\n",
       "    </tr>\n",
       "    <tr>\n",
       "      <th>D</th>\n",
       "      <td>41</td>\n",
       "      <td>63</td>\n",
       "      <td>-14.0</td>\n",
       "      <td>-8.4</td>\n",
       "      <td>117.6</td>\n",
       "    </tr>\n",
       "    <tr>\n",
       "      <th>E</th>\n",
       "      <td>57</td>\n",
       "      <td>76</td>\n",
       "      <td>2.0</td>\n",
       "      <td>4.6</td>\n",
       "      <td>9.2</td>\n",
       "    </tr>\n",
       "    <tr>\n",
       "      <th>F</th>\n",
       "      <td>48</td>\n",
       "      <td>60</td>\n",
       "      <td>-7.0</td>\n",
       "      <td>-11.4</td>\n",
       "      <td>79.8</td>\n",
       "    </tr>\n",
       "    <tr>\n",
       "      <th>G</th>\n",
       "      <td>65</td>\n",
       "      <td>81</td>\n",
       "      <td>10.0</td>\n",
       "      <td>9.6</td>\n",
       "      <td>96.0</td>\n",
       "    </tr>\n",
       "    <tr>\n",
       "      <th>H</th>\n",
       "      <td>49</td>\n",
       "      <td>66</td>\n",
       "      <td>-6.0</td>\n",
       "      <td>-5.4</td>\n",
       "      <td>32.4</td>\n",
       "    </tr>\n",
       "    <tr>\n",
       "      <th>I</th>\n",
       "      <td>65</td>\n",
       "      <td>78</td>\n",
       "      <td>10.0</td>\n",
       "      <td>6.6</td>\n",
       "      <td>66.0</td>\n",
       "    </tr>\n",
       "    <tr>\n",
       "      <th>J</th>\n",
       "      <td>58</td>\n",
       "      <td>82</td>\n",
       "      <td>3.0</td>\n",
       "      <td>10.6</td>\n",
       "      <td>31.8</td>\n",
       "    </tr>\n",
       "  </tbody>\n",
       "</table>\n",
       "</div>"
      ],
      "text/plain": [
       "         english  mathematics  english_deviation  mathematics_deviation  \\\n",
       "student                                                                   \n",
       "A             42           65              -13.0                   -6.4   \n",
       "B             69           80               14.0                    8.6   \n",
       "C             56           63                1.0                   -8.4   \n",
       "D             41           63              -14.0                   -8.4   \n",
       "E             57           76                2.0                    4.6   \n",
       "F             48           60               -7.0                  -11.4   \n",
       "G             65           81               10.0                    9.6   \n",
       "H             49           66               -6.0                   -5.4   \n",
       "I             65           78               10.0                    6.6   \n",
       "J             58           82                3.0                   10.6   \n",
       "\n",
       "         product of deviation  \n",
       "student                        \n",
       "A                        83.2  \n",
       "B                       120.4  \n",
       "C                        -8.4  \n",
       "D                       117.6  \n",
       "E                         9.2  \n",
       "F                        79.8  \n",
       "G                        96.0  \n",
       "H                        32.4  \n",
       "I                        66.0  \n",
       "J                        31.8  "
      ]
     },
     "execution_count": 124,
     "metadata": {},
     "output_type": "execute_result"
    }
   ],
   "source": [
    "#공분산 :  두 변수가 함께 변화하는 방향을 나타내는 통계적 척도\n",
    "# 공분산이 양수인 경우 한 변수가 증가할 때 다른 변수도 증가하는 경향이 있으며, \n",
    "# 음수인 경우 한 변수가 증가할 때 다른 변수는 감소하는 경향이 있습니다. \n",
    "# 공분산이 0에 가까운 경우 두 변수 사이에는 거의 상관관계가 없다고 볼 수 있습니다.\n",
    "\n",
    "summary_df=scores_df.copy()\n",
    "summary_df['english_deviation']= summary_df.english-summary_df.english.mean()\n",
    "summary_df['mathematics_deviation']= summary_df.mathematics-summary_df.mathematics.mean()\n",
    "summary_df['product of deviation']=summary_df['english_deviation']*summary_df['mathematics_deviation']\n",
    "summary_df"
   ]
  },
  {
   "cell_type": "code",
   "execution_count": 131,
   "id": "a5ef6148",
   "metadata": {},
   "outputs": [
    {
     "name": "stdout",
     "output_type": "stream",
     "text": [
      "86.0\n",
      "68.44000000000001\n"
     ]
    }
   ],
   "source": [
    "print(np.var(scores_df.english))\n",
    "print(np.var(scores_df.mathematics))"
   ]
  },
  {
   "cell_type": "code",
   "execution_count": 127,
   "id": "4e02ba75",
   "metadata": {},
   "outputs": [
    {
     "data": {
      "text/plain": [
       "62.8"
      ]
     },
     "execution_count": 127,
     "metadata": {},
     "output_type": "execute_result"
    }
   ],
   "source": [
    "summary_df['product of deviation'].mean()"
   ]
  },
  {
   "cell_type": "code",
   "execution_count": 130,
   "id": "110aeff9",
   "metadata": {},
   "outputs": [
    {
     "data": {
      "text/plain": [
       "array([[86.  , 62.8 ],\n",
       "       [62.8 , 68.44]])"
      ]
     },
     "execution_count": 130,
     "metadata": {},
     "output_type": "execute_result"
    }
   ],
   "source": [
    "#공분산\n",
    "#np.cov(en_scores,ma_scores) #공분산은 자동으로 ddof=1이 적용되어 있음. \n",
    "np.cov(en_scores,ma_scores,ddof=0)"
   ]
  },
  {
   "cell_type": "code",
   "execution_count": 132,
   "id": "2999e696",
   "metadata": {},
   "outputs": [
    {
     "data": {
      "text/plain": [
       "array([[95.55555556, 69.77777778],\n",
       "       [69.77777778, 76.04444444]])"
      ]
     },
     "execution_count": 132,
     "metadata": {},
     "output_type": "execute_result"
    }
   ],
   "source": [
    "#n-1로 나눔\n",
    "np.cov(en_scores,ma_scores,ddof=1) #default"
   ]
  },
  {
   "cell_type": "code",
   "execution_count": 133,
   "id": "8e23aadd",
   "metadata": {},
   "outputs": [
    {
     "data": {
      "text/plain": [
       "0.8185692341186713"
      ]
     },
     "execution_count": 133,
     "metadata": {},
     "output_type": "execute_result"
    }
   ],
   "source": [
    "#상관계수\n",
    "np.cov(en_scores,ma_scores,ddof=0)[0,1]/(np.std(en_scores)*np.std(ma_scores))"
   ]
  },
  {
   "cell_type": "code",
   "execution_count": 134,
   "id": "854b773d",
   "metadata": {},
   "outputs": [
    {
     "data": {
      "text/plain": [
       "array([[1.        , 0.81856923],\n",
       "       [0.81856923, 1.        ]])"
      ]
     },
     "execution_count": 134,
     "metadata": {},
     "output_type": "execute_result"
    }
   ],
   "source": [
    "np.corrcoef(en_scores,ma_scores)"
   ]
  },
  {
   "cell_type": "code",
   "execution_count": 135,
   "id": "0f4511d5",
   "metadata": {},
   "outputs": [
    {
     "data": {
      "text/html": [
       "<div>\n",
       "<style scoped>\n",
       "    .dataframe tbody tr th:only-of-type {\n",
       "        vertical-align: middle;\n",
       "    }\n",
       "\n",
       "    .dataframe tbody tr th {\n",
       "        vertical-align: top;\n",
       "    }\n",
       "\n",
       "    .dataframe thead th {\n",
       "        text-align: right;\n",
       "    }\n",
       "</style>\n",
       "<table border=\"1\" class=\"dataframe\">\n",
       "  <thead>\n",
       "    <tr style=\"text-align: right;\">\n",
       "      <th></th>\n",
       "      <th>english</th>\n",
       "      <th>mathematics</th>\n",
       "    </tr>\n",
       "  </thead>\n",
       "  <tbody>\n",
       "    <tr>\n",
       "      <th>english</th>\n",
       "      <td>1.000000</td>\n",
       "      <td>0.818569</td>\n",
       "    </tr>\n",
       "    <tr>\n",
       "      <th>mathematics</th>\n",
       "      <td>0.818569</td>\n",
       "      <td>1.000000</td>\n",
       "    </tr>\n",
       "  </tbody>\n",
       "</table>\n",
       "</div>"
      ],
      "text/plain": [
       "              english  mathematics\n",
       "english      1.000000     0.818569\n",
       "mathematics  0.818569     1.000000"
      ]
     },
     "execution_count": 135,
     "metadata": {},
     "output_type": "execute_result"
    }
   ],
   "source": [
    "scores_df.corr()"
   ]
  },
  {
   "cell_type": "markdown",
   "id": "897e4a00",
   "metadata": {},
   "source": [
    "#### [과제3]\n",
    "타이타닉 데이터셋에서 age,pclass,fare,sex,embarked 컬럼 중 2개의 쌍을 선택하여 공분산 행렬 및 상관계수 행렬을 각각 구하여 비교하세요.\n"
   ]
  },
  {
   "cell_type": "code",
   "execution_count": null,
   "id": "177b814e",
   "metadata": {},
   "outputs": [],
   "source": []
  },
  {
   "cell_type": "code",
   "execution_count": null,
   "id": "a989465c",
   "metadata": {},
   "outputs": [],
   "source": []
  },
  {
   "cell_type": "code",
   "execution_count": null,
   "id": "007582a9",
   "metadata": {},
   "outputs": [],
   "source": []
  },
  {
   "cell_type": "code",
   "execution_count": null,
   "id": "6bbf119b",
   "metadata": {},
   "outputs": [],
   "source": []
  },
  {
   "cell_type": "code",
   "execution_count": null,
   "id": "f64bdd79",
   "metadata": {},
   "outputs": [],
   "source": []
  }
 ],
 "metadata": {
  "kernelspec": {
   "display_name": "Python 3 (ipykernel)",
   "language": "python",
   "name": "python3"
  },
  "language_info": {
   "codemirror_mode": {
    "name": "ipython",
    "version": 3
   },
   "file_extension": ".py",
   "mimetype": "text/x-python",
   "name": "python",
   "nbconvert_exporter": "python",
   "pygments_lexer": "ipython3",
   "version": "3.9.13"
  }
 },
 "nbformat": 4,
 "nbformat_minor": 5
}

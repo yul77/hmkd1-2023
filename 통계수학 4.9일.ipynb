{
 "cells": [
  {
   "cell_type": "markdown",
   "id": "ae32a649",
   "metadata": {},
   "source": [
    "###  집합과 원소\n",
    "\n",
    "- 구별 가능한 객체의 모임을 집합이라고 하고 집합에 포함된 구별 가능한 객체를 그 집합의 원소라고 한다.\n",
    "- 파이썬에서   set과 frozenset 자료형으로 집합을 나타낸다.\n",
    "       -  set: 내용 변경할 수 있는 mutable 자료형\n",
    "       - frozenset: 내용을 변경할 수 없는 immutable자료형."
   ]
  },
  {
   "cell_type": "markdown",
   "id": "9dcff594",
   "metadata": {},
   "source": [
    "##### 확률의 수학적 정의와 의미\n",
    "- 표본공간과 확률표본\n",
    "    - 확률표본 또는 표본은 풀고자 하는 문제에서 발생할 수 있는 하나의 현상 혹은 선택될 수 있는 하나의 경우를 말한다.\n",
    "    - 표본공간은 가능한 모든 표본의 집합을 말하며 고려하는 범위에서 어떤 표본 (경우,현상)이 가능하고 어떤 표본이 가능하지 않은가를 정의하는 작업. 표본공간={H,T},(표본:H(동전의 앞면),T(동전의 뒷면))\n",
    "    - 사건은 쵸본공간의 부분집합, 즉 전체 표본공간 중에서 관심을 가지는 일부 표본의 집합."
   ]
  },
  {
   "cell_type": "markdown",
   "id": "95d7c355",
   "metadata": {},
   "source": [
    "##### 확률\n",
    "- 확률이란 사건 (부분집합)을 입력하면 숫자 (확률값)가 출력되는 함수.\n",
    "- 모든 각각의 사전 (부분집합)에 어떤 숫자를 할당하는 함수\n",
    "- 확률은 표본이 아닌 사건을 입력으로 가지는 함수"
   ]
  },
  {
   "cell_type": "markdown",
   "id": "db2c8b20",
   "metadata": {},
   "source": [
    "##### 확률의 의미\n",
    "- 빈도주의 관점: 반복적으로 선택된 표본이 사건(부분집합)A의 원소가 될 경향. \n",
    "    - 동전을 던져 앞면이 나오는 사건의 확률값은 0.5\n",
    "- 베이지안 관점: 선택된 표본이 특정한 사건(부분집합)에 속한다는 가설,명제 혹은 주장의 신뢰도로 반복이라는 개념은 사용되지 않음. \n",
    "    - 새가 날 수 있는 가능성은 95%.'앞면이 나왔다'는 주장의 신뢰도는 0..5%\n",
    "      - 베이지안 확률론에서 사건이 일어났다 혹은 발생했다하는 말은 그 사전의 원소 중에 정말로 선택된 표본이 있다는 사실을 알게 되었다는 것을 말한다."
   ]
  },
  {
   "cell_type": "markdown",
   "id": "e1cc64a2",
   "metadata": {},
   "source": [
    "##### 확률의 성질\n",
    "- 공집합의 확률: 공집합인 사전의 합은 0이다. P(0)=0\n",
    "- 여집합의 확률: 어떤 사전의 여집합인 사전의 확률은 1 - 원래사건의 확률과 같다.\n",
    "- 포함-배제 원리: 두 사건의 합집합의 확률은 각 사건의 확률의 합에서 두 사건의 교집합의 확률을 뺀것과 같다.\n",
    "- 전체 확률의 법칙: 생일이 1월인 남자라는 사전의 확률과 생일이 2월인 남자라는 사건의 확률, 이외에도 각각의 월을 생일로 가지는 남자라는 사건들의 확률을 모두 합하면 남자라는 사건의 확률이 된다. 각각의 원에 있는 남자의 생일이 서로 공통원소가 없음. "
   ]
  },
  {
   "cell_type": "markdown",
   "id": "4767afdf",
   "metadata": {},
   "source": [
    "##### 확률분포 함수\n",
    "- 확률이 어디에 어느 정도 분포되어 있는지를 수학적으로 명시하고 전달하는 도구\n",
    "- 만약 표본의 개수가 무한하다면 현실적으로 모든 사건을 하나하나 기술하는 것은 불가능하며 확률 분포 함수를 이용하여 이 문제를 해결.\n",
    "\n",
    "  - 확률 질량 함수: 유한 개의 사건이 존재하는 경우 각 단수사건에 대한 확률만 정의하는 함수.\n",
    "  - 누적분포함수: 시작점을 모두 똑같이 음의 무한대로 통일한 특수한 구간을 사용하는 사건의 확률 분포를 묘사하는 함수\n",
    "  - 확률 밀도 함수: 누적 분포 함수를 미분하여 구한 도함수를 의미하며 특정한 구간의 확률이 다른 구간에 비해 상대적으로 얼마나 높은가를 나타내는 것이며 그 값 자체가 확률은 아니다.\n",
    " "
   ]
  },
  {
   "cell_type": "markdown",
   "id": "33567266",
   "metadata": {},
   "source": [
    "##### 확률 변수\n",
    "- 확률적인 숫자 값을 출력하는 변수"
   ]
  },
  {
   "cell_type": "markdown",
   "id": "dcc4da42",
   "metadata": {},
   "source": [
    "#### 추측통계 \n",
    "확률을 사용하여 모집단의 통계적 성직을 추측하는 기법\n",
    "[모집단 분포와 표본분포]\n",
    "- 모집단: 어떤 통계적 실험의 대상이 되는 모든 대상물. ex)대한민국 모든 남성의 키 데이터, 2018 수능점수 데이터<br>\n",
    "- 모집단 분포: 모집단은 데이터 집단이므로 어떠한 분포를 이루며 이 데이터가 이루는 확률 분포가 모집단 분포<br>\n",
    "- 모수: 모집단의 특성을 나타내는 수치로 모평균, 모분산, 모표준편차,모비율, 모상관관계 등. 수능점수 전체 데이터를 알고 싶은 것이 아니라 전체 수능점수 평균,표준편차를 알고싶어한다. 수능점수와 달리 일반적으로 대부분의 모집단 분포는 완전하게 알려진 것이 없으며 전수조사는 견제적,공간적,시간적 제약으로 인해 거의 불가능.<br>\n",
    "- 표본: 모집단의 모수(특성)을 알기 위하여 표본을 추출해서 모집단의 모수를 추정.<br>\n",
    "- 확률 표본: 모집단을 구성하는 모든 구성원이 표본으로 뽑힐 확률을 동일하게 하여 추출한 표본. Random 이란 무작위라는 희미로, 어떠한 의도를 가지지 않는다는 것을 의미하며. 모든 구성원이 뽑힐 확률이 동일하다는 개념.<br>\n",
    "- 통계량: 확률표본의 특성을 설명하는 값으로 표본편균, 표본분산,표본표준편차,표본비율,표본상관관계 등 모수는 모집단이 변하지 않기 때문에 그 값이 변하지 않으나 통계량은 표본을 어떻게 추출하느냐에 따라서 그 값이 다르게 나타난다.<br>\n",
    "- 확률변수: 무작위 실헌을 했을 때 특정 확률로 발생하는 각각의 결과를 수치값으로 표현한 변수. 동전의 앞과 뒤.<br>\n",
    "- 확률분포: 확률변수 X의 모든 값과 그게 대응하는 확률값들의 분포. 동전의 앞0.5,뒤0.5<br>\n",
    "- 무작위로 표본 30개씩 반복해서 100번 추출하면 100번 추출한 표본 30개의 평균값들을 100개 구할 수 있다. 추출된 표본들의 각 평균값들에 대한 발생 분포를 그려보면 특정 확률변수에 대응하는 확률을 가진 확률 분포를 그릴 수 있다. 이것을 통계량의 확률분포라고 할 수 있고 이를 표본분포라고 부른다.<br>\n",
    "- 통계량이 확률 변수라는 의미: 확률변수의 확률분초가 수학적으로 설명 가능한 분포(ex:정규분포)를 따른다고 하면 특정 확률변수와 확률함수를 알고 있다면 특정 사건이 일어날 확률을 계산할 수 있으며 더 나아가 모수와 통계량의 관계를 알고 있다면 그것을 통해 모수에 대한 통계적인 추정을 할 수 있다. 즉 통계량의 확률 함수 또는 표본 분포를 안다고 가정하면 이를 이용해 모수를 측정할 수 있다.<br>\n",
    "<br><br>\n",
    "[표본통계량 성질]\n",
    "<br>\n",
    "- 샘플 사이즈가 크면 표본평균은 모평균에 가까워진다.<br>\n",
    "- 샘플 사이즈가 커질수록 표본평균의 표준편차가 작아짐. 샘플사이즈를 크게 하면 흩어짐이 적은 신뢰할 수 있는 표본 평균을 얻을 수 있다.<br>\n",
    "- 표준오차는 이론상 표본평균의 표준편차 크기인데 샘플사이즈가 커지면 표준 오차는 작아짐.<br>\n",
    "- 모분산은 0.64. 표본분산의 평균값은 0.575로 분산이 과소평가 되어짐-> 불편분산을 사용, 편향을 제거(ddof=1)<br>\n",
    "- 샘플 사이즈가 커질수록 불편분산은 모분산(0.64)에 가까워짐<br>\n",
    "- 불편성: 추정량의 기댓값이 진짜 모수 (모집단의 파라미터)가 되는 특성. 편향이 없는 추정량.<br>\n",
    "- 일치성: 샘플 사이즈가 커지면 추정량이 진짜 모수에 가까워지는 특성<br>\n",
    "- 표본 평균과 불편분산은 둘 다 불편성을 가지고 있다고 할 수 있다.<br>\n",
    "- 샘플사이즈를 크게 하면 표본평균은 모평균에 가까워지고 불편분산은 모분산에 가까워지므로 일치성을 가짐.<br>\n",
    "- 큰수의 법칙: 표본의 크기가 커지면 표본평균이 모평균에 가까워지는 방법을 표현한 법칙<br>\n",
    "- 중심극한정리: 모집단분포가 무엇이든지간에 샘플사이즈가 커지면 표본 평균들이 이루는 분포가 모집단의 평균μ, 표준편차 σ/sqrt(n)인 정규분포에 가까워진다는 정리<br>\n",
    "https://drhongdatanote.tistory.com/57\n",
    "<br>\n",
    "<br>\n",
    "[표본분산이 분산을 과소평가하는 이유]<br>\n",
    "- 분산은 '데이터와 평균값 간의 거리'이므로 모평균 간의 거리를 계산:\n",
    "   - np.sum((fish_data-mu)**2)/N\n",
    "      - 호수안에 물고기가 7마리 있다. 몸길이 {1,2,3,4,5,6,7},모평균 4,\n",
    "        샘플링 3마리 {1,2,3} 표본평균 2\n",
    "        이 때 분산은 모평균을 모르기 때문에 표본평균과 거리를 계상하며 분산을 과소평가하게 된다.\n",
    "      - 표본 분산보다 조금 더 큰 값이 되도록 보정하기 위하여 N대신 N-1로 나누어 불편분산을 구할 수 있다.\n",
    "\n",
    "\n",
    "<br>\n",
    "<br>\n",
    "\n",
    "[통계량 선정시 평가 기준]\n",
    "- 불편성: 표본으로부터 구한 통계량의 기대치가 추정하려 하는 모수의 실제 값에 같거나 가까워지는 성질을 의미.\n",
    "- 효율성: 모수 추정시 분산이 작을수록 모수를 정확하게 추정할 가능성이 높다.\n",
    "- 일치성: 표본의 크기가 커감에 따라서 표본의 통계량이 모집단의 모수와 일치하는 것을 의미.\n",
    "- 충분성: 동일한 표본으로부터 얻은 추정향이 모집단의 모수에 대한 정보를 더 많이 제공하는 것을 의미\n",
    "<br>\n",
    "<br>\n",
    "[정규분포]\n",
    "https://quickdata.tistory.com/26\n",
    "https://math100.tistory.com/40<br>\n",
    "정규분포는 연속확률분포로서 가장 자주 쓰이는 확률분포입니다. <br>\n",
    "모양은 평균을 중심으로 하나의 봉우리형태를 띄며 한 집단의 많은 사람들의 키,몸무게,시험성적 등의 데이터에 잘 나타나는 분포.\n",
    "<br><br>\n",
    "- 누적 분포 함수: 확률분포에서 얻은 확률변수 3이하가 되는 확. Cumulative density function\n",
    "    - stats.norm.cdf(loc=4,scale=0.8,x=3)\n",
    "- 정규분포의 확률밀도 계산\n",
    "    - 확률변수 3일때의 확률밀고 N(3|4,0.8**2)\n",
    "    - stats.norm.pdf(loc=4,cale=0.8,x=3) Probability density function(확률밀도함수)\n",
    "- 하측활률: \"확률변수 x가 N보다 낮을 확률은  M퍼센트다\"에서 N을 고정하고 M을 구하는 경우\n",
    "    - 이때의 M이 하측확률이며 M(확률)을 고정하고 N(변수)을 구하는 경우 이때의 N퍼센트포인드 하측확률이 2.5%가 된느 퍼센트포인트\n",
    "    - stats.norm.ppf(loc=4, scale=0.8,q=0.025)Percent point function\n",
    "- stats.norm.pdf(x=x)로 하여 loc와 scale을 지정하지 않을 경우 표준정규분포가 됨.  probability density function\n",
    "- stats.norm.rvs() 함수는 정규확률분포로부터 난수 생성. Random variates\n",
    "- t분포의 의미: 모분산을 모르는 상황에서도 표본평균의 분포에 대해 얘기할 수 있으며\n",
    "    - t분포를 만들 때 표본에서 계산한 표준오차로 표본평균을 표준화함.\n",
    "    - 표본에서 계산한 표준오차로 표본평균을 표준화했을 경우 결과가  t분포를 따른다는 사실을 이용하면 얻어낸 표본평균에 관한 불확실성을 짐작할 수 있음.\n",
    "<br>\n",
    "[일반선형모형 vs 일반화선형 모형]\n",
    "일반선형모형과 일반화선형모형의 주요 차이점은 바로 접근의 차이이다.<br>\n",
    "일반선형모형(General linear model, 이하 GLM)은 엄격하게 잔차들이 조건부 정규분포를 따른다고 가정하는 반면 일반화 선형모델(Generalized linear model, 이하 GLiM)은 이 가정을 엄격하게 따르지 않는다. 즉, 잔차들이 exponential family 등 다양한 다른 분포를 가질 수 있다고 가정한다..\n",
    "<br>\n",
    "\n",
    "일반화선형모형은 종속변수에 적절한 link function을 적용하는 방법이다. 이는 오차항의 확률 분포를 무엇으로 보느냐에 따라 어느정도 정해져 있는데, 오차항의 확률분포가 binomial이면 link function은 logit이고, exponential이면 inverse, poisson이면 log를 link function으로 취한다.\n",
    ".<br>\n",
    "\n",
    "[일반화선형모델과 관계가 깊은 확률분포]\n",
    "\n",
    "- 정규분포 이외의 확률분포를 사용할 수 있다는 것이 일반화선형모델의 큰 특징이며\n",
    "- 정규분포 이외에 이항분포, 푸아송분포 등 일반화선형모델과 관계가 깊은 확률분포가 있음\n",
    "- 이항분포 : 정규분포와 달리 좌우 비대칭인 히스토그램 확인\n",
    "- 푸아송 분포 : 카운트 데이터가 따르는 이산형 확률분포\n",
    "    - 카운트 데이터가 0 이상의 정수라는 특징.<br>\n",
    "    - 모수는 강도(일이 일어날 횟수에 대한 기댓값, 발생 강도) 람다밖에 없음\n",
    "    - 푸아송 분포는 이항분포에서 도출할 수 있으며 푸아송 분포는 성공확률이 한없이 0에 가깝지만 시행횟수가 무한히 많은 이항분포임..<br>\n",
    "<br>\n",
    "[이항분포와 푸아송 분포의 관계]\n",
    "\n",
    "- 푸아송 분포는 1개, 또는 2개 등의 카운트 데이터가 따르는 이산형 확률분포.<br>\n",
    "- 푸아송 분포의 모수는 강도(일이 일어날 횟수에 대한 기대값, 발생 강도) 람다밖에 없으며 기댓값과 분산도 람다값과 같다..<br>\n",
    "- 예를들어 하루의 교통사고 사상자수라는 카운트 데이터가 있다고 할 때 사고에 휘말릴 가능성이 있는 사람 수는 길을 걷고 있는 모든 사람 수이므로 N은 매우 큰 값이 되며 사고에 휘말릴 확률 p는 매우 작다. 일어나기 어려운 사건이지만 대상이 되는 사람 수가 굉장히 많을 때의 발생건수가 푸아송 분포를 따른다고 할 수 있다..<br>\n",
    "- 성공확률이 한없이 0에 가깝지만 시행횟수가 무한히 많은 이항분포라고 할 수 있다."
   ]
  },
  {
   "cell_type": "code",
   "execution_count": 3,
   "id": "9be48d98",
   "metadata": {},
   "outputs": [
    {
     "data": {
      "text/plain": [
       "array([2, 3, 3, 4, 4, 4, 4, 5, 5, 6])"
      ]
     },
     "execution_count": 3,
     "metadata": {},
     "output_type": "execute_result"
    }
   ],
   "source": [
    "import numpy as np\n",
    "import pandas as pd\n",
    "fish_data=np.array([2,3,3,4,4,4,4,5,5,6]) \n",
    "#길이가 [2,3,3,4,4,4,4,5,5,6]물고기 데이터를  numpy배열로 생성해서 \n",
    "#'fish_data'변수에 할당\n",
    "fish_data"
   ]
  },
  {
   "cell_type": "code",
   "execution_count": 6,
   "id": "84af2b86",
   "metadata": {},
   "outputs": [
    {
     "data": {
      "text/plain": [
       "<AxesSubplot:ylabel='Density'>"
      ]
     },
     "execution_count": 6,
     "metadata": {},
     "output_type": "execute_result"
    },
    {
     "data": {
      "image/png": "[encoded data removed]",
      "text/plain": [
       "<Figure size 1200x600 with 2 Axes>"
      ]
     },
     "metadata": {},
     "output_type": "display_data"
    }
   ],
   "source": [
    "import seaborn as sns\n",
    "import matplotlib.pyplot as plt\n",
    "\n",
    "fig,axes=plt.subplots(1,2,figsize=(12,6))#1행2열의 서브플롯 생성.\n",
    "\n",
    "sns.histplot(ax=axes[0],data=fish_data,kde=True)#kde=True:밀도 그래프\n",
    "#반환된는 figure객체를 fig변수에 할당하고 subplot  #을 axes배열에 할당.\n",
    "\n",
    "sns.kdeplot(ax=axes[1],data=fish_data)\n",
    "#fisho_data의 분포를 밀도그래프로 시각화. 두번째 플롯에 넣어준다.\n",
    "\n",
    "#이 코드는 fish_data'데이터의 분포를 히스그램과 밀도그래프로 시각화."
   ]
  },
  {
   "cell_type": "code",
   "execution_count": 7,
   "id": "4df6a754",
   "metadata": {},
   "outputs": [
    {
     "data": {
      "text/plain": [
       "40"
      ]
     },
     "execution_count": 7,
     "metadata": {},
     "output_type": "execute_result"
    }
   ],
   "source": [
    "np.sum(fish_data) #fish_data원소들의 합"
   ]
  },
  {
   "cell_type": "code",
   "execution_count": 8,
   "id": "bdcbd9c5",
   "metadata": {},
   "outputs": [
    {
     "data": {
      "text/plain": [
       "10"
      ]
     },
     "execution_count": 8,
     "metadata": {},
     "output_type": "execute_result"
    }
   ],
   "source": [
    "len(fish_data) #fish_data의 길이 (=fish data의 원소 갯수)"
   ]
  },
  {
   "cell_type": "code",
   "execution_count": 9,
   "id": "1906d96c",
   "metadata": {},
   "outputs": [
    {
     "data": {
      "text/plain": [
       "4.0"
      ]
     },
     "execution_count": 9,
     "metadata": {},
     "output_type": "execute_result"
    }
   ],
   "source": [
    "#평균\n",
    "\n",
    "N = len(fish_data) #fish_data의 길이를 N변수에 할당.=fish data의 원소 갯수 저장\n",
    "sum_value = np.sum(fish_data)#원소들의 합을 계산하여 sum_value 변수에 할당.\n",
    "mu=sum_value/N#  원소합 / 원소갯수 = 평균값(mu)\n",
    "\n",
    "mu"
   ]
  },
  {
   "cell_type": "code",
   "execution_count": 10,
   "id": "574552ad",
   "metadata": {
    "scrolled": true
   },
   "outputs": [
    {
     "data": {
      "text/plain": [
       "4.0"
      ]
     },
     "execution_count": 10,
     "metadata": {},
     "output_type": "execute_result"
    }
   ],
   "source": [
    "np.mean(fish_data)"
   ]
  },
  {
   "cell_type": "code",
   "execution_count": 17,
   "id": "9ebb0e16",
   "metadata": {},
   "outputs": [
    {
     "name": "stdout",
     "output_type": "stream",
     "text": [
      "[-2. -1. -1.  0.  0.  0.  0.  1.  1.  2.]\n",
      "[4. 1. 1. 0. 0. 0. 0. 1. 1. 4.]\n",
      "1.2\n"
     ]
    }
   ],
   "source": [
    "#표본분산: (원본에서 평균을 뺀값)의 제곱의 합을 원본의 길이(len)로 나눈다\n",
    "\n",
    "sigma_2_sample=np.sum((fish_data-mu)**2)/N\n",
    "#(fish_data - 평균(4)의 제곱의 합. / fish_data 원소갯수(10) 으로 나논다\n",
    "# 1. (fish_data-mu)**2: 각 원소와 평균의 차이**2 \n",
    "# 2. np.sum(): 1 배열의 모든 원소를 합산.\n",
    "# 3. N으로 나누어 표본분산 계산\n",
    "sigma_2_sample\n",
    "\n",
    "print(fish_data-mu)\n",
    "print((fish_data-mu)**2)\n",
    "pint(sigma_2_sample)"
   ]
  },
  {
   "cell_type": "code",
   "execution_count": 18,
   "id": "82385849",
   "metadata": {},
   "outputs": [
    {
     "data": {
      "text/plain": [
       "1.2"
      ]
     },
     "execution_count": 18,
     "metadata": {},
     "output_type": "execute_result"
    }
   ],
   "source": [
    "np.var(fish_data) #리스트의 분산계산 함수 var (numpy 함수)"
   ]
  },
  {
   "cell_type": "code",
   "execution_count": 19,
   "id": "753500a5",
   "metadata": {
    "scrolled": true
   },
   "outputs": [
    {
     "data": {
      "text/plain": [
       "1.0954451150103321"
      ]
     },
     "execution_count": 19,
     "metadata": {},
     "output_type": "execute_result"
    }
   ],
   "source": [
    "np.std(fish_data) # 리스트의 표준편차 구하는 함수 std (numpy함수)"
   ]
  },
  {
   "cell_type": "markdown",
   "id": "4e7b47b8",
   "metadata": {},
   "source": [
    "#### ddof (\"Delta Degrees of Freedom\")\n",
    ":표본 분산 또는 표본 표준편차를 계산할 때, 자유도를 조절하기 위한 값.<br>\n",
    "일반적으로 모집단의 분산 또는 표준편차를 계산할 때는 자유도가 n-1 (n = 원소개수)\n",
    "- 자유도는 간단히 말해, 자료 중 일부를 사용하지 않고도 전체 자료를 추정할 수 있는 정도를 나타내는 값입니다. 따라서, 표본의 크기가 작아질수록 분모에 사용되는 자유도 값이 작아지게 되어, 분산값이 작아지는 것입니다.\n",
    "- 이때, `ddof` 매개변수를 사용하면 표본의 크기에 따라서 자유도를 조절하여 정확한 분산값을 계산할 수 있다.\n",
    "- `ddof` 매개변수의 기본값은 0 (=모집단의 분산을 계산할 때 사용)\n",
    "- 표본의 크기가 작아질수록, `ddof` 값을 1 또는 2로 설정하여 표본의 크기에 맞는 자유도 값을 사용하면 보다 정확한 표본 분산을 계산할 수 있습니다."
   ]
  },
  {
   "cell_type": "code",
   "execution_count": 85,
   "id": "4b76ccc3",
   "metadata": {},
   "outputs": [
    {
     "data": {
      "text/plain": [
       "1.2"
      ]
     },
     "execution_count": 85,
     "metadata": {},
     "output_type": "execute_result"
    }
   ],
   "source": [
    "np.var(fish_data,ddof=0) "
   ]
  },
  {
   "cell_type": "code",
   "execution_count": 21,
   "id": "e018b2db",
   "metadata": {},
   "outputs": [
    {
     "data": {
      "text/plain": [
       "1.0954451150103321"
      ]
     },
     "execution_count": 21,
     "metadata": {},
     "output_type": "execute_result"
    }
   ],
   "source": [
    "np.std(fish_data,ddof=0)"
   ]
  },
  {
   "cell_type": "code",
   "execution_count": null,
   "id": "eb5b0a6a",
   "metadata": {},
   "outputs": [],
   "source": [
    "★ 아 개 이해안됨. ddof 시발새기\n",
    "왜 필요한건데"
   ]
  },
  {
   "cell_type": "code",
   "execution_count": 86,
   "id": "45108b61",
   "metadata": {},
   "outputs": [
    {
     "name": "stdout",
     "output_type": "stream",
     "text": [
      "8.0\n",
      "10.0\n",
      "13.333333333333334\n"
     ]
    }
   ],
   "source": [
    "data = [1, 3, 5, 7, 9]\n",
    "print(np.var(data, ddof=0))\n",
    "print(np.var(data, ddof=1)) #n-1\n",
    "print(np.var(data, ddof=2)) #n-2"
   ]
  },
  {
   "cell_type": "markdown",
   "id": "05aec125",
   "metadata": {},
   "source": [
    "### 불편분산 (unbiased variance)\n",
    "<br>\n",
    "표본의 분산을 추정할 때 사용하는 통계량으로, 모집단의 분산을 편향되지 않게 추정하기 위해 도입된 개념.<br>\n",
    "표본의 분산을 구할 때 표본 평균이 모집단 평균과 일치하지 않는 경우가 많기 때문에, 표본 분산이 모집단 분산을 과소 추정하는 경향이 있다.<br>\n",
    "이러한 편향을 줄이기 위해 불편분산을 사용한다.<br>\n",
    "<br>\n",
    "불편분산 =Σ(xi - x̄)^2 / (n - 1)\n",
    "<br>\n",
    "여기서 xi는 표본의 각 데이터 포인트,  x̄는 표본 평균,   n은 표본 크기,   그리고 분모의 (n-1)은 자유도.<br>\n",
    "자유도를 n이 아닌 n-1로 설정함으로써 편향을 보정하게 됨.<br>\n",
    "이것을 Bessel's correction이라고 함.<br>\n",
    "불편분산을 사용하면, 표본을 바탕으로 모집단의 분산을 더 정확하게 추정할 수 있음.<br>\n",
    "이는 통계적 추론에서 신뢰도와 정확성을 높이는데 중요한 역할을 한다."
   ]
  },
  {
   "cell_type": "code",
   "execution_count": 27,
   "id": "cbd8b21f",
   "metadata": {},
   "outputs": [
    {
     "data": {
      "text/plain": [
       "1.3333333333333333"
      ]
     },
     "execution_count": 27,
     "metadata": {},
     "output_type": "execute_result"
    }
   ],
   "source": [
    "#불편분산\n",
    "\n",
    "np.var(fish_data,ddof=1)"
   ]
  },
  {
   "cell_type": "code",
   "execution_count": 32,
   "id": "232693bb",
   "metadata": {},
   "outputs": [
    {
     "name": "stdout",
     "output_type": "stream",
     "text": [
      "1.15\n",
      "1.1547005383792515\n",
      "1.15\n"
     ]
    }
   ],
   "source": [
    "np.std(fish_data,ddof=1).round(2)\n",
    "print(np.std(fish_data,ddof=1).round(2))\n",
    "#std:표준편차.  ddof=1을 부여함으로서 표본 표준편차를 계산하게 됨. \n",
    "#round(): 반올림 하여 정수형으로 반환하는 함수. \n",
    "#round(2): 소수점 둘 째 자리에서 반올림하여 반환. \n",
    "print(np.std(fish_data,ddof=1)) #반올림 하기 전의 값.\n",
    "\n",
    "\n",
    "std2=np.std(fish_data,ddof=1)\n",
    "print(np.round(std2,2))"
   ]
  },
  {
   "cell_type": "code",
   "execution_count": 41,
   "id": "692364b4",
   "metadata": {},
   "outputs": [
    {
     "name": "stdout",
     "output_type": "stream",
     "text": [
      "[ 0  1  2  3  4  5  6  7  8  9 10 11 12 13 14]\n",
      "7.0\n",
      "20.0\n",
      "4.47213595499958\n"
     ]
    },
    {
     "data": {
      "text/plain": [
       "0.0"
      ]
     },
     "execution_count": 41,
     "metadata": {},
     "output_type": "execute_result"
    }
   ],
   "source": [
    "# Q. a의 평균, 분산, 표준편차, 편차의 평균을 구하세요.\n",
    "# a = np.arange(15)\n",
    "# A.\n",
    "\n",
    "a=np.arange(15)\n",
    "print(a)\n",
    "\n",
    "m=np.mean(a)  #평균\n",
    "print(m)\n",
    "\n",
    "v=np.var(a,ddof=1) #분산\n",
    "print(v)\n",
    "\n",
    "s=np.std(a,ddof=1) #표준편차\n",
    "print(s)\n",
    "\n",
    "np.mean(a-m) #원본 - 평균 =편차의 평균\n"
   ]
  },
  {
   "cell_type": "code",
   "execution_count": 44,
   "id": "7233fc4b",
   "metadata": {},
   "outputs": [
    {
     "data": {
      "text/plain": [
       "4.75"
      ]
     },
     "execution_count": 44,
     "metadata": {},
     "output_type": "execute_result"
    }
   ],
   "source": [
    "#주어진 배열에서 주어진 백분위수에 해당하는 값을 찾습니다.\n",
    "\n",
    "np.percentile(fish_data,75) #75번째 백분위 수에 해당하는 값(백분위수=0~100사이)\n",
    "# fish_data 배열의 값 중 75%이하인 값 중에서 가장 큰 값을 반환\n",
    "\n",
    "#np.percentile() : 백분위수 계산 함수. (numpy)\n",
    "\n",
    "# fish_data = np.array([2, 3, 3, 4, 4, 4, 4, 5, 5, 6])\n",
    "# percentile_75 = np.percentile(fish_data, 75)\n",
    "# print(percentile_75)\n",
    "\n"
   ]
  },
  {
   "cell_type": "code",
   "execution_count": 46,
   "id": "d43d8400",
   "metadata": {},
   "outputs": [],
   "source": [
    "fish_data2 = np.array([2,3,3,4,4,4,4,5,5,6,100])"
   ]
  },
  {
   "cell_type": "code",
   "execution_count": 50,
   "id": "8db3939e",
   "metadata": {},
   "outputs": [
    {
     "name": "stdout",
     "output_type": "stream",
     "text": [
      "[  2   3   3   4   4   4   4   5   5   6 100]\n",
      "평균: 12.73\n",
      "중앙값: 4.0\n"
     ]
    }
   ],
   "source": [
    "print(fish_data2)\n",
    "print('평균:',fish_data2.mean().round(2))\n",
    "print('중앙값:',np.median(fish_data2))"
   ]
  },
  {
   "cell_type": "markdown",
   "id": "de38cfb0",
   "metadata": {},
   "source": [
    "- 그룹별 통계량:  mean():평균,  std():표준편차,  describe():통계정보\n",
    "- 교차분석표: pivot_table() \n",
    "    - 데이터 프레임에서 특정 열(column)의 값을 기준으로 다른 열의 값들을 집계하여 새로운 데이터 프레임을 생성하는 함수(pandas).\n",
    "- 깔끔한 데이터: 행 하나에 1개의 결과가 오도록 정리.교차분석표는 행이 변수의 의미를 갖는 경향이 있음."
   ]
  },
  {
   "cell_type": "markdown",
   "id": "ce3ce0c4",
   "metadata": {},
   "source": [
    "## 공분산 vs 상관계수\n",
    "\n",
    "데이터 분석에서 공분산(Convariance)은 두 변수 간의 선형관계를 나타내는 값입니다.<br>\n",
    "공분산은 두 변수의 평자를 사용하여 계산되며, 공분산의 값이 양수일 경우 두 변수가 같은 방향으로 움직이는 경향이 있음을 의미합니다.<br>\n",
    "즉, 하나의 변수가 증가할 때 다른 변수도 증가하는 경향이 있습니다.<br>\n",
    "반대로 공분산이 음수일 경우 두 변수가 반대 방향으로 움직이는 경향이 있음을 의미합니다. 즉, 하나의 변수가 증가할 때 다른 변수는 감소하는 경향이 있습니다.\n",
    "<br>\n",
    "<br>\n",
    "공분산의 절대값은 두 변수 간의 관계의 강도를 나타내지만, 단위에 따라 값이 달라지므로 이를 해석하는 것은 어렵습니다. 따라서 공분산을 표준화 하여 -1에서 1사이의 값을 갖는 상관계수(Correlation Coefficient)를 사용하는 것이 일반적입니다. 상관계수는 두 변수 간의 관계의 강도와 방향을 더 명확하게 나타내 줍니다.<br>\n",
    "<br>\n",
    "공분산은 다음과 같은 공식으로 계산됩니다.\n",
    "Cov(X, Y) = Σ[(X - μ_X)(Y - μ_Y)] / n\n",
    "<br>\n",
    "\n",
    "cov(X,Y)는 변수 X와 변수Y의 공분산을 나타냅니다.<br>\n",
    "μ_X와 μ_Y는 각각 변수 X와 변수 Y의 평균입니다.<br>\n",
    "n은 데이터 포인트의 개수입니다. <br>\n",
    "Σ는 모든 데이터 포인트에 대한 합을 나타냅니다.<br>\n",
    "공분산을 사용하여 데이터간의 선형 관계를 분석하고, 변수간의 연관성을 파악할 수 있습니다. 이를 통해 변수들의 독립성을 확인하거나, 특정 변수가 다른 변수에 미치는 영향을 이해할 수 있습니다.\n",
    "\n",
    "- 공분산:<br>\n",
    "    - 공분산: 2개의 연속형 변수의 관계성을 확인하는 통계량\n",
    "    - 공분산이 0보다 클 때 : 변수 한쪽이 큰 값을 갖게 되면 다른 한 쪽도 커짐 \n",
    "    - 공분산이 0보다 작을 때: 변수 한쪽이 큰값을 갖게되면 다른 한 쪽도 작아짐. \n",
    "    - 공분산이 0일 때 : 변수 사이에 관계성이 없음. \n",
    "    - 공분산은 편리한 지표지만 최대값이나 최소값이 얼마나 될 지 않 수가 없으며\n",
    "    - 단위가 cm에서 m로 변하면 공분산의 값도 변함. 사용이 편하도록 -1~+1의 범위로 보정<br>\n",
    "<br> \n",
    "- 피어슨 상관계수: 공분산을 최대값 1, 최소값 -1 사이가 되도록 표준화\n",
    "    - cov / sp.sqrt(sigma_2_x * sigma_2_y)\n",
    "    - 상관행렬 : 여러 변수의 상관계수들을 행렬 형태로 정리\n",
    "    - 상관계수가 무의미할 때 : 상관계수가 0에 가까운 값을 가질 때는 실제 그래프로 관계를 확인 \n",
    "    \n"
   ]
  },
  {
   "cell_type": "markdown",
   "id": "a0341eb2",
   "metadata": {},
   "source": [
    "[자습] 추가 메모<br> \n",
    "<br>\n",
    "공분산(cov): 두 변수간의 관계를 나타내는 통계적 지표\n",
    "- 공분산의 두 변수들의 값이 평균값으로부터 얼마나 떨어져 있는지 고려하여 계산됨.\n",
    "    - 두 변수의 증가율이 비례 = 양수(공분산)\n",
    "    - 구 변수의 증가율이 반비례= 음수(공분산)\n",
    "    - 두 변수가 독립적일 때=  공분산은 0\n",
    "- 공분산의 절대값이 클수록 두 변수가 상한 상관관계를 갖는다.\n",
    "  - 하지만 공분산만으로는 상관관계정도를 파악하기 어렵기 때문에 \"상관계수\"라는 지표를 함께 사용."
   ]
  },
  {
   "cell_type": "markdown",
   "id": "7e1e43dd",
   "metadata": {},
   "source": [
    "Σ= \"시그마(Sigma)\" \n",
    "<br>\n",
    "수열의 합을 나타내는 기호입니다.<br>\n",
    "예를 들어, 1부터 5까지의 자연수를 모두 더하고자 할 때, 시그마 기호를 사용하여 다음과 같이 나타낼 수 있습니다.<br>\n",
    "<br>\n",
    "Σ(i=1 to 5) i = 1 + 2 + 3 + 4 + 5 = 15\n",
    "<br>\n",
    "시그마 기호의 왼쪽 아래에는 더할 수열의 시작값을,<br>\n",
    "오른쪽 아래에는 더할 수열의 끝값을, <br>\n",
    "그리고 시그마 기호 위에는 더해질 값의 식을 적습니다. <br>\n",
    "이렇게 시그마 기호를 사용하면, 많은 양의 수열의 합을 간단하게 표현할 수 있습니다."
   ]
  },
  {
   "cell_type": "markdown",
   "id": "604fc99b",
   "metadata": {},
   "source": [
    "μ는 \"뮤(Mu)\" <br>\n",
    "그리스 문자 중 하나입니다. <br>\n",
    "통계학에서는 이 기호를 평균(mean)을 나타내는 데 사용합니다. "
   ]
  },
  {
   "cell_type": "code",
   "execution_count": null,
   "id": "bcd83dd1",
   "metadata": {},
   "outputs": [],
   "source": [
    "#★ 파일이 없음\n",
    "import pandas as pd\n",
    "fish_multi = pd.read_csv('/content/drive/MyDrive/hmkd1/m3_통계/dataset/5_2_fm.csv')\n",
    "fish_multi"
   ]
  },
  {
   "cell_type": "code",
   "execution_count": null,
   "id": "51fa2423",
   "metadata": {},
   "outputs": [],
   "source": [
    "#그룹별 통계량 계산\n",
    "group=fish_multi.groupby('species')\n",
    "print(group.mean())\n",
    "print(group.std(ddof=1))\n",
    "group.describe()"
   ]
  },
  {
   "cell_type": "code",
   "execution_count": null,
   "id": "6ea3162b",
   "metadata": {},
   "outputs": [],
   "source": [
    "cov_data = pd.read_csv('/content/drive/MyDrive/hmkd1/m3_통계/dataset/4_cov.csv')\n",
    "cov_data"
   ]
  },
  {
   "cell_type": "code",
   "execution_count": null,
   "id": "4cec02b2",
   "metadata": {},
   "outputs": [],
   "source": [
    "# 과제\n",
    "# Q1. 공분산을 풀어서 구하세요.:Cov(X, Y) = Σ[(X - μ_X)(Y - μ_Y)] / n"
   ]
  },
  {
   "cell_type": "code",
   "execution_count": null,
   "id": "0d9b4626",
   "metadata": {},
   "outputs": [],
   "source": [
    "# 과제\n",
    "# Q2. 상관계수를 풀어서 구하세요.cov / sp.sqrt(sigma_2_x * sigma_2_y)"
   ]
  },
  {
   "cell_type": "code",
   "execution_count": 2,
   "id": "b046b720",
   "metadata": {},
   "outputs": [
    {
     "ename": "NameError",
     "evalue": "name 'cov_data' is not defined",
     "output_type": "error",
     "traceback": [
      "\u001b[1;31m---------------------------------------------------------------------------\u001b[0m",
      "\u001b[1;31mNameError\u001b[0m                                 Traceback (most recent call last)",
      "\u001b[1;32m~\\AppData\\Local\\Temp\\ipykernel_7456\\1907090147.py\u001b[0m in \u001b[0;36m<module>\u001b[1;34m\u001b[0m\n\u001b[0;32m      2\u001b[0m \u001b[1;32mimport\u001b[0m \u001b[0mscipy\u001b[0m \u001b[1;32mas\u001b[0m \u001b[0msp\u001b[0m\u001b[1;33m\u001b[0m\u001b[1;33m\u001b[0m\u001b[0m\n\u001b[0;32m      3\u001b[0m \u001b[1;32mimport\u001b[0m \u001b[0mnumpy\u001b[0m \u001b[1;32mas\u001b[0m \u001b[0mnp\u001b[0m\u001b[1;33m\u001b[0m\u001b[1;33m\u001b[0m\u001b[0m\n\u001b[1;32m----> 4\u001b[1;33m \u001b[0mnp\u001b[0m\u001b[1;33m.\u001b[0m\u001b[0mcov\u001b[0m\u001b[1;33m(\u001b[0m\u001b[0mcov_data\u001b[0m\u001b[1;33m.\u001b[0m\u001b[0mx\u001b[0m\u001b[1;33m,\u001b[0m\u001b[0mcov_data\u001b[0m\u001b[1;33m.\u001b[0m\u001b[0my\u001b[0m\u001b[1;33m,\u001b[0m\u001b[0mddof\u001b[0m\u001b[1;33m=\u001b[0m\u001b[1;36m1\u001b[0m\u001b[1;33m)\u001b[0m\u001b[1;33m\u001b[0m\u001b[1;33m\u001b[0m\u001b[0m\n\u001b[0m",
      "\u001b[1;31mNameError\u001b[0m: name 'cov_data' is not defined"
     ]
    }
   ],
   "source": [
    "#공분산 :Cov(X, Y) = Σ[(X - μ_X)(Y - μ_Y)] / n\n",
    "import scipy as sp\n",
    "import numpy as np\n",
    "np.cov(cov_data.x,cov_data.y,ddof=1)"
   ]
  },
  {
   "cell_type": "code",
   "execution_count": null,
   "id": "e9421fd8",
   "metadata": {},
   "outputs": [],
   "source": [
    "# 상관 행렬\n",
    "np.corrcoef(cov_data.x,cov_data.y)"
   ]
  },
  {
   "cell_type": "code",
   "execution_count": null,
   "id": "f1bf5626",
   "metadata": {},
   "outputs": [],
   "source": [
    "# 상관 계수 : df.corr()\n",
    "cov_data.corr()"
   ]
  },
  {
   "cell_type": "code",
   "execution_count": 25,
   "id": "c444fc2b",
   "metadata": {},
   "outputs": [
    {
     "data": {
      "text/plain": [
       "array([5.29947629, 3.51059487, 3.5774626 , 3.1416251 , 4.6923261 ,\n",
       "       2.15876904, 5.39584941, 3.39103448, 4.25523128, 3.8005037 ])"
      ]
     },
     "execution_count": 25,
     "metadata": {},
     "output_type": "execute_result"
    }
   ],
   "source": [
    "# 평균 4, 표준편차 0.8인 정규분포에서 10개 샘플 추출\n",
    "from scipy import stats #통계 분석을 위한 라이브러리인 scipy의 stats 모듈을 불러오는 코드\n",
    "\n",
    "population = stats.norm(loc=4,scale=0.8) \n",
    "#표준이 4, 표준편차가 0.8인 정규분포를 따르는 모집단 생성\n",
    "# loc: 정규 분포의 평균값을 지정\n",
    "# scale: 정규 분포의 표준편차를 지정\n",
    "# stats.norm() : 정규 분포를 따르는 확률 변수 클래스를 생성\n",
    "\n",
    "population.rvs(size=10)\n",
    "#rvs(): 확률 분포를 따르는 랜덤 샘플을 생성하는 메서드\n",
    "#size=10: 모집단에서 10개의 샘플을 추출\n",
    "#실행할 때마다 다른 결과가 나온다"
   ]
  },
  {
   "cell_type": "code",
   "execution_count": 26,
   "id": "15047109",
   "metadata": {},
   "outputs": [
    {
     "data": {
      "text/plain": [
       "array([0., 0., 0., 0., 0., 0., 0., 0., 0., 0.])"
      ]
     },
     "execution_count": 26,
     "metadata": {},
     "output_type": "execute_result"
    }
   ],
   "source": [
    "sample_mean_array=np.zeros(10000)\n",
    "sample_mean_array[:10]\n",
    "#위 코드는 크기가 10,000이고 모든 값이 0인 배열(sample_mean_array)을 생성한 후, \n",
    "#이 배열의 처음부터 10개 원소만 출력하는 코드입니다."
   ]
  },
  {
   "cell_type": "code",
   "execution_count": 27,
   "id": "d6cb2b14",
   "metadata": {},
   "outputs": [
    {
     "data": {
      "text/plain": [
       "array([3.86432929, 4.06953003, 3.85713987, 4.18465413, 4.1419682 ,\n",
       "       4.36534231, 3.91159493, 4.11592335, 4.05189342, 4.03217374])"
      ]
     },
     "execution_count": 27,
     "metadata": {},
     "output_type": "execute_result"
    }
   ],
   "source": [
    "# Q. 배열에 샘플사이즈 10인 표본 10000개의 표본평균을 저장\n",
    "\n",
    "for i in range(10000):\n",
    "    #population에서 size가 10인 표본(sample) 10,000개를 추출하여, \n",
    "    #각각의 표본 평균을 계산하고, 이를 sample_mean_array 배열에 저장\n",
    "    \n",
    "    sample_mean_array[i] = population.rvs(size=10).mean() \n",
    "    # population 객체에서 size가 10인 랜덤 샘플을 추출하는 메서드\n",
    "\n",
    "sample_mean_array[:10]"
   ]
  },
  {
   "cell_type": "code",
   "execution_count": 28,
   "id": "7819e1f9",
   "metadata": {},
   "outputs": [
    {
     "data": {
      "text/plain": [
       "4.0"
      ]
     },
     "execution_count": 28,
     "metadata": {},
     "output_type": "execute_result"
    }
   ],
   "source": [
    "#표본 평균의 평균\n",
    "sample_mean_array.mean().round(2)"
   ]
  },
  {
   "cell_type": "code",
   "execution_count": 29,
   "id": "41f55b44",
   "metadata": {},
   "outputs": [
    {
     "data": {
      "text/plain": [
       "0.25"
      ]
     },
     "execution_count": 29,
     "metadata": {},
     "output_type": "execute_result"
    }
   ],
   "source": [
    "#표본평균의 표준편차\n",
    "sample_mean_array.std(ddof=1).round(2)"
   ]
  },
  {
   "cell_type": "code",
   "execution_count": 30,
   "id": "b37b5f41",
   "metadata": {},
   "outputs": [
    {
     "data": {
      "text/plain": [
       "<AxesSubplot:ylabel='Count'>"
      ]
     },
     "execution_count": 30,
     "metadata": {},
     "output_type": "execute_result"
    },
    {
     "data": {
      "image/png": "[encoded data removed]",
      "text/plain": [
       "<Figure size 640x480 with 1 Axes>"
      ]
     },
     "metadata": {},
     "output_type": "display_data"
    }
   ],
   "source": [
    "import seaborn as sns\n",
    "sns.histplot(sample_mean_array,color='black',kde=True)\n",
    "# kde (Kernel Density Estimation): 연속적인 확률 밀도 함수를 추정하여 표현"
   ]
  },
  {
   "cell_type": "code",
   "execution_count": 31,
   "id": "3203b3b9",
   "metadata": {},
   "outputs": [
    {
     "data": {
      "text/plain": [
       "1001"
      ]
     },
     "execution_count": 31,
     "metadata": {},
     "output_type": "execute_result"
    }
   ],
   "source": [
    "#샘플사이즈 변화\n",
    "size_array = np.arange(10,100100,100) #110부터 100100까지 100씩 증가하는 수열을 생성\n",
    "len(size_array)"
   ]
  },
  {
   "cell_type": "code",
   "execution_count": 32,
   "id": "12996c30",
   "metadata": {},
   "outputs": [],
   "source": [
    "sample_mean_array_size=np.zeros(len(size_array))"
   ]
  },
  {
   "cell_type": "code",
   "execution_count": 33,
   "id": "aeea76a8",
   "metadata": {},
   "outputs": [
    {
     "data": {
      "text/plain": [
       "array([3.92228729, 4.0383612 , 4.09185254, 4.01346562, 4.0047295 ,\n",
       "       4.05765729, 3.98466861, 3.99126955, 3.98909837, 4.03638272])"
      ]
     },
     "execution_count": 33,
     "metadata": {},
     "output_type": "execute_result"
    }
   ],
   "source": [
    "#샘플사이즈를 변환시키면서 표본평균을 도출하는 시뮬레이션\n",
    "np.random.seed(1)\n",
    "for i in range(0,len(size_array)):\n",
    "    sample = population.rvs(size=size_array[i])\n",
    "    sample_mean_array_size[i] = np.mean(sample)\n",
    "sample_mean_array_size[:10]"
   ]
  },
  {
   "cell_type": "code",
   "execution_count": 34,
   "id": "ec8ab133",
   "metadata": {},
   "outputs": [
    {
     "data": {
      "text/plain": [
       "Text(0, 0.5, 'sample mean')"
      ]
     },
     "execution_count": 34,
     "metadata": {},
     "output_type": "execute_result"
    },
    {
     "data": {
      "image/png": "[encoded data removed]",
      "text/plain": [
       "<Figure size 640x480 with 1 Axes>"
      ]
     },
     "metadata": {},
     "output_type": "display_data"
    }
   ],
   "source": [
    "#샘플 사이즈가 커질수록 표본평균이 모평균(4)에 가까워짐\n",
    "\n",
    "import matplotlib.pyplot as plt\n",
    "plt.plot(size_array, sample_mean_array_size, #첫번째 인자 x, 두번째인자y\n",
    "        color='black')\n",
    "plt.xlabel('sample size')\n",
    "plt.ylabel('sample mean')\n",
    "\n",
    "#이렇게 시각화된 데이터는 분석 및 패턴 파악 등에 도움"
   ]
  },
  {
   "cell_type": "code",
   "execution_count": 35,
   "id": "1cee855f",
   "metadata": {},
   "outputs": [
    {
     "data": {
      "text/plain": [
       "4.001728724963021"
      ]
     },
     "execution_count": 35,
     "metadata": {},
     "output_type": "execute_result"
    }
   ],
   "source": [
    "# 사용자 함수 (표본평균 계산): cal_sample_mean(size,n_trial)\n",
    "\n",
    "def cal_sample_mean(size, n_trial): #size와 n_trial을 받습니다\n",
    "    \n",
    "    sample_mean_array=np.zeros(n_trial)\n",
    "    #n_trial 길이의 0으로 채워진 1차원 넘파이 배열로 만든다\n",
    "    \n",
    "    for i in range(n_trial): #for 루프를 이용하여 n_trial번 시행\n",
    "        \n",
    "        sample_mean_array[i] = population.rvs(size=size).mean()\n",
    "        #각 시행마다 크기가 size인 표본을 추출.표본의 평균을 대입\n",
    "    return sample_mean_array\n",
    "\n",
    "np.mean(cal_sample_mean(size=10,n_trial=10000))"
   ]
  },
  {
   "cell_type": "code",
   "execution_count": 36,
   "id": "c4bc744b",
   "metadata": {},
   "outputs": [
    {
     "data": {
      "text/html": [
       "<div>\n",
       "<style scoped>\n",
       "    .dataframe tbody tr th:only-of-type {\n",
       "        vertical-align: middle;\n",
       "    }\n",
       "\n",
       "    .dataframe tbody tr th {\n",
       "        vertical-align: top;\n",
       "    }\n",
       "\n",
       "    .dataframe thead th {\n",
       "        text-align: right;\n",
       "    }\n",
       "</style>\n",
       "<table border=\"1\" class=\"dataframe\">\n",
       "  <thead>\n",
       "    <tr style=\"text-align: right;\">\n",
       "      <th></th>\n",
       "      <th>sample_mean</th>\n",
       "      <th>size</th>\n",
       "    </tr>\n",
       "  </thead>\n",
       "  <tbody>\n",
       "    <tr>\n",
       "      <th>0</th>\n",
       "      <td>3.735560</td>\n",
       "      <td>size_10</td>\n",
       "    </tr>\n",
       "    <tr>\n",
       "      <th>1</th>\n",
       "      <td>3.874879</td>\n",
       "      <td>size_10</td>\n",
       "    </tr>\n",
       "    <tr>\n",
       "      <th>2</th>\n",
       "      <td>4.059948</td>\n",
       "      <td>size_10</td>\n",
       "    </tr>\n",
       "    <tr>\n",
       "      <th>3</th>\n",
       "      <td>4.024522</td>\n",
       "      <td>size_10</td>\n",
       "    </tr>\n",
       "    <tr>\n",
       "      <th>4</th>\n",
       "      <td>4.307880</td>\n",
       "      <td>size_10</td>\n",
       "    </tr>\n",
       "    <tr>\n",
       "      <th>...</th>\n",
       "      <td>...</td>\n",
       "      <td>...</td>\n",
       "    </tr>\n",
       "    <tr>\n",
       "      <th>9995</th>\n",
       "      <td>3.608332</td>\n",
       "      <td>size_30</td>\n",
       "    </tr>\n",
       "    <tr>\n",
       "      <th>9996</th>\n",
       "      <td>4.022063</td>\n",
       "      <td>size_30</td>\n",
       "    </tr>\n",
       "    <tr>\n",
       "      <th>9997</th>\n",
       "      <td>3.898132</td>\n",
       "      <td>size_30</td>\n",
       "    </tr>\n",
       "    <tr>\n",
       "      <th>9998</th>\n",
       "      <td>3.967889</td>\n",
       "      <td>size_30</td>\n",
       "    </tr>\n",
       "    <tr>\n",
       "      <th>9999</th>\n",
       "      <td>4.145068</td>\n",
       "      <td>size_30</td>\n",
       "    </tr>\n",
       "  </tbody>\n",
       "</table>\n",
       "<p>30000 rows × 2 columns</p>\n",
       "</div>"
      ],
      "text/plain": [
       "      sample_mean     size\n",
       "0        3.735560  size_10\n",
       "1        3.874879  size_10\n",
       "2        4.059948  size_10\n",
       "3        4.024522  size_10\n",
       "4        4.307880  size_10\n",
       "...           ...      ...\n",
       "9995     3.608332  size_30\n",
       "9996     4.022063  size_30\n",
       "9997     3.898132  size_30\n",
       "9998     3.967889  size_30\n",
       "9999     4.145068  size_30\n",
       "\n",
       "[30000 rows x 2 columns]"
      ]
     },
     "execution_count": 36,
     "metadata": {},
     "output_type": "execute_result"
    }
   ],
   "source": [
    "# 샘플사이즈 10\n",
    "size_10 = cal_sample_mean(size=10,n_trial=10000)\n",
    "size_10_df = pd.DataFrame({'sample_mean':size_10,\n",
    "                          'size':np.tile('size_10',10000)})\n",
    "\n",
    "# 샘플사이즈 20\n",
    "size_20 = cal_sample_mean(size=20,n_trial=10000)\n",
    "size_20_df = pd.DataFrame({'sample_mean':size_20,\n",
    "                          'size':np.tile('size_20',10000)})\n",
    "\n",
    "# 샘플사이즈 30\n",
    "size_30 = cal_sample_mean(size=30,n_trial=10000)\n",
    "size_30_df = pd.DataFrame({'sample_mean':size_30,\n",
    "                          'size':np.tile('size_30',10000)})\n",
    "\n",
    "# 종합\n",
    "sim_result = pd.concat([size_10_df,size_20_df,size_30_df])\n",
    "sim_result"
   ]
  },
  {
   "cell_type": "code",
   "execution_count": 37,
   "id": "69ddcbf3",
   "metadata": {},
   "outputs": [
    {
     "data": {
      "text/plain": [
       "<AxesSubplot:xlabel='size', ylabel='sample_mean'>"
      ]
     },
     "execution_count": 37,
     "metadata": {},
     "output_type": "execute_result"
    },
    {
     "data": {
      "image/png": "[encoded data removed]",
      "text/plain": [
       "<Figure size 640x480 with 1 Axes>"
      ]
     },
     "metadata": {},
     "output_type": "display_data"
    }
   ],
   "source": [
    "# Q. sim_result로 바이올린 플롯을 그리고 3개 그룹에 대한 인사이트를 기술하세요.\n",
    "sns.violinplot(x='size',y='sample_mean',\n",
    "              data=sim_result,color='gray')"
   ]
  },
  {
   "cell_type": "code",
   "execution_count": 38,
   "id": "21256d48",
   "metadata": {},
   "outputs": [],
   "source": [
    "# 세 분포 모두 평균 4.0을 중심으로 종모양의 분포 형태를 갖는다. \n",
    "# size=10일때는 size=20,30일때보다 분포가 넓게 퍼져있고, \n",
    "# 샘플사이즈가 커질수록 분포가 평균값에 몰려있다는 것을 확인할 수 있다. \n",
    "# 즉, 샘플사이즈가 클수록 표본에서 구한 평균이 모평균과 가까운 값일 확률이 높아진다는 의미이다."
   ]
  },
  {
   "cell_type": "code",
   "execution_count": 39,
   "id": "faab0c16",
   "metadata": {},
   "outputs": [],
   "source": [
    "#추출 횟수가 같더라도 샘플의 사이즈가 커질수록 표본평균이 모평군에 근사함\n",
    "#추출 됫수가 같더라도 샘플의 사이즈가 커질수록 표준편차가 작아짐"
   ]
  },
  {
   "cell_type": "code",
   "execution_count": 40,
   "id": "c8e2502c",
   "metadata": {},
   "outputs": [],
   "source": [
    "# 1. 샘플 사이즈가 커질수록 표본평균에 근접한 값의 밀도가 높아짐.\n",
    "# 2. 즉 샘플 사이즈가 커질수록 표본평균이 모평균에 가까워짐.\n",
    "# 3. 샘플사이즈의 크기가 중요해진다."
   ]
  },
  {
   "cell_type": "code",
   "execution_count": 41,
   "id": "8ace2b07",
   "metadata": {},
   "outputs": [
    {
     "data": {
      "text/plain": [
       "array([  2,   4,   6,   8,  10,  12,  14,  16,  18,  20,  22,  24,  26,\n",
       "        28,  30,  32,  34,  36,  38,  40,  42,  44,  46,  48,  50,  52,\n",
       "        54,  56,  58,  60,  62,  64,  66,  68,  70,  72,  74,  76,  78,\n",
       "        80,  82,  84,  86,  88,  90,  92,  94,  96,  98, 100, 102])"
      ]
     },
     "execution_count": 41,
     "metadata": {},
     "output_type": "execute_result"
    }
   ],
   "source": [
    "size_array = np.arange(2,103,2)\n",
    "size_array"
   ]
  },
  {
   "cell_type": "code",
   "execution_count": 42,
   "id": "eddf161f",
   "metadata": {},
   "outputs": [],
   "source": [
    "# 표본평균의 표준편차를 저장할 배열\n",
    "sample_mean_std_array = np.zeros(len(size_array))"
   ]
  },
  {
   "cell_type": "code",
   "execution_count": 43,
   "id": "d9d7e746",
   "metadata": {
    "scrolled": true
   },
   "outputs": [
    {
     "data": {
      "text/plain": [
       "Text(0, 0.5, 'mean std value')"
      ]
     },
     "execution_count": 43,
     "metadata": {},
     "output_type": "execute_result"
    },
    {
     "data": {
      "image/png": "[encoded data removed]",
      "text/plain": [
       "<Figure size 640x480 with 1 Axes>"
      ]
     },
     "metadata": {},
     "output_type": "display_data"
    }
   ],
   "source": [
    "#시뮬레이션 : 샘플사이즈가 커질수록 표본평균의 표준편차가 작아짐\n",
    "np.random.seed(1)\n",
    "for i in range(0,len(size_array)):\n",
    "    sample_mean = cal_sample_mean(size=size_array[i],n_trial=100)\n",
    "    #for 루프를 이용하여 size_array에 있는 각각의 샘플 크기에 대해 \n",
    "    #cal_sample_mean 함수를 호출하여 n_trial개의 표본 평균을 구합니다.\n",
    "    \n",
    "    sample_mean_std_array[i] = np.std(sample_mean,ddof=1)\n",
    "    #np.std() 함수를 이용하여 sample_mean의 표준편차를 구합니다\n",
    "    #ddof=1 표본 표준편차를 계산할 때 1을 빼주어야 합니다\n",
    "    \n",
    "plt.plot(size_array,sample_mean_std_array, color='black')\n",
    "plt.xlabel('sample size')\n",
    "plt.ylabel('mean std value')\n",
    "\n",
    "\n",
    "#샘플 크기가 증가함에 따라 표본 평균의 표준편차가 어떻게 변화하는지를 시각적으로 보여줍니다. \n",
    "#이렇게 시각화된 데이터는 분석 및 패턴 파악 등에 도움이 됩니다."
   ]
  },
  {
   "cell_type": "markdown",
   "id": "d5480394",
   "metadata": {},
   "source": [
    "#### 표준오차 \n",
    "표본평균과 모평균과의 표준적인 차이.\n",
    "- 평균의 추정치에 대한 불확실도를 수치화 \n",
    "- 샘플 사이즈가 커지면 표준오차는 작아짐\n",
    "    - 공식: [표준편차, 표준오차, 확률 등]을 표본크기의 제곱으로 나눈다.\n",
    "        - ex)0.8/np.sqrt(size_array) \n",
    "        - #0.8을 size_array(표본의 크기)의 제곱근으로 나누어 표준오차 계산\n",
    "        - sqrt(): 제곱근 계산 함수 (numpy)"
   ]
  },
  {
   "cell_type": "code",
   "execution_count": 44,
   "id": "77f635dd",
   "metadata": {},
   "outputs": [
    {
     "data": {
      "text/plain": [
       "array([0.56568542, 0.4       , 0.32659863, 0.28284271, 0.25298221,\n",
       "       0.23094011, 0.21380899, 0.2       , 0.18856181, 0.17888544,\n",
       "       0.17056057, 0.16329932, 0.15689291, 0.15118579, 0.14605935,\n",
       "       0.14142136, 0.13719887, 0.13333333, 0.12977714, 0.12649111,\n",
       "       0.12344268, 0.12060454, 0.11795356, 0.11547005, 0.11313708,\n",
       "       0.11094004, 0.10886621, 0.1069045 , 0.10504515, 0.10327956,\n",
       "       0.1016001 , 0.1       , 0.09847319, 0.09701425, 0.09561829,\n",
       "       0.0942809 , 0.09299811, 0.09176629, 0.09058216, 0.08944272,\n",
       "       0.08834522, 0.08728716, 0.08626622, 0.08528029, 0.0843274 ,\n",
       "       0.08340577, 0.0825137 , 0.08164966, 0.0808122 , 0.08      ,\n",
       "       0.0792118 ])"
      ]
     },
     "execution_count": 44,
     "metadata": {},
     "output_type": "execute_result"
    }
   ],
   "source": [
    "# 표준오차 : 표본평균과 모평균과의 표준적인 차이.\n",
    "\n",
    "standard_error = 0.8/np.sqrt(size_array) \n",
    "standard_error #표본평균의 표준오차 값"
   ]
  },
  {
   "cell_type": "code",
   "execution_count": 98,
   "id": "cd9cd10a",
   "metadata": {},
   "outputs": [
    {
     "data": {
      "text/plain": [
       "Text(0, 0.5, 'mean std value')"
      ]
     },
     "execution_count": 98,
     "metadata": {},
     "output_type": "execute_result"
    },
    {
     "data": {
      "image/png": "[encoded data removed]",
      "text/plain": [
       "<Figure size 640x480 with 1 Axes>"
      ]
     },
     "metadata": {},
     "output_type": "display_data"
    }
   ],
   "source": [
    "# 시뮬레이션 결과와 표준오차간 비교\n",
    "plt.plot(size_array,sample_mean_std_array,color='black')\n",
    "plt.plot(size_array,standard_error,color='red',linestyle='dotted')\n",
    "plt.xlabel('sample size')\n",
    "plt.ylabel('mean std value')"
   ]
  },
  {
   "cell_type": "code",
   "execution_count": null,
   "id": "0e62c939",
   "metadata": {},
   "outputs": [],
   "source": [
    "# 과제\n",
    "# Q. 샘플 사이즈가 커지면 불편분산은 모분산(0.64)에 가까워 진다.는 것을 \n",
    "# 그래프로 설명하세요.\n",
    "\n",
    "sample_size = np.arange(4,10004,4) #4부터 10004까지 4씩 증가하는 샘플\n",
    "sample_size\n",
    "print(sample_size)\n",
    "sample_var = np.zeros(len(sample_size))\n",
    "\n",
    "for i in range(len(sample_size)):\n",
    "    sample = stats.norm(10,0.8).rvs(size=sample_size[i])\n",
    "    var = np.var(sample,ddof=1)\n",
    "    sample_var[i] = var\n",
    "\n",
    "tolist = [0.64 for x in range(2500)] # tolist 리스트에 0.64 값을 2500개 만든다=모분산의 값\n",
    "\n",
    "plt.plot(sample_size,sample_var)\n",
    "plt.plot(sample_size,tolist,color='red')\n",
    "plt.xlabel('sample_size',fontsize=10)\n",
    "plt.ylabel('variance value',fontsize=10)\n",
    "plt.annotate(f'{0.64}',xy=(10100,0.62),color='red',fontsize=15)"
   ]
  },
  {
   "cell_type": "code",
   "execution_count": null,
   "id": "4070c9d4",
   "metadata": {},
   "outputs": [],
   "source": [
    "# 정규분포의 확률밀도 계산\n",
    "stats.norm.pdf(loc=4,scale=0.8,x=4)"
   ]
  },
  {
   "cell_type": "code",
   "execution_count": null,
   "id": "39bf4890",
   "metadata": {},
   "outputs": [],
   "source": [
    "x_plot = np.arange(1,7.1,0.1)\n",
    "plt.plot(x_plot,stats.norm.pdf(x=x_plot,loc=4,scale=0.8),color='black')"
   ]
  },
  {
   "cell_type": "code",
   "execution_count": null,
   "id": "7baa2daf",
   "metadata": {},
   "outputs": [],
   "source": [
    "norm_dist = stats.norm(loc=4,scale=0.8)\n",
    "print(norm_dist.pdf(x=4))\n",
    "norm_dist.pdf(x=3)"
   ]
  },
  {
   "cell_type": "code",
   "execution_count": null,
   "id": "e002b085",
   "metadata": {},
   "outputs": [],
   "source": [
    "# 누적분포함수\n",
    "stats.norm.cdf(loc=4,scale=0.8,x=7)"
   ]
  },
  {
   "cell_type": "code",
   "execution_count": null,
   "id": "dcd3677e",
   "metadata": {},
   "outputs": [],
   "source": [
    "x_plot=np.arange(1,7.1,0.1)\n",
    "plt.plot(x_plot,stats.norm.cdf(x=x_plot,loc=4,scale=0.8),color='black')"
   ]
  },
  {
   "cell_type": "code",
   "execution_count": null,
   "id": "8f2c46f1",
   "metadata": {},
   "outputs": [],
   "source": [
    "stats.norm.cdf(loc=4,scale=0.8,x=4)"
   ]
  },
  {
   "cell_type": "code",
   "execution_count": null,
   "id": "11177f69",
   "metadata": {},
   "outputs": [],
   "source": [
    "# 퍼센트포인트\n",
    "stats.norm.ppf(loc=4,scale=0.8,q=0.5)"
   ]
  },
  {
   "cell_type": "code",
   "execution_count": null,
   "id": "55d798dc",
   "metadata": {},
   "outputs": [],
   "source": [
    "# 하측확률\n",
    "stats.norm.cdf(loc=4,scale=0.8,x=4)"
   ]
  },
  {
   "cell_type": "markdown",
   "id": "db13eb17",
   "metadata": {},
   "source": [
    "t분포는 모집단이 정규분포라고 하더라도 분산 σ²이 알려져 있지 않고 표본의 수가 적은 경우에, 평균 μ에 대한 신뢰구간 추정 및 가설검정에 아주 유용하게 쓰이는 분포\n",
    "\n",
    "[t분포의 특성]  \n",
    "1. t분포는 표준정규분포처럼 0을 중심으로 종형의 모습을 가진 대칭 분포이다.\n",
    "2. t분포의 꼬리는 표준정규분포보다 두껍다(fat tail).\n",
    "3. t분포는 자유도 n에 따라 모습이 변하는데, 자유도 n이 커짐에 따라 표준정규분포 N(0,1)에 수렴한다.  \n",
    "통상 모집단의 분산이 알려져 있지 않은 경우, 표분분포를 결정할 때 표본의 크기가 30 이하이면 t분포를, 그 크기가 30 이상이면 표준정규분포를 이용\n",
    "https://math100.tistory.com/42"
   ]
  },
  {
   "cell_type": "code",
   "execution_count": null,
   "id": "6467358b",
   "metadata": {},
   "outputs": [],
   "source": [
    "# t값의 표본분포\n",
    "from scipy import stats\n",
    "np.random.seed(1)\n",
    "t_value_array = np.zeros(10000)\n",
    "norm_dist = stats.norm(loc=4,scale=0.8)\n",
    "for i in range(0,10000):\n",
    "    sample = norm_dist.rvs(size=10)\n",
    "    sample_mean = np.mean(sample)\n",
    "    sample_std = np.std(sample,ddof=1)\n",
    "    sample_se = sample_std/np.sqrt(len(sample))\n",
    "    t_value_array[i] = (sample_mean - 4) / sample_se"
   ]
  },
  {
   "cell_type": "code",
   "execution_count": null,
   "id": "d64ac5b7",
   "metadata": {},
   "outputs": [],
   "source": [
    "# t분포\n",
    "import warnings\n",
    "warnings.filterwarnings('ignore')\n",
    "import matplotlib.pyplot as plt\n",
    "sns.distplot(t_value_array,color='black')\n",
    "\n",
    "# 표준정규분포의 확률밀도\n",
    "x = np.arange(-8,8.1,0.1)\n",
    "plt.plot(x,stats.norm.pdf(x=x),\n",
    "        color='black',linestyle='dotted')"
   ]
  },
  {
   "cell_type": "markdown",
   "id": "a5c490fc",
   "metadata": {},
   "source": [
    "#### 자유도의 의미\n",
    "통계에서 자유도(degree of freedom)는 데이터를 추정하거나 테스트할 때 사용할 수 있는 독립적인 정보의 수를 나타냅니다. 파이썬을 사용하여 통계 분석을 수행할 때 자유도는 여러 통계 검정 및 추정치에 중요한 역할을 합니다. 자유도는 다음과 같은 상황에서 사용됩니다.\n",
    "1. 표본의 분산 및 표준편차: 자유도는 표본의 분산과 표준편차를 계산할 때 사용됩니다. 표본의 크기가 n인 경우, 자유도는 n-1입니다. 이는 표본 평균을 알고 있기 때문에 n-1개의 관측치만 독립적으로 변할 수 있기 때문입니다.\n",
    "2. 카이제곱 검정: 카이제곱 검정은 범주형 데이터의 독립성을 검정하는 데 사용됩니다. 카이제곱 검정에서 자유도는 관측된 빈도와 기대 빈도의 차이를 측정하는 데 사용되며, (행 수 - 1) * (열 수 - 1)로 계산됩니다.\n",
    "3. t-검정: t-검정은 두 집단의 평균 차이를 검정하는 데 사용됩니다. 독립 표본 t-검정에서 자유도는 두 집단의 표본 크기에 따라 결정되며, 일반적으로 두 표본의 크기를 합한 값에서 2를 뺀 값(n1 + n2 - 2)으로 계산됩니다.\n",
    "\n",
    "t-분포와 카이제곱 분포는 각각 t-검정과 카이제곱 검정에 사용되며, 이들 분포의 모양과 특성은 자유도에 크게 의존합니다.\n",
    "\n",
    "- t-분포: t-분포는 자유도에 따라 모양이 달라집니다. 자유도가 증가하면 t-분포는 표준 정규 분포에 가까워집니다. t-검정에서 자유도는 두 집단의 평균 차이에 대한 통계적 유의성을 판단하는 데 사용되는 임계값을 결정하는 데 영향을 줍니다.\n",
    "- 카이제곱 분포: 카이제곱 분포는 범주형 데이터를 분석하는 데 사용되며, 자유도에 따라 분포의 모양이 변화합니다. 자유도가 증가할수록 카이제곱 분포는 오른쪽으로 이동하고, 분포의 모양이 더 평탄해집니다. 카이제곱 검정에서 자유도는 관측된 빈도와 기대 빈도 간의 차이가 통계적으로 유의한지 판단하는 데 사용되는 임계값을 결정하는 데 영향을 줍니다.\n",
    "\n",
    "이처럼 자유도는 파이썬 기반 통계 분석에서 중요한 역할을 하며, 통계적 검정의 정확성과 유의성 판단에 필수적인 요소입니다.\n",
    "\n",
    "#### 자유도가 필요한 이유\n",
    "자유도는 통계적 추정과 가설 검정에서 중요한 역할을 합니다. 주요 이유는 다음과 같습니다:\n",
    "\n",
    "1. 편향의 보정: 자유도를 사용하면 표본의 편향을 보정할 수 있습니다. 예를 들어, 표본 분산을 계산할 때 자유도가 필요한 이유는 표본 평균을 사용해 분산을 추정할 때 발생하는 편향을 줄이기 위해서입니다. 표본 크기가 n인 경우, 자유도는 n-1이며, 이를 Bessel's correction이라고 합니다.\n",
    "2. 분포의 정확한 모양 파악: 통계 검정에서 자유도를 사용하면, 관련된 통계 분포의 정확한 모양을 결정할 수 있습니다. 예를 들어, t-검정에서 자유도는 t-분포의 모양에 영향을 줍니다. 이는 두 집단의 평균 차이에 대한 통계적 유의성을 판단하는 데 사용되는 임계값을 결정하는 데 중요합니다.\n",
    "3. 신뢰 구간 및 예측 구간 계산: 자유도는 신뢰 구간과 예측 구간을 계산하는 데 사용됩니다. 예를 들어, 회귀 분석에서 자유도는 회귀 계수의 신뢰 구간을 계산하는 데 사용되며, 이를 통해 모델의 정확성과 신뢰성을 평가할 수 있습니다.\n",
    "\n",
    "이처럼 자유도는 통계적 추정과 가설 검정에서 편향의 보정, 분포의 정확한 모양 파악, 신뢰 구간 및 예측 구간 계산 등에 필요한 중요한 개념입니다. 자유도를 사용하면 통계적 검정의 정확성과 유의성을 높일 수 있습니다."
   ]
  },
  {
   "cell_type": "code",
   "execution_count": null,
   "id": "cd796301",
   "metadata": {},
   "outputs": [],
   "source": [
    "# 표본의 분산 및 표준편차\n",
    "import numpy as np\n",
    "\n",
    "sample = np.array([2, 4, 6, 8, 10])\n",
    "n = len(sample)\n",
    "dof = n - 1\n",
    "sample_variance = np.sum((sample - np.mean(sample))**2) / dof\n",
    "sample_std_dev = np.sqrt(sample_variance)\n",
    "print(sample_variance,  sample_std_dev)"
   ]
  },
  {
   "cell_type": "code",
   "execution_count": null,
   "id": "7a53744e",
   "metadata": {},
   "outputs": [],
   "source": [
    "# 카이제곱 검정\n",
    "import scipy.stats as stats\n",
    "\n",
    "observed = np.array([[10, 20], [30, 40]])\n",
    "rows, cols = observed.shape\n",
    "dof = (rows - 1) * (cols - 1)\n",
    "chi2, p_value, _, _ = stats.chi2_contingency(observed)\n",
    "print(chi2, p_value)"
   ]
  },
  {
   "cell_type": "code",
   "execution_count": null,
   "id": "a0735888",
   "metadata": {},
   "outputs": [],
   "source": [
    "# t-검정\n",
    "group1 = np.array([10, 20, 30, 40])\n",
    "group2 = np.array([15, 25, 35, 45])\n",
    "n1, n2 = len(group1), len(group2)\n",
    "dof = n1 + n2 - 2\n",
    "t_statistic, p_value = stats.ttest_ind(group1, group2)\n",
    "print(t_statistic, p_value)"
   ]
  },
  {
   "cell_type": "code",
   "execution_count": null,
   "id": "fe669755",
   "metadata": {},
   "outputs": [],
   "source": [
    "# t-분포\n",
    "import matplotlib.pyplot as plt\n",
    "import numpy as np\n",
    "import scipy.stats as stats\n",
    "\n",
    "x = np.linspace(-5, 5, 1000)\n",
    "dof_values = [1, 5, 10, 30]\n",
    "for dof in dof_values:\n",
    "    y = stats.t.pdf(x, df=dof)\n",
    "    plt.plot(x, y, label=f'dof={dof}')\n",
    "\n",
    "plt.title('t-Distribution with Different Degrees of Freedom')\n",
    "plt.xlabel('Value')\n",
    "plt.ylabel('Probability Density')\n",
    "plt.legend()\n",
    "plt.show()\n"
   ]
  },
  {
   "cell_type": "code",
   "execution_count": null,
   "id": "389aa61a",
   "metadata": {},
   "outputs": [],
   "source": [
    "# 카이제곱 분포\n",
    "x = np.linspace(0, 20, 1000)\n",
    "dof_values = [1, 3, 5, 10]\n",
    "for dof in dof_values:\n",
    "    y = stats.chi2.pdf(x, df=dof)\n",
    "    plt.plot(x, y, label=f'dof={dof}')\n",
    "\n",
    "plt.title('Chi-Square Distribution with Different Degrees of Freedom')\n",
    "plt.xlabel('Value')\n",
    "plt.ylabel('Probability Density')\n",
    "plt.legend()\n",
    "plt.show()\n"
   ]
  },
  {
   "cell_type": "code",
   "execution_count": null,
   "id": "8c144015",
   "metadata": {},
   "outputs": [],
   "source": [
    "# 자유도 n이 커짐에 따라 표준정규분포 N(0,1)에 수렴\n",
    "plt.plot(x,stats.norm.pdf(x=x),\n",
    "        color='black',linestyle='dotted')\n",
    "plt.plot(x,stats.t.pdf(x=x,df=5),\n",
    "        color='blue')\n",
    "plt.plot(x,stats.t.pdf(x=x,df=1),\n",
    "        color = 'red')"
   ]
  },
  {
   "cell_type": "code",
   "execution_count": null,
   "id": "e7e790b2",
   "metadata": {},
   "outputs": [],
   "source": [
    "from google.colab import files\n",
    "\n",
    "uploaded = files.upload()"
   ]
  },
  {
   "cell_type": "code",
   "execution_count": null,
   "id": "d31a17d3",
   "metadata": {},
   "outputs": [],
   "source": [
    "#  <img src='신뢰구간.jpg' STYLE='width:300px;'>\n",
    "from PIL import Image\n",
    "from io import BytesIO\n",
    "\n",
    "# 파일 이름을 업로드한 이미지의 이름으로 변경하세요. 예: 'example.png'\n",
    "uploaded_image_name = '신뢰구간.jpg'\n",
    "\n",
    "uploaded_image = Image.open(BytesIO(uploaded[uploaded_image_name]))\n",
    "uploaded_image.show()\n"
   ]
  },
  {
   "cell_type": "markdown",
   "id": "a98477d8",
   "metadata": {},
   "source": [
    "#### 통계적 추정 : 모수 즉 모집단의 파라미터를 추정\n",
    "- 모집단 분포가 정규분포임을 가정했을 때 모수를 알면 모집단 분포를 추정할 수 있음\n",
    "- 점추정 : 모수를 어느 1개의 값으로 추정하는 방법\n",
    " - 모평균 추정에 표본평균을 사용하는데 표본평균은 불편성과 일치성을 가지고 있는 통계량이기 때문임\n",
    " - 모분산의 점추정값으로 표본에서 계산된 통계량으로 불편분산을 사용\n",
    "- 구간추정 : 추정값이 폭을 가지게 하는 추정 방법. 추정의 폭 계산에는 확률의 개념을 사용\n",
    " - 폭을 가지므로 추정오차를 가미할 수 있으며 추정오차가 작으면 구간 추정의 폭이 좁아짐.\n",
    " - 샘플사이즈가 커져도 구간 추정의 폭은 좁아짐\n",
    "- 신뢰계수(신뢰수준)와 신뢰구간\n",
    " - 신뢰계수란 구간 추정의 폭에 대한 신뢰 정도를 확률로 표현한 것. 95%, 99%\n",
    " - 신뢰구간이란 특정 신뢰계수를 만족하는 구간\n",
    " - 신뢰계수가 클수록 신뢰구간의 폭이 넓어짐\n",
    "- 신뢰한계 : 신뢰구간의 하한값과 상한값\n",
    "- 신뢰구간 계산 : \"(표본평균 - 모평균) / 표준오차\"로 계산한 t값. 구간추정을 할 때는 t분포의 퍼센트포인트 사용\n",
    " - 신뢰계수를 95%라고 했을 때 t분포를 따른다면 2.5% 지점과 97.5% 지점을 계산. \n",
    " - t분포를 따르는 변수가 이 구간에 들어갈 확률은 95%가 됨\n",
    " - 표본의 분산 크기가 커지면 신뢰구간의 폭이 넓어짐\n",
    " - 샘플사이즈가 커지면 자유도가 커지고 표준오차가 작아짐\n",
    " - 신뢰계수가 커질수록 안전해진다고 볼 수 있으며 신뢰구간의 폭이 넓어짐\n",
    " \n",
    "[모평균 μ의 신뢰구간을 추정]  \n",
    "\n",
    "만약 누군가가 점추정를 통해 \"A후보의 지지율은 54.3%입니다\"라고 말한다면, 자신감 있어 보이더라도 틀린 말이 될 수 있다. 실제 지지율이 54.9%라면 말이다. 이와 같은 점추정은 틀릴 가능성이 높다. 반면 구간추정을 통해 \"A후보의 지지율은 신뢰수준 95%로 신뢰구간 51.3%~57.3% 내에 있습니다\"라고 말한다면, 좀 더 안전하다. 물론 구간추정도 틀릴 수 있지만, 점추정에 비하면 틀릴 가능성이 적다.  \n",
    "\n",
    "모수가 신뢰구간 안에 포함되지 않을 확률을 보통 α 로 표현한다. 자연스럽게 모수가 신뢰구간 안에 포함될 확률, 즉 신뢰수준은 1 − α로 표현된다.  \n",
    "만약 신뢰수준 1 − α이 0.95 즉, 95%라면 α = 0.05 이다.\n",
    "\n",
    "\n",
    " \n",
    " 예를 들어 그림 6에서처럼 신뢰 수준이 95%이고 표본 오차가 ±3%(즉, 2 x SEM = 3%)인 여론 조사에서 A 후보와 B 후보에 대한 지지율 조사를 했다고 해보자. 이 때, 100명의 사람에게 질문한 결과 A 후보와 B 후보에 대한 지지율이 각각 평균 40%, 36%가 나왔다고 하자. 여기서 우리에게 주어진 정보인 신뢰 수준 95%, 표본오차 ±3%에 따르면 A 후보 지지율의 모비율은 37-43% 사이에 존재할 확률이 95%이고, B 후보 모비율은 33-39% 사이에 존재할 확률이 95%일 것이다.\n",
    "\n",
    "여기서 A 후보와 B 후보에 대한 두 구간 37-43%와 33-39%이 A 후보와 B 후보에 대한 95% 신뢰 구간이다.\n",
    "\n",
    "여기까지 잘 이해했다면 B 후보의 모비율이 더 높을 가능성도 존재한다는 것도 알 수 있다. 왜냐면 A 후보의 지지율에 대한 모비율이 37%, B 후보에 대한 지지율이 39%일 수도 있기 때문이다"
   ]
  },
  {
   "cell_type": "code",
   "execution_count": null,
   "id": "ea83e440",
   "metadata": {},
   "outputs": [],
   "source": [
    "df = pd.read_csv('/content/drive/MyDrive/hmkd1/m3_통계/dataset/5_7_fl.csv')\n",
    "df"
   ]
  },
  {
   "cell_type": "code",
   "execution_count": null,
   "id": "0d5888bf",
   "metadata": {},
   "outputs": [],
   "source": [
    "fish = df['length']\n",
    "fish"
   ]
  },
  {
   "cell_type": "code",
   "execution_count": null,
   "id": "17696b3e",
   "metadata": {},
   "outputs": [],
   "source": [
    "# 모평균의 점추정\n",
    "mu = np.mean(fish)\n",
    "round(mu,2)"
   ]
  },
  {
   "cell_type": "code",
   "execution_count": null,
   "id": "3454df6c",
   "metadata": {},
   "outputs": [],
   "source": [
    "# 모분산의 점추정\n",
    "sigma_2 = np.var(fish,ddof=1)\n",
    "round(sigma_2,2)"
   ]
  },
  {
   "cell_type": "markdown",
   "id": "5ba7fff5",
   "metadata": {},
   "source": [
    "구간 추정은 모수(예: 모평균, 모비율 등)의 추정값 주변에 범위를 제공하는 통계적 추정 방법입니다. 이 때 신뢰수준과 신뢰구간이 중요한 개념입니다.\n",
    "\n",
    "신뢰수준(confidence level): 신뢰수준은 구간 추정의 정확성을 평가하는 확률 값입니다. 일반적으로 90%, 95%, 99% 등의 값으로 표시되며, 이는 특정 신뢰구간이 모수를 포함할 확률을 의미합니다. 예를 들어, 95% 신뢰수준은 해당 신뢰구간이 모수를 포함할 확률이 95%라는 것을 의미합니다.\n",
    "\n",
    "신뢰구간(confidence interval): 신뢰구간은 추정치 주변의 범위로, 해당 범위 안에 모수가 포함될 확률을 신뢰수준으로 표현합니다. 신뢰구간은 표본 통계량의 분포를 기반으로 계산되며, 그 크기는 표본 크기, 표본 통계량의 변동성, 신뢰수준 등에 따라 달라집니다.\n",
    "\n",
    "신뢰수준과 신뢰구간의 관계는 다음과 같습니다. 신뢰수준이 높을수록 신뢰구간은 넓어집니다. 이는 높은 신뢰수준으로 모수를 포함할 확률이 높기 때문에, 구간의 범위가 넓어질 필요가 있습니다.\n",
    "\n",
    "구간 추정을 사용하면 모집단의 모수에 대한 추정치의 정확성을 평가할 수 있으며, 여러 가지 의사 결정 문제에 도움이 됩니다. 예를 들어, 신뢰구간을 사용하여 두 그룹 간의 차이를 비교하거나, 모집단 평균의 신뢰구간을 계산하여 결과를 해석하는 데 도움이 됩니다."
   ]
  },
  {
   "cell_type": "code",
   "execution_count": 100,
   "id": "745e5f41",
   "metadata": {},
   "outputs": [
    {
     "name": "stdout",
     "output_type": "stream",
     "text": [
      "신뢰구간: (48.579765818190495, 50.38176900786857)\n"
     ]
    }
   ],
   "source": [
    "# 정규분포로부터 무작위로 생성된 표본 데이터를 사용하여 모평균의 95% 신뢰구간을 계산\n",
    "# 표본 평균과 표준편차를 사용하여 표준 오차를 계산하고, 이를 사용하여 신뢰구간을 구합니다. 신뢰구간의 결과는 데이터와 신뢰수준에 따라 달라질 수 있다.\n",
    "import numpy as np\n",
    "import scipy.stats as stats\n",
    "\n",
    "# 정규분포로부터 무작위로 생성된 표본 데이터\n",
    "np.random.seed(42)\n",
    "sample_data = np.random.normal(loc=50, scale=5, size=100) # 평균 50, 표준편차 5인 정규분포에서 100개의 표본 추출\n",
    "\n",
    "# 표본 평균 및 표준편차 계산\n",
    "sample_mean = np.mean(sample_data)\n",
    "sample_std = np.std(sample_data, ddof=1)  # 불편 표준편차 (ddof=1)\n",
    "\n",
    "# 신뢰수준 및 자유도 설정\n",
    "confidence_level = 0.95\n",
    "degrees_of_freedom = len(sample_data) - 1\n",
    "\n",
    "# t 분포의 임계값 계산\n",
    "# 주어진 신뢰수준과 자유도에 따라 t-분포에서 얻은 임계값은 구간 추정이나 가설 검정에서 사용되며, 표본이 작거나 모집단의 표준편차를 모를 때 사용\n",
    "t_critical = stats.t.ppf(1 - (1 - confidence_level) / 2, degrees_of_freedom)\n",
    "\n",
    "# 표준 오차 계산\n",
    "standard_error = sample_std / np.sqrt(len(sample_data))\n",
    "\n",
    "# 신뢰구간 계산\n",
    "margin_of_error = t_critical * standard_error\n",
    "confidence_interval = (sample_mean - margin_of_error, sample_mean + margin_of_error)\n",
    "\n",
    "print(\"신뢰구간:\", confidence_interval)\n"
   ]
  },
  {
   "cell_type": "code",
   "execution_count": null,
   "id": "728bfc11",
   "metadata": {},
   "outputs": [],
   "source": [
    "# 표준오차\n",
    "sigma = np.std(fish,ddof=1)\n",
    "se = sigma/np.sqrt(len(fish))\n",
    "round(se,2)"
   ]
  },
  {
   "cell_type": "code",
   "execution_count": null,
   "id": "a1fb8124",
   "metadata": {},
   "outputs": [],
   "source": [
    "df = len(fish) - 1"
   ]
  },
  {
   "cell_type": "code",
   "execution_count": null,
   "id": "4e80d8d3",
   "metadata": {},
   "outputs": [],
   "source": [
    "# 신뢰구간\n",
    "interval = stats.t.interval(alpha=0.95, df=df, loc=mu, scale=se)\n",
    "interval"
   ]
  },
  {
   "cell_type": "code",
   "execution_count": null,
   "id": "da17257c",
   "metadata": {},
   "outputs": [],
   "source": [
    "# 표준편차를 10배로 늘려서 신뢰구간 계산\n",
    "se2 = (sigma*10) / np.sqrt(len(fish))\n",
    "stats.t.interval(alpha=0.95,df=df,loc=mu,scale=se2)"
   ]
  },
  {
   "cell_type": "code",
   "execution_count": null,
   "id": "10d2eaf3",
   "metadata": {},
   "outputs": [],
   "source": [
    "# 샘플사이즈를 10배로 늘려서 신뢰구간 계산\n",
    "df2 = (len(fish)*10) - 1\n",
    "se3 = sigma/np.sqrt(len(fish)*10)\n",
    "stats.t.interval(alpha=0.95,df=df2,loc=mu,scale=se3)"
   ]
  },
  {
   "cell_type": "code",
   "execution_count": null,
   "id": "2cd11a80",
   "metadata": {},
   "outputs": [],
   "source": [
    "# 신뢰계수가 커질수록 안전해진다고 볼 수 있으며 신뢰구간의 폭이 넓어짐\n",
    "stats.t.interval(alpha=0.99, df=df, loc=mu, scale=se)"
   ]
  },
  {
   "cell_type": "code",
   "execution_count": null,
   "id": "bd1dcf49",
   "metadata": {},
   "outputs": [],
   "source": []
  },
  {
   "cell_type": "code",
   "execution_count": null,
   "id": "2dce169a",
   "metadata": {},
   "outputs": [],
   "source": []
  },
  {
   "cell_type": "code",
   "execution_count": null,
   "id": "e9e82779",
   "metadata": {},
   "outputs": [],
   "source": []
  },
  {
   "cell_type": "code",
   "execution_count": null,
   "id": "40f9edc5",
   "metadata": {},
   "outputs": [],
   "source": []
  },
  {
   "cell_type": "code",
   "execution_count": null,
   "id": "f7704721",
   "metadata": {},
   "outputs": [],
   "source": []
  }
 ],
 "metadata": {
  "kernelspec": {
   "display_name": "Python 3 (ipykernel)",
   "language": "python",
   "name": "python3"
  },
  "language_info": {
   "codemirror_mode": {
    "name": "ipython",
    "version": 3
   },
   "file_extension": ".py",
   "mimetype": "text/x-python",
   "name": "python",
   "nbconvert_exporter": "python",
   "pygments_lexer": "ipython3",
   "version": "3.9.13"
  }
 },
 "nbformat": 4,
 "nbformat_minor": 5
}

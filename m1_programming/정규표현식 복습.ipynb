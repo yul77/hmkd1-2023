{
 "cells": [
  {
   "cell_type": "code",
   "execution_count": 1,
   "id": "3b3e6c2d",
   "metadata": {},
   "outputs": [
    {
     "data": {
      "text/html": [
       "<style>\n",
       "div.prompt {display:none}\n",
       "</style>\n",
       "// hide input prompt\n",
       "$(document).ready(function() {\n",
       "    $('div.prompt').css('display', 'none');\n",
       "});\n"
      ],
      "text/plain": [
       "<IPython.core.display.HTML object>"
      ]
     },
     "metadata": {},
     "output_type": "display_data"
    }
   ],
   "source": [
    "%%HTML\n",
    "<style>\n",
    "div.prompt {display:none}\n",
    "</style>\n",
    "// hide input prompt\n",
    "$(document).ready(function() {\n",
    "    $('div.prompt').css('display', 'none');\n",
    "});\n"
   ]
  },
  {
   "cell_type": "markdown",
   "id": "62b1d3ba",
   "metadata": {},
   "source": [
    "# 정규표현식 기본 개념\n",
    "\n",
    "한 영화관에서는 예매 시 사용자의 휴대폰 번호를 입력받아야 합니다. 예매 정보는 해당 번호와 함께 저장됩니다. 그러나 종종 잘못된 번호가 입력되어 예매 정보가 유실되는 문제가 발생했습니다.\n",
    "\n",
    "이런 문제를 해결하기 위해, 영화관은 **정규표현식**을 사용해 휴대폰 번호를 검증하기로 결정했습니다. 이제 사용자가 휴대폰 번호를 입력할 때, 정확한 형식으로 입력되었는지 확인하고, 유효한 번호만 저장할 수 있습니다."
   ]
  },
  {
   "cell_type": "markdown",
   "id": "174f15cc",
   "metadata": {},
   "source": [
    "## 정규표현식이란?\n",
    "\n",
    "정규표현식(Regular Expression)은 문자열에서 특정한 패턴을 찾거나, 대체하거나, 추출하는데 사용되는 문자열입니다. 즉, 문자열에서 원하는 문자를 찾거나 바꾸기 위한 일종의 패턴이라고 생각할 수 있습니다.\n",
    "\n",
    "\n",
    "예를 들어, 정규표현식에서 '.'은 어떤 문자 하나를 의미하고, '*'는 바로 앞의 문자가 0번 이상 반복됨을 의미합니다. 또한, '|'는 OR 조건을 의미하고, '^'는 문자열의 시작을 의미합니다.\n",
    "\n",
    "파이썬에서는 정규표현식을 처리하기 위해 're' 모듈을 제공합니다. 're' 모듈을 사용하면 문자열에서 패턴을 찾거나, 추출하거나, 대체할 수 있습니다."
   ]
  },
  {
   "cell_type": "code",
   "execution_count": 20,
   "id": "d06382ee",
   "metadata": {},
   "outputs": [
    {
     "data": {
      "text/plain": [
       "['12345']"
      ]
     },
     "execution_count": 20,
     "metadata": {},
     "output_type": "execute_result"
    }
   ],
   "source": [
    "#문자열에서 숫자만 추출하는 예시\n",
    "\n",
    "import re\n",
    "text = 'Hello,my number is 12345. '\n",
    "\n",
    "numbers = re.findall('\\d+',text) # '\\d'는 숫자,  '+'는 하나 이상의 연속된 문자나 숫자\n",
    "numbers #문자열에서 하나 이상의 연속된 숫자(\\d+)를 찾아내어 리스트로 반환\n"
   ]
  },
  {
   "cell_type": "markdown",
   "id": "96a76c7d",
   "metadata": {},
   "source": [
    "## 정규표현식의 장단점\n",
    "\n",
    "[장점]\n",
    "1.\t유연성: 정규표현식을 사용하면 다양한 패턴을 표현할 수 있습니다. 예를 들어, 특정 문자열이 특정 패턴을 따르는지 여부를 확인하거나, 특정 패턴을 가진 문자열을 찾아내는 등 다양한 용도로 사용할 수 있습니다.\n",
    "2.\t간결성: 문자열에서 원하는 정보를 추출하는 데에는 정규표현식이 다른 방법에 비해 더 간단하고 직관적입니다.\n",
    "3.\t속도: 정규표현식은 문자열을 일일이 검색하는 것보다 더 빠른 속도로 패턴을 찾아낼 수 있습니다.\n",
    "\n",
    "[단점]\n",
    "1.\t복잡성: 정규표현식은 다양한 패턴을 표현할 수 있지만, 그만큼 문법이 복잡합니다. 특히 초보자에게는 익숙해지기까지 시간이 걸릴 수 있습니다.\n",
    "2.\t이식성: 언어나 툴마다 문법이 조금씩 다르기 때문에, 한 번 익힌 정규표현식이 다른 환경에서는 작동하지 않을 수도 있습니다.\n",
    "3.\t가독성: 정규표현식을 사용하면 코드의 가독성이 떨어질 수 있습니다. 특히, 매우 복잡한 정규표현식을 작성하면 코드가 길어지고 가독성이 나빠질 수 있습니다.\n",
    "위와 같이, 정규표현식은 다양한 장단점을 가지고 있습니다. 그러나 정규표현식은 파이썬을 비롯한 다양한 프로그래밍 언어에서 사용되는 유용한 도구입니다. 아래는 파이썬 코드로 정규표현식을 사용한 문자열 패턴 매칭 예시입니다."
   ]
  },
  {
   "cell_type": "code",
   "execution_count": 26,
   "id": "2566fec0",
   "metadata": {},
   "outputs": [
    {
     "name": "stdout",
     "output_type": "stream",
     "text": [
      "['010-1234-5678']\n"
     ]
    }
   ],
   "source": [
    "# 정규표현식을 이용하여 전화번호를 추출하는 예시\n",
    "\n",
    "#패턴 설정\n",
    "pattern = r\"\\d{3}-\\d{4}-\\d{4}\" #3자리수 - 4자리 수 - 4자리 수   조합\n",
    "\n",
    "#패턴 매칭\n",
    "phone_numbers = ['010-1234-5678', '02-555-1234','031-222-3333']\n",
    "matched_numbers = [] #전화번호 패턴에 맞는 문자열을 저장할 빈 리스트\n",
    "for number in phone_numbers: #for문으로 모든 원소를 하나씩 검사 \n",
    "    if re.match(pattern, number):\n",
    "        matched_numbers.append(number) #매치하는 경우 matched_numbers에 저장\n",
    "        print(matched_numbers)"
   ]
  },
  {
   "cell_type": "markdown",
   "id": "a7d989a5",
   "metadata": {},
   "source": [
    "## 정규표현식의 구성 요소\n",
    "\n",
    "정규표현식은 다음과 같은 구성 요소를 가집니다.\n",
    "\n",
    "- 문자: 특정 문자를 표현합니다. 예를 들어, 'a'는 문자 'a'를 의미합니다.\n",
    "- 메타 문자: 특별한 의미를 가지는 문자입니다. 예를 들어, '.'은 어떤 문자에도 매치되는 문자입니다.\n",
    "- 문자 클래스: 여러 개의 문자 중 하나를 선택합니다. 대괄호([])로 표현합니다. 예를 들어, '[abc]'는 'a', 'b', 'c' 중 하나에 매치됩니다.\n",
    "- 반복: 문자 또는 메타 문자가 반복되는 횟수를 지정합니다. '', '+', '?', '{m}', '{m,n}' 등으로 표현합니다. 예를 들어, 'a'는 'a'가 0번 이상 반복되는 문자열에 매치됩니다.\n",
    "- 그룹: 하나의 문자 또는 메타 문자의 집합을 그룹화합니다. 괄호()로 표현합니다. 예를 들어, '(abc)+'는 'abc'가 1번 이상 반복되는 문자열에 매치됩니다."
   ]
  },
  {
   "cell_type": "markdown",
   "id": "c0831ad4",
   "metadata": {},
   "source": [
    "## Row String\n",
    "\n",
    "- 로우스트링은 문자열 안에 있는 이스케이프 문자를 무시하고 문자 그대로 해석하도록 하는 문자열.\n",
    "- 로우스트링을 사용하면 이스케이프 문자를 사용하지 않고도 백슬래시()를 문자 그대로 사용할 수 있습니다. 이를 통해 정규 표현식, 파일 경로, URL 등과 같은 문자열을 다룰 때 유용하게 사용할 수 있습니다.\n",
    "- 로우스트링을 사용하면 백슬래시와 같은 이스케이프 문자를 사용하지 않아도 되므로 가독성이 좋아진다."
   ]
  },
  {
   "cell_type": "code",
   "execution_count": 28,
   "id": "4d624d17",
   "metadata": {},
   "outputs": [
    {
     "name": "stdout",
     "output_type": "stream",
     "text": [
      "C:\\Users\\Desktop\\file.txt \n",
      "\n",
      "C:\\Users\\Desktop\\file.txt\n"
     ]
    }
   ],
   "source": [
    "str1 = \"C:\\\\Users\\\\Desktop\\\\file.txt\" #백슬래시(\\)를 두 번 써서 특수 문자를 표현\n",
    "                                #문자열 앞에 r 접두사가 없기 때문에 백슬래시가 특수 문자로 해석\n",
    "                                    # 문자열이 올바르게 해석되지 않을 수 있음.\n",
    "        \n",
    "str2 = r\"C:\\Users\\Desktop\\file.txt\" # r 접두사를 사용하여 \"raw string\"을 나타냄\n",
    "                                    #백슬래시가 특수 문자로 해석되지 않고, 문자열 그대로 해석됨\n",
    "                                    # = 백슬래시를 이스케이프 문자로 사용하지 않았음.\n",
    "print(str1,'\\n')\n",
    "print(str2) #str2는 코드를 더 간결하게 만들 수 있으며, \n",
    "            #윈도우 운영체제에서 파일 경로를 나타내는 데 더 적합한 방법\n"
   ]
  },
  {
   "cell_type": "code",
   "execution_count": 34,
   "id": "77af7f4c",
   "metadata": {},
   "outputs": [
    {
     "name": "stdout",
     "output_type": "stream",
     "text": [
      "['a']\n",
      "['a', 'p', 'p', 'l', 'e']\n",
      "['a', 'e']\n",
      "['bana']\n",
      "['ba', '']\n"
     ]
    }
   ],
   "source": [
    "#re.findall()은 두개의 인자를 가집니다. 첫번째 인자는 찾으려는 패턴을 지정하는 정규 표현식이며,\n",
    "# 두 번째 인자는 검색 대상이 되는 문자열입니다.\n",
    "\n",
    "import re\n",
    "pattern1 = 'a' #'a'를 찾아 리스트로 반환\n",
    "text1 = 'apple'\n",
    "print(re.findall(pattern1,text1))#text1 문자열에서 pattern1에 해당하는 문자열을 찾아 리스트로 반환\n",
    "\n",
    "pattern2 = '.' #모든 문자열에 일치\n",
    "text2 = 'apple'\n",
    "print(re.findall(pattern2,text2))\n",
    "\n",
    "pattern3 = '[aeiou]' # 모음(a,e,i,o,u) 중 하나\n",
    "text3 = 'apple'\n",
    "print(re.findall(pattern3,text3))\n",
    "\n",
    "pattern4 = 'ba*na' #'b' 다음에 'a'가 0개 이상, 그리고 'n' 다음에 'a'가 나오는 문자열\n",
    "text4 = 'banaana'\n",
    "print(re.findall(pattern4,text4))\n",
    "\n",
    "pattern5 = '(ba)*na'\n",
    "text5 = 'banaana'\n",
    "print(re.findall(pattern5,text5))"
   ]
  },
  {
   "cell_type": "code",
   "execution_count": 35,
   "id": "b20d0454",
   "metadata": {},
   "outputs": [
    {
     "name": "stdout",
     "output_type": "stream",
     "text": [
      "<re.Match object; span=(0, 1), match='a'>\n",
      "<re.Match object; span=(0, 1), match='a'>\n",
      "<re.Match object; span=(0, 1), match='a'>\n",
      "<re.Match object; span=(0, 4), match='bana'>\n",
      "<re.Match object; span=(0, 4), match='bana'>\n"
     ]
    }
   ],
   "source": [
    "# re.search()\n",
    "import re\n",
    "pattern1 = 'a'\n",
    "text1 = 'apple'\n",
    "print(re.search(pattern1,text1))\n",
    "\n",
    "pattern2 = '.'\n",
    "text2 = 'apple'\n",
    "print(re.search(pattern2,text2))\n",
    "\n",
    "pattern3 = '[aeiou]'\n",
    "text3 = 'apple'\n",
    "print(re.search(pattern3,text3))\n",
    "\n",
    "pattern4 = 'ba*na'\n",
    "text4 = 'banaana'\n",
    "print(re.search(pattern4,text4))\n",
    "\n",
    "pattern5 = '(ba)*na'\n",
    "text5 = 'banaana'\n",
    "print(re.search(pattern5,text5))"
   ]
  },
  {
   "cell_type": "markdown",
   "id": "fb18806f",
   "metadata": {},
   "source": [
    "# 정규표현식의 문법\n",
    "\n",
    "\n",
    "정규표현식의 문법에는 다양한 메타문자(meta-character)가 사용됩니다. 메타문자란 일반적으로 사용되는 문자가 아니라, 특별한 의미를 가지는 문자를 말합니다. 메타문자는 다양한 용도로 사용되며, 각각의 기능은 다음과 같습니다."
   ]
  },
  {
   "cell_type": "markdown",
   "id": "4ce2fb73",
   "metadata": {},
   "source": [
    "## 메타문자의 종류와 사용 방법\n",
    "\n",
    "\n",
    "\n",
    "[문자 클래스]\n",
    " - \\d 숫자와 매치, [0-9]와 동일한 표현식\n",
    " - \\D 숫자가 아닌 것과 매치, [^0-9]와 동일한 표현식\n",
    " - \\s whitespace 문자와 매치, [ \\t\\n\\r\\f\\v]와 동일한 표현식\n",
    " - \\S whitespace 문자가 아닌 것과 매치, [^ \\t\\n\\r\\f\\v]와 동일한 표현식\n",
    " - \\w 문자 + 숫자와 매치, [a-zA-Z0-9]와 동일한 표현식\n",
    " - \\W 문자 + 숫자가 아닌 문자와 매치, [^a-zA-Z0-9]와 동일한 표현식\n",
    "\n",
    "[whitespace]\n",
    " -  스페이스 바 (아스키코드 32)\n",
    " -  ＼b  뒤로 한 칸 이동 (Backspace) (아스키코드 8)\n",
    " -  ＼t  수평탭 간격 띄우기 (아스키코드 9)\n",
    " -  ＼n  줄바꿈 (Linefeed) (아스키코드 10)\n",
    " -  ＼v  수직탭 간격 띄우기 (아스키코드 11)\n",
    " -  ＼f  프린트 출력 용지를 한 페이지 넘김 (Form feed) (아스키코드 12)\n",
    " -  ＼r  동일한 줄의 맨 앞으로 커서 이동 (Carriage Return) (아스키코드 13)\n",
    " - Dot(.) 메타 문자는 줄바꿈 문자인 [[\\n를 제외한]] 모든 문자와 매치됨을 의미\n",
    " \n",
    "참고: whitespace 문자는 공백과 같은 문자. 주로 특정 문자열에서 단어를 구분하기 위하여 사용. \n",
    "\n",
    "\n",
    "[문자열의 반복과 선택을 나타내는 메타문자]\n",
    "- ^ : 문자열의 시작을 나타냄. 예를 들어, '^a'는 문자열의 시작이 'a'인 경우와 매치됨.\n",
    "-\t\\\\$ : 문자열의 끝을 나타냄. 예를 들어, 'a$'는 문자열의 끝이 'a'인 경우와 매치됨.\n",
    "\n",
    "\n",
    "\n",
    "[문자열의 반복과 선택을 나타내는 메타문자]\n",
    "- 반복(\\*) ca*t 0부터 무한대로 반복\n",
    "- 반복(\\+) ca+t 최소 1번 이상 반복\n",
    "- ca{m,n} a 반복 횟수가 m부터 n까지인 것을 매치\n",
    "- ca{2}t는 c+a(2번 반복)+t의 의미\n",
    "- 반복횟수가 {1,}은 1 이상, {0,}은 0 이상인 경우로 각각 +, *와 동일하며 {,1}은 반복횟수가 1 이하를 의미.\n",
    "- ab?c b가 0~1번 사용되면 매치되는 것으로 ?은 앞의 b가 있어도 되고 없어도 된다"
   ]
  },
  {
   "cell_type": "markdown",
   "id": "9aa91b74",
   "metadata": {},
   "source": [
    "## re 모듈\n",
    "\n",
    "정규표현식을 파이썬에서 사용하기 위해서는 re 모듈을 import하여 사용합니다. 이를 이용하여 정규식을 컴파일하고 정규식을 이용한 문자열 검색 등 다양한 작업을 수행할 수 있습니다.\n",
    "\n",
    "re 모듈을 이용하여 문자열 검색을 수행하는 함수는 다음과 같습니다.\n",
    "\n",
    "- compile(): 정규식을 컴파일합니다.\n",
    "    - 컴파일이란, 소스 코드를 실행 가능한 바이트 코드나 머신 코드로 변환하는 과정\n",
    "- match(): 문자열의 처음부터 정규식과 매치되는지 조사합니다.\n",
    "- search(): 문자열의 전체를 검색하여 정규식과 매치되는지 조사합니다.\n",
    "- findall(): 정규식과 매치되는 모든 문자열을 리스트로 리턴합니다.\n",
    "- finditer(): 정규식과 매치되는 모든 문자열을 [반복 가능한 객체로 리턴]합니다."
   ]
  },
  {
   "cell_type": "code",
   "execution_count": 29,
   "id": "2d8cac1d",
   "metadata": {},
   "outputs": [
    {
     "name": "stdout",
     "output_type": "stream",
     "text": [
      "match found!\n"
     ]
    }
   ],
   "source": [
    "pattern = re.compile('ab+c')\n",
    "match = pattern.search('abbbc') # + 가 한번 이상이므로 매치 가능\n",
    "if match:\n",
    "    print('match found!') #매치되는게 있으면 이 문자를 출력하라.\n",
    "else:\n",
    "    print(\"not matched\")"
   ]
  },
  {
   "cell_type": "code",
   "execution_count": 12,
   "id": "4cfb2488",
   "metadata": {},
   "outputs": [
    {
     "data": {
      "text/plain": [
       "<re.Match object; span=(0, 5), match='abbbc'>"
      ]
     },
     "execution_count": 12,
     "metadata": {},
     "output_type": "execute_result"
    }
   ],
   "source": [
    "re.search(pattern,'abbbc')"
   ]
  },
  {
   "cell_type": "code",
   "execution_count": 13,
   "id": "4044da13",
   "metadata": {},
   "outputs": [
    {
     "data": {
      "text/plain": [
       "<re.Match object; span=(3, 8), match='abbbc'>"
      ]
     },
     "execution_count": 13,
     "metadata": {},
     "output_type": "execute_result"
    }
   ],
   "source": [
    "re.search(pattern,'eeeabbbc') #abbbc가 함께 있어서 출력 됨"
   ]
  },
  {
   "cell_type": "code",
   "execution_count": 14,
   "id": "f302bc88",
   "metadata": {},
   "outputs": [
    {
     "data": {
      "text/plain": [
       "<re.Match object; span=(0, 5), match='abbbc'>"
      ]
     },
     "execution_count": 14,
     "metadata": {},
     "output_type": "execute_result"
    }
   ],
   "source": [
    "re.match(pattern,'abbbceee') #매치는 처음부터 보기때문에 가능"
   ]
  },
  {
   "cell_type": "code",
   "execution_count": 16,
   "id": "19f329ff",
   "metadata": {},
   "outputs": [
    {
     "data": {
      "text/plain": [
       "['abbbc', 'abc']"
      ]
     },
     "execution_count": 16,
     "metadata": {},
     "output_type": "execute_result"
    }
   ],
   "source": [
    "re.findall(pattern,'abbbceeeabce') #조건을 모두 만족하므로 두 개의 값이 모두 나옴. "
   ]
  },
  {
   "cell_type": "code",
   "execution_count": 17,
   "id": "8e9dc874",
   "metadata": {},
   "outputs": [
    {
     "data": {
      "text/plain": [
       "<callable_iterator at 0x2a73f3590a0>"
      ]
     },
     "execution_count": 17,
     "metadata": {},
     "output_type": "execute_result"
    }
   ],
   "source": [
    "re.finditer(pattern,'abbbceeeabce') #객체로 출력됨. "
   ]
  },
  {
   "cell_type": "code",
   "execution_count": 19,
   "id": "debbe035",
   "metadata": {},
   "outputs": [
    {
     "name": "stdout",
     "output_type": "stream",
     "text": [
      "<re.Match object; span=(0, 5), match='abbbc'>\n",
      "<re.Match object; span=(8, 11), match='abc'>\n"
     ]
    }
   ],
   "source": [
    "m = re.finditer(pattern,'abbbceeeabce')\n",
    "for i in m:\n",
    "    print(i)"
   ]
  },
  {
   "cell_type": "code",
   "execution_count": 8,
   "id": "8c77064d",
   "metadata": {},
   "outputs": [],
   "source": [
    "#만약 c로 하면\n",
    "pttern = re.compile('abc+c')\n",
    "match = pattern.search('abbbc') # abc가 나오고 반복이 나와야 하는데 아니어서 매치 x\n",
    "if match:\n",
    "    print('match found!') "
   ]
  },
  {
   "cell_type": "code",
   "execution_count": 10,
   "id": "944011e1",
   "metadata": {},
   "outputs": [],
   "source": [
    "re.search(pattern,'abbbc')"
   ]
  },
  {
   "cell_type": "code",
   "execution_count": null,
   "id": "2ef00420",
   "metadata": {},
   "outputs": [],
   "source": [
    "#만약 abc로 하면\n",
    "pattern = re.compile('abc+c')\n",
    "match = pattern.search('abc') # 위에 +가 있으므로 하나이상 반복해야 하는데 없으므로 매치x \n",
    "if match:\n",
    "    print('match found!') "
   ]
  },
  {
   "cell_type": "markdown",
   "id": "c10c4951",
   "metadata": {},
   "source": [
    "### 과제 1_0424\n",
    "정규표현식을 사용하여 text에서 이메일을 추출하세요.\n",
    "\n",
    "text = \"이메일 주소는 abc123@gmail.com입니다\""
   ]
  },
  {
   "cell_type": "code",
   "execution_count": 39,
   "id": "bae8fca0",
   "metadata": {},
   "outputs": [
    {
     "data": {
      "text/plain": [
       "['abc123@gmail.com']"
      ]
     },
     "execution_count": 39,
     "metadata": {},
     "output_type": "execute_result"
    }
   ],
   "source": [
    "import re\n",
    "text = \"이메일 주소는 abc123@gmail.com입니다\"\n",
    "pattern = r\"\\w+\\d+@+\\w{5}.\\w{3}\" \n",
    "re.findall(pattern,text)"
   ]
  },
  {
   "cell_type": "markdown",
   "id": "f4e538f3",
   "metadata": {},
   "source": [
    "## 과제 2_0424\n",
    "\n",
    "정규표현식을 사용하여 text에서 전화번호를 추출하세요.\n",
    "\n",
    "text = \"전화번호는 010-1234-5678 입니다\"\n"
   ]
  },
  {
   "cell_type": "code",
   "execution_count": 40,
   "id": "57c8f3f5",
   "metadata": {},
   "outputs": [
    {
     "data": {
      "text/plain": [
       "['010-1234-5678']"
      ]
     },
     "execution_count": 40,
     "metadata": {},
     "output_type": "execute_result"
    }
   ],
   "source": [
    "text = \"전화번호는 010-1234-5678 입니다\"\n",
    "pattern= r\"\\d{3}-\\d{4}-\\d{4}\"\n",
    "re.findall(pattern,text)"
   ]
  },
  {
   "cell_type": "markdown",
   "id": "e7cc7422",
   "metadata": {},
   "source": [
    "## 과제 3_0424\n",
    "\n",
    "정규표현식을 사용하여 text에서 url을 추출하세요.\n",
    "\n",
    "text = \"저의 블로그 주소는  http://www.example.com 입니다\""
   ]
  },
  {
   "cell_type": "code",
   "execution_count": 42,
   "id": "0e1edaeb",
   "metadata": {},
   "outputs": [
    {
     "data": {
      "text/plain": [
       "['http://www.example.com']"
      ]
     },
     "execution_count": 42,
     "metadata": {},
     "output_type": "execute_result"
    }
   ],
   "source": [
    "text = \"저의 블로그 주소는 http://www.example.com 입니다\"\n",
    "pattern = r\"\\w{4}://\\w{3}.\\w+.\\w{3}\"\n",
    "re.findall(pattern,text)"
   ]
  },
  {
   "cell_type": "markdown",
   "id": "6511dc48",
   "metadata": {},
   "source": [
    "### 과제 4_0424\n",
    "\n",
    "정규표현식을 사용하여 html 태그를 제거하세요.\n",
    "\n",
    "html_string = $\"<p>안녕하세요, <b>파이썬</b>입니다.</p>\"$"
   ]
  },
  {
   "cell_type": "code",
   "execution_count": 82,
   "id": "41765c9c",
   "metadata": {},
   "outputs": [
    {
     "data": {
      "text/plain": [
       "['<p>안녕하세요, <b>파이썬</b>입니다.</p>']"
      ]
     },
     "execution_count": 82,
     "metadata": {},
     "output_type": "execute_result"
    }
   ],
   "source": [
    "html_string = \"<p>안녕하세요, <b>파이썬</b>입니다.</p>\"\n",
    "pattern = \n",
    "re.findall(pattern,html_string )"
   ]
  },
  {
   "cell_type": "markdown",
   "id": "bb5876ad",
   "metadata": {},
   "source": [
    "### 과제5_0424.\n",
    "text = ' Python3 is very good programming language!' 에서 다음을 수행하세요.\n",
    "\n",
    "- ['Python', 'is', 'very', 'good', 'programming', 'language'] 을 출력\n",
    "- Python3 출력\n",
    "- Python 출력\n",
    "- 숫자만 출력\n",
    "- Python3를 python으로 대체"
   ]
  },
  {
   "cell_type": "code",
   "execution_count": 73,
   "id": "edabb635",
   "metadata": {},
   "outputs": [
    {
     "name": "stdout",
     "output_type": "stream",
     "text": [
      " python is very good programming language!\n"
     ]
    }
   ],
   "source": [
    "text = ' Python3 is very good programming language!'\n",
    "pattern5 = r'Python3'\n",
    "python = re.sub(pattern5, 'python', text)\n",
    "\n",
    "print(python)"
   ]
  },
  {
   "cell_type": "code",
   "execution_count": 74,
   "id": "d839efc9",
   "metadata": {},
   "outputs": [
    {
     "name": "stdout",
     "output_type": "stream",
     "text": [
      "['Python3', 'is', 'very', 'good', 'programming', 'language']\n",
      "['Python3']\n",
      "['Python']\n",
      "['3']\n",
      " python is very good programming language!\n"
     ]
    }
   ],
   "source": [
    "text = ' Python3 is very good programming language!'\n",
    "\n",
    "#['Python', 'is', 'very', 'good', 'programming', 'language'] 을 출력\n",
    "pattern1 = \"\\w+\"\n",
    "print(re.findall(pattern1,text))\n",
    "\n",
    "#Python3 출력\n",
    "pattern2 = \"\\w+\\d\"\n",
    "print(re.findall(pattern2,text))\n",
    "\n",
    "#Python 출력\n",
    "pattern3 = \"P+\\w{5}\"\n",
    "print(re.findall(pattern3,text))\n",
    "\n",
    "#숫자만 출력\n",
    "numbers = re.findall(\"\\d+\",text)\n",
    "print(numbers)\n",
    "\n",
    "#Python3를 python으로 대체\n",
    "pattern5 = r'Python3'\n",
    "python = re.sub(pattern5, 'python', text)\n",
    "\n",
    "print(python)"
   ]
  },
  {
   "cell_type": "code",
   "execution_count": null,
   "id": "e5c0fa4e",
   "metadata": {},
   "outputs": [],
   "source": []
  },
  {
   "cell_type": "code",
   "execution_count": null,
   "id": "1fc485b4",
   "metadata": {},
   "outputs": [],
   "source": []
  },
  {
   "cell_type": "code",
   "execution_count": null,
   "id": "9489788d",
   "metadata": {},
   "outputs": [],
   "source": []
  },
  {
   "cell_type": "code",
   "execution_count": null,
   "id": "19b5e98b",
   "metadata": {},
   "outputs": [],
   "source": []
  },
  {
   "cell_type": "code",
   "execution_count": null,
   "id": "287c6852",
   "metadata": {},
   "outputs": [],
   "source": []
  },
  {
   "cell_type": "code",
   "execution_count": null,
   "id": "c5a050db",
   "metadata": {},
   "outputs": [],
   "source": []
  },
  {
   "cell_type": "code",
   "execution_count": null,
   "id": "31f3da2e",
   "metadata": {},
   "outputs": [],
   "source": []
  }
 ],
 "metadata": {
  "kernelspec": {
   "display_name": "Python 3 (ipykernel)",
   "language": "python",
   "name": "python3"
  },
  "language_info": {
   "codemirror_mode": {
    "name": "ipython",
    "version": 3
   },
   "file_extension": ".py",
   "mimetype": "text/x-python",
   "name": "python",
   "nbconvert_exporter": "python",
   "pygments_lexer": "ipython3",
   "version": "3.9.13"
  }
 },
 "nbformat": 4,
 "nbformat_minor": 5
}

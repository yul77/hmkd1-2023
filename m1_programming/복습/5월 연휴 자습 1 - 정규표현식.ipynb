{
 "cells": [
  {
   "cell_type": "code",
   "execution_count": 1,
   "id": "ce01dd58",
   "metadata": {},
   "outputs": [
    {
     "data": {
      "text/html": [
       "<style>\n",
       "div.prompt {display:none}\n",
       "</style>\n",
       "// hide input prompt\n",
       "$(document).ready(function() {\n",
       "    $('div.prompt').css('display', 'none');\n",
       "});\n"
      ],
      "text/plain": [
       "<IPython.core.display.HTML object>"
      ]
     },
     "metadata": {},
     "output_type": "display_data"
    }
   ],
   "source": [
    "%%HTML\n",
    "<style>\n",
    "div.prompt {display:none}\n",
    "</style>\n",
    "// hide input prompt\n",
    "$(document).ready(function() {\n",
    "    $('div.prompt').css('display', 'none');\n",
    "});\n"
   ]
  },
  {
   "cell_type": "markdown",
   "id": "0832dd44",
   "metadata": {},
   "source": [
    "## 정규표현식이란?\n",
    "\n",
    "정규표현식은 문자열에서 특정한 패턴을 찾거나, 대체하거나 추출하는데 사용되는 문자열.\n",
    "<br> 즉, 문자열에서 원하는 문자를 찾거나 바꾸기 위한 일종의 패턴이다.\n",
    "<br> 예를 들어, 정규표현식에서 '.'은 어떤 문자 하나를 의미하고, '*'은 바로 앞의 문자가 0번 이상 반복됨을 의미한다.\n",
    "<br>또한, '|'는 or 조건을 의미하고 .'^'는 문자열의 시작을 의미한다.\n",
    "<br> 파이썬에서 정규표현식을 처리하기 위해 're'모듈을 제공한다.\n",
    "<br>'re' 모듈을 사용하면 문자열에서 패턴을 찾거나, 추출하거나, 대체할 수 있다. "
   ]
  },
  {
   "cell_type": "code",
   "execution_count": 2,
   "id": "08c85c5c",
   "metadata": {},
   "outputs": [
    {
     "data": {
      "text/plain": [
       "['12345']"
      ]
     },
     "execution_count": 2,
     "metadata": {},
     "output_type": "execute_result"
    }
   ],
   "source": [
    "# 문자열에서 숫자만 추출하는 예시\n",
    "\n",
    "import re\n",
    "text = 'Hello, my number is 12345'\n",
    "\n",
    "numbers = re.findall('\\d+',text) # '\\d'는 숫자, '+'는 하나 이상의 연속된 문자나 숫자\n",
    "numbers # 문자열에서 하나 이상의 연속된 숫자(\\d+)를 찾아내어 리스트로 반환"
   ]
  },
  {
   "cell_type": "markdown",
   "id": "7622c8b2",
   "metadata": {},
   "source": [
    "## 정규표현식의 장단점\n",
    "\n",
    "장점\n",
    "- 1.유연성\n",
    "    - 정규표현식을 사용하면 다양한 패턴을 표현할 수 있다. 예를들어, 특정 문자열이 특정 패턴을 따르는지 여부를 확인하거나, 특정 패턴을 가진 문자열을 찾아 내는 등 다양한 용도로 사용할 수있다.\n",
    "- 2.간결설\n",
    "    - 문자열에서 원하는 정보를 추출하는 데에는 정규표현식이 다른 방법에 비해 더 간단하고 직관적이다. \n",
    "- 3.속도\n",
    "    - 정규표현식은 문자열을 일일이 검색하는 것보다 더 빠른 속도로 패턴을 찾아낼 수 있다.\n",
    "    \n",
    "단점\n",
    "- 1.복잡성\n",
    "    - 정규표현식은 다양한 패턴을 표현할 수 있지만. 그만큼 문법이 복잡하다. 특히 초보자에게는 익숙해지기까지 시간이 걸릴 수 있다.\n",
    "- 2.이식성\n",
    "    - 언어나 툴마다 문법이 조금씩 다르기 떄문에, 한번 익힌 정규표현식이 다른 환경에서는 작동하지 않을 수도 있다.\n",
    "- 3.가독성 \n",
    "    - 정규표현식을 사용하면 코드의 가독성이 떨어질 수 있다. 특히 매우 복잡한 정규표현식을 작성하면 코드 길이가 길어지고 가독성이 나빠질 수 있다."
   ]
  },
  {
   "cell_type": "code",
   "execution_count": 8,
   "id": "b96e7019",
   "metadata": {},
   "outputs": [
    {
     "name": "stdout",
     "output_type": "stream",
     "text": [
      "['010-1234-5678']\n",
      "['010-1234-5678', '010-9942-0118']\n",
      "['010-1234-5678', '010-9942-0118', '010-7156-3531']\n",
      "['010-1234-5678', '010-9942-0118', '010-7156-3531']\n"
     ]
    }
   ],
   "source": [
    "# 정규표현식을 이용하여 전화번호 추출하기\n",
    "\n",
    "#패턴을 설정한다.\n",
    "pattern = r'\\d{3}-\\d{4}-\\d{4}'  #3자리수 - 4자리수 -4자리수\n",
    "\n",
    "#패턴 매칭\n",
    "\n",
    "phone_numbers = ['010-1234-5678','02-555-1234','031-222-3333','010-9942-0118','010-7156-3531']\n",
    "matched_numbers = [] # 전화번호 패턴에 맞는 문자열을 저장할 빈 리스트\n",
    "\n",
    "for number in phone_numbers:\n",
    "    if re.match(pattern, number):\n",
    "        matched_numbers.append(number) # 매치하는 경우 matched_numbers에 저장. append=추가해라. \n",
    "        print(matched_numbers) #이렇게 놓으면 for루프가 반복할때마다 리스트를 출력하기 때문에 결과가 3줄이 나온다.\n",
    "        \n",
    "print(matched_numbers) #for 루프가 끝난 다음이므로 총 결과값이 한줄에 표시된다"
   ]
  },
  {
   "cell_type": "markdown",
   "id": "4a15a088",
   "metadata": {},
   "source": [
    "## 정규표현식의 구성 요소\n",
    "\n",
    "정규표현식은 다음과 같은 구성 요소를 가진다.\n",
    "\n",
    "- 문자: 특정 문자를 표현한다. ex) 'a'는 문자 'a'를 의미한다.\n",
    "- 메타 문자 : 특별한 의미를 가지는 문자. ex) '.'는 어떤 문자와도 매치되는 문자. \n",
    "- 문자 클래스 : 여러개의 문자 중 하나를 선택. 대괄호([])로 표현된다. ex) '[abc]는 'a','b','c' 중 하나에 매칭됨.\n",
    "- 반복 : 문자 또는 메타 문자가 반복되는 횟수를 지정. '*','+','?','{m},'{m,n} 등으로 표현. ex) 'a'는 'a'가 0번이상 반복되는 문자열에 매칭\n",
    "- 그룹 : 하나의 문자 또는 메타문자 집합의 그룹화. 괄호()로 표현.  ex) '(abc)+' 는 'abc'가 1번 이상 반복되는 문자열에 매치됨.\n",
    "\n",
    "\n",
    "## Row String\n",
    "\n",
    "- 로우스트링은 문자열 안에 있는 이스케이프 문자를 무시하고 문자 그대로 해석하도록 하는 문자열.\n",
    "- 로우스트링을 사용하면 이스케이프 문자를 사용하지 않고도 백슬래시('\\\\')를 문자 그대로 사용할 수 있다. 이를 통해 정규표현식, 파일 경로, URL 등과 같은 문자열을 다룰 때 유용하게 사용할 수 있다.\n",
    "- 로우스트링을 사용하면 백슬래시와 같은 이스케이프 문자를 사용하지 않아도 되므로 가독성이 좋아진다. "
   ]
  },
  {
   "cell_type": "code",
   "execution_count": 9,
   "id": "de6e8ae8",
   "metadata": {},
   "outputs": [
    {
     "name": "stdout",
     "output_type": "stream",
     "text": [
      "C:\\Users\\Desktop\\file.txt\n",
      "C:\\Users\\Desktop\\file.txt\n"
     ]
    }
   ],
   "source": [
    "# 로우스트링을 이용한 백슬래시 예시\n",
    "\n",
    "str1 = 'C:\\\\Users\\\\Desktop\\\\file.txt' # 백슬래시(\\)를 두번 써서 특수문자를 표현. -> 문자열이 올바르게 해석되지 않을 수 있음. \n",
    "\n",
    "str2 = r'C:\\Users\\Desktop\\file.txt' # 접두사를 사용하여 'raq string'을 나타냄 -> '\\'가 특수문자로 해석되지 않고 문자열 그대로 해석됨. \n",
    "\n",
    "print(str1)\n",
    "print(str2) # = 같은 결과값이 출력된다 "
   ]
  },
  {
   "cell_type": "markdown",
   "id": "ffd4223e",
   "metadata": {},
   "source": [
    "Q. 그럼 다 로우스트링 쓰면 되지 왜 이스케이프 문자를 사용함?\n",
    "- 이스케이프 문자를 사용하는 것이 코드의 가독성과 유지 보수성을 향상시키는 경우가 많다. \n",
    "- 예를 들어 '.'을 사용해야 하는데 로우스트링으로 하면 이스케이프 기능을 잃고 그냥 . 으로 된다. "
   ]
  },
  {
   "cell_type": "code",
   "execution_count": 10,
   "id": "cb10d9d4",
   "metadata": {},
   "outputs": [
    {
     "name": "stdout",
     "output_type": "stream",
     "text": [
      "line\n",
      "etwork\n",
      "line\\network\n"
     ]
    }
   ],
   "source": [
    "# 예시 2\n",
    "\n",
    "text1 = 'line\\network'  # \\n을 역슬래시로 인식해서 문법에 오류가 생긴다. \n",
    "text2 = r'line\\network' # \\를 문자 그대로 사용한다.\n",
    "\n",
    "print(text1) # 줄바꿈 되어서 문법에 오류 발생\n",
    "print(text2)"
   ]
  },
  {
   "cell_type": "code",
   "execution_count": 16,
   "id": "23cd5baf",
   "metadata": {},
   "outputs": [
    {
     "name": "stdout",
     "output_type": "stream",
     "text": [
      "Hello, \n",
      "world! \n",
      "\n",
      "Hello, \\nworld! \n",
      "\n",
      "Hello, \\nworld!\n"
     ]
    }
   ],
   "source": [
    "# 예시 3\n",
    "\n",
    "# 이스케이프 문자: 특별한 의미를 가지고 있는 문자열을 그대로 해석하도록 사는 문자. \n",
    "# r'\\n'은 이스케이프 기능을 잃고 \\와 n 두 개의 문자로 구성된 문자 리터럴로 해석된다.\n",
    "text1 = 'Hello, \\nworld!'\n",
    "\n",
    "text2 = 'Hello, \\\\nworld!' # \\를 하나 더 붙이면 그 뒤에 오는 \\n이 문자로 인식된다. \n",
    "\n",
    "text3 = r'Hello, \\nworld!' #로우스트링 적용\n",
    "\n",
    "print(text1,'\\n')\n",
    "\n",
    "print(text2,'\\n')\n",
    "\n",
    "print(text3)\n"
   ]
  },
  {
   "cell_type": "code",
   "execution_count": 27,
   "id": "c5279676",
   "metadata": {},
   "outputs": [
    {
     "name": "stdout",
     "output_type": "stream",
     "text": [
      "['a']\n",
      "['a', 'p', 'p', 'l', 'e']\n",
      "['apple']\n",
      "['a', 'e']\n",
      "['bana']\n",
      "['ba', '']\n"
     ]
    }
   ],
   "source": [
    "# re.findall() = 두개의 인자를 갖는다.\n",
    "# 첫번째 인자는 찾으려는 패턴을 지정하는 정규표현식.  두번째 인자는 검색 대상이 되는 문자열.\n",
    "\n",
    "\n",
    "import re\n",
    "p1 = 'a'  #'a'를 찾아 리스트로 반환\n",
    "text1 = 'apple'\n",
    "print(re.findall(p1,text1))\n",
    "\n",
    "p2 = '.' # 모든 문자열에 일치\n",
    "t = 'apple'\n",
    "print(re.findall(p2,t)) #낱개로 출력\n",
    "\n",
    "p3 = '.+'\n",
    "print(re.findall(p3,t)) # + 붙이면 묶어서 출력\n",
    "\n",
    "p4 = '[aeiou]' # 모음 중에서 출력하기\n",
    "print(re.findall(p4,t))\n",
    "\n",
    "p5 = 'ba*na' #'b' 다음에 'a'가 0개 이상. 그리고 'n' 그 다음에 'a'가 나오는 문자열\n",
    "t1 = 'banaana'\n",
    "print(re.findall(p5,t1))\n",
    "\n",
    "p6 = '(ba)*na'\n",
    "print(re.findall(p6,t1))"
   ]
  },
  {
   "cell_type": "code",
   "execution_count": 30,
   "id": "488f64cd",
   "metadata": {},
   "outputs": [
    {
     "name": "stdout",
     "output_type": "stream",
     "text": [
      "<re.Match object; span=(0, 1), match='a'>\n"
     ]
    }
   ],
   "source": [
    "#re.search()\n",
    "\n",
    "import re\n",
    "p1 = 'a'\n",
    "t1 = 'apple'\n",
    "print(re.search(p1,t1))"
   ]
  },
  {
   "cell_type": "code",
   "execution_count": 35,
   "id": "78cd51b4",
   "metadata": {},
   "outputs": [
    {
     "name": "stdout",
     "output_type": "stream",
     "text": [
      "No match\n"
     ]
    }
   ],
   "source": [
    "import re\n",
    "text = \"The quick brown fox jumps over the lazy dog.\"\n",
    "# 정규표현식 패턴 생성\n",
    "pattern = r\"\\b\\w{4}\\b\"\n",
    "\n",
    "# 검색 대상 문자열의 시작 부분에서 패턴과 일치하는 문자열을 찾아서 반환\n",
    "result = re.match(pattern, text)\n",
    "\n",
    "if result:\n",
    "    print(result.group())\n",
    "else:\n",
    "    print(\"No match\")\n"
   ]
  },
  {
   "cell_type": "code",
   "execution_count": 41,
   "id": "d7dc406d",
   "metadata": {},
   "outputs": [
    {
     "name": "stdout",
     "output_type": "stream",
     "text": [
      "Match found at index: 7\n",
      "Match value: 2\n",
      "Match found at index: 18\n",
      "Match value: 3\n"
     ]
    }
   ],
   "source": [
    "import re\n",
    "\n",
    "p = re.compile(r\"\\d+\")\n",
    "\n",
    "text = \"I have 2 dogs and 3 cats.\"\n",
    "matches = re.finditer(p, text)\n",
    "\n",
    "for match in matches:\n",
    "    print(\"Match found at index:\", match.start())\n",
    "    print(\"Match value:\", match.group())\n"
   ]
  },
  {
   "cell_type": "code",
   "execution_count": 42,
   "id": "517b5698",
   "metadata": {},
   "outputs": [
    {
     "name": "stdout",
     "output_type": "stream",
     "text": [
      "match found!\n"
     ]
    }
   ],
   "source": [
    "pattern = re.compile('ab+c')\n",
    "match = pattern.search('abbbc') # b+는 b가 1번 이상 반복되기때문에 성립가능.  \n",
    "if match:\n",
    "    print('match found!')\n",
    "else:\n",
    "    print('No match')"
   ]
  },
  {
   "cell_type": "code",
   "execution_count": 45,
   "id": "a6396bfe",
   "metadata": {},
   "outputs": [
    {
     "data": {
      "text/plain": [
       "<re.Match object; span=(0, 5), match='abbbc'>"
      ]
     },
     "execution_count": 45,
     "metadata": {},
     "output_type": "execute_result"
    }
   ],
   "source": [
    "re.search(pattern,'abbbc')"
   ]
  },
  {
   "cell_type": "code",
   "execution_count": 46,
   "id": "76551dae",
   "metadata": {},
   "outputs": [
    {
     "data": {
      "text/plain": [
       "<re.Match object; span=(4, 9), match='abbbc'>"
      ]
     },
     "execution_count": 46,
     "metadata": {},
     "output_type": "execute_result"
    }
   ],
   "source": [
    "re.search(pattern,'eeeeabbbc') "
   ]
  },
  {
   "cell_type": "code",
   "execution_count": 48,
   "id": "fe8418db",
   "metadata": {},
   "outputs": [
    {
     "data": {
      "text/plain": [
       "<re.Match object; span=(0, 5), match='abbbc'>"
      ]
     },
     "execution_count": 48,
     "metadata": {},
     "output_type": "execute_result"
    }
   ],
   "source": [
    "re.match(pattern,'abbbceeee') #시작부분이 일치하므로 매치 성립"
   ]
  },
  {
   "cell_type": "code",
   "execution_count": 51,
   "id": "f33b10ed",
   "metadata": {},
   "outputs": [],
   "source": [
    "re.match(pattern,'eeeeabbbc') # 시작부분이 조건과 맞이 않아 매치되지 않는다."
   ]
  },
  {
   "cell_type": "code",
   "execution_count": 52,
   "id": "4a3dd76d",
   "metadata": {},
   "outputs": [
    {
     "data": {
      "text/plain": [
       "['abbbc', 'abc']"
      ]
     },
     "execution_count": 52,
     "metadata": {},
     "output_type": "execute_result"
    }
   ],
   "source": [
    "re.findall(pattern,'abbbceeeabce') # 두개의 답이 출력됨"
   ]
  },
  {
   "cell_type": "code",
   "execution_count": 55,
   "id": "4924d6e3",
   "metadata": {},
   "outputs": [
    {
     "name": "stdout",
     "output_type": "stream",
     "text": [
      "<re.Match object; span=(0, 5), match='abbbc'>\n",
      "<re.Match object; span=(8, 11), match='abc'>\n"
     ]
    }
   ],
   "source": [
    "m = re.finditer(pattern,'abbbceeeabce')\n",
    "for i in m:\n",
    "    print(i) #두개의 객체를 생성. - 위치와 값이 출력된다. "
   ]
  },
  {
   "cell_type": "markdown",
   "id": "d52b248d",
   "metadata": {},
   "source": [
    "Q. 정규표현식을 사용하여  text에서 이메일을 추출하세요.\n",
    "text = \"이메일 주소는 abc123@gmail.com입니다\""
   ]
  },
  {
   "cell_type": "code",
   "execution_count": 63,
   "id": "fb131f57",
   "metadata": {},
   "outputs": [
    {
     "data": {
      "text/plain": [
       "['abc123@gmail.com']"
      ]
     },
     "execution_count": 63,
     "metadata": {},
     "output_type": "execute_result"
    }
   ],
   "source": [
    "import re\n",
    "\n",
    "text = \"이메일 주소는 abc123@gmail.com입니다\"\n",
    "pattern = r\"[a-z0-9]+@\\w+.\\w{3}\"\n",
    "\n",
    "re.findall(pattern,text)"
   ]
  },
  {
   "cell_type": "code",
   "execution_count": 67,
   "id": "9644b422",
   "metadata": {},
   "outputs": [
    {
     "data": {
      "text/plain": [
       "['abc123@gmail.com']"
      ]
     },
     "execution_count": 67,
     "metadata": {},
     "output_type": "execute_result"
    }
   ],
   "source": [
    "import re\n",
    "\n",
    "text1 = \"이메일 주소는 abc123@gmail.com입니다\"\n",
    "pattern1 = r\"\\w+\\d+@+\\w{5}.\\w{3}\"\n",
    "\n",
    "re.findall(pattern1,text1)"
   ]
  },
  {
   "cell_type": "markdown",
   "id": "e71fad15",
   "metadata": {},
   "source": [
    " Q. 정규표현식을 사용하여 text에서 전화번호를 추출하세요.\n",
    "text = \"전화번호는 010-1234-5678 입니다\""
   ]
  },
  {
   "cell_type": "code",
   "execution_count": 72,
   "id": "be6a2091",
   "metadata": {},
   "outputs": [
    {
     "data": {
      "text/plain": [
       "['010-1234-5678']"
      ]
     },
     "execution_count": 72,
     "metadata": {},
     "output_type": "execute_result"
    }
   ],
   "source": [
    "import re\n",
    "\n",
    "text = \"전화번호는 010-1234-5678 입니다\"\n",
    "pattern = \"\\d{3}-\\d{4}-\\d{4}\"\n",
    "\n",
    "re.findall(pattern,text)"
   ]
  },
  {
   "cell_type": "markdown",
   "id": "faf1f21f",
   "metadata": {},
   "source": [
    "Q. 정규표현식을 사용하여 text에서 url을 추출하세요.\n",
    "\n",
    "text = \"저의 블로그 주소는 http://www.example.com 입니다\""
   ]
  },
  {
   "cell_type": "code",
   "execution_count": 79,
   "id": "4dc65033",
   "metadata": {},
   "outputs": [
    {
     "data": {
      "text/plain": [
       "['http://www.example.com']"
      ]
     },
     "execution_count": 79,
     "metadata": {},
     "output_type": "execute_result"
    }
   ],
   "source": [
    "text = \"저의 블로그 주소는 http://www.example.com 입니다\"\n",
    "pattern = \"https?://\\w+.\\w+.[a-z]+\"\n",
    "re.findall(pattern,text)"
   ]
  },
  {
   "cell_type": "code",
   "execution_count": 81,
   "id": "627b2cf6",
   "metadata": {},
   "outputs": [
    {
     "data": {
      "text/plain": [
       "['http://www.example.com']"
      ]
     },
     "execution_count": 81,
     "metadata": {},
     "output_type": "execute_result"
    }
   ],
   "source": [
    "text = \"저의 블로그 주소는 http://www.example.com 입니다\"\n",
    "pattern = \"\\w{4}://\\w{3}.\\w+.\\w{3}\"\n",
    "re.findall(pattern,text)"
   ]
  },
  {
   "cell_type": "markdown",
   "id": "ec46e89b",
   "metadata": {},
   "source": [
    "Q. 정규표현식을 사용하여 html 태그를 제거하세요.\n",
    "\n",
    "html_string = $\"<p>안녕하세요, <b>파이썬</b>입니다.</p>\"$"
   ]
  },
  {
   "cell_type": "code",
   "execution_count": 84,
   "id": "5bdf017c",
   "metadata": {},
   "outputs": [
    {
     "data": {
      "text/plain": [
       "'안녕하세요, 파이썬입니다.'"
      ]
     },
     "execution_count": 84,
     "metadata": {},
     "output_type": "execute_result"
    }
   ],
   "source": [
    "html_string = \"<p>안녕하세요, <b>파이썬</b>입니다.</p>\"\n",
    "clean_str = re.sub('<.+?>','',html_string) #<>사이의 문자열을 매칭 . +는 한번이상 반복되는것, ?는 가능한 가장 적게 매칭되도록 한다. \n",
    "clean_str"
   ]
  },
  {
   "cell_type": "markdown",
   "id": "e928f84a",
   "metadata": {},
   "source": [
    "정규 표현식을 사용하여 문자열에서 패턴을 찾아 다른 문자열로 대체하는 함수\n",
    "<br>re.sub() 함수는 세 개의 인자를 받습니다\n",
    "- 첫 번째 인자는 변경할 패턴을 지정\n",
    "- 두 번째 인자는 변경할 문자열\n",
    "- 세 번째 인자는 대상 문자열\n",
    "<br>\n",
    "<br>re.sub() 함수는 다음과 같은 인수를 사용합니다.\n",
    "<br>\n",
    "<br>pattern: 검색할 정규 표현식 패턴입니다.\n",
    "<br>replacement: 패턴이 일치하는 문자열을 대체할 문자열입니다.\n",
    "<br>string: 검색 및 대체할 문자열입니다.\n",
    "<br>count (선택 사항): 변경할 최대 개수입니다. 기본값은 0으로, 모든 패턴이 변경"
   ]
  },
  {
   "cell_type": "markdown",
   "id": "a3fefb39",
   "metadata": {},
   "source": [
    "Q.text = ' Python3 is very good programming language!' 에서 다음을 수행하세요.\n",
    "\n",
    "- ['Python', 'is', 'very', 'good', 'programming', 'language'] 을 출력\n",
    "- Python3 출력\n",
    "- Python 출력\n",
    "- 숫자만 출력\n",
    "- Python3를 python으로 대체"
   ]
  },
  {
   "cell_type": "code",
   "execution_count": 89,
   "id": "029db00c",
   "metadata": {},
   "outputs": [
    {
     "data": {
      "text/plain": [
       "['Python3', 'is', 'very', 'good', 'programming', 'language']"
      ]
     },
     "execution_count": 89,
     "metadata": {},
     "output_type": "execute_result"
    }
   ],
   "source": [
    "text = ' Python3 is very good programming language!'\n",
    "pattern = '\\w+'\n",
    "re.findall(pattern,text)"
   ]
  },
  {
   "cell_type": "code",
   "execution_count": 92,
   "id": "cc386ec7",
   "metadata": {},
   "outputs": [
    {
     "data": {
      "text/plain": [
       "'Python3'"
      ]
     },
     "execution_count": 92,
     "metadata": {},
     "output_type": "execute_result"
    }
   ],
   "source": [
    "text = ' Python3 is very good programming language!'\n",
    "pattern = '\\w+'\n",
    "re.search(pattern,text).group()"
   ]
  },
  {
   "cell_type": "code",
   "execution_count": 94,
   "id": "3bb80f5a",
   "metadata": {},
   "outputs": [
    {
     "data": {
      "text/plain": [
       "'Python'"
      ]
     },
     "execution_count": 94,
     "metadata": {},
     "output_type": "execute_result"
    }
   ],
   "source": [
    "text = ' Python3 is very good programming language!'\n",
    "pattern = '\\w{6}'\n",
    "re.search(pattern,text).group()"
   ]
  },
  {
   "cell_type": "code",
   "execution_count": 97,
   "id": "0e158254",
   "metadata": {},
   "outputs": [
    {
     "data": {
      "text/plain": [
       "['3']"
      ]
     },
     "execution_count": 97,
     "metadata": {},
     "output_type": "execute_result"
    }
   ],
   "source": [
    "text = ' Python3 is very good programming language!'\n",
    "pattern = '\\d+'\n",
    "re.findall(pattern,text)"
   ]
  },
  {
   "cell_type": "code",
   "execution_count": 96,
   "id": "03580a17",
   "metadata": {},
   "outputs": [
    {
     "name": "stdout",
     "output_type": "stream",
     "text": [
      " python is very good programming language!\n"
     ]
    }
   ],
   "source": [
    "text = ' Python3 is very good programming language!'\n",
    "tt= re.sub('Python3','python',text)\n",
    "print(tt)"
   ]
  },
  {
   "cell_type": "code",
   "execution_count": 99,
   "id": "0b8e0e63",
   "metadata": {},
   "outputs": [],
   "source": [
    "# 연습 \n",
    "\n",
    "text1 = 'python python'  #공백 1개 (중간)\n",
    "text2 = 'python python ' #공백 2개 (중간+끝)\n",
    "text3 = '3python '"
   ]
  },
  {
   "cell_type": "code",
   "execution_count": 101,
   "id": "4b83877c",
   "metadata": {},
   "outputs": [
    {
     "data": {
      "text/plain": [
       "<re.Match object; span=(0, 7), match='python '>"
      ]
     },
     "execution_count": 101,
     "metadata": {},
     "output_type": "execute_result"
    }
   ],
   "source": [
    "import re\n",
    "p = re.compile('[a-z]+\\s') #영어 소문자이면서 뒤에 공백이 오는 것 찾기\n",
    "p.match(text1)# match()는 시작부터 해당 조건을 만족해야 함.. span =(0,7) 해당 값이 인덱스 0~7사이에 있음.(=0~6까지)"
   ]
  },
  {
   "cell_type": "code",
   "execution_count": 102,
   "id": "10e14ffc",
   "metadata": {},
   "outputs": [
    {
     "data": {
      "text/plain": [
       "'python '"
      ]
     },
     "execution_count": 102,
     "metadata": {},
     "output_type": "execute_result"
    }
   ],
   "source": [
    "p.match(text1).group()"
   ]
  },
  {
   "cell_type": "code",
   "execution_count": 103,
   "id": "de9da08f",
   "metadata": {},
   "outputs": [
    {
     "data": {
      "text/plain": [
       "'python '"
      ]
     },
     "execution_count": 103,
     "metadata": {},
     "output_type": "execute_result"
    }
   ],
   "source": [
    "re.match('[a-z]+\\s',text1).group()"
   ]
  },
  {
   "cell_type": "code",
   "execution_count": 104,
   "id": "bffa2ce3",
   "metadata": {},
   "outputs": [
    {
     "data": {
      "text/plain": [
       "['python ']"
      ]
     },
     "execution_count": 104,
     "metadata": {},
     "output_type": "execute_result"
    }
   ],
   "source": [
    "re.findall('[a-z]+\\s',text1)"
   ]
  },
  {
   "cell_type": "code",
   "execution_count": 106,
   "id": "5effa65f",
   "metadata": {},
   "outputs": [
    {
     "data": {
      "text/plain": [
       "['python ', 'python ']"
      ]
     },
     "execution_count": 106,
     "metadata": {},
     "output_type": "execute_result"
    }
   ],
   "source": [
    "re.findall('[a-z]+\\s',text2) #text2는 공백이 2개이기 때문에 두개의 답 출력"
   ]
  },
  {
   "cell_type": "code",
   "execution_count": 107,
   "id": "68180060",
   "metadata": {},
   "outputs": [
    {
     "data": {
      "text/plain": [
       "'python '"
      ]
     },
     "execution_count": 107,
     "metadata": {},
     "output_type": "execute_result"
    }
   ],
   "source": [
    "re.match('[a-z]+\\s',text2).group() # 첫번째 값만 출력"
   ]
  },
  {
   "cell_type": "code",
   "execution_count": 108,
   "id": "8dbcec05",
   "metadata": {},
   "outputs": [
    {
     "data": {
      "text/plain": [
       "['python ', 'python ']"
      ]
     },
     "execution_count": 108,
     "metadata": {},
     "output_type": "execute_result"
    }
   ],
   "source": [
    "p.findall(text2) # p변수 설정"
   ]
  },
  {
   "cell_type": "code",
   "execution_count": 111,
   "id": "e9de4334",
   "metadata": {},
   "outputs": [],
   "source": [
    "p.match(text3) # 시작부분에 숫자라 매칭실패"
   ]
  },
  {
   "cell_type": "code",
   "execution_count": 112,
   "id": "39f47d83",
   "metadata": {},
   "outputs": [
    {
     "data": {
      "text/plain": [
       "['python ']"
      ]
     },
     "execution_count": 112,
     "metadata": {},
     "output_type": "execute_result"
    }
   ],
   "source": [
    "p.findall(text3)"
   ]
  },
  {
   "cell_type": "code",
   "execution_count": 113,
   "id": "ac7e7dd3",
   "metadata": {},
   "outputs": [
    {
     "name": "stdout",
     "output_type": "stream",
     "text": [
      "None\n",
      "<re.Match object; span=(0, 6), match='banker'>\n"
     ]
    }
   ],
   "source": [
    "# 문자 클래스 : []\n",
    "\n",
    "p = re.compile('[a-z]+') #p변수에 할당\n",
    "p1 = p.match('Banker') #대문자가 들어가서 안됨.\n",
    "p2 = p.match('banker')\n",
    "\n",
    "print(p1)\n",
    "print(p2)"
   ]
  },
  {
   "cell_type": "code",
   "execution_count": 119,
   "id": "e8661925",
   "metadata": {},
   "outputs": [
    {
     "data": {
      "text/plain": [
       "'a'"
      ]
     },
     "execution_count": 119,
     "metadata": {},
     "output_type": "execute_result"
    }
   ],
   "source": [
    "# Q. '12345abc'에서 'a'만 출력하세요.\n",
    "text = '12345abc'\n",
    "# re.search('[a-z]',text).group()\n",
    "re.search('a',text).group()"
   ]
  },
  {
   "cell_type": "code",
   "execution_count": 122,
   "id": "0eae0257",
   "metadata": {},
   "outputs": [
    {
     "data": {
      "text/plain": [
       "'A'"
      ]
     },
     "execution_count": 122,
     "metadata": {},
     "output_type": "execute_result"
    }
   ],
   "source": [
    "# Q. 'abc12345Abc'에서 'A'만 출력하세요\n",
    "text = 'abc12345Abc'\n",
    "re.search('[A-Z]',text).group()\n",
    "re.search('[A]',text).group()"
   ]
  },
  {
   "cell_type": "code",
   "execution_count": 129,
   "id": "f9e380c1",
   "metadata": {},
   "outputs": [
    {
     "data": {
      "text/plain": [
       "'대'"
      ]
     },
     "execution_count": 129,
     "metadata": {},
     "output_type": "execute_result"
    }
   ],
   "source": [
    "# Q. 'KOREA 대한민국'에서 '대'만 출력하세요\n",
    "text ='KOREA 아대한민국'\n",
    "p = re.compile('[가-힣]')\n",
    "re.findall(p,text)[1]"
   ]
  },
  {
   "cell_type": "code",
   "execution_count": 132,
   "id": "1a1e112f",
   "metadata": {},
   "outputs": [
    {
     "data": {
      "text/plain": [
       "'대'"
      ]
     },
     "execution_count": 132,
     "metadata": {},
     "output_type": "execute_result"
    }
   ],
   "source": [
    "re.findall('[가-힣]',text)[1]"
   ]
  },
  {
   "cell_type": "code",
   "execution_count": 135,
   "id": "fc1384ae",
   "metadata": {},
   "outputs": [
    {
     "data": {
      "text/plain": [
       "['122333c']"
      ]
     },
     "execution_count": 135,
     "metadata": {},
     "output_type": "execute_result"
    }
   ],
   "source": [
    "# Q. '122333c' 를 모두 출력하세요\n",
    "text = '122333c' \n",
    "re.findall('.+',text)\n",
    "re.findall('\\w+',text)"
   ]
  },
  {
   "cell_type": "code",
   "execution_count": 141,
   "id": "d799e824",
   "metadata": {},
   "outputs": [
    {
     "data": {
      "text/plain": [
       "'122333c'"
      ]
     },
     "execution_count": 141,
     "metadata": {},
     "output_type": "execute_result"
    }
   ],
   "source": [
    "# Q. '122333c' 를  출력하세요\n",
    "text = '122333c456' \n",
    "\n",
    "# re.findall('12+3+c',text) #['122333c'] 출력\n",
    "re.search('12{2}3{3}c',text).group() #'122333c' 출력"
   ]
  },
  {
   "cell_type": "code",
   "execution_count": 145,
   "id": "b55753b6",
   "metadata": {},
   "outputs": [
    {
     "data": {
      "text/plain": [
       "'aaaaBBBcccDDDeee'"
      ]
     },
     "execution_count": 145,
     "metadata": {},
     "output_type": "execute_result"
    }
   ],
   "source": [
    "# Q. 'aaaaBBBcccDDDeee'를 모두 출력하세요\n",
    "text ='aaaaBBBcccDDDeee'\n",
    "# re.findall('.+',text)\n",
    "# re.search('.+',text).group()\n",
    "re.search('a{4}B{3}c{3}D{3}e{3}',text).group()"
   ]
  },
  {
   "cell_type": "markdown",
   "id": "d375f555",
   "metadata": {},
   "source": [
    "Q.BC,CC,ABC 모두 C가 출력되는 정규 표현식을 ()에 작성하세요"
   ]
  },
  {
   "cell_type": "code",
   "execution_count": 147,
   "id": "2e7f70b9",
   "metadata": {},
   "outputs": [
    {
     "name": "stdout",
     "output_type": "stream",
     "text": [
      "<re.Match object; span=(1, 2), match='C'>\n",
      "<re.Match object; span=(0, 1), match='C'>\n",
      "<re.Match object; span=(2, 3), match='C'>\n"
     ]
    }
   ],
   "source": [
    "#pattern = re.compile('C')\n",
    "pattern = re.compile('C$')\n",
    "\n",
    "text1 = 'BC'\n",
    "text2 = 'CC'\n",
    "text3 = 'ABC'\n",
    "p1 = pattern.search(text1)\n",
    "p2 = pattern.search(text2)\n",
    "p3 = pattern.search(text3)\n",
    "print(p1)\n",
    "print(p2)\n",
    "print(p3)"
   ]
  },
  {
   "cell_type": "code",
   "execution_count": 159,
   "id": "a59a2164",
   "metadata": {},
   "outputs": [
    {
     "data": {
      "text/plain": [
       "['1', '2', '3', '4']"
      ]
     },
     "execution_count": 159,
     "metadata": {},
     "output_type": "execute_result"
    }
   ],
   "source": [
    "# Q. '1234a123' 에서 '1','2','3','4'를 모두 출력하세요\n",
    "\n",
    "text = '1234a123' \n",
    "re.findall('\\d',text)[:4]"
   ]
  },
  {
   "cell_type": "code",
   "execution_count": 164,
   "id": "2e260491",
   "metadata": {},
   "outputs": [
    {
     "data": {
      "text/plain": [
       "'99food234'"
      ]
     },
     "execution_count": 164,
     "metadata": {},
     "output_type": "execute_result"
    }
   ],
   "source": [
    "# Q. '99food234, a93456\\n,a9356ba' 에서 '99food234'만 출력하세요.\n",
    "t = '99food234, a93456\\n,a9356ba' \n",
    "re.search('\\w+',t).group() #방법 1\n",
    "re.findall('\\w*[^,\\s]',t)[0] #방법2"
   ]
  },
  {
   "cell_type": "code",
   "execution_count": 166,
   "id": "5c406455",
   "metadata": {},
   "outputs": [
    {
     "data": {
      "text/plain": [
       "'life'"
      ]
     },
     "execution_count": 166,
     "metadata": {},
     "output_type": "execute_result"
    }
   ],
   "source": [
    "text = 'life is too short'\n",
    "\n",
    "p = re.compile('[a-z]+')\n",
    "p.search(text).group()"
   ]
  },
  {
   "cell_type": "code",
   "execution_count": 175,
   "id": "c8e59987",
   "metadata": {},
   "outputs": [
    {
     "name": "stdout",
     "output_type": "stream",
     "text": [
      "life\n",
      "is\n",
      "too\n",
      "short\n"
     ]
    }
   ],
   "source": [
    "text = 'life is too short'\n",
    "result = p.finditer(text)\n",
    "for i in result:\n",
    "    print(i.group())"
   ]
  },
  {
   "cell_type": "code",
   "execution_count": 177,
   "id": "3caa8439",
   "metadata": {},
   "outputs": [
    {
     "data": {
      "text/plain": [
       "['Python', 'is', 'very', 'good', 'programming', 'language']"
      ]
     },
     "execution_count": 177,
     "metadata": {},
     "output_type": "execute_result"
    }
   ],
   "source": [
    "# 모든 문자 출력 - findall()\n",
    "\n",
    "text = \"Python3 is very good programming language!\"\n",
    "re.findall('[a-zA-Z]+',text)"
   ]
  },
  {
   "cell_type": "code",
   "execution_count": 180,
   "id": "d14bc7c4",
   "metadata": {},
   "outputs": [
    {
     "name": "stdout",
     "output_type": "stream",
     "text": [
      "<callable_iterator object at 0x000002BC51810730>\n",
      "Python\n",
      "is\n",
      "very\n",
      "good\n",
      "programming\n",
      "language\n"
     ]
    }
   ],
   "source": [
    "# 모든 문자 출력 - findall()\n",
    "\n",
    "text = \"Python3 is very good programming language!\"\n",
    "result = re.finditer('[a-zA-Z]+',text)\n",
    "print(result)\n",
    "for r in result:\n",
    "    print(r.group())"
   ]
  },
  {
   "cell_type": "code",
   "execution_count": 2,
   "id": "a500725f",
   "metadata": {},
   "outputs": [
    {
     "name": "stdout",
     "output_type": "stream",
     "text": [
      "life\n",
      "None\n",
      "None\n"
     ]
    }
   ],
   "source": [
    "# match \n",
    "import re\n",
    "text1 = 'life'\n",
    "text2 = '!!!oh my life'\n",
    "text3 = '7 id lucky number'\n",
    "\n",
    "print(re.match('[a-z]+',text1).group()) \n",
    "\n",
    "print(re.match('[a-z]+',text2)) # 시작위치에 특수문자라 안됨.\n",
    "\n",
    "print(re.match('[a-z]+',text3)) # 시작점이 숫자라 안됨."
   ]
  },
  {
   "cell_type": "code",
   "execution_count": 188,
   "id": "1b7ca222",
   "metadata": {},
   "outputs": [
    {
     "name": "stdout",
     "output_type": "stream",
     "text": [
      "<re.Match object; span=(0, 6), match='pyhton'>\n",
      "pyhton\n",
      "0\n",
      "6\n",
      "(0, 6)\n"
     ]
    }
   ],
   "source": [
    "# martch 객체의 메서드\n",
    "\n",
    "m = re.match('[a-z]+','pyhton')\n",
    "\n",
    "print(m)\n",
    "print(m.group())\n",
    "print(m.start()) # 시작 위치 반환. = python이 시작하는 위치는 인덱스 0번\n",
    "print(m.end()) # 끝나는 위치 반환.\n",
    "print(m.span()) # 문자열의 시작과 끝을 튜플로 반환"
   ]
  },
  {
   "cell_type": "code",
   "execution_count": 193,
   "id": "5955a4fb",
   "metadata": {},
   "outputs": [
    {
     "name": "stdout",
     "output_type": "stream",
     "text": [
      "<re.Match object; span=(2, 8), match='pyhton'>\n",
      "pyhton\n",
      "2\n",
      "8\n",
      "(2, 8)\n"
     ]
    }
   ],
   "source": [
    "# search 객체의 메서드\n",
    "\n",
    "m = re.search('[a-z]+','3 pyhton')\n",
    "\n",
    "print(m)\n",
    "print(m.group())\n",
    "print(m.start())\n",
    "print(m.end())\n",
    "print(m.span())"
   ]
  },
  {
   "cell_type": "code",
   "execution_count": 194,
   "id": "12c088ed",
   "metadata": {},
   "outputs": [
    {
     "name": "stdout",
     "output_type": "stream",
     "text": [
      "None\n",
      "None\n",
      "<re.Match object; span=(0, 6), match='a12?Ab'>\n"
     ]
    }
   ],
   "source": [
    "# Dot(.) 메타 문자는 줄바꿈 문자(\\n)을 제외한 모든 문자와 매치\n",
    "\n",
    "text = ['a\\nb','abc','a12?Ab']  # .메타문자는 \\n을제외한 모든 문자에 대응한다. \n",
    "for t in text:\n",
    "    r= re.match('a.+b',t)\n",
    "    print(r) "
   ]
  },
  {
   "cell_type": "code",
   "execution_count": 198,
   "id": "42d94a0e",
   "metadata": {},
   "outputs": [
    {
     "data": {
      "text/plain": [
       "'a\\nb'"
      ]
     },
     "execution_count": 198,
     "metadata": {},
     "output_type": "execute_result"
    }
   ],
   "source": [
    "# re.DOTALL(): 여러줄로 이루어진 문자열에서 \\n에 상관없이 검색시 사용\n",
    "\n",
    "p = re.compile('a.b',re.DOTALL)\n",
    "m = p.match('a\\nb')\n",
    "m.group()"
   ]
  },
  {
   "cell_type": "code",
   "execution_count": 195,
   "id": "082d5eb6",
   "metadata": {},
   "outputs": [
    {
     "name": "stdout",
     "output_type": "stream",
     "text": [
      "['H', 'e', 'l', 'l', 'o', '\\n', 'w', 'o', 'r', 'l', 'd', '!']\n"
     ]
    }
   ],
   "source": [
    "import re\n",
    "\n",
    "text = \"Hello\\nworld!\"\n",
    "\n",
    "p = re.compile(r\".\", re.DOTALL)\n",
    "matches = p.findall(text)\n",
    "\n",
    "print(matches)\n"
   ]
  },
  {
   "cell_type": "code",
   "execution_count": 200,
   "id": "26d25d03",
   "metadata": {},
   "outputs": [
    {
     "name": "stdout",
     "output_type": "stream",
     "text": [
      "what are you doing? \n"
     ]
    }
   ],
   "source": [
    "text = 'what are you doing? \\n it is going to be late for school'\n",
    "p = re.compile('.*')\n",
    "m=p.search(text)\n",
    "print(m.group()) # \\n를 허용하지 않기 때문에 그 직전까지의 문장이 출력됨"
   ]
  },
  {
   "cell_type": "code",
   "execution_count": 205,
   "id": "0dec715e",
   "metadata": {},
   "outputs": [
    {
     "name": "stdout",
     "output_type": "stream",
     "text": [
      "what are you doing? \n",
      " it is going to be late for school\n"
     ]
    }
   ],
   "source": [
    "text = 'what are you doing? \\n it is going to be late for school'\n",
    "p = re.compile('.*',re.DOTALL)\n",
    "m = p.search(text)\n",
    "print(m.group())"
   ]
  },
  {
   "cell_type": "code",
   "execution_count": 221,
   "id": "4d8b3346",
   "metadata": {},
   "outputs": [
    {
     "name": "stdout",
     "output_type": "stream",
     "text": [
      "what are you doing? \n",
      "it is going to be late for school \n",
      "we need to hurry up\n"
     ]
    }
   ],
   "source": [
    "# Q. text에서 전체 문장 모두 출력하세요.\n",
    "text = 'what are you doing? \\nit is going to be late for school \\nwe need to hurry up'\n",
    "p = re.compile('.*',re.DOTALL)\n",
    "m = p.search(text).group()\n",
    "print(m)"
   ]
  },
  {
   "cell_type": "code",
   "execution_count": 219,
   "id": "d9009e91",
   "metadata": {},
   "outputs": [
    {
     "name": "stdout",
     "output_type": "stream",
     "text": [
      "what are you doing? \n",
      "it is going to be late for school \n",
      "we need to hurry up\n"
     ]
    }
   ],
   "source": [
    "text = 'what are you doing? \\nit is going to be late for school \\nwe need to hurry up'\n",
    "pattern = re.compile('.*', re.S)\n",
    "print(pattern.search(text).group())"
   ]
  },
  {
   "cell_type": "code",
   "execution_count": 222,
   "id": "e3951364",
   "metadata": {},
   "outputs": [
    {
     "data": {
      "text/plain": [
       "'pAthone'"
      ]
     },
     "execution_count": 222,
     "metadata": {},
     "output_type": "execute_result"
    }
   ],
   "source": [
    "# re.IGNORECASE 또는 re.I 옵션은 대소문자 구분 없이 추출\n",
    "\n",
    "re.match('[a-z]+','pAthone',re.I).group()\n",
    "\n",
    "# ※re.match() 함수나 re.search() 함수로 찾은 결과물은 매치된 텍스트 자체가 아닌 \n",
    "#매치 객체(match object)를 반환하므로 결과 추출시 group() 필요"
   ]
  },
  {
   "cell_type": "markdown",
   "id": "870f34b9",
   "metadata": {},
   "source": [
    "Q. 아래 text에 내용을 모두 출력하세요.\n",
    "text = ['pAthon','PATHON','pathon','Pathon']"
   ]
  },
  {
   "cell_type": "code",
   "execution_count": 11,
   "id": "0ce73171",
   "metadata": {},
   "outputs": [
    {
     "name": "stdout",
     "output_type": "stream",
     "text": [
      "pAthon \n",
      "\n",
      "PATHON \n",
      "\n",
      "pathon \n",
      "\n",
      "Pathon \n",
      "\n",
      "Pathon\n"
     ]
    }
   ],
   "source": [
    "import re\n",
    "text = ['pAthon','PATHON','pathon','Pathon']\n",
    "\n",
    "for t in text:\n",
    "    re.match('[a-z]+',t,re.I).group()\n",
    "    print(t) #이렇게 하면 5개가 다 나오고 \n",
    "    \n",
    "print(t) #이렇게는 최종적으로 1개만 추출됨. "
   ]
  },
  {
   "cell_type": "code",
   "execution_count": 37,
   "id": "637551f7",
   "metadata": {},
   "outputs": [
    {
     "name": "stdout",
     "output_type": "stream",
     "text": [
      "['Friend', 'fRiend', 'friEnd', 'FRIEND']\n",
      "Friend\n",
      "fRiend\n",
      "friEnd\n",
      "FRIEND\n"
     ]
    }
   ],
   "source": [
    "# Q. text에서 대소문자 구분없이 전체문장 모두 출력하세요 \n",
    "# 방법- 먼저 리스트화 해서 나눠 주고 난 뒤 for문 돌려준다. \n",
    "\n",
    "text = 'Friend fRiend friEnd FRIEND'\n",
    "list = re.findall('[a-z]+',text,re.I)\n",
    "print(list)\n",
    "for t in list:    \n",
    "    print(t)"
   ]
  },
  {
   "cell_type": "code",
   "execution_count": 38,
   "id": "c4fdb39c",
   "metadata": {},
   "outputs": [
    {
     "name": "stdout",
     "output_type": "stream",
     "text": [
      "Friend\n",
      "fRiend\n",
      "friEnd\n",
      "FRIEND\n"
     ]
    }
   ],
   "source": [
    "import re\n",
    "text = 'Friend fRiend friEnd FRIEND'\n",
    "matches = re.findall('friend',text,re.I)\n",
    "for m in matches:\n",
    "    print(m)"
   ]
  },
  {
   "cell_type": "code",
   "execution_count": 39,
   "id": "92af692f",
   "metadata": {},
   "outputs": [],
   "source": [
    "data = \"\"\"python one\n",
    "life is too short\n",
    "python two\n",
    "you need python\n",
    "python three\"\"\""
   ]
  },
  {
   "cell_type": "code",
   "execution_count": 44,
   "id": "3f264aae",
   "metadata": {},
   "outputs": [
    {
     "data": {
      "text/plain": [
       "['python one']"
      ]
     },
     "execution_count": 44,
     "metadata": {},
     "output_type": "execute_result"
    }
   ],
   "source": [
    "# 파이썬이라는 문자열로 시작하고 그 뒤에 화이트스페이스, 그 뒤에 단어가 오는 경우. \n",
    "\n",
    "re.findall('^python\\s\\w+',data)\n"
   ]
  },
  {
   "cell_type": "code",
   "execution_count": 48,
   "id": "ad2ed72f",
   "metadata": {},
   "outputs": [
    {
     "name": "stdout",
     "output_type": "stream",
     "text": [
      "['python'] \n",
      "\n",
      "['python', 'python', 'python']\n"
     ]
    }
   ],
   "source": [
    "# re,MULTILINE 또는 re.M 옵션으로 ^ 메타문자를 각 라인의 처음으로 인식시킴\n",
    "print(re.findall('^python',data),'\\n')\n",
    "print(re.findall('^python',data,re.M)) # 모든 줄의 시작점에 위치한 파이썬 출력"
   ]
  },
  {
   "cell_type": "code",
   "execution_count": 51,
   "id": "56b44197",
   "metadata": {},
   "outputs": [],
   "source": [
    "# re.VERBOSE는 정규 표현식의 가독성을 높이기 위한 옵션으로, 정규식에서 주석을 사용할 수 있도록 함. \n",
    "# re.VERBOSE 또는 re.X : 이해하기 어려운 정규식을 주석 또는 라인 단위로 구분\n",
    "\n",
    "# charref = re.compile(r'&[#](0[0-7]+|[0-9]+|x[0-9a-fA-F]+);') # 이 코드를 아래와 같이 보완하여 가독성 높임\n",
    "\n",
    "charref = re.compile( r\"\"\"\n",
    "&[#]                  # '&[#]' : character reference가 &#로 시작하는 것을 의미 (Start of a numeric entity reference)\n",
    "(\n",
    "    0[0-7]+           # 0[0-7]+ : 0으로 시작하고 그 다음에는 0에서 7까지의 숫자가 하나 이상 연속해서 나와야함 = 8진수(Octal form)\n",
    "  | [0-9]+            # [0-9]+  : 0에서 9까지의 숫자가 하나 이상 연속해서 나와야 함 = 10진수(Decimal form )\n",
    "  | x[0-9a-f-A-F]+    # x[0-9a-f-A-F]+ : x로 시작하고 그 다음에는 0에서 9 또는 a에서 f 또는 A에서 F까지의 숫자나 (Hexadecimal form)\n",
    "                      # 알파벳이 하나 이상 연속해서 나와야 함. = 16진수 \n",
    ")\n",
    ";                     # ;  : character reference가 ;로 끝나야 한다는 것을 의미(Trailing semicolon)\n",
    "\"\"\",re.VERBOSE) \n",
    "\n",
    "\n",
    "# 이 정규식 패턴을 사용하면 HTML 또는 XML 문서에서 character reference를 찾아낼 수 있습니다. \n",
    "#예를 들어, &#65;는 \"A\"를 나타내는 character reference입니다."
   ]
  },
  {
   "cell_type": "markdown",
   "id": "45e019a8",
   "metadata": {},
   "source": [
    "\"charref\"는 \"character reference\"의 줄임말입니다. character reference는 HTML 및 XML 문서에서 특수 문자를 나타내기 위해 사용되는 형식입니다. 특수 문자는 예약된 HTML 또는 XML 태그 기호로 해석될 수 있는 문자를 말합니다."
   ]
  },
  {
   "cell_type": "code",
   "execution_count": 49,
   "id": "ba15e886",
   "metadata": {},
   "outputs": [
    {
     "name": "stdout",
     "output_type": "stream",
     "text": [
      "['Hello, World!']\n"
     ]
    }
   ],
   "source": [
    "import re\n",
    "\n",
    "text = '''Hello, World!\n",
    "This is a multi-line\n",
    "string example.'''\n",
    "\n",
    "pattern = r'''\n",
    "    ^hello,     # 'hello,'로 시작하는 줄\n",
    "    \\s+         # 하나 이상의 공백 문자\n",
    "    world!      # 'world!'로 끝나는 단어\n",
    "'''\n",
    "\n",
    "matches = re.findall(pattern, text, re.IGNORECASE | re.MULTILINE | re.VERBOSE)\n",
    "print(matches)\n"
   ]
  },
  {
   "cell_type": "code",
   "execution_count": 52,
   "id": "6fcc03a8",
   "metadata": {},
   "outputs": [
    {
     "data": {
      "text/plain": [
       "[]"
      ]
     },
     "execution_count": 52,
     "metadata": {},
     "output_type": "execute_result"
    }
   ],
   "source": [
    "#파이썬 문자열 리터럴 규칙에 의하여 \\\\이 \\로 변경되어 \\section에 전달\n",
    "\n",
    "p = re.compile('\\\\section')\n",
    "p.match('\\section')\n",
    "p.findall('\\section\\section')  # 현재 상태로는 셋 다 실행 x"
   ]
  },
  {
   "cell_type": "code",
   "execution_count": 66,
   "id": "531177c0",
   "metadata": {},
   "outputs": [
    {
     "data": {
      "text/plain": [
       "['\\\\section', '\\\\section']"
      ]
     },
     "execution_count": 66,
     "metadata": {},
     "output_type": "execute_result"
    }
   ],
   "source": [
    "# 위 식의 해결방안 = Raw Srting\n",
    "\n",
    "p = re.compile(r'\\\\section')\n",
    "p.match('\\section').group()\n",
    "p.findall('\\section\\section') \n",
    "\n",
    "# 정규식 문자열 앞에 r 문자를 삽입하면 로우스트링 규칙에 의해 백슬래시 2개 대신 1개 전달\n",
    "# 파이썬 문자열 리터럴 규칙에 의하면 \\\\이 \\으로 변경되어 \\section이 전달 \n",
    "# 정규식 문자열 앞에 r문자를 삽입하면 Raw String 규칙에 의하여 백슬래시 2개 대신 1개 사용"
   ]
  },
  {
   "cell_type": "code",
   "execution_count": 67,
   "id": "b9846bae",
   "metadata": {},
   "outputs": [
    {
     "data": {
      "text/plain": [
       "'Crow'"
      ]
     },
     "execution_count": 67,
     "metadata": {},
     "output_type": "execute_result"
    }
   ],
   "source": [
    "# | : or 과 동일한 의미\n",
    "\n",
    "re.match('Crow|servo', 'CrowHello').group() \n",
    "\n",
    "# 두번째 인자로부터 Crow 또는 servo를 추출하라고 했으므로 Crow 출력\n"
   ]
  },
  {
   "cell_type": "code",
   "execution_count": 68,
   "id": "c5a1796d",
   "metadata": {},
   "outputs": [
    {
     "data": {
      "text/plain": [
       "'Life'"
      ]
     },
     "execution_count": 68,
     "metadata": {},
     "output_type": "execute_result"
    }
   ],
   "source": [
    "# ^ : 문자열의 맨 처음 \n",
    "\n",
    "re.search('^Life','Life is too short').group()"
   ]
  },
  {
   "cell_type": "code",
   "execution_count": 69,
   "id": "8b1d5283",
   "metadata": {},
   "outputs": [
    {
     "data": {
      "text/plain": [
       "'Life'"
      ]
     },
     "execution_count": 69,
     "metadata": {},
     "output_type": "execute_result"
    }
   ],
   "source": [
    "# $ : 문자열의 맨 끝과 매치\n",
    "\n",
    "re.search('Life$','My Life').group()"
   ]
  },
  {
   "cell_type": "code",
   "execution_count": 70,
   "id": "08a1485b",
   "metadata": {},
   "outputs": [
    {
     "data": {
      "text/plain": [
       "['Life ', ' Life']"
      ]
     },
     "execution_count": 70,
     "metadata": {},
     "output_type": "execute_result"
    }
   ],
   "source": [
    "re. findall('^Life | Life$','Life My Life') "
   ]
  },
  {
   "cell_type": "code",
   "execution_count": 75,
   "id": "d321cc31",
   "metadata": {},
   "outputs": [
    {
     "name": "stdout",
     "output_type": "stream",
     "text": [
      "['Life']\n",
      "['Life']\n",
      "['Life']\n",
      "['Life', 'Life', 'Life']\n"
     ]
    }
   ],
   "source": [
    "# \\A : 문자열의 처음과 매치. 단, re.MULTILINE 옵션 사용해도  ^와 달리 전체 문자열의 처음하고만 매치\n",
    "\n",
    "data = \"\"\"Life is too short\n",
    "Life is good\n",
    "Life is valuable\"\"\"\n",
    "\n",
    "print(re.findall('^Life',data))\n",
    "print(re.findall('\\ALife',data))\n",
    "print(re.findall('\\ALife',data,re.M))\n",
    "print(re.findall('Life',data))"
   ]
  },
  {
   "cell_type": "code",
   "execution_count": null,
   "id": "defc01e7",
   "metadata": {},
   "outputs": [],
   "source": [
    "# \\Z : 문자열의 끝과 매치 . 간, re.MULTILINE과 사용시 $와 달리 전체 문자열의 끝하고만 매치 "
   ]
  },
  {
   "cell_type": "code",
   "execution_count": 78,
   "id": "d148df1d",
   "metadata": {},
   "outputs": [
    {
     "name": "stdout",
     "output_type": "stream",
     "text": [
      "['good']\n",
      "['good', 'good']\n"
     ]
    }
   ],
   "source": [
    "data= \"\"\"Life is too short\n",
    "Life is good\n",
    "Life is very good\"\"\"\n",
    "\n",
    "print(re.findall('good\\Z',data,re.MULTILINE))\n",
    "print(re.findall('good$',data,re.MULTILINE))\n"
   ]
  },
  {
   "cell_type": "code",
   "execution_count": 82,
   "id": "1c290835",
   "metadata": {},
   "outputs": [
    {
     "name": "stdout",
     "output_type": "stream",
     "text": [
      "home\n",
      "['home']\n"
     ]
    }
   ],
   "source": [
    "# Q. 'we are going home'에서 home 만 출력하세요.\n",
    "data='we are going home'\n",
    "print(re.search('home\\Z',data).group())\n",
    "print(re.findall('home\\Z',data))"
   ]
  },
  {
   "cell_type": "code",
   "execution_count": 87,
   "id": "28f183fd",
   "metadata": {},
   "outputs": [
    {
     "name": "stdout",
     "output_type": "stream",
     "text": [
      "home\n",
      "home\n",
      "home\n",
      "home\n"
     ]
    }
   ],
   "source": [
    "#Q. 'home sweet'에서 home 만 출력하세요.\n",
    "text = 'home sweet'\n",
    "print(re.search('^home',text).group())\n",
    "print(re.search('\\Ahome',text).group())\n",
    "print(re.search('\\A\\w+',text).group())\n",
    "print(re.search('\\A[a-z]+',text).group())"
   ]
  },
  {
   "cell_type": "code",
   "execution_count": 85,
   "id": "e4f8c081",
   "metadata": {},
   "outputs": [
    {
     "data": {
      "text/plain": [
       "'199305'"
      ]
     },
     "execution_count": 85,
     "metadata": {},
     "output_type": "execute_result"
    }
   ],
   "source": [
    "# Q. '199305, 1923A, a93247' 에서 '199305'만 출력하세요.\n",
    "t = '199305, 1923A, a93247' \n",
    "re.search('\\A\\d+',t).group()"
   ]
  },
  {
   "cell_type": "code",
   "execution_count": 93,
   "id": "63c0162c",
   "metadata": {},
   "outputs": [
    {
     "name": "stdout",
     "output_type": "stream",
     "text": [
      "199305\n",
      "['199305']\n"
     ]
    }
   ],
   "source": [
    "# Q. text에서 '199305'만 출력하세요.\n",
    "text='1923A,199305,  a93247' \n",
    "print(re.search('\\d{6}',text).group())\n",
    "print(re.findall('(\\d+),',text)) #숫자 뒤에 쉼표가 오는 조건을 만족하는 수를 출력"
   ]
  },
  {
   "cell_type": "code",
   "execution_count": 94,
   "id": "e0c96d29",
   "metadata": {},
   "outputs": [
    {
     "data": {
      "text/plain": [
       "'class'"
      ]
     },
     "execution_count": 94,
     "metadata": {},
     "output_type": "execute_result"
    }
   ],
   "source": [
    "# \\b : 단어 경계를 나타내는 메타 문자\n",
    "text1 = 'no class at all'\n",
    "re.search(r'\\bclass\\b',text1).group()\n",
    "\n",
    "# class가 독립된 단어로 존재할 떄만 매치됨.\n",
    "# 이를 통해 class가 다른 단어의 일부분으로 매치되지 않도록 보장 "
   ]
  },
  {
   "cell_type": "code",
   "execution_count": 102,
   "id": "d3eb6583",
   "metadata": {},
   "outputs": [
    {
     "data": {
      "text/plain": [
       "['OpenAI']"
      ]
     },
     "execution_count": 102,
     "metadata": {},
     "output_type": "execute_result"
    }
   ],
   "source": [
    "import re\n",
    "\n",
    "text = \"Hello, world! OpenAI is awesome.\"\n",
    "\n",
    "# 단어 경계(\\b)를 사용하여 \"o\"로 시작하는 단어를 찾음\n",
    "re.findall(r'\\bo\\w+', text,re.I)\n"
   ]
  },
  {
   "cell_type": "code",
   "execution_count": null,
   "id": "777525f0",
   "metadata": {},
   "outputs": [],
   "source": [
    "# \\B : 단어 경계가 아님을 나타내는 문자 "
   ]
  },
  {
   "cell_type": "code",
   "execution_count": 156,
   "id": "0d64f152",
   "metadata": {},
   "outputs": [
    {
     "data": {
      "text/plain": [
       "'class'"
      ]
     },
     "execution_count": 156,
     "metadata": {},
     "output_type": "execute_result"
    }
   ],
   "source": [
    "#\\B는 단어 경계가 아님을 나타내는 메타 문자 = \"declassified\"라는 단어에서 \"class\"라는 문자열을 찾음 ★ \\B 잘 모르겠다\n",
    "\n",
    "text2 = 'the declassified algorithim'\n",
    "re.search(r'\\Bclass\\B',text2).group()"
   ]
  },
  {
   "cell_type": "code",
   "execution_count": 168,
   "id": "e721c55e",
   "metadata": {},
   "outputs": [
    {
     "data": {
      "text/plain": [
       "re.compile(r'\\B\\w*o\\w+\\B', re.IGNORECASE|re.UNICODE)"
      ]
     },
     "execution_count": 168,
     "metadata": {},
     "output_type": "execute_result"
    }
   ],
   "source": [
    "import re\n",
    "\n",
    "text = \"Hello, world! OpenAI is awesome.\"\n",
    "#re.findall('(\\w*o\\w+)!?\\s', text,re.I)\n"
   ]
  },
  {
   "cell_type": "code",
   "execution_count": 178,
   "id": "3ed009b3",
   "metadata": {},
   "outputs": [
    {
     "name": "stdout",
     "output_type": "stream",
     "text": [
      "['에러 1122', '에러 1033', '에러 xxx']\n",
      "['에러 1122', '에러 1033', '에러 xxx']\n"
     ]
    }
   ],
   "source": [
    "# Q. 정규표현식을 사용하여 text에서 에러가 들어간 부분만 포함하는 리스트를 출력하세요.\n",
    "\n",
    "text = \"에러 1122, 레퍼런스 오류, 에러 1033, 아규먼트 오류, 에러 xxx\"\n",
    "print(re.findall('에러\\s\\w+',text))\n",
    "print(re.findall('에러\\s[^,]+',text)) # [^,]: 쉼표를 제외한 다른문자가 오는 것을 뜻함.\n"
   ]
  },
  {
   "cell_type": "markdown",
   "id": "a6455990",
   "metadata": {},
   "source": [
    "Q. 과제6_0425.\n",
    "( )에 정규표현식을 작성하여 아래와 같이 출력하세요.\n",
    "\n",
    "['1 apple', '5 oranges', '3 boys', '4 girls', '10 army', '11 mr']"
   ]
  },
  {
   "cell_type": "code",
   "execution_count": 182,
   "id": "8e8b7c74",
   "metadata": {},
   "outputs": [
    {
     "name": "stdout",
     "output_type": "stream",
     "text": [
      "['1 apple', '5 oranges', '3 boys', '4 girls', '10 army', '11 mr']\n"
     ]
    }
   ],
   "source": [
    "import re\n",
    "li = '1 apple, 5 oranges, 3 boys, 4 girls; 10 army| 11 mr'\n",
    "\n",
    "# re.findall('\\d+\\s\\w+',li)\n",
    "\n",
    "regex = re.compile('\\d+\\s\\w+' )\n",
    "list = regex.findall(li)\n",
    "print(list)"
   ]
  },
  {
   "cell_type": "markdown",
   "id": "ae797cd7",
   "metadata": {},
   "source": [
    "Q. text에서 다음을 수행하세요.\n",
    "\n",
    "- 'H,h'만 출력하세요.\n",
    "- 'H,h'가 아닌 것 모두를 출력하세요."
   ]
  },
  {
   "cell_type": "code",
   "execution_count": 188,
   "id": "06774aa9",
   "metadata": {
    "scrolled": false
   },
   "outputs": [
    {
     "name": "stdout",
     "output_type": "stream",
     "text": [
      "['H', 'h', 'h'] \n",
      "\n",
      "ello my friend! Life is sort you need Pyton! \n",
      "\n",
      "hello my friend! Life is short you need Python!\n"
     ]
    }
   ],
   "source": [
    "text = 'Hello my friend! Life is short you need Python!'\n",
    "#'H,h'만 출력하세요.\n",
    "\n",
    "print(re.findall('h',text,re.I),'\\n')\n",
    "\n",
    "#'H,h'가 아닌 것 모두를 출력하세요.\n",
    "\n",
    "print(re.sub('[Hh]','',text),'\\n') #기억해둘것. 헷갈리기 쉬움 ★\n",
    "\n",
    "# h를 전부 소문자로 바꾼다면?\n",
    "\n",
    "print(re.sub('H','h',text))  #오오 된다 >ㅁ<"
   ]
  },
  {
   "cell_type": "code",
   "execution_count": 198,
   "id": "db8440c3",
   "metadata": {},
   "outputs": [
    {
     "name": "stdout",
     "output_type": "stream",
     "text": [
      "ABCABCABC\n",
      "ABC\n"
     ]
    }
   ],
   "source": [
    "# 그룹핑 \n",
    "# group() 매치된 전체 문자열, 1번째 그룹, 2번째 그룹, n 번째 그룹\n",
    "text = 'ABCABCABC OK?'\n",
    "m = re.search('(ABC)+',text)\n",
    "print(m.group(0))\n",
    "print(m.group(1))"
   ]
  },
  {
   "cell_type": "markdown",
   "id": "8a3090ad",
   "metadata": {},
   "source": [
    "Q. text에서 그룹핑을 사용하여 아래와 같이 출력하세요.\n",
    "<br>ABCDEF\n",
    "<br>ABCDEF\n",
    "<br>AB\n",
    "<br>CD\n",
    "<br>EF"
   ]
  },
  {
   "cell_type": "code",
   "execution_count": 192,
   "id": "952c958d",
   "metadata": {},
   "outputs": [
    {
     "name": "stdout",
     "output_type": "stream",
     "text": [
      "ABCDEF\n",
      "ABCDEF\n",
      "AB\n",
      "CD\n",
      "EF\n"
     ]
    }
   ],
   "source": [
    "text = 'DEFABCDEFDEF OK?'\n",
    "m= re.search('((AB)(CD)(EF))',text)\n",
    "print(m.group(0))\n",
    "print(m.group(1))\n",
    "print(m.group(2))\n",
    "print(m.group(3))\n",
    "print(m.group(4))"
   ]
  },
  {
   "cell_type": "markdown",
   "id": "cfcacb1f",
   "metadata": {},
   "source": [
    "Q.정규 표현식을 사용하여 text 에서 다음 사항을 수행하세요.\n",
    "\n",
    "지역코드만 출력하세요.\n",
    "지역코드 제외한 번호만 출력하세요\n",
    "text= \"문의사항 있으면 032-232-3245로 연락주시기 바랍니다.\""
   ]
  },
  {
   "cell_type": "code",
   "execution_count": 199,
   "id": "15c2dde9",
   "metadata": {},
   "outputs": [
    {
     "data": {
      "text/plain": [
       "['232-3245']"
      ]
     },
     "execution_count": 199,
     "metadata": {},
     "output_type": "execute_result"
    }
   ],
   "source": [
    "text= \"문의사항 있으면 032-232-3245로 연락주시기 바랍니다.\"\n",
    "p = re.compile('\\d{3}-\\d{4}')\n",
    "p.findall(text)"
   ]
  },
  {
   "cell_type": "code",
   "execution_count": 219,
   "id": "f4f1ef98",
   "metadata": {},
   "outputs": [
    {
     "name": "stdout",
     "output_type": "stream",
     "text": [
      "232-3245 \n",
      "\n",
      "032-232-3245 \n",
      "\n",
      "032-232-3245 \n",
      "\n",
      "032 \n",
      "\n"
     ]
    }
   ],
   "source": [
    "# 그룹핑을 사용해서 출력\n",
    "\n",
    "p = re.search('((\\d+)[-](\\d+[-]\\d+))',text)\n",
    "print(p.group(3),'\\n')\n",
    "\n",
    "print(p.group(0),'\\n')\n",
    "print(p.group(1),'\\n')\n",
    "print(p.group(2),'\\n')"
   ]
  },
  {
   "cell_type": "code",
   "execution_count": 228,
   "id": "ca94f88d",
   "metadata": {},
   "outputs": [
    {
     "name": "stdout",
     "output_type": "stream",
     "text": [
      "<re.Match object; span=(0, 18), match='park 010-1234-5678'>\n",
      "park 010-1234-5678\n",
      "park 010-1234-5678\n",
      "park\n",
      "010-1234-5678\n",
      "010\n",
      "1234-5678\n"
     ]
    }
   ],
   "source": [
    "text = 'park 010-1234-5678'\n",
    "m = re.search('(\\w+)\\s((\\d+)[-](\\d+[-]\\d+))',text)\n",
    "print(m)\n",
    "print(m.group(0))\n",
    "print(m.group())\n",
    "\n",
    "print(m.group(1))\n",
    "print(m.group(2))\n",
    "print(m.group(3))\n",
    "print(m.group(4))\n"
   ]
  },
  {
   "cell_type": "code",
   "execution_count": 243,
   "id": "4e2c3be7",
   "metadata": {},
   "outputs": [
    {
     "data": {
      "text/plain": [
       "'very beautiful beautiful'"
      ]
     },
     "execution_count": 243,
     "metadata": {},
     "output_type": "execute_result"
    }
   ],
   "source": [
    "# 그룹핑 된 문자열 재참조\n",
    "\n",
    "# Q. 'Paris is very very beautiful.'에서 'very very'를 출력해보세요.\n",
    "\n",
    "text = 'Paris is very beautiful beautiful very .'\n",
    "re.search(r'\\b(\\w+)\\s+(\\w+)\\s+\\2',text).group()\n",
    "\n",
    "# \\1과 같은 역참조 메타 문자를 포함한 정규식 패턴을 사용할 때는 역슬래시 \\를 이스케이프하지 않으면 제대로 동작하지 않을 수 있다.\n",
    "# rawstring 하지않으면 작동되지 않는다. "
   ]
  },
  {
   "cell_type": "code",
   "execution_count": 236,
   "id": "d58fd67d",
   "metadata": {},
   "outputs": [
    {
     "name": "stdout",
     "output_type": "stream",
     "text": [
      "[('apple', 'banana')]\n"
     ]
    }
   ],
   "source": [
    "import re\n",
    "\n",
    "text = 'apple banana apple banana apple'\n",
    "pattern = r'(\\b\\w+\\b)\\s+(\\b\\w+\\b)\\s+\\1\\s+\\2'\n",
    "matches = re.findall(pattern, text)\n",
    "print(matches)  # [('apple', 'banana')]\n"
   ]
  },
  {
   "cell_type": "markdown",
   "id": "b474ea3f",
   "metadata": {},
   "source": [
    "Q. 아래 text에서 정규표현식을 사용하여 'the the the'를 출력하세요.\n",
    "text = 'Paris in the the the spring'"
   ]
  },
  {
   "cell_type": "code",
   "execution_count": 246,
   "id": "28619155",
   "metadata": {},
   "outputs": [
    {
     "data": {
      "text/plain": [
       "'the the the'"
      ]
     },
     "execution_count": 246,
     "metadata": {},
     "output_type": "execute_result"
    }
   ],
   "source": [
    "text = 'Paris in the the the spring'\n",
    "re.search(r'\\b(\\w+)\\s\\1\\s\\1',text).group()\n"
   ]
  },
  {
   "cell_type": "markdown",
   "id": "e289015a",
   "metadata": {},
   "source": [
    "Q. 'abcdefghij'에 대하여 중첩을 적용한 서브그룹 5개로 컴파일하여 group()함수를 이용하여 'abcdefghi' 와 'e'를 출력하세요"
   ]
  },
  {
   "cell_type": "code",
   "execution_count": 254,
   "id": "27675d09",
   "metadata": {},
   "outputs": [
    {
     "name": "stdout",
     "output_type": "stream",
     "text": [
      "abcdefghi\n",
      "e\n"
     ]
    }
   ],
   "source": [
    "t = 'abcdefghij'\n",
    "p = re.search('(a(b(c(d(e)f)g)h)i)j',t)\n",
    "print(p.group(1))\n",
    "print(p.group(5))"
   ]
  },
  {
   "cell_type": "code",
   "execution_count": 255,
   "id": "a3bfa297",
   "metadata": {},
   "outputs": [
    {
     "name": "stdout",
     "output_type": "stream",
     "text": [
      "abcdefghi\n",
      "e\n"
     ]
    }
   ],
   "source": [
    "import re\n",
    "t ='abcdefghij'\n",
    "m = re.search(r'((ab)(cd)(e)(fg)(hi))j',t) \n",
    "print(m.group(1))\n",
    "print(m.group(4))"
   ]
  },
  {
   "cell_type": "code",
   "execution_count": 256,
   "id": "389a879f",
   "metadata": {},
   "outputs": [
    {
     "name": "stdout",
     "output_type": "stream",
     "text": [
      "('abcdefghi', 'bcdefgh', 'cdefg', 'def', 'e')\n"
     ]
    }
   ],
   "source": [
    "# Q.위 문제에서 모든 서브 그룹에 대한 문자열을 포함하는 튜플을 출력하세요.\n",
    "print(p.groups())"
   ]
  },
  {
   "cell_type": "markdown",
   "id": "90c0c6a0",
   "metadata": {},
   "source": [
    "## 그룹핑된 문자열에 이름 붙이기 \n",
    "\n",
    "- 정규표현식에서 그룹핑 된 문자열에 이름을 붙이는 방법은 (?P$<name$>pattern)형식을 사용한다.\n",
    "  이때 name 은 그룹에 붙일 이름이며 pattern은 그룹화 할 정규식 패턴이다 "
   ]
  },
  {
   "cell_type": "code",
   "execution_count": 257,
   "id": "7125fcc1",
   "metadata": {},
   "outputs": [
    {
     "data": {
      "text/plain": [
       "'123-4565-7890'"
      ]
     },
     "execution_count": 257,
     "metadata": {},
     "output_type": "execute_result"
    }
   ],
   "source": [
    "text = \"John's phone number is 123-4565-7890.\"\n",
    "p = r'(?P<phone>\\d+[-]\\d+[-]\\d+)'\n",
    "m = re.search(p,text)\n",
    "m.group('phone')"
   ]
  },
  {
   "cell_type": "markdown",
   "id": "cca0580c",
   "metadata": {},
   "source": [
    "Q. 이름으로 그룹을 참조하여 text 에서 Lots를 출력하세요.\n",
    "\n",
    "text = 'Lots of punctuation Lots of punctuation'"
   ]
  },
  {
   "cell_type": "code",
   "execution_count": 264,
   "id": "685edd80",
   "metadata": {},
   "outputs": [
    {
     "data": {
      "text/plain": [
       "'Lots'"
      ]
     },
     "execution_count": 264,
     "metadata": {},
     "output_type": "execute_result"
    }
   ],
   "source": [
    "text = 'Lots of punctuation Lots of punctuation'\n",
    "p = r'(?P<shop>\\w+)'\n",
    "m= re.search(p,text)\n",
    "m.group('shop')"
   ]
  },
  {
   "cell_type": "code",
   "execution_count": 266,
   "id": "f19fc4cf",
   "metadata": {},
   "outputs": [
    {
     "name": "stdout",
     "output_type": "stream",
     "text": [
      "park\n",
      "010-1234-1234\n"
     ]
    }
   ],
   "source": [
    "# 두개의 이름 적용 \n",
    "\n",
    "text = 'park 010-1234-1234'\n",
    "p = re.compile(r'(?P<name>\\w+)\\s+(?P<phone>(\\d+)[-]\\d+[-]\\d+)')\n",
    "m = p.search(text)\n",
    "print(m.group('name'))\n",
    "print(m.group('phone'))"
   ]
  },
  {
   "cell_type": "code",
   "execution_count": 276,
   "id": "70c527f3",
   "metadata": {},
   "outputs": [
    {
     "name": "stdout",
     "output_type": "stream",
     "text": [
      "the the\n"
     ]
    }
   ],
   "source": [
    "# Q. 아래 text에서 그룹명을 word라고 이용하여 'the the' 를 출력하세요 \n",
    "text = 'Paris in the the spring'\n",
    "p = re.compile(r'(?P<word>\\b(\\w+)\\s\\2)')\n",
    "m = p.search(text)\n",
    "print(m.group('word'))\n"
   ]
  },
  {
   "cell_type": "code",
   "execution_count": 277,
   "id": "d2b4517d",
   "metadata": {},
   "outputs": [
    {
     "data": {
      "text/plain": [
       "'the the'"
      ]
     },
     "execution_count": 277,
     "metadata": {},
     "output_type": "execute_result"
    }
   ],
   "source": [
    "p = re.compile(r'(?P<word>the)\\s+(?P=word)') #the 대신 \\w+ 를 사용해도 된다. (반복 되는 문자 출력)\n",
    "re.search(p,text).group()"
   ]
  },
  {
   "cell_type": "markdown",
   "id": "d1aec9e4",
   "metadata": {},
   "source": [
    "### 전방 탐색\n",
    "- 전방탐색 : 정규식에서 매치할 문자열의 앞쪽을 일치시키는 것. 일치시킨 문자열은 검색대상에서 제외된다. 이를 사용하면 특정 문자열 채턴 뒤에 오는 문자열을 매치할 때 유용하다.\n",
    "\n",
    "### 긍정 탐색\n",
    "- 긍정 탐색 : 조건을 충족하는 부분을 찾을 때 사용. 일치하는 부분을 포함하고 일치하지 않는 부분을 탐색 결과에서 제외한다.\n",
    "<br>  긍정탐색은 (?=...) 구문을 사용하여 정규식 안에서 표현됩니다.\n",
    "\n",
    "### 부정 탐색\n",
    "- 부정탐색: 일치하지 않는 부분을 찾을 떄 사용. 일치하지 않는 부분을 포함하지만, 탐색 결과에서 일치하는 부분을 제외합니다. \n",
    "<br> 부정탐색은 (?!...) 구문을 사용하여 정규식 안에서 표현됩니다."
   ]
  },
  {
   "cell_type": "code",
   "execution_count": 281,
   "id": "e0747af1",
   "metadata": {},
   "outputs": [
    {
     "name": "stdout",
     "output_type": "stream",
     "text": [
      "http:\n",
      "http\n"
     ]
    }
   ],
   "source": [
    "import re\n",
    "text = 'http://google.com'\n",
    "p = re.compile(r'.+.:') # .(all)이 +(하나이상) .:\n",
    "m = p.search(text)\n",
    "print(m.group())\n",
    "\n",
    "p2 = re.compile(r'.+(?=:)') # 전방탐색 = ':'에 해당하는 문자열이 정규식 엔진에 의해 소모되지 않음. (검색에는 포함되지만 결과는 안나옴)\n",
    "m2 = p2.search(text)\n",
    "print(m2.group())"
   ]
  },
  {
   "cell_type": "code",
   "execution_count": 282,
   "id": "104ac9bf",
   "metadata": {},
   "outputs": [
    {
     "name": "stdout",
     "output_type": "stream",
     "text": [
      "['banana', 'orange']\n"
     ]
    }
   ],
   "source": [
    "import re\n",
    "\n",
    "text = 'apple banana avocado orange'\n",
    "pattern = r'\\b(?!a)\\w+\\b'\n",
    "matches = re.findall(pattern, text)\n",
    "print(matches)  # ['banana', 'orange']\n"
   ]
  },
  {
   "cell_type": "code",
   "execution_count": 283,
   "id": "e4cd611b",
   "metadata": {},
   "outputs": [
    {
     "name": "stdout",
     "output_type": "stream",
     "text": [
      "['100', '300']\n"
     ]
    }
   ],
   "source": [
    "import re\n",
    "\n",
    "text = '100원 200달러 300원 400엔'\n",
    "pattern = r'\\d+(?=원)'\n",
    "matches = re.findall(pattern, text)\n",
    "print(matches)  # ['100', '300']\n"
   ]
  },
  {
   "cell_type": "code",
   "execution_count": null,
   "id": "c3834dec",
   "metadata": {},
   "outputs": [],
   "source": []
  },
  {
   "cell_type": "code",
   "execution_count": null,
   "id": "789d79a4",
   "metadata": {},
   "outputs": [],
   "source": []
  },
  {
   "cell_type": "code",
   "execution_count": null,
   "id": "de8608a0",
   "metadata": {},
   "outputs": [],
   "source": []
  },
  {
   "cell_type": "code",
   "execution_count": null,
   "id": "68294056",
   "metadata": {},
   "outputs": [],
   "source": []
  },
  {
   "cell_type": "code",
   "execution_count": null,
   "id": "18e8876a",
   "metadata": {},
   "outputs": [],
   "source": []
  },
  {
   "cell_type": "code",
   "execution_count": null,
   "id": "cf1c7e3e",
   "metadata": {},
   "outputs": [],
   "source": []
  }
 ],
 "metadata": {
  "kernelspec": {
   "display_name": "Python 3 (ipykernel)",
   "language": "python",
   "name": "python3"
  },
  "language_info": {
   "codemirror_mode": {
    "name": "ipython",
    "version": 3
   },
   "file_extension": ".py",
   "mimetype": "text/x-python",
   "name": "python",
   "nbconvert_exporter": "python",
   "pygments_lexer": "ipython3",
   "version": "3.10.9"
  }
 },
 "nbformat": 4,
 "nbformat_minor": 5
}

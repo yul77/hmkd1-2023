{
 "cells": [
  {
   "cell_type": "code",
   "execution_count": 1,
   "id": "3b7aba07",
   "metadata": {},
   "outputs": [
    {
     "data": {
      "text/html": [
       "<style>\n",
       "div.prompt {display:none}\n",
       "</style>\n",
       "// hide input prompt\n",
       "$(document).ready(function() {\n",
       "    $('div.prompt').css('display', 'none');\n",
       "});\n"
      ],
      "text/plain": [
       "<IPython.core.display.HTML object>"
      ]
     },
     "metadata": {},
     "output_type": "display_data"
    }
   ],
   "source": [
    "%%HTML\n",
    "<style>\n",
    "div.prompt {display:none}\n",
    "</style>\n",
    "// hide input prompt\n",
    "$(document).ready(function() {\n",
    "    $('div.prompt').css('display', 'none');\n",
    "});\n"
   ]
  },
  {
   "cell_type": "markdown",
   "id": "81fe7260",
   "metadata": {},
   "source": [
    "# 정규표현식 기본 개념\n",
    "\n",
    "한 영화관에서는 예매 시 사용자의 휴대폰 번호를 입력받아야 합니다. 예매 정보는 해당 번호와 함께 저장됩니다. 그러나 종종 잘못된 번호가 입력되어 예매 정보가 유실되는 문제가 발생했습니다.\n",
    "\n",
    "이런 문제를 해결하기 위해, 영화관은 **정규표현식**을 사용해 휴대폰 번호를 검증하기로 결정했습니다. 이제 사용자가 휴대폰 번호를 입력할 때, 정확한 형식으로 입력되었는지 확인하고, 유효한 번호만 저장할 수 있습니다."
   ]
  },
  {
   "cell_type": "markdown",
   "id": "34f8579f",
   "metadata": {},
   "source": [
    "## 정규표현식이란?\n",
    "\n",
    "정규표현식(Regular Expression)은 문자열에서 특정한 패턴을 찾거나, 대체하거나, 추출하는데 사용되는 문자열입니다. 즉, 문자열에서 원하는 문자를 찾거나 바꾸기 위한 일종의 패턴이라고 생각할 수 있습니다.\n",
    "\n",
    "\n",
    "예를 들어, 정규표현식에서 ['.'은 어떤 문자 하나]를 의미하고, ['*'는 바로 앞의 문자가 0번 이상 반복]됨을 의미합니다. 또한, '|'는 OR 조건을 의미하고, '^'는 문자열의 시작을 의미합니다.\n",
    "\n",
    "파이썬에서는 정규표현식을 처리하기 위해 're' 모듈을 제공합니다. 're' 모듈을 사용하면 문자열에서 패턴을 찾거나, 추출하거나, 대체할 수 있습니다."
   ]
  },
  {
   "cell_type": "code",
   "execution_count": 20,
   "id": "1318e60e",
   "metadata": {},
   "outputs": [
    {
     "data": {
      "text/plain": [
       "['12345']"
      ]
     },
     "execution_count": 20,
     "metadata": {},
     "output_type": "execute_result"
    }
   ],
   "source": [
    "#문자열에서 숫자만 추출하는 예시\n",
    "\n",
    "import re\n",
    "text = 'Hello,my number is 12345. '\n",
    "\n",
    "numbers = re.findall('\\d+',text)\n",
    "numbers"
   ]
  },
  {
   "cell_type": "markdown",
   "id": "8f12c1a3",
   "metadata": {},
   "source": [
    "## 정규표현식의 장단점\n",
    "\n",
    "[장점]\n",
    "1.\t유연성: 정규표현식을 사용하면 다양한 패턴을 표현할 수 있습니다. 예를 들어, 특정 문자열이 특정 패턴을 따르는지 여부를 확인하거나, 특정 패턴을 가진 문자열을 찾아내는 등 다양한 용도로 사용할 수 있습니다.\n",
    "2.\t간결성: 문자열에서 원하는 정보를 추출하는 데에는 정규표현식이 다른 방법에 비해 더 간단하고 직관적입니다.\n",
    "3.\t속도: 정규표현식은 문자열을 일일이 검색하는 것보다 더 빠른 속도로 패턴을 찾아낼 수 있습니다.\n",
    "\n",
    "[단점]\n",
    "1.\t복잡성: 정규표현식은 다양한 패턴을 표현할 수 있지만, 그만큼 문법이 복잡합니다. 특히 초보자에게는 익숙해지기까지 시간이 걸릴 수 있습니다.\n",
    "2.\t이식성: 언어나 툴마다 문법이 조금씩 다르기 때문에, 한 번 익힌 정규표현식이 다른 환경에서는 작동하지 않을 수도 있습니다.\n",
    "3.\t가독성: 정규표현식을 사용하면 코드의 가독성이 떨어질 수 있습니다. 특히, 매우 복잡한 정규표현식을 작성하면 코드가 길어지고 가독성이 나빠질 수 있습니다.\n",
    "위와 같이, 정규표현식은 다양한 장단점을 가지고 있습니다. 그러나 정규표현식은 파이썬을 비롯한 다양한 프로그래밍 언어에서 사용되는 유용한 도구입니다. 아래는 파이썬 코드로 정규표현식을 사용한 문자열 패턴 매칭 예시입니다."
   ]
  },
  {
   "cell_type": "code",
   "execution_count": 26,
   "id": "06e32a34",
   "metadata": {},
   "outputs": [
    {
     "name": "stdout",
     "output_type": "stream",
     "text": [
      "['010-1234-5678']\n"
     ]
    }
   ],
   "source": [
    "# 정규표현식을 이용하여 전화번호를 추출하는 예시\n",
    "\n",
    "#패턴 설정\n",
    "pattern = r\"\\d{3}-\\d{4}-\\d{4}\" #3자리수 - 4자리 수 - 4자리 수   조합\n",
    "\n",
    "#패턴 매칭\n",
    "phone_numbers = ['010-1234-5678', '02-555-1234','031-222-3333']\n",
    "matched_numbers = []\n",
    "for number in phone_numbers: #for문으로 모든 원소를 하나씩 검사 \n",
    "    if re.match(pattern, number):\n",
    "        matched_numbers.append(number) #매치하는 경우 매피 넘버스에 저장\n",
    "        print(matched_numbers)"
   ]
  },
  {
   "cell_type": "markdown",
   "id": "f9fb9c4b",
   "metadata": {},
   "source": [
    "## 정규표현식의 구성 요소\n",
    "\n",
    "정규표현식은 다음과 같은 구성 요소를 가집니다.\n",
    "\n",
    "- 문자: 특정 문자를 표현합니다. 예를 들어, 'a'는 문자 'a'를 의미합니다.\n",
    "- 메타 문자: 특별한 의미를 가지는 문자입니다. 예를 들어, '.'은 어떤 문자에도 매치되는 문자입니다.\n",
    "- 문자 클래스: 여러 개의 문자 중 하나를 선택합니다. 대괄호([])로 표현합니다. 예를 들어, '[abc]'는 'a', 'b', 'c' 중 하나에 매치됩니다.\n",
    "- 반복: 문자 또는 메타 문자가 반복되는 횟수를 지정합니다.'', '*', '+', '?', '{m}', '{m,n}' 등으로 표현합니다. 예를 들어, 'a'는 'a'가 0번 이상 반복되는 문자열에 매치됩니다.\n",
    "- 그룹: 하나의 문자 또는 메타 문자의 집합을 그룹화합니다. 괄호()로 표현합니다. 예를 들어, '(abc)+'는 'abc'가 1번 이상 반복되는 문자열에 매치됩니다."
   ]
  },
  {
   "cell_type": "markdown",
   "id": "89fdcf3a",
   "metadata": {},
   "source": [
    "## Row String\n",
    "\n",
    "- 로우스트링은 문자열 안에 있는 이스케이프 문자를 무시하고 문자 그대로 해석하도록 하는 문자열.\n",
    "- 로우스트링을 사용하면 이스케이프 문자를 사용하지 않고도 백슬래시()를 문자 그대로 사용할 수 있습니다. 이를 통해 정규 표현식, 파일 경로, URL 등과 같은 문자열을 다룰 때 유용하게 사용할 수 있습니다.\n",
    "- 로우스트링을 사용하면 백슬래시와 같은 이스케이프 문자를 사용하지 않아도 되므로 가독성이 좋아진다."
   ]
  },
  {
   "cell_type": "code",
   "execution_count": 28,
   "id": "10827fa4",
   "metadata": {},
   "outputs": [
    {
     "name": "stdout",
     "output_type": "stream",
     "text": [
      "C:\\Users\\Desktop\\file.txt \n",
      "\n",
      "C:\\Users\\Desktop\\file.txt\n"
     ]
    }
   ],
   "source": [
    "str1 = \"C:\\\\Users\\\\Desktop\\\\file.txt\"\n",
    "str2 = r\"C:\\Users\\Desktop\\file.txt\"\n",
    "print(str1,'\\n')\n",
    "print(str2)"
   ]
  },
  {
   "cell_type": "code",
   "execution_count": 4,
   "id": "f14adb14",
   "metadata": {},
   "outputs": [
    {
     "name": "stdout",
     "output_type": "stream",
     "text": [
      "line\n",
      "etwork \n",
      "\n",
      "line\\network\n"
     ]
    }
   ],
   "source": [
    "#로우 스트링 예시 - 0425\n",
    "\n",
    "text1 = 'line\\network' #\\n 을 역슬래시로 인식해서 문법에 오류가 생긴다\n",
    "print(text1,'\\n')\n",
    "\n",
    "text2 = r'line\\network' #\\를 구분하는 문자 그대로 쓰고 싶다.\n",
    "print(text2)\n",
    "\n"
   ]
  },
  {
   "cell_type": "code",
   "execution_count": 5,
   "id": "4060b54b",
   "metadata": {},
   "outputs": [
    {
     "name": "stdout",
     "output_type": "stream",
     "text": [
      "Hello, \n",
      "world! \n",
      "\n",
      "Hello, \\nworld! \n",
      "\n",
      "Hello, \\nworld!\n"
     ]
    }
   ],
   "source": [
    "#이스케이프 문자 -0425\n",
    "# 이스케이프 문자(escape character)는 특별한 의미를 가지고 있는 문자열을 문자 그대로 해석하도록 하는 문자\n",
    "# r\"\\n\"은 \\n 이스케이프 문자를 포함하는 문자열 리터럴이 아니라, \\와 n 두 개의 문자로 구성된 \n",
    "# 문자열 리터럴로 해석됩니다\n",
    "\n",
    "text1 = \"Hello, \\nworld!\"\n",
    "\n",
    "text2 = \"Hello, \\\\nworld!\" #\\를 하나 더 붙여주면 \\n이 문자로 인식된다. \n",
    "\n",
    "text3 = r\"Hello, \\nworld!\"\n",
    "\n",
    "print(text1,'\\n')\n",
    "print(text2,'\\n')\n",
    "print(text3)\n"
   ]
  },
  {
   "cell_type": "code",
   "execution_count": 2,
   "id": "9b528ce5",
   "metadata": {},
   "outputs": [
    {
     "name": "stdout",
     "output_type": "stream",
     "text": [
      "['a']\n",
      "['a', 'p', 'p', 'l', 'e']\n",
      "['a', 'e']\n",
      "['bana']\n",
      "['ba', '']\n"
     ]
    }
   ],
   "source": [
    "#re.findall()은 두개의 인자를 가집니다. 첫번째 인자는 찾으려는 패턴을 지정하는 정규 표현식이며,\n",
    "# 두 번째 인자는 검색 대상이 되는 문자열입니다.\n",
    "\n",
    "import re\n",
    "pattern1 = 'a'\n",
    "text1 = 'apple'\n",
    "print(re.findall(pattern1,text1))\n",
    "\n",
    "pattern2 = '.'\n",
    "text2 = 'apple'\n",
    "print(re.findall(pattern2,text2))\n",
    "\n",
    "pattern3 = '[aeiou]'\n",
    "text3 = 'apple'\n",
    "print(re.findall(pattern3,text3))\n",
    "\n",
    "pattern4 = 'ba*na'\n",
    "text4 = 'banaana'\n",
    "print(re.findall(pattern4,text4))\n",
    "\n",
    "pattern5 = '(ba)*na' #그룹으로 묶은것만 출력되고 남은 나머지(ana)는 공백처리\n",
    "text5 = 'banaana'\n",
    "print(re.findall(pattern5,text5))"
   ]
  },
  {
   "cell_type": "code",
   "execution_count": 11,
   "id": "4c59726e",
   "metadata": {},
   "outputs": [
    {
     "name": "stdout",
     "output_type": "stream",
     "text": [
      "['ap']\n"
     ]
    }
   ],
   "source": [
    "import re\n",
    "pattern7 = '(ap)*ple'\n",
    "text7 = 'apple'\n",
    "print(re.findall(pattern7,text7)) #그럼 얘는 왜안됨? = ap가 ple를 가진 값이어야 하니까 "
   ]
  },
  {
   "cell_type": "code",
   "execution_count": 13,
   "id": "6795f974",
   "metadata": {},
   "outputs": [
    {
     "name": "stdout",
     "output_type": "stream",
     "text": [
      "['ap', '']\n"
     ]
    }
   ],
   "source": [
    "pattern7 = '(ap)*ple'\n",
    "text7 = 'appleple'\n",
    "print(re.findall(pattern7,text7)) # (ap)*ple 하고 남은 ple에 대해 ''처리 "
   ]
  },
  {
   "cell_type": "code",
   "execution_count": 3,
   "id": "4c06219a",
   "metadata": {},
   "outputs": [
    {
     "name": "stdout",
     "output_type": "stream",
     "text": [
      "<re.Match object; span=(0, 1), match='a'>\n",
      "<re.Match object; span=(0, 1), match='a'>\n",
      "<re.Match object; span=(0, 1), match='a'>\n",
      "<re.Match object; span=(0, 4), match='bana'>\n",
      "<re.Match object; span=(0, 4), match='bana'>\n"
     ]
    }
   ],
   "source": [
    "import re\n",
    "pattern1 = 'a'\n",
    "text1 = 'apple'\n",
    "print(re.search(pattern1,text1))\n",
    "\n",
    "pattern2 = '.'\n",
    "text2 = 'apple'\n",
    "print(re.search(pattern2,text2))\n",
    "\n",
    "pattern3 = '[aeiou]'\n",
    "text3 = 'apple'\n",
    "print(re.search(pattern3,text3))\n",
    "\n",
    "pattern4 = 'ba*na'\n",
    "text4 = 'banaana'\n",
    "print(re.search(pattern4,text4))\n",
    "\n",
    "pattern5 = '(ba)*na'\n",
    "text5 = 'banaana'\n",
    "print(re.search(pattern5,text5))"
   ]
  },
  {
   "cell_type": "markdown",
   "id": "37627278",
   "metadata": {},
   "source": [
    "# 정규표현식의 문법\n",
    "\n",
    "\n",
    "정규표현식의 문법에는 다양한 메타문자(meta-character)가 사용됩니다. 메타문자란 일반적으로 사용되는 문자가 아니라, 특별한 의미를 가지는 문자를 말합니다. 메타문자는 다양한 용도로 사용되며, 각각의 기능은 다음과 같습니다."
   ]
  },
  {
   "cell_type": "markdown",
   "id": "1bbf86f7",
   "metadata": {},
   "source": [
    "## 메타문자의 종류와 사용 방법\n",
    "\n",
    "\n",
    "\n",
    "[문자 클래스]\n",
    " - \\d 숫자와 매치, [0-9]와 동일한 표현식\n",
    " - \\D 숫자가 아닌 것과 매치(문자,특수문자), [^0-9]와 동일한 표현식\n",
    " - \\s whitespace 문자와 매치, [ \\t\\n\\r\\f\\v]와 동일한 표현식\n",
    " - \\S whitespace 문자가 아닌 것과 매치(숫자,특수문자), [^ \\t\\n\\r\\f\\v]와 동일한 표현식\n",
    " - \\w 문자 + 숫자와 매치, [a-zA-Z0-9]와 동일한 표현식\n",
    " - \\W 문자 + 숫자가 아닌 문자와 매치(=특수문자), [^a-zA-Z0-9]와 동일한 표현식\n",
    "\n",
    "[whitespace]\n",
    " -  스페이스 바 (아스키코드 32)\n",
    " -  ＼b  뒤로 한 칸 이동 (Backspace) (아스키코드 8)\n",
    " -  ＼t  수평탭 간격 띄우기 (아스키코드 9)\n",
    " -  ＼n  줄바꿈 (Linefeed) (아스키코드 10)\n",
    " -  ＼v  수직탭 간격 띄우기 (아스키코드 11)\n",
    " -  ＼f  프린트 출력 용지를 한 페이지 넘김 (Form feed) (아스키코드 12)\n",
    " -  ＼r  동일한 줄의 맨 앞으로 커서 이동 (Carriage Return) (아스키코드 13)\n",
    " - Dot(.) 메타 문자는 줄바꿈 문자인 [[\\n를 제외한]] 모든 문자와 매치됨을 의미\n",
    " \n",
    "참고: whitespace 문자는 공백과 같은 문자. 주로 특정 문자열에서 단어를 구분하기 위하여 사용. \n",
    "\n",
    "\n",
    "[문자열의 반복과 선택을 나타내는 메타문자]\n",
    "- ^ : 문자열의 시작을 나타냄. 예를 들어, '^a'는 문자열의 시작이 'a'인 경우와 매치됨.\n",
    "- \\\\$ : 문자열의 끝을 나타냄. 예를 들어, 'a$'는 문자열의 끝이 'a'인 경우와 매치됨.\n",
    "\n",
    "\n",
    "\n",
    "[문자열의 반복과 선택을 나타내는 메타문자]\n",
    "- 반복(\\*) ca*t 0부터 무한대로 반복\n",
    "- 반복(\\+) ca+t 최소 1번 이상 반복\n",
    "- ca{m,n} a 반복 횟수가 m부터 n까지인 것을 매치\n",
    "- ca{2}t는 c+a(2번 반복)+t의 의미\n",
    "- 반복횟수가 {1,}은 1 이상, {0,}은 0 이상인 경우로 각각 +, *와 동일하며 {,1}은 반복횟수가 1 이하를 의미.\n",
    "- ab?c : b가 0~1번 사용되면 매치되는 것으로 ?은 앞의 b가 있어도 되고 없어도 된다"
   ]
  },
  {
   "cell_type": "markdown",
   "id": "c385935f",
   "metadata": {},
   "source": [
    "## re 모듈\n",
    "\n",
    "정규표현식을 파이썬에서 사용하기 위해서는 re 모듈을 import하여 사용합니다. 이를 이용하여 정규식을 컴파일하고 정규식을 이용한 문자열 검색 등 다양한 작업을 수행할 수 있습니다.\n",
    "\n",
    "re 모듈을 이용하여 문자열 검색을 수행하는 함수는 다음과 같습니다.\n",
    "\n",
    "- compile(): 정규식을 컴파일합니다.\n",
    "- match(): 문자열의 처음부터 정규식과 매치되는지 조사합니다.- 맨 처음 것을 기준(0425)\n",
    "- search(): 문자열의 전체를 검색하여 정규식과 매치되는지 조사합니다.- 전체 중 첫번째거 하나만 나옴(0425)\n",
    "- findall(): 정규식과 매치되는 모든 문자열을 리스트로 리턴합니다.\n",
    "- finditer(): 정규식과 매치되는 모든 문자열을 [반복 가능한 객체로 리턴]합니다."
   ]
  },
  {
   "cell_type": "code",
   "execution_count": 29,
   "id": "1630bc9c",
   "metadata": {},
   "outputs": [
    {
     "name": "stdout",
     "output_type": "stream",
     "text": [
      "match found!\n"
     ]
    }
   ],
   "source": [
    "pattern = re.compile('ab+c')\n",
    "match = pattern.search('abbbc') # + 가 한번 이상이므로 매치 가능\n",
    "if match:\n",
    "    print('match found!') #매치되는게 있으면 이 문자를 출력하라.\n",
    "else:\n",
    "    print(\"not matched\")"
   ]
  },
  {
   "cell_type": "code",
   "execution_count": 12,
   "id": "1acaa88b",
   "metadata": {},
   "outputs": [
    {
     "data": {
      "text/plain": [
       "<re.Match object; span=(0, 5), match='abbbc'>"
      ]
     },
     "execution_count": 12,
     "metadata": {},
     "output_type": "execute_result"
    }
   ],
   "source": [
    "re.search(pattern,'abbbc')"
   ]
  },
  {
   "cell_type": "code",
   "execution_count": 13,
   "id": "181b0408",
   "metadata": {},
   "outputs": [
    {
     "data": {
      "text/plain": [
       "<re.Match object; span=(3, 8), match='abbbc'>"
      ]
     },
     "execution_count": 13,
     "metadata": {},
     "output_type": "execute_result"
    }
   ],
   "source": [
    "re.search(pattern,'eeeabbbc') #abbbc가 함께 있어서 출력 됨"
   ]
  },
  {
   "cell_type": "code",
   "execution_count": 14,
   "id": "a750d6c2",
   "metadata": {},
   "outputs": [
    {
     "data": {
      "text/plain": [
       "<re.Match object; span=(0, 5), match='abbbc'>"
      ]
     },
     "execution_count": 14,
     "metadata": {},
     "output_type": "execute_result"
    }
   ],
   "source": [
    "re.match(pattern,'abbbceee') #매치는 처음부터 보기때문에 가능"
   ]
  },
  {
   "cell_type": "code",
   "execution_count": 16,
   "id": "83e8e9cc",
   "metadata": {},
   "outputs": [
    {
     "data": {
      "text/plain": [
       "['abbbc', 'abc']"
      ]
     },
     "execution_count": 16,
     "metadata": {},
     "output_type": "execute_result"
    }
   ],
   "source": [
    "re.findall(pattern,'abbbceeeabce') #조건을 모두 만족하므로 두 개의 값이 모두 나옴. "
   ]
  },
  {
   "cell_type": "code",
   "execution_count": 17,
   "id": "42a1bc80",
   "metadata": {},
   "outputs": [
    {
     "data": {
      "text/plain": [
       "<callable_iterator at 0x2a73f3590a0>"
      ]
     },
     "execution_count": 17,
     "metadata": {},
     "output_type": "execute_result"
    }
   ],
   "source": [
    "re.finditer(pattern,'abbbceeeabce') #객체로 출력됨. "
   ]
  },
  {
   "cell_type": "code",
   "execution_count": 19,
   "id": "a734f512",
   "metadata": {},
   "outputs": [
    {
     "name": "stdout",
     "output_type": "stream",
     "text": [
      "<re.Match object; span=(0, 5), match='abbbc'>\n",
      "<re.Match object; span=(8, 11), match='abc'>\n"
     ]
    }
   ],
   "source": [
    "m = re.finditer(pattern,'abbbceeeabce')\n",
    "for i in m:\n",
    "    print(i)"
   ]
  },
  {
   "cell_type": "code",
   "execution_count": 8,
   "id": "a0d93ac2",
   "metadata": {},
   "outputs": [],
   "source": [
    "#만약 c로 하면\n",
    "pttern = re.compile('abc+c')\n",
    "match = pattern.search('abbbc') # abc가 나오고 반복이 나와야 하는데 아니어서 매치 x\n",
    "if match:\n",
    "    print('match found!') "
   ]
  },
  {
   "cell_type": "code",
   "execution_count": 10,
   "id": "561e9499",
   "metadata": {},
   "outputs": [],
   "source": [
    "re.search(pattern,'abbbc')"
   ]
  },
  {
   "cell_type": "code",
   "execution_count": null,
   "id": "67d92787",
   "metadata": {},
   "outputs": [],
   "source": [
    "#만약 abc로 하면\n",
    "pttern = re.compile('abc+c')\n",
    "match = pattern.search('abc') # 위에 +가 있으므로 하나이상 반복해야 하는데 없으므로 매치x \n",
    "if match:\n",
    "    print('match found!') "
   ]
  },
  {
   "cell_type": "markdown",
   "id": "58907d5d",
   "metadata": {},
   "source": [
    "### 과제 1_0424\n",
    "정규표현식을 사용하여 text에서 이메일을 추출하세요.\n",
    "\n",
    "text = \"이메일 주소는 abc123@gmail.com입니다\""
   ]
  },
  {
   "cell_type": "code",
   "execution_count": null,
   "id": "fe690f4d",
   "metadata": {},
   "outputs": [],
   "source": []
  },
  {
   "cell_type": "markdown",
   "id": "608f46df",
   "metadata": {},
   "source": [
    "## 과제 2_0424\n",
    "\n",
    "정규표현식을 사용하여 text에서 전화번호를 추출하세요.\n",
    "\n",
    "text = \"전화번호는 010-1234-5678 입니다\"\n"
   ]
  },
  {
   "cell_type": "code",
   "execution_count": null,
   "id": "e5a5e130",
   "metadata": {},
   "outputs": [],
   "source": []
  },
  {
   "cell_type": "markdown",
   "id": "f9d0cf68",
   "metadata": {},
   "source": [
    "## 과제 3_0424\n",
    "\n",
    "정규표현식을 사용하여 text에서 url을 추출하세요.\n",
    "\n",
    "text = \"저의 블로그 주소는  http://www.example.com 입니다\""
   ]
  },
  {
   "cell_type": "code",
   "execution_count": null,
   "id": "13d78a85",
   "metadata": {},
   "outputs": [],
   "source": []
  },
  {
   "cell_type": "code",
   "execution_count": null,
   "id": "3b8b81c5",
   "metadata": {},
   "outputs": [],
   "source": [
    "### 과제 4_0424\n",
    "\n",
    "정규표현식을 이용하여 html 태그를 제거한 후 \"안녕하세요, 파이썬입니다.\"를 출력하세요.\n",
    "\n",
    "html_string = \"<p>안녕하세요<b>파이썬</b>입니다</p>\""
   ]
  },
  {
   "cell_type": "code",
   "execution_count": null,
   "id": "9137e81b",
   "metadata": {},
   "outputs": [],
   "source": []
  },
  {
   "cell_type": "markdown",
   "id": "893d4ae8",
   "metadata": {},
   "source": [
    "과제5_0424.\n",
    "text = ' Python3 is very good programming language!' 에서 다음을 수행하세요.\n",
    "\n",
    "- ['Python', 'is', 'very', 'good', 'programming', 'language'] 을 출력\n",
    "- Python3 출력\n",
    "- Python 출력\n",
    "- 숫자만 출력\n",
    "- Python3를 python으로 대체"
   ]
  },
  {
   "cell_type": "code",
   "execution_count": null,
   "id": "0430f5a9",
   "metadata": {},
   "outputs": [],
   "source": []
  },
  {
   "cell_type": "code",
   "execution_count": null,
   "id": "5392fcb1",
   "metadata": {},
   "outputs": [],
   "source": []
  },
  {
   "cell_type": "markdown",
   "id": "de13c210",
   "metadata": {},
   "source": [
    "## 0425"
   ]
  },
  {
   "cell_type": "code",
   "execution_count": 44,
   "id": "520e58cd",
   "metadata": {},
   "outputs": [],
   "source": [
    "# 연습\n",
    "\n",
    "text1 = 'python python'  #공백 1개\n",
    "text2 = 'python python ' #공백 2개\n",
    "text3 = '3python '"
   ]
  },
  {
   "cell_type": "code",
   "execution_count": 28,
   "id": "c85244cf",
   "metadata": {},
   "outputs": [
    {
     "data": {
      "text/plain": [
       "<re.Match object; span=(0, 7), match='python '>"
      ]
     },
     "execution_count": 28,
     "metadata": {},
     "output_type": "execute_result"
    }
   ],
   "source": [
    "import re\n",
    "p = re.compile('[a-z]+\\s')\n",
    "p.match(text1) #0~6까지 있는데 빈칸있어서 7로 나옴."
   ]
  },
  {
   "cell_type": "code",
   "execution_count": 29,
   "id": "b27d2345",
   "metadata": {},
   "outputs": [
    {
     "data": {
      "text/plain": [
       "'python '"
      ]
     },
     "execution_count": 29,
     "metadata": {},
     "output_type": "execute_result"
    }
   ],
   "source": [
    "#위 값에서 매치된것만 뽑고 싶을 때 그룹으로 묶어준다\n",
    "p = re.compile('[a-z]+\\s') #하나 이상의 소문자([a-z]+) 다음에 공백 문자(\\s)이 따르는 문자열에 일치\n",
    "p.match(text1) .group()"
   ]
  },
  {
   "cell_type": "code",
   "execution_count": 30,
   "id": "3a88d2f8",
   "metadata": {},
   "outputs": [
    {
     "data": {
      "text/plain": [
       "'python '"
      ]
     },
     "execution_count": 30,
     "metadata": {},
     "output_type": "execute_result"
    }
   ],
   "source": [
    "re.match('[a-z]+\\s',text1).group()"
   ]
  },
  {
   "cell_type": "code",
   "execution_count": 31,
   "id": "72d0cb09",
   "metadata": {},
   "outputs": [
    {
     "data": {
      "text/plain": [
       "['python ']"
      ]
     },
     "execution_count": 31,
     "metadata": {},
     "output_type": "execute_result"
    }
   ],
   "source": [
    "re.findall('[a-z]+\\s',text1)"
   ]
  },
  {
   "cell_type": "code",
   "execution_count": null,
   "id": "771e236b",
   "metadata": {},
   "outputs": [],
   "source": []
  },
  {
   "cell_type": "code",
   "execution_count": 34,
   "id": "01b68da5",
   "metadata": {},
   "outputs": [
    {
     "data": {
      "text/plain": [
       "['python ', 'python ']"
      ]
     },
     "execution_count": 34,
     "metadata": {},
     "output_type": "execute_result"
    }
   ],
   "source": [
    " re.findall('[a-z]+\\s',text2) "
   ]
  },
  {
   "cell_type": "code",
   "execution_count": 35,
   "id": "4bbf77ee",
   "metadata": {},
   "outputs": [
    {
     "data": {
      "text/plain": [
       "['python ', 'python ']"
      ]
     },
     "execution_count": 35,
     "metadata": {},
     "output_type": "execute_result"
    }
   ],
   "source": [
    "p.findall(text2)"
   ]
  },
  {
   "cell_type": "code",
   "execution_count": 45,
   "id": "c241a5c8",
   "metadata": {},
   "outputs": [
    {
     "data": {
      "text/plain": [
       "'python'"
      ]
     },
     "execution_count": 45,
     "metadata": {},
     "output_type": "execute_result"
    }
   ],
   "source": [
    "# p.match(text3) #시작부분이 3이라 매치되는거 없음\n",
    "p.search(text3).group()"
   ]
  },
  {
   "cell_type": "code",
   "execution_count": 46,
   "id": "d03c7e47",
   "metadata": {},
   "outputs": [
    {
     "data": {
      "text/plain": [
       "['python']"
      ]
     },
     "execution_count": 46,
     "metadata": {},
     "output_type": "execute_result"
    }
   ],
   "source": [
    "p.findall(text3)"
   ]
  },
  {
   "cell_type": "code",
   "execution_count": 43,
   "id": "9749c207",
   "metadata": {},
   "outputs": [
    {
     "name": "stdout",
     "output_type": "stream",
     "text": [
      "None\n",
      "<re.Match object; span=(0, 6), match='banker'>\n"
     ]
    }
   ],
   "source": [
    "# 문자 클래스 :[]\n",
    "p = re.compile('[a-z]+')\n",
    "p1 = p.match('Banker') #B가 대문자라 안됨\n",
    "p2 = p.search('banker')\n",
    "print(p1)\n",
    "print(p2)"
   ]
  },
  {
   "cell_type": "code",
   "execution_count": 65,
   "id": "6dfa6ba5",
   "metadata": {},
   "outputs": [
    {
     "data": {
      "text/plain": [
       "'a'"
      ]
     },
     "execution_count": 65,
     "metadata": {},
     "output_type": "execute_result"
    }
   ],
   "source": [
    "# Q. '12345abc'에서 'a'만 출력하세요.\n",
    "text = '12345abc'\n",
    "# re.findall('[a]',text) \n",
    "re.search('[a]',text) .group()"
   ]
  },
  {
   "cell_type": "code",
   "execution_count": 66,
   "id": "00622611",
   "metadata": {},
   "outputs": [
    {
     "data": {
      "text/plain": [
       "'A'"
      ]
     },
     "execution_count": 66,
     "metadata": {},
     "output_type": "execute_result"
    }
   ],
   "source": [
    "# Q. 'abc12345Abc'에서 'A'만 출력하세요\n",
    "text = 'abc12345Abc'\n",
    "# re.findall('[A]',text) \n",
    "re.search('[A]',text) .group()"
   ]
  },
  {
   "cell_type": "code",
   "execution_count": 56,
   "id": "74377b98",
   "metadata": {},
   "outputs": [
    {
     "data": {
      "text/plain": [
       "['대']"
      ]
     },
     "execution_count": 56,
     "metadata": {},
     "output_type": "execute_result"
    }
   ],
   "source": [
    "# Q. 'KOREA 대한민국'에서 '대'만 출력하세요\n",
    "text ='KOREA 아대한민국'\n",
    "re.findall('[대]',text) "
   ]
  },
  {
   "cell_type": "code",
   "execution_count": 67,
   "id": "1d935be3",
   "metadata": {},
   "outputs": [
    {
     "data": {
      "text/plain": [
       "'대'"
      ]
     },
     "execution_count": 67,
     "metadata": {},
     "output_type": "execute_result"
    }
   ],
   "source": [
    "# 정슬기\n",
    "import re\n",
    "text = 'KOREA 대한민국'\n",
    "p=re.compile('[가-힣]')\n",
    "re.findall(p,text)[0]"
   ]
  },
  {
   "cell_type": "code",
   "execution_count": 71,
   "id": "ae86a352",
   "metadata": {},
   "outputs": [
    {
     "data": {
      "text/plain": [
       "['122333c']"
      ]
     },
     "execution_count": 71,
     "metadata": {},
     "output_type": "execute_result"
    }
   ],
   "source": [
    "# Q. '122333c' 를 모두 출력하세요\n",
    "text = '122333c' \n",
    "# re.findall('\\w',text) \n",
    "re.findall('\\w+',text)  \n"
   ]
  },
  {
   "cell_type": "code",
   "execution_count": 77,
   "id": "dd251fe8",
   "metadata": {},
   "outputs": [
    {
     "data": {
      "text/plain": [
       "'122333c'"
      ]
     },
     "execution_count": 77,
     "metadata": {},
     "output_type": "execute_result"
    }
   ],
   "source": [
    "# Q. '122333c' 를  출력하세요\n",
    "text = '122333c456' \n",
    "# re.findall('12{2}3{3}c',text) #2가 2개, 3이 3개\n",
    "re.search('12{2}3{3}c',text).group()"
   ]
  },
  {
   "cell_type": "code",
   "execution_count": 76,
   "id": "e5684566",
   "metadata": {},
   "outputs": [
    {
     "data": {
      "text/plain": [
       "'aaaaBBBcccDDDeee'"
      ]
     },
     "execution_count": 76,
     "metadata": {},
     "output_type": "execute_result"
    }
   ],
   "source": [
    "# Q. 'aaaaBBBcccDDDeee'를 모두 출력하세요\n",
    "text ='aaaaBBBcccDDDeee'\n",
    "# re.findall('a{4}B{3}c{3}D{3}e{3}',text)\n",
    "re.search('a{4}B{3}c{3}D{3}e{3}',text).group()"
   ]
  },
  {
   "cell_type": "markdown",
   "id": "5df39184",
   "metadata": {},
   "source": [
    "## 과제 1_0425\n",
    "BC,CC,ABC 모두 C가 출력되는 정규 표현식을 ()에 작성하세요 "
   ]
  },
  {
   "cell_type": "raw",
   "id": "41154da3",
   "metadata": {},
   "source": [
    "pattern = re.compile(   )\n",
    "text1 = 'BC'\n",
    "text2 = 'CC'\n",
    "text3 = 'ABC'\n",
    "p1 = pattern.search(text1)\n",
    "p2 = pattern.search(text2)\n",
    "p3 = pattern.search(text3)\n",
    "print(p1)\n",
    "print(p2)\n",
    "print(p3)"
   ]
  },
  {
   "cell_type": "code",
   "execution_count": null,
   "id": "75393399",
   "metadata": {},
   "outputs": [],
   "source": []
  },
  {
   "cell_type": "markdown",
   "id": "154b9eac",
   "metadata": {},
   "source": [
    "### 과제 2_0425\n",
    "'1234a123' 에서 '1','2','3','4'를 모두 출력하세요"
   ]
  },
  {
   "cell_type": "code",
   "execution_count": null,
   "id": "8ae89974",
   "metadata": {},
   "outputs": [],
   "source": []
  },
  {
   "cell_type": "markdown",
   "id": "d5942128",
   "metadata": {},
   "source": [
    "### 과제 3_0425\n",
    "'99food234, a93456\\n,a9356ba' 에서 '99food234'만 출력하세요."
   ]
  },
  {
   "cell_type": "code",
   "execution_count": null,
   "id": "09761627",
   "metadata": {},
   "outputs": [],
   "source": []
  },
  {
   "cell_type": "code",
   "execution_count": 78,
   "id": "6cfe4604",
   "metadata": {},
   "outputs": [
    {
     "name": "stdout",
     "output_type": "stream",
     "text": [
      "<re.Match object; span=(0, 4), match='life'>\n"
     ]
    }
   ],
   "source": [
    "text = 'life is too short'\n",
    "p = re.compile('[a-z]+')\n",
    "result = p.search(text) #전체에서 맨 앞에거가 나온다. \n",
    "print(result)"
   ]
  },
  {
   "cell_type": "code",
   "execution_count": 79,
   "id": "89f0d58f",
   "metadata": {},
   "outputs": [
    {
     "name": "stdout",
     "output_type": "stream",
     "text": [
      "life\n",
      "is\n",
      "too\n",
      "short\n"
     ]
    }
   ],
   "source": [
    "#반복가능한 객체로 나오게 하기 = finditer()\n",
    "result = p.finditer(text)\n",
    "for r in result:\n",
    "    print(r.group())"
   ]
  },
  {
   "cell_type": "code",
   "execution_count": 80,
   "id": "eb9ad014",
   "metadata": {},
   "outputs": [
    {
     "data": {
      "text/plain": [
       "['Python', 'is', 'very', 'good', 'programming', 'language']"
      ]
     },
     "execution_count": 80,
     "metadata": {},
     "output_type": "execute_result"
    }
   ],
   "source": [
    "#모든 문자 출력 - findall\n",
    "text = ' Python3 is very good programming language!'\n",
    "re.findall('[a-zA-Z]+',text) # 3는 빠지고 문자만 출력됨"
   ]
  },
  {
   "cell_type": "code",
   "execution_count": 84,
   "id": "72576940",
   "metadata": {},
   "outputs": [
    {
     "name": "stdout",
     "output_type": "stream",
     "text": [
      "Python\n",
      "is\n",
      "very\n",
      "good\n",
      "programming\n",
      "language\n",
      "<callable_iterator object at 0x000002511690A710>\n"
     ]
    }
   ],
   "source": [
    "#모든 문자 출력 - finditer\n",
    "result = re.finditer('[a-zA-Z]+',text)\n",
    "for r in result:\n",
    "    print(r.group())\n",
    "print(result) #객체 출력 "
   ]
  },
  {
   "cell_type": "code",
   "execution_count": 86,
   "id": "d2146b04",
   "metadata": {},
   "outputs": [
    {
     "name": "stdout",
     "output_type": "stream",
     "text": [
      "life\n",
      "None\n",
      "None\n"
     ]
    }
   ],
   "source": [
    "# match\n",
    "text1 = 'life'\n",
    "text2 = '!!!oh my life'\n",
    "text3 = '7 is lucky number'\n",
    "print(re.match('[a-z]+',text1).group()) #처음매치되는 문자만\n",
    "print(re.match('[a-z]+',text2)) #none파일이라 그룹불가\n",
    "print(re.match('[a-z]+',text3)) #none파일이라 그룹불가"
   ]
  },
  {
   "cell_type": "code",
   "execution_count": 90,
   "id": "463a090a",
   "metadata": {},
   "outputs": [
    {
     "name": "stdout",
     "output_type": "stream",
     "text": [
      "python\n",
      "0\n",
      "6\n",
      "(0, 6)\n"
     ]
    }
   ],
   "source": [
    "# match 객체의 메서드\n",
    "m=re.match('[a-z]+','python') #첫번째 인자 패턴, 두번째인자 텍스트\n",
    "#<re.Match object; span=(0, 6), match='python'> = 0번~6번 전까지 =012345\n",
    "print(m.group())\n",
    "print(m.start())\n",
    "print(m.end())\n",
    "print(m.span())"
   ]
  },
  {
   "cell_type": "code",
   "execution_count": 92,
   "id": "ecfa7dd9",
   "metadata": {},
   "outputs": [
    {
     "name": "stdout",
     "output_type": "stream",
     "text": [
      "<re.Match object; span=(2, 8), match='python'>\n",
      "python\n",
      "2\n",
      "8\n",
      "(2, 8)\n"
     ]
    }
   ],
   "source": [
    "# search객체의 메서드\n",
    "m=re.search('[a-z]+','3 python') #서치는 전체 덱스트에서 출력\n",
    "print(m)\n",
    "print(m.group())\n",
    "print(m.start())\n",
    "print(m.end())\n",
    "print(m.span())"
   ]
  },
  {
   "cell_type": "code",
   "execution_count": 101,
   "id": "ad8464dd",
   "metadata": {},
   "outputs": [
    {
     "name": "stdout",
     "output_type": "stream",
     "text": [
      "None\n",
      "<re.Match object; span=(0, 3), match='acb'>\n",
      "<re.Match object; span=(0, 6), match='a12?Ab'>\n"
     ]
    }
   ],
   "source": [
    "# Dot(.) 메타 문자는 줄바꿈 문자 (\\n)을 제외한 모든 문자와 매치\n",
    "text =['a\\nb','acb','a12?Ab']\n",
    "for t in text:\n",
    "    r=re.match('a.+b',t) #.은 역슬래시 빼고 모든걸 다 커버함 \n",
    "    print(r)"
   ]
  },
  {
   "cell_type": "code",
   "execution_count": 103,
   "id": "f0855d86",
   "metadata": {},
   "outputs": [
    {
     "name": "stdout",
     "output_type": "stream",
     "text": [
      "<re.Match object; span=(0, 3), match='a\\nb'>\n"
     ]
    }
   ],
   "source": [
    "#re.DOTALL() : 여러줄로 이루어진 문자열에서 \\n에 상관없이 검색시 사용\n",
    "p = re.compile('a.b',re.DOTALL)\n",
    "m = p.match('a\\nb')\n",
    "print(m)"
   ]
  },
  {
   "cell_type": "code",
   "execution_count": 104,
   "id": "a9215244",
   "metadata": {},
   "outputs": [
    {
     "name": "stdout",
     "output_type": "stream",
     "text": [
      "what are you doing? \n"
     ]
    }
   ],
   "source": [
    "text = 'what are you doing? \\n it is going to be late for school'\n",
    "p = re.compile('.*')\n",
    "m = p.search(text)\n",
    "print(m.group())"
   ]
  },
  {
   "cell_type": "code",
   "execution_count": 105,
   "id": "d52b9428",
   "metadata": {},
   "outputs": [
    {
     "name": "stdout",
     "output_type": "stream",
     "text": [
      "what are you doing? \n",
      " it is going to be late for school\n"
     ]
    }
   ],
   "source": [
    "text = 'what are you doing? \\n it is going to be late for school'\n",
    "p = re.compile('.*',re.DOTALL)\n",
    "m = p.search(text)\n",
    "print(m.group())"
   ]
  },
  {
   "cell_type": "markdown",
   "id": "b8f40362",
   "metadata": {},
   "source": [
    "## 과제 4_0425\n",
    "text에서 전체 문장 모두 출력하세요."
   ]
  },
  {
   "cell_type": "code",
   "execution_count": null,
   "id": "18842e59",
   "metadata": {},
   "outputs": [],
   "source": [
    "text = 'what are you doing? \\n it is going to be late for school'\n",
    "       '\\nwe need to hungry up'"
   ]
  },
  {
   "cell_type": "code",
   "execution_count": null,
   "id": "83ce6c1a",
   "metadata": {},
   "outputs": [],
   "source": []
  },
  {
   "cell_type": "code",
   "execution_count": 107,
   "id": "eca2dcaa",
   "metadata": {},
   "outputs": [
    {
     "data": {
      "text/plain": [
       "'pAthon'"
      ]
     },
     "execution_count": 107,
     "metadata": {},
     "output_type": "execute_result"
    }
   ],
   "source": [
    "#re.IGNORECASE 또는 re.I 옵션은 대소문자 구분없이 매치를 수행시 사용\n",
    "re.match('[a-z]+','pAthon',re.I).group()"
   ]
  },
  {
   "cell_type": "code",
   "execution_count": null,
   "id": "7e61fa5e",
   "metadata": {},
   "outputs": [],
   "source": []
  },
  {
   "cell_type": "markdown",
   "id": "ff3659a7",
   "metadata": {},
   "source": [
    "### 과제 5_0425.\n",
    "아래 text에 내용을 모두 출력하세요.<br>\n",
    "text = ['pAthon','PATHON','pathon','Pathon']"
   ]
  },
  {
   "cell_type": "code",
   "execution_count": null,
   "id": "60a9bc85",
   "metadata": {},
   "outputs": [],
   "source": []
  },
  {
   "cell_type": "code",
   "execution_count": 123,
   "id": "96952dae",
   "metadata": {},
   "outputs": [
    {
     "name": "stdout",
     "output_type": "stream",
     "text": [
      "Friend\n",
      "fRiend\n",
      "friEnd\n",
      "FRIEND\n"
     ]
    }
   ],
   "source": [
    "# Q. text에서 대소문자 구분없이 전체문장 모두 출력하세요 \n",
    "text = 'Friend fRiend friEnd FRIEND'\n",
    "list = re.findall('friend',text,re.I)\n",
    "for i in list:\n",
    "    print(i)"
   ]
  },
  {
   "cell_type": "code",
   "execution_count": 118,
   "id": "7658c421",
   "metadata": {},
   "outputs": [],
   "source": [
    "data = \"\"\"python one\n",
    "life is too short\n",
    "python two\n",
    "you need python\n",
    "python three\"\"\""
   ]
  },
  {
   "cell_type": "code",
   "execution_count": 121,
   "id": "d91255e0",
   "metadata": {},
   "outputs": [
    {
     "data": {
      "text/plain": [
       "['python one']"
      ]
     },
     "execution_count": 121,
     "metadata": {},
     "output_type": "execute_result"
    }
   ],
   "source": [
    "#python 이라는 문자열로 시작하고 그 뒤에 whitespace, 그 뒤에 단어가 오는 경우\n",
    "re.findall('^python\\s\\w+',data)"
   ]
  },
  {
   "cell_type": "code",
   "execution_count": 122,
   "id": "b4c8daf9",
   "metadata": {},
   "outputs": [
    {
     "data": {
      "text/plain": [
       "['python one', 'python two', 'python three']"
      ]
     },
     "execution_count": 122,
     "metadata": {},
     "output_type": "execute_result"
    }
   ],
   "source": [
    "# re.MULTILINE 또는 re.M옵션으로 ^메타 문자를 각 라인의 처음으로 인식시킴\n",
    "re.findall('^python\\s\\w+',data,re.M)"
   ]
  },
  {
   "cell_type": "code",
   "execution_count": null,
   "id": "ee075fe0",
   "metadata": {},
   "outputs": [],
   "source": []
  },
  {
   "cell_type": "code",
   "execution_count": 124,
   "id": "347ead37",
   "metadata": {},
   "outputs": [],
   "source": [
    "# re.VERBOSE 또는 re.X : 이해하기 어려운 정규식을 주석 또는 라인 단위로 구분\n",
    "# charref = re.compile(r'&[#](0[0-7]+|[0-9]+|x[0-9a-fA-F]+);')\n",
    "charref = re.compile(r\"\"\"\n",
    "&[#]               # Start of a numeric entity reference\n",
    "(\n",
    "    0[0-7]+        # Octal form\n",
    "  | [0-9]+         # Decimal form \n",
    "  | x[0-9a-fA-F]+  # Hexadecimal form\n",
    ")\n",
    ";                  # Trailing semicolon \n",
    "\"\"\",re.VERBOSE)"
   ]
  },
  {
   "cell_type": "code",
   "execution_count": 127,
   "id": "04a327e3",
   "metadata": {},
   "outputs": [
    {
     "data": {
      "text/plain": [
       "[]"
      ]
     },
     "execution_count": 127,
     "metadata": {},
     "output_type": "execute_result"
    }
   ],
   "source": [
    "#파이썬의 문자열 리터럴 규칙에 의하여 \\\\이 \\으로 변경되어 \\section이 전달\n",
    "\n",
    "p = re.compile('\\\\section')\n",
    "p.match('\\section')\n",
    "p.findall('\\section\\section') # 이 상태로는 셋다 실행이 안됨."
   ]
  },
  {
   "cell_type": "code",
   "execution_count": 129,
   "id": "55830f2e",
   "metadata": {},
   "outputs": [
    {
     "data": {
      "text/plain": [
       "<re.Match object; span=(0, 8), match='\\\\section'>"
      ]
     },
     "execution_count": 129,
     "metadata": {},
     "output_type": "execute_result"
    }
   ],
   "source": [
    "#정규식 문자열 앞에 r문자를 삽입하면 로우스트링 규칙에 의해 백슬래시 2개 대신 1개 사용\n",
    "# 파이썬 문자열 리터럴 규칙에 의하여 \\\\이 \\으로 변경되어 \\section이 전달\n",
    "# 정규식 문자열 앞에 r문자를 삽입하면 Raw String 규칙에 의하여 백슬래시 2개 대신 1개 사용\n",
    "p = re.compile(r'\\\\section') \n",
    "p.match('\\section')\n",
    "# p.findall('\\section\\section')"
   ]
  },
  {
   "cell_type": "code",
   "execution_count": 131,
   "id": "b0652f10",
   "metadata": {},
   "outputs": [
    {
     "data": {
      "text/plain": [
       "'Crow'"
      ]
     },
     "execution_count": 131,
     "metadata": {},
     "output_type": "execute_result"
    }
   ],
   "source": [
    "#|(or와 동일한 의미)\n",
    "\n",
    "re.match('Crow|Servo','CrowHello').group()"
   ]
  },
  {
   "cell_type": "code",
   "execution_count": 132,
   "id": "1ba66b0b",
   "metadata": {},
   "outputs": [
    {
     "data": {
      "text/plain": [
       "'Life'"
      ]
     },
     "execution_count": 132,
     "metadata": {},
     "output_type": "execute_result"
    }
   ],
   "source": [
    "# ^(문자열의 맨 처음), $(문자열의 끝과 매치)\n",
    "re.search('^Life', 'Life is too short').group()"
   ]
  },
  {
   "cell_type": "code",
   "execution_count": 134,
   "id": "f60b20c3",
   "metadata": {},
   "outputs": [
    {
     "data": {
      "text/plain": [
       "'Life'"
      ]
     },
     "execution_count": 134,
     "metadata": {},
     "output_type": "execute_result"
    }
   ],
   "source": [
    "re.search('Life$', 'My Life').group()"
   ]
  },
  {
   "cell_type": "code",
   "execution_count": 136,
   "id": "a3032b97",
   "metadata": {},
   "outputs": [
    {
     "data": {
      "text/plain": [
       "['Life', 'Life']"
      ]
     },
     "execution_count": 136,
     "metadata": {},
     "output_type": "execute_result"
    }
   ],
   "source": [
    "re.findall('^Life|Life$', 'Life My Life')"
   ]
  },
  {
   "cell_type": "code",
   "execution_count": 141,
   "id": "699ed6e8",
   "metadata": {},
   "outputs": [
    {
     "data": {
      "text/plain": [
       "['Life']"
      ]
     },
     "execution_count": 141,
     "metadata": {},
     "output_type": "execute_result"
    }
   ],
   "source": [
    "# \\A : 문자열의 처음과 매치. 단, re.MULTILINE 옵션 사용시 ^와는 달리 전체 문자열의 처음하고만 매치\n",
    "\n",
    "data = \"\"\"Life is too short\n",
    "Life is good\n",
    "Life is valuable\"\"\"\n",
    "\n",
    "# re.findall('^Life',data)\n",
    "# re.findall('\\ALife',data)\n",
    "re.findall('\\ALife',data,re.M)"
   ]
  },
  {
   "cell_type": "code",
   "execution_count": 147,
   "id": "8f72ab25",
   "metadata": {},
   "outputs": [
    {
     "data": {
      "text/plain": [
       "['good']"
      ]
     },
     "execution_count": 147,
     "metadata": {},
     "output_type": "execute_result"
    }
   ],
   "source": [
    "# \\Z : 문자열의 끝과 매치. 단, re.MULTILINE  옵션 사용시 $와는 달리 전체 문자열의 끝하고만 매치\n",
    "data=data1 = \"\"\"Life is too short\n",
    "Life is good\n",
    "Life is very good\"\"\"\n",
    "\n",
    "# re.findall('good',data,re.M)\n",
    "re.findall('good\\Z',data,re.M)"
   ]
  },
  {
   "cell_type": "code",
   "execution_count": 153,
   "id": "7a5edddc",
   "metadata": {},
   "outputs": [
    {
     "name": "stdout",
     "output_type": "stream",
     "text": [
      "home\n"
     ]
    }
   ],
   "source": [
    "# Q. 'we are going home'에서 home 만 출력하세요.\n",
    "text = 'we are going home'\n",
    "h = re.search('home',text,re.M).group()\n",
    "print(h)"
   ]
  },
  {
   "cell_type": "code",
   "execution_count": 156,
   "id": "c1481350",
   "metadata": {},
   "outputs": [
    {
     "data": {
      "text/plain": [
       "['home']"
      ]
     },
     "execution_count": 156,
     "metadata": {},
     "output_type": "execute_result"
    }
   ],
   "source": [
    "#답 \n",
    "text = 'we are going home'\n",
    "re.findall('home\\Z',text) #맨 뒤에있으니까 \\Z"
   ]
  },
  {
   "cell_type": "code",
   "execution_count": 154,
   "id": "636ee6fa",
   "metadata": {},
   "outputs": [
    {
     "name": "stdout",
     "output_type": "stream",
     "text": [
      "home\n"
     ]
    }
   ],
   "source": [
    "#Q. 'home sweet'에서 home 만 출력하세요.\n",
    "text = 'home sweet'\n",
    "re.findall('\\Ahome',text) # 맨 앞에 있으니까 \\A"
   ]
  },
  {
   "cell_type": "code",
   "execution_count": 159,
   "id": "463608a7",
   "metadata": {},
   "outputs": [
    {
     "data": {
      "text/plain": [
       "['199305']"
      ]
     },
     "execution_count": 159,
     "metadata": {},
     "output_type": "execute_result"
    }
   ],
   "source": [
    "# Q. '199305, 1923A, a93247' 에서 '199305'만 출력하세요.\n",
    "text='199305, 1923A, a93247' \n",
    "re.findall('\\A199305',text,re.M)  # 맨 앞에 있으니까 \\A"
   ]
  },
  {
   "cell_type": "code",
   "execution_count": 168,
   "id": "a95778f5",
   "metadata": {},
   "outputs": [
    {
     "data": {
      "text/plain": [
       "['199305']"
      ]
     },
     "execution_count": 168,
     "metadata": {},
     "output_type": "execute_result"
    }
   ],
   "source": [
    "# Q. text에서 '199305'만 출력하세요.- 다른예시\n",
    "text='1923A,199305,  a93247' \n",
    "# re.findall('\\d+',text)[1]\n",
    "re.findall('\\d{6}',text)"
   ]
  },
  {
   "cell_type": "code",
   "execution_count": 169,
   "id": "3717301b",
   "metadata": {},
   "outputs": [
    {
     "name": "stdout",
     "output_type": "stream",
     "text": [
      "['199305']\n"
     ]
    }
   ],
   "source": [
    "#김나영\n",
    "text = '1923A,199305,a93247'\n",
    "print(re.findall('(\\d+),',text)) # 그룹으로 묶어서 하는 방법"
   ]
  },
  {
   "cell_type": "code",
   "execution_count": 172,
   "id": "7bb7c488",
   "metadata": {},
   "outputs": [
    {
     "data": {
      "text/plain": [
       "'class'"
      ]
     },
     "execution_count": 172,
     "metadata": {},
     "output_type": "execute_result"
    }
   ],
   "source": [
    "# \\b : whitespace에 의해 구분\n",
    "text1 = 'no class at all'\n",
    "re.search(r'\\bclass\\b',text1).group()"
   ]
  },
  {
   "cell_type": "code",
   "execution_count": 208,
   "id": "6ccd07d0",
   "metadata": {},
   "outputs": [
    {
     "data": {
      "text/plain": [
       "'class'"
      ]
     },
     "execution_count": 208,
     "metadata": {},
     "output_type": "execute_result"
    }
   ],
   "source": [
    "# \\B : whitespace로 구분된 단어가 아닌 경우에만 매치\n",
    "text2 = 'the declassified algorithim'\n",
    "re.search(r'\\Bclass\\B', text2).group()\n",
    "# re.search(r'\\Bclass\\B', text1).group()"
   ]
  },
  {
   "cell_type": "code",
   "execution_count": 207,
   "id": "6bb5b20e",
   "metadata": {},
   "outputs": [
    {
     "name": "stdout",
     "output_type": "stream",
     "text": [
      "['에러 1122', '에러 1033', '에러 xxx']\n",
      "['에러 1122', '에러 1033', '에러 xxx']\n"
     ]
    }
   ],
   "source": [
    "# Q. 정규표현식을 사용하여 text에서 에러가 들어간 부분만 포함하는 리스트를 출력하세요. \n",
    "text = \"에러 1122, 레퍼런스 오류, 에러 1033, 아규먼트 오류, 에러 xxx\"\n",
    "print(re.findall(r'에러\\s[^,]+', text))\n",
    "print(re.findall(r'에러\\s\\w+', text))"
   ]
  },
  {
   "cell_type": "code",
   "execution_count": null,
   "id": "39cde667",
   "metadata": {},
   "outputs": [],
   "source": []
  },
  {
   "cell_type": "markdown",
   "id": "7d2cc9fa",
   "metadata": {},
   "source": [
    "### 과제6_0425.\n",
    "( )에 정규표현식을 작성하여 아래와 같이 출력하세요.\n",
    "\n",
    "['1 apple', '5 oranges', '3 boys', '4 girls', '10 army', '11 mr']"
   ]
  },
  {
   "cell_type": "code",
   "execution_count": null,
   "id": "92d6f962",
   "metadata": {},
   "outputs": [],
   "source": [
    "import re\n",
    "li = '1 apple, 5 oranges, 3 boys, 4 girls; 10 army| 11 mr'\n",
    "regex = re.compile(      )\n",
    "list = regex.findall(li)\n",
    "print(list)"
   ]
  },
  {
   "cell_type": "code",
   "execution_count": null,
   "id": "625b2357",
   "metadata": {},
   "outputs": [],
   "source": []
  },
  {
   "cell_type": "markdown",
   "id": "91c9ef79",
   "metadata": {},
   "source": [
    "### 과제7_0425.\n",
    "text에서 다음을 수행하세요.\n",
    "\n",
    "- 'H,h'만 출력하세요.\n",
    "- 'H,h'가 아닌 것 모두를 출력하세요."
   ]
  },
  {
   "cell_type": "code",
   "execution_count": 205,
   "id": "67b060e8",
   "metadata": {},
   "outputs": [],
   "source": [
    "text = 'Hello my friend! Life is short you need Python!'"
   ]
  },
  {
   "cell_type": "code",
   "execution_count": null,
   "id": "3ec1d010",
   "metadata": {},
   "outputs": [],
   "source": []
  },
  {
   "cell_type": "code",
   "execution_count": 173,
   "id": "d7637d3a",
   "metadata": {},
   "outputs": [
    {
     "name": "stdout",
     "output_type": "stream",
     "text": [
      "<re.Match object; span=(0, 9), match='ABCABCABC'>\n",
      "ABCABCABC\n",
      "ABC\n"
     ]
    }
   ],
   "source": [
    "# 그룹핑\n",
    "# group(0) 매치된 전체 문자열, 1 첫번째 그룹, 2 두번째그룹, n n번째 그룹\n",
    "\n",
    "text = 'ABCABCABC OK?'\n",
    "m = re.search('(ABC)+', text)\n",
    "print(m)\n",
    "print(m.group(0))\n",
    "print(m.group(1))"
   ]
  },
  {
   "cell_type": "code",
   "execution_count": null,
   "id": "69777b8b",
   "metadata": {},
   "outputs": [],
   "source": [
    "# Q. text에서 그룹핑을 사용하여 아래와 같이 출력하세요.\n",
    "ABCDEF\n",
    "ABCDEF\n",
    "AB\n",
    "CD\n",
    "EF"
   ]
  },
  {
   "cell_type": "code",
   "execution_count": 175,
   "id": "92136f11",
   "metadata": {},
   "outputs": [
    {
     "name": "stdout",
     "output_type": "stream",
     "text": [
      "ABCDEF\n",
      "ABCDEF\n",
      "AB\n",
      "CD\n",
      "EF\n"
     ]
    }
   ],
   "source": [
    "text = 'DEFABCDEFDEF OK?'\n",
    "\n",
    "m = re.search('((AB)(CD)(EF))', text)\n",
    "print(m.group(0))\n",
    "print(m.group(1))\n",
    "print(m.group(2))\n",
    "print(m.group(3))\n",
    "print(m.group(4))"
   ]
  },
  {
   "cell_type": "markdown",
   "id": "77b6e942",
   "metadata": {},
   "source": [
    "## 과제 8_0425\n",
    "\n",
    "정규 표현식을 사용하여 text 에서 다음 사항을 수행하세요.\n",
    "- 지역코드만 출력하세요.\n",
    "- 지역코드 제외한 번호만 출력하세요\n",
    "\n",
    "text= \"문의사항 있으면 032-232-3245로 연락주시기 바랍니다.\"\n"
   ]
  },
  {
   "cell_type": "code",
   "execution_count": null,
   "id": "e6ea2744",
   "metadata": {},
   "outputs": [],
   "source": []
  },
  {
   "cell_type": "code",
   "execution_count": 176,
   "id": "b67c3304",
   "metadata": {},
   "outputs": [
    {
     "name": "stdout",
     "output_type": "stream",
     "text": [
      "<re.Match object; span=(0, 18), match='park 010-1234-1234'>\n",
      "park\n",
      "010-1234-1234\n",
      "010\n",
      "park 010-1234-1234\n"
     ]
    }
   ],
   "source": [
    "text = 'park 010-1234-1234'\n",
    "m = re.search(r'(\\w+)\\s+((\\d+)[-]\\d+[-]\\d+)', text)\n",
    "print(m)\n",
    "print(m.group(1))\n",
    "print(m.group(2))\n",
    "print(m.group(3))\n",
    "print(m.group())"
   ]
  },
  {
   "cell_type": "code",
   "execution_count": 204,
   "id": "f1161f24",
   "metadata": {},
   "outputs": [
    {
     "data": {
      "text/plain": [
       "'very very'"
      ]
     },
     "execution_count": 204,
     "metadata": {},
     "output_type": "execute_result"
    }
   ],
   "source": [
    "#그룹핑된 문자열 재창조\n",
    "# \\1은 재참조 메타 문자로서 정규식의 첫번 째 그룹을 지칭 = 2개의 동일한 단어가 연속적으로 사용되어야 매치\n",
    "# Q. 'Paris is very very beautiful.'에서 'very very'를 출력해보세요.\n",
    "\n",
    "\n",
    "text = 'Paris is very very beautiful.'\n",
    "re.search(r'\\b(\\w+)\\s+\\1',text).group()"
   ]
  },
  {
   "cell_type": "markdown",
   "id": "ea8d4da2",
   "metadata": {},
   "source": [
    "### 과제 9_0425\n",
    "\n",
    "아래 text에서 정규표현식을 사용하여 'the the the'를 출력하세요."
   ]
  },
  {
   "cell_type": "code",
   "execution_count": 184,
   "id": "8d00bb0d",
   "metadata": {},
   "outputs": [],
   "source": [
    "text = 'Paris in the the the spring'"
   ]
  },
  {
   "cell_type": "code",
   "execution_count": null,
   "id": "f32edad4",
   "metadata": {},
   "outputs": [],
   "source": []
  },
  {
   "cell_type": "code",
   "execution_count": 185,
   "id": "0a2ec6d5",
   "metadata": {},
   "outputs": [],
   "source": [
    "# Q. 'abcdefghij'에 대하여 중첩을 적용한 서브그룹 5개로 컴파일하여 group()함수를 이용하여\n",
    "# 'abcdefghi' 와 'e'를 출력하세요"
   ]
  },
  {
   "cell_type": "code",
   "execution_count": 199,
   "id": "83cbbde7",
   "metadata": {},
   "outputs": [
    {
     "name": "stdout",
     "output_type": "stream",
     "text": [
      "abcdefghij\n",
      "e\n"
     ]
    }
   ],
   "source": [
    "t ='abcdefghij'\n",
    "m = re.search(r'((ab)(cd)(e)(fg)(hij))',t) #i 까지 하라그랬는데 j가 나옴. 고쳐보자 \n",
    "print(m.group(1))\n",
    "print(m.group(4))"
   ]
  },
  {
   "cell_type": "code",
   "execution_count": 200,
   "id": "70d46d3a",
   "metadata": {},
   "outputs": [
    {
     "name": "stdout",
     "output_type": "stream",
     "text": [
      "abcdefghij\n",
      "abcdefghi\n",
      "bcdefgh\n",
      "cdefg\n",
      "def\n",
      "e\n",
      "('abcdefghi', 'bcdefgh', 'cdefg', 'def', 'e')\n"
     ]
    }
   ],
   "source": [
    "t ='abcdefghij'\n",
    "m = re.search(r'(a(b(c(d(e)f)g)h)i)j',t)\n",
    "print(m.group(0))\n",
    "print(m.group(1))\n",
    "print(m.group(2))\n",
    "print(m.group(3))\n",
    "print(m.group(4))\n",
    "print(m.group(5))\n",
    "print(m.groups()) #전부 출력"
   ]
  },
  {
   "cell_type": "code",
   "execution_count": 201,
   "id": "cf0a9401",
   "metadata": {},
   "outputs": [
    {
     "name": "stdout",
     "output_type": "stream",
     "text": [
      "('abcdefghi', 'bcdefgh', 'cdefg', 'def', 'e')\n"
     ]
    }
   ],
   "source": [
    "# Q.위 문제에서 모든 서브 그룹에 대한 문자열을 포함하는 튜플을 출력하세요.\n",
    "print(m.groups())"
   ]
  },
  {
   "cell_type": "markdown",
   "id": "db83f229",
   "metadata": {},
   "source": [
    "그룹핑된 문자열에 이름 붙이기\n",
    "- 정규표현식에서 그룹핑 된 문자열에 이름을 붙이는 방법은 (?P$<name$>pattern)형식을 사용하는 것입니다. 이 때, name은 그룹에 붙일 이름이며 pattern은 그룹화할 정규식 패턴입니다."
   ]
  },
  {
   "cell_type": "code",
   "execution_count": 203,
   "id": "bb821a63",
   "metadata": {},
   "outputs": [
    {
     "data": {
      "text/plain": [
       "'123-4565-7890'"
      ]
     },
     "execution_count": 203,
     "metadata": {},
     "output_type": "execute_result"
    }
   ],
   "source": [
    "text = \"John's phone number is 123-4565-7890.\"\n",
    "p = r'(?P<phone>\\d{3}-\\d{4}-\\d{4})'\n",
    "m = re.search(p,text)\n",
    "m.group('phone')"
   ]
  },
  {
   "cell_type": "markdown",
   "id": "6eea9aab",
   "metadata": {},
   "source": [
    "과제10_0425.\n",
    "이름으로 그룹을 참조하여 text 에서 Lots를 출력하세요.\n",
    "\n",
    "text = 'Lots of punctuation Lots of punctuation'"
   ]
  },
  {
   "cell_type": "code",
   "execution_count": null,
   "id": "0b1e9a39",
   "metadata": {},
   "outputs": [],
   "source": []
  }
 ],
 "metadata": {
  "kernelspec": {
   "display_name": "Python 3 (ipykernel)",
   "language": "python",
   "name": "python3"
  },
  "language_info": {
   "codemirror_mode": {
    "name": "ipython",
    "version": 3
   },
   "file_extension": ".py",
   "mimetype": "text/x-python",
   "name": "python",
   "nbconvert_exporter": "python",
   "pygments_lexer": "ipython3",
   "version": "3.10.9"
  }
 },
 "nbformat": 4,
 "nbformat_minor": 5
}

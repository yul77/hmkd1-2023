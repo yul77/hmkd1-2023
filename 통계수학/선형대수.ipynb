{
 "cells": [
  {
   "cell_type": "markdown",
   "id": "2167c62a",
   "metadata": {},
   "source": [
    "## 데이터와 행렬\n",
    "- [스칼라 : 숫자 하나만으로 이루어진 데이터\n",
    "- 벡터 : 여러 숫자가 특정한 순서대로 모여 있는 것을 의미]. 하나의 벡터를 이루는 데이터 수가 n개이면 n-차원 벡터라고 함 (백터는 크기뿐 아니라 방향도 알수있다)\n",
    "- 열벡터는 열의 수가 1인 행렬\n",
    "- 하나의 데이터 레코드를 단독으로 벡터로 나타낼 때는 하나의 열로 나타내고 복수의 데이터 레코드 집합을 행렬로 나타낼 때는 하나의 데이터 레코드가 하나의 행으로 표기하는 것은 데이터 분석에서 일반적인 관례\n",
    "- [스칼라와 벡터도 수학적으로는 행렬에 속한다.]\n",
    "- 스칼라는 열과 행의 수가 각각 1인 행렬이고 벡터는 열의 수가 1인 행렬이다."
   ]
  },
  {
   "cell_type": "code",
   "execution_count": 2,
   "id": "a4c125fb",
   "metadata": {},
   "outputs": [
    {
     "name": "stdout",
     "output_type": "stream",
     "text": [
      "5.1\n",
      "[5.1 3.5 1.4 0.2]\n",
      "[5.1 4.9 4.7 4.6 5.  5.4 4.6 5.  4.4 4.9 5.4 4.8 4.8 4.3 5.8 5.7 5.4 5.1\n",
      " 5.7 5.1 5.4 5.1 4.6 5.1 4.8 5.  5.  5.2 5.2 4.7 4.8 5.4 5.2 5.5 4.9 5.\n",
      " 5.5 4.9 4.4 5.1 5.  4.5 4.4 5.  5.1 4.8 5.1 4.6 5.3 5.  7.  6.4 6.9 5.5\n",
      " 6.5 5.7 6.3 4.9 6.6 5.2 5.  5.9 6.  6.1 5.6 6.7 5.6 5.8 6.2 5.6 5.9 6.1\n",
      " 6.3 6.1 6.4 6.6 6.8 6.7 6.  5.7 5.5 5.5 5.8 6.  5.4 6.  6.7 6.3 5.6 5.5\n",
      " 5.5 6.1 5.8 5.  5.6 5.7 5.7 6.2 5.1 5.7 6.3 5.8 7.1 6.3 6.5 7.6 4.9 7.3\n",
      " 6.7 7.2 6.5 6.4 6.8 5.7 5.8 6.4 6.5 7.7 7.7 6.  6.9 5.6 7.7 6.3 6.7 7.2\n",
      " 6.2 6.1 6.4 7.2 7.4 7.9 6.4 6.3 6.1 7.7 6.3 6.4 6.  6.9 6.7 6.9 5.8 6.8\n",
      " 6.7 6.7 6.3 6.5 6.2 5.9]\n"
     ]
    }
   ],
   "source": [
    "from sklearn.datasets import load_iris\n",
    "iris = load_iris()\n",
    "x0 = iris.data[0,0]\n",
    "x1 = iris.data[0,:]\n",
    "x2 = iris.data[:,0]\n",
    "print(x0) # 스칼라 :하나의 수\n",
    "print(x1) # 행벡터 :여러개의 수\n",
    "print(x2) # 열벡터: 하나의 칼럼에 있는걸 다 가져옴"
   ]
  },
  {
   "cell_type": "code",
   "execution_count": 3,
   "id": "79ad0204",
   "metadata": {
    "scrolled": true
   },
   "outputs": [
    {
     "data": {
      "text/plain": [
       "dict_keys(['data', 'target', 'frame', 'target_names', 'DESCR', 'feature_names', 'filename', 'data_module'])"
      ]
     },
     "execution_count": 3,
     "metadata": {},
     "output_type": "execute_result"
    }
   ],
   "source": [
    "iris.keys() #iris 안에 뭐가 있는지 보는 함수"
   ]
  },
  {
   "cell_type": "code",
   "execution_count": 7,
   "id": "af97c108",
   "metadata": {},
   "outputs": [
    {
     "data": {
      "text/plain": [
       "['sepal length (cm)',\n",
       " 'sepal width (cm)',\n",
       " 'petal length (cm)',\n",
       " 'petal width (cm)']"
      ]
     },
     "execution_count": 7,
     "metadata": {},
     "output_type": "execute_result"
    }
   ],
   "source": [
    "iris.feature_names "
   ]
  },
  {
   "cell_type": "code",
   "execution_count": 8,
   "id": "5e86e9fc",
   "metadata": {},
   "outputs": [
    {
     "data": {
      "text/html": [
       "<div>\n",
       "<style scoped>\n",
       "    .dataframe tbody tr th:only-of-type {\n",
       "        vertical-align: middle;\n",
       "    }\n",
       "\n",
       "    .dataframe tbody tr th {\n",
       "        vertical-align: top;\n",
       "    }\n",
       "\n",
       "    .dataframe thead th {\n",
       "        text-align: right;\n",
       "    }\n",
       "</style>\n",
       "<table border=\"1\" class=\"dataframe\">\n",
       "  <thead>\n",
       "    <tr style=\"text-align: right;\">\n",
       "      <th></th>\n",
       "      <th>sepal length (cm)</th>\n",
       "      <th>sepal width (cm)</th>\n",
       "      <th>petal length (cm)</th>\n",
       "      <th>petal width (cm)</th>\n",
       "    </tr>\n",
       "  </thead>\n",
       "  <tbody>\n",
       "    <tr>\n",
       "      <th>0</th>\n",
       "      <td>5.1</td>\n",
       "      <td>3.5</td>\n",
       "      <td>1.4</td>\n",
       "      <td>0.2</td>\n",
       "    </tr>\n",
       "    <tr>\n",
       "      <th>1</th>\n",
       "      <td>4.9</td>\n",
       "      <td>3.0</td>\n",
       "      <td>1.4</td>\n",
       "      <td>0.2</td>\n",
       "    </tr>\n",
       "    <tr>\n",
       "      <th>2</th>\n",
       "      <td>4.7</td>\n",
       "      <td>3.2</td>\n",
       "      <td>1.3</td>\n",
       "      <td>0.2</td>\n",
       "    </tr>\n",
       "    <tr>\n",
       "      <th>3</th>\n",
       "      <td>4.6</td>\n",
       "      <td>3.1</td>\n",
       "      <td>1.5</td>\n",
       "      <td>0.2</td>\n",
       "    </tr>\n",
       "    <tr>\n",
       "      <th>4</th>\n",
       "      <td>5.0</td>\n",
       "      <td>3.6</td>\n",
       "      <td>1.4</td>\n",
       "      <td>0.2</td>\n",
       "    </tr>\n",
       "  </tbody>\n",
       "</table>\n",
       "</div>"
      ],
      "text/plain": [
       "   sepal length (cm)  sepal width (cm)  petal length (cm)  petal width (cm)\n",
       "0                5.1               3.5                1.4               0.2\n",
       "1                4.9               3.0                1.4               0.2\n",
       "2                4.7               3.2                1.3               0.2\n",
       "3                4.6               3.1                1.5               0.2\n",
       "4                5.0               3.6                1.4               0.2"
      ]
     },
     "execution_count": 8,
     "metadata": {},
     "output_type": "execute_result"
    }
   ],
   "source": [
    "import pandas as pd\n",
    "\n",
    "df = pd.DataFrame(iris.data, columns=iris.feature_names) \n",
    "df.head()"
   ]
  },
  {
   "cell_type": "code",
   "execution_count": 12,
   "id": "2cd75305",
   "metadata": {},
   "outputs": [
    {
     "data": {
      "text/plain": [
       "array([[5.1],\n",
       "       [3.5],\n",
       "       [1.4],\n",
       "       [0.2]])"
      ]
     },
     "execution_count": 12,
     "metadata": {},
     "output_type": "execute_result"
    }
   ],
   "source": [
    "#2차원 배열,4차원 벡터 : 배열의 차원은 벡터의 차원가 다른 의미. \n",
    "#넘파이를 사용한 벡터 표현: 벡터를 열 개수가 하나인 2차원 배열로 표현.\n",
    "\n",
    "import numpy as np\n",
    "\n",
    "x1 = np.array([[5.1],\n",
    "             [3.5],\n",
    "             [1.4],\n",
    "             [0.2]])\n",
    "x1"
   ]
  },
  {
   "cell_type": "code",
   "execution_count": 13,
   "id": "c5691903",
   "metadata": {},
   "outputs": [
    {
     "data": {
      "text/plain": [
       "array([5.1, 3.5, 1.4, 0.2])"
      ]
     },
     "execution_count": 13,
     "metadata": {},
     "output_type": "execute_result"
    }
   ],
   "source": [
    "#1차원 배열, 4차원 벡터\n",
    "#넘파이는 1차원 배열 객체도 벡터로 인정\n",
    "x1 = np.array([5.1,3.5,1.4,0.2])\n",
    "x1"
   ]
  },
  {
   "cell_type": "markdown",
   "id": "2474ca4a",
   "metadata": {},
   "source": [
    "- [행렬] : [복수의 차원을 가지는 데이터 레코드가 다시 여러 개 있는 경우의 데이터를 합쳐서 표기한 것]\n",
    "- 붓꽃 예에서 붓꽃 6 송이에 대해 꽃잎과 꽃받침 크기를 측정했다면 [4차원 붓꽃 데이터가 6개. 4 x 6 = 24개의 실수 숫자가 있은 것]이며 이 숫자 집합을 행렬로 나타낼 수 있다.\n",
    "- 벡터는 열의 수가 1인 행렬이라고 볼 수 있으므로 열벡터라고도 한다.\n",
    "-[ 데이터를 행렬로 묶어서 표시할 때]는 붓꽃 하나에 대한 데이터 레코드, 즉 [하나의 벡터가 열이 아닌 행으로 표시]한다.\n",
    "- 하나의 데이터 레코드를 단독으로 벡터로 나타낼 때는 하나의 열로 나타내고 복수의 데이터 레코드 집합을 행렬로 나타낼 때는 하나의 데이터 레코드가 하나의 행으로 표기하는 것은 일관성이 없어 보이지만 다른 연산 시 필요하여 데이터 분석에서 쓰는 일반적인 관례임을 유의해야 함"
   ]
  },
  {
   "cell_type": "code",
   "execution_count": 14,
   "id": "74f079cb",
   "metadata": {},
   "outputs": [
    {
     "data": {
      "text/html": [
       "<div>\n",
       "<style scoped>\n",
       "    .dataframe tbody tr th:only-of-type {\n",
       "        vertical-align: middle;\n",
       "    }\n",
       "\n",
       "    .dataframe tbody tr th {\n",
       "        vertical-align: top;\n",
       "    }\n",
       "\n",
       "    .dataframe thead th {\n",
       "        text-align: right;\n",
       "    }\n",
       "</style>\n",
       "<table border=\"1\" class=\"dataframe\">\n",
       "  <thead>\n",
       "    <tr style=\"text-align: right;\">\n",
       "      <th></th>\n",
       "      <th>sepal length (cm)</th>\n",
       "      <th>sepal width (cm)</th>\n",
       "      <th>petal length (cm)</th>\n",
       "      <th>petal width (cm)</th>\n",
       "    </tr>\n",
       "  </thead>\n",
       "  <tbody>\n",
       "    <tr>\n",
       "      <th>0</th>\n",
       "      <td>5.1</td>\n",
       "      <td>3.5</td>\n",
       "      <td>1.4</td>\n",
       "      <td>0.2</td>\n",
       "    </tr>\n",
       "    <tr>\n",
       "      <th>1</th>\n",
       "      <td>4.9</td>\n",
       "      <td>3.0</td>\n",
       "      <td>1.4</td>\n",
       "      <td>0.2</td>\n",
       "    </tr>\n",
       "    <tr>\n",
       "      <th>2</th>\n",
       "      <td>4.7</td>\n",
       "      <td>3.2</td>\n",
       "      <td>1.3</td>\n",
       "      <td>0.2</td>\n",
       "    </tr>\n",
       "    <tr>\n",
       "      <th>3</th>\n",
       "      <td>4.6</td>\n",
       "      <td>3.1</td>\n",
       "      <td>1.5</td>\n",
       "      <td>0.2</td>\n",
       "    </tr>\n",
       "    <tr>\n",
       "      <th>4</th>\n",
       "      <td>5.0</td>\n",
       "      <td>3.6</td>\n",
       "      <td>1.4</td>\n",
       "      <td>0.2</td>\n",
       "    </tr>\n",
       "    <tr>\n",
       "      <th>5</th>\n",
       "      <td>5.4</td>\n",
       "      <td>3.9</td>\n",
       "      <td>1.7</td>\n",
       "      <td>0.4</td>\n",
       "    </tr>\n",
       "  </tbody>\n",
       "</table>\n",
       "</div>"
      ],
      "text/plain": [
       "   sepal length (cm)  sepal width (cm)  petal length (cm)  petal width (cm)\n",
       "0                5.1               3.5                1.4               0.2\n",
       "1                4.9               3.0                1.4               0.2\n",
       "2                4.7               3.2                1.3               0.2\n",
       "3                4.6               3.1                1.5               0.2\n",
       "4                5.0               3.6                1.4               0.2\n",
       "5                5.4               3.9                1.7               0.4"
      ]
     },
     "execution_count": 14,
     "metadata": {},
     "output_type": "execute_result"
    }
   ],
   "source": [
    "#4차원 붓꽃 데이터가 6개\n",
    "df.head(6) #24개의 실수 숫자가 있음. "
   ]
  },
  {
   "cell_type": "code",
   "execution_count": 16,
   "id": "2f4eb846",
   "metadata": {
    "scrolled": true
   },
   "outputs": [
    {
     "data": {
      "text/plain": [
       "sepal length (cm)    5.1\n",
       "sepal width (cm)     3.5\n",
       "petal length (cm)    1.4\n",
       "petal width (cm)     0.2\n",
       "Name: 0, dtype: float64"
      ]
     },
     "execution_count": 16,
     "metadata": {},
     "output_type": "execute_result"
    }
   ],
   "source": [
    "# 하나의 데이터 레코드를 단독으로 벡터로 나타낼 때는 하나의 열로 나타내고\n",
    "#복수의 데이터 레코드 집합 또한 하나의 데이터 레코드가 하나의 행으로 표기하는 것이\n",
    "#일관성이 없어 보이지만 일반적인 관례임을 유의 (계산시 필요)\n",
    "df.iloc[0,:]"
   ]
  },
  {
   "cell_type": "code",
   "execution_count": 17,
   "id": "f709f20d",
   "metadata": {},
   "outputs": [
    {
     "data": {
      "text/plain": [
       "array([[11, 12, 13],\n",
       "       [21, 22, 23]])"
      ]
     },
     "execution_count": 17,
     "metadata": {},
     "output_type": "execute_result"
    }
   ],
   "source": [
    "# 전치 연산\n",
    "\n",
    "a = np.array([[11,12,13],[21,22,23]])\n",
    "a"
   ]
  },
  {
   "cell_type": "code",
   "execution_count": 19,
   "id": "15b0ba97",
   "metadata": {},
   "outputs": [
    {
     "data": {
      "text/plain": [
       "array([[11, 21],\n",
       "       [12, 22],\n",
       "       [13, 23]])"
      ]
     },
     "execution_count": 19,
     "metadata": {},
     "output_type": "execute_result"
    }
   ],
   "source": [
    "a.T"
   ]
  },
  {
   "cell_type": "code",
   "execution_count": 20,
   "id": "e1e20174",
   "metadata": {},
   "outputs": [
    {
     "data": {
      "text/plain": [
       "array([[0.],\n",
       "       [0.],\n",
       "       [0.]])"
      ]
     },
     "execution_count": 20,
     "metadata": {},
     "output_type": "execute_result"
    }
   ],
   "source": [
    "#영백터\n",
    "\n",
    "np.zeros((3,1))"
   ]
  },
  {
   "cell_type": "code",
   "execution_count": 21,
   "id": "becb81fc",
   "metadata": {},
   "outputs": [
    {
     "data": {
      "text/plain": [
       "array([[1.],\n",
       "       [1.],\n",
       "       [1.]])"
      ]
     },
     "execution_count": 21,
     "metadata": {},
     "output_type": "execute_result"
    }
   ],
   "source": [
    "# 일백터\n",
    "np.ones((3,1))"
   ]
  },
  {
   "cell_type": "code",
   "execution_count": 29,
   "id": "829c907d",
   "metadata": {},
   "outputs": [
    {
     "data": {
      "text/plain": [
       "array([[0, 1, 2],\n",
       "       [3, 4, 5],\n",
       "       [6, 7, 8]])"
      ]
     },
     "execution_count": 29,
     "metadata": {},
     "output_type": "execute_result"
    }
   ],
   "source": [
    "# 정방 행렬(3,3)\n",
    "np.full((3,3),1)\n",
    "np.arange(9).reshape(3,3)"
   ]
  },
  {
   "cell_type": "code",
   "execution_count": 30,
   "id": "7a31ddc3",
   "metadata": {},
   "outputs": [
    {
     "data": {
      "text/plain": [
       "array([[1, 0, 0],\n",
       "       [0, 2, 0],\n",
       "       [0, 0, 3]])"
      ]
     },
     "execution_count": 30,
     "metadata": {},
     "output_type": "execute_result"
    }
   ],
   "source": [
    "# 대각 정방행렬 - 주 대각선 1,2,3\n",
    "np.diag([1,2,3])\n"
   ]
  },
  {
   "cell_type": "code",
   "execution_count": 32,
   "id": "09c2a570",
   "metadata": {},
   "outputs": [
    {
     "data": {
      "text/plain": [
       "array([[1., 0., 0.],\n",
       "       [0., 1., 0.],\n",
       "       [0., 0., 1.]])"
      ]
     },
     "execution_count": 32,
     "metadata": {},
     "output_type": "execute_result"
    }
   ],
   "source": [
    "# 항등행렬\n",
    "np.eye(3)"
   ]
  },
  {
   "cell_type": "markdown",
   "id": "857c77f2",
   "metadata": {},
   "source": [
    "<img src = '행렬곱.jpg' STYLE='width 800px;'>"
   ]
  },
  {
   "cell_type": "markdown",
   "id": "6b91be07",
   "metadata": {},
   "source": [
    "<img src = '내적.jpg' STYLE='width 800px;'>"
   ]
  },
  {
   "cell_type": "code",
   "execution_count": 34,
   "id": "2317a1cd",
   "metadata": {},
   "outputs": [],
   "source": [
    "# 벡터와 벡터의 곱셈, 내적\n",
    "\n",
    "from PIL import Image\n",
    "image = Image.open('내적.jpg')\n",
    "image.show()\n"
   ]
  },
  {
   "cell_type": "code",
   "execution_count": 40,
   "id": "d69a5c3d",
   "metadata": {},
   "outputs": [
    {
     "name": "stdout",
     "output_type": "stream",
     "text": [
      "[10 12 14 16 18]\n",
      "[10 10 10 10 10]\n"
     ]
    }
   ],
   "source": [
    "#1차원 배열 계산\n",
    "x = np.array([10,11,12,13,14])\n",
    "y = np.array([0,1,2,3,4])\n",
    "\n",
    "print(x+y)\n",
    "print(x-y)"
   ]
  },
  {
   "cell_type": "code",
   "execution_count": 42,
   "id": "8b8c19a4",
   "metadata": {},
   "outputs": [
    {
     "data": {
      "text/plain": [
       "array([[44, 59],\n",
       "       [50, 34]])"
      ]
     },
     "execution_count": 42,
     "metadata": {},
     "output_type": "execute_result"
    }
   ],
   "source": [
    "#2차원 배열 - 같은 행과 열이기 때문에 연산 가능\n",
    "\n",
    "x1 = np.random.randint(30,50,size=(2,2))\n",
    "\n",
    "x2 = np.random.randint(20,30,size=(2,2))\n",
    "\n",
    "x3 = np.random.randint(10,20,size=(2,2))\n",
    "\n",
    "x1+x2-x3"
   ]
  },
  {
   "cell_type": "code",
   "execution_count": 43,
   "id": "05ba3538",
   "metadata": {},
   "outputs": [
    {
     "data": {
      "text/plain": [
       "array([0, 1, 2, 3, 4])"
      ]
     },
     "execution_count": 43,
     "metadata": {},
     "output_type": "execute_result"
    }
   ],
   "source": [
    "#브로드캐스팅=확장된다 \n",
    "\n",
    "x1=np.array([10,11,12]) #1차원 배열이면서 3차원 백터\n",
    "x - 10"
   ]
  },
  {
   "cell_type": "code",
   "execution_count": 44,
   "id": "734bb493",
   "metadata": {},
   "outputs": [
    {
     "data": {
      "text/plain": [
       "array([30, 33, 36])"
      ]
     },
     "execution_count": 44,
     "metadata": {},
     "output_type": "execute_result"
    }
   ],
   "source": [
    "#내적구하기\n",
    "\n",
    "np.dot(3,x1) #스칼라3, x1벡터 행렬끼리 곱해라"
   ]
  },
  {
   "cell_type": "code",
   "execution_count": 45,
   "id": "e38add29",
   "metadata": {},
   "outputs": [
    {
     "name": "stdout",
     "output_type": "stream",
     "text": [
      "[[1]\n",
      " [2]\n",
      " [3]]\n",
      "[[4]\n",
      " [5]\n",
      " [6]]\n"
     ]
    }
   ],
   "source": [
    "#넘파이에서 벡터와 행렬의 내적은 dot(), 또는 @ 연산자로 계산\n",
    "\n",
    "x = np.array([[1],[2],[3]])\n",
    "y = np.array([[4],[5],[6]])\n",
    "print(x)\n",
    "print(y)"
   ]
  },
  {
   "cell_type": "code",
   "execution_count": 50,
   "id": "d2482546",
   "metadata": {},
   "outputs": [
    {
     "name": "stdout",
     "output_type": "stream",
     "text": [
      "[[1 2 3]] \n",
      "\n",
      "[[4]\n",
      " [5]\n",
      " [6]] \n",
      "\n",
      "[[32]]\n",
      "[[32]]\n"
     ]
    }
   ],
   "source": [
    "#전치시켜준다\n",
    "print(x.T,'\\n') #반드시 전치를 시켜줘야함. : \n",
    "print(y,'\\n')\n",
    "\n",
    "print(x.T@y)\n",
    "print(np.dot(x.T,y))"
   ]
  },
  {
   "cell_type": "code",
   "execution_count": 54,
   "id": "efd06878",
   "metadata": {},
   "outputs": [
    {
     "name": "stdout",
     "output_type": "stream",
     "text": [
      "[[1 2 3]\n",
      " [4 5 6]]\n",
      "[[ 6 23]\n",
      " [-1  7]\n",
      " [ 8  9]]\n"
     ]
    },
    {
     "data": {
      "text/plain": [
       "array([[ 28,  64],\n",
       "       [ 67, 181]])"
      ]
     },
     "execution_count": 54,
     "metadata": {},
     "output_type": "execute_result"
    }
   ],
   "source": [
    "x = np.arange(1,7).reshape(2,3)\n",
    "y = np.array([[6,23],[-1,7],[8,9]])\n",
    "\n",
    "print(x) #2행 3열\n",
    "print(y) #3행 2열\n",
    "\n",
    "np.dot(x,y) #2행 2열\n",
    "x.dot(y) #상동\n"
   ]
  },
  {
   "cell_type": "markdown",
   "id": "a7ce374e",
   "metadata": {},
   "source": [
    "#### 행렬곱\n",
    "- 앞 행렬의 열의 수가, 뒤 행렬의 행의 수와 일치해야 한다.\n",
    "- 교환 법칙이 성립하지 않음 : (A @ B) (B @ A)\n",
    "- 분배법칙은 성립함. : A @ (B + C) VS  A @ B + A @ C\n",
    "- 전치 연산도 덧셈, 뺄셈에 대한 분배 법칙 성립 : (A + B).T  VS  A.T + B.T\n",
    "- 전치 연산과 곱셈의 경우에는 전치 연산이 분배되면서 곱셈의 순서가 바뀜. :(A @ B).T  VS  B.T @ A.T "
   ]
  },
  {
   "cell_type": "markdown",
   "id": "4d04b9d2",
   "metadata": {},
   "source": [
    "### 과제1 _ 04.20\n",
    "\n",
    "앞에 언급한 사함들의 사례를 작성해서 의미를 확인하고 설명하세요.(5가지 사례)"
   ]
  },
  {
   "cell_type": "code",
   "execution_count": null,
   "id": "8a18b398",
   "metadata": {},
   "outputs": [],
   "source": []
  },
  {
   "cell_type": "code",
   "execution_count": 58,
   "id": "8f7f23ed",
   "metadata": {},
   "outputs": [
    {
     "name": "stdout",
     "output_type": "stream",
     "text": [
      "[[1 2]\n",
      " [3 4]] \n",
      "\n",
      "[[1. 0.]\n",
      " [0. 1.]] \n",
      "\n",
      "[[1. 2.]\n",
      " [3. 4.]] \n",
      "\n",
      "[[1. 2.]\n",
      " [3. 4.]]\n"
     ]
    }
   ],
   "source": [
    "#항등행렬의 곱셈\n",
    "\n",
    "a = np.array([[1,2],[3,4]])\n",
    "i = np.eye(2) #어떤 수에 1을 곱하는 것과 같은 결=항등행렬 곱\n",
    "print(a,'\\n')\n",
    "print(i,'\\n')\n",
    "print(a @ i,'\\n')\n",
    "print(i @ a)"
   ]
  },
  {
   "cell_type": "code",
   "execution_count": null,
   "id": "99e129e5",
   "metadata": {},
   "outputs": [],
   "source": [
    "from sklearn.datasets import fetch_olivetti_faces\n",
    "import matplotlib.pyplot as plt\n",
    "faces = fetch_olivetti_faces()\n",
    "print(faces.images[6],'\\n')\n",
    "f,ax = plt.subplots(1,1)\n",
    "ax.imshow(faces.images[6],cmap=plt.cm.bone)\n",
    "ax.grid(False)\n",
    "ax.set_xticks([])\n",
    "ax.set_yticks([])\n",
    "ax.set_title(\"image 1: $x_1$\")"
   ]
  },
  {
   "cell_type": "code",
   "execution_count": null,
   "id": "accb6d8d",
   "metadata": {},
   "outputs": [],
   "source": [
    "faces  = fetch_olivetti_faces()\n",
    "\n",
    "f,ax=plt.subplots(1,3)\n",
    "ax[0].imshow(faces.images[6],cmap=plt.cm.bone)\n",
    "ax[0].grid(False)\n",
    "ax[0].set_xticks([])\n",
    "ax[0].set_yticks([])\n",
    "ax[0].set_title('image 1: $x_1$')\n",
    "\n",
    "ax[1].imshow(faces.images[10],cmap=plt.cm.bone)\n",
    "ax[1].grid(False)\n",
    "ax[1].set_xticks([])\n",
    "ax[1].set_yticks([])\n",
    "ax[1].set_title('image 2: $x_2$')\n",
    "\n",
    "new_face = 0.7 * faces.images[6] + 0.3 * faces.images[10] #0.3 저 부분 조작하면 조합비율 변경\n",
    "ax[2].imshow(new_face,cmap=plt.cm.bone)\n",
    "ax[2].grid(False)\n",
    "ax[2].set_xticks([])\n",
    "ax[2].set_yticks([])\n",
    "ax[2].set_title('image 3: $0.7x_1=0.3x_2$')\n",
    "plt.show()"
   ]
  },
  {
   "cell_type": "markdown",
   "id": "eda003e2",
   "metadata": {},
   "source": [
    "#### 벡터의 norm이란 \n",
    "- 벡터의 크기를 측정하는 방법 중 하나입니다. 벡터의 norm은 일반적으로 벡터의 길이 또는 크기를 의미합니다. [벡터의 norm은 벡터의 요소에 대한 제곱 합의 제곱근으로 계산]됩니다.\n",
    "\n",
    "만약, 벡터 $x = (x_1, x_2, ..., x_n)$ 이 있다면, $x$의 norm은 다음과 같이 정의됩니다.\n",
    "\n",
    "$$||x|| = \\sqrt{x_1^2 + x_2^2 + \\cdots + x_n^2}$$\n",
    "\n",
    "여기서 $||x||$는 벡터 $x$의 norm을 나타냅니다.\n",
    "\n",
    "- 벡터의 norm은 다음과 같은 성질을 가지고 있습니다.\n",
    "\n",
    "  - $||x|| \\geq 0$ (벡터의 norm은 항상 0 이상입니다.)\n",
    "  - $||x|| = 0$ if and only if $x = \\mathbf{0}$ ([벡터의 norm이 0일 경우, 해당 벡터는 영 벡터입니다.])\n",
    "  - $||ax|| = |a| \\cdot ||x||$ (스칼라 $a$에 대해 벡터 $x$의 norm은 [$a$의 절댓값과 $x$의 norm의 곱과 같습니다].)\n",
    "  - $||x+y|| \\leq ||x|| + ||y||$ ([두 벡터의 합의 norm은 각 벡터의 norm의 합보다 작거나 같습니다]. 이를 [삼각 부등식]이라고 합니다.)\n",
    "  - 벡터의 norm은 선형 대수학에서 매우 중요한 개념이며, [벡터 공간에서 거리와 관련된 개념을 다룰 때 자주 사용]됩니다.\n",
    "\n",
    "- 위 4가지 성질을 만족하기만 하면 놈이라고 할 수 있는데, 많이 사용되는 놈은 다음 세 가지이다. 놈을 구별하기 위하여 아래 첨자를 사용하고, $||x||_1을 1-놈, ||x||_2 를 2-놈, ||x||_\\infty를 3-놈$이라고 한다.\n",
    "- 1-놈은 벡터 x의 성분의 절대값을 모두 더한 것으로, 2-놈은 벡터의 기하학적 길이로, $\\infty-놈$은 벡터 성분 중에서 크기가 제일 큰 값으로 정의한다.\n",
    "- p = 2인 경우가 가장 많이 쓰이므로 p값 표기가 없는 경우 p=2인 프로베니우스 놈을 사용한다.\n",
    "\n",
    "https://bskyvision.com/825  \n",
    "https://pasus.tistory.com/34"
   ]
  },
  {
   "cell_type": "code",
   "execution_count": 80,
   "id": "00b2232a",
   "metadata": {},
   "outputs": [
    {
     "data": {
      "text/plain": [
       "array([[-4, -3, -2],\n",
       "       [-1,  0,  1],\n",
       "       [ 2,  3,  4]])"
      ]
     },
     "execution_count": 80,
     "metadata": {},
     "output_type": "execute_result"
    }
   ],
   "source": [
    "a = (np.arange(9) -4).reshape((3,3))\n",
    "a"
   ]
  },
  {
   "cell_type": "code",
   "execution_count": 81,
   "id": "7a388458",
   "metadata": {},
   "outputs": [
    {
     "data": {
      "text/plain": [
       "7.745966692414834"
      ]
     },
     "execution_count": 81,
     "metadata": {},
     "output_type": "execute_result"
    }
   ],
   "source": [
    "# 선형대수 : Linear algebra\n",
    "np.linalg.norm(a)"
   ]
  },
  {
   "cell_type": "code",
   "execution_count": 82,
   "id": "8c3c0d28",
   "metadata": {},
   "outputs": [
    {
     "data": {
      "text/plain": [
       "5.0"
      ]
     },
     "execution_count": 82,
     "metadata": {},
     "output_type": "execute_result"
    }
   ],
   "source": [
    "x = [2,3]\n",
    "np.linalg.norm(x,1) #x에 대해 1norm을 구함다. = L2 :절대값의 합."
   ]
  },
  {
   "cell_type": "code",
   "execution_count": 83,
   "id": "e12ac77a",
   "metadata": {},
   "outputs": [
    {
     "data": {
      "text/plain": [
       "3.605551275463989"
      ]
     },
     "execution_count": 83,
     "metadata": {},
     "output_type": "execute_result"
    }
   ],
   "source": [
    "#L2 norm은 출발점에서 도착점까지의 거리를 직선거리로 측정\n",
    "\n",
    "np.linalg.norm(x,2) #루트 13 \n",
    "#np.sqrt(13) 과 같은 값"
   ]
  },
  {
   "cell_type": "code",
   "execution_count": 84,
   "id": "28b74143",
   "metadata": {},
   "outputs": [
    {
     "data": {
      "text/plain": [
       "3.0"
      ]
     },
     "execution_count": 84,
     "metadata": {},
     "output_type": "execute_result"
    }
   ],
   "source": [
    "# L inf norm은 벡터 성분들의 절대값 중에서 가장 큰 값으로 계산\n",
    "\n",
    "np.linalg.norm(x,np.inf)"
   ]
  },
  {
   "cell_type": "markdown",
   "id": "36226dfc",
   "metadata": {},
   "source": [
    "#### 행렬식(determinant)은\n",
    "행렬식은 [정방행렬에 대해서만 정의되는 값]으로, 행렬의 성질을 나타내는 중요한 값 중 하나입니다. \n",
    "\n",
    "- 행렬식은 [행렬의 크기에 상관없이 항상 하나의 스칼라값으로 계산]됩니다.\n",
    "행렬 A의 행렬식은 $|A|$ 또는 det(A)로 표기합니다. 2x2 행렬의 경우, 다음과 같이 행렬식을 계산할 수 있습니다.$$det(A) = a11*a22 - a12*a21$$\n",
    "- 행렬식이 [0이면, 해당 행렬은 역행렬을 가지지 않습니다]. 반대로, [행렬식이 0이 아니면, 해당 행렬은 역행렬]을 가지며, [선형 변환의 크기와 방향을 보존하는 역행렬을 사용하여 역변환을 수행할 수 있습니다].\n",
    "- 행렬식의 [절댓값이 1인 행렬은 크기를 보존하는 선형 변환]을 나타내며, 이러한 행렬은 [회전 또는 반사와 같은 변환이 될 수 있습니다]. 반면에, 행렬식의 [절댓값이 1보다 작은 행렬은 크기를 축소하는 선형 변환]이며, 이러한 행렬은 [변환 중심을 기준으로 축소]가 됩니다. 마지막으로, 행렬식의 [절댓값이 1보다 큰 행렬은 크기를 확대하는 선형 변환]을 나타내며, 이러한 행렬은 [변환 중심을 기준으로 확대]됩니다.\n",
    "- 행렬식은 선형 방정식의 해를 구하는 데에도 사용됩니다 $Ax = b$에서 A는 n x n 행렬이며, x와 b는 n 차원 벡터입니다. 만약 A의 행렬식이 0이 아니면, 이 방정식은 유일한 해를 가집니다. 그러나, A의 행렬식이 0이면, 이 방정식은 무수히 많은 해를 가질 수 있습니다.\n",
    "- 행렬식은 행렬식이 0이 아닌 행렬에 대한 Cramer의 법칙을 사용하여 역행렬을 구하는 데에도 사용됩니다. 역행렬은 선형 방정식의 해를 구하는 데 사용될 수 있으며, 행렬식이 0이 아닌 경우에만 존재합니다."
   ]
  },
  {
   "cell_type": "markdown",
   "id": "9892818a",
   "metadata": {},
   "source": [
    "Ax = b : 계수행렬(A), 미지수벡터(x), 상수벡터(b)\n",
    "- A, x, b가 스칼라 실수인 경우 : x = b/A \n",
    "- 행렬에서는  나눗셈 대신 역행렬 사용 : x = $A^{-1}$b"
   ]
  },
  {
   "cell_type": "code",
   "execution_count": 113,
   "id": "98aa5677",
   "metadata": {},
   "outputs": [
    {
     "name": "stdout",
     "output_type": "stream",
     "text": [
      "[[-2.   1. ]\n",
      " [ 1.5 -0.5]]\n"
     ]
    }
   ],
   "source": [
    "#역행렬은 특정한 행렬과 곱했을 때 항등행렬이 나오는 행렬\n",
    "\n",
    "import numpy as np\n",
    "\n",
    "A = np.array([[1,2],[3,4]]) #역행렬 구할 행렬\n",
    "A_inv = np.linalg.inv(A) #A의 역행렬 계산\n",
    "\n",
    "print(A_inv) #역행렬 출력"
   ]
  },
  {
   "cell_type": "code",
   "execution_count": 86,
   "id": "de302661",
   "metadata": {},
   "outputs": [
    {
     "data": {
      "text/plain": [
       "array([[1.00000000e+00, 1.11022302e-16],\n",
       "       [0.00000000e+00, 1.00000000e+00]])"
      ]
     },
     "execution_count": 86,
     "metadata": {},
     "output_type": "execute_result"
    }
   ],
   "source": [
    " A @ A_inv #대각선만 1이고 나머지는 0인 조건을 만족하는 항등행렬 "
   ]
  },
  {
   "cell_type": "code",
   "execution_count": 99,
   "id": "d221c019",
   "metadata": {
    "scrolled": false
   },
   "outputs": [
    {
     "name": "stdout",
     "output_type": "stream",
     "text": [
      "[[ 7. -1. -4.]\n",
      " [-1.  0.  1.]\n",
      " [-4.  1.  2.]]\n"
     ]
    },
    {
     "data": {
      "text/plain": [
       "array([[1., 0., 0.],\n",
       "       [0., 1., 0.],\n",
       "       [0., 0., 1.]])"
      ]
     },
     "execution_count": 99,
     "metadata": {},
     "output_type": "execute_result"
    }
   ],
   "source": [
    "np.random.seed(0)\n",
    "mt1 = np.random.randint(1,4,size = (3,3)) #원본 행렬\n",
    "mt1\n",
    "\n",
    "mt2 = np.linalg.inv(mt1) #역행렬\n",
    "print(mt2) \n",
    "\n",
    "mt1 @ mt2 #원래 행렬과 역행렬 곱하면 항등행렬이 나온다 "
   ]
  },
  {
   "cell_type": "code",
   "execution_count": 104,
   "id": "2da35e7e",
   "metadata": {},
   "outputs": [
    {
     "name": "stdout",
     "output_type": "stream",
     "text": [
      "-1.0\n"
     ]
    }
   ],
   "source": [
    "#역행렬이 존재하는 경우는 행렬식이 0이 아님. =역행렬이 존재.\n",
    "\n",
    "mt3 = np.linalg.det(mt1)\n",
    "print(mt3)"
   ]
  },
  {
   "cell_type": "code",
   "execution_count": 103,
   "id": "38fb4f00",
   "metadata": {},
   "outputs": [
    {
     "name": "stdout",
     "output_type": "stream",
     "text": [
      "[[1 2]\n",
      " [2 4]]\n",
      "0.0\n"
     ]
    }
   ],
   "source": [
    "#역행렬이 존재하지 않는 경우는 행렬식 값으로 0이 출력 \n",
    "\n",
    "nt1 = np.array([[1,2],[2,4]])\n",
    "print(nt1)\n",
    "nt2 = np.linalg.det(nt1) #행렬식으로 확인. \n",
    "print(nt2) #행렬식이 0이 나옴 = 역행렬이 존재하지 않음. "
   ]
  },
  {
   "cell_type": "markdown",
   "id": "d9abb8ae",
   "metadata": {},
   "source": [
    "<img src = '행렬식계산.png' STYLE='width 800px;'>"
   ]
  },
  {
   "cell_type": "code",
   "execution_count": 105,
   "id": "34ba8366",
   "metadata": {},
   "outputs": [
    {
     "name": "stdout",
     "output_type": "stream",
     "text": [
      "[[1 2 3]\n",
      " [4 5 6]\n",
      " [7 8 9]]\n"
     ]
    }
   ],
   "source": [
    "import numpy as np\n",
    "\n",
    "a = np.array([[1,2,3],[4,5,6],[7,8,9]])\n",
    "print(a)"
   ]
  },
  {
   "cell_type": "code",
   "execution_count": 107,
   "id": "f40708fa",
   "metadata": {},
   "outputs": [
    {
     "data": {
      "text/plain": [
       "0"
      ]
     },
     "execution_count": 107,
     "metadata": {},
     "output_type": "execute_result"
    }
   ],
   "source": [
    "1*(45-48)-2*(36-42)+3*(32-35)"
   ]
  },
  {
   "cell_type": "code",
   "execution_count": 110,
   "id": "6dc58fc5",
   "metadata": {},
   "outputs": [
    {
     "data": {
      "text/plain": [
       "0"
      ]
     },
     "execution_count": 110,
     "metadata": {},
     "output_type": "execute_result"
    }
   ],
   "source": [
    "1*(45-48)-4*(18-24)+7*(12-15)"
   ]
  },
  {
   "cell_type": "code",
   "execution_count": 111,
   "id": "60939ee4",
   "metadata": {},
   "outputs": [
    {
     "data": {
      "text/plain": [
       "-9.51619735392994e-16"
      ]
     },
     "execution_count": 111,
     "metadata": {},
     "output_type": "execute_result"
    }
   ],
   "source": [
    "det_a = np.linalg.det(a)\n",
    "det_a #답은 0."
   ]
  },
  {
   "cell_type": "markdown",
   "id": "4c468dc9",
   "metadata": {},
   "source": [
    "### 과제 2_ 0420\n",
    "\n",
    "배열 e의 행렬식을 구하면 에러가 발생됩니다. 행렬식의 의미를 감안하여 e행렬을 수정하여 다음 사항을 수행하세요.\n",
    "\n",
    "- 행렬식을 계산하세요.\n",
    "- 역행렬을 구하세요\n",
    "- 역행렬이 맞는지 검증하세요."
   ]
  },
  {
   "cell_type": "code",
   "execution_count": null,
   "id": "e0b1b68e",
   "metadata": {},
   "outputs": [],
   "source": [
    "e = np.array([[1,0,0],[0,1,0]])\n",
    "np.linalg.det(e)"
   ]
  },
  {
   "cell_type": "code",
   "execution_count": null,
   "id": "6b812940",
   "metadata": {},
   "outputs": [],
   "source": []
  },
  {
   "cell_type": "markdown",
   "id": "5fd9547d",
   "metadata": {},
   "source": [
    "### 과제3_0420\n",
    "\n",
    "아래 두 행렬을 생성해서 각각 a1,b1으로 저장하고 행렬 내적을 계산한 결과를 출력하세요.\n",
    "\n",
    "[[1 2 3][4 5 6]] <br>\n",
    "[[10 11][12 13][14 15]]"
   ]
  },
  {
   "cell_type": "code",
   "execution_count": null,
   "id": "0414073d",
   "metadata": {},
   "outputs": [],
   "source": []
  },
  {
   "cell_type": "markdown",
   "id": "e3547ebd",
   "metadata": {},
   "source": [
    "- 선형예측모형은 입력 데이터 벡터와 가중치 벡터의 내적으로 계산된 예측값이 실제 출력 데이터와 유사한 값을 출력하도록 하는 모형."
   ]
  },
  {
   "cell_type": "markdown",
   "id": "c81647db",
   "metadata": {},
   "source": [
    "<img src = '인공신경망행렬.png' STYLE='width 800px;'>"
   ]
  },
  {
   "cell_type": "code",
   "execution_count": 1,
   "id": "7e5748ec",
   "metadata": {},
   "outputs": [
    {
     "data": {
      "image/png": "[encoded data removed]",
      "text/plain": [
       "<Figure size 640x480 with 1 Axes>"
      ]
     },
     "metadata": {},
     "output_type": "display_data"
    }
   ],
   "source": [
    "# x축 방향으로 2배 확대하는 선형 변환 행렬\n",
    "import numpy as np\n",
    "import matplotlib.pyplot as plt\n",
    "\n",
    "# 변환 전의 기준 벡터\n",
    "v = np.array([1, 0])\n",
    "\n",
    "# 선형 변환 행렬\n",
    "A = np.array([[2, 0], [0, 1]])\n",
    "\n",
    "# 변환 후의 벡터\n",
    "Av = np.dot(A, v)\n",
    "\n",
    "# 그래프 그리기\n",
    "fig, ax = plt.subplots()\n",
    "\n",
    "# 변환 전 벡터 그리기\n",
    "ax.quiver([0], [0], v[0], v[1], color='b', angles='xy', scale_units='xy', scale=1)\n",
    "\n",
    "# 변환 후 벡터 그리기\n",
    "ax.quiver([0], [0], Av[0], Av[1], color='r', angles='xy', scale_units='xy', scale=1)\n",
    "\n",
    "# 축 설정\n",
    "ax.set_xlim([-2, 2])\n",
    "ax.set_ylim([-2, 2])\n",
    "ax.set_xlabel('x')\n",
    "ax.set_ylabel('y')\n",
    "ax.grid()\n",
    "plt.show()"
   ]
  },
  {
   "cell_type": "code",
   "execution_count": 2,
   "id": "aabcd352",
   "metadata": {},
   "outputs": [
    {
     "name": "stdout",
     "output_type": "stream",
     "text": [
      "[[2 0]\n",
      " [0 1]] \n",
      "\n",
      "2.0\n"
     ]
    }
   ],
   "source": [
    "import numpy as np\n",
    "\n",
    "A = np.array([[2, 0], [0, 1]])\n",
    "\n",
    "print(A,'\\n')\n",
    "det_A = np.linalg.det(A)\n",
    "print(det_A)"
   ]
  },
  {
   "cell_type": "code",
   "execution_count": 3,
   "id": "56b4232f",
   "metadata": {},
   "outputs": [
    {
     "data": {
      "image/png": "[encoded data removed]",
      "text/plain": [
       "<Figure size 600x600 with 1 Axes>"
      ]
     },
     "metadata": {},
     "output_type": "display_data"
    }
   ],
   "source": [
    "# 변환 전의 기준 벡터\n",
    "v = np.array([1, 1])\n",
    "# 선형 변환 행렬\n",
    "A = np.array([[2, 0], [0, 1]])\n",
    "# 변환 후의 벡터\n",
    "Av = np.dot(A, v)\n",
    "\n",
    "# 그래프 그리기\n",
    "fig, ax = plt.subplots(figsize=(6,6))\n",
    "# 변환 전 벡터 그리기\n",
    "ax.quiver([0], [0], v[0], v[1], color='b', angles='xy', scale_units='xy', scale=1)\n",
    "# 변환 후 벡터 그리기\n",
    "ax.quiver([0], [0], Av[0], Av[1], color='r', angles='xy', scale_units='xy', scale=1)\n",
    "# 축 설정\n",
    "ax.set_xlim([-2, 2])\n",
    "ax.set_ylim([-2, 2])\n",
    "ax.set_xlabel('x')\n",
    "ax.set_ylabel('y')\n",
    "ax.grid()\n",
    "plt.show()"
   ]
  },
  {
   "cell_type": "code",
   "execution_count": 4,
   "id": "27e3993b",
   "metadata": {},
   "outputs": [
    {
     "name": "stdout",
     "output_type": "stream",
     "text": [
      "[[2 0]\n",
      " [0 1]] \n",
      "\n",
      "2.0\n"
     ]
    }
   ],
   "source": [
    "import numpy as np\n",
    "\n",
    "A = np.array([[2, 0], [0, 1]])\n",
    "\n",
    "print(A,'\\n')\n",
    "det_A = np.linalg.det(A)\n",
    "print(det_A)"
   ]
  },
  {
   "cell_type": "markdown",
   "id": "42e45d50",
   "metadata": {},
   "source": [
    "np.dot과 np.matmul의 차이\n",
    "\n",
    "- np.dot() 함수는 두 개의 배열을 인수로 받아서 내적(dot product)을 반환합니다. 내적은 두 배열의 대응하는 요소끼리 곱한 값을 모두 더한 것입니다. 즉, 두 배열이 1D 배열인 경우에는 벡터의 내적을 계산하고, 두 배열이 2D 배열인 경우에는 행렬 곱셈을 계산합니다. 이때 두 배열의 차원 수가 다르면 np.dot() 함수는 인수를 전치(transpose)하여 계산\n",
    "\n",
    "- np.matmul() 함수도 두 개의 배열을 인수로 받아서 행렬 곱셈을 반환합니다. 그러나 np.matmul() 함수는 3D 이상의 배열에 대해서도 계산이 가능합니다. 이때 np.matmul() 함수는 마지막 두 차원에 대해서만 행렬 곱셈을 수행\n",
    "\n",
    "- np.matmul() 함수는 첫 번째 배열의 마지막 차원(4)과 두 번째 배열의 두 번째 차원(4)을 곱하여 (2, 3, 3) 크기의 배열을 반환합니다.\n",
    "따라서, np.dot() 함수는 두 배열이 1D 배열이거나 2D 배열인 경우에 사용하고, np.matmul() 함수는 두 배열이 2D 이상인 경우에 사용\n",
    "\n",
    "https://m.blog.naver.com/PostView.naver?isHttpsRedirect=true&blogId=cjh226&logNo=221356884894"
   ]
  },
  {
   "cell_type": "code",
   "execution_count": null,
   "id": "398fb4cf",
   "metadata": {},
   "outputs": [],
   "source": [
    "a = np.array([[1,2,3],[4,5,6]])\n",
    "b = np.array([[7,8],[9,10],[11,12]])\n",
    "print(np.dot(a,b),'\\n')\n",
    "print(np.matmul(a,b))"
   ]
  },
  {
   "cell_type": "code",
   "execution_count": null,
   "id": "b4c88adf",
   "metadata": {},
   "outputs": [],
   "source": [
    "# 첫 번째 배열의 마지막 차원(4)과 두 번째 배열의 두 번째 차원(4)을 곱하여 \n",
    "# (2, 3, 3) 크기의 배열을 반환\n",
    "a = np.random.rand(2,3,4)\n",
    "b = np.random.rand(2,4,3)\n",
    "# print(np.dot(a,b),'\\n')\n",
    "print(np.matmul(a,b))"
   ]
  },
  {
   "cell_type": "markdown",
   "id": "cf7e41c5",
   "metadata": {},
   "source": [
    "### 과제1_0421.\n",
    "5차원 배열 2개를 생성하여 행렬곱을 계산하세요."
   ]
  },
  {
   "cell_type": "code",
   "execution_count": null,
   "id": "4ddd119e",
   "metadata": {},
   "outputs": [],
   "source": []
  },
  {
   "cell_type": "code",
   "execution_count": null,
   "id": "e105d625",
   "metadata": {},
   "outputs": [],
   "source": []
  },
  {
   "cell_type": "code",
   "execution_count": null,
   "id": "978bf387",
   "metadata": {},
   "outputs": [],
   "source": []
  },
  {
   "cell_type": "code",
   "execution_count": null,
   "id": "86319524",
   "metadata": {},
   "outputs": [],
   "source": []
  },
  {
   "cell_type": "code",
   "execution_count": 5,
   "id": "e3c3c3c1",
   "metadata": {},
   "outputs": [
    {
     "data": {
      "text/plain": [
       "array([[[[ 1.98252350e+00,  1.88139973e-02,  8.56926266e-01],\n",
       "         [ 1.36416204e+00,  6.72750330e-01, -1.29413276e+00],\n",
       "         [ 9.90142782e-02,  8.69601785e-01, -1.29014833e+00],\n",
       "         [-1.14697704e-01, -1.74726633e+00,  2.00344300e+00]],\n",
       "\n",
       "        [[-8.70491748e+00,  2.36686668e+00, -2.38779188e+00],\n",
       "         [ 1.47864757e+00, -5.74625424e-01,  7.87519416e-01],\n",
       "         [-2.08868050e+00,  2.09957159e+00,  5.67732929e-03],\n",
       "         [ 2.09078299e+00, -1.34030877e+00, -2.12277443e+00]],\n",
       "\n",
       "        [[-5.58152136e+00,  1.36260814e+00, -3.26459813e+00],\n",
       "         [ 1.83524847e+00, -2.89711456e+00,  2.05458438e+00],\n",
       "         [-1.44198366e+00,  1.80216557e+00, -3.74845389e+00],\n",
       "         [ 8.99374689e-01, -4.47393074e-01,  8.83805020e-01]]],\n",
       "\n",
       "\n",
       "       [[[ 1.22663084e+00, -3.59995368e+00,  6.46086640e+00],\n",
       "         [-7.73104270e-01,  1.56350750e+00, -7.69197219e-01],\n",
       "         [-1.53770774e+00, -6.14885806e-01,  1.53411941e+00],\n",
       "         [ 1.54841528e+00, -4.11080949e-01,  2.79827829e+00]],\n",
       "\n",
       "        [[ 1.84669961e+00,  2.22127583e+00, -2.85606365e+00],\n",
       "         [ 1.41114308e+00,  2.97808529e-01, -5.08527301e-01],\n",
       "         [-5.27948021e-01, -1.13401503e+00,  1.21263473e+00],\n",
       "         [ 4.16462186e-01,  2.78665458e+00,  4.95232069e-01]],\n",
       "\n",
       "        [[ 1.24745604e+00,  1.30311419e+00, -2.93709781e-01],\n",
       "         [-1.10016798e+00,  5.42747968e-01,  3.19367074e-01],\n",
       "         [ 7.78264075e-02, -1.34956231e+00,  2.09704748e+00],\n",
       "         [-6.30537902e+00, -4.45203590e+00, -2.72036201e-01]]]])"
      ]
     },
     "execution_count": 5,
     "metadata": {},
     "output_type": "execute_result"
    }
   ],
   "source": [
    "a = np.random.randn(2,3,4,5)\n",
    "b = np.random.randn(2,3,5,3)\n",
    "np.matmul(a,b)"
   ]
  },
  {
   "cell_type": "code",
   "execution_count": null,
   "id": "75a70508",
   "metadata": {},
   "outputs": [],
   "source": []
  },
  {
   "cell_type": "code",
   "execution_count": null,
   "id": "1dd8fd59",
   "metadata": {},
   "outputs": [],
   "source": []
  },
  {
   "cell_type": "code",
   "execution_count": null,
   "id": "a9471b16",
   "metadata": {},
   "outputs": [],
   "source": []
  }
 ],
 "metadata": {
  "kernelspec": {
   "display_name": "Python 3 (ipykernel)",
   "language": "python",
   "name": "python3"
  },
  "language_info": {
   "codemirror_mode": {
    "name": "ipython",
    "version": 3
   },
   "file_extension": ".py",
   "mimetype": "text/x-python",
   "name": "python",
   "nbconvert_exporter": "python",
   "pygments_lexer": "ipython3",
   "version": "3.10.9"
  }
 },
 "nbformat": 4,
 "nbformat_minor": 5
}

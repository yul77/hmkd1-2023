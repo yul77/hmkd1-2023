{
 "cells": [
  {
   "cell_type": "markdown",
   "id": "e7a5c1f8",
   "metadata": {},
   "source": [
    "# 1차원 데이터"
   ]
  },
  {
   "cell_type": "code",
   "execution_count": 1,
   "id": "6ce9f981",
   "metadata": {},
   "outputs": [
    {
     "data": {
      "text/html": [
       "<div>\n",
       "<style scoped>\n",
       "    .dataframe tbody tr th:only-of-type {\n",
       "        vertical-align: middle;\n",
       "    }\n",
       "\n",
       "    .dataframe tbody tr th {\n",
       "        vertical-align: top;\n",
       "    }\n",
       "\n",
       "    .dataframe thead th {\n",
       "        text-align: right;\n",
       "    }\n",
       "</style>\n",
       "<table border=\"1\" class=\"dataframe\">\n",
       "  <thead>\n",
       "    <tr style=\"text-align: right;\">\n",
       "      <th></th>\n",
       "      <th>english</th>\n",
       "      <th>mathematics</th>\n",
       "    </tr>\n",
       "    <tr>\n",
       "      <th>student number</th>\n",
       "      <th></th>\n",
       "      <th></th>\n",
       "    </tr>\n",
       "  </thead>\n",
       "  <tbody>\n",
       "    <tr>\n",
       "      <th>1</th>\n",
       "      <td>42</td>\n",
       "      <td>65</td>\n",
       "    </tr>\n",
       "    <tr>\n",
       "      <th>2</th>\n",
       "      <td>69</td>\n",
       "      <td>80</td>\n",
       "    </tr>\n",
       "    <tr>\n",
       "      <th>3</th>\n",
       "      <td>56</td>\n",
       "      <td>63</td>\n",
       "    </tr>\n",
       "    <tr>\n",
       "      <th>4</th>\n",
       "      <td>41</td>\n",
       "      <td>63</td>\n",
       "    </tr>\n",
       "    <tr>\n",
       "      <th>5</th>\n",
       "      <td>57</td>\n",
       "      <td>76</td>\n",
       "    </tr>\n",
       "  </tbody>\n",
       "</table>\n",
       "</div>"
      ],
      "text/plain": [
       "                english  mathematics\n",
       "student number                      \n",
       "1                    42           65\n",
       "2                    69           80\n",
       "3                    56           63\n",
       "4                    41           63\n",
       "5                    57           76"
      ]
     },
     "execution_count": 1,
     "metadata": {},
     "output_type": "execute_result"
    }
   ],
   "source": [
    "import numpy as np\n",
    "import pandas as pd\n",
    "df=pd.read_csv('./data/ch2_scores_em.csv',index_col='student number') #.이 하나면 같은 폴더 ..면 상위폴더\n",
    "df.head()"
   ]
  },
  {
   "cell_type": "code",
   "execution_count": 2,
   "id": "41cdf56c",
   "metadata": {},
   "outputs": [
    {
     "data": {
      "text/plain": [
       "array([42, 69, 56, 41, 57, 48, 65, 49, 65, 58], dtype=int64)"
      ]
     },
     "execution_count": 2,
     "metadata": {},
     "output_type": "execute_result"
    }
   ],
   "source": [
    "scores=np.array(df.english)[:10] #'english'열의 값을 가져와서 numpy array로 변환한 뒤 , 첫 10개의 값을 추출\n",
    "scores"
   ]
  },
  {
   "cell_type": "code",
   "execution_count": 3,
   "id": "5ad13ad7",
   "metadata": {},
   "outputs": [
    {
     "data": {
      "text/html": [
       "<div>\n",
       "<style scoped>\n",
       "    .dataframe tbody tr th:only-of-type {\n",
       "        vertical-align: middle;\n",
       "    }\n",
       "\n",
       "    .dataframe tbody tr th {\n",
       "        vertical-align: top;\n",
       "    }\n",
       "\n",
       "    .dataframe thead th {\n",
       "        text-align: right;\n",
       "    }\n",
       "</style>\n",
       "<table border=\"1\" class=\"dataframe\">\n",
       "  <thead>\n",
       "    <tr style=\"text-align: right;\">\n",
       "      <th></th>\n",
       "      <th>score</th>\n",
       "    </tr>\n",
       "  </thead>\n",
       "  <tbody>\n",
       "    <tr>\n",
       "      <th>A</th>\n",
       "      <td>42</td>\n",
       "    </tr>\n",
       "    <tr>\n",
       "      <th>B</th>\n",
       "      <td>69</td>\n",
       "    </tr>\n",
       "    <tr>\n",
       "      <th>C</th>\n",
       "      <td>56</td>\n",
       "    </tr>\n",
       "    <tr>\n",
       "      <th>E</th>\n",
       "      <td>41</td>\n",
       "    </tr>\n",
       "    <tr>\n",
       "      <th>D</th>\n",
       "      <td>57</td>\n",
       "    </tr>\n",
       "  </tbody>\n",
       "</table>\n",
       "</div>"
      ],
      "text/plain": [
       "   score\n",
       "A     42\n",
       "B     69\n",
       "C     56\n",
       "E     41\n",
       "D     57"
      ]
     },
     "execution_count": 3,
     "metadata": {},
     "output_type": "execute_result"
    }
   ],
   "source": [
    "scores_df=pd.DataFrame({'score':scores},index=list('ABCEDFGHIJ'))\n",
    "#numpy array인 scores를 이용하여 pandas DataFrame 객체인 scores_df 생성\n",
    "#{'score':scores} : 'score'라는 열에 'scores'배열의 값들을 저장\n",
    "#index=list('ABCDEFGHIJ') : 인덱스를 A부터 J 까지의 알파벳으로 설정\n",
    "\n",
    "scores_df.head()"
   ]
  },
  {
   "cell_type": "code",
   "execution_count": 5,
   "id": "0c1488cc",
   "metadata": {},
   "outputs": [
    {
     "data": {
      "text/html": [
       "<div>\n",
       "<style scoped>\n",
       "    .dataframe tbody tr th:only-of-type {\n",
       "        vertical-align: middle;\n",
       "    }\n",
       "\n",
       "    .dataframe tbody tr th {\n",
       "        vertical-align: top;\n",
       "    }\n",
       "\n",
       "    .dataframe thead th {\n",
       "        text-align: right;\n",
       "    }\n",
       "</style>\n",
       "<table border=\"1\" class=\"dataframe\">\n",
       "  <thead>\n",
       "    <tr style=\"text-align: right;\">\n",
       "      <th></th>\n",
       "      <th>score</th>\n",
       "    </tr>\n",
       "    <tr>\n",
       "      <th>student</th>\n",
       "      <th></th>\n",
       "    </tr>\n",
       "  </thead>\n",
       "  <tbody>\n",
       "    <tr>\n",
       "      <th>A</th>\n",
       "      <td>42</td>\n",
       "    </tr>\n",
       "    <tr>\n",
       "      <th>B</th>\n",
       "      <td>69</td>\n",
       "    </tr>\n",
       "    <tr>\n",
       "      <th>C</th>\n",
       "      <td>56</td>\n",
       "    </tr>\n",
       "    <tr>\n",
       "      <th>D</th>\n",
       "      <td>41</td>\n",
       "    </tr>\n",
       "    <tr>\n",
       "      <th>E</th>\n",
       "      <td>57</td>\n",
       "    </tr>\n",
       "    <tr>\n",
       "      <th>F</th>\n",
       "      <td>48</td>\n",
       "    </tr>\n",
       "    <tr>\n",
       "      <th>G</th>\n",
       "      <td>65</td>\n",
       "    </tr>\n",
       "    <tr>\n",
       "      <th>H</th>\n",
       "      <td>49</td>\n",
       "    </tr>\n",
       "    <tr>\n",
       "      <th>I</th>\n",
       "      <td>65</td>\n",
       "    </tr>\n",
       "    <tr>\n",
       "      <th>J</th>\n",
       "      <td>58</td>\n",
       "    </tr>\n",
       "  </tbody>\n",
       "</table>\n",
       "</div>"
      ],
      "text/plain": [
       "         score\n",
       "student       \n",
       "A           42\n",
       "B           69\n",
       "C           56\n",
       "D           41\n",
       "E           57\n",
       "F           48\n",
       "G           65\n",
       "H           49\n",
       "I           65\n",
       "J           58"
      ]
     },
     "execution_count": 5,
     "metadata": {},
     "output_type": "execute_result"
    }
   ],
   "source": [
    "# 위와 같은 내용+인덱스 열에 이름 부여 \n",
    "scores_df=pd.DataFrame({'score':scores},\n",
    "                      index=pd.Index(list('ABCDEFGHIJ'),name='student'))\n",
    "scores_df"
   ]
  },
  {
   "cell_type": "code",
   "execution_count": 6,
   "id": "176bff75",
   "metadata": {},
   "outputs": [
    {
     "name": "stdout",
     "output_type": "stream",
     "text": [
      "55.0\n",
      "55.0\n"
     ]
    }
   ],
   "source": [
    "#평균값 - 배열\n",
    "\n",
    "#방법 1\n",
    "print(sum(scores)/len(scores))\n",
    "#리스트 내 모든수의 합계(sum)를 리스트 내 아이템 갯수(len)로 나누어 평균값 구하기.\n",
    "\n",
    "#방법 2\n",
    "print(np.mean(scores)) \n",
    "#numpy의 mean 함수를 이용하여 평균값 구하기"
   ]
  },
  {
   "cell_type": "code",
   "execution_count": 8,
   "id": "3111ef0d",
   "metadata": {},
   "outputs": [
    {
     "data": {
      "text/plain": [
       "score    55.0\n",
       "dtype: float64"
      ]
     },
     "execution_count": 8,
     "metadata": {},
     "output_type": "execute_result"
    }
   ],
   "source": [
    "#평균값 - 데이터프레임\n",
    "\n",
    "scores_df.mean()\n",
    "\n",
    "#data frame의 각 열에대한 평균값을 반환하기 때문에, 반환되는 값은 Series 데이터 타입.\n",
    "#이렇게 계산된 평균값을 이용하여 다양한 분석 및 시각화 작업을 할 수 있다."
   ]
  },
  {
   "cell_type": "code",
   "execution_count": 9,
   "id": "3dcb70da",
   "metadata": {},
   "outputs": [
    {
     "name": "stdout",
     "output_type": "stream",
     "text": [
      "56.5\n",
      "score    56.5\n",
      "dtype: float64\n"
     ]
    }
   ],
   "source": [
    "#중앙값 (중간값)\n",
    "\n",
    "#배열 \n",
    "print(np.median(scores))\n",
    "\n",
    "#데이터프레임\n",
    "print(scores_df.median())\n",
    "\n",
    "#배열은 함수 먼저 쓰고 데이터 프레임은 함수가 뒤에 오네.\n",
    "#그리고 배열은 값만 나오고 데이터 프레임은 타입도 볼 수 있구만. "
   ]
  },
  {
   "cell_type": "code",
   "execution_count": 11,
   "id": "9f8e3e53",
   "metadata": {},
   "outputs": [
    {
     "data": {
      "text/plain": [
       "<AxesSubplot:ylabel='Frequency'>"
      ]
     },
     "execution_count": 11,
     "metadata": {},
     "output_type": "execute_result"
    },
    {
     "data": {
      "image/png": "[encoded data removed]",
      "text/plain": [
       "<Figure size 640x480 with 1 Axes>"
      ]
     },
     "metadata": {},
     "output_type": "display_data"
    }
   ],
   "source": [
    "scores_df.plot(kind='hist')\n",
    "#x축은 데이터 범위. y축은 해당 범위에 속한 데이터의 갯수"
   ]
  },
  {
   "cell_type": "code",
   "execution_count": 12,
   "id": "aa9442b1",
   "metadata": {},
   "outputs": [
    {
     "data": {
      "text/plain": [
       "array([41, 42, 48, 49, 56, 57, 58, 65, 65, 69], dtype=int64)"
      ]
     },
     "execution_count": 12,
     "metadata": {},
     "output_type": "execute_result"
    }
   ],
   "source": [
    "#정렬\n",
    "sorted_scores=np.sort(scores)\n",
    "sorted_scores"
   ]
  },
  {
   "cell_type": "code",
   "execution_count": 13,
   "id": "ab9397ba",
   "metadata": {},
   "outputs": [
    {
     "data": {
      "text/plain": [
       "56.5"
      ]
     },
     "execution_count": 13,
     "metadata": {},
     "output_type": "execute_result"
    }
   ],
   "source": [
    "#수동으로 중앙값 구하기 (값을 정렬한 후 리스트의 중간값 2개의 합 /2 )\n",
    "(56+57)/2"
   ]
  },
  {
   "cell_type": "code",
   "execution_count": 16,
   "id": "289bc869",
   "metadata": {},
   "outputs": [
    {
     "data": {
      "text/plain": [
       "56.5"
      ]
     },
     "execution_count": 16,
     "metadata": {},
     "output_type": "execute_result"
    }
   ],
   "source": [
    "# Q. 식으로 구하여라\n",
    "\n",
    "#중앙값 계산 코드\n",
    "\n",
    "n=len(sorted_scores) #sorted_scores 의 길이 (갯수)를 n에 저장\n",
    "\n",
    "if n%2==0: #짝수. %=나머지를 구하는 식으로 a나누기 2의 나머지가 0인 경우(짝수) 찾기\n",
    "    \n",
    "    m0=sorted_scores[n//2-1] #중간 인덱스에서 1을 뺀 값을 m0에 저장 ★노이해\n",
    "    m1=sorted_scores[n//2]  #인덱스 [n//2의 값을 m1에 저장\n",
    "    \n",
    "    #중간값을 구하기 위해서는 중간 인덱스를 구한 뒤\n",
    "    median=(m0+m1)/2 #그 인덱스에 해당하는 두 값을 더한 후 2로 나눈다\n",
    "    \n",
    "    \n",
    "else:\n",
    "    median=sorted_scores[(n+1)//2-1]\n",
    "    #(n+1)//2 는 중간 인덱스를 구하기 위한 계산식. 인덱스는 0부터 시작하므로 1을 더해준다.\n",
    "    #그리고 2로 나누기 위해 // 연산자 사용.\n",
    "median\n",
    "    \n",
    "    \n",
    "#m0 에서 -1을 하는 이유: 인덱스가 0부터 시작하기 때문\n",
    "#예를 들어, 만약 sorted_scores의 길이가 10이라면, 중간 인덱스는 4가 된다.\n",
    "#따라서 중간값을 구하기 위해서는 1을 뺀 3번째 값과 4번째 값의 합을 2로 나눈다"
   ]
  },
  {
   "cell_type": "code",
   "execution_count": 17,
   "id": "35734264",
   "metadata": {},
   "outputs": [
    {
     "data": {
      "text/html": [
       "<div>\n",
       "<style scoped>\n",
       "    .dataframe tbody tr th:only-of-type {\n",
       "        vertical-align: middle;\n",
       "    }\n",
       "\n",
       "    .dataframe tbody tr th {\n",
       "        vertical-align: top;\n",
       "    }\n",
       "\n",
       "    .dataframe thead th {\n",
       "        text-align: right;\n",
       "    }\n",
       "</style>\n",
       "<table border=\"1\" class=\"dataframe\">\n",
       "  <thead>\n",
       "    <tr style=\"text-align: right;\">\n",
       "      <th></th>\n",
       "      <th>score</th>\n",
       "    </tr>\n",
       "  </thead>\n",
       "  <tbody>\n",
       "    <tr>\n",
       "      <th>0</th>\n",
       "      <td>65</td>\n",
       "    </tr>\n",
       "  </tbody>\n",
       "</table>\n",
       "</div>"
      ],
      "text/plain": [
       "   score\n",
       "0     65"
      ]
     },
     "execution_count": 17,
     "metadata": {},
     "output_type": "execute_result"
    }
   ],
   "source": [
    "#최빈값 : 빈도수가 가장 많은 것\n",
    "\n",
    "scores_df.mode()\n",
    "\n",
    "#mode(): 최빈값 구하는 메소드. => 가장 자주 등장하는 값을 계산하고 그 값을 반환해준다.\n",
    "#최빈값이 여러개일 경우 모든 최빈값이 반환됨."
   ]
  },
  {
   "cell_type": "code",
   "execution_count": 19,
   "id": "0a484d14",
   "metadata": {},
   "outputs": [
    {
     "data": {
      "text/plain": [
       "0    65\n",
       "dtype: int64"
      ]
     },
     "execution_count": 19,
     "metadata": {},
     "output_type": "execute_result"
    }
   ],
   "source": [
    "pd.Series(sorted_scores).mode()\n",
    "\n",
    "#시리즈로 바꿔서 할 수도 있다"
   ]
  },
  {
   "cell_type": "code",
   "execution_count": 21,
   "id": "9d0efd2e",
   "metadata": {},
   "outputs": [
    {
     "data": {
      "text/html": [
       "<div>\n",
       "<style scoped>\n",
       "    .dataframe tbody tr th:only-of-type {\n",
       "        vertical-align: middle;\n",
       "    }\n",
       "\n",
       "    .dataframe tbody tr th {\n",
       "        vertical-align: top;\n",
       "    }\n",
       "\n",
       "    .dataframe thead th {\n",
       "        text-align: right;\n",
       "    }\n",
       "</style>\n",
       "<table border=\"1\" class=\"dataframe\">\n",
       "  <thead>\n",
       "    <tr style=\"text-align: right;\">\n",
       "      <th></th>\n",
       "      <th>score</th>\n",
       "    </tr>\n",
       "  </thead>\n",
       "  <tbody>\n",
       "    <tr>\n",
       "      <th>count</th>\n",
       "      <td>10.000000</td>\n",
       "    </tr>\n",
       "    <tr>\n",
       "      <th>mean</th>\n",
       "      <td>55.000000</td>\n",
       "    </tr>\n",
       "    <tr>\n",
       "      <th>std</th>\n",
       "      <td>9.775252</td>\n",
       "    </tr>\n",
       "    <tr>\n",
       "      <th>min</th>\n",
       "      <td>41.000000</td>\n",
       "    </tr>\n",
       "    <tr>\n",
       "      <th>25%</th>\n",
       "      <td>48.250000</td>\n",
       "    </tr>\n",
       "    <tr>\n",
       "      <th>50%</th>\n",
       "      <td>56.500000</td>\n",
       "    </tr>\n",
       "    <tr>\n",
       "      <th>75%</th>\n",
       "      <td>63.250000</td>\n",
       "    </tr>\n",
       "    <tr>\n",
       "      <th>max</th>\n",
       "      <td>69.000000</td>\n",
       "    </tr>\n",
       "  </tbody>\n",
       "</table>\n",
       "</div>"
      ],
      "text/plain": [
       "           score\n",
       "count  10.000000\n",
       "mean   55.000000\n",
       "std     9.775252\n",
       "min    41.000000\n",
       "25%    48.250000\n",
       "50%    56.500000\n",
       "75%    63.250000\n",
       "max    69.000000"
      ]
     },
     "execution_count": 21,
     "metadata": {},
     "output_type": "execute_result"
    }
   ],
   "source": [
    "scores_df.describe() #통계 요약표"
   ]
  },
  {
   "cell_type": "code",
   "execution_count": 22,
   "id": "010719d4",
   "metadata": {
    "scrolled": false
   },
   "outputs": [
    {
     "data": {
      "text/plain": [
       "<AxesSubplot:xlabel='score', ylabel='Density'>"
      ]
     },
     "execution_count": 22,
     "metadata": {},
     "output_type": "execute_result"
    },
    {
     "data": {
      "image/png": "[encoded data removed]",
      "text/plain": [
       "<Figure size 640x480 with 1 Axes>"
      ]
     },
     "metadata": {},
     "output_type": "display_data"
    }
   ],
   "source": [
    "import seaborn as sns\n",
    "sns.kdeplot(data=scores_df,x='score')\n",
    "\n",
    "#kdfplot( 커널 밀도 추정 그래프) :  seaborn\n",
    "#데이터셋의 확률 밀도 함수를 추정하는 데 사용. 데이터의 분포를 더욱 부드럽게 표현"
   ]
  },
  {
   "cell_type": "markdown",
   "id": "69cdd2c3",
   "metadata": {},
   "source": [
    "#### 헷갈리는 어휘\n",
    "\n",
    "<font color=blue>'데이터 분포가 치우친'</font>거랑 <font color=blue>'데이터값이 몰린'</font>거랑 의미가 다름.\n",
    "- 꼬리가 오른쪽으로 길게 늘어져 있는건 -> 데이터 <font color=blue>분포</font>가 오른쪽으로 치우쳤다 \n",
    "- 히스토그램에서 데이터들의 빈도(개수)가 앞쪽에 높게 돼 있는 건 -> 데이터<font color=blue>값</font>이 왼쪽으로 몰렸다"
   ]
  },
  {
   "cell_type": "code",
   "execution_count": 24,
   "id": "74d6e748",
   "metadata": {},
   "outputs": [
    {
     "data": {
      "text/html": [
       "<div>\n",
       "<style scoped>\n",
       "    .dataframe tbody tr th:only-of-type {\n",
       "        vertical-align: middle;\n",
       "    }\n",
       "\n",
       "    .dataframe tbody tr th {\n",
       "        vertical-align: top;\n",
       "    }\n",
       "\n",
       "    .dataframe thead th {\n",
       "        text-align: right;\n",
       "    }\n",
       "</style>\n",
       "<table border=\"1\" class=\"dataframe\">\n",
       "  <thead>\n",
       "    <tr style=\"text-align: right;\">\n",
       "      <th></th>\n",
       "      <th>score</th>\n",
       "    </tr>\n",
       "  </thead>\n",
       "  <tbody>\n",
       "    <tr>\n",
       "      <th>count</th>\n",
       "      <td>10.000000</td>\n",
       "    </tr>\n",
       "    <tr>\n",
       "      <th>mean</th>\n",
       "      <td>79.200000</td>\n",
       "    </tr>\n",
       "    <tr>\n",
       "      <th>std</th>\n",
       "      <td>78.187524</td>\n",
       "    </tr>\n",
       "    <tr>\n",
       "      <th>min</th>\n",
       "      <td>41.000000</td>\n",
       "    </tr>\n",
       "    <tr>\n",
       "      <th>25%</th>\n",
       "      <td>48.250000</td>\n",
       "    </tr>\n",
       "    <tr>\n",
       "      <th>50%</th>\n",
       "      <td>56.500000</td>\n",
       "    </tr>\n",
       "    <tr>\n",
       "      <th>75%</th>\n",
       "      <td>65.000000</td>\n",
       "    </tr>\n",
       "    <tr>\n",
       "      <th>max</th>\n",
       "      <td>300.000000</td>\n",
       "    </tr>\n",
       "  </tbody>\n",
       "</table>\n",
       "</div>"
      ],
      "text/plain": [
       "            score\n",
       "count   10.000000\n",
       "mean    79.200000\n",
       "std     78.187524\n",
       "min     41.000000\n",
       "25%     48.250000\n",
       "50%     56.500000\n",
       "75%     65.000000\n",
       "max    300.000000"
      ]
     },
     "execution_count": 24,
     "metadata": {},
     "output_type": "execute_result"
    },
    {
     "data": {
      "image/png": "[encoded data removed]",
      "text/plain": [
       "<Figure size 640x480 with 1 Axes>"
      ]
     },
     "metadata": {},
     "output_type": "display_data"
    }
   ],
   "source": [
    "#평균값 > 중앙값\n",
    "\n",
    "scores_df_b=scores_df.copy()\n",
    "scores_df_b.iloc[9,0]=300  #마지막 행의 값으로 300을 만듦\n",
    "sns.histplot(data=scores_df_b, x='score',kde=True) #score열을 x축으로 사용. kde(커널 밀도 추정 그래프)사용\n",
    "scores_df_b.describe()\n",
    "\n",
    "#극단적으로 큰 수가 있게 되면 평균이 중앙값보다 오른쪽에 있다.\n",
    "#오른쪽으로 치우친 (skewed right) 분포는 작은 수가 왼쪽에 몰려있고 큰수가 우측으로 넓게 퍼져잇음\n"
   ]
  },
  {
   "cell_type": "code",
   "execution_count": 27,
   "id": "35cc2895",
   "metadata": {},
   "outputs": [
    {
     "data": {
      "text/html": [
       "<div>\n",
       "<style scoped>\n",
       "    .dataframe tbody tr th:only-of-type {\n",
       "        vertical-align: middle;\n",
       "    }\n",
       "\n",
       "    .dataframe tbody tr th {\n",
       "        vertical-align: top;\n",
       "    }\n",
       "\n",
       "    .dataframe thead th {\n",
       "        text-align: right;\n",
       "    }\n",
       "</style>\n",
       "<table border=\"1\" class=\"dataframe\">\n",
       "  <thead>\n",
       "    <tr style=\"text-align: right;\">\n",
       "      <th></th>\n",
       "      <th>score</th>\n",
       "    </tr>\n",
       "  </thead>\n",
       "  <tbody>\n",
       "    <tr>\n",
       "      <th>count</th>\n",
       "      <td>10.000000</td>\n",
       "    </tr>\n",
       "    <tr>\n",
       "      <th>mean</th>\n",
       "      <td>49.300000</td>\n",
       "    </tr>\n",
       "    <tr>\n",
       "      <th>std</th>\n",
       "      <td>19.556471</td>\n",
       "    </tr>\n",
       "    <tr>\n",
       "      <th>min</th>\n",
       "      <td>1.000000</td>\n",
       "    </tr>\n",
       "    <tr>\n",
       "      <th>25%</th>\n",
       "      <td>43.500000</td>\n",
       "    </tr>\n",
       "    <tr>\n",
       "      <th>50%</th>\n",
       "      <td>52.500000</td>\n",
       "    </tr>\n",
       "    <tr>\n",
       "      <th>75%</th>\n",
       "      <td>63.000000</td>\n",
       "    </tr>\n",
       "    <tr>\n",
       "      <th>max</th>\n",
       "      <td>69.000000</td>\n",
       "    </tr>\n",
       "  </tbody>\n",
       "</table>\n",
       "</div>"
      ],
      "text/plain": [
       "           score\n",
       "count  10.000000\n",
       "mean   49.300000\n",
       "std    19.556471\n",
       "min     1.000000\n",
       "25%    43.500000\n",
       "50%    52.500000\n",
       "75%    63.000000\n",
       "max    69.000000"
      ]
     },
     "execution_count": 27,
     "metadata": {},
     "output_type": "execute_result"
    },
    {
     "data": {
      "image/png": "[encoded data removed]",
      "text/plain": [
       "<Figure size 640x480 with 1 Axes>"
      ]
     },
     "metadata": {},
     "output_type": "display_data"
    }
   ],
   "source": [
    "#평균값 < 중앙값\n",
    "\n",
    "scores_df_a = scores_df.copy()\n",
    "scores_df_a.iloc[9,0]=1\n",
    "sns.histplot(data=scores_df_a,x='score',kde=True)\n",
    "scores_df_a.describe()\n",
    "\n",
    "# 극단적으로 작은 수인 1이 들어가면서 평균이 중앙값보다 작아진다. = 분포가 왼쪽으로 치우져진다.\n",
    "#왼쪽으로 치우진 (skewed left) 분포는 수가 우측에 몰려있고 작은 수가 왼쪽으로 퍼져있다."
   ]
  },
  {
   "cell_type": "code",
   "execution_count": 29,
   "id": "367cbb58",
   "metadata": {},
   "outputs": [
    {
     "name": "stdout",
     "output_type": "stream",
     "text": [
      "55.0\n",
      "[42 69 56 41 57 48 65 49 65 58]\n",
      "[-13.  14.   1. -14.   2.  -7.  10.  -6.  10.   3.]\n"
     ]
    }
   ],
   "source": [
    "#데이터의 산포도 지표\n",
    "#분산과 표준편차\n",
    "#편차 (deviation)\n",
    "\n",
    "mean=np.mean(scores)\n",
    "print(mean)\n",
    "print(scores)\n",
    "deviation=scores-mean #deviation: 편차. 편차의 합은 항상 0이 된다\n",
    "print(deviation) "
   ]
  },
  {
   "cell_type": "code",
   "execution_count": 31,
   "id": "0d2ee3a8",
   "metadata": {},
   "outputs": [
    {
     "name": "stdout",
     "output_type": "stream",
     "text": [
      "0.0\n",
      "0.0\n"
     ]
    }
   ],
   "source": [
    "print(sum(deviation))\n",
    "print(np.mean(deviation))\n",
    "\n",
    "#분산: 편차를 제곱한 값의 평균 . (편차의 합이 항상 0이 되기 때문에 자승해준다. 그래서 실제보다 과장됨.)\n",
    "#표준편차: 분산이 실제보다 과장되므로 √를 씌워준다. (=분산의 제곱근)\n",
    "#ex)√4=2"
   ]
  },
  {
   "cell_type": "markdown",
   "id": "6112fcec",
   "metadata": {},
   "source": [
    "## 분산 \n",
    "- Numpy와 Pandas는 서로 다른 분산을 기본으로 설정하여 계산.\n",
    "    - Numpy는 표본분산, Pandas는 불편분산\n",
    "    - Pandas에서 표본분산을 계산하려면 var메소드의 인수를 ddof=0 이라고 설정. 불편분산은 ddof=1일때 해당.\n",
    "[표본분산이 분산을 과소평가하는 이유]\n",
    "- <font color=blue>분산은 데이터와 평균간의 거리</font>이므로 모평균 간의 거리를 계산:<span style=\"background-color:#9370DB\"> np.sum((fish_data-mu)**2)/N</span> <br>\n",
    "    호수안에 물고기가 7마리 있다. 몸길이 {1,2,3,4,5,6,7}, 모평균 4, 샘플링 3마리 {1,2,3}.표본평균 2.<br>\n",
    "    이때 분산은 모평균을 모르기 때문에 표본평균과의 거리를 계산하며 분산을 과소평가하게 된다. (표준편차를 비교해라)\n",
    "- 표본 분산보다 조금 더 큰 값이 되도록 보정하기 위하여 N 대신 N-1로 나누어 불편분산을 구할 수 있다.\n",
    "- 불편분산: 편향되지 않게 조절해준다. (과소평가 되는 것을 보완)"
   ]
  },
  {
   "cell_type": "code",
   "execution_count": 32,
   "id": "0230b200",
   "metadata": {},
   "outputs": [
    {
     "data": {
      "text/plain": [
       "86.0"
      ]
     },
     "execution_count": 32,
     "metadata": {},
     "output_type": "execute_result"
    }
   ],
   "source": [
    "#넘파이 - 표본분산\n",
    "\n",
    "np.mean(deviation**2) #deviation 자승한것의 평균 = 분산"
   ]
  },
  {
   "cell_type": "code",
   "execution_count": 33,
   "id": "55b00e13",
   "metadata": {},
   "outputs": [
    {
     "data": {
      "text/plain": [
       "86.0"
      ]
     },
     "execution_count": 33,
     "metadata": {},
     "output_type": "execute_result"
    }
   ],
   "source": [
    "np.var(scores) #var() : 분산을 계산하는 함수 "
   ]
  },
  {
   "cell_type": "code",
   "execution_count": 34,
   "id": "0d1c0aed",
   "metadata": {},
   "outputs": [
    {
     "data": {
      "text/plain": [
       "score    95.555556\n",
       "dtype: float64"
      ]
     },
     "execution_count": 34,
     "metadata": {},
     "output_type": "execute_result"
    }
   ],
   "source": [
    "#판다스 - 불편분산\n",
    "scores_df.var()"
   ]
  },
  {
   "cell_type": "code",
   "execution_count": null,
   "id": "5a12e8db",
   "metadata": {},
   "outputs": [],
   "source": [
    "#넘파이로 불편분산. 판다스로 표본분산 구할때 ddof를 사용하게 된다.\n",
    "#넘파이- > 불편분산 : ddof=1\n",
    "#판다스 -> 표본분산 : ddof=0"
   ]
  },
  {
   "cell_type": "code",
   "execution_count": 36,
   "id": "b0a6fc38",
   "metadata": {},
   "outputs": [
    {
     "data": {
      "text/plain": [
       "95.55555555555556"
      ]
     },
     "execution_count": 36,
     "metadata": {},
     "output_type": "execute_result"
    }
   ],
   "source": [
    "#넘파이- > 불편분산 : ddof=1\n",
    "np.var(scores,ddof=1) #불편분산이 추출 됨"
   ]
  },
  {
   "cell_type": "code",
   "execution_count": 37,
   "id": "08a79956",
   "metadata": {},
   "outputs": [
    {
     "data": {
      "text/plain": [
       "score    86.0\n",
       "dtype: float64"
      ]
     },
     "execution_count": 37,
     "metadata": {},
     "output_type": "execute_result"
    }
   ],
   "source": [
    "#판다스 -> 표본분산 : ddof=0\n",
    "scores_df.var(ddof=0)"
   ]
  },
  {
   "cell_type": "code",
   "execution_count": 39,
   "id": "c7e84576",
   "metadata": {},
   "outputs": [
    {
     "name": "stdout",
     "output_type": "stream",
     "text": [
      "9.273618495495704\n",
      "9.273618495495704\n"
     ]
    }
   ],
   "source": [
    "#표준편차\n",
    "\n",
    "print(np.sqrt(np.var(scores,ddof=0))) #sqrt: 스퀘어 루트 =루트씌워주는 함수\n",
    "print(np.std(scores,ddof=0))  #std:표준편차 구하는 식"
   ]
  },
  {
   "cell_type": "code",
   "execution_count": 40,
   "id": "c558b3d6",
   "metadata": {},
   "outputs": [
    {
     "data": {
      "text/plain": [
       "28"
      ]
     },
     "execution_count": 40,
     "metadata": {},
     "output_type": "execute_result"
    }
   ],
   "source": [
    "#범위와 4분위\n",
    "#범위 : 가장큰수 - 가장 작은 수\n",
    "\n",
    "np.max(scores)-np.min(scores)"
   ]
  },
  {
   "cell_type": "code",
   "execution_count": 41,
   "id": "d00cfa6f",
   "metadata": {},
   "outputs": [
    {
     "data": {
      "text/plain": [
       "15.0"
      ]
     },
     "execution_count": 41,
     "metadata": {},
     "output_type": "execute_result"
    }
   ],
   "source": [
    "#4분위\n",
    "\n",
    "scores_Q1=np.percentile(scores,25)  #25% . 1사분위 \n",
    "scores_Q3=np.percentile(scores,75)  #75%   3사분위\n",
    "scores_IQR=scores_Q3-scores_Q1\n",
    "scores_IQR  \n",
    "#IQR :  IQR(Interquartile Range, 사분위 범위). 데이터가 얼마나 퍼져있는지 보여주는 지표 준 하나\n",
    "#IQR은 Q3 - Q1로 정의"
   ]
  },
  {
   "cell_type": "code",
   "execution_count": 43,
   "id": "0b2303bf",
   "metadata": {
    "scrolled": true
   },
   "outputs": [
    {
     "data": {
      "text/plain": [
       "count    10.000000\n",
       "mean     55.000000\n",
       "std       9.775252\n",
       "min      41.000000\n",
       "25%      48.250000\n",
       "50%      56.500000\n",
       "75%      63.250000\n",
       "max      69.000000\n",
       "dtype: float64"
      ]
     },
     "execution_count": 43,
     "metadata": {},
     "output_type": "execute_result"
    }
   ],
   "source": [
    "pd.Series(scores).describe() #scores를 pandas로 바꿔야 describe 확인 가능. "
   ]
  },
  {
   "cell_type": "markdown",
   "id": "34825556",
   "metadata": {},
   "source": [
    "### 데이터를 정규화하는 이유<br>\n",
    "서로 다른 변수 간의 스케일 차이를 줄여줌으로써, 변수들이 가지는 중요도를 비교하기 쉬워지며, 모델의 성능을 향상시키는데 도움이 된다.<br>\n",
    "\n",
    "- 데이터를 정규화하기 위해서는 여러 가지 방법이 있으며, 그 중 가장 일반적인 방법은 표준화(standardization)와 정규화(normalization)입니다.\n",
    "-<font color=blue> 표준화</font>: 평균이 0, 표준편차가 1이 되도록 스케일을 맞춰주는 것.<span style=\"background-color:#6A5ACD\"> z=(x-mean)/std</span>\n",
    "- <font color=blue>정규화</font>: 데이터의 범위를 [0,1] 또는 [-1,1]로 맞춰주는 것.<span style=\"background-color:#6A5ACD\">x_norm=(c-min)/(max-min)</span>"
   ]
  },
  {
   "cell_type": "code",
   "execution_count": 44,
   "id": "1a7252a1",
   "metadata": {},
   "outputs": [
    {
     "name": "stdout",
     "output_type": "stream",
     "text": [
      "[42 69 56 41 57 48 65 49 65 58]\n",
      "평균: 55.0, 표준편차:9.2736\n"
     ]
    }
   ],
   "source": [
    "#데이터의 정규화 \n",
    "#서로 다른 변수 간의 스케일 차이를 줄여줌으로써, 변수들이 가지는 중요도를 비교하기 쉽게 만들어 주는 것\n",
    "\n",
    "print(scores)\n",
    "print(f'평균: {scores.mean()}, 표준편차:{scores.std().round(4)}')"
   ]
  },
  {
   "cell_type": "code",
   "execution_count": 46,
   "id": "5ff002ad",
   "metadata": {},
   "outputs": [
    {
     "data": {
      "text/plain": [
       "array([-1.40182605,  1.50965882,  0.10783277, -1.50965882,  0.21566555,\n",
       "       -0.75482941,  1.07832773, -0.64699664,  1.07832773,  0.32349832])"
      ]
     },
     "execution_count": 46,
     "metadata": {},
     "output_type": "execute_result"
    }
   ],
   "source": [
    "#표준화 \n",
    "\n",
    "z=(scores-np.mean(scores))/ np.std(scores) #데이터에서 평균을 뺀것을 표준편차로 나눔.\n",
    "z #평균이 0, 표준편차 1"
   ]
  },
  {
   "cell_type": "code",
   "execution_count": 47,
   "id": "d0fff147",
   "metadata": {},
   "outputs": [
    {
     "data": {
      "text/plain": [
       "array([42., 69., 56., 41., 57., 48., 65., 49., 65., 58.])"
      ]
     },
     "execution_count": 47,
     "metadata": {},
     "output_type": "execute_result"
    }
   ],
   "source": [
    "# 표준화를 거꾸로 \n",
    "55.0+z*scores.std() #z에 표준편차를 곱해주고 평균을 더해줌"
   ]
  },
  {
   "cell_type": "code",
   "execution_count": 72,
   "id": "a8ba4ced",
   "metadata": {},
   "outputs": [
    {
     "data": {
      "text/plain": [
       "count    50.000000\n",
       "mean     58.380000\n",
       "std       9.799813\n",
       "min      37.000000\n",
       "25%      54.000000\n",
       "50%      57.500000\n",
       "75%      65.000000\n",
       "max      79.000000\n",
       "dtype: float64"
      ]
     },
     "execution_count": 72,
     "metadata": {},
     "output_type": "execute_result"
    }
   ],
   "source": [
    "#데이터의 시각화 \n",
    "\n",
    "english_scores=np.array(df.english) #여기까지는 배열\n",
    "pd.Series(english_scores).describe() #describe 보기위해 시리즈로 변경"
   ]
  },
  {
   "cell_type": "code",
   "execution_count": 73,
   "id": "5726553b",
   "metadata": {},
   "outputs": [
    {
     "data": {
      "text/plain": [
       "array([ 0,  0,  0,  2,  8, 16, 18,  6,  0,  0], dtype=int64)"
      ]
     },
     "execution_count": 73,
     "metadata": {},
     "output_type": "execute_result"
    }
   ],
   "source": [
    "#도수 분포표\n",
    "\n",
    "freq,_=np.histogram(english_scores,bins=10,range=(0,100))\n",
    "freq\n",
    "\n",
    "#최소값이 37이고 최대값이 79이므로 그 사이의 값들만 출력 \n",
    "#30~40점 구간:2, 40~50점 구간: 8, 50~60점 구간:16, 60~70점 구간: 18, 70~80점 구간:6 개의 데이터가 속한다.\n",
    "\n",
    "\n",
    "\n",
    "#freq: 각 구간에 속하는 데이터의 개수를 담을 리스트. \n",
    "#_: 각 구간의 경계값을 담은 리스트. 이 코드에서 '_'를 사용하지 않으므로 무시한다. \n",
    "#hitogram(): 입력으로 받은 리스트를 bins로 나누어 각 구간에 속하는 데이터의 개수를 계산.\n",
    "#range=(0,100): 데이터 범위를 0~100점으로 제한"
   ]
  },
  {
   "cell_type": "code",
   "execution_count": 53,
   "id": "4f7fe249",
   "metadata": {},
   "outputs": [
    {
     "name": "stdout",
     "output_type": "stream",
     "text": [
      "['0~10', '10~20', '20~30', '30~40', '40~50', '50~60', '60~70', '70~80', '80~90', '90~100'] \n",
      "\n",
      "        frequency\n",
      "class            \n",
      "0~10            0\n",
      "10~20           0\n",
      "20~30           0\n",
      "30~40           2\n",
      "40~50           8\n",
      "50~60          16\n",
      "60~70          18\n",
      "70~80           6\n",
      "80~90           0\n",
      "90~100          0\n"
     ]
    }
   ],
   "source": [
    "#도수분포표 \n",
    "\n",
    "freq_class=[f'{i}~{i+10}'for i in range(0,100,10)]\n",
    "#0~90까지 10씩 증가하는 숫자들을 문자열 형태로 변환하여 리스트에 저장.ex)헤당 구간에 0~10이가는 문자열 반환\n",
    "\n",
    "freq_dist_df=pd.DataFrame({'frequency':freq},index=pd.Index(freq_class,name='class'))\n",
    "#데이터프레임 생성-이 딕셔너리는 'frequency'라는 이름의 키에 `freq` 리스트를 값으로 저장\n",
    "# `freq_class` 리스트를 인덱스로 지정하고, 이 인덱스의 이름을 'class'로 지정\n",
    "\n",
    "print(freq_class,'\\n')\n",
    "print(freq_dist_df)"
   ]
  },
  {
   "cell_type": "code",
   "execution_count": 54,
   "id": "826b5d64",
   "metadata": {},
   "outputs": [
    {
     "data": {
      "text/plain": [
       "<AxesSubplot:xlabel='frequency', ylabel='Count'>"
      ]
     },
     "execution_count": 54,
     "metadata": {},
     "output_type": "execute_result"
    },
    {
     "data": {
      "image/png": "[encoded data removed]",
      "text/plain": [
       "<Figure size 640x480 with 1 Axes>"
      ]
     },
     "metadata": {},
     "output_type": "display_data"
    }
   ],
   "source": [
    "sns.histplot(data=freq_dist_df, x='frequency', kde=True)"
   ]
  },
  {
   "cell_type": "code",
   "execution_count": 56,
   "id": "65861244",
   "metadata": {},
   "outputs": [
    {
     "data": {
      "text/plain": [
       "[5, 15, 25, 35, 45, 55, 65, 75, 85, 95]"
      ]
     },
     "execution_count": 56,
     "metadata": {},
     "output_type": "execute_result"
    }
   ],
   "source": [
    "#계급값: 각 계급을 대표하는 값으로 계급의 중앙값이 이용됨.\n",
    "# 0부터 90까지 10씩 증가하는 숫자들의 중심값(class value)을 계산하는 코드\n",
    "\n",
    "class_value=[(i+(i+10))//2 for i in range(0,100,10)]\n",
    "#0~90까지 10씩 증가하는 숫자들에 대해 해당 숫자와 그 다음 숫자의 합을 구한다\n",
    "#ex:0과 10의 중심값은 (0+10)//2 = 5. 10과 20의 중심값은 15이므로, (10+20)//2 = 15\n",
    "class_value"
   ]
  },
  {
   "cell_type": "code",
   "execution_count": 57,
   "id": "18393b19",
   "metadata": {},
   "outputs": [
    {
     "data": {
      "text/plain": [
       "array([0.  , 0.  , 0.  , 0.04, 0.16, 0.32, 0.36, 0.12, 0.  , 0.  ])"
      ]
     },
     "execution_count": 57,
     "metadata": {},
     "output_type": "execute_result"
    }
   ],
   "source": [
    "#상대도수 : 해당 계급 데이터의 상대적 비율\n",
    "\n",
    "rel_freq=freq/freq.sum() \n",
    "rel_freq\n",
    "\n",
    "#freq: 어떤 데이터의 도수분포표에서 각 구간에 속하는 데이터의 빈도수\n",
    "#freq.sun() : freq리스트의 합. =데이터의 총 빈도수 \n",
    "#rel_freq : freq / 총빈도수 = 각 구간의 상대도수\n",
    "#4번 구간의 상대도수가 0.04 이므로 4%가 4번 구간에 속한다는 뜻. 5번 구간은 16%..."
   ]
  },
  {
   "cell_type": "code",
   "execution_count": 58,
   "id": "66e7a006",
   "metadata": {},
   "outputs": [
    {
     "data": {
      "text/plain": [
       "array([0.  , 0.  , 0.  , 0.04, 0.2 , 0.52, 0.88, 1.  , 1.  , 1.  ])"
      ]
     },
     "execution_count": 58,
     "metadata": {},
     "output_type": "execute_result"
    }
   ],
   "source": [
    "#누적 상대도수 : 해당 계급까지의 상대도수의 합. cum_rel_freq = 누계\n",
    "cum_rel_freq=np.cumsum(rel_freq)\n",
    "cum_rel_freq\n",
    "\n",
    "\n",
    "#rel_freq : 도수분포표에서 각 구간의 상대도수를 나타내는 리스트\n",
    "#np.cumsum() : 리스트의 누적합을 구한다. \n",
    "#이 누적 상대도수는 각 구간 이하의 상대도수의 합.\n",
    "#ex1) 1번~5번구간의 누적 상대도수 = 0.04+0.16=0.20 이므로 데이터중 20%가 4번부터 5번 구간 까지에 속한다.\n",
    "#ex2) 1번~6번까지의 누적 상대도수= 0.04+0.16+0.32 = 0.52 데이터중 52%가 1번~6번 구간 까지에 속한다. "
   ]
  },
  {
   "cell_type": "code",
   "execution_count": 60,
   "id": "35146a4f",
   "metadata": {},
   "outputs": [
    {
     "data": {
      "text/html": [
       "<div>\n",
       "<style scoped>\n",
       "    .dataframe tbody tr th:only-of-type {\n",
       "        vertical-align: middle;\n",
       "    }\n",
       "\n",
       "    .dataframe tbody tr th {\n",
       "        vertical-align: top;\n",
       "    }\n",
       "\n",
       "    .dataframe thead th {\n",
       "        text-align: right;\n",
       "    }\n",
       "</style>\n",
       "<table border=\"1\" class=\"dataframe\">\n",
       "  <thead>\n",
       "    <tr style=\"text-align: right;\">\n",
       "      <th></th>\n",
       "      <th>class_value</th>\n",
       "      <th>frequency</th>\n",
       "      <th>relative_frequency</th>\n",
       "      <th>cumulative_frequency</th>\n",
       "    </tr>\n",
       "    <tr>\n",
       "      <th>class</th>\n",
       "      <th></th>\n",
       "      <th></th>\n",
       "      <th></th>\n",
       "      <th></th>\n",
       "    </tr>\n",
       "  </thead>\n",
       "  <tbody>\n",
       "    <tr>\n",
       "      <th>0~10</th>\n",
       "      <td>5</td>\n",
       "      <td>0</td>\n",
       "      <td>0.00</td>\n",
       "      <td>0.00</td>\n",
       "    </tr>\n",
       "    <tr>\n",
       "      <th>10~20</th>\n",
       "      <td>15</td>\n",
       "      <td>0</td>\n",
       "      <td>0.00</td>\n",
       "      <td>0.00</td>\n",
       "    </tr>\n",
       "    <tr>\n",
       "      <th>20~30</th>\n",
       "      <td>25</td>\n",
       "      <td>0</td>\n",
       "      <td>0.00</td>\n",
       "      <td>0.00</td>\n",
       "    </tr>\n",
       "    <tr>\n",
       "      <th>30~40</th>\n",
       "      <td>35</td>\n",
       "      <td>2</td>\n",
       "      <td>0.04</td>\n",
       "      <td>0.04</td>\n",
       "    </tr>\n",
       "    <tr>\n",
       "      <th>40~50</th>\n",
       "      <td>45</td>\n",
       "      <td>8</td>\n",
       "      <td>0.16</td>\n",
       "      <td>0.20</td>\n",
       "    </tr>\n",
       "    <tr>\n",
       "      <th>50~60</th>\n",
       "      <td>55</td>\n",
       "      <td>16</td>\n",
       "      <td>0.32</td>\n",
       "      <td>0.52</td>\n",
       "    </tr>\n",
       "    <tr>\n",
       "      <th>60~70</th>\n",
       "      <td>65</td>\n",
       "      <td>18</td>\n",
       "      <td>0.36</td>\n",
       "      <td>0.88</td>\n",
       "    </tr>\n",
       "    <tr>\n",
       "      <th>70~80</th>\n",
       "      <td>75</td>\n",
       "      <td>6</td>\n",
       "      <td>0.12</td>\n",
       "      <td>1.00</td>\n",
       "    </tr>\n",
       "    <tr>\n",
       "      <th>80~90</th>\n",
       "      <td>85</td>\n",
       "      <td>0</td>\n",
       "      <td>0.00</td>\n",
       "      <td>1.00</td>\n",
       "    </tr>\n",
       "    <tr>\n",
       "      <th>90~100</th>\n",
       "      <td>95</td>\n",
       "      <td>0</td>\n",
       "      <td>0.00</td>\n",
       "      <td>1.00</td>\n",
       "    </tr>\n",
       "  </tbody>\n",
       "</table>\n",
       "</div>"
      ],
      "text/plain": [
       "        class_value  frequency  relative_frequency  cumulative_frequency\n",
       "class                                                                   \n",
       "0~10              5          0                0.00                  0.00\n",
       "10~20            15          0                0.00                  0.00\n",
       "20~30            25          0                0.00                  0.00\n",
       "30~40            35          2                0.04                  0.04\n",
       "40~50            45          8                0.16                  0.20\n",
       "50~60            55         16                0.32                  0.52\n",
       "60~70            65         18                0.36                  0.88\n",
       "70~80            75          6                0.12                  1.00\n",
       "80~90            85          0                0.00                  1.00\n",
       "90~100           95          0                0.00                  1.00"
      ]
     },
     "execution_count": 60,
     "metadata": {},
     "output_type": "execute_result"
    }
   ],
   "source": [
    "#각 구간의 계급값, 도수, 상대도수, 누적 상대도수를 계산하는 코드\n",
    "\n",
    "freq_dist_df['class_value']= class_value  #class_value: 각 구간의 계급값\n",
    "#freq_dist_df: 도수분포표 df. / freq_dist_df['']: 컬럼명\n",
    "\n",
    "freq_dist_df['relative_frequency']=rel_freq #rel_freq: 각 구간의 상대도수\n",
    "\n",
    "freq_dist_df['cumulative_frequency']=cum_rel_freq #cum_rel_freq : 각 구간까지의 누정 상대도수\n",
    "freq_dist_df=freq_dist_df[['class_value','frequency','relative_frequency','cumulative_frequency']]\n",
    "#특정 열만 선택하여 데이터프레임 재구성 \n",
    "freq_dist_df\n",
    "#ex)30~40구간의 계급값 35, 도수 2, 상대도수 0.04, 누적상대도수 0.04 가 된다. \n",
    "\n",
    "\n",
    "#각 구간은 계급값,   도수,       상대도수,     누적 상대도수"
   ]
  },
  {
   "cell_type": "code",
   "execution_count": 62,
   "id": "41a9a67a",
   "metadata": {},
   "outputs": [
    {
     "data": {
      "text/plain": [
       "65"
      ]
     },
     "execution_count": 62,
     "metadata": {},
     "output_type": "execute_result"
    }
   ],
   "source": [
    "#위 그래프의 최빈값 구하기.\n",
    "#도수가 가장 큰 구간의 계급을 찾는 코드.\n",
    "\n",
    "freq_dist_df.loc[freq_dist_df.frequency.idxmax(),'class_value']\n",
    "\n",
    "#idxmax() : 데이터프레임에서 가장 큰 값을 가진 인덱스 반환= frequency열에서  가장 큰 값의 인덱스 반환\n",
    "#loc[]: 행과 열을 선택할 때 사용 ->여기서는 idxmax()가 반환한 인덱스에 해당하는 행을 선택\n",
    "#class_velue 선택 이유: 도수가 가장 큰 구간의 계급값을 찾아서 반환한다. =가장 큰 도수(18)의 계급값 (65) "
   ]
  },
  {
   "cell_type": "code",
   "execution_count": 75,
   "id": "300793bf",
   "metadata": {},
   "outputs": [
    {
     "data": {
      "image/png": "[encoded data removed]",
      "text/plain": [
       "<Figure size 1000x600 with 1 Axes>"
      ]
     },
     "metadata": {},
     "output_type": "display_data"
    }
   ],
   "source": [
    "★여기부터 필기 하기\n",
    "\n",
    "#히스토그램: 도수분포표를 막대그래프로 표현 (클래스가 x축, 각 구간의 빈도가 y)\n",
    "#어떤 한 컬럼에 대해 히스토그램을 그리는 것과 같다.\n",
    "\n",
    "import matplotlib.pyplot as plt\n",
    "plt.figure(figsize=(10,6))\n",
    "\n",
    "freq,_,_= plt.hist(english_scores,bins=10, range=(0,100))\n",
    "plt.xlabel('score')\n",
    "plt.ylabel('person number')\n",
    "plt.xticks(np.linspace(0,100,10+1)) #xticks 눈금 구하기\n",
    "plt.yticks(np.arange(0,freq.max()+1))\n",
    "plt.show()"
   ]
  },
  {
   "cell_type": "code",
   "execution_count": 76,
   "id": "e90b0b3b",
   "metadata": {},
   "outputs": [
    {
     "data": {
      "text/plain": [
       "(array([ 0.,  0.,  0.,  2.,  8., 16., 18.,  6.,  0.,  0.]),\n",
       " array([  0.,  10.,  20.,  30.,  40.,  50.,  60.,  70.,  80.,  90., 100.]),\n",
       " <BarContainer object of 10 artists>)"
      ]
     },
     "execution_count": 76,
     "metadata": {},
     "output_type": "execute_result"
    },
    {
     "data": {
      "image/png": "[encoded data removed]",
      "text/plain": [
       "<Figure size 1000x600 with 1 Axes>"
      ]
     },
     "metadata": {},
     "output_type": "display_data"
    }
   ],
   "source": [
    "import matplotlib.pyplot as plt\n",
    "plt.figure(figsize=(10,6))\n",
    "plt.hist(english_scores, bins=10, range=(0,100))"
   ]
  },
  {
   "cell_type": "markdown",
   "id": "ebff153e",
   "metadata": {},
   "source": [
    "### 과제1\n",
    "클래스별 빈도를 나타내는 히스토그램을 추가하여 누적 상대도수 (y축 왼쪽)을 꺾은 선 그래프로 표현하세요."
   ]
  },
  {
   "cell_type": "code",
   "execution_count": 78,
   "id": "5228c78c",
   "metadata": {},
   "outputs": [
    {
     "name": "stdout",
     "output_type": "stream",
     "text": [
      "[0.   0.   0.   0.   0.   0.   0.   0.   0.   0.04 0.06 0.06 0.06 0.14\n",
      " 0.16 0.12 0.2  0.1  0.04 0.02 0.   0.   0.   0.   0.  ]\n"
     ]
    },
    {
     "data": {
      "image/png": "[encoded data removed]",
      "text/plain": [
       "<Figure size 1000x600 with 1 Axes>"
      ]
     },
     "metadata": {},
     "output_type": "display_data"
    }
   ],
   "source": [
    "fig=plt.figure(figsize=(10,6))\n",
    "ax1=fig.add_subplot(111)\n",
    "\n",
    "weights=np.ones_like(english_scores) / len(english_scores)\n",
    "rel_freq,_,_ = ax1.hist(english_scores,bins=25,\n",
    "                       range=(0,100),weights=weights)\n",
    "\n",
    "print(rel_freq)\n",
    "ax1.set_xlabel('score')\n",
    "ax1.set_ylabel('relative frequency')\n",
    "ax1.set_xticks(np.linspace(0,100,25+1))\n",
    "plt.show()"
   ]
  },
  {
   "cell_type": "code",
   "execution_count": 80,
   "id": "5117b13a",
   "metadata": {},
   "outputs": [
    {
     "data": {
      "image/png": "[encoded data removed]",
      "text/plain": [
       "<Figure size 500x600 with 1 Axes>"
      ]
     },
     "metadata": {},
     "output_type": "display_data"
    }
   ],
   "source": [
    "#box plot\n",
    "import warnings\n",
    "warnings.filterwarnings('ignore')\n",
    "plt.figure(figsize=(5,6))\n",
    "plt.boxplot(english_scores,labels=['english'])\n",
    "plt.show()"
   ]
  },
  {
   "cell_type": "code",
   "execution_count": 81,
   "id": "8255cdc3",
   "metadata": {},
   "outputs": [
    {
     "data": {
      "text/plain": [
       "count    50.000000\n",
       "mean     58.380000\n",
       "std       9.799813\n",
       "min      37.000000\n",
       "25%      54.000000\n",
       "50%      57.500000\n",
       "75%      65.000000\n",
       "max      79.000000\n",
       "dtype: float64"
      ]
     },
     "execution_count": 81,
     "metadata": {},
     "output_type": "execute_result"
    }
   ],
   "source": [
    "english_scores=np.array(df.english)\n",
    "pd.Series(english_scores).describe()"
   ]
  },
  {
   "cell_type": "markdown",
   "id": "27bde15e",
   "metadata": {},
   "source": [
    "### [과제2]\n",
    "타이타닉 데이터셋에서 age,pclass,fare,sex,embarked 컬럼 중 2개를 선택하여 컬럼의 특징을 설명하고 종속변수인 survived와의 관계를 기술하세요.\n",
    "\n",
    "- 각 컬럼에 대한 전처리 후 기초통계량 (연속형인 경우 해당. 범주형일 경우에는 다른방법 모색할것),\n",
    "- 시각화를 통한 분포 및 특징 탐색. 이상치 여부 탐색\n",
    "- 선택한 컬럼을 가장 잘 활용할 수 있는 형태로 변환"
   ]
  },
  {
   "cell_type": "markdown",
   "id": "3f2503f9",
   "metadata": {},
   "source": [
    "nulㅣ처리->이상치 탐색 ->박스플롯과 히스토플랏 보고 유난히 튀는 이상치는 삭제 가능. <br>\n",
    "통계적으로 나온다고 해서 무조건 이상치라고 보면 안됨. 이상치는 에러가 있을 경우.  <br>\n",
    "나이에서 이상치가 나올경우 어린사람이 밀집되어있다보니 고령자가 이상치로 인식될 수 있다.\n",
    "현대그룹 회장의 급여가 현대그룹 인건비에 섞여있으면 이상치로 인식 된다.\n",
    "하지만 이상치가 아니다. "
   ]
  },
  {
   "cell_type": "code",
   "execution_count": null,
   "id": "a3433166",
   "metadata": {},
   "outputs": [],
   "source": []
  },
  {
   "cell_type": "code",
   "execution_count": null,
   "id": "777290c6",
   "metadata": {},
   "outputs": [],
   "source": []
  },
  {
   "cell_type": "code",
   "execution_count": null,
   "id": "b878ca6a",
   "metadata": {},
   "outputs": [],
   "source": []
  },
  {
   "cell_type": "code",
   "execution_count": null,
   "id": "84831a47",
   "metadata": {},
   "outputs": [],
   "source": []
  },
  {
   "cell_type": "code",
   "execution_count": null,
   "id": "34d598d4",
   "metadata": {},
   "outputs": [],
   "source": []
  },
  {
   "cell_type": "code",
   "execution_count": null,
   "id": "def2a8b1",
   "metadata": {},
   "outputs": [],
   "source": []
  },
  {
   "cell_type": "code",
   "execution_count": null,
   "id": "86dcee25",
   "metadata": {},
   "outputs": [],
   "source": []
  },
  {
   "cell_type": "code",
   "execution_count": null,
   "id": "17ac97f0",
   "metadata": {},
   "outputs": [],
   "source": []
  },
  {
   "cell_type": "code",
   "execution_count": null,
   "id": "165fc696",
   "metadata": {},
   "outputs": [],
   "source": []
  },
  {
   "cell_type": "code",
   "execution_count": null,
   "id": "337a109b",
   "metadata": {},
   "outputs": [],
   "source": []
  },
  {
   "cell_type": "code",
   "execution_count": null,
   "id": "0500ebe0",
   "metadata": {},
   "outputs": [],
   "source": []
  },
  {
   "cell_type": "code",
   "execution_count": null,
   "id": "3ab99584",
   "metadata": {},
   "outputs": [],
   "source": []
  },
  {
   "cell_type": "code",
   "execution_count": null,
   "id": "29692963",
   "metadata": {},
   "outputs": [],
   "source": []
  },
  {
   "cell_type": "code",
   "execution_count": null,
   "id": "01bbf8f2",
   "metadata": {},
   "outputs": [],
   "source": []
  },
  {
   "cell_type": "code",
   "execution_count": null,
   "id": "b1965eb5",
   "metadata": {},
   "outputs": [],
   "source": []
  },
  {
   "cell_type": "code",
   "execution_count": null,
   "id": "654841d3",
   "metadata": {},
   "outputs": [],
   "source": []
  },
  {
   "cell_type": "code",
   "execution_count": null,
   "id": "cedf0095",
   "metadata": {},
   "outputs": [],
   "source": []
  },
  {
   "cell_type": "code",
   "execution_count": null,
   "id": "0deef21a",
   "metadata": {},
   "outputs": [],
   "source": []
  },
  {
   "cell_type": "code",
   "execution_count": null,
   "id": "ddd62fef",
   "metadata": {},
   "outputs": [],
   "source": []
  },
  {
   "cell_type": "code",
   "execution_count": null,
   "id": "dbdb5aa2",
   "metadata": {},
   "outputs": [],
   "source": []
  },
  {
   "cell_type": "code",
   "execution_count": null,
   "id": "7d5bc016",
   "metadata": {},
   "outputs": [],
   "source": []
  },
  {
   "cell_type": "code",
   "execution_count": null,
   "id": "c9386277",
   "metadata": {},
   "outputs": [],
   "source": []
  },
  {
   "cell_type": "code",
   "execution_count": null,
   "id": "d1d2b11b",
   "metadata": {},
   "outputs": [],
   "source": []
  },
  {
   "cell_type": "code",
   "execution_count": null,
   "id": "5397b442",
   "metadata": {},
   "outputs": [],
   "source": []
  },
  {
   "cell_type": "code",
   "execution_count": null,
   "id": "986ef509",
   "metadata": {},
   "outputs": [],
   "source": []
  },
  {
   "cell_type": "code",
   "execution_count": null,
   "id": "6261014e",
   "metadata": {},
   "outputs": [],
   "source": []
  },
  {
   "cell_type": "code",
   "execution_count": null,
   "id": "735c0edf",
   "metadata": {},
   "outputs": [],
   "source": []
  },
  {
   "cell_type": "code",
   "execution_count": null,
   "id": "34f2e0ed",
   "metadata": {},
   "outputs": [],
   "source": []
  },
  {
   "cell_type": "code",
   "execution_count": null,
   "id": "ffb31344",
   "metadata": {},
   "outputs": [],
   "source": []
  },
  {
   "cell_type": "code",
   "execution_count": null,
   "id": "a9c25eee",
   "metadata": {},
   "outputs": [],
   "source": []
  },
  {
   "cell_type": "code",
   "execution_count": null,
   "id": "76cf8085",
   "metadata": {},
   "outputs": [],
   "source": []
  },
  {
   "cell_type": "code",
   "execution_count": null,
   "id": "14eb3882",
   "metadata": {},
   "outputs": [],
   "source": []
  },
  {
   "cell_type": "code",
   "execution_count": null,
   "id": "f36c5047",
   "metadata": {},
   "outputs": [],
   "source": []
  },
  {
   "cell_type": "code",
   "execution_count": null,
   "id": "b7ffc16d",
   "metadata": {},
   "outputs": [],
   "source": []
  },
  {
   "cell_type": "code",
   "execution_count": null,
   "id": "f9094f7d",
   "metadata": {},
   "outputs": [],
   "source": []
  },
  {
   "cell_type": "code",
   "execution_count": null,
   "id": "474bdbc3",
   "metadata": {},
   "outputs": [],
   "source": []
  },
  {
   "cell_type": "code",
   "execution_count": null,
   "id": "9e5e14b7",
   "metadata": {},
   "outputs": [],
   "source": []
  },
  {
   "cell_type": "code",
   "execution_count": null,
   "id": "dc62a1fe",
   "metadata": {},
   "outputs": [],
   "source": []
  },
  {
   "cell_type": "code",
   "execution_count": null,
   "id": "76f1069d",
   "metadata": {},
   "outputs": [],
   "source": []
  },
  {
   "cell_type": "code",
   "execution_count": null,
   "id": "42a715c6",
   "metadata": {},
   "outputs": [],
   "source": []
  }
 ],
 "metadata": {
  "kernelspec": {
   "display_name": "Python 3 (ipykernel)",
   "language": "python",
   "name": "python3"
  },
  "language_info": {
   "codemirror_mode": {
    "name": "ipython",
    "version": 3
   },
   "file_extension": ".py",
   "mimetype": "text/x-python",
   "name": "python",
   "nbconvert_exporter": "python",
   "pygments_lexer": "ipython3",
   "version": "3.9.13"
  }
 },
 "nbformat": 4,
 "nbformat_minor": 5
}

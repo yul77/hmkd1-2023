{
 "cells": [
  {
   "cell_type": "markdown",
   "id": "c4e9f53d",
   "metadata": {},
   "source": [
    "# 추측통계"
   ]
  },
  {
   "cell_type": "markdown",
   "id": "e9400f62",
   "metadata": {},
   "source": [
    "- 통계량으로 모수를 추정하여 모집단을 설명\n",
    "- 모집단을 잘 설명할 수 잇는 표본을 잘 뽑아야 한다."
   ]
  },
  {
   "cell_type": "code",
   "execution_count": 2,
   "id": "99e27af5",
   "metadata": {},
   "outputs": [
    {
     "data": {
      "text/plain": [
       "array([76, 55, 80, 80, 74, 61, 81, 76, 23, 80], dtype=int64)"
      ]
     },
     "execution_count": 2,
     "metadata": {},
     "output_type": "execute_result"
    }
   ],
   "source": [
    "#모집단과 표본\n",
    "#표본 추출 방법\n",
    "\n",
    "import numpy as np\n",
    "import pandas as pd \n",
    "import matplotlib.pyplot as plt\n",
    "\n",
    "df=pd.read_csv('./data/ch4_scores400.csv')\n",
    "df.shape\n",
    "scores=np.array(df.score)\n",
    "scores[:10]"
   ]
  },
  {
   "cell_type": "code",
   "execution_count": 3,
   "id": "990a4800",
   "metadata": {},
   "outputs": [
    {
     "data": {
      "text/plain": [
       "array([2, 3, 1])"
      ]
     },
     "execution_count": 3,
     "metadata": {},
     "output_type": "execute_result"
    }
   ],
   "source": [
    "#1,2,3중에서 3개를 뽑아라. \n",
    "\n",
    "np.random.choice([1,2,3],3,replace=False)\n",
    "#replace = False -> 중복이 안되게 해줌"
   ]
  },
  {
   "cell_type": "code",
   "execution_count": 4,
   "id": "fa8c3d8e",
   "metadata": {},
   "outputs": [
    {
     "data": {
      "text/plain": [
       "array([49, 60, 72, 86, 52, 61, 77, 91, 80, 56, 69, 67, 90, 56, 75, 79, 60,\n",
       "       79, 68, 81], dtype=int64)"
      ]
     },
     "execution_count": 4,
     "metadata": {},
     "output_type": "execute_result"
    }
   ],
   "source": [
    "np.random.seed(0)\n",
    "sample=np.random.choice(scores,20)\n",
    "sample"
   ]
  },
  {
   "cell_type": "code",
   "execution_count": 5,
   "id": "dc6443ad",
   "metadata": {},
   "outputs": [
    {
     "data": {
      "text/plain": [
       "70.4"
      ]
     },
     "execution_count": 5,
     "metadata": {},
     "output_type": "execute_result"
    }
   ],
   "source": [
    "sample.mean() #표본의 평균"
   ]
  },
  {
   "cell_type": "code",
   "execution_count": 6,
   "id": "0cf9542e",
   "metadata": {},
   "outputs": [
    {
     "data": {
      "text/plain": [
       "69.53"
      ]
     },
     "execution_count": 6,
     "metadata": {},
     "output_type": "execute_result"
    }
   ],
   "source": [
    "scores.mean() #모집단의 평균은 표본의 평균과 다름"
   ]
  },
  {
   "cell_type": "code",
   "execution_count": 7,
   "id": "ca6eda94",
   "metadata": {},
   "outputs": [
    {
     "name": "stdout",
     "output_type": "stream",
     "text": [
      "[56 55 79 91 86 79 83 55 85 76 81 57 77 99 61 57 81 73 59 59]\n",
      "1번째 무작위 추출로 얻은 표본평균 72.45 \n",
      "\n",
      "[80 50 85 86 85 59 72 58 31 60 56 64 49 88 66 63 63 47 67 45]\n",
      "2번째 무작위 추출로 얻은 표본평균 63.7 \n",
      "\n",
      "[31 55 77 61 54 57 72 46 52 76 92 63 63 80 94 70 76 61 80 61]\n",
      "3번째 무작위 추출로 얻은 표본평균 66.05 \n",
      "\n",
      "[47 60 65 86 65 74 76 60 85 78 73 70 68 86 58 74 67 67 83 92]\n",
      "4번째 무작위 추출로 얻은 표본평균 71.7 \n",
      "\n",
      "[54 73 92 81 87 56 96 57 93 67 90 54 90 75 46 80 63 57 78 94]\n",
      "5번째 무작위 추출로 얻은 표본평균 74.15 \n",
      "\n"
     ]
    }
   ],
   "source": [
    "for i in range(5):\n",
    "    sample = np.random.choice(scores,20)\n",
    "    print(sample)\n",
    "    print(f'{i+1}번째 무작위 추출로 얻은 표본평균',sample.mean(),'\\n')\n",
    "    \n",
    "    #모집단의 모평균과 표본평균은 차이가 있다.\n",
    "    #이 코드의 결과값만 봐도 하나도 69.53과 같은 값이 없다."
   ]
  },
  {
   "cell_type": "markdown",
   "id": "435837a5",
   "metadata": {},
   "source": [
    "### 확률 변수\n",
    "확률변수에 대응해서 확률이 있다. \n",
    "- 동전 던지기의 확률변수는 0과 1. = 확률: 1/2\n",
    "- 주사위의 확률변수는 1,2,3,4,5,6. = 확률: 1/6\n",
    "- 확률변수 (x), 확률 (y)\n",
    "- 확률 분포 : 각각의 확률변수 (x)에 대응되는 y값의 궤적을 그린 그림. \n",
    "    - 어떤 데이터든 평균일 때가 확률이 가장 높다.\n",
    "    - 모집단이 정규분포거나  표본의 분포도 정규분포를 따른다고 한다면 굉장히 추정하기 편하다. => 모집단의 분포가 중요한 이유.\n",
    "   "
   ]
  },
  {
   "cell_type": "code",
   "execution_count": 8,
   "id": "76ef4350",
   "metadata": {},
   "outputs": [
    {
     "data": {
      "text/plain": [
       "array([4, 6, 1, 4, 3, 2, 3, 4, 4, 5, 4, 5, 3, 6, 1, 5, 4, 5, 2, 3, 6, 6,\n",
       "       4, 5, 6, 6, 2, 1, 3, 6, 2, 4, 6, 5, 5, 4, 5, 6, 1, 6, 6, 6, 3, 6,\n",
       "       2, 4, 6, 4, 4, 2, 1, 5, 3, 3, 5, 2, 5, 3, 5, 5, 2, 4, 5, 4, 2, 5,\n",
       "       5, 5, 6, 5, 6, 2, 2, 6, 4, 3, 6, 4, 6, 6, 6, 5, 6, 4, 3, 6, 4, 6,\n",
       "       5, 5, 2, 6, 4, 5, 4, 3, 6, 5, 1, 5])"
      ]
     },
     "execution_count": 8,
     "metadata": {},
     "output_type": "execute_result"
    }
   ],
   "source": [
    "dice=[1,2,3,4,5,6]\n",
    "prob=[1/21,2/21,3/21,4/21,5/21,6/21] \n",
    "#주사위가 왜곡이 되어 6이 될 수 있는 확률이 더 높다고 가정했을 때\n",
    "\n",
    "np.random.seed(1)\n",
    "num_trial=100\n",
    "sample=np.random.choice(dice,num_trial,p=prob) #6이 가장 많이 나오게 된다.\n",
    "#랜덤하게 뽑지만 prob의 확률을 전제하에 랜덤하게 출력\n",
    "\n",
    "sample"
   ]
  },
  {
   "cell_type": "code",
   "execution_count": 9,
   "id": "2e05968d",
   "metadata": {},
   "outputs": [
    {
     "name": "stdout",
     "output_type": "stream",
     "text": [
      "[ 6 12 12 20 24 26] \n",
      "\n"
     ]
    },
    {
     "data": {
      "text/html": [
       "<div>\n",
       "<style scoped>\n",
       "    .dataframe tbody tr th:only-of-type {\n",
       "        vertical-align: middle;\n",
       "    }\n",
       "\n",
       "    .dataframe tbody tr th {\n",
       "        vertical-align: top;\n",
       "    }\n",
       "\n",
       "    .dataframe thead th {\n",
       "        text-align: right;\n",
       "    }\n",
       "</style>\n",
       "<table border=\"1\" class=\"dataframe\">\n",
       "  <thead>\n",
       "    <tr style=\"text-align: right;\">\n",
       "      <th></th>\n",
       "      <th>frequency</th>\n",
       "      <th>relative frequency</th>\n",
       "    </tr>\n",
       "    <tr>\n",
       "      <th>dice</th>\n",
       "      <th></th>\n",
       "      <th></th>\n",
       "    </tr>\n",
       "  </thead>\n",
       "  <tbody>\n",
       "    <tr>\n",
       "      <th>1</th>\n",
       "      <td>6</td>\n",
       "      <td>0.06</td>\n",
       "    </tr>\n",
       "    <tr>\n",
       "      <th>2</th>\n",
       "      <td>12</td>\n",
       "      <td>0.12</td>\n",
       "    </tr>\n",
       "    <tr>\n",
       "      <th>3</th>\n",
       "      <td>12</td>\n",
       "      <td>0.12</td>\n",
       "    </tr>\n",
       "    <tr>\n",
       "      <th>4</th>\n",
       "      <td>20</td>\n",
       "      <td>0.20</td>\n",
       "    </tr>\n",
       "    <tr>\n",
       "      <th>5</th>\n",
       "      <td>24</td>\n",
       "      <td>0.24</td>\n",
       "    </tr>\n",
       "    <tr>\n",
       "      <th>6</th>\n",
       "      <td>26</td>\n",
       "      <td>0.26</td>\n",
       "    </tr>\n",
       "  </tbody>\n",
       "</table>\n",
       "</div>"
      ],
      "text/plain": [
       "      frequency  relative frequency\n",
       "dice                               \n",
       "1             6                0.06\n",
       "2            12                0.12\n",
       "3            12                0.12\n",
       "4            20                0.20\n",
       "5            24                0.24\n",
       "6            26                0.26"
      ]
     },
     "execution_count": 9,
     "metadata": {},
     "output_type": "execute_result"
    }
   ],
   "source": [
    "#위에서 뽑은 100개를 이용해 주사위로 나올 수 있는 빈도를 구해봄\n",
    "\n",
    "freq,_=np.histogram(sample,bins=6, range=(1,7))\n",
    "print(freq,'\\n')\n",
    "\n",
    "rdf=pd.DataFrame({'frequency':freq,\n",
    "                 'relative frequency':freq/num_trial},\n",
    "                index=pd.Index(np.arange(1,7),name='dice'))\n",
    "rdf #여기에서는 위에서 설정한 확률로 나오지 않았음. "
   ]
  },
  {
   "cell_type": "code",
   "execution_count": 10,
   "id": "48289790",
   "metadata": {},
   "outputs": [
    {
     "data": {
      "image/png": "[encoded data removed]",
      "text/plain": [
       "<Figure size 800x600 with 1 Axes>"
      ]
     },
     "metadata": {},
     "output_type": "display_data"
    }
   ],
   "source": [
    "np.linspace(1.5,6.5,6) #1.5와 6.5를 6개 사이에 넣어라\n",
    "np.random.seed(1)\n",
    "num_trial=100\n",
    "sample=np.random.choice(dice,num_trial,p=prob)\n",
    "\n",
    "plt.figure(figsize=(8,6))\n",
    "plt.hist(sample,bins=6, range=(1,7), density=True, rwidth=0.8)\n",
    "plt.hlines(prob,np.arange(1,7),np.arange(2,8),colors='darkkhaki')\n",
    "#1과 2, 3과 4, 5와 6, 7과 8. 이렇게 순차적으로 그래프가 붙는다는 뜻\n",
    "plt.xticks(np.linspace(1.5,6.5,6),np.arange(1,7)) #x, x_labels\n",
    "# plt.xtickables(np.arange(1,7))\n",
    "plt.xlabel('dice')\n",
    "plt.ylabel('relative frequency')\n",
    "plt.show()\n",
    "\n",
    "#오차발생"
   ]
  },
  {
   "cell_type": "code",
   "execution_count": 11,
   "id": "0482e479",
   "metadata": {},
   "outputs": [],
   "source": [
    "#1000000번 시행하여 얻은 눈의 상대도수로부터 추측된 확률분포는 실제 확률분포와 근접.\n",
    "#시행 횟수를 늘리면 상대도수는 확률분포를 수렴한다.\n",
    "# 즉, 샘플수가 많을 수록 정확해짐\n",
    "#랜덤이기 때문에 시행횟수가 적으면 오차 발생율이 높아짐"
   ]
  },
  {
   "cell_type": "code",
   "execution_count": 14,
   "id": "1c7e78ab",
   "metadata": {},
   "outputs": [
    {
     "data": {
      "image/png": "[encoded data removed]",
      "text/plain": [
       "<Figure size 800x600 with 1 Axes>"
      ]
     },
     "metadata": {},
     "output_type": "display_data"
    }
   ],
   "source": [
    "np.linspace(1.5,6.5,6)\n",
    "np.random.seed(1)\n",
    "num_trial = 1000000 #샘플개수\n",
    "sample = np.random.choice(dice,num_trial,p=prob)\n",
    "\n",
    "plt.figure(figsize=(8,6))\n",
    "plt.hist(sample, bins = 6, range = (1,7), density=True, rwidth=0.8)\n",
    "#density는 히스토그램의 y축 값을 상대빈도로 나타내는지 \n",
    "#아니면 실제 빈도로 나타내는지 설정하는데 사용하는데\n",
    "#이 예제에서는 상대빈도로 나타내도록 설정.\n",
    "\n",
    "#rwidth는 각 막대의 너비를 결정\n",
    "\n",
    "plt.hlines(prob,np.arange(1,7),np.arange(2,8),colors='darkkhaki')\n",
    "plt.xticks(np.linspace(1.5,6.5,6),np.arange(1,7))\n",
    "plt.xlabel('dice')\n",
    "plt.ylabel('relative frequency')\n",
    "plt.show() #딱떨어지는 그림 출력됨"
   ]
  },
  {
   "cell_type": "code",
   "execution_count": 15,
   "id": "2d298b41",
   "metadata": {},
   "outputs": [
    {
     "data": {
      "image/png": "[encoded data removed]",
      "text/plain": [
       "<Figure size 640x480 with 1 Axes>"
      ]
     },
     "metadata": {},
     "output_type": "display_data"
    }
   ],
   "source": [
    "import numpy as np\n",
    "import pandas as pd\n",
    "import matplotlib.pyplot as plt\n",
    "import seaborn as sns\n",
    "df=pd.read_csv('./data/ch4_scores400.csv')\n",
    "df.shape\n",
    "scores=np.array(df.score)\n",
    "sns.histplot(scores,kde=True)\n",
    "plt.show()\n"
   ]
  },
  {
   "cell_type": "code",
   "execution_count": 16,
   "id": "9c81b508",
   "metadata": {},
   "outputs": [
    {
     "data": {
      "text/plain": [
       "(400,)"
      ]
     },
     "execution_count": 16,
     "metadata": {},
     "output_type": "execute_result"
    }
   ],
   "source": [
    "scores.shape"
   ]
  },
  {
   "cell_type": "code",
   "execution_count": 21,
   "id": "508c4223",
   "metadata": {},
   "outputs": [
    {
     "data": {
      "image/png": "[encoded data removed]",
      "text/plain": [
       "<Figure size 1000x600 with 1 Axes>"
      ]
     },
     "metadata": {},
     "output_type": "display_data"
    }
   ],
   "source": [
    "#표본의 평균이 어떤 분포를 이루는지 본다.\n",
    "#표본평균은 모평균을 중심으로 분포하는 것을 확인.\n",
    "#무작위 추출에 의한 표본 평균으로 모평균을 추측할 수 있는 근거가 된다.\n",
    "#근거가 어떻게 나오는지 찾는게 중요!\n",
    "#scores 를 모집단으로 둠.\n",
    "\n",
    "sample_means = [np.random.choice(scores,20).mean() for _ in range(10000)]\n",
    "#샘플사이즈 20개를 10000개 뽑아서 평균구하기\n",
    "len(sample_mean)\n",
    "\n",
    "fig=plt.figure(figsize=(10,6))\n",
    "plt.hist(sample_means,bins=100, range=(0,100),density=True)\n",
    "\n",
    "#모평균을 세로선으로 표시. 표본평균과 모평균 비교\n",
    "\n",
    "plt.vlines(np.mean(scores),0,1,'yellow')\n",
    "plt.axis([50,90,0,0.13]) #50,90은 x축 범위, 0,0.13은 y축 범위\n",
    "plt.xlabel('score')\n",
    "plt.ylabel('relative frequency')\n",
    "plt.show()\n",
    "\n",
    "#히스토그램을 1만개의 표본평균 분포\n",
    "#모평균(모집단)을 중심으로 정규분포를 그리고 있다."
   ]
  },
  {
   "cell_type": "markdown",
   "id": "fb056052",
   "metadata": {},
   "source": [
    "확률론은 불확실성이 존재하는 상황에서 결과의 가능성을 수학적으로 모델링 하는 분야입니다. 이를 위해 몇가지 중요한 개념이 필요합니다. 이 중요한 개념들은 다음과 같습니다.\n",
    "\n",
    "- 실험과 표본 공간\n",
    "    - 확률론에서는 특정한 조건에서 일어나는 사건을 실험이라고 하며, 실험에서 가능한 모든 결과의 집합을 표본 공간이라고 합니다.\n",
    "- 사건과 확률\n",
    "    - 사건은 표본 공간의 부분집합으로, 일어날 가능성이 있는 결과의 집합을 의미합니다. 확률은 특정 사건이 일어날 가능성을 나타내는 값으로, 0과 1 사이의 값입니다. (표본 공간의 합은 1)\n",
    "- 조건부 확률\n",
    "    - 조건부 확률은 특정한 사건이 일어났을 때, 다른 사건이 일어날 확률을 의미합니다. 조건부 확률은 주어진 사건이 일어난 경우에만 적용되며, 이전 확률과는 다른 개념입니다. \n",
    "- 독립성\n",
    "    - 두 사건이 독립적이라는 것은, 하나의 사건이 일어나는 것이 다른 사건의 발생 가능성에 영향을 미치지 않는다는 것을 의미합니다. 이러한 경우, 두 사건의 결합 확률은 두 확률의 곱과 같습니다.\n",
    "- 확률분포\n",
    "    - 확률분포는 가능한 모든 결과에 대해 각각의 결과가 일어날 확률을 나타내는 함수입니다. 대표적인 예로 이항분포, 정규분포 등이 있습니다.\n",
    "- 기대값\n",
    "    - 기대값은 확률분포와 관련되어, 각 결과의 확률과 그 결과의 가치를 곱한 값을 모두 더한 것 입니다. 즉, 평균값과 유사한 개념입니다."
   ]
  },
  {
   "cell_type": "code",
   "execution_count": null,
   "id": "270ddb9f",
   "metadata": {},
   "outputs": [],
   "source": [
    "확률의 빈도주의 관점과 베이지안 관점은 확률을 이해하는 방법에서 차이가 있습니다.\n",
    "\n",
    "- 빈도주의 관점에서는 확률을 \"반복되는 실험에서 어떤 사건이 일어날 빈도\"로 정의합니다. \n",
    "즉, 많은 반복을 통해 어떤 사건이 발생하는 비율을 계산하는 것입니다.\n",
    "이 관점에서는 데이터가 수집될 때마다 확률값이 달라지지 않는다고 가정하며, \n",
    "샘플 크기가 커질수록 이론적인 확률값과 가까워진다고 봅니다.\n",
    "\n",
    "- 반면에 베이지안 관점에서는 확률을 \"사건이 일어날 가능성\"으로 정의합니다. \n",
    "이 관점에서는 데이터를 수집하기 전에 이미 어떤 사전 지식이 있다는 가정하게 데이터를 수집하고,\n",
    "그에 따라 사후 확률을 갱신합니다. 이는 사전 지식과 데이터를 통해 모델 파라미터의 \n",
    "확률 분포를 추정하고, 이를 통해 불확실성을 줄이는 것입니다.\n",
    "- 이러한 차이 때문에 빈도주의 관점에서는 확률을 정확하게 계산하고자 반복 실험을 수행하며,\n",
    "이론적인 확률값에 근접하도록 데이터 크기를 늘립니다.\n",
    "반면에 베이지안 관점에서는 사전 지식을 가정하고, 그에 따라 데이터를 수집하며, 사전 지식과 데이터를 결함하여\n",
    "모델의 불확실성을 추정합니다.\n",
    "- 결론적으로, 빈도주의 관점과 베이지안 관점은 확률을 이해하는 방법에서 차이가 있습니다.\n",
    "빈도주의 관점은 확률을 실험에서 어떤 사건이 일어날 빈도로 이해하며, 베이지안 관점은 확률을\n",
    "어떤 사건이 일어날 가능성으로 이해합니다. \n",
    "이러한 차이로 인해 빈도주의와 베이지안 방법은 다양한 문제 해결에 사용됩니다.\n",
    "예를 들어, 빈도주의 방법은 통계적 추론에 사용되며, 베이지안 방법은 패턴 인식, 머신러닝, 자연러 처리 분야등에서 사용됩니다.\n",
    "\n",
    "빈도주의 관점은 \"반복된는 실험에서 어떤 사건이 일어날 빈도\"로 이해하는 것입니다.\n",
    "이를 이해하기 위해서는 간단한 예시를 들어보겠습니다.\n",
    "\n",
    "- 예를들어, 동전을 던져서 앞면이 나올 확률이 얼마나 되는지 알아보려고 한다고 가정해봅시다.\\\n",
    "이 경우, 동전을 반복적으로 던져서 앞면이 나올 확률을 계산하는 것이 빈도주의 관점입니다.\n",
    "- 100번의 실험을 수행하면서 앞면이 60번 나왔다면, 앞면이 나올확률은 0.6, 즉 60%입니다.\n",
    "이처럼 빈도주의 관점에서는 반복적인 실험을 통해 얻은 데이터를 바탕으로 확률을 계산합니다.\n"
   ]
  },
  {
   "cell_type": "code",
   "execution_count": null,
   "id": "3604a832",
   "metadata": {},
   "outputs": [],
   "source": []
  },
  {
   "cell_type": "code",
   "execution_count": null,
   "id": "413a0d3c",
   "metadata": {},
   "outputs": [],
   "source": []
  },
  {
   "cell_type": "code",
   "execution_count": null,
   "id": "e0a669b3",
   "metadata": {},
   "outputs": [],
   "source": []
  },
  {
   "cell_type": "code",
   "execution_count": null,
   "id": "34afc448",
   "metadata": {},
   "outputs": [],
   "source": []
  }
 ],
 "metadata": {
  "kernelspec": {
   "display_name": "Python 3 (ipykernel)",
   "language": "python",
   "name": "python3"
  },
  "language_info": {
   "codemirror_mode": {
    "name": "ipython",
    "version": 3
   },
   "file_extension": ".py",
   "mimetype": "text/x-python",
   "name": "python",
   "nbconvert_exporter": "python",
   "pygments_lexer": "ipython3",
   "version": "3.9.13"
  }
 },
 "nbformat": 4,
 "nbformat_minor": 5
}

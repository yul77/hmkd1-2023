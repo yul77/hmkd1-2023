{
 "cells": [
  {
   "cell_type": "markdown",
   "id": "e7a5c1f8",
   "metadata": {},
   "source": [
    "# 1차원 데이터"
   ]
  },
  {
   "cell_type": "code",
   "execution_count": 1,
   "id": "6ce9f981",
   "metadata": {},
   "outputs": [
    {
     "data": {
      "text/html": [
       "<div>\n",
       "<style scoped>\n",
       "    .dataframe tbody tr th:only-of-type {\n",
       "        vertical-align: middle;\n",
       "    }\n",
       "\n",
       "    .dataframe tbody tr th {\n",
       "        vertical-align: top;\n",
       "    }\n",
       "\n",
       "    .dataframe thead th {\n",
       "        text-align: right;\n",
       "    }\n",
       "</style>\n",
       "<table border=\"1\" class=\"dataframe\">\n",
       "  <thead>\n",
       "    <tr style=\"text-align: right;\">\n",
       "      <th></th>\n",
       "      <th>english</th>\n",
       "      <th>mathematics</th>\n",
       "    </tr>\n",
       "    <tr>\n",
       "      <th>student number</th>\n",
       "      <th></th>\n",
       "      <th></th>\n",
       "    </tr>\n",
       "  </thead>\n",
       "  <tbody>\n",
       "    <tr>\n",
       "      <th>1</th>\n",
       "      <td>42</td>\n",
       "      <td>65</td>\n",
       "    </tr>\n",
       "    <tr>\n",
       "      <th>2</th>\n",
       "      <td>69</td>\n",
       "      <td>80</td>\n",
       "    </tr>\n",
       "    <tr>\n",
       "      <th>3</th>\n",
       "      <td>56</td>\n",
       "      <td>63</td>\n",
       "    </tr>\n",
       "    <tr>\n",
       "      <th>4</th>\n",
       "      <td>41</td>\n",
       "      <td>63</td>\n",
       "    </tr>\n",
       "    <tr>\n",
       "      <th>5</th>\n",
       "      <td>57</td>\n",
       "      <td>76</td>\n",
       "    </tr>\n",
       "  </tbody>\n",
       "</table>\n",
       "</div>"
      ],
      "text/plain": [
       "                english  mathematics\n",
       "student number                      \n",
       "1                    42           65\n",
       "2                    69           80\n",
       "3                    56           63\n",
       "4                    41           63\n",
       "5                    57           76"
      ]
     },
     "execution_count": 1,
     "metadata": {},
     "output_type": "execute_result"
    }
   ],
   "source": [
    "import numpy as np\n",
    "import pandas as pd\n",
    "df=pd.read_csv('./data/ch2_scores_em.csv',index_col='student number') #.이 하나면 같은 폴더 ..면 상위폴더\n",
    "df.head()"
   ]
  },
  {
   "cell_type": "code",
   "execution_count": 2,
   "id": "41cdf56c",
   "metadata": {},
   "outputs": [
    {
     "data": {
      "text/plain": [
       "array([42, 69, 56, 41, 57, 48, 65, 49, 65, 58], dtype=int64)"
      ]
     },
     "execution_count": 2,
     "metadata": {},
     "output_type": "execute_result"
    }
   ],
   "source": [
    "scores=np.array(df.english)[:10] #'english'열의 값을 가져와서 numpy array로 변환한 뒤 , 첫 10개의 값을 추출\n",
    "scores"
   ]
  },
  {
   "cell_type": "code",
   "execution_count": 3,
   "id": "5ad13ad7",
   "metadata": {},
   "outputs": [
    {
     "data": {
      "text/html": [
       "<div>\n",
       "<style scoped>\n",
       "    .dataframe tbody tr th:only-of-type {\n",
       "        vertical-align: middle;\n",
       "    }\n",
       "\n",
       "    .dataframe tbody tr th {\n",
       "        vertical-align: top;\n",
       "    }\n",
       "\n",
       "    .dataframe thead th {\n",
       "        text-align: right;\n",
       "    }\n",
       "</style>\n",
       "<table border=\"1\" class=\"dataframe\">\n",
       "  <thead>\n",
       "    <tr style=\"text-align: right;\">\n",
       "      <th></th>\n",
       "      <th>score</th>\n",
       "    </tr>\n",
       "  </thead>\n",
       "  <tbody>\n",
       "    <tr>\n",
       "      <th>A</th>\n",
       "      <td>42</td>\n",
       "    </tr>\n",
       "    <tr>\n",
       "      <th>B</th>\n",
       "      <td>69</td>\n",
       "    </tr>\n",
       "    <tr>\n",
       "      <th>C</th>\n",
       "      <td>56</td>\n",
       "    </tr>\n",
       "    <tr>\n",
       "      <th>E</th>\n",
       "      <td>41</td>\n",
       "    </tr>\n",
       "    <tr>\n",
       "      <th>D</th>\n",
       "      <td>57</td>\n",
       "    </tr>\n",
       "  </tbody>\n",
       "</table>\n",
       "</div>"
      ],
      "text/plain": [
       "   score\n",
       "A     42\n",
       "B     69\n",
       "C     56\n",
       "E     41\n",
       "D     57"
      ]
     },
     "execution_count": 3,
     "metadata": {},
     "output_type": "execute_result"
    }
   ],
   "source": [
    "scores_df=pd.DataFrame({'score':scores},index=list('ABCEDFGHIJ'))\n",
    "#numpy array인 scores를 이용하여 pandas DataFrame 객체인 scores_df 생성\n",
    "#{'score':scores} : 'score'라는 열에 'scores'배열의 값들을 저장\n",
    "#index=list('ABCDEFGHIJ') : 인덱스를 A부터 J 까지의 알파벳으로 설정\n",
    "\n",
    "scores_df.head()"
   ]
  },
  {
   "cell_type": "code",
   "execution_count": 4,
   "id": "0c1488cc",
   "metadata": {},
   "outputs": [
    {
     "data": {
      "text/html": [
       "<div>\n",
       "<style scoped>\n",
       "    .dataframe tbody tr th:only-of-type {\n",
       "        vertical-align: middle;\n",
       "    }\n",
       "\n",
       "    .dataframe tbody tr th {\n",
       "        vertical-align: top;\n",
       "    }\n",
       "\n",
       "    .dataframe thead th {\n",
       "        text-align: right;\n",
       "    }\n",
       "</style>\n",
       "<table border=\"1\" class=\"dataframe\">\n",
       "  <thead>\n",
       "    <tr style=\"text-align: right;\">\n",
       "      <th></th>\n",
       "      <th>score</th>\n",
       "    </tr>\n",
       "    <tr>\n",
       "      <th>student</th>\n",
       "      <th></th>\n",
       "    </tr>\n",
       "  </thead>\n",
       "  <tbody>\n",
       "    <tr>\n",
       "      <th>A</th>\n",
       "      <td>42</td>\n",
       "    </tr>\n",
       "    <tr>\n",
       "      <th>B</th>\n",
       "      <td>69</td>\n",
       "    </tr>\n",
       "    <tr>\n",
       "      <th>C</th>\n",
       "      <td>56</td>\n",
       "    </tr>\n",
       "    <tr>\n",
       "      <th>D</th>\n",
       "      <td>41</td>\n",
       "    </tr>\n",
       "    <tr>\n",
       "      <th>E</th>\n",
       "      <td>57</td>\n",
       "    </tr>\n",
       "    <tr>\n",
       "      <th>F</th>\n",
       "      <td>48</td>\n",
       "    </tr>\n",
       "    <tr>\n",
       "      <th>G</th>\n",
       "      <td>65</td>\n",
       "    </tr>\n",
       "    <tr>\n",
       "      <th>H</th>\n",
       "      <td>49</td>\n",
       "    </tr>\n",
       "    <tr>\n",
       "      <th>I</th>\n",
       "      <td>65</td>\n",
       "    </tr>\n",
       "    <tr>\n",
       "      <th>J</th>\n",
       "      <td>58</td>\n",
       "    </tr>\n",
       "  </tbody>\n",
       "</table>\n",
       "</div>"
      ],
      "text/plain": [
       "         score\n",
       "student       \n",
       "A           42\n",
       "B           69\n",
       "C           56\n",
       "D           41\n",
       "E           57\n",
       "F           48\n",
       "G           65\n",
       "H           49\n",
       "I           65\n",
       "J           58"
      ]
     },
     "execution_count": 4,
     "metadata": {},
     "output_type": "execute_result"
    }
   ],
   "source": [
    "# 위와 같은 내용+인덱스 열에 이름 부여 \n",
    "scores_df=pd.DataFrame({'score':scores},\n",
    "                      index=pd.Index(list('ABCDEFGHIJ'),name='student'))\n",
    "scores_df"
   ]
  },
  {
   "cell_type": "code",
   "execution_count": 5,
   "id": "176bff75",
   "metadata": {},
   "outputs": [
    {
     "name": "stdout",
     "output_type": "stream",
     "text": [
      "55.0\n",
      "55.0\n"
     ]
    }
   ],
   "source": [
    "#평균값 - 배열\n",
    "\n",
    "#방법 1\n",
    "print(sum(scores)/len(scores))\n",
    "#리스트 내 모든수의 합계(sum)를 리스트 내 아이템 갯수(len)로 나누어 평균값 구하기.\n",
    "\n",
    "#방법 2\n",
    "print(np.mean(scores)) \n",
    "#numpy의 mean 함수를 이용하여 평균값 구하기"
   ]
  },
  {
   "cell_type": "code",
   "execution_count": 6,
   "id": "3111ef0d",
   "metadata": {},
   "outputs": [
    {
     "data": {
      "text/plain": [
       "score    55.0\n",
       "dtype: float64"
      ]
     },
     "execution_count": 6,
     "metadata": {},
     "output_type": "execute_result"
    }
   ],
   "source": [
    "#평균값 - 데이터프레임\n",
    "\n",
    "scores_df.mean()\n",
    "\n",
    "#data frame의 각 열에대한 평균값을 반환하기 때문에, 반환되는 값은 Series 데이터 타입.\n",
    "#이렇게 계산된 평균값을 이용하여 다양한 분석 및 시각화 작업을 할 수 있다."
   ]
  },
  {
   "cell_type": "code",
   "execution_count": 7,
   "id": "3dcb70da",
   "metadata": {},
   "outputs": [
    {
     "name": "stdout",
     "output_type": "stream",
     "text": [
      "56.5\n",
      "score    56.5\n",
      "dtype: float64\n"
     ]
    }
   ],
   "source": [
    "#중앙값 (중간값)\n",
    "\n",
    "#배열 \n",
    "print(np.median(scores))\n",
    "\n",
    "#데이터프레임\n",
    "print(scores_df.median())\n",
    "\n",
    "#배열은 함수 먼저 쓰고 데이터 프레임은 함수가 뒤에 오네.\n",
    "#그리고 배열은 값만 나오고 데이터 프레임은 타입도 볼 수 있구만. "
   ]
  },
  {
   "cell_type": "code",
   "execution_count": 8,
   "id": "9f8e3e53",
   "metadata": {},
   "outputs": [
    {
     "data": {
      "text/plain": [
       "<AxesSubplot:ylabel='Frequency'>"
      ]
     },
     "execution_count": 8,
     "metadata": {},
     "output_type": "execute_result"
    },
    {
     "data": {
      "image/png": "[encoded data removed]",
      "text/plain": [
       "<Figure size 640x480 with 1 Axes>"
      ]
     },
     "metadata": {},
     "output_type": "display_data"
    }
   ],
   "source": [
    "scores_df.plot(kind='hist')\n",
    "#x축은 데이터 범위. y축은 해당 범위에 속한 데이터의 갯수"
   ]
  },
  {
   "cell_type": "code",
   "execution_count": 9,
   "id": "aa9442b1",
   "metadata": {},
   "outputs": [
    {
     "data": {
      "text/plain": [
       "array([41, 42, 48, 49, 56, 57, 58, 65, 65, 69], dtype=int64)"
      ]
     },
     "execution_count": 9,
     "metadata": {},
     "output_type": "execute_result"
    }
   ],
   "source": [
    "#정렬\n",
    "sorted_scores=np.sort(scores)\n",
    "sorted_scores"
   ]
  },
  {
   "cell_type": "code",
   "execution_count": 10,
   "id": "ab9397ba",
   "metadata": {},
   "outputs": [
    {
     "data": {
      "text/plain": [
       "56.5"
      ]
     },
     "execution_count": 10,
     "metadata": {},
     "output_type": "execute_result"
    }
   ],
   "source": [
    "#수동으로 중앙값 구하기 (값을 정렬한 후 리스트의 중간값 2개의 합 /2 )\n",
    "(56+57)/2"
   ]
  },
  {
   "cell_type": "code",
   "execution_count": 11,
   "id": "289bc869",
   "metadata": {},
   "outputs": [
    {
     "data": {
      "text/plain": [
       "56.5"
      ]
     },
     "execution_count": 11,
     "metadata": {},
     "output_type": "execute_result"
    }
   ],
   "source": [
    "# Q. 식으로 구하여라\n",
    "\n",
    "#중앙값 계산 코드\n",
    "\n",
    "n=len(sorted_scores) #sorted_scores 의 길이 (갯수)를 n에 저장\n",
    "\n",
    "if n%2==0: #짝수. %=나머지를 구하는 식으로 a나누기 2의 나머지가 0인 경우(짝수) 찾기\n",
    "    \n",
    "    m0=sorted_scores[n//2-1] #중간 인덱스에서 1을 뺀 값을 m0에 저장 ★노이해\n",
    "    m1=sorted_scores[n//2]  #인덱스 [n//2의 값을 m1에 저장\n",
    "    \n",
    "    #중간값을 구하기 위해서는 중간 인덱스를 구한 뒤\n",
    "    median=(m0+m1)/2 #그 인덱스에 해당하는 두 값을 더한 후 2로 나눈다\n",
    "    \n",
    "    \n",
    "else:\n",
    "    median=sorted_scores[(n+1)//2-1]\n",
    "    #(n+1)//2 는 중간 인덱스를 구하기 위한 계산식. 인덱스는 0부터 시작하므로 1을 더해준다.\n",
    "    #그리고 2로 나누기 위해 // 연산자 사용.\n",
    "median\n",
    "    \n",
    "    \n",
    "#m0 에서 -1을 하는 이유: 인덱스가 0부터 시작하기 때문\n",
    "#예를 들어, 만약 sorted_scores의 길이가 10이라면, 중간 인덱스는 4가 된다.\n",
    "#따라서 중간값을 구하기 위해서는 1을 뺀 3번째 값과 4번째 값의 합을 2로 나눈다"
   ]
  },
  {
   "cell_type": "code",
   "execution_count": 12,
   "id": "35734264",
   "metadata": {},
   "outputs": [
    {
     "data": {
      "text/html": [
       "<div>\n",
       "<style scoped>\n",
       "    .dataframe tbody tr th:only-of-type {\n",
       "        vertical-align: middle;\n",
       "    }\n",
       "\n",
       "    .dataframe tbody tr th {\n",
       "        vertical-align: top;\n",
       "    }\n",
       "\n",
       "    .dataframe thead th {\n",
       "        text-align: right;\n",
       "    }\n",
       "</style>\n",
       "<table border=\"1\" class=\"dataframe\">\n",
       "  <thead>\n",
       "    <tr style=\"text-align: right;\">\n",
       "      <th></th>\n",
       "      <th>score</th>\n",
       "    </tr>\n",
       "  </thead>\n",
       "  <tbody>\n",
       "    <tr>\n",
       "      <th>0</th>\n",
       "      <td>65</td>\n",
       "    </tr>\n",
       "  </tbody>\n",
       "</table>\n",
       "</div>"
      ],
      "text/plain": [
       "   score\n",
       "0     65"
      ]
     },
     "execution_count": 12,
     "metadata": {},
     "output_type": "execute_result"
    }
   ],
   "source": [
    "#최빈값 : 빈도수가 가장 많은 것\n",
    "\n",
    "scores_df.mode()\n",
    "\n",
    "#mode(): 최빈값 구하는 메소드. => 가장 자주 등장하는 값을 계산하고 그 값을 반환해준다.\n",
    "#최빈값이 여러개일 경우 모든 최빈값이 반환됨."
   ]
  },
  {
   "cell_type": "code",
   "execution_count": 13,
   "id": "0a484d14",
   "metadata": {},
   "outputs": [
    {
     "data": {
      "text/plain": [
       "0    65\n",
       "dtype: int64"
      ]
     },
     "execution_count": 13,
     "metadata": {},
     "output_type": "execute_result"
    }
   ],
   "source": [
    "pd.Series(sorted_scores).mode()\n",
    "\n",
    "#시리즈로 바꿔서 할 수도 있다"
   ]
  },
  {
   "cell_type": "code",
   "execution_count": 14,
   "id": "9d0efd2e",
   "metadata": {},
   "outputs": [
    {
     "data": {
      "text/html": [
       "<div>\n",
       "<style scoped>\n",
       "    .dataframe tbody tr th:only-of-type {\n",
       "        vertical-align: middle;\n",
       "    }\n",
       "\n",
       "    .dataframe tbody tr th {\n",
       "        vertical-align: top;\n",
       "    }\n",
       "\n",
       "    .dataframe thead th {\n",
       "        text-align: right;\n",
       "    }\n",
       "</style>\n",
       "<table border=\"1\" class=\"dataframe\">\n",
       "  <thead>\n",
       "    <tr style=\"text-align: right;\">\n",
       "      <th></th>\n",
       "      <th>score</th>\n",
       "    </tr>\n",
       "  </thead>\n",
       "  <tbody>\n",
       "    <tr>\n",
       "      <th>count</th>\n",
       "      <td>10.000000</td>\n",
       "    </tr>\n",
       "    <tr>\n",
       "      <th>mean</th>\n",
       "      <td>55.000000</td>\n",
       "    </tr>\n",
       "    <tr>\n",
       "      <th>std</th>\n",
       "      <td>9.775252</td>\n",
       "    </tr>\n",
       "    <tr>\n",
       "      <th>min</th>\n",
       "      <td>41.000000</td>\n",
       "    </tr>\n",
       "    <tr>\n",
       "      <th>25%</th>\n",
       "      <td>48.250000</td>\n",
       "    </tr>\n",
       "    <tr>\n",
       "      <th>50%</th>\n",
       "      <td>56.500000</td>\n",
       "    </tr>\n",
       "    <tr>\n",
       "      <th>75%</th>\n",
       "      <td>63.250000</td>\n",
       "    </tr>\n",
       "    <tr>\n",
       "      <th>max</th>\n",
       "      <td>69.000000</td>\n",
       "    </tr>\n",
       "  </tbody>\n",
       "</table>\n",
       "</div>"
      ],
      "text/plain": [
       "           score\n",
       "count  10.000000\n",
       "mean   55.000000\n",
       "std     9.775252\n",
       "min    41.000000\n",
       "25%    48.250000\n",
       "50%    56.500000\n",
       "75%    63.250000\n",
       "max    69.000000"
      ]
     },
     "execution_count": 14,
     "metadata": {},
     "output_type": "execute_result"
    }
   ],
   "source": [
    "scores_df.describe() #통계 요약표"
   ]
  },
  {
   "cell_type": "code",
   "execution_count": 15,
   "id": "010719d4",
   "metadata": {
    "scrolled": false
   },
   "outputs": [
    {
     "data": {
      "text/plain": [
       "<AxesSubplot:xlabel='score', ylabel='Density'>"
      ]
     },
     "execution_count": 15,
     "metadata": {},
     "output_type": "execute_result"
    },
    {
     "data": {
      "image/png": "[encoded data removed]",
      "text/plain": [
       "<Figure size 640x480 with 1 Axes>"
      ]
     },
     "metadata": {},
     "output_type": "display_data"
    }
   ],
   "source": [
    "import seaborn as sns\n",
    "sns.kdeplot(data=scores_df,x='score')\n",
    "\n",
    "#kdfplot( 커널 밀도 추정 그래프) :  seaborn\n",
    "#데이터셋의 확률 밀도 함수를 추정하는 데 사용. 데이터의 분포를 더욱 부드럽게 표현"
   ]
  },
  {
   "cell_type": "markdown",
   "id": "69cdd2c3",
   "metadata": {},
   "source": [
    "#### 헷갈리는 어휘\n",
    "\n",
    "<font color=blue>'데이터 분포가 치우친'</font>거랑 <font color=blue>'데이터값이 몰린'</font>거랑 의미가 다름.\n",
    "- 꼬리가 오른쪽으로 길게 늘어져 있는건 -> 데이터 <font color=blue>분포</font>가 오른쪽으로 치우쳤다 \n",
    "- 히스토그램에서 데이터들의 빈도(개수)가 앞쪽에 높게 돼 있는 건 -> 데이터<font color=blue>값</font>이 왼쪽으로 몰렸다"
   ]
  },
  {
   "cell_type": "code",
   "execution_count": 16,
   "id": "74d6e748",
   "metadata": {},
   "outputs": [
    {
     "data": {
      "text/html": [
       "<div>\n",
       "<style scoped>\n",
       "    .dataframe tbody tr th:only-of-type {\n",
       "        vertical-align: middle;\n",
       "    }\n",
       "\n",
       "    .dataframe tbody tr th {\n",
       "        vertical-align: top;\n",
       "    }\n",
       "\n",
       "    .dataframe thead th {\n",
       "        text-align: right;\n",
       "    }\n",
       "</style>\n",
       "<table border=\"1\" class=\"dataframe\">\n",
       "  <thead>\n",
       "    <tr style=\"text-align: right;\">\n",
       "      <th></th>\n",
       "      <th>score</th>\n",
       "    </tr>\n",
       "  </thead>\n",
       "  <tbody>\n",
       "    <tr>\n",
       "      <th>count</th>\n",
       "      <td>10.000000</td>\n",
       "    </tr>\n",
       "    <tr>\n",
       "      <th>mean</th>\n",
       "      <td>79.200000</td>\n",
       "    </tr>\n",
       "    <tr>\n",
       "      <th>std</th>\n",
       "      <td>78.187524</td>\n",
       "    </tr>\n",
       "    <tr>\n",
       "      <th>min</th>\n",
       "      <td>41.000000</td>\n",
       "    </tr>\n",
       "    <tr>\n",
       "      <th>25%</th>\n",
       "      <td>48.250000</td>\n",
       "    </tr>\n",
       "    <tr>\n",
       "      <th>50%</th>\n",
       "      <td>56.500000</td>\n",
       "    </tr>\n",
       "    <tr>\n",
       "      <th>75%</th>\n",
       "      <td>65.000000</td>\n",
       "    </tr>\n",
       "    <tr>\n",
       "      <th>max</th>\n",
       "      <td>300.000000</td>\n",
       "    </tr>\n",
       "  </tbody>\n",
       "</table>\n",
       "</div>"
      ],
      "text/plain": [
       "            score\n",
       "count   10.000000\n",
       "mean    79.200000\n",
       "std     78.187524\n",
       "min     41.000000\n",
       "25%     48.250000\n",
       "50%     56.500000\n",
       "75%     65.000000\n",
       "max    300.000000"
      ]
     },
     "execution_count": 16,
     "metadata": {},
     "output_type": "execute_result"
    },
    {
     "data": {
      "image/png": "[encoded data removed]",
      "text/plain": [
       "<Figure size 640x480 with 1 Axes>"
      ]
     },
     "metadata": {},
     "output_type": "display_data"
    }
   ],
   "source": [
    "#평균값 > 중앙값\n",
    "\n",
    "scores_df_b=scores_df.copy()\n",
    "scores_df_b.iloc[9,0]=300  #마지막 행의 값으로 300을 만듦\n",
    "sns.histplot(data=scores_df_b, x='score',kde=True) #score열을 x축으로 사용. kde(커널 밀도 추정 그래프)사용\n",
    "scores_df_b.describe()\n",
    "\n",
    "#극단적으로 큰 수가 있게 되면 평균이 중앙값보다 오른쪽에 있다.\n",
    "#오른쪽으로 치우친 (skewed right) 분포는 작은 수가 왼쪽에 몰려있고 큰수가 우측으로 넓게 퍼져잇음\n"
   ]
  },
  {
   "cell_type": "code",
   "execution_count": 17,
   "id": "35cc2895",
   "metadata": {},
   "outputs": [
    {
     "data": {
      "text/html": [
       "<div>\n",
       "<style scoped>\n",
       "    .dataframe tbody tr th:only-of-type {\n",
       "        vertical-align: middle;\n",
       "    }\n",
       "\n",
       "    .dataframe tbody tr th {\n",
       "        vertical-align: top;\n",
       "    }\n",
       "\n",
       "    .dataframe thead th {\n",
       "        text-align: right;\n",
       "    }\n",
       "</style>\n",
       "<table border=\"1\" class=\"dataframe\">\n",
       "  <thead>\n",
       "    <tr style=\"text-align: right;\">\n",
       "      <th></th>\n",
       "      <th>score</th>\n",
       "    </tr>\n",
       "  </thead>\n",
       "  <tbody>\n",
       "    <tr>\n",
       "      <th>count</th>\n",
       "      <td>10.000000</td>\n",
       "    </tr>\n",
       "    <tr>\n",
       "      <th>mean</th>\n",
       "      <td>49.300000</td>\n",
       "    </tr>\n",
       "    <tr>\n",
       "      <th>std</th>\n",
       "      <td>19.556471</td>\n",
       "    </tr>\n",
       "    <tr>\n",
       "      <th>min</th>\n",
       "      <td>1.000000</td>\n",
       "    </tr>\n",
       "    <tr>\n",
       "      <th>25%</th>\n",
       "      <td>43.500000</td>\n",
       "    </tr>\n",
       "    <tr>\n",
       "      <th>50%</th>\n",
       "      <td>52.500000</td>\n",
       "    </tr>\n",
       "    <tr>\n",
       "      <th>75%</th>\n",
       "      <td>63.000000</td>\n",
       "    </tr>\n",
       "    <tr>\n",
       "      <th>max</th>\n",
       "      <td>69.000000</td>\n",
       "    </tr>\n",
       "  </tbody>\n",
       "</table>\n",
       "</div>"
      ],
      "text/plain": [
       "           score\n",
       "count  10.000000\n",
       "mean   49.300000\n",
       "std    19.556471\n",
       "min     1.000000\n",
       "25%    43.500000\n",
       "50%    52.500000\n",
       "75%    63.000000\n",
       "max    69.000000"
      ]
     },
     "execution_count": 17,
     "metadata": {},
     "output_type": "execute_result"
    },
    {
     "data": {
      "image/png": "[encoded data removed]",
      "text/plain": [
       "<Figure size 640x480 with 1 Axes>"
      ]
     },
     "metadata": {},
     "output_type": "display_data"
    }
   ],
   "source": [
    "#평균값 < 중앙값\n",
    "\n",
    "scores_df_a = scores_df.copy()\n",
    "scores_df_a.iloc[9,0]=1\n",
    "sns.histplot(data=scores_df_a,x='score',kde=True)\n",
    "scores_df_a.describe()\n",
    "\n",
    "# 극단적으로 작은 수인 1이 들어가면서 평균이 중앙값보다 작아진다. = 분포가 왼쪽으로 치우져진다.\n",
    "#왼쪽으로 치우진 (skewed left) 분포는 수가 우측에 몰려있고 작은 수가 왼쪽으로 퍼져있다."
   ]
  },
  {
   "cell_type": "code",
   "execution_count": 18,
   "id": "367cbb58",
   "metadata": {},
   "outputs": [
    {
     "name": "stdout",
     "output_type": "stream",
     "text": [
      "55.0\n",
      "[42 69 56 41 57 48 65 49 65 58]\n",
      "[-13.  14.   1. -14.   2.  -7.  10.  -6.  10.   3.]\n"
     ]
    }
   ],
   "source": [
    "#데이터의 산포도 지표\n",
    "#분산과 표준편차\n",
    "#편차 (deviation)\n",
    "\n",
    "mean=np.mean(scores)\n",
    "print(mean)\n",
    "print(scores)\n",
    "deviation=scores-mean #deviation: 편차. 편차의 합은 항상 0이 된다\n",
    "print(deviation) "
   ]
  },
  {
   "cell_type": "code",
   "execution_count": 19,
   "id": "0d2ee3a8",
   "metadata": {},
   "outputs": [
    {
     "name": "stdout",
     "output_type": "stream",
     "text": [
      "0.0\n",
      "0.0\n"
     ]
    }
   ],
   "source": [
    "print(sum(deviation))\n",
    "print(np.mean(deviation))\n",
    "\n",
    "#편차의 합은 항상 0이 되니까 편차를 제곱을 해준다 (분산)\n",
    "# 분산: 분산은 편차를 제곱한 값의 평균 (실제보다 과장됨)\n",
    "#분산에 루트(√)를 씌워분게 표준편차 (=분산의 제곱근)  ex)√4=2"
   ]
  },
  {
   "cell_type": "markdown",
   "id": "6112fcec",
   "metadata": {},
   "source": [
    "### 분산\n",
    "\n",
    "- Numpy와 Pandas는 서로 다른 분산을 기본으로 설정하여 계산.\n",
    "    - <font color=yellowgreen> Numpy는 표본분산,</font><font color=bluegreen>  Pandas는 불편분산</font>\n",
    "    - Pandas에서 표본분산을 계산하려면 var메소드의 인수를ddof = 0 이라고 설정, 불편분산은 ddof=1일 때 해당됨. \n",
    "\n",
    "[표본분산이 분산을 과소평가하는 이유]\n",
    "- <font color=violet>분산은 '데이터와 평균값 간의 거리'</font>이므로 모평균 간의 거리를 계산 :<font color=bluegreen> np.sum(fish_data-mu)**2) / M</font>\n",
    "    <br>호수 안에 물고기가 7마리 있다. 몸길이 {1,2,3,4,5,6,7}, 모평균 4\n",
    "    <br>샘플링 3마리{1,2,3} 표본평균 2. \n",
    "    <br>이때 <font color=violet>분산은 모평균을 모르기 때문에</font> 표본평균과의 거리를 계산하며 <font color=violet>분산을 과소평가</font>하게 된다. \n",
    "    <br>(표준편차를 비교해라)\n",
    "- 표본분산 보다 조금 더 큰 값이 되도록 보정하기 위하여 N 대신 N-1로 나누어 불편분산을 구할 수 있다.\n",
    "- 불편분산: 편향되지 않게 조절해준다. (과소평가된걸 보완)"
   ]
  },
  {
   "cell_type": "code",
   "execution_count": 20,
   "id": "0230b200",
   "metadata": {},
   "outputs": [
    {
     "data": {
      "text/plain": [
       "86.0"
      ]
     },
     "execution_count": 20,
     "metadata": {},
     "output_type": "execute_result"
    }
   ],
   "source": [
    "#넘파이 - 표본분산\n",
    "\n",
    "np.mean(deviation**2) #deviation 자승한것의 평균 = 분산"
   ]
  },
  {
   "cell_type": "code",
   "execution_count": 21,
   "id": "55b00e13",
   "metadata": {},
   "outputs": [
    {
     "data": {
      "text/plain": [
       "86.0"
      ]
     },
     "execution_count": 21,
     "metadata": {},
     "output_type": "execute_result"
    }
   ],
   "source": [
    "np.var(scores) \n",
    "\n",
    "#var() : 분산을 계산하는 함수 \n",
    "#분산은 각 데이터가 평균으로부터 얼마나 떨어져있는지 나타내는 지표. ->얼마나 퍼져있는지 알 수 있다. "
   ]
  },
  {
   "cell_type": "code",
   "execution_count": 22,
   "id": "0d1c0aed",
   "metadata": {},
   "outputs": [
    {
     "data": {
      "text/plain": [
       "score    95.555556\n",
       "dtype: float64"
      ]
     },
     "execution_count": 22,
     "metadata": {},
     "output_type": "execute_result"
    }
   ],
   "source": [
    "#판다스 - 불편분산\n",
    "scores_df.var()"
   ]
  },
  {
   "cell_type": "markdown",
   "id": "7cfd20a6",
   "metadata": {},
   "source": [
    "### ddof\n",
    "넘파이로 불편분산. 판다스로 표본분산 구할 때 ddof 사용하게 된다.\n",
    "<br><font color=green>ddpf=0</font>  넘파이의 표본분산-><font color=green>불편분산</font> \n",
    "<br><font color=green>ddof=1</font>  판다스의 불편분산-><font color=green>표본분산</font> "
   ]
  },
  {
   "cell_type": "code",
   "execution_count": 23,
   "id": "b0a6fc38",
   "metadata": {},
   "outputs": [
    {
     "data": {
      "text/plain": [
       "95.55555555555556"
      ]
     },
     "execution_count": 23,
     "metadata": {},
     "output_type": "execute_result"
    }
   ],
   "source": [
    "#넘파이- > 불편분산 : ddof=1\n",
    "np.var(scores,ddof=1) #넘파이 : 함수먼저"
   ]
  },
  {
   "cell_type": "code",
   "execution_count": 24,
   "id": "08a79956",
   "metadata": {},
   "outputs": [
    {
     "data": {
      "text/plain": [
       "score    86.0\n",
       "dtype: float64"
      ]
     },
     "execution_count": 24,
     "metadata": {},
     "output_type": "execute_result"
    }
   ],
   "source": [
    "#판다스 -> 표본분산 : ddof=0\n",
    "scores_df.var(ddof=0) #판다스 : 함수가 뒤에 옴"
   ]
  },
  {
   "cell_type": "code",
   "execution_count": 25,
   "id": "c7e84576",
   "metadata": {},
   "outputs": [
    {
     "name": "stdout",
     "output_type": "stream",
     "text": [
      "9.273618495495704\n",
      "9.273618495495704\n"
     ]
    }
   ],
   "source": [
    "#표준편차\n",
    "\n",
    "print(np.sqrt(np.var(scores,ddof=0))) #sqrt: 스퀘어 루트 =루트씌워주는 함수\n",
    "print(np.std(scores,ddof=0))  #std:표준편차 구하는 식"
   ]
  },
  {
   "cell_type": "code",
   "execution_count": 26,
   "id": "c558b3d6",
   "metadata": {},
   "outputs": [
    {
     "data": {
      "text/plain": [
       "28"
      ]
     },
     "execution_count": 26,
     "metadata": {},
     "output_type": "execute_result"
    }
   ],
   "source": [
    "#범위와 4분위\n",
    "#범위 : 가장큰수 - 가장 작은 수\n",
    "\n",
    "np.max(scores)-np.min(scores)"
   ]
  },
  {
   "cell_type": "code",
   "execution_count": 27,
   "id": "d00cfa6f",
   "metadata": {},
   "outputs": [
    {
     "data": {
      "text/plain": [
       "15.0"
      ]
     },
     "execution_count": 27,
     "metadata": {},
     "output_type": "execute_result"
    }
   ],
   "source": [
    "#4분위\n",
    "\n",
    "scores_Q1=np.percentile(scores,25)  #25% . 1사분위 \n",
    "scores_Q3=np.percentile(scores,75)  #75%   3사분위\n",
    "scores_IQR=scores_Q3-scores_Q1\n",
    "scores_IQR  \n",
    "#IQR :  IQR(Interquartile Range, 사분위 범위). 데이터가 얼마나 퍼져있는지 보여주는 지표 준 하나\n",
    "#IQR은 Q3 - Q1로 정의"
   ]
  },
  {
   "cell_type": "markdown",
   "id": "be7ab76d",
   "metadata": {},
   "source": [
    "### np.percentil()\n",
    "데이터의 백분위를 계산해주는 함수. \n",
    "<br>ex1) np.percentile(data,25) = 25%. 25번째 백분위 수\n",
    "<br>ex2) np.percentile(data,75) = 75%. 75번째 백분위 수"
   ]
  },
  {
   "cell_type": "code",
   "execution_count": 28,
   "id": "0b2303bf",
   "metadata": {
    "scrolled": true
   },
   "outputs": [
    {
     "data": {
      "text/plain": [
       "count    10.000000\n",
       "mean     55.000000\n",
       "std       9.775252\n",
       "min      41.000000\n",
       "25%      48.250000\n",
       "50%      56.500000\n",
       "75%      63.250000\n",
       "max      69.000000\n",
       "dtype: float64"
      ]
     },
     "execution_count": 28,
     "metadata": {},
     "output_type": "execute_result"
    }
   ],
   "source": [
    "pd.Series(scores).describe() #scores를 pandas로 바꿔야 describe 확인 가능. "
   ]
  },
  {
   "cell_type": "markdown",
   "id": "34825556",
   "metadata": {},
   "source": [
    "### 데이터를 정규화하는 이유<br>\n",
    "서로 다른 변수 간의 스케일 차이를 줄여줌으로써, 변수들이 가지는 중요도를 비교하기 쉬워지며, 모델의 성능을 향상시키는데 도움이 된다.<br>\n",
    "\n",
    "- 데이터를 정규화하기 위해서는 여러 가지 방법이 있으며, 그 중 가장 일반적인 방법은 표준화(standardization)와 정규화(normalization)입니다.\n",
    "-<font color=blue> 표준화</font>: 평균이 0, 표준편차가 1이 되도록 스케일을 맞춰주는 것.<span style=\"background-color:#6A5ACD\"> z=(x-mean)/std</span>\n",
    "- <font color=blue>정규화</font>: 데이터의 범위를 [0,1] 또는 [-1,1]로 맞춰주는 것.<span style=\"background-color:#6A5ACD\">x_norm=(c-min)/(max-min)</span>"
   ]
  },
  {
   "cell_type": "code",
   "execution_count": 29,
   "id": "1a7252a1",
   "metadata": {},
   "outputs": [
    {
     "name": "stdout",
     "output_type": "stream",
     "text": [
      "[42 69 56 41 57 48 65 49 65 58]\n",
      "평균: 55.0, 표준편차:9.2736\n"
     ]
    }
   ],
   "source": [
    "#데이터의 정규화 \n",
    "#서로 다른 변수 간의 스케일 차이를 줄여줌으로써, 변수들이 가지는 중요도를 비교하기 쉽게 만들어 주는 것\n",
    "\n",
    "print(scores)\n",
    "print(f'평균: {scores.mean()}, 표준편차:{scores.std().round(4)}')"
   ]
  },
  {
   "cell_type": "code",
   "execution_count": 30,
   "id": "5ff002ad",
   "metadata": {},
   "outputs": [
    {
     "data": {
      "text/plain": [
       "array([-1.40182605,  1.50965882,  0.10783277, -1.50965882,  0.21566555,\n",
       "       -0.75482941,  1.07832773, -0.64699664,  1.07832773,  0.32349832])"
      ]
     },
     "execution_count": 30,
     "metadata": {},
     "output_type": "execute_result"
    }
   ],
   "source": [
    "#표준화  z_score\n",
    "\n",
    "z=(scores-np.mean(scores))/ np.std(scores) #데이터에서 평균을 뺀것을 표준편차로 나눔.\n",
    "z #평균이 0, 표준편차 1\n",
    "\n",
    "#데이터-평균 부분 () 빼먹지 말 것. "
   ]
  },
  {
   "cell_type": "code",
   "execution_count": 31,
   "id": "d0fff147",
   "metadata": {},
   "outputs": [
    {
     "data": {
      "text/plain": [
       "array([42., 69., 56., 41., 57., 48., 65., 49., 65., 58.])"
      ]
     },
     "execution_count": 31,
     "metadata": {},
     "output_type": "execute_result"
    }
   ],
   "source": [
    "# 표준화를 거꾸로 \n",
    "55.0+z*scores.std() #z에 표준편차를 곱해주고 평균을 더해줌"
   ]
  },
  {
   "cell_type": "markdown",
   "id": "7d67bb60",
   "metadata": {},
   "source": [
    "### Z-score( normalized score)\n",
    "데이터가 평균으로부터 얼마나 떻어져 있는지를 나타내는 표준화된 점수.\n",
    "- <font color=violet>(데이터 - 평균)/표준편차.</font>\n",
    "- z_score가 양수이면 평균보다 높고, 음수이면 평균보다 낮은 값.\n"
   ]
  },
  {
   "cell_type": "code",
   "execution_count": 32,
   "id": "a8ba4ced",
   "metadata": {},
   "outputs": [
    {
     "data": {
      "text/plain": [
       "count    50.000000\n",
       "mean     58.380000\n",
       "std       9.799813\n",
       "min      37.000000\n",
       "25%      54.000000\n",
       "50%      57.500000\n",
       "75%      65.000000\n",
       "max      79.000000\n",
       "dtype: float64"
      ]
     },
     "execution_count": 32,
     "metadata": {},
     "output_type": "execute_result"
    }
   ],
   "source": [
    "#데이터의 시각화 \n",
    "\n",
    "english_scores=np.array(df.english) #여기까지는 배열\n",
    "pd.Series(english_scores).describe() #describe 보기위해 시리즈로 변경\n",
    "\n",
    "#np.array 형태로 데이터를 추출 한 후 pandas의 Series타입으로 변환=>판다스의 describe() 통계요약 함수로 데이터 정보 출력"
   ]
  },
  {
   "cell_type": "code",
   "execution_count": 33,
   "id": "5726553b",
   "metadata": {},
   "outputs": [
    {
     "data": {
      "text/plain": [
       "array([ 0,  0,  0,  2,  8, 16, 18,  6,  0,  0], dtype=int64)"
      ]
     },
     "execution_count": 33,
     "metadata": {},
     "output_type": "execute_result"
    }
   ],
   "source": [
    "#도수 분포표\n",
    "\n",
    "freq,_=np.histogram(english_scores,bins=10,range=(0,100))\n",
    "#데이터를 0~100까지의 범위안의 10개의 구간으로 나누어 각 구간의 데이터를 계산.\n",
    "\n",
    "freq\n",
    "\n",
    "#최소값이 37이고 최대값이 79이므로 그 사이의 값들만 출력 \n",
    "#30~40점 구간:2, 40~50점 구간: 8, 50~60점 구간:16, 60~70점 구간: 18, 70~80점 구간:6 개의 데이터가 속한다.\n",
    "\n",
    "\n",
    "\n",
    "#freq: 각 구간에 속하는 데이터의 개수를 담을 리스트. \n",
    "#_: 각 구간의 경계값을 담은 리스트. 이 코드에서 '_'를 사용하지 않으므로 무시한다. \n",
    "#hitogram(): 입력으로 받은 리스트를 bins로 나누어 각 구간에 속하는 데이터의 개수를 계산.\n",
    "#range=(0,100): 데이터 범위를 0~100점으로 제한"
   ]
  },
  {
   "cell_type": "markdown",
   "id": "e7bfe1df",
   "metadata": {},
   "source": [
    "### np.histogram()\n",
    "히스토그램은 데이터를 일정한 간격의 구간으로 나누어 각 구간에 속한 데이터의 갯수를 카운팅해 막대그래프로 나타낸다.\n",
    "- 각 구간(bins)의 데이터 갯수를 반환"
   ]
  },
  {
   "cell_type": "code",
   "execution_count": 34,
   "id": "fb140899",
   "metadata": {},
   "outputs": [
    {
     "data": {
      "text/plain": [
       "<AxesSubplot:ylabel='Count'>"
      ]
     },
     "execution_count": 34,
     "metadata": {},
     "output_type": "execute_result"
    },
    {
     "data": {
      "image/png": "[encoded data removed]",
      "text/plain": [
       "<Figure size 640x480 with 1 Axes>"
      ]
     },
     "metadata": {},
     "output_type": "display_data"
    }
   ],
   "source": [
    "sns.histplot(x=english_scores,bins=10)"
   ]
  },
  {
   "cell_type": "code",
   "execution_count": 35,
   "id": "4f7fe249",
   "metadata": {},
   "outputs": [
    {
     "name": "stdout",
     "output_type": "stream",
     "text": [
      "['0~10', '10~20', '20~30', '30~40', '40~50', '50~60', '60~70', '70~80', '80~90', '90~100'] \n",
      "\n",
      "        frequency\n",
      "class            \n",
      "0~10            0\n",
      "10~20           0\n",
      "20~30           0\n",
      "30~40           2\n",
      "40~50           8\n",
      "50~60          16\n",
      "60~70          18\n",
      "70~80           6\n",
      "80~90           0\n",
      "90~100          0\n"
     ]
    }
   ],
   "source": [
    "#도수 분포표(판다스)\n",
    "\n",
    "#빈도분포의 구간을 나타내는 리스트생성\n",
    "freq_class=[f'{i}~{i+10}'for i in range(0,100,10)]\n",
    "#0~99까지 10씩 증가하는 숫자들의 범위에서 'for' 문을 돌며 문자열 생성\n",
    "#ex) 'i=0' 일때는 '0~10'이라는 문자 생성 \n",
    "\n",
    "\n",
    "freq_dist_df=pd.DataFrame({'frequency':freq},index=pd.Index(freq_class,name='class'))\n",
    "#'freq'라는 데이터로 인덱스를 'freq_class'로하는 데이터프레임 생성.\n",
    "#{'frequency':freq} : 딕셔너리형태로 데이터 지정. 'freq'데이터의 컬럼명을 frequency'로 설정,\n",
    "#Index(freq_class,name='class'): 인덱스를 구간으로 설정하고 이름을 'class'로 지정\n",
    "\n",
    "print(freq_class,'\\n')\n",
    "print(freq_dist_df)"
   ]
  },
  {
   "cell_type": "code",
   "execution_count": 36,
   "id": "826b5d64",
   "metadata": {},
   "outputs": [
    {
     "data": {
      "text/plain": [
       "<AxesSubplot:xlabel='frequency', ylabel='Count'>"
      ]
     },
     "execution_count": 36,
     "metadata": {},
     "output_type": "execute_result"
    },
    {
     "data": {
      "image/png": "[encoded data removed]",
      "text/plain": [
       "<Figure size 640x480 with 1 Axes>"
      ]
     },
     "metadata": {},
     "output_type": "display_data"
    }
   ],
   "source": [
    "sns.histplot(data=freq_dist_df, x='frequency', kde=True)\n",
    "\n",
    "#kde: [Kernel Density Estimate]. 히스토그램 그래프에 밀도함수를 그리는지 여부 설정. \n",
    "#kde=True 로 하면 밀도함수가 함께 그려짐.\n",
    "#kde=False 로 하면 히스토그램만 그려짐 \n",
    "#밀도함수: 확률변수의 분포를 나타내는 곡선 \n",
    "#밀도함수가 큰 구간= 값이 나타날 확률이 큼.  정규분포의 밀도함수에서 중심에 가까운 값일수록 값이 큼. "
   ]
  },
  {
   "cell_type": "code",
   "execution_count": 37,
   "id": "65861244",
   "metadata": {},
   "outputs": [
    {
     "data": {
      "text/plain": [
       "[5, 15, 25, 35, 45, 55, 65, 75, 85, 95]"
      ]
     },
     "execution_count": 37,
     "metadata": {},
     "output_type": "execute_result"
    }
   ],
   "source": [
    "#계급값: 각 계급을 대표하는 값으로 계급의 중앙값이 이용됨.\n",
    "# 0부터 90까지 10씩 증가하는 숫자들의 중심값(class value)을 계산하는 코드\n",
    "\n",
    "class_value=[(i+(i+10))//2 for i in range(0,100,10)]\n",
    "#0~90까지 10씩 증가하는 숫자들에 대해 해당 숫자와 그 다음 숫자의 합을 구한다\n",
    "#ex:0과 10의 중심값은 (0+10)//2 = 5. 10과 20의 중심값은 15이므로, (10+20)//2 = 15\n",
    "class_value"
   ]
  },
  {
   "cell_type": "code",
   "execution_count": 38,
   "id": "18393b19",
   "metadata": {},
   "outputs": [
    {
     "data": {
      "text/plain": [
       "array([0.  , 0.  , 0.  , 0.04, 0.16, 0.32, 0.36, 0.12, 0.  , 0.  ])"
      ]
     },
     "execution_count": 38,
     "metadata": {},
     "output_type": "execute_result"
    }
   ],
   "source": [
    "#상대도수: 해당구간이 전체에서 차지하는 비율 \n",
    "#각 구간의 도수를 전체도수의 합으로 나눈값. = 해당구간이 전체에서 차지하는 비율 \n",
    "#ex) 0~10까지 구간의 도수가 10이고 전체가 100이면 10/100=0.1, 해당 구간이 전체에서 10%의 비율을 차지하고 있다는 뜻. \n",
    "#도수: 해당 구간의 데이터 갯수\n",
    "\n",
    "rel_freq=freq/freq.sum() \n",
    "rel_freq\n",
    "\n",
    "#freq: 어떤 데이터의 도수분포표에서 각 구간에 속하는 데이터의 빈도수\n",
    "#freq.sun() : freq리스트의 합. =데이터의 총 빈도수 \n",
    "#rel_freq : freq / 총빈도수 = 각 구간의 상대도수\n",
    "#4번 구간의 상대도수가 0.04 이므로 4%가 4번 구간에 속한다는 뜻. 5번 구간은 16%..."
   ]
  },
  {
   "cell_type": "code",
   "execution_count": 39,
   "id": "66e7a006",
   "metadata": {},
   "outputs": [
    {
     "data": {
      "text/plain": [
       "array([0.  , 0.  , 0.  , 0.04, 0.2 , 0.52, 0.88, 1.  , 1.  , 1.  ])"
      ]
     },
     "execution_count": 39,
     "metadata": {},
     "output_type": "execute_result"
    }
   ],
   "source": [
    "#누적 상대도수 : 해당 계급까지의 상대도수의 합. cum_rel_freq = 누계\n",
    "cum_rel_freq=np.cumsum(rel_freq)\n",
    "cum_rel_freq\n",
    "\n",
    "\n",
    "# rel_freq : 도수분포표에서 각 구간의 상대도수를 나타내는 리스트\n",
    "# np.cumsum() : 리스트의 누적합을 구한다. \n",
    "# 이 누적 상대도수는 각 구간 이하의 상대도수의 합.\n",
    "# ex1) 1번~5번구간의 누적 상대도수 = 0.04+0.16=0.20 이므로 데이터중 20%가 4번부터 5번 구간 까지에 속한다.\n",
    "# ex2) 1번~6번까지의 누적 상대도수= 0.04+0.16+0.32 = 0.52 데이터중 52%가 1번~6번 구간 까지에 속한다. "
   ]
  },
  {
   "cell_type": "code",
   "execution_count": 40,
   "id": "35146a4f",
   "metadata": {},
   "outputs": [
    {
     "data": {
      "text/html": [
       "<div>\n",
       "<style scoped>\n",
       "    .dataframe tbody tr th:only-of-type {\n",
       "        vertical-align: middle;\n",
       "    }\n",
       "\n",
       "    .dataframe tbody tr th {\n",
       "        vertical-align: top;\n",
       "    }\n",
       "\n",
       "    .dataframe thead th {\n",
       "        text-align: right;\n",
       "    }\n",
       "</style>\n",
       "<table border=\"1\" class=\"dataframe\">\n",
       "  <thead>\n",
       "    <tr style=\"text-align: right;\">\n",
       "      <th></th>\n",
       "      <th>class_value</th>\n",
       "      <th>frequency</th>\n",
       "      <th>relative_frequency</th>\n",
       "      <th>cumulative_frequency</th>\n",
       "    </tr>\n",
       "    <tr>\n",
       "      <th>class</th>\n",
       "      <th></th>\n",
       "      <th></th>\n",
       "      <th></th>\n",
       "      <th></th>\n",
       "    </tr>\n",
       "  </thead>\n",
       "  <tbody>\n",
       "    <tr>\n",
       "      <th>0~10</th>\n",
       "      <td>5</td>\n",
       "      <td>0</td>\n",
       "      <td>0.00</td>\n",
       "      <td>0.00</td>\n",
       "    </tr>\n",
       "    <tr>\n",
       "      <th>10~20</th>\n",
       "      <td>15</td>\n",
       "      <td>0</td>\n",
       "      <td>0.00</td>\n",
       "      <td>0.00</td>\n",
       "    </tr>\n",
       "    <tr>\n",
       "      <th>20~30</th>\n",
       "      <td>25</td>\n",
       "      <td>0</td>\n",
       "      <td>0.00</td>\n",
       "      <td>0.00</td>\n",
       "    </tr>\n",
       "    <tr>\n",
       "      <th>30~40</th>\n",
       "      <td>35</td>\n",
       "      <td>2</td>\n",
       "      <td>0.04</td>\n",
       "      <td>0.04</td>\n",
       "    </tr>\n",
       "    <tr>\n",
       "      <th>40~50</th>\n",
       "      <td>45</td>\n",
       "      <td>8</td>\n",
       "      <td>0.16</td>\n",
       "      <td>0.20</td>\n",
       "    </tr>\n",
       "    <tr>\n",
       "      <th>50~60</th>\n",
       "      <td>55</td>\n",
       "      <td>16</td>\n",
       "      <td>0.32</td>\n",
       "      <td>0.52</td>\n",
       "    </tr>\n",
       "    <tr>\n",
       "      <th>60~70</th>\n",
       "      <td>65</td>\n",
       "      <td>18</td>\n",
       "      <td>0.36</td>\n",
       "      <td>0.88</td>\n",
       "    </tr>\n",
       "    <tr>\n",
       "      <th>70~80</th>\n",
       "      <td>75</td>\n",
       "      <td>6</td>\n",
       "      <td>0.12</td>\n",
       "      <td>1.00</td>\n",
       "    </tr>\n",
       "    <tr>\n",
       "      <th>80~90</th>\n",
       "      <td>85</td>\n",
       "      <td>0</td>\n",
       "      <td>0.00</td>\n",
       "      <td>1.00</td>\n",
       "    </tr>\n",
       "    <tr>\n",
       "      <th>90~100</th>\n",
       "      <td>95</td>\n",
       "      <td>0</td>\n",
       "      <td>0.00</td>\n",
       "      <td>1.00</td>\n",
       "    </tr>\n",
       "  </tbody>\n",
       "</table>\n",
       "</div>"
      ],
      "text/plain": [
       "        class_value  frequency  relative_frequency  cumulative_frequency\n",
       "class                                                                   \n",
       "0~10              5          0                0.00                  0.00\n",
       "10~20            15          0                0.00                  0.00\n",
       "20~30            25          0                0.00                  0.00\n",
       "30~40            35          2                0.04                  0.04\n",
       "40~50            45          8                0.16                  0.20\n",
       "50~60            55         16                0.32                  0.52\n",
       "60~70            65         18                0.36                  0.88\n",
       "70~80            75          6                0.12                  1.00\n",
       "80~90            85          0                0.00                  1.00\n",
       "90~100           95          0                0.00                  1.00"
      ]
     },
     "execution_count": 40,
     "metadata": {},
     "output_type": "execute_result"
    }
   ],
   "source": [
    "#각 구간의 계급값, 도수, 상대도수, 누적 상대도수를 계산하는 코드\n",
    "\n",
    "freq_dist_df['class_value']= class_value  #class_value: 각 구간의 계급값\n",
    "#freq_dist_df: 도수분포표 df. / freq_dist_df['']: 컬럼명\n",
    "\n",
    "freq_dist_df['relative_frequency']=rel_freq #rel_freq: 각 구간의 상대도수\n",
    "\n",
    "freq_dist_df['cumulative_frequency']=cum_rel_freq #cum_rel_freq : 각 구간까지의 누정 상대도수\n",
    "freq_dist_df=freq_dist_df[['class_value','frequency','relative_frequency','cumulative_frequency']]\n",
    "#특정 열만 선택하여 데이터프레임 재구성 \n",
    "freq_dist_df\n",
    "#ex)30~40구간의 계급값 35, 도수 2, 상대도수 0.04, 누적상대도수 0.04 가 된다. \n",
    "\n",
    "\n",
    "#각 구간은 계급값,   도수,       상대도수,     누적 상대도수"
   ]
  },
  {
   "cell_type": "code",
   "execution_count": 41,
   "id": "41a9a67a",
   "metadata": {},
   "outputs": [
    {
     "data": {
      "text/plain": [
       "65"
      ]
     },
     "execution_count": 41,
     "metadata": {},
     "output_type": "execute_result"
    }
   ],
   "source": [
    "#위 그래프의 최빈값 구하기.\n",
    "#도수가 가장 큰 구간의 계급을 찾는 코드.\n",
    "\n",
    "freq_dist_df.loc[freq_dist_df.frequency.idxmax(),'class_value']\n",
    "\n",
    "#idxmax() : 데이터프레임에서 가장 큰 값을 가진 인덱스 반환= frequency열에서  가장 큰 값의 인덱스 반환\n",
    "#loc[]: 행과 열을 선택할 때 사용 ->여기서는 idxmax()가 반환한 인덱스에 해당하는 행을 선택\n",
    "#class_velue 선택 이유: 도수가 가장 큰 구간의 계급값을 찾아서 반환한다. =가장 큰 도수(18)의 계급값 (65) "
   ]
  },
  {
   "cell_type": "code",
   "execution_count": 42,
   "id": "300793bf",
   "metadata": {},
   "outputs": [
    {
     "data": {
      "image/png": "[encoded data removed]",
      "text/plain": [
       "<Figure size 1000x600 with 1 Axes>"
      ]
     },
     "metadata": {},
     "output_type": "display_data"
    }
   ],
   "source": [
    "#히스토그램: 도수분포표를 막대그래프로 표현 (클래스가 x축, 각 구간의 빈도가 y)\n",
    "#영어 점수 데이터의 히스토그램을 그리고, x축과 y축의 레이블 및 눈금을 설정\n",
    "\n",
    "import matplotlib.pyplot as plt\n",
    "plt.figure(figsize=(10,6))\n",
    "\n",
    "freq,_,_= plt.hist(english_scores,bins=10, range=(0,100)) #0~100까지 10개의 구간\n",
    "plt.xlabel('score')\n",
    "plt.ylabel('person number')\n",
    "plt.xticks(np.linspace(0,100,10+1)) # np.linspace()함수는 시작점.끝점.구간수를 입력받아 선형적으로 분할 된 값 생성\n",
    "plt.yticks(np.arange(0,freq.max()+1))\n",
    "# y축 눈금을 0부터 가장 큰 빈도수까지 1씩 증가하도록 설정. \n",
    "# np.arange() 함수는 시작점과 끝점, 간격을 입력받아 값의 배열 생성\n",
    "plt.show()"
   ]
  },
  {
   "cell_type": "markdown",
   "id": "11b19da2",
   "metadata": {},
   "source": [
    "### np.linespace()\n",
    "\n",
    "주어진 범위 내에서 균등 간격의 일련의 값을 생성.\n",
    "\n",
    "- np.linspace(start, stop, num=50, endpoint=True, retstep=False, dtype=None, axis=0)  이런식으로 사용됨.\n",
    "    - start : 시작값\n",
    "    - stop : 끝값\n",
    "    - num : 생성할 데이터 수 \n",
    "    - endpoint: 끝값을 포함할지 여부. False로 설정하면 끝값을 생성하지 않는다. \n",
    "    - retstep: 반환값에 간격(step) 값을 포함할지 여부. True로 설정하면 생성된 데이터의 간격(step)값을 반환한다. \n",
    "    - dtype: 생성할 데이터의 자료형.생성할 데이터의 자료형을 설정가능. ex)dtype=int 을 적용시 정수형 데이터 출력 \n",
    "    - axis: 배열의 축"
   ]
  },
  {
   "cell_type": "code",
   "execution_count": 43,
   "id": "e90b0b3b",
   "metadata": {
    "scrolled": false
   },
   "outputs": [
    {
     "data": {
      "text/plain": [
       "(array([ 0.,  0.,  0.,  2.,  8., 16., 18.,  6.,  0.,  0.]),\n",
       " array([  0.,  10.,  20.,  30.,  40.,  50.,  60.,  70.,  80.,  90., 100.]),\n",
       " <BarContainer object of 10 artists>)"
      ]
     },
     "execution_count": 43,
     "metadata": {},
     "output_type": "execute_result"
    },
    {
     "data": {
      "image/png": "[encoded data removed]",
      "text/plain": [
       "<Figure size 1000x600 with 1 Axes>"
      ]
     },
     "metadata": {},
     "output_type": "display_data"
    }
   ],
   "source": [
    "import matplotlib.pyplot as plt\n",
    "plt.figure(figsize=(10,6))\n",
    "plt.hist(english_scores, bins=10, range=(0,100))"
   ]
  },
  {
   "cell_type": "code",
   "execution_count": 44,
   "id": "5228c78c",
   "metadata": {
    "scrolled": false
   },
   "outputs": [
    {
     "name": "stdout",
     "output_type": "stream",
     "text": [
      "[0.   0.   0.   0.   0.   0.   0.   0.   0.   0.04 0.06 0.06 0.06 0.14\n",
      " 0.16 0.12 0.2  0.1  0.04 0.02 0.   0.   0.   0.   0.  ]\n"
     ]
    },
    {
     "data": {
      "image/png": "[encoded data removed]",
      "text/plain": [
       "<Figure size 1000x600 with 1 Axes>"
      ]
     },
     "metadata": {},
     "output_type": "display_data"
    }
   ],
   "source": [
    "fig=plt.figure(figsize=(10,6))\n",
    "ax1=fig.add_subplot(111)\n",
    "\n",
    "weights=np.ones_like(english_scores) / len(english_scores)\n",
    "rel_freq,_,_ = ax1.hist(english_scores,bins=25,\n",
    "                       range=(0,100),weights=weights)\n",
    "\n",
    "print(rel_freq)\n",
    "ax1.set_xlabel('score')\n",
    "ax1.set_ylabel('relative frequency')\n",
    "ax1.set_xticks(np.linspace(0,100,25+1))\n",
    "plt.show()"
   ]
  },
  {
   "cell_type": "markdown",
   "id": "ebff153e",
   "metadata": {},
   "source": [
    "### 과제1\n",
    "클래스별 빈도를 나타내는 히스토그램을 추가하여 누적 상대도수 (y축 왼쪽)을 꺾은 선 그래프로 표현하세요."
   ]
  },
  {
   "cell_type": "code",
   "execution_count": 45,
   "id": "7bb7d18e",
   "metadata": {},
   "outputs": [
    {
     "name": "stdout",
     "output_type": "stream",
     "text": [
      "[ 0.  0.  0.  2.  8. 16. 18.  6.  0.  0.]\n",
      "[0.   0.   0.   0.04 0.2  0.52 0.88 1.   1.   1.  ]\n"
     ]
    },
    {
     "data": {
      "image/png": "[encoded data removed]",
      "text/plain": [
       "<Figure size 1000x600 with 2 Axes>"
      ]
     },
     "metadata": {},
     "output_type": "display_data"
    }
   ],
   "source": [
    "plt.figure(figsize=(10,6))\n",
    "freq,_,_=plt.hist(english_scores, bins=10, range=(0,100))\n",
    "plt.xlabel('score')\n",
    "plt.ylabel('person number')\n",
    "plt.xticks(np.linspace(0,100,10+1)) #tickx= 눈금 구하기 \n",
    "plt.yticks(np.arange(0,freq.max()+1))\n",
    "###################################################### 이 위 쪽은 꾸미기. 순서가 바뀌니까 그래프가 변하네 왜지..  \n",
    "\n",
    "ax=plt.twinx() #y축 분리된 그래프 따로 만들어서 합치기\n",
    "x=np.linspace(0,100,10) \n",
    "y=cum_rel_freq\n",
    "ax.plot(x,y,color='maroon',marker='v',markersize=3) #누적상태 보여주는 꺾은 선 그래프. \n",
    "\n",
    "print(freq)\n",
    "print(y)\n",
    "\n",
    "plt.show()\n"
   ]
  },
  {
   "cell_type": "code",
   "execution_count": 46,
   "id": "5117b13a",
   "metadata": {},
   "outputs": [
    {
     "data": {
      "image/png": "[encoded data removed]",
      "text/plain": [
       "<Figure size 500x600 with 1 Axes>"
      ]
     },
     "metadata": {},
     "output_type": "display_data"
    }
   ],
   "source": [
    "#box plot\n",
    "import warnings\n",
    "warnings.filterwarnings('ignore')\n",
    "plt.figure(figsize=(5,6))\n",
    "plt.boxplot(english_scores,labels=['english'])\n",
    "plt.show()"
   ]
  },
  {
   "cell_type": "code",
   "execution_count": 47,
   "id": "8255cdc3",
   "metadata": {},
   "outputs": [
    {
     "data": {
      "text/plain": [
       "count    50.000000\n",
       "mean     58.380000\n",
       "std       9.799813\n",
       "min      37.000000\n",
       "25%      54.000000\n",
       "50%      57.500000\n",
       "75%      65.000000\n",
       "max      79.000000\n",
       "dtype: float64"
      ]
     },
     "execution_count": 47,
     "metadata": {},
     "output_type": "execute_result"
    }
   ],
   "source": [
    "english_scores=np.array(df.english)\n",
    "pd.Series(english_scores).describe()"
   ]
  },
  {
   "cell_type": "markdown",
   "id": "27bde15e",
   "metadata": {},
   "source": [
    "### [과제2]\n",
    "타이타닉 데이터셋에서 age,pclass,fare,sex,embarked 컬럼 중 2개를 선택하여 컬럼의 특징을 설명하고 종속변수인 survived와의 관계를 기술하세요.\n",
    "\n",
    "- 각 컬럼에 대한 전처리 후 기초통계량 (연속형인 경우 해당. 범주형일 경우에는 다른방법 모색할것),\n",
    "- 시각화를 통한 분포 및 특징 탐색. 이상치 여부 탐색\n",
    "- 선택한 컬럼을 가장 잘 활용할 수 있는 형태로 변환"
   ]
  },
  {
   "cell_type": "markdown",
   "id": "3f2503f9",
   "metadata": {},
   "source": [
    "nulㅣ처리->이상치 탐색 ->박스플롯과 히스토플랏 보고 유난히 튀는 이상치는 삭제 가능. <br>\n",
    "통계적으로 나온다고 해서 무조건 이상치라고 보면 안됨. 이상치는 에러가 있을 경우.  <br>\n",
    "나이에서 이상치가 나올경우 어린사람이 밀집되어있다보니 고령자가 이상치로 인식될 수 있다.\n",
    "현대그룹 회장의 급여가 현대그룹 인건비에 섞여있으면 이상치로 인식 된다.\n",
    "하지만 이상치가 아니다. "
   ]
  },
  {
   "cell_type": "code",
   "execution_count": 57,
   "id": "a3433166",
   "metadata": {},
   "outputs": [],
   "source": [
    "import random\n",
    "import numpy as np\n",
    "from numpy import random as npr\n",
    "import pandas as pd\n",
    "import matplotlib.pyplot as plt\n",
    "import seaborn as sns\n",
    "from matplotlib import rc\n",
    "rc('font',family='Malgun Gothic') #한글폰트\n",
    "plt.rcParams['axes.unicode_minus']=False #마이너스 부호 출력 설정"
   ]
  },
  {
   "cell_type": "code",
   "execution_count": 58,
   "id": "5bb3aedc",
   "metadata": {},
   "outputs": [
    {
     "data": {
      "text/html": [
       "<div>\n",
       "<style scoped>\n",
       "    .dataframe tbody tr th:only-of-type {\n",
       "        vertical-align: middle;\n",
       "    }\n",
       "\n",
       "    .dataframe tbody tr th {\n",
       "        vertical-align: top;\n",
       "    }\n",
       "\n",
       "    .dataframe thead th {\n",
       "        text-align: right;\n",
       "    }\n",
       "</style>\n",
       "<table border=\"1\" class=\"dataframe\">\n",
       "  <thead>\n",
       "    <tr style=\"text-align: right;\">\n",
       "      <th></th>\n",
       "      <th>pclass</th>\n",
       "      <th>survived</th>\n",
       "      <th>name</th>\n",
       "      <th>sex</th>\n",
       "      <th>age</th>\n",
       "      <th>sibsp</th>\n",
       "      <th>parch</th>\n",
       "      <th>ticket</th>\n",
       "      <th>fare</th>\n",
       "      <th>cabin</th>\n",
       "      <th>embarked</th>\n",
       "      <th>boat</th>\n",
       "      <th>body</th>\n",
       "      <th>home.dest</th>\n",
       "    </tr>\n",
       "  </thead>\n",
       "  <tbody>\n",
       "    <tr>\n",
       "      <th>0</th>\n",
       "      <td>1</td>\n",
       "      <td>1</td>\n",
       "      <td>Allen, Miss. Elisabeth Walton</td>\n",
       "      <td>female</td>\n",
       "      <td>29.00</td>\n",
       "      <td>0</td>\n",
       "      <td>0</td>\n",
       "      <td>24160</td>\n",
       "      <td>211.3375</td>\n",
       "      <td>B5</td>\n",
       "      <td>S</td>\n",
       "      <td>2</td>\n",
       "      <td>NaN</td>\n",
       "      <td>St Louis, MO</td>\n",
       "    </tr>\n",
       "    <tr>\n",
       "      <th>1</th>\n",
       "      <td>1</td>\n",
       "      <td>1</td>\n",
       "      <td>Allison, Master. Hudson Trevor</td>\n",
       "      <td>male</td>\n",
       "      <td>0.92</td>\n",
       "      <td>1</td>\n",
       "      <td>2</td>\n",
       "      <td>113781</td>\n",
       "      <td>151.5500</td>\n",
       "      <td>C22 C26</td>\n",
       "      <td>S</td>\n",
       "      <td>11</td>\n",
       "      <td>NaN</td>\n",
       "      <td>Montreal, PQ / Chesterville, ON</td>\n",
       "    </tr>\n",
       "    <tr>\n",
       "      <th>2</th>\n",
       "      <td>1</td>\n",
       "      <td>0</td>\n",
       "      <td>Allison, Miss. Helen Loraine</td>\n",
       "      <td>female</td>\n",
       "      <td>2.00</td>\n",
       "      <td>1</td>\n",
       "      <td>2</td>\n",
       "      <td>113781</td>\n",
       "      <td>151.5500</td>\n",
       "      <td>C22 C26</td>\n",
       "      <td>S</td>\n",
       "      <td>NaN</td>\n",
       "      <td>NaN</td>\n",
       "      <td>Montreal, PQ / Chesterville, ON</td>\n",
       "    </tr>\n",
       "    <tr>\n",
       "      <th>3</th>\n",
       "      <td>1</td>\n",
       "      <td>0</td>\n",
       "      <td>Allison, Mr. Hudson Joshua Creighton</td>\n",
       "      <td>male</td>\n",
       "      <td>30.00</td>\n",
       "      <td>1</td>\n",
       "      <td>2</td>\n",
       "      <td>113781</td>\n",
       "      <td>151.5500</td>\n",
       "      <td>C22 C26</td>\n",
       "      <td>S</td>\n",
       "      <td>NaN</td>\n",
       "      <td>135.0</td>\n",
       "      <td>Montreal, PQ / Chesterville, ON</td>\n",
       "    </tr>\n",
       "    <tr>\n",
       "      <th>4</th>\n",
       "      <td>1</td>\n",
       "      <td>0</td>\n",
       "      <td>Allison, Mrs. Hudson J C (Bessie Waldo Daniels)</td>\n",
       "      <td>female</td>\n",
       "      <td>25.00</td>\n",
       "      <td>1</td>\n",
       "      <td>2</td>\n",
       "      <td>113781</td>\n",
       "      <td>151.5500</td>\n",
       "      <td>C22 C26</td>\n",
       "      <td>S</td>\n",
       "      <td>NaN</td>\n",
       "      <td>NaN</td>\n",
       "      <td>Montreal, PQ / Chesterville, ON</td>\n",
       "    </tr>\n",
       "  </tbody>\n",
       "</table>\n",
       "</div>"
      ],
      "text/plain": [
       "   pclass  survived                                             name     sex  \\\n",
       "0       1         1                    Allen, Miss. Elisabeth Walton  female   \n",
       "1       1         1                   Allison, Master. Hudson Trevor    male   \n",
       "2       1         0                     Allison, Miss. Helen Loraine  female   \n",
       "3       1         0             Allison, Mr. Hudson Joshua Creighton    male   \n",
       "4       1         0  Allison, Mrs. Hudson J C (Bessie Waldo Daniels)  female   \n",
       "\n",
       "     age  sibsp  parch  ticket      fare    cabin embarked boat   body  \\\n",
       "0  29.00      0      0   24160  211.3375       B5        S    2    NaN   \n",
       "1   0.92      1      2  113781  151.5500  C22 C26        S   11    NaN   \n",
       "2   2.00      1      2  113781  151.5500  C22 C26        S  NaN    NaN   \n",
       "3  30.00      1      2  113781  151.5500  C22 C26        S  NaN  135.0   \n",
       "4  25.00      1      2  113781  151.5500  C22 C26        S  NaN    NaN   \n",
       "\n",
       "                         home.dest  \n",
       "0                     St Louis, MO  \n",
       "1  Montreal, PQ / Chesterville, ON  \n",
       "2  Montreal, PQ / Chesterville, ON  \n",
       "3  Montreal, PQ / Chesterville, ON  \n",
       "4  Montreal, PQ / Chesterville, ON  "
      ]
     },
     "execution_count": 58,
     "metadata": {},
     "output_type": "execute_result"
    }
   ],
   "source": [
    "df=pd.read_csv('./dataset/titanic3.csv',encoding='euc-kr')\n",
    "df.head()"
   ]
  },
  {
   "cell_type": "code",
   "execution_count": 59,
   "id": "fb0a4b60",
   "metadata": {},
   "outputs": [
    {
     "data": {
      "text/plain": [
       "pclass          0\n",
       "survived        0\n",
       "name            0\n",
       "sex             0\n",
       "age           263\n",
       "sibsp           0\n",
       "parch           0\n",
       "ticket          0\n",
       "fare            1\n",
       "cabin        1014\n",
       "embarked        2\n",
       "boat          823\n",
       "body         1188\n",
       "home.dest     564\n",
       "dtype: int64"
      ]
     },
     "execution_count": 59,
     "metadata": {},
     "output_type": "execute_result"
    }
   ],
   "source": [
    "df.isnull().sum()"
   ]
  },
  {
   "cell_type": "code",
   "execution_count": 60,
   "id": "9b5483cf",
   "metadata": {},
   "outputs": [
    {
     "data": {
      "text/html": [
       "<div>\n",
       "<style scoped>\n",
       "    .dataframe tbody tr th:only-of-type {\n",
       "        vertical-align: middle;\n",
       "    }\n",
       "\n",
       "    .dataframe tbody tr th {\n",
       "        vertical-align: top;\n",
       "    }\n",
       "\n",
       "    .dataframe thead th {\n",
       "        text-align: right;\n",
       "    }\n",
       "</style>\n",
       "<table border=\"1\" class=\"dataframe\">\n",
       "  <thead>\n",
       "    <tr style=\"text-align: right;\">\n",
       "      <th></th>\n",
       "      <th>pclass</th>\n",
       "      <th>survived</th>\n",
       "      <th>age</th>\n",
       "      <th>sibsp</th>\n",
       "      <th>parch</th>\n",
       "      <th>fare</th>\n",
       "      <th>body</th>\n",
       "    </tr>\n",
       "  </thead>\n",
       "  <tbody>\n",
       "    <tr>\n",
       "      <th>count</th>\n",
       "      <td>1309.000000</td>\n",
       "      <td>1309.000000</td>\n",
       "      <td>1046.000000</td>\n",
       "      <td>1309.000000</td>\n",
       "      <td>1309.000000</td>\n",
       "      <td>1308.000000</td>\n",
       "      <td>121.000000</td>\n",
       "    </tr>\n",
       "    <tr>\n",
       "      <th>mean</th>\n",
       "      <td>2.294882</td>\n",
       "      <td>0.381971</td>\n",
       "      <td>29.881138</td>\n",
       "      <td>0.498854</td>\n",
       "      <td>0.385027</td>\n",
       "      <td>33.295479</td>\n",
       "      <td>160.809917</td>\n",
       "    </tr>\n",
       "    <tr>\n",
       "      <th>std</th>\n",
       "      <td>0.837836</td>\n",
       "      <td>0.486055</td>\n",
       "      <td>14.413493</td>\n",
       "      <td>1.041658</td>\n",
       "      <td>0.865560</td>\n",
       "      <td>51.758668</td>\n",
       "      <td>97.696922</td>\n",
       "    </tr>\n",
       "    <tr>\n",
       "      <th>min</th>\n",
       "      <td>1.000000</td>\n",
       "      <td>0.000000</td>\n",
       "      <td>0.170000</td>\n",
       "      <td>0.000000</td>\n",
       "      <td>0.000000</td>\n",
       "      <td>0.000000</td>\n",
       "      <td>1.000000</td>\n",
       "    </tr>\n",
       "    <tr>\n",
       "      <th>25%</th>\n",
       "      <td>2.000000</td>\n",
       "      <td>0.000000</td>\n",
       "      <td>21.000000</td>\n",
       "      <td>0.000000</td>\n",
       "      <td>0.000000</td>\n",
       "      <td>7.895800</td>\n",
       "      <td>72.000000</td>\n",
       "    </tr>\n",
       "    <tr>\n",
       "      <th>50%</th>\n",
       "      <td>3.000000</td>\n",
       "      <td>0.000000</td>\n",
       "      <td>28.000000</td>\n",
       "      <td>0.000000</td>\n",
       "      <td>0.000000</td>\n",
       "      <td>14.454200</td>\n",
       "      <td>155.000000</td>\n",
       "    </tr>\n",
       "    <tr>\n",
       "      <th>75%</th>\n",
       "      <td>3.000000</td>\n",
       "      <td>1.000000</td>\n",
       "      <td>39.000000</td>\n",
       "      <td>1.000000</td>\n",
       "      <td>0.000000</td>\n",
       "      <td>31.275000</td>\n",
       "      <td>256.000000</td>\n",
       "    </tr>\n",
       "    <tr>\n",
       "      <th>max</th>\n",
       "      <td>3.000000</td>\n",
       "      <td>1.000000</td>\n",
       "      <td>80.000000</td>\n",
       "      <td>8.000000</td>\n",
       "      <td>9.000000</td>\n",
       "      <td>512.329200</td>\n",
       "      <td>328.000000</td>\n",
       "    </tr>\n",
       "  </tbody>\n",
       "</table>\n",
       "</div>"
      ],
      "text/plain": [
       "            pclass     survived          age        sibsp        parch  \\\n",
       "count  1309.000000  1309.000000  1046.000000  1309.000000  1309.000000   \n",
       "mean      2.294882     0.381971    29.881138     0.498854     0.385027   \n",
       "std       0.837836     0.486055    14.413493     1.041658     0.865560   \n",
       "min       1.000000     0.000000     0.170000     0.000000     0.000000   \n",
       "25%       2.000000     0.000000    21.000000     0.000000     0.000000   \n",
       "50%       3.000000     0.000000    28.000000     0.000000     0.000000   \n",
       "75%       3.000000     1.000000    39.000000     1.000000     0.000000   \n",
       "max       3.000000     1.000000    80.000000     8.000000     9.000000   \n",
       "\n",
       "              fare        body  \n",
       "count  1308.000000  121.000000  \n",
       "mean     33.295479  160.809917  \n",
       "std      51.758668   97.696922  \n",
       "min       0.000000    1.000000  \n",
       "25%       7.895800   72.000000  \n",
       "50%      14.454200  155.000000  \n",
       "75%      31.275000  256.000000  \n",
       "max     512.329200  328.000000  "
      ]
     },
     "execution_count": 60,
     "metadata": {},
     "output_type": "execute_result"
    }
   ],
   "source": [
    "df.describe()"
   ]
  },
  {
   "cell_type": "code",
   "execution_count": 61,
   "id": "218ecb28",
   "metadata": {},
   "outputs": [
    {
     "data": {
      "text/html": [
       "<div>\n",
       "<style scoped>\n",
       "    .dataframe tbody tr th:only-of-type {\n",
       "        vertical-align: middle;\n",
       "    }\n",
       "\n",
       "    .dataframe tbody tr th {\n",
       "        vertical-align: top;\n",
       "    }\n",
       "\n",
       "    .dataframe thead th {\n",
       "        text-align: right;\n",
       "    }\n",
       "</style>\n",
       "<table border=\"1\" class=\"dataframe\">\n",
       "  <thead>\n",
       "    <tr style=\"text-align: right;\">\n",
       "      <th></th>\n",
       "      <th>pclass</th>\n",
       "      <th>survived</th>\n",
       "      <th>age</th>\n",
       "      <th>sibsp</th>\n",
       "      <th>parch</th>\n",
       "      <th>fare</th>\n",
       "      <th>body</th>\n",
       "    </tr>\n",
       "  </thead>\n",
       "  <tbody>\n",
       "    <tr>\n",
       "      <th>pclass</th>\n",
       "      <td>1.000000</td>\n",
       "      <td>-0.312469</td>\n",
       "      <td>-0.408106</td>\n",
       "      <td>0.060832</td>\n",
       "      <td>0.018322</td>\n",
       "      <td>-0.558629</td>\n",
       "      <td>-0.034642</td>\n",
       "    </tr>\n",
       "    <tr>\n",
       "      <th>survived</th>\n",
       "      <td>-0.312469</td>\n",
       "      <td>1.000000</td>\n",
       "      <td>-0.055512</td>\n",
       "      <td>-0.027825</td>\n",
       "      <td>0.082660</td>\n",
       "      <td>0.244265</td>\n",
       "      <td>NaN</td>\n",
       "    </tr>\n",
       "    <tr>\n",
       "      <th>age</th>\n",
       "      <td>-0.408106</td>\n",
       "      <td>-0.055512</td>\n",
       "      <td>1.000000</td>\n",
       "      <td>-0.243699</td>\n",
       "      <td>-0.150917</td>\n",
       "      <td>0.178740</td>\n",
       "      <td>0.058809</td>\n",
       "    </tr>\n",
       "    <tr>\n",
       "      <th>sibsp</th>\n",
       "      <td>0.060832</td>\n",
       "      <td>-0.027825</td>\n",
       "      <td>-0.243699</td>\n",
       "      <td>1.000000</td>\n",
       "      <td>0.373587</td>\n",
       "      <td>0.160238</td>\n",
       "      <td>-0.099961</td>\n",
       "    </tr>\n",
       "    <tr>\n",
       "      <th>parch</th>\n",
       "      <td>0.018322</td>\n",
       "      <td>0.082660</td>\n",
       "      <td>-0.150917</td>\n",
       "      <td>0.373587</td>\n",
       "      <td>1.000000</td>\n",
       "      <td>0.221539</td>\n",
       "      <td>0.051099</td>\n",
       "    </tr>\n",
       "    <tr>\n",
       "      <th>fare</th>\n",
       "      <td>-0.558629</td>\n",
       "      <td>0.244265</td>\n",
       "      <td>0.178740</td>\n",
       "      <td>0.160238</td>\n",
       "      <td>0.221539</td>\n",
       "      <td>1.000000</td>\n",
       "      <td>-0.043110</td>\n",
       "    </tr>\n",
       "    <tr>\n",
       "      <th>body</th>\n",
       "      <td>-0.034642</td>\n",
       "      <td>NaN</td>\n",
       "      <td>0.058809</td>\n",
       "      <td>-0.099961</td>\n",
       "      <td>0.051099</td>\n",
       "      <td>-0.043110</td>\n",
       "      <td>1.000000</td>\n",
       "    </tr>\n",
       "  </tbody>\n",
       "</table>\n",
       "</div>"
      ],
      "text/plain": [
       "            pclass  survived       age     sibsp     parch      fare      body\n",
       "pclass    1.000000 -0.312469 -0.408106  0.060832  0.018322 -0.558629 -0.034642\n",
       "survived -0.312469  1.000000 -0.055512 -0.027825  0.082660  0.244265       NaN\n",
       "age      -0.408106 -0.055512  1.000000 -0.243699 -0.150917  0.178740  0.058809\n",
       "sibsp     0.060832 -0.027825 -0.243699  1.000000  0.373587  0.160238 -0.099961\n",
       "parch     0.018322  0.082660 -0.150917  0.373587  1.000000  0.221539  0.051099\n",
       "fare     -0.558629  0.244265  0.178740  0.160238  0.221539  1.000000 -0.043110\n",
       "body     -0.034642       NaN  0.058809 -0.099961  0.051099 -0.043110  1.000000"
      ]
     },
     "execution_count": 61,
     "metadata": {},
     "output_type": "execute_result"
    }
   ],
   "source": [
    "df.corr() #상관계수 "
   ]
  },
  {
   "cell_type": "markdown",
   "id": "71d0da33",
   "metadata": {},
   "source": [
    "## fare\n",
    "- 평균 (33.295479)과 중앙값 (14.454200)의 차이가 큰 편\n",
    "    - 특히 max값이 512.329200으로 평균과 차이가 많이 나는 것을 볼 수 있음.\n",
    "    - 박스 플랏을 보면 upper whisker가 아주 많은 것을 볼 수 있다.\n",
    "- 왼쪽으로 극적으로 치우쳐진 그래프\n",
    "- 이상치 범위 : 66.34~\n",
    "    - lower whisker는 없음 / upper whisker 만 171개"
   ]
  },
  {
   "cell_type": "markdown",
   "id": "4cb8a194",
   "metadata": {},
   "source": [
    "## age\n",
    "- 평균 (29.892983)과 중앙값 (30)이 큰 차이가 없음.\n",
    "- 최소, 최댓값을 고려하면 다소 치우친 그래프임을 알 수 있음.\n",
    "- 이상치 범위 : ~ 0.44/ 57.34\n",
    "    - 최고령자가 80이라는 걸 생각하면 이상치가 생각보다 많이 나옴.\n",
    "- 주로 20~40대에 사람들이 많이 몰렸다는 것을 볼 수 있음. (상대도수 그래프 참고)"
   ]
  },
  {
   "cell_type": "code",
   "execution_count": 62,
   "id": "b3c3ef16",
   "metadata": {},
   "outputs": [],
   "source": [
    "#나이 nan 처리 \n",
    "\n",
    "df['age'].replace(np.nan, 1000, inplace=True) #age열의 누락값을 임의로 1000으로 바꿈.\n",
    "ix = df['age']!=1000\n",
    "ix2 = df['age']==1000\n",
    "ix3 = df['sex']=='female'\n",
    "ix4 = df['sex']=='male'\n",
    "\n",
    "idx1 = df['name'].str.contains('Miss. ')   #미혼 여성\n",
    "idx2 = df['name'].str.contains('Mrs. ')    #기혼 여성\n",
    "idx3 = df['name'].str.contains('Dr. ')     #의사\n",
    "idx4 = df['name'].str.contains('Master. ') #남자\n",
    "idx6 = df['name'].str.contains('Mr. ')     #남자\n",
    "idx7 = df['name'].str.contains('Ms. ')     #여자\n",
    "\n",
    "miss = df['age'][idx1&ix].mean()\n",
    "mrs = df['age'][idx2&ix].mean()\n",
    "dr1 = df['age'][idx3&ix&ix3].mean()#  의사인데 NuN값의 여성 의 평균\n",
    "dr2 = df['age'][idx3&ix&ix4].mean() #  의사인데 NuN값의 남성 의 평균\n",
    "master = df['age'][idx4&ix].mean() # Master 인데 NuN값의 남성 의 평균\n",
    "mr = df['age'][idx6&ix].mean() # 남성이면서 NuN값의 평균나이 \n",
    "ms = df['age'][idx7&ix].mean() # 여성이면서 NuN값의 평균나이 \n",
    "\n",
    "\n",
    "# 특정 조건에 앞서 계산한 해당 평균값 대입. \n",
    "df['age'][idx1&ix2] = miss\n",
    "df['age'][idx2&ix2] = mrs\n",
    "df['age'][idx3&ix2&ix3] = dr1  #의사이면서 나이가 1000인 여성(=누락값에 평균대입)\n",
    "df['age'][idx3&ix2&ix4] = dr2  #의사이면서 나이가 1000인 남성\n",
    "df['age'][idx4&ix2] = master\n",
    "df['age'][idx6&ix2] = mr\n",
    "df['age'][idx7&ix2] = ms\n",
    "\n",
    "# 요금 nan처리\n",
    "\n",
    "df.fare.replace(np.nan, df['fare'].mean(), inplace=True)\n",
    "#fare의 누락된 값을 승객의 평균요금으로 대체.\n",
    "\n",
    "\n"
   ]
  },
  {
   "cell_type": "code",
   "execution_count": 63,
   "id": "cf7d81b7",
   "metadata": {},
   "outputs": [
    {
     "data": {
      "image/png": "[encoded data removed]",
      "text/plain": [
       "<Figure size 500x600 with 1 Axes>"
      ]
     },
     "metadata": {},
     "output_type": "display_data"
    }
   ],
   "source": [
    "plt.figure(figsize=(5,6))\n",
    "plt.boxplot(df.age,labels=['age'])\n",
    "plt.show()"
   ]
  },
  {
   "cell_type": "code",
   "execution_count": 65,
   "id": "aac54231",
   "metadata": {},
   "outputs": [
    {
     "name": "stdout",
     "output_type": "stream",
     "text": [
      "이상치: ~0.44/57.34~\n"
     ]
    },
    {
     "data": {
      "text/plain": [
       "52"
      ]
     },
     "execution_count": 65,
     "metadata": {},
     "output_type": "execute_result"
    }
   ],
   "source": [
    "#이상치 탐색 방법 2가지\n",
    "\n",
    "q1 = np.percentile(df.age,25)\n",
    "q3 = np.percentile(df.age, 75)\n",
    "IQR15 = (q3-q1)*1.5\n",
    "abv = df[(df['age']<= q1-IQR15)| (df['age'] >= q3+IQR15)]\n",
    "\n",
    "q1 = df.age.describe()['25%']\n",
    "q2 = df.age.describe()['75%']\n",
    "IQR = q3-q1\n",
    "abv = df[(df['age']<= q1-(IQR*1.5))|(df['age']>=q3+(IQR*1.5))]\n",
    "\n",
    "print(f\"이상치: ~{(q1-(IQR*1.5)).round(2)}/{(q3+(IQR*1.5)).round(2)}~\")\n",
    "len(abv)\n",
    "\n",
    "#단, 이상치 개수가 많은 편이고, 부적절한 데이터라 생각될 정도의 이상치도 아니므로\n",
    "#삭제 처리는 하지 않음.\n",
    "#그냥 타이타닉 평균 나이대 등을 파악할 때 참고하는 정도. \n"
   ]
  },
  {
   "cell_type": "code",
   "execution_count": 66,
   "id": "4c8f0c25",
   "metadata": {},
   "outputs": [
    {
     "data": {
      "image/png": "[encoded data removed]",
      "text/plain": [
       "<Figure size 800x600 with 1 Axes>"
      ]
     },
     "metadata": {},
     "output_type": "display_data"
    }
   ],
   "source": [
    "plt.figure(figsize=(8,6))\n",
    "freq,_,_ = plt.hist(df.age, bins=8, range=(0,80))\n",
    "\n",
    "freq,_ = np.histogram(df.age, bins=8, range=(0,80)) \n",
    "#각 구간의 값 개수 count"
   ]
  },
  {
   "cell_type": "code",
   "execution_count": 68,
   "id": "0a997d6f",
   "metadata": {},
   "outputs": [
    {
     "data": {
      "text/html": [
       "<div>\n",
       "<style scoped>\n",
       "    .dataframe tbody tr th:only-of-type {\n",
       "        vertical-align: middle;\n",
       "    }\n",
       "\n",
       "    .dataframe tbody tr th {\n",
       "        vertical-align: top;\n",
       "    }\n",
       "\n",
       "    .dataframe thead th {\n",
       "        text-align: right;\n",
       "    }\n",
       "</style>\n",
       "<table border=\"1\" class=\"dataframe\">\n",
       "  <thead>\n",
       "    <tr style=\"text-align: right;\">\n",
       "      <th></th>\n",
       "      <th>class_v</th>\n",
       "      <th>frequency</th>\n",
       "      <th>rel_freq</th>\n",
       "      <th>cum_freq</th>\n",
       "    </tr>\n",
       "  </thead>\n",
       "  <tbody>\n",
       "    <tr>\n",
       "      <th>0</th>\n",
       "      <td>5</td>\n",
       "      <td>90</td>\n",
       "      <td>0.068755</td>\n",
       "      <td>0.068755</td>\n",
       "    </tr>\n",
       "    <tr>\n",
       "      <th>1</th>\n",
       "      <td>15</td>\n",
       "      <td>143</td>\n",
       "      <td>0.109244</td>\n",
       "      <td>0.177998</td>\n",
       "    </tr>\n",
       "    <tr>\n",
       "      <th>2</th>\n",
       "      <td>25</td>\n",
       "      <td>395</td>\n",
       "      <td>0.301757</td>\n",
       "      <td>0.479756</td>\n",
       "    </tr>\n",
       "    <tr>\n",
       "      <th>3</th>\n",
       "      <td>35</td>\n",
       "      <td>435</td>\n",
       "      <td>0.332315</td>\n",
       "      <td>0.812070</td>\n",
       "    </tr>\n",
       "    <tr>\n",
       "      <th>4</th>\n",
       "      <td>45</td>\n",
       "      <td>136</td>\n",
       "      <td>0.103896</td>\n",
       "      <td>0.915966</td>\n",
       "    </tr>\n",
       "    <tr>\n",
       "      <th>5</th>\n",
       "      <td>55</td>\n",
       "      <td>70</td>\n",
       "      <td>0.053476</td>\n",
       "      <td>0.969442</td>\n",
       "    </tr>\n",
       "    <tr>\n",
       "      <th>6</th>\n",
       "      <td>65</td>\n",
       "      <td>32</td>\n",
       "      <td>0.024446</td>\n",
       "      <td>0.993888</td>\n",
       "    </tr>\n",
       "    <tr>\n",
       "      <th>7</th>\n",
       "      <td>75</td>\n",
       "      <td>8</td>\n",
       "      <td>0.006112</td>\n",
       "      <td>1.000000</td>\n",
       "    </tr>\n",
       "  </tbody>\n",
       "</table>\n",
       "</div>"
      ],
      "text/plain": [
       "   class_v  frequency  rel_freq  cum_freq\n",
       "0        5         90  0.068755  0.068755\n",
       "1       15        143  0.109244  0.177998\n",
       "2       25        395  0.301757  0.479756\n",
       "3       35        435  0.332315  0.812070\n",
       "4       45        136  0.103896  0.915966\n",
       "5       55         70  0.053476  0.969442\n",
       "6       65         32  0.024446  0.993888\n",
       "7       75          8  0.006112  1.000000"
      ]
     },
     "execution_count": 68,
     "metadata": {},
     "output_type": "execute_result"
    }
   ],
   "source": [
    "dfage=pd.DataFrame() #빈 데이터프레임 생성 \n",
    "\n",
    "dfage['class_v'] = [(i+(i+10))//2 for i in range(0,80,10)] #계급값\n",
    "# 0부터 80까지 10단위로 설정을 구성, 각 구간의 최저값을 계산해서 표시\n",
    "\n",
    "freq,_ = np.histogram(df.age, bins=8, range=(0,80)) #각 구간 값 개수 count\n",
    "dfage['frequency']=freq #각 계급별 빈도수(개수)\n",
    "\n",
    "dfage['rel_freq']=freq/freq.sum() #상대도수(해당 계급 데이터의 상대적인 비율)\n",
    "dfage['cum_freq']= np.cumsum(dfage.rel_freq) # 누적 상대도수\n",
    "\n",
    "dfage"
   ]
  },
  {
   "cell_type": "code",
   "execution_count": 69,
   "id": "1ba940a9",
   "metadata": {},
   "outputs": [
    {
     "data": {
      "image/png": "[encoded data removed]",
      "text/plain": [
       "<Figure size 1000x600 with 2 Axes>"
      ]
     },
     "metadata": {},
     "output_type": "display_data"
    }
   ],
   "source": [
    "plt.figure(figsize=(10,6))\n",
    "\n",
    "freq,_,_ = plt.hist(df.age, bins=8,range=(0,80))\n",
    "\n",
    "plt.xlabel('score')\n",
    "plt.ylabel('person number')\n",
    "plt.xticks(np.linspace(0,80,8+1))\n",
    "plt.yticks(np.arange(0,freq.max()+1, 50))\n",
    "\n",
    "ax2=plt.twinx()\n",
    "x=np.linspace(0,80,8)\n",
    "y=dfage['cum_freq']\n",
    "ax2.plot(x,y,color='red',marker='o', markersize=4) #누적상대도수\n",
    "\n",
    "plt.plot(x,dfage.rel_freq, color='gold', marker='o', markersize=4) #상대도수\n",
    "\n",
    "plt.show()"
   ]
  },
  {
   "cell_type": "code",
   "execution_count": 71,
   "id": "285067b8",
   "metadata": {},
   "outputs": [
    {
     "data": {
      "image/png": "[encoded data removed]",
      "text/plain": [
       "<Figure size 500x600 with 1 Axes>"
      ]
     },
     "metadata": {},
     "output_type": "display_data"
    }
   ],
   "source": [
    "plt.figure(figsize=(5,6))\n",
    "plt.boxplot(df.fare, labels=['fare'])\n",
    "plt.show()"
   ]
  },
  {
   "cell_type": "code",
   "execution_count": 73,
   "id": "db3d4f8d",
   "metadata": {},
   "outputs": [
    {
     "name": "stdout",
     "output_type": "stream",
     "text": [
      "이상치: ~-13.44 / 52.61~\n"
     ]
    },
    {
     "data": {
      "text/plain": [
       "255"
      ]
     },
     "execution_count": 73,
     "metadata": {},
     "output_type": "execute_result"
    }
   ],
   "source": [
    "#이상치 탐색\n",
    "q1 = np.percentile(df.fare,25)\n",
    "q3 = np.percentile(df.fare,75)\n",
    "IQR15 = (q3-q1)*1.5\n",
    "abv = df[(df['fare'] <= q1-IQR) | (df['fare'] >= q3+IQR)]\n",
    "\n",
    "print(f\"이상치: ~{(q1-(IQR*1.5)).round(2)} / {(q3+(IQR*1.5)).round(2)}~\")\n",
    "len(abv)\n",
    "# 이상치가 아주 많음\n",
    "# 특히 upper whisker 범위가 너무 넓음"
   ]
  },
  {
   "cell_type": "code",
   "execution_count": 74,
   "id": "777290c6",
   "metadata": {},
   "outputs": [
    {
     "data": {
      "image/png": "[encoded data removed]",
      "text/plain": [
       "<Figure size 800x600 with 1 Axes>"
      ]
     },
     "metadata": {},
     "output_type": "display_data"
    }
   ],
   "source": [
    "plt.figure(figsize=(8,6))\n",
    "freq, _, _ = plt.hist(df.fare, bins=55, range=(0,550))\n",
    "\n",
    "freq, _ = np.histogram(df.fare, bins=11, range=(0,550))   #각 구간 값 개수count"
   ]
  },
  {
   "cell_type": "code",
   "execution_count": null,
   "id": "b878ca6a",
   "metadata": {},
   "outputs": [],
   "source": [
    "dfare = pd.DataFrame()\n",
    "dfare['calss_v'] = [(i+25) for i in range(0,550,50)]   #계급값\n",
    "\n",
    "freq, _ = np.histogram(df.fare, bins=11, range=(0,550))   #각 구간 값 개수count\n",
    "dfare['frequency'] = freq   #각 계급별 빈도수(개수)\n",
    "\n",
    "dfare['rel_freq'] = freq/freq.sum()    #상대도수(해당 계급 데이터의 상대적인 비율)\n",
    "dfare['cum_freq'] = np.cumsum(dfare.rel_freq)   # 누적 상대도수\n",
    "\n",
    "dfare"
   ]
  },
  {
   "cell_type": "code",
   "execution_count": null,
   "id": "84831a47",
   "metadata": {},
   "outputs": [],
   "source": [
    "plt. figure(figsize=(10,6))\n",
    "\n",
    "freq,_,_ = plt.hist(df.fare, bins=11, range=(0,550))\n",
    "plt.xlabel('score')\n",
    "plt.ylabel('person number')\n",
    "plt.xticks(np.linspace(0,550,11+1))\n",
    "plt.yticks(np.arange(0,freq.max()+1,200))\n",
    "\n",
    "ax2=plt.twinx()\n",
    "x=np.linspace(0, 550, 11)\n",
    "y=dfare['cum_freq']\n",
    "ax2.plot(x,y, color='red', marker='o', markersize=4)    #누적상대도수\n",
    "\n",
    "plt.plot(x, dfare.rel_freq, color='gold', marker='o', markersize=4)   #상대도수\n",
    "\n",
    "plt.show()\n",
    "\n",
    "# 초반에 극히 치우친 데이터"
   ]
  },
  {
   "cell_type": "code",
   "execution_count": null,
   "id": "34d598d4",
   "metadata": {},
   "outputs": [],
   "source": [
    "# 과제(3): 타이타닉에서 2개 선택, 공분산 행렬 및 상관계수 행렬 탐색\n",
    "pclass = np.array(df['pclass'])\n",
    "fare = np.array(df['fare'])\n",
    "survived = np.array(df['survived'])\n",
    "\n",
    "tt = pd.DataFrame({'pclass':pclass, 'fare':fare, 'survived':survived})\n",
    "tt.head()"
   ]
  },
  {
   "cell_type": "code",
   "execution_count": null,
   "id": "def2a8b1",
   "metadata": {},
   "outputs": [],
   "source": [
    "# 과제(3): 타이타닉에서 2개 선택, 공분산 행렬 및 상관계수 행렬 탐색\n",
    "pclass = np.array(df['pclass'])\n",
    "fare = np.array(df['fare'])\n",
    "survived = np.array(df['survived'])\n",
    "\n",
    "tt = pd.DataFrame({'pclass':pclass, 'fare':fare, 'survived':survived})\n",
    "tt.head()"
   ]
  },
  {
   "cell_type": "code",
   "execution_count": null,
   "id": "86dcee25",
   "metadata": {},
   "outputs": [],
   "source": [
    "tdf = tt.copy()\n",
    "\n",
    "tdf['pclass_deviation'] = tdf.pclass - tdf.pclass.mean()\n",
    "tdf['fare_deviation'] = tdf.fare - tdf.fare.mean()\n",
    "tdf['survived_deviation'] = tdf.survived - tdf.survived.mean()\n",
    "\n",
    "tdf['pclass: pod'] = tdf['pclass_deviation']*tdf['survived_deviation']\n",
    "tdf['fare: pod'] = tdf['fare_deviation']*tdf['survived_deviation']\n",
    "#두 편차를 곱한 값 -> 공분산\n",
    "\n",
    "tdf.head()"
   ]
  },
  {
   "cell_type": "code",
   "execution_count": null,
   "id": "17ac97f0",
   "metadata": {},
   "outputs": [],
   "source": [
    "tdf['pclass: pod'].mean()\n",
    "tdf['fare: pod'].mean()"
   ]
  },
  {
   "cell_type": "code",
   "execution_count": null,
   "id": "165fc696",
   "metadata": {},
   "outputs": [],
   "source": [
    "print(np.cov(pclass, survived, ddof=1))\n",
    "np.cov(fare, survived, ddof=1)"
   ]
  },
  {
   "cell_type": "code",
   "execution_count": null,
   "id": "337a109b",
   "metadata": {},
   "outputs": [],
   "source": [
    "np.cov(pclass, survived, ddof=0)[0,1] / (np.std(pclass) * np.std(survived))\n",
    "np.cov(fare, survived, ddof=0)[0,1] / (np.std(fare) * np.std(survived))"
   ]
  },
  {
   "cell_type": "code",
   "execution_count": null,
   "id": "0500ebe0",
   "metadata": {},
   "outputs": [],
   "source": [
    "np.corrcoef(pclass, survived)\n",
    "np.corrcoef(fare, survived)"
   ]
  },
  {
   "cell_type": "code",
   "execution_count": null,
   "id": "3ab99584",
   "metadata": {},
   "outputs": [],
   "source": [
    "tdf[['pclass','fare','survived']].corr()"
   ]
  },
  {
   "cell_type": "code",
   "execution_count": null,
   "id": "29692963",
   "metadata": {},
   "outputs": [],
   "source": []
  },
  {
   "cell_type": "code",
   "execution_count": null,
   "id": "01bbf8f2",
   "metadata": {},
   "outputs": [],
   "source": []
  },
  {
   "cell_type": "code",
   "execution_count": null,
   "id": "b1965eb5",
   "metadata": {},
   "outputs": [],
   "source": []
  },
  {
   "cell_type": "code",
   "execution_count": null,
   "id": "654841d3",
   "metadata": {},
   "outputs": [],
   "source": []
  },
  {
   "cell_type": "code",
   "execution_count": null,
   "id": "cedf0095",
   "metadata": {},
   "outputs": [],
   "source": []
  },
  {
   "cell_type": "code",
   "execution_count": null,
   "id": "0deef21a",
   "metadata": {},
   "outputs": [],
   "source": []
  },
  {
   "cell_type": "code",
   "execution_count": null,
   "id": "ddd62fef",
   "metadata": {},
   "outputs": [],
   "source": []
  },
  {
   "cell_type": "code",
   "execution_count": null,
   "id": "dbdb5aa2",
   "metadata": {},
   "outputs": [],
   "source": []
  },
  {
   "cell_type": "code",
   "execution_count": null,
   "id": "7d5bc016",
   "metadata": {},
   "outputs": [],
   "source": []
  },
  {
   "cell_type": "code",
   "execution_count": null,
   "id": "c9386277",
   "metadata": {},
   "outputs": [],
   "source": []
  },
  {
   "cell_type": "code",
   "execution_count": null,
   "id": "d1d2b11b",
   "metadata": {},
   "outputs": [],
   "source": []
  },
  {
   "cell_type": "code",
   "execution_count": null,
   "id": "5397b442",
   "metadata": {},
   "outputs": [],
   "source": []
  },
  {
   "cell_type": "code",
   "execution_count": null,
   "id": "986ef509",
   "metadata": {},
   "outputs": [],
   "source": []
  },
  {
   "cell_type": "code",
   "execution_count": null,
   "id": "6261014e",
   "metadata": {},
   "outputs": [],
   "source": []
  },
  {
   "cell_type": "code",
   "execution_count": null,
   "id": "735c0edf",
   "metadata": {},
   "outputs": [],
   "source": []
  },
  {
   "cell_type": "code",
   "execution_count": null,
   "id": "34f2e0ed",
   "metadata": {},
   "outputs": [],
   "source": []
  },
  {
   "cell_type": "code",
   "execution_count": null,
   "id": "ffb31344",
   "metadata": {},
   "outputs": [],
   "source": []
  },
  {
   "cell_type": "code",
   "execution_count": null,
   "id": "a9c25eee",
   "metadata": {},
   "outputs": [],
   "source": []
  },
  {
   "cell_type": "code",
   "execution_count": null,
   "id": "76cf8085",
   "metadata": {},
   "outputs": [],
   "source": []
  },
  {
   "cell_type": "code",
   "execution_count": null,
   "id": "14eb3882",
   "metadata": {},
   "outputs": [],
   "source": []
  },
  {
   "cell_type": "code",
   "execution_count": null,
   "id": "f36c5047",
   "metadata": {},
   "outputs": [],
   "source": []
  },
  {
   "cell_type": "code",
   "execution_count": null,
   "id": "b7ffc16d",
   "metadata": {},
   "outputs": [],
   "source": []
  },
  {
   "cell_type": "code",
   "execution_count": null,
   "id": "f9094f7d",
   "metadata": {},
   "outputs": [],
   "source": []
  },
  {
   "cell_type": "code",
   "execution_count": null,
   "id": "474bdbc3",
   "metadata": {},
   "outputs": [],
   "source": []
  },
  {
   "cell_type": "code",
   "execution_count": null,
   "id": "9e5e14b7",
   "metadata": {},
   "outputs": [],
   "source": []
  },
  {
   "cell_type": "code",
   "execution_count": null,
   "id": "dc62a1fe",
   "metadata": {},
   "outputs": [],
   "source": []
  },
  {
   "cell_type": "code",
   "execution_count": null,
   "id": "76f1069d",
   "metadata": {},
   "outputs": [],
   "source": []
  },
  {
   "cell_type": "code",
   "execution_count": null,
   "id": "42a715c6",
   "metadata": {},
   "outputs": [],
   "source": []
  }
 ],
 "metadata": {
  "kernelspec": {
   "display_name": "Python 3 (ipykernel)",
   "language": "python",
   "name": "python3"
  },
  "language_info": {
   "codemirror_mode": {
    "name": "ipython",
    "version": 3
   },
   "file_extension": ".py",
   "mimetype": "text/x-python",
   "name": "python",
   "nbconvert_exporter": "python",
   "pygments_lexer": "ipython3",
   "version": "3.9.13"
  }
 },
 "nbformat": 4,
 "nbformat_minor": 5
}

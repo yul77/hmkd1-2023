{
 "cells": [
  {
   "cell_type": "markdown",
   "id": "17b784c3",
   "metadata": {},
   "source": [
    "## 추측통계"
   ]
  },
  {
   "cell_type": "code",
   "execution_count": 91,
   "id": "121906e7",
   "metadata": {},
   "outputs": [],
   "source": [
    "#통계량으로 모수를 추정해서 모집단을 설명\n",
    "#모집단을 잘 설명할 수 있는 표본을 잘 뽑아야 한다.\n"
   ]
  },
  {
   "cell_type": "code",
   "execution_count": 92,
   "id": "c7718f80",
   "metadata": {},
   "outputs": [
    {
     "data": {
      "text/plain": [
       "array([76, 55, 80, 80, 74, 61, 81, 76, 23, 80], dtype=int64)"
      ]
     },
     "execution_count": 92,
     "metadata": {},
     "output_type": "execute_result"
    }
   ],
   "source": [
    "#모집단과 표본 \n",
    "#표본 추출 방법\n",
    "\n",
    "\n",
    "import numpy as np\n",
    "import pandas as pd\n",
    "import matplotlib.pyplot as plt\n",
    "\n",
    "df=pd.read_csv('./data/ch4_scores400.csv')\n",
    "df.shape\n",
    "scores=np.array(df.score)\n",
    "scores[:10]"
   ]
  },
  {
   "cell_type": "code",
   "execution_count": 93,
   "id": "88c4974e",
   "metadata": {},
   "outputs": [
    {
     "data": {
      "text/plain": [
       "array([3, 1, 2])"
      ]
     },
     "execution_count": 93,
     "metadata": {},
     "output_type": "execute_result"
    }
   ],
   "source": [
    "np.random.choice([1,2,3],3, replace=False) #1,2,3중에서 3개를 뽑아라.  replace=False ->중복이 안되게 해줌"
   ]
  },
  {
   "cell_type": "code",
   "execution_count": 94,
   "id": "4fa366a8",
   "metadata": {},
   "outputs": [
    {
     "name": "stdout",
     "output_type": "stream",
     "text": [
      "[2 3 3 3 5 5 1 5 3 2]\n"
     ]
    }
   ],
   "source": [
    "data=np.array([1,2,3,4,5])\n",
    "p=[0.1,0.2,0.4,0.2,0.1]\n",
    "sample=np.random.choice(data,size=10,replace=True,p=p) #p는 선택된 확률을 지정해주는 것.\n",
    "print(sample) #어떻게 적어도 3이 가장 많이 나온다. "
   ]
  },
  {
   "cell_type": "code",
   "execution_count": 95,
   "id": "4b2a284f",
   "metadata": {},
   "outputs": [
    {
     "data": {
      "text/plain": [
       "array([49, 60, 72, 86, 52, 61, 77, 91, 80, 56, 69, 67, 90, 56, 75, 79, 60,\n",
       "       79, 68, 81], dtype=int64)"
      ]
     },
     "execution_count": 95,
     "metadata": {},
     "output_type": "execute_result"
    }
   ],
   "source": [
    "np.random.seed(0)\n",
    "sample=np.random.choice(scores,20)\n",
    "sample"
   ]
  },
  {
   "cell_type": "code",
   "execution_count": 96,
   "id": "6e83aac0",
   "metadata": {},
   "outputs": [
    {
     "data": {
      "text/plain": [
       "70.4"
      ]
     },
     "execution_count": 96,
     "metadata": {},
     "output_type": "execute_result"
    }
   ],
   "source": [
    "sample.mean() #표본의 평균"
   ]
  },
  {
   "cell_type": "code",
   "execution_count": 97,
   "id": "a0e7c8bb",
   "metadata": {},
   "outputs": [
    {
     "data": {
      "text/plain": [
       "69.53"
      ]
     },
     "execution_count": 97,
     "metadata": {},
     "output_type": "execute_result"
    }
   ],
   "source": [
    "scores.mean() #모집단의 평균은 표본의 평균과 다름"
   ]
  },
  {
   "cell_type": "code",
   "execution_count": 98,
   "id": "37a179a2",
   "metadata": {},
   "outputs": [
    {
     "name": "stdout",
     "output_type": "stream",
     "text": [
      "[56 55 79 91 86 79 83 55 85 76 81 57 77 99 61 57 81 73 59 59]\n",
      "1번째 무작위 추출로 얻은 표본평균 72.45 \n",
      "\n",
      "[80 50 85 86 85 59 72 58 31 60 56 64 49 88 66 63 63 47 67 45]\n",
      "2번째 무작위 추출로 얻은 표본평균 63.7 \n",
      "\n",
      "[31 55 77 61 54 57 72 46 52 76 92 63 63 80 94 70 76 61 80 61]\n",
      "3번째 무작위 추출로 얻은 표본평균 66.05 \n",
      "\n",
      "[47 60 65 86 65 74 76 60 85 78 73 70 68 86 58 74 67 67 83 92]\n",
      "4번째 무작위 추출로 얻은 표본평균 71.7 \n",
      "\n",
      "[54 73 92 81 87 56 96 57 93 67 90 54 90 75 46 80 63 57 78 94]\n",
      "5번째 무작위 추출로 얻은 표본평균 74.15 \n",
      "\n"
     ]
    }
   ],
   "source": [
    "for i in range(5):\n",
    "    sample= np.random.choice(scores,20)\n",
    "    print(sample)\n",
    "    print(f'{i+1}번째 무작위 추출로 얻은 표본평균',sample.mean(),'\\n')\n",
    "    \n",
    "    #모집단의 모평균과 표본평균은 차이가 있다. \n",
    "    #이 토드의 결과만 봐도 하나도 69.53과 같은 값이 없다. "
   ]
  },
  {
   "cell_type": "markdown",
   "id": "90eb4aac",
   "metadata": {},
   "source": [
    "\n",
    "확률변수: 확률변수에 대응해서 확률이 있다. \n",
    "    동전던지기의 확률변수는 0과 1. 확률은 1/2 \n",
    "    주사위의 확률변수는 1부터 6까지. 확률은 1/6\n",
    "    확률변수 (x), 확률 (y)\n",
    "    * 각각의 확률변수에 대응되는 y값의 궤적을 그린 그림 =확률분포\n",
    "    어떤 데이터든 평균일 떄가 확률이 가장 높다. \n",
    "    모집단이 정규분포라고 한다면 표본의 분포도 정규분포를 따른다고 한다면 굉장히 추정하기 편하다.->모집단의 분포가 중요한 이유.\n",
    "    "
   ]
  },
  {
   "cell_type": "code",
   "execution_count": 99,
   "id": "c87e1f47",
   "metadata": {},
   "outputs": [
    {
     "data": {
      "text/plain": [
       "array([4, 6, 1, 4, 3, 2, 3, 4, 4, 5, 4, 5, 3, 6, 1, 5, 4, 5, 2, 3, 6, 6,\n",
       "       4, 5, 6, 6, 2, 1, 3, 6, 2, 4, 6, 5, 5, 4, 5, 6, 1, 6, 6, 6, 3, 6,\n",
       "       2, 4, 6, 4, 4, 2, 1, 5, 3, 3, 5, 2, 5, 3, 5, 5, 2, 4, 5, 4, 2, 5,\n",
       "       5, 5, 6, 5, 6, 2, 2, 6, 4, 3, 6, 4, 6, 6, 6, 5, 6, 4, 3, 6, 4, 6,\n",
       "       5, 5, 2, 6, 4, 5, 4, 3, 6, 5, 1, 5])"
      ]
     },
     "execution_count": 99,
     "metadata": {},
     "output_type": "execute_result"
    }
   ],
   "source": [
    "dice=[1,2,3,4,5,6]\n",
    "prob=[1/21,2/21,3/21,4/21,5/21,6/21] #주사이가 왜곡이 되어 6이 될 수록 확률이 더 높다고 가정\n",
    "\n",
    "np.random.seed(1)\n",
    "num_trial=100\n",
    "sample=np.random.choice(dice,num_trial,p=prob) #6이 가장 많이 나오게 된다.\n",
    "#랜덤하게 뽑지만 prob의 확률을 전제하에 랜덤하게 출력\n",
    "sample"
   ]
  },
  {
   "cell_type": "code",
   "execution_count": 100,
   "id": "79d9e765",
   "metadata": {},
   "outputs": [
    {
     "name": "stdout",
     "output_type": "stream",
     "text": [
      "[ 6 12 12 20 24 26] \n",
      "\n"
     ]
    },
    {
     "data": {
      "text/html": [
       "<div>\n",
       "<style scoped>\n",
       "    .dataframe tbody tr th:only-of-type {\n",
       "        vertical-align: middle;\n",
       "    }\n",
       "\n",
       "    .dataframe tbody tr th {\n",
       "        vertical-align: top;\n",
       "    }\n",
       "\n",
       "    .dataframe thead th {\n",
       "        text-align: right;\n",
       "    }\n",
       "</style>\n",
       "<table border=\"1\" class=\"dataframe\">\n",
       "  <thead>\n",
       "    <tr style=\"text-align: right;\">\n",
       "      <th></th>\n",
       "      <th>frequency</th>\n",
       "      <th>relative frequency</th>\n",
       "    </tr>\n",
       "    <tr>\n",
       "      <th>dice</th>\n",
       "      <th></th>\n",
       "      <th></th>\n",
       "    </tr>\n",
       "  </thead>\n",
       "  <tbody>\n",
       "    <tr>\n",
       "      <th>1</th>\n",
       "      <td>6</td>\n",
       "      <td>0.06</td>\n",
       "    </tr>\n",
       "    <tr>\n",
       "      <th>2</th>\n",
       "      <td>12</td>\n",
       "      <td>0.12</td>\n",
       "    </tr>\n",
       "    <tr>\n",
       "      <th>3</th>\n",
       "      <td>12</td>\n",
       "      <td>0.12</td>\n",
       "    </tr>\n",
       "    <tr>\n",
       "      <th>4</th>\n",
       "      <td>20</td>\n",
       "      <td>0.20</td>\n",
       "    </tr>\n",
       "    <tr>\n",
       "      <th>5</th>\n",
       "      <td>24</td>\n",
       "      <td>0.24</td>\n",
       "    </tr>\n",
       "    <tr>\n",
       "      <th>6</th>\n",
       "      <td>26</td>\n",
       "      <td>0.26</td>\n",
       "    </tr>\n",
       "  </tbody>\n",
       "</table>\n",
       "</div>"
      ],
      "text/plain": [
       "      frequency  relative frequency\n",
       "dice                               \n",
       "1             6                0.06\n",
       "2            12                0.12\n",
       "3            12                0.12\n",
       "4            20                0.20\n",
       "5            24                0.24\n",
       "6            26                0.26"
      ]
     },
     "execution_count": 100,
     "metadata": {},
     "output_type": "execute_result"
    }
   ],
   "source": [
    "#위에서 뽑은 100개로 주사위로 나올 수 있는 빈도를 구해봄.\n",
    "\n",
    "freq,_=np.histogram(sample,bins=6, range=(1,7))\n",
    "print(freq,'\\n')\n",
    "rdf=pd.DataFrame({'frequency':freq,\n",
    "                 'relative frequency':freq/num_trial},\n",
    "                index=pd.Index(np.arange(1,7),name='dice'))\n",
    "rdf #설정한 확률로 나오지 않았음."
   ]
  },
  {
   "cell_type": "code",
   "execution_count": 101,
   "id": "a9f84beb",
   "metadata": {},
   "outputs": [
    {
     "data": {
      "image/png": "[encoded data removed]",
      "text/plain": [
       "<Figure size 800x600 with 1 Axes>"
      ]
     },
     "metadata": {},
     "output_type": "display_data"
    }
   ],
   "source": [
    "\n",
    "np.linspace(1.5,6.5,6) #1.5,6.5를 6개 사이에 \n",
    "np.random.seed(1)\n",
    "num_trial=100\n",
    "sample=np.random.choice(dice,num_trial,p=prob)\n",
    "\n",
    "plt.figure(figsize=(8,6))\n",
    "plt.hist(sample,bins=6, range=(1,7), density=True, rwidth=0.8)\n",
    "plt.hlines(prob,np.arange(1,7),np.arange(2,8), colors='gray') #1과2 3과 4,5와6,7과8 이렇게 순차적으로 그래프가 붙는다는 뜻\n",
    "plt.xticks(np.linspace(1.5,6.5,6),np.arange(1,7)) # x,x_labels\n",
    "# plt.xtickables(np.arange(1,7))\n",
    "plt.xlabel('dice')\n",
    "plt.ylabel('relative frequency')\n",
    "plt.show()"
   ]
  },
  {
   "cell_type": "code",
   "execution_count": 102,
   "id": "a47733bc",
   "metadata": {},
   "outputs": [
    {
     "data": {
      "image/png": "[encoded data removed]",
      "text/plain": [
       "<Figure size 800x600 with 1 Axes>"
      ]
     },
     "metadata": {},
     "output_type": "display_data"
    }
   ],
   "source": [
    "# 1000000번 시행하여 얻은 눈의 상대도수로부터 추측된 확률분포는 실제 확률분포와 근접\n",
    "#시행횟 수를 늘리면 상대도수는 확률분포를 수렴한다. \n",
    "#= 위와 같은 식에 샘플수가 많으니까 맞아떨어짐 \n",
    "# 랜덤이기 때문에 시행횟수가 적으면 오차발생율이 높아짐\n",
    "\n",
    "np.linspace(1.5,6.5,6) \n",
    "np.random.seed(1)\n",
    "num_trial=1000000 #샘플갯수\n",
    "sample=np.random.choice(dice,num_trial,p=prob)\n",
    "\n",
    "plt.figure(figsize=(8,6))\n",
    "plt.hist(sample,bins=6, range=(1,7), density=True, rwidth=0.8)\n",
    "#density는 히스토그램의 y축 값을 상대빈도로 나타내는지 아니면 실제 빈도로 나타내는지 설정하는 데 사용. \n",
    "#이 예제에서는 상대빈도로 나타내도록 설정\n",
    "#rwidth는 각 막대의 너비를 설정\n",
    "\n",
    "plt.hlines(prob,np.arange(1,7),np.arange(2,8), colors='gray') \n",
    "plt.xticks(np.linspace(1.5,6.5,6),np.arange(1,7)) \n",
    "plt.xlabel('dice')\n",
    "plt.ylabel('relative frequency')\n",
    "plt.show()"
   ]
  },
  {
   "cell_type": "code",
   "execution_count": 103,
   "id": "50f00707",
   "metadata": {},
   "outputs": [
    {
     "data": {
      "image/png": "[encoded data removed]",
      "text/plain": [
       "<Figure size 640x480 with 1 Axes>"
      ]
     },
     "metadata": {},
     "output_type": "display_data"
    }
   ],
   "source": [
    "import numpy as np\n",
    "import pandas as pd\n",
    "import matplotlib.pyplot as plt\n",
    "import seaborn as sns\n",
    "\n",
    "df=pd.read_csv('./data/ch4_scores400.csv')\n",
    "df.shape\n",
    "scores=np.array(df.score)\n",
    "sns.histplot(scores,kde=True)\n",
    "plt.show()"
   ]
  },
  {
   "cell_type": "code",
   "execution_count": 104,
   "id": "07daef65",
   "metadata": {},
   "outputs": [
    {
     "data": {
      "text/plain": [
       "(400,)"
      ]
     },
     "execution_count": 104,
     "metadata": {},
     "output_type": "execute_result"
    }
   ],
   "source": [
    "scores.shape"
   ]
  },
  {
   "cell_type": "code",
   "execution_count": 105,
   "id": "1d1cb416",
   "metadata": {},
   "outputs": [
    {
     "data": {
      "image/png": "[encoded data removed]",
      "text/plain": [
       "<Figure size 1000x600 with 1 Axes>"
      ]
     },
     "metadata": {},
     "output_type": "display_data"
    }
   ],
   "source": [
    "#표본의 평균이 어떤 분포를 이루는지 본다\n",
    "#표본평균은 모평균을 중심으로 분포하는 것을 확인.\n",
    "#무작위 추출에 의한 표본평균으로 모평균을 추측할 수 있는 근거가 된다. 근거가 어떻게 나오는지 찾는게 중요\n",
    "#scorse 를 모집단으로 둠\n",
    "sample_means=[np.random.choice(scores,20).mean() for _ in range(10000)] #샘플사이즈 20개를 만개 뽑아서 평균구하고 sample_means에 저장\n",
    "len(sample_means)\n",
    "\n",
    "fig=plt.figure(figsize=(10,6))\n",
    "plt.hist(sample_means,bins=100,range=(0,100),density=True)\n",
    "\n",
    "#모평균을 세로선으로 표시.  표본평균과 모평균 비교\n",
    "plt.vlines(np.mean(scores),0,1,'yellow')\n",
    "plt.axis([50,90,0,0.13]) #50.90은 x축 범위. 0,0.13은 y축 범위\n",
    "plt.xlabel('score')\n",
    "plt.ylabel('relative frequency')\n",
    "plt.show()\n",
    "\n",
    "#히스토그램을 1만개의 표본평균 분포\n",
    "#모평균(모집단)을 중심으로 정규분포를 그리고 있다. "
   ]
  },
  {
   "cell_type": "markdown",
   "id": "75f70570",
   "metadata": {},
   "source": [
    "확률론은 불확실성이 존재하는 상황에서 결과의 가능성을 수학적으로 모델링하는 분야입니다. 이를 위해 몇 가지 중요한 개념이 필요합니다. 이 중요한 개념들은 다음과 같습니다:\n",
    "\n",
    "- 실험과 표본 공간: 확률론에서는 특정한 조건에서 일어나는 사건을 실험이라고 하며, 실험에서 가능한 모든 결과의 집합을 표본 공간이라고 합니다.\n",
    "\n",
    "- 사건과 확률: 사건은 표본 공간의 부분집합으로, 일어날 가능성이 있는 결과의 집합을 의미합니다. 확률은 특정한 사건이 일어날 가능성을 나타내는 값으로, 0과 1 사이의 값입니다.(표본공간의 합은 1)\n",
    "\n",
    "- 조건부 확률: 조건부 확률은 특정한 사건이 일어났을 때, 다른 사건이 일어날 확률을 의미합니다. 조건부 확률은 주어진 사건이 일어난 경우에만 적용되며, 이전 확률과는 다른 개념입니다.\n",
    "\n",
    "- 독립성: 두 사건이 독립적이라는 것은, 하나의 사건이 일어나는 것이 다른 사건의 발생 가능성에 영향을 미치지 않는다는 것을 의미합니다. 이러한 경우, 두 사건의 결합 확률은 두 확률의 곱과 같습니다.\n",
    "\n",
    "- 확률분포: 확률분포는 가능한 모든 결과에 대해 각각의 결과가 일어날 확률을 나타내는 함수입니다. 대표적인 예로 이항분포, 정규분포 등이 있습니다.\n",
    "\n",
    "- 기대값: 기대값은 확률분포와 관련되어, 각 결과의 확률과 그 결과의 가치를 곱한 값을 모두 더한 것입니다. 즉, 평균값과 유사한 개념입니다."
   ]
  },
  {
   "cell_type": "markdown",
   "id": "d9faf873",
   "metadata": {},
   "source": [
    "확률의 빈도주의 관점과 베이지안 관점은 확률을 이해하는 방법에서 차이가 있습니다.\n",
    "\n",
    "- 빈도주의 관점에서는 확률을 \"반복되는 실험에서 어떤 사건이 일어날 빈도\"로 정의합니다. 즉, 많은 반복을 통해 어떤 사건이 발생하는 비율을 계산하는 것입니다. 이 관점에서는 데이터가 수집될 때마다 확률값이 달라지지 않는다고 가정하며, 샘플 크기가 커질수록 이론적인 확률 값과 가까워진다고 봅니다.\n",
    "\n",
    "- 반면에 베이지안 관점에서는 확률을 \"사건이 일어날 가능성\"으로 정의합니다. 이 관점에서는 데이터를 수집하기 전에 이미 어떤 사전 지식이 있다는 가정하에 데이터를 수집하고, 그에 따라 사후 확률을 갱신합니다. 이는 사전 지식과 데이터를 통해 모델 파라미터의 확률 분포를 추정하고, 이를 통해 불확실성을 줄이는 것입니다.\n",
    "\n",
    "- 이러한 차이 때문에 빈도주의 관점에서는 확률을 정확하게 계산하고자 반복 실험을 수행하며, 이론적인 확률값에 근접하도록 데이터 크기를 늘립니다. 반면에 베이지안 관점에서는 사전 지식을 가정하고, 그에 따라 데이터를 수집하며, 사전 지식과 데이터를 결합하여 모델의 불확실성을 추정합니다.\n",
    "\n",
    "- 결론적으로, 빈도주의 관점과 베이지안 관점은 확률을 이해하는 방법에서 차이가 있습니다. 빈도주의 관점은 확률을 실험에서 어떤 사건이 일어날 빈도로 이해하며, 베이지안 관점은 확률을 어떤 사건이 일어날 가능성으로 이해합니다. 이러한 차이로 인해 빈도주의와 베이지안 방법은 다양한 문제 해결에 사용됩니다. 예를 들어, <span style=\"background-color:green\">빈도주의 방법은 통계적 추론에 사용</span>되며,<span style=\"background-color:green\"> 베이지안 방법은 패턴 인식, 머신러닝, 자연어 처리 분야 등에서 사용</span>됩니다.\n",
    "\n",
    "빈도주의 관점은 확률을 \"반복되는 실험에서 어떤 사건이 일어날 빈도\"로 이해하는 것입니다. 이를 이해하기 위해서는 간단한 예시를 들어보겠습니다.\n",
    "\n",
    "- 예를 들어, 동전을 던져서 앞면이 나올 확률이 얼마나 되는지 알아보려고 한다고 가정해봅시다. 이 경우, 동전을 반복적으로 던져서 앞면이 나올 확률을 계산하는 것이 빈도주의 관점입니다.\n",
    "\n",
    "- 100번의 실험을 수행해서 앞면이 60번 나왔다면, 앞면이 나올 확률은 0.6, 즉 60%입니다. 이처럼 빈도주의 관점에서는 반복적인 실험을 통해 얻은 데이터를 바탕으로 확률을 계산합니다.\n",
    "\n",
    "- 이와 같은 방법으로, 빈도주의 관점은 대규모 데이터를 바탕으로 통계적 추론을 수행하는 분야에서 많이 사용됩니다. 예를 들어, 의학 연구에서는 수많은 환자 데이터를 바탕으로 질병 발생 확률을 계산하고, 이를 바탕으로 예방 방법을 제시합니다. 또한, 마케팅 연구에서는 대규모 데이터를 바탕으로 소비자의 구매 확률을 계산하고, 이를 바탕으로 마케팅 전략을 수립합니다.\n",
    "\n",
    "- 즉, 빈도주의 관점에서는 반복적인 실험을 통해 데이터를 모으고, 이를 바탕으로 확률을 계산합니다. 이를 통해 대규모 데이터에서 일어날 가능성을 추정하고, 이를 바탕으로 데이터 분석 및 예측을 수행합니다.\n",
    "\n",
    "베이지안 관점은 확률을 \"사건이 일어날 가능성\"으로 이해하는 것입니다. 이를 이해하기 위해서는 간단한 예시를 들어보겠습니다.\n",
    "\n",
    "- 예를 들어, 암 환자 진단 문제를 생각해봅시다. 어떤 환자가 암에 걸렸을 때, 병원에서 검사를 통해 양성 판정이 나왔다고 가정해봅시다. 이 때, 베이지안 관점에서는 이 결과가 실제로 환자가 암에 걸렸음을 의미하는가에 대한 확률을 계산합니다.\n",
    "\n",
    "- 베이지안 관점에서는 이 확률을 \"사전 확률\"이라고 부릅니다. 즉, 검사를 통해 양성 판정이 나오기 전에는 이 환자가 암에 걸렸을 확률을 이미 가정하고 있었다는 것입니다. 예를 들어, 이전의 암 환자들의 데이터를 분석하여, 이 환자가 암에 걸렸을 확률을 0.1, 즉 10%로 가정하였다고 합시다.\n",
    "\n",
    "- 그리고, 이제 검사를 통해 양성 판정이 나왔다고 가정합니다. 이 때, 검사 결과가 양성일 때 암에 걸렸을 확률을 계산하는 것이 베이지안 관점입니다. 이를 \"사후 확률\"이라고 부르며, 사전 확률과 검사 결과를 고려하여 계산됩니다.\n",
    "\n",
    "- 예를 들어, 이전의 암 환자들의 데이터에서 암에 걸린 환자 중 80%가 양성 판정을 받았다고 가정합니다. 이러한 정보를 바탕으로, 이 환자가 암에 걸렸을 사후 확률은 다음과 같이 계산됩니다.\n",
    "\n",
    "<span style=\"background-color:green\">사전 확률: 10%\n",
    "우도(검사 결과가 양성일 확률): 80%\n",
    "사후 확률: (10% x 80%) / (10% x 80% + 90% x 20%) = 30.8%\n",
    "\n",
    "즉, 이 환자가 검사 결과가 양성인 경우에는 암에 걸렸을 확률이 30.8%입니다.</span>\n",
    "\n",
    "예를 들어, 여러분이 복권을 사서 당첨이 되었다고 가정해봅시다. 그리고 당첨된 복권의 확률을 계산하고자 합니다. 이 때, 베이지안 관점에서는 이 확률을 \"사후 확률\"로 계산합니다.\n",
    "\n",
    "- 우선, 이 복권의 당첨 확률을 사전 지식으로 가정합니다. 예를 들어, 이 복권이 얼마나 팔렸는지, 이전의 당첨 데이터는 어떻게 되는지 등의 정보를 바탕으로, 사전 확률을 0.001, 즉 0.1%로 가정합니다.\n",
    "\n",
    "- 그리고, 복권을 구매한 사람들 중에서 몇 명이 당첨되었는지 데이터를 수집합니다. 이를 바탕으로 우도(가능성), 즉 \"당첨된 복권을 구매한 사람들의 비율\"을 계산합니다.\n",
    "\n",
    "- 예를 들어, 1,000,000 명이 복권을 구매하고, 그 중 1,000 명이 당첨되었다면, 우도는 0.001, 즉 0.1%입니다.\n",
    "\n",
    "- 그리고, 이 사전 확률과 우도를 결합하여 사후 확률을 계산합니다. 이를 통해, 이 복권을 구매했을 때 당첨될 확률을 추정할 수 있습니다.\n",
    "\n",
    "\n",
    "이와 같이, 베이지안 관점에서는 사전 지식을 가정하고, 그에 따라 데이터를 수집하며, 사전 지식과 데이터를 결합하여 모델의 불확실성을 추정합니다. 이를 통해 데이터의 불확실성을 고려하여 예측과 의사결정을 수행합니다.<br>\n",
    "<font color=blue>(=신중하게 오류를 최소화 하기 위함. 실제로 발생 될 떄 과거의 데이터가 100%실현되지는 않는다. 그러므로 가능성을 도입해 더 정확하게 보정해준다.)</font>"
   ]
  },
  {
   "cell_type": "markdown",
   "id": "eafe2a6d",
   "metadata": {},
   "source": [
    "#### 추측통계\n",
    "확률을 사용하여 모집단의 통계적 성질을 추측하는 기법(=표본의 통계를 이용해 모수를 추측)\n",
    "\n",
    "[모집단 분포와 표본분포]  \n",
    "\n",
    "- 모집단: 어떤 통계적 실험의 대상이 되는 모든 대상물. (평균을 중심으로 한 정규분포)\n",
    "    - ex. 대한민국 모든 남성의 키 데이터, 2018 수능점수 데이터 \n",
    "- 모집단 분포: 모집단은 데이터 집단이므로 어떠한 분포를 이루며 이 데이터가 이루는 확률 분포가 모집단 분포\n",
    "- 모수: 모집단의 특성을 나타내는 수치로 모평균,모분산,모표준편차,모비율,모상관관계 등  \n",
    "  수능점수 전체데이터를 알고 싶은 것이 아니라 전체 수능점수 평균, 표준편차를 알고 싶어한다.\n",
    "  수능점수와 달리 일반적으로 대부분의 모집단 분포는 완전하게 알려진 것이 없으며 전수조사는 경제적, 공간적, 시간적 제약으로 인해 거의 불가능\n",
    "- 표본: 모집단의 모수(특성)을 알기 위하여 표본을 추출해서 모집단의 모수를 추정\n",
    "- 확률표본:  모집단을 구성하는 모든 구성원이 표본으로 뽑힐 확률을 동일하게 하여 추출한 표본. Random이란 무작위라는 의미로, 어떠한 의도를 가지지 않는다는 것을 의미하며, 모든 구성원이 뽑힐 확률이 동일하다는 개념. \n",
    "- 통계량: 확률표본의 특성을 설명하는 값으로 표본평균, 표본분산, 표본표준편차, 표본비율, 표본상관관계 등  \n",
    "  모수는 모집단이 변하지 않기 때문에 그 값이 변하지 않으나 통계량은 표본을 어떻게 추출하느냐에 따라서 그 값이 다르게 나타난다.\n",
    "- 확률변수: 무작위 실험을 했을 때 특정 확률로 발생하는 각각의 결과를 수치값으로 표현한 변수. 동전의 앞과 뒤\n",
    "- 확률분포: 확률변수 X의 모든 값과 그 에 대응하는 확률값들의 분포. 동전의 앞 0.5, 뒤 0.5 \n",
    "- 무작위로 표본 30개씩 반복해서 100번 추출하면 100번 추출한 표본 30개의 평균값들을 100개 구할 수 있다. 추출된 표본들의 각 평균값들에 대한 발생 분포를 그려보면 특정 확률변수에 대응하는 확률을 가진 확률 분포를 그릴 수 있다. 이것을 통계량의 확률분포라고 할 수 있고 이를 표본분포라고 부른다. \n",
    "- ☆☆☆통계량이 '확률 변수'라는 의미: 확률변수의 확률분포가 수학적으로 설명가능한 분포(예, 정규분포)를 따른다고 하면 특정 확률변수와 확률함수를 알고 있다면 특정 사건이 일어날 확률을 계산할 수 있으며 더 나아가 모수와 통계량의 관계를 알고 있다면 그것을 통해 모수에 대한 통계적인 추정을 할 수 있다. 즉 통계량의 확률 함수 또는 표본 분포를 안다고 가정하면 이를 이용해 모수를 추정할 수 있다.\n",
    "\n",
    "[표본통계량 성질]\n",
    "\n",
    "- 샘플사이즈가 크면 표본평균은 모평균에 가까워진다.\n",
    "- 샘플사이즈가 커질수록 표본평균의 표준편차가 작아짐. 샘플사이즈를 크게 하면 흩어짐이 적은 신뢰할 수 있는 표본평균을 얻을 수 있다.\n",
    "- 표준오차는이론상 표본평균의 표준편차 크기인데 샘플사이즈가 커지면 표준오차는 작아짐 \n",
    "- 모분산은 0.64, 표본분산의 평균값은 0.575로 분산이 과소평가되어짐 \n",
    "    -> 불편분산을 사용(모집단에서 표본 뽑아서 쓰는 경우만 사용.), 편향을 제거(ddof =1)\n",
    "- 샘플사이즈가 커질수록 불편분산은 모분산(0.64)에 가까워짐\n",
    "- 불편성 : 추정량의 기댓값이 진짜 모수(모집단의 파라미터)가 되는 특성. <<편향이 없는 추정량>>\n",
    "- 일치성 : 샘플사이즈가 커지면 추정량이 진짜 모수에 가까워지는 특성\n",
    "- 표본평균과 불편분산은 둘다 불편성을 가지고 있다고 할 수 있다.\n",
    "- 샘플사이즈를 크게 하면 표본평균은 모평균에 가까워지고 불편분산은 모분산에 가까워지므로 일치성을 가짐\n",
    "- 큰수의 법칙 : 표본의 크기가 커지면 표본평균이 모평균에 가까워지는 방법을 표현한 법칙\n",
    "- 중심극한정리 ★ : 모집단분포가 무엇이든지간에 샘플사이즈가 커지면 표본 평균들이 이루는 분포가 모집단의 평균μ, 표준편차σ/sqrt(n)인 정규분포에 가까워진다는 정리  (모집단 분포가 정규분포가 아니어도 마찬가지)\n",
    "  https://drhongdatanote.tistory.com/57 \n",
    "\n",
    "[표본분산이 분산을 과소평가하는 이유]\n",
    "\n",
    "- 분산은 '데이터와 평균값의 간의 거리' 이므로 모평균 간의 거리를 계산 (모분산 계산): np.sum((fish_data - mu)**2)/N  여기에 루트씌우면 표준편차<br>\n",
    "호수안에 물고기가 7마리 있다. 몸길이 {1,2,3,4,5,6,7}, 모평균 4,  \n",
    "샘플링 3마리 {1,2,3} 표본평균 2  \n",
    "이때 분산은 모평균을 모르기 때문에 표본평균과의 거리를 계산하며 분산을 과소평가 하게된다.\n",
    "- 표본 분산 보다 조금 더 큰 값이 되도록 보정하기 위하여 N 대신 N-1로 나누어 불편분산을 구할 수 있다."
   ]
  },
  {
   "cell_type": "code",
   "execution_count": 106,
   "id": "b786473b",
   "metadata": {},
   "outputs": [
    {
     "data": {
      "text/plain": [
       "array([4.93089857, 3.36017534, 3.05630846, 3.37949061, 4.68245181,\n",
       "       2.10272798, 3.72757812, 3.1472555 , 3.91249601, 4.73876224])"
      ]
     },
     "execution_count": 106,
     "metadata": {},
     "output_type": "execute_result"
    }
   ],
   "source": [
    "#평균이 4, 표준편차가 0.8인 정규분포에서 10개의 샘플 추출\n",
    "\n",
    "from scipy import stats\n",
    "population = stats.norm(loc=4,scale=0.8)\n",
    "#population #정규분포 객체 생성. \n",
    "population.rvs(size=10) #정규분포에서 10개의 샘플을 뽑아줌."
   ]
  },
  {
   "cell_type": "code",
   "execution_count": 107,
   "id": "0a095e41",
   "metadata": {},
   "outputs": [
    {
     "name": "stdout",
     "output_type": "stream",
     "text": [
      "[0. 0. 0. 0. 0. 0. 0. 0. 0. 0.]\n"
     ]
    },
    {
     "data": {
      "text/plain": [
       "array([4.52841345, 4.22288914, 4.32279636, 4.24013632, 4.07191851,\n",
       "       3.9542361 , 3.92897882, 4.19621483, 4.20597347, 3.5737791 ])"
      ]
     },
     "execution_count": 107,
     "metadata": {},
     "output_type": "execute_result"
    }
   ],
   "source": [
    "#표본의 평균으로 이루어진 배열 만들기\n",
    "sample_mean_array=np.zeros(10000)\n",
    "print(sample_mean_array[:10])\n",
    "for i in range(10000):\n",
    "    sample_mean_array[i]=population.rvs(size=10).mean()  #샘플사이즈 10개인 샘플 뽑은것의 평균 추출\n",
    "sample_mean_array[:10] #추출값= 표본평균"
   ]
  },
  {
   "cell_type": "code",
   "execution_count": 108,
   "id": "92401553",
   "metadata": {},
   "outputs": [
    {
     "data": {
      "text/plain": [
       "4.0"
      ]
     },
     "execution_count": 108,
     "metadata": {},
     "output_type": "execute_result"
    }
   ],
   "source": [
    "#표본평균의 평균\n",
    "#sample_mean_array :표본평균의 배열\n",
    "sample_mean_array.mean().round(2)  "
   ]
  },
  {
   "cell_type": "code",
   "execution_count": 109,
   "id": "3e9d2ec6",
   "metadata": {},
   "outputs": [
    {
     "data": {
      "text/plain": [
       "0.25"
      ]
     },
     "execution_count": 109,
     "metadata": {},
     "output_type": "execute_result"
    }
   ],
   "source": [
    "#표본평균의 표준편차\n",
    "sample_mean_array.std(ddof=1).round(2)\n"
   ]
  },
  {
   "cell_type": "code",
   "execution_count": 110,
   "id": "d9f0b33a",
   "metadata": {
    "scrolled": false
   },
   "outputs": [
    {
     "data": {
      "text/plain": [
       "<AxesSubplot:ylabel='Count'>"
      ]
     },
     "execution_count": 110,
     "metadata": {},
     "output_type": "execute_result"
    },
    {
     "data": {
      "image/png": "[encoded data removed]",
      "text/plain": [
       "<Figure size 640x480 with 1 Axes>"
      ]
     },
     "metadata": {},
     "output_type": "display_data"
    }
   ],
   "source": [
    "sns.histplot(sample_mean_array,kde=True)"
   ]
  },
  {
   "cell_type": "code",
   "execution_count": 111,
   "id": "b84be8e8",
   "metadata": {},
   "outputs": [
    {
     "data": {
      "text/plain": [
       "array([ 10, 110, 210, 310, 410, 510, 610, 710, 810, 910])"
      ]
     },
     "execution_count": 111,
     "metadata": {},
     "output_type": "execute_result"
    }
   ],
   "source": [
    "#샘플사이즈 변화 \n",
    "size_array= np.arange(10,100100,100) #10~100000까지 100단위로 출력\n",
    "size_array[:10]"
   ]
  },
  {
   "cell_type": "code",
   "execution_count": 112,
   "id": "7ddfa5b4",
   "metadata": {},
   "outputs": [
    {
     "data": {
      "text/plain": [
       "1001"
      ]
     },
     "execution_count": 112,
     "metadata": {},
     "output_type": "execute_result"
    }
   ],
   "source": [
    "sample_mean_array_size=np.zeros(len(size_array))\n",
    "len(sample_mean_array_size)"
   ]
  },
  {
   "cell_type": "code",
   "execution_count": 113,
   "id": "3ae2c90d",
   "metadata": {},
   "outputs": [
    {
     "data": {
      "text/plain": [
       "array([3.92228729, 4.0383612 , 4.09185254, 4.01346562, 4.0047295 ,\n",
       "       4.05765729, 3.98466861, 3.99126955, 3.98909837, 4.03638272])"
      ]
     },
     "execution_count": 113,
     "metadata": {},
     "output_type": "execute_result"
    }
   ],
   "source": [
    "#샘플사이즈를 변화시키면서 표본평균을 도출하는 시뮬레이션\n",
    "np.random.seed(1)\n",
    "for i in range(0,len(size_array)):\n",
    "    sample=population.rvs(size=size_array[i])\n",
    "    sample_mean_array_size[i]=np.mean(sample)\n",
    "sample_mean_array_size[:10]\n",
    "\n",
    "#array([3.92228729 (10), 4.0383612 (110), 4.09185254 (210), 4.01346562 (310), 4.0047295 ,\n",
    "#      4.05765729, 3.98466861, 3.99126955, 3.98909837, 4.03638272]) 등등등 \n",
    "#array([ 10, 110, 210, 310, 410, 510, 610, 710, 810, 910]) 이 위치에 있는 것들"
   ]
  },
  {
   "cell_type": "code",
   "execution_count": 114,
   "id": "6817c743",
   "metadata": {},
   "outputs": [
    {
     "data": {
      "image/png": "[encoded data removed]",
      "text/plain": [
       "<Figure size 1000x600 with 1 Axes>"
      ]
     },
     "metadata": {},
     "output_type": "display_data"
    }
   ],
   "source": [
    "plt.figure(figsize=(10,6))\n",
    "plt.plot(size_array,sample_mean_array_size,color='b')\n",
    "plt.xlabel('sample size')\n",
    "plt.ylabel('sample mean')\n",
    "plt.show()\n",
    "#샘플 사이즈가 커질수록 표본평균이 모평균(4)에 가까워짐"
   ]
  },
  {
   "cell_type": "code",
   "execution_count": 115,
   "id": "343f57c3",
   "metadata": {},
   "outputs": [
    {
     "data": {
      "text/plain": [
       "4.001728724963021"
      ]
     },
     "execution_count": 115,
     "metadata": {},
     "output_type": "execute_result"
    }
   ],
   "source": [
    "#사용자함수 (표본평균 계산)\n",
    "\n",
    "def cal_sample_mean(size,n_trial):\n",
    "    sample_mean_array=np.zeros(n_trial)\n",
    "    for i in range(n_trial):\n",
    "        sample_mean_array[i]=population.rvs(size=size).mean()\n",
    "    return sample_mean_array #표본평균분포를 반환\n",
    "np.mean(cal_sample_mean(size=10,n_trial=10000))"
   ]
  },
  {
   "cell_type": "markdown",
   "id": "8a116fdd",
   "metadata": {},
   "source": [
    "## [과제2_0411]\n",
    "상기 사용자 함수를 사용하여 샘플사이즈가 10,20,30 이고 샘플갯수가 각각 10000개인 3개의 데이터프레임을 생성 후 결합한 후 바이올린 플롯을 그려서 인사이트를 기술하세요"
   ]
  },
  {
   "cell_type": "code",
   "execution_count": null,
   "id": "4c8e2acc",
   "metadata": {},
   "outputs": [],
   "source": []
  },
  {
   "cell_type": "code",
   "execution_count": 116,
   "id": "89e195ec",
   "metadata": {},
   "outputs": [],
   "source": [
    "#분포가 4.0으로 모아지는 것을 볼 수 있다 = 샘플이 많을 수록 편차가 줄어든다"
   ]
  },
  {
   "cell_type": "markdown",
   "id": "fb8004a0",
   "metadata": {},
   "source": [
    "# 4.12일"
   ]
  },
  {
   "cell_type": "code",
   "execution_count": 117,
   "id": "d1d3006b",
   "metadata": {},
   "outputs": [
    {
     "data": {
      "text/plain": [
       "0.49867785050179086"
      ]
     },
     "execution_count": 117,
     "metadata": {},
     "output_type": "execute_result"
    }
   ],
   "source": [
    "#정규분포의 확률밀고 계산\n",
    "\n",
    "import numpy as np\n",
    "import pandas as pd\n",
    "from scipy import stats\n",
    "import matplotlib.pyplot as plt\n",
    "import seaborn as sns\n",
    "\n",
    "stats.norm.pdf(loc=4, scale=0.8, x=4) #x가 4일때 확률분포에서 대응되는 확률 구하기\n",
    "#pdf= probability density function = 확률 밀도 함수 "
   ]
  },
  {
   "cell_type": "code",
   "execution_count": 118,
   "id": "58854650",
   "metadata": {},
   "outputs": [
    {
     "data": {
      "image/png": "[encoded data removed]",
      "text/plain": [
       "<Figure size 640x480 with 1 Axes>"
      ]
     },
     "metadata": {},
     "output_type": "display_data"
    }
   ],
   "source": [
    "x_plot= np.arange(1,7.1,0.1) #x는 1~7.1사이 간격은 0.1\n",
    "plt.plot(x_plot,stats.norm.pdf(x=x_plot,loc=4,scale=0.8),color='black')\n",
    "plt.show()"
   ]
  },
  {
   "cell_type": "code",
   "execution_count": 119,
   "id": "2f558b66",
   "metadata": {},
   "outputs": [
    {
     "data": {
      "text/plain": [
       "0.2283113567362774"
      ]
     },
     "execution_count": 119,
     "metadata": {},
     "output_type": "execute_result"
    }
   ],
   "source": [
    "#Q. 동일 확률밀도 함수에서 x=3일때의 확률을 구하세요. \n",
    "norm_dist=stats.norm(loc=4, scale=0.8) #이 설정을 먼저 해놓고 \n",
    "norm_dist.pdf(x=3) #확률밀도함수의 x값에 3을 대입   \n",
    "#분포를 알면 확률을 구할 수 있다. \n"
   ]
  },
  {
   "cell_type": "markdown",
   "id": "c479a746",
   "metadata": {},
   "source": [
    "stats.norm.cdf는 \n",
    "- SciPy 라이브러리에서 제공하는 함수 중 하나로, 정규분포의 누적분포함수(Cumulative Distribution Function, CDF) 값을 계산하는 함수입니다. \n",
    "- 정규분포의 누적분포함수는 특정 값보다 작거나 같은 확률을 나타내는데, 이를 통해 특정 값의 분위수를 계산할 수 있습니다.\n",
    "\n",
    "- stats.norm.cdf(x, loc=0, scale=1 : 표준정규분포) 형태로 사용하며, x는 계산하고자 하는 분위수를 나타내는 값입니다. \n",
    "- loc는 정규분포의 평균값을, scale은 정규분포의 표준편차를 나타냅니다. \n",
    "- loc와 scale은 기본값으로 각각 0과 1이 지정되어 있으며, 이 경우는 표준정규분포를 가정합니다.\n",
    "  (아무것도 지정 안하면 표준정규분포를 가정함)"
   ]
  },
  {
   "cell_type": "code",
   "execution_count": 120,
   "id": "9899ff12",
   "metadata": {
    "scrolled": false
   },
   "outputs": [
    {
     "data": {
      "text/plain": [
       "[<matplotlib.lines.Line2D at 0x20c6460cd00>]"
      ]
     },
     "execution_count": 120,
     "metadata": {},
     "output_type": "execute_result"
    },
    {
     "data": {
      "image/png": "[encoded data removed]",
      "text/plain": [
       "<Figure size 640x480 with 1 Axes>"
      ]
     },
     "metadata": {},
     "output_type": "display_data"
    }
   ],
   "source": [
    "#누적분포 함수 :확룰밀도함수를 누적해서 구함. \n",
    "\n",
    "x_plot=np.arange(1,7.1,0.1)\n",
    "plt.plot(x_plot,stats.norm.cdf(x=x_plot, loc=4, scale=0.8),color='black')\n",
    "#cdf=cumulative distribution function 누적 분포 함수\n",
    "#누적이라 급격하게 올라감 "
   ]
  },
  {
   "cell_type": "code",
   "execution_count": 121,
   "id": "5ec6255e",
   "metadata": {},
   "outputs": [
    {
     "data": {
      "text/plain": [
       "0.5"
      ]
     },
     "execution_count": 121,
     "metadata": {},
     "output_type": "execute_result"
    }
   ],
   "source": [
    "#아무것도 지정 안했을 때의 예시. \n",
    "stats.norm.cdf(x=0)"
   ]
  },
  {
   "cell_type": "code",
   "execution_count": 122,
   "id": "ebe57f09",
   "metadata": {},
   "outputs": [
    {
     "data": {
      "text/plain": [
       "[<matplotlib.lines.Line2D at 0x20c645c1c10>]"
      ]
     },
     "execution_count": 122,
     "metadata": {},
     "output_type": "execute_result"
    },
    {
     "data": {
      "image/png": "[encoded data removed]",
      "text/plain": [
       "<Figure size 640x480 with 1 Axes>"
      ]
     },
     "metadata": {},
     "output_type": "display_data"
    }
   ],
   "source": [
    "x_plot= np.arange(-4,4,0.1)\n",
    "plt.plot(x_plot,stats.norm.pdf(x=x_plot,loc=0,scale=1),color='black')\n"
   ]
  },
  {
   "cell_type": "code",
   "execution_count": 123,
   "id": "9acbd564",
   "metadata": {},
   "outputs": [
    {
     "data": {
      "text/plain": [
       "[<matplotlib.lines.Line2D at 0x20c65aba130>]"
      ]
     },
     "execution_count": 123,
     "metadata": {},
     "output_type": "execute_result"
    },
    {
     "data": {
      "image/png": "[encoded data removed]",
      "text/plain": [
       "<Figure size 640x480 with 1 Axes>"
      ]
     },
     "metadata": {},
     "output_type": "display_data"
    }
   ],
   "source": [
    "x_plot= np.arange(-4,4,0.1)\n",
    "plt.plot(x_plot,stats.norm.cdf(x=x_plot,loc=0,scale=1),color='black')"
   ]
  },
  {
   "cell_type": "code",
   "execution_count": 124,
   "id": "240b074e",
   "metadata": {},
   "outputs": [
    {
     "data": {
      "text/plain": [
       "0.5"
      ]
     },
     "execution_count": 124,
     "metadata": {},
     "output_type": "execute_result"
    }
   ],
   "source": [
    "#하측 확률\n",
    "stats.norm.cdf(x=0)  #0.5가 딱 절반이 된다 "
   ]
  },
  {
   "cell_type": "code",
   "execution_count": 125,
   "id": "af8e56fd",
   "metadata": {},
   "outputs": [
    {
     "data": {
      "text/plain": [
       "0.3989422804014327"
      ]
     },
     "execution_count": 125,
     "metadata": {},
     "output_type": "execute_result"
    }
   ],
   "source": [
    "stats.norm.pdf(x=0) #pdf 절반 왼쪽의 합"
   ]
  },
  {
   "cell_type": "code",
   "execution_count": 126,
   "id": "7e3489a3",
   "metadata": {},
   "outputs": [
    {
     "data": {
      "text/plain": [
       "[<matplotlib.lines.Line2D at 0x20c61545ac0>]"
      ]
     },
     "execution_count": 126,
     "metadata": {},
     "output_type": "execute_result"
    },
    {
     "data": {
      "image/png": "[encoded data removed]",
      "text/plain": [
       "<Figure size 640x480 with 1 Axes>"
      ]
     },
     "metadata": {},
     "output_type": "display_data"
    }
   ],
   "source": [
    "#Q.평균이 5, 표준편차가 2인 정규분포에서 3이하의 확률 계산\n",
    "x_plot= np.arange(-1,11,0.1)\n",
    "plt.plot(x_plot,stats.norm.pdf(x=x_plot, loc=5, scale=2),color='black')"
   ]
  },
  {
   "cell_type": "code",
   "execution_count": 127,
   "id": "59d8c20b",
   "metadata": {},
   "outputs": [
    {
     "data": {
      "text/plain": [
       "0.15865525393145707"
      ]
     },
     "execution_count": 127,
     "metadata": {},
     "output_type": "execute_result"
    }
   ],
   "source": [
    "#답\n",
    "stats.norm.cdf(x = 3, loc = 5, scale = 2) #왜징"
   ]
  },
  {
   "cell_type": "code",
   "execution_count": 128,
   "id": "9c406b30",
   "metadata": {},
   "outputs": [
    {
     "data": {
      "text/plain": [
       "[<matplotlib.lines.Line2D at 0x20c62fec490>]"
      ]
     },
     "execution_count": 128,
     "metadata": {},
     "output_type": "execute_result"
    },
    {
     "data": {
      "image/png": "[encoded data removed]",
      "text/plain": [
       "<Figure size 640x480 with 1 Axes>"
      ]
     },
     "metadata": {},
     "output_type": "display_data"
    }
   ],
   "source": [
    "x_plot= np.arange(0,10,0.1)\n",
    "plt.plot(x_plot,stats.norm.cdf(x_plot, loc = 5, scale = 2),color='black')"
   ]
  },
  {
   "cell_type": "markdown",
   "id": "273d3164",
   "metadata": {},
   "source": [
    "stats.norm.ppf는 \n",
    "- SciPy 라이브러리에서 제공하는 함수 중 하나로, 정규분포의 분위수(Percent Point Function, PPF) 값을 계산하는 함수입니다. \n",
    "- 정규분포의 분위수는 특정 확률을 가지는 값(또는 그보다 작은 값)을 계산할 수 있습니다.\n",
    "- stats.norm.ppf(q, loc=0, scale=1) 형태로 사용하며, q는 계산하고자 하는 확률값을 나타내는 실수입니다. \n",
    "- loc는 정규분포의 평균값을, scale은 정규분포의 표준편차를 나타냅니다. \n",
    "- loc와 scale은 기본값으로 각각 0과 1이 지정되어 있으며, 이 경우는 표준정규분포를 가정합니다."
   ]
  },
  {
   "cell_type": "code",
   "execution_count": 129,
   "id": "782cfa88",
   "metadata": {},
   "outputs": [
    {
     "name": "stdout",
     "output_type": "stream",
     "text": [
      "6.683242467145829\n"
     ]
    }
   ],
   "source": [
    "from scipy.stats import norm\n",
    "x=norm.ppf(0.8,loc=5,scale=2)\n",
    "print(x)"
   ]
  },
  {
   "cell_type": "code",
   "execution_count": 130,
   "id": "f57fde0e",
   "metadata": {},
   "outputs": [
    {
     "data": {
      "text/plain": [
       "4.0"
      ]
     },
     "execution_count": 130,
     "metadata": {},
     "output_type": "execute_result"
    }
   ],
   "source": [
    "#Q. 평균이 4, 표분편차가 0.8인 정규분포에서 확률이 0.5일때의 분위수 값을 계산하세요.\n",
    "norm.ppf(0.5,loc = 4, scale = 0.8)\n"
   ]
  },
  {
   "cell_type": "code",
   "execution_count": 131,
   "id": "816dc9bf",
   "metadata": {},
   "outputs": [
    {
     "data": {
      "text/plain": [
       "[<matplotlib.lines.Line2D at 0x20c62fd5c70>]"
      ]
     },
     "execution_count": 131,
     "metadata": {},
     "output_type": "execute_result"
    },
    {
     "data": {
      "image/png": "[encoded data removed]",
      "text/plain": [
       "<Figure size 640x480 with 1 Axes>"
      ]
     },
     "metadata": {},
     "output_type": "display_data"
    }
   ],
   "source": [
    "x_plot= np.arange(1,7.1,0.1)\n",
    "plt.plot(x_plot,norm.cdf(x_plot,loc = 4, scale = 0.8)) \n",
    "#확률이 0.5일때 4"
   ]
  },
  {
   "cell_type": "markdown",
   "id": "8e10704b",
   "metadata": {},
   "source": [
    "#### 자유도 (=표본 수)\n",
    "- 통계량이란, 특정한 표본에서 계산되는 어떤 수치를 말합니다. 예를 들어, 표본의 평균이나 분산 등이 통계량이 될 수 있습니다. 이때, 표본의 크기가 작아질수록 통계량을 계산할 때, 계산에 사용되는 데이터의 수가 줄어들기 때문에, 계산에 대한 제약이 더욱 커집니다.\n",
    "- 통계량을 계산할 때 자유롭게 값을 지정할 수 있는 정도를 자유도(degree of freedom)라고 합니다. 자유도가 크면 큰 값, 작으면 작은 값이 나올 수 있고, 이에 따라서 추정 결과가 바뀔 수 있습니다.\n",
    "- 자유도란, 통계학에서 모집단의 분포를 추정하거나 가설 검정을 할 때, 적게는 1개, 많게는 여러 개의 표본으로부터 통계량을 계산할 때, 표본의 자유도를 말합니다. 간단하게 말하면, 통계량을 계산할 때 자유롭게 값을 지정할 수 있는 정도를 의미합니다. 이는 분석하고자 하는 문제나 실험의 특성에 따라 달라지며, 모집단의 분산 추정량을 계산할 때 등 다양한 상황에서 사용됩니다.\n",
    "- 어떤 학급의 수학시험에서, 20명의 학생들이 시험을 보았고, 각 학생들의 점수를 알고 있다고 가정해봅시다. 이때, 평균 점수를 계산하기 위해서는 각 학생의 점수를 모두 더한 후, 학생 수로 나누면 됩니다. 이때, 평균 점수를 계산할 때는 자유도가 n-1이 됩니다. (???자유롭게 할 수 없는 [하나의 수]가 있다. =다른 수는 다 바꿀 수 있지만 평균값은 정해져있기 때문에 바꿀 수 없다.그 숫자들로해서 구한 평균은 정해져 잇다. 1~10까지 더한 값의 평균은 5.5, 그 수로 만들어진 평균은 고정이 되어있고 다른 수는 바뀔 수 있다. 20개의 숫자가 고정되어있다고 하면 평균값이고 그 외에는 변할 수 있다. ????????? ) \n",
    "이는 계산에 사용되는 데이터의 수(20)에서 1을 뺀 값이기 때문입니다. 따라서, 평균 점수를 계산할 때, 각 학생의 점수를 자유롭게 지정할 수 있는 정도가 n-1만큼 되는 것입니다.\n",
    "- 이와 같이, 자유도는 계산에 사용되는 데이터의 수에 따라서 결정되며, 데이터의 수가 적을수록 자유도는 작아지게 됩니다. 따라서, 작은 자유도를 가진 경우에는 계산에 대한 제약이 더욱 커지게 되므로, 이를 고려하여 적절한 분석 방법을 선택해야 합니다.\n",
    "<br>\n",
    "<br>\n",
    "\n",
    "- 자유도가 커지면 편차가 줄어들고 자유도가 작으면 편차가 커진다"
   ]
  },
  {
   "cell_type": "markdown",
   "id": "0e622a7e",
   "metadata": {},
   "source": [
    " 분모가 n-1인 이유는, 표본에서 평균을 구할 때 표본의 자유도를 고려하기 위해서입니다.\n",
    "\n",
    "자유도란, 표본에서 평균을 구할 때 독립적인 정보의 개수를 나타내는 값으로, n-1로 계산합니다. 예를 들어, 표본의 데이터 중 하나의 값을 아는 경우, 다른 값들은 그 값에 의존하여 평균이 결정되므로, 자유도가 하나 줄어들게 됩니다.\n",
    "\n",
    "따라서 표본에서 분산을 구할 때, 자유도를 고려하지 않으면 분산이 실제보다 작게 나오게 됩니다. 이를 보정하기 위해, 표본에서 평균을 구할 때 자유도를 n-1로 지정하여, 표본의 실제 분산을 더 정확하게 추정하도록 합니다."
   ]
  },
  {
   "cell_type": "markdown",
   "id": "78399218",
   "metadata": {},
   "source": [
    "통계적으로 샘플 수 30개 이상이면 정규분포를 쓸 수 있다=t분포\n",
    "30개 이하면 정규분포를 쓰기 어렵다 "
   ]
  },
  {
   "cell_type": "markdown",
   "id": "7e3642c0",
   "metadata": {},
   "source": [
    "t분포란\n",
    "- 일반적으로 여러 실험을 해보면 데이터가 평균 근처에 많이 분포하고 평균에서 멀어질수록 적게 분포하는 형태를 띄는 정규분포를 띄는 경우가 많다. 그런데 정규분포는 표본의 수가 적으면 신뢰도가 낮아진다. \n",
    "- 신뢰도를 높이기 위하여 표본을 많이 뽑으면 되지만 현실적으로 시간과 비용의 제약으로 한계가 있으며 이에 대한 대응책으로 정규분포보다 한 단계 예측범위가 넓은 분포를 사용하는데 바로 t분포이다. \n",
    "- t분포는 정규분포의 표준정규분포처럼 표준이 되는 그래프는 없으며 대신 표본의 수에 따라서 그래프의 모양이 변하며 <span style=\"background-color:forestgreen\">표본의 수가 많아질수록 점점 표준정규분포와 비슷해지고 표본의 수가 적어질수록 그래프는 점점 옆으로 퍼진다. </span>\n",
    "- t분포는 확률을 구하는 경우 보다는 신뢰구간 혹은 가설 검정에 주로 사용하는데 특히 표본의 수가 30개 미만일 때 정규분포 대신 예측범위가 넓은 t분포를 사용한다. 표본의 수가 30개 이상이면 정규분포와 비슷해지기 때문에 정규분포를 사용하는 것이 바람직하다. \n",
    "- t분포로 신뢰구간을 추정하고 가설검정을 할 때 t값을 알아야 하는데<span style=\"background-color:forestgreen\"> t값은 x측 좌표이다.</span>\n",
    "- t-값은 t-분포에서의 값으로, 일반적으로 표본 평균과 모집단 평균의 차이를 표준 오차로 나눈 값입니다. t-값은 표본에서 계산된 통계량으로, 이를 바탕으로 모집단의 특성에 대한 가설을 검증하고, 모집단에 대한 추론을 수행\n",
    "- t-값은 해당 표본이 모집단과 얼마나 다른지, 혹은 모집단과 유사한지 등을 파악하는 데 사용됩니다. t-값이 크다는 것은 표본과 모집단이 서로 매우 다르다는 것을 의미하며, 이 경우에는 해당 표본이 모집단을 대표하지 못할 가능성이 높습니다. 반면,<span style=\"background-color:forestgreen\"> t-값이 작다는 것은 표본과 모집단이 서로 유사하다는 것을 의미하며, 이 경우에는 해당 표본이 모집단을 대표할 가능성이 높습니다.</span>\n",
    "-  t-값은 가설 검정에서 중요한 역할을 합니다. 예를 들어, 표본을 사용하여 모집단의 평균이 어떤 값과 차이가 있는지를 검정할 때, t-값을 사용하여 가설 검정을 수행합니다. 이를 통해, <span style=\"background-color:forestgreen\">모집단에 대한 가설이 기각되는 경우, 해당 모집단과 표본 간에 차이가 있다는 것을 의미하며, 가설이 채택되는 경우, 해당 모집단과 표본 간에 차이가 없다는 것을 의미</span>합니다."
   ]
  },
  {
   "cell_type": "markdown",
   "id": "1c05ab14",
   "metadata": {},
   "source": [
    "t분포는 \n",
    "- 통계학에서 가설 검정과 신뢰구간 추정에 사용되는 분포입니다. t분포는 정규분포와 유사하지만,<span style=\"background-color:blue\"> 표본의 크기가 작은 경우에도 정확한 검정 결과를 얻을 수 있도록 고안된 분포</span>입니다. 표본의 크기가 커질수록 t분포는 정규분포에 수렴하게 됩니다.\n",
    "- t분포를 사용하는 이유는 크게 두 가지로 나뉩니다. 첫째, 표본의 크기가 작은 경우에도 정확한 검정 결과를 얻을 수 있습니다. 둘째, <span style=\"background-color:blue\">모집단의 분산을 알지 못하는 경우에도 검정을 할 수 있습니다.</span> 모집단의 분산을 알지 못할 때는 t분포를 이용하여 검정을 하며, 이 경우에는 검정통계량에 대한 검정력이 낮아질 수 있습니다.\n",
    "- 아래는 t분포를 사용하는 예시입니다.\n",
    "  - 어떤 연구자가 두 가지 신약의 효과를 비교하고자 할 때, 두 신약을 각각 10명의 환자에게 투여하고 그 결과를 비교하였다고 가정해봅시다. 이 경우, 각각의 신약에 대한 효과를 비교하기 위해서는 t-검정(t-test)을 사용할 수 있습니다.<font color=tab:blue> t-검정은 두 집단의 평균값이 서로 다른지를 검정하는 방법으로, 검정통계량 t를 계산하여 유의수준(alpha)과 비교하여 검정을 수행합니다.</font> \n",
    "  = 신뢰수준 99% == 유의수준 0.1 (1-신뢰수준=유의수준)\n",
    "  -<font color=tab:blue> 만약 검정결과 t값이 양의 값이라면, 첫 번째 집단의 평균값이 더 크다</font>는 것을 의미하며, <font color=tab:blue>음의 값이라면 두 번째 집단의 평균값이 더 크다</font>는 것을 의미합니다. \n",
    "  <br>검정통계량 t는 자유도(n-1)을 가진 t분포를 따르게 됩니다. 따라서, 이 경우 t분포를 이용하여 검정통계량 t에 대한 유의확률(p-value)을 계산할 수 있습니다.\n",
    "\n",
    "이와 같은 방식으로, t분포를 이용하여 작은 표본의 경우에도 정확한 검정 결과를 얻을 수 있으며, 모집단의 분산을 알지 못하는 경우에도 검정을 할 수 있습니다."
   ]
  },
  {
   "cell_type": "code",
   "execution_count": null,
   "id": "76700dac",
   "metadata": {},
   "outputs": [],
   "source": []
  },
  {
   "cell_type": "markdown",
   "id": "d20e585d",
   "metadata": {},
   "source": [
    "#### [과제1_0417].가지 신약의 효과를 비교하기 위하여 t검정을 수행하세요.\n",
    "- 어떤 연구자가 두 가지 신약의 효과를 비교하고자 할 때, 두 신약을 각각 10명의  환자에게 추여하고 그 결과를 비교하였다.\n",
    "- X1 = [3,4,5,6,7,8,9,10,11,12], X2 = [2,3,4,5,6,7,8,9,10,11]\n",
    "- 유의수준 0.05\n",
    "<br>\n",
    "<br>귀무가설: 두 신약의 효과는 차이가 없다. (= 두 집단의 평균값의 차이는 0이다.)\n",
    "<br>대립가설: 두 신약의 료과는 차이가 있다. (= 두 집단의 평균값의 차이는 0이 아니다.)\n",
    "<br> ※차이가 크다 작다였으면 단측검증. 현재는 그게 아니므로 양측검증\n",
    "\n",
    "※모집단에서 표본 뽑는거랑 헷갈리면 안됨. 두 집단(두개의 신약)의 차이를 검증하는 것.\n",
    "<br><span style=\"background-color:green\">※ 두 집단을 비교할 땐 t-검정을 사용한다. </span>"
   ]
  },
  {
   "cell_type": "code",
   "execution_count": 132,
   "id": "9c6acbd0",
   "metadata": {},
   "outputs": [
    {
     "ename": "SyntaxError",
     "evalue": "invalid syntax (1941628669.py, line 2)",
     "output_type": "error",
     "traceback": [
      "\u001b[1;36m  File \u001b[1;32m\"C:\\Users\\h\\AppData\\Local\\Temp\\ipykernel_11836\\1941628669.py\"\u001b[1;36m, line \u001b[1;32m2\u001b[0m\n\u001b[1;33m    from scipy.stats import\u001b[0m\n\u001b[1;37m                            ^\u001b[0m\n\u001b[1;31mSyntaxError\u001b[0m\u001b[1;31m:\u001b[0m invalid syntax\n"
     ]
    }
   ],
   "source": [
    "import numpy as np\n",
    "from scipy.stats import \n",
    "\n",
    "#X1과 X2의 데이터 입력.\n",
    "X1 = [3,4,5,6,7,8,9,10,11,12]\n",
    "X2 = [2,3,4,5,6,7,8,9,10,11]\n",
    "\n",
    "# 각 집단의 평균값과 표준편차를 계산한다.\n",
    "# t검정을 수행하기 위한 변수를 계산\n",
    "# 합동표준편차(pool는 t-검정에서 두 집단의 표준편차를 통합하는 방법 중 하나\n",
    "# 유의수준을 0.05로 설정하고, 양측 검정을 수행한다.\n",
    "# 검정결과를 출력"
   ]
  },
  {
   "cell_type": "code",
   "execution_count": null,
   "id": "e78ecaeb",
   "metadata": {},
   "outputs": [],
   "source": [
    "import numpy as np\n",
    "from scipy.stats import t\n",
    "\n",
    "X1 = [3,4,5,6,7,8,9,10,11,12]\n",
    "X2 = [2,3,4,5,6,7,8,9,10,11]\n",
    "\n",
    "#각 집단의 평균값\n",
    "m1= np.mean(X1)\n",
    "m2= np.mean(X2)\n",
    "\n",
    "#표준편차\n",
    "X1_std = stats.tstd(X1)\n",
    "X2_std = stats.tstd(X2)\n",
    "\n",
    "#표준 오차\n",
    "st1=X1_std/np.sqrt(len(X1))\n",
    "st2=X2_std/np.sqrt(len(X2))\n",
    "\n",
    "# # t검정을 수행하기 위한 변수를 계산.\n",
    "# t_score = (m1-m2)/((st1**2 +st2 **2)**0.5)\n",
    "\n",
    "# 합동표준편차는 t-검정에서 두 집단의 표준편차를 통합하는 방법 중 하나\n",
    "N1=len(X1)\n",
    "N2=len(X2)\n",
    "dof=N1+N2-2\n",
    "pooled_std= np.sqrt(((N1-1)*std_X1**2 + (N2-1)*std_X2**2)/dof)\n",
    "t_statstic=(mean_X1-mean_X2)/(pooled_std*np.sqrt(1/N1 + 1/N2))\n",
    "\n",
    "# 유의수준을 0.05로 설정하고, 양측 검정을 수행한다.\n",
    "alpha = 0.05\n",
    "\n",
    "#임계값 계산\n",
    "\n",
    "t_crit1 = t.ppf(1-alpha/2,df = len(X1)-1 ) #양측검정일 경우 2로 나눠준다\n",
    "t_crit2 = t.ppf(alpha/2, df=len(X1)-1 )\n",
    "\n",
    "# 검정결과를 출력\n",
    "print('검정통계량: ',t_score)\n",
    "print('임계값:',t_crit1,t_crit2)"
   ]
  },
  {
   "cell_type": "code",
   "execution_count": null,
   "id": "b1563147",
   "metadata": {},
   "outputs": [],
   "source": [
    "#김나영\n",
    "import numpy as np\n",
    "from scipy.stats import t\n",
    "\n",
    "# x1과 x2의 데이터를 입력합니다.\n",
    "x1 = [3, 4, 5, 6, 7, 8, 9, 10, 11, 12]\n",
    "x2 = [2, 3, 4, 5, 6, 7, 8, 9, 10, 11]\n",
    "\n",
    "# 각 집단의 평균값과 표준편차를 계산합니다.\n",
    "mean1 = np.mean(x1)\n",
    "mean2 = np.mean(x2)\n",
    "std1 = np.std(x1)\n",
    "std2 = np.std(x2)\n",
    "st1 = std1 / np.sqrt(len(x1))   #표준오차\n",
    "st2 = std2 / np.sqrt(len(x2))\n",
    "\n",
    "# t-검정을 수행하기 위한 변수를 계산합니다.\n",
    "t_score = (mean1 - mean2) / ((st1**2 + st2**2)**0.5)\n",
    "\n",
    "# 유의수준을 0.05로 설정하고, 양측 검정을 수행합니다.\n",
    "alpha = 0.05           # 유의수준\n",
    "df = len(x1)-1         # 자유도\n",
    "\n",
    "t_crit1 = t.ppf(alpha/2, df)   # 양측검정의 임계값\n",
    "t_crit2 = t.ppf(1-alpha/2, df)   # 양측검정의 임계값\n",
    "\n",
    "p_value = t.sf(abs(t_score), df)*2    #p-value\n",
    "\n",
    "# 검정 결과를 출력합니다.\n",
    "print(f\"검정통계량: {t_score}\")\n",
    "print(f\"유의확률: {p_value}\")\n",
    "print(f'임계값: {t_crit1}, {t_crit2}')\n",
    "\n",
    "# 검정통계량이 임계값 사이에 있으므로 귀무가설을 기각할 수 없음(귀무가설 채택)\n",
    "# 유의확률이 유의수준보다 크므로 귀무가설을 기각할 수 없음\n",
    "\n",
    "# 만약 p(유의확률)값이 유의수준(0.05)보다 작으면, 귀무가설을 기각하고 대립가설을 채택할 수 있음"
   ]
  },
  {
   "cell_type": "code",
   "execution_count": null,
   "id": "be74bf42",
   "metadata": {},
   "outputs": [],
   "source": [
    "#답\n",
    "import numpy as np\n",
    "from scipy.stats import t\n",
    "\n",
    "# X1과 X2의 데이터를 입력합니다.\n",
    "X1 = [3, 4, 5, 6, 7, 8, 9, 10, 11, 12]\n",
    "X2 = [2, 3, 4, 5, 6, 7, 8, 9, 10, 11]\n",
    "\n",
    "# 각 집단의 평균값과 표준편차를 계산합니다.\n",
    "mean_X1 = np.mean(X1)\n",
    "mean_X2 = np.mean(X2)\n",
    "std_X1 = np.std(X1, ddof=1)\n",
    "std_X2 = np.std(X2, ddof=1)\n",
    "\n",
    "# t-검정을 수행하기 위한 변수를 계산합니다.\n",
    "# pooled standard deviation(합동 표준편차)는 t-검정에서 두 집단의 표준편차를 통합하는 방법 중 하나입니다. \n",
    "# 두 집단의 표본 표준편차가 서로 비슷하다는 가정 하에, 두 집단의 표준편차를 통합하여 하나의 표준편차로 계산\n",
    "N1 = len(X1)\n",
    "N2 = len(X2)\n",
    "dof = N1 + N2 - 2\n",
    "pooled_std = np.sqrt(((N1 - 1) * std_X1 ** 2 + (N2 - 1) * std_X2 ** 2) / dof)\n",
    "t_statistic = (mean_X1 - mean_X2) / (pooled_std * np.sqrt(1 / N1 + 1 / N2))\n",
    "\n",
    "# 유의수준을 0.05로 설정하고, 양측 검정을 수행합니다.\n",
    "alpha = 0.05\n",
    "t_critical = t.ppf(1 - alpha / 2, dof)\n",
    "\n",
    "# 검정 결과를 출력합니다.\n",
    "if abs(t_statistic) > t_critical:\n",
    "    print(\"검정 결과 : 두 집단의 평균값은 서로 다릅니다.\")\n",
    "else:\n",
    "    print(\"검정 결과 : 두 집단의 평균값은 서로 같습니다.\")"
   ]
  },
  {
   "cell_type": "markdown",
   "id": "83c67df6",
   "metadata": {},
   "source": [
    "#### [과제2_0417].\n",
    "위 사례에서 두 가지 신약의 효과를 비교하기 위하여 p값으로 검정을 수행하세요."
   ]
  },
  {
   "cell_type": "code",
   "execution_count": null,
   "id": "c63d561e",
   "metadata": {},
   "outputs": [],
   "source": [
    "#답\n",
    "from scipy.stats import ttest_ind\n",
    "\n",
    "# X1과 X2의 데이터를 입력합니다.\n",
    "X1 = [3, 4, 5, 6, 7, 8, 9, 10, 11, 12]\n",
    "X2 = [2, 3, 4, 5, 6, 7, 8, 9, 10, 11]\n",
    "\n",
    "# t-검정을 수행합니다.\n",
    "t_statistic, p_value = ttest_ind(X1, X2)\n",
    "\n",
    "# 유의수준을 0.05로 설정하고, 양측 검정을 수행했다고 가정합니다.\n",
    "alpha = 0.05\n",
    "\n",
    "# 검정 결과를 출력합니다.\n",
    "if p_value < alpha:\n",
    "    print(\"검정 결과 : 두 집단의 평균값은 서로 다릅니다.\")\n",
    "else:\n",
    "    print(\"검정 결과 : 두 집단의 평균값은 서로 같습니다.\")\n"
   ]
  },
  {
   "cell_type": "code",
   "execution_count": null,
   "id": "17e5b6a1",
   "metadata": {},
   "outputs": [],
   "source": [
    "#t-value는 일반적으로 표본 평균과 모집단 평균의 차이를 표준오차로 나눈 값으로 계산\n",
    "\n",
    "sample_data=[2.3,3.5,1.8,4.1,2.7]\n",
    "sample_mean=sum(sample_data)/len(sample_data) #표본 평균 계산\n",
    "sample_std=stats.tstd(sample_data) #표본 표준편차 계산(tstd())\n",
    "pop_mean=3.0 #모집단 평균 가정\n",
    "t_value=(sample_mean-pop_mean)/(sample_std/len(sample_data)**0.5)\n",
    "# (표본평균 - 모평균) / (표준편차 / 루트n ==표준오차)\n",
    "t_value"
   ]
  },
  {
   "cell_type": "code",
   "execution_count": null,
   "id": "4c51f6db",
   "metadata": {},
   "outputs": [],
   "source": [
    "#t값의 표본분포\n",
    "\n",
    "from scipy import stats\n",
    "np.random.seed(1)\n",
    "t_value_array=np.zeros(10000)  #정규 분포를 따르는 랜덤 표본 10,000개를 생성\n",
    "norm_dist=stats.norm(loc=4,scale=0.8)\n",
    "for i in range(0,10000): \n",
    "    sample=norm_dist.rvs(size=10)#길이가 10인 정규 분포를 따르는 랜덤 표본을 생성. 10개짜리 만번돌리기\n",
    "    sample_mean=np.mean(sample)  #sample_mean 변수를 이용하여 해당 표본의 평균을 계산\n",
    "    sample_std=np.std(sample,ddof=1) #sample_std 변수를 이용하여 해당 표준편차를 계산.\n",
    "                                     #ddof 인자를 1로 설정해 표본의 자유도 고려\n",
    "    sample_se=sample_std/np.sqrt(len(sample)) #sample_std/np.sqrt(len(sample))로 표본평균의 표준오차 계산\n",
    "    t_value_array[i]= (sample_mean-4)/sample_se #t_value_array[i] 변수를 이용하여 해당 표본의 t-값을 계산\n",
    "                                                #t-값은 (표본평균-모평균)/표준오차로 계산\n",
    "        #t_value_array[i]를 만개에 집어넣는다\n",
    "        \n",
    "#t분포도 정규분포이다. 단, 표준정규분포(평균이 와, 표준편차 1) 헷갈리면 안됨."
   ]
  },
  {
   "cell_type": "code",
   "execution_count": null,
   "id": "59488f21",
   "metadata": {},
   "outputs": [],
   "source": [
    "import warnings\n",
    "warnings.filterwarnings('ignore')\n",
    "sns.distplot(t_value_array,color='black')\n",
    "#이거는 t분포를 그린것 "
   ]
  },
  {
   "cell_type": "code",
   "execution_count": null,
   "id": "4f2da062",
   "metadata": {},
   "outputs": [],
   "source": [
    "#이거는 표준정규분포를 그린 것 \n",
    "plt.figure(figsize=(10,6))\n",
    "sns.distplot(t_value_array,color='black')\n",
    "x=np.arange(-8,8.1,0.1)\n",
    "plt.plot(x,stats.norm.pdf(x=x), #조건이 생략되었다 =평균이 0 표준편차 1 과 같다. = (lco=0,scale=1)\n",
    "         color='black',linestyle='dotted') #점선이 표준정규분포 \n"
   ]
  },
  {
   "cell_type": "code",
   "execution_count": null,
   "id": "8bd95d23",
   "metadata": {},
   "outputs": [],
   "source": [
    "#자유도 n이 커짐에 따라 표준정규분포 N(0,1)에 수렴\n",
    "plt.figure(figsize=(10,6))\n",
    "plt.plot(x,stats.norm.pdf(x=x),\n",
    "        color='red',linestyle='dotted')\n",
    "plt.plot(x,stats.t.pdf(x=x,df=5), #t분포에 자유도 5 줌.\n",
    "        color='blue')\n",
    "plt.plot(x,stats.t.pdf(x=x,df=1),#t분포에 자유도 1줌. 5줬을때보다 옆으로 퍼지는것을 볼 수 잇음\n",
    "        color='green')\n",
    "plt.plot(x,stats.t.pdf(x=x,df=30),#자유도 30주면 표준정규분포와 흡사하기 때문에 t분포를 쓸 이유가 없다. \n",
    "        color='gray') \n",
    "plt.show()\n"
   ]
  },
  {
   "cell_type": "markdown",
   "id": "c863eb4a",
   "metadata": {},
   "source": [
    "### [과제 1 _04.12]\n",
    "\n",
    "pdf,cdf,ppf를 활용하여 확률과 분위수를 구하는 사례를 작성하여 그 결과를 값과 그래프(확률밀도함수, 누적분포함수)를 출력하세요."
   ]
  },
  {
   "cell_type": "code",
   "execution_count": null,
   "id": "dceb32e0",
   "metadata": {},
   "outputs": [],
   "source": [
    "import numpy as np\n",
    "import pandas as pd\n",
    "from scipy import stats\n",
    "import matplotlib.pyplot as plt\n",
    "import seaborn as sns\n",
    "from scipy.stats import norm\n",
    "x_plot= np.arange(-1,11,0.1)\n",
    "plt.plot(x_plot,stats.norm.pdf(x=x_plot, loc=5, scale=2), #pdf: 확률 밀도함수\n",
    "        color='orange')"
   ]
  },
  {
   "cell_type": "code",
   "execution_count": null,
   "id": "51cd6fe8",
   "metadata": {
    "scrolled": false
   },
   "outputs": [],
   "source": [
    "plt.plot(x_plot,stats.norm.cdf(x=x_plot, loc=5, scale=2), #cdf: 누적분포함수\n",
    "        color='green')"
   ]
  },
  {
   "cell_type": "code",
   "execution_count": null,
   "id": "22cdcd2e",
   "metadata": {},
   "outputs": [],
   "source": [
    "#Q. 평균이 5, 표분편차가 0.8인 정규분포에서 확률이 0.5일때의 분위수 값.\n",
    "x=norm.ppf(0.5, loc=5, scale=0.8)\n",
    "x"
   ]
  },
  {
   "cell_type": "markdown",
   "id": "9050a716",
   "metadata": {},
   "source": [
    "### [과제 2 _04.12]\n",
    "t분포의 자유도를 5개로 조정하면서 그래프의 모습이 표준 정규 분포 대비 어떻게 변하는지를 확인할 수 있는 그래프를 출력하세요 (위에 그린것 복습)"
   ]
  },
  {
   "cell_type": "code",
   "execution_count": null,
   "id": "29531aa2",
   "metadata": {},
   "outputs": [],
   "source": [
    "plt.figure(figsize=(10,6))\n",
    "plt.plot(x,stats.norm.pdf(x=x),\n",
    "        color='red',linestyle='dotted') #정규분포\n",
    "plt.plot(x,stats.t.pdf(x=x,df=4),  #t분포 \n",
    "        color='orange')\n",
    "plt.plot(x,stats.t.pdf(x=x,df=1),\n",
    "        color='purple')\n",
    "plt.plot(x,stats.t.pdf(x=x,df=0.5), \n",
    "        color='green') \n",
    "plt.plot(x,stats.t.pdf(x=x,df=0.05), \n",
    "        color='blue') \n",
    "plt.plot(x,stats.t.pdf(x=x,df=30), \n",
    "        color='gray') \n",
    "plt.show()\n",
    "\n",
    "#자유도에 따라 편차가 달라지는 것을 볼 수 잇다. "
   ]
  },
  {
   "cell_type": "markdown",
   "id": "8b0fc82c",
   "metadata": {},
   "source": [
    "#### 통계적 추정 : 모수 즉 모집단의 파라미터를 추정\n",
    "- 모집단 분포가 정규분포임을 가정했을 때 모수를 알면 모집단 분포를 추정할 수 있음\n",
    "- <span style=\"background-color:salmon\">점추정</span> : 모수를 어느 1개의 값으로 추정하는 방법\n",
    " - 모평균 추정에 표본평균을 사용하는데 표본평균은 불편성과 일치성을 가지고 있는 통계량이기 때문임\n",
    " - 모분산의 점추정값으로 표본에서 계산된 통계량으로 불편분산을 사용\n",
    "- <span style=\"background-color:salmon\">구간추정</span> : 추정값이 폭을 가지게 하는 추정 방법. 추정의 폭 계산에는 확률의 개념을 사용\n",
    " - 폭을 가지므로 추정오차를 가미할 수 있으며 추정오차가 작으면 구간 추정의 폭이 좁아짐.\n",
    " - 샘플사이즈가 커져도 구간 추정의 폭은 좁아짐<br>\n",
    "<br> \n",
    "- 점추정과 구간추정의 차이와 장단점\n",
    "    - 점추정: 단 하나의 값을 사용하여 모수를 추정하는 방법으로, 일반적으로 표본평균, 표본분산 등이 사용\n",
    "        - 모수의 추정치가 하나의 값으로 나타나므로 간단하고 직관적\n",
    "        - 그러나, 추정된 값이 모수와 얼마나 가까운지, 즉 추정값의 정확성에 대한 정보를 제공하지 않습니다.\n",
    "    - 구간추정: 표본으로부터 계산된 통계량과 신뢰수준(confidence level)을 이용\n",
    "        - 모수가 존재할 가능성이 높은 구간을 추정하는 방법\n",
    "        - 추정값의 불확실성을 보다 정확하게 나타내며, 추정값이 얼마나 정확한지에 대한 정보를 제공\n",
    "        - <font color=salmon>장점</font>\n",
    "            - 구간추정:추정값의 불확실성을 보다 정확하게 나타내며, 추정값이 얼마나 정확한지에 대한 정보를 제공\n",
    "                - 신뢰수준을 조정하여 원하는 정확도의 구간을 얻을 수 있다.\n",
    "            - 점추정: 간단하고 직관적이며, 계산이 쉽다\n",
    "        -<font color=salmon> 단점</font>\n",
    "            - 구간추정: 계산량이 많고, 추정된 구간의 범위가 넓을 수 있다는 것\n",
    "                - 신뢰수준이 높을수록 추정된 구간의 길이가 증가하며, 이로 인해 추정된 구간이 모수를 포함하지 않을 가능성이 높아짐.\n",
    "            - 점추정: 추정된 값이 모수와 정확하게 일치하지 않을 수 있다<br>\n",
    "<br>          \n",
    "- 신뢰계수(신뢰수준)와 신뢰구간\n",
    " - 신뢰계수란 구간 추정의 폭에 대한 신뢰 정도를 확률로 표현한 것. 95%, 99%\n",
    " - 신뢰구간이란 특정 신뢰계수를 만족하는 구간 ±5: 95%=90~100사이\n",
    " - <span style=\"background-color:salmon\">신뢰계수가 클수록 신뢰구간의 폭이 넓어짐</span>\n",
    "- <span style=\"background-color:salmon\">신뢰한계</span> : 신뢰구간의 하한값과 상한값\n",
    "- 신뢰구간 계산 :<span style=\"background-color:salmon\"> \"(표본평균 - 모평균) / 표준오차\"</span>로 계산한 t값. 구간추정을 할 때는 t분포의 퍼센트포인트 사용\n",
    " - 신뢰계수를 95%라고 했을 때 t분포를 따른다면 2.5% 지점과 97.5% 지점을 계산. \n",
    " - t분포를 따르는 변수가 이 구간에 들어갈 확률은 95%가 됨\n",
    " - 표본의 분산 크기가 커지면 신뢰구간의 폭이 넓어짐\n",
    " - 샘플수가 커지면 자유도가 커지고 표준오차가 작아짐\n",
    " - 신뢰계수가 커질수록 안전해진다고 볼 수 있으며 신뢰구간의 폭이 넓어짐(신뢰도가 99%가 되는게 어려우니까)"
   ]
  },
  {
   "cell_type": "markdown",
   "id": "bab16150",
   "metadata": {},
   "source": [
    "예를 들어, 100명의 학생들의 키를 측정하여 표본평균을 계산하였습니다. 이 때, 표본의 크기는 100이며, 표본평균은 170cm입니다. 이러한 데이터를 바탕으로 모집단의 평균을 추정하고자 합니다. 이 때, 신뢰구간을 이용하여 추정값의 신뢰도를 평가할 수 있습니다.\n",
    "\n",
    "<span style=\"background-color:forestgreen\">먼저, 신뢰수준(confidence level)을 설정</span>합니다. 신뢰수준은 추정값이 구간 내에 존재할 확률로, 일반적으로 95%나 99%로 설정됩니다. 이번 예시에서는 신뢰수준을 95%로 설정하겠습니다.\n",
    "\n",
    "<span style=\"background-color:forestgreen\">다음으로, 표본의 크기와 분산을 이용하여 표준오차(standard error)를 계산</span>합니다. 표준오차는 표본평균과 모집단 평균의 차이를 추정하는 데 사용되는 지표입니다. 표준오차를 계산하기 위해서는 표본평균의 표준편차(standard deviation)와 표본의 크기가 필요합니다. 이번 예시에서는 표본의 표준편차가 5cm, 표본의 크기가 100명이므로, 표준오차는 다음과 같이 계산됩니다.\n",
    "\n",
    "표준오차 = 5 / sqrt(100)= 0.5      => 5(표준편차)를 √n으로 나눈다 \n",
    "\n",
    "<span style=\"background-color:forestgreen\">마지막으로, 추정값과 신뢰수준, 표준오차를 이용하여 신뢰구간을 계산</span>합니다. 이번 예시에서는 95%의 신뢰수준을 가지고 있으므로, 신뢰구간은 다음과 같이 계산됩니다.\n",
    "\n",
    "신뢰구간 = 추정값 ± (신뢰계수 * 표준오차)\n",
    "= 170 ± (1.96 * 0.5)\n",
    "= (169.02, 170.98)\n",
    "\n",
    "즉, 95%의 신뢰수준으로 모집단의 평균을 추정할 때, 평균은 약 169.02cm부터 170.98cm까지의 범위 내에 존재할 것으로 예상됩니다."
   ]
  },
  {
   "cell_type": "markdown",
   "id": "46515185",
   "metadata": {},
   "source": [
    "#### ex) 점추정이 32% 라고 했을 때\n",
    "- 신뢰구간 (±5) : 27~37\n",
    "- 신뢰수준 95% = 신뢰구간에 속할 확률이 95%이다. \n",
    "- 신뢰구간 계산 : (표본평균 - 모평균)/ 표준오차. \n",
    "- 신뢰수준 <=> 유의수준. 서로 반대개념"
   ]
  },
  {
   "cell_type": "code",
   "execution_count": 135,
   "id": "6c1e310f",
   "metadata": {},
   "outputs": [
    {
     "data": {
      "text/html": [
       "<div>\n",
       "<style scoped>\n",
       "    .dataframe tbody tr th:only-of-type {\n",
       "        vertical-align: middle;\n",
       "    }\n",
       "\n",
       "    .dataframe tbody tr th {\n",
       "        vertical-align: top;\n",
       "    }\n",
       "\n",
       "    .dataframe thead th {\n",
       "        text-align: right;\n",
       "    }\n",
       "</style>\n",
       "<table border=\"1\" class=\"dataframe\">\n",
       "  <thead>\n",
       "    <tr style=\"text-align: right;\">\n",
       "      <th></th>\n",
       "      <th>length</th>\n",
       "    </tr>\n",
       "  </thead>\n",
       "  <tbody>\n",
       "    <tr>\n",
       "      <th>0</th>\n",
       "      <td>4.352982</td>\n",
       "    </tr>\n",
       "    <tr>\n",
       "      <th>1</th>\n",
       "      <td>3.735304</td>\n",
       "    </tr>\n",
       "    <tr>\n",
       "      <th>2</th>\n",
       "      <td>5.944617</td>\n",
       "    </tr>\n",
       "    <tr>\n",
       "      <th>3</th>\n",
       "      <td>3.798326</td>\n",
       "    </tr>\n",
       "    <tr>\n",
       "      <th>4</th>\n",
       "      <td>4.087688</td>\n",
       "    </tr>\n",
       "    <tr>\n",
       "      <th>5</th>\n",
       "      <td>5.265985</td>\n",
       "    </tr>\n",
       "    <tr>\n",
       "      <th>6</th>\n",
       "      <td>3.272614</td>\n",
       "    </tr>\n",
       "    <tr>\n",
       "      <th>7</th>\n",
       "      <td>3.526691</td>\n",
       "    </tr>\n",
       "    <tr>\n",
       "      <th>8</th>\n",
       "      <td>4.150083</td>\n",
       "    </tr>\n",
       "    <tr>\n",
       "      <th>9</th>\n",
       "      <td>3.736104</td>\n",
       "    </tr>\n",
       "  </tbody>\n",
       "</table>\n",
       "</div>"
      ],
      "text/plain": [
       "     length\n",
       "0  4.352982\n",
       "1  3.735304\n",
       "2  5.944617\n",
       "3  3.798326\n",
       "4  4.087688\n",
       "5  5.265985\n",
       "6  3.272614\n",
       "7  3.526691\n",
       "8  4.150083\n",
       "9  3.736104"
      ]
     },
     "execution_count": 135,
     "metadata": {},
     "output_type": "execute_result"
    }
   ],
   "source": [
    "#물고기 몸길이 데이터\n",
    "df=pd.read_csv('./dataset/5_7_fl.csv')\n",
    "df"
   ]
  },
  {
   "cell_type": "code",
   "execution_count": 136,
   "id": "02fe3c03",
   "metadata": {},
   "outputs": [
    {
     "data": {
      "text/plain": [
       "4.19"
      ]
     },
     "execution_count": 136,
     "metadata": {},
     "output_type": "execute_result"
    }
   ],
   "source": [
    "#모평균의 점추정 \n",
    "fish=df.length\n",
    "mu=np.mean(fish)\n",
    "round(mu,2)"
   ]
  },
  {
   "cell_type": "code",
   "execution_count": 137,
   "id": "7ce1aaa7",
   "metadata": {},
   "outputs": [
    {
     "data": {
      "text/plain": [
       "0.68"
      ]
     },
     "execution_count": 137,
     "metadata": {},
     "output_type": "execute_result"
    }
   ],
   "source": [
    "#모분산의 점추정\n",
    "sigma_2=np.var(fish,ddof=1)\n",
    "round(sigma_2,2)"
   ]
  },
  {
   "cell_type": "code",
   "execution_count": 138,
   "id": "aefeb887",
   "metadata": {},
   "outputs": [
    {
     "data": {
      "text/plain": [
       "0.26"
      ]
     },
     "execution_count": 138,
     "metadata": {},
     "output_type": "execute_result"
    }
   ],
   "source": [
    "#표준오차 : 표분편차 나누기 루트n\n",
    "sigma=np.std(fish,ddof=1)#표준편차\n",
    "se=sigma/np.sqrt(len(fish))\n",
    "round(se,2)"
   ]
  },
  {
   "cell_type": "code",
   "execution_count": 139,
   "id": "29d34fe1",
   "metadata": {},
   "outputs": [
    {
     "data": {
      "text/plain": [
       "9"
      ]
     },
     "execution_count": 139,
     "metadata": {},
     "output_type": "execute_result"
    }
   ],
   "source": [
    "#자유도\n",
    "df=len(fish)-1\n",
    "df"
   ]
  },
  {
   "cell_type": "code",
   "execution_count": 140,
   "id": "482c0eca",
   "metadata": {},
   "outputs": [
    {
     "name": "stderr",
     "output_type": "stream",
     "text": [
      "C:\\Users\\h\\AppData\\Local\\Temp\\ipykernel_11836\\2141404120.py:2: DeprecationWarning: Use of keyword argument `alpha` for method `interval` is deprecated. Use first positional argument or keyword argument `confidence` instead.\n",
      "  interval=stats.t.interval(alpha=0.95,df=df,loc=mu,scale=se) #여기서 alpha=신뢰수준.보통 alpha는 유의수준\n"
     ]
    },
    {
     "data": {
      "text/plain": [
       "(3.597010056835825, 4.777068592173221)"
      ]
     },
     "execution_count": 140,
     "metadata": {},
     "output_type": "execute_result"
    }
   ],
   "source": [
    "#신뢰구간: 신뢰수준 95%\n",
    "interval=stats.t.interval(alpha=0.95,df=df,loc=mu,scale=se) #여기서 alpha=신뢰수준.보통 alpha는 유의수준\n",
    "interval"
   ]
  },
  {
   "cell_type": "code",
   "execution_count": null,
   "id": "8b423499",
   "metadata": {},
   "outputs": [],
   "source": [
    "#표준편차를 10배로 늘려서 신뢰구간 계산\n",
    "#표준편차를 10배로 늘리면 신뢰구간도 늘어남. \n",
    "\n",
    "se2=sigma*10/np.sqrt(len(fish))  #sigma=표준편차\n",
    "stats.t.interval(alpha=0.95, df=df,loc=mu,scale=se2)"
   ]
  },
  {
   "cell_type": "code",
   "execution_count": null,
   "id": "7d8b5bdf",
   "metadata": {},
   "outputs": [],
   "source": [
    "#Q.샘플사이즈를 10배로 늘려서 신뢰구간 계산\n",
    "#샘플사이즈가 늘어나면 신뢰구간은 좁아짐. \n",
    "df2=(len(fish)*10)-1\n",
    "se3=sigma/np.sqrt(len(fish)*10)\n",
    "stats.t.interval(alpha=0.95, df=df2,loc=mu,scale=se3)"
   ]
  },
  {
   "cell_type": "code",
   "execution_count": null,
   "id": "b8abd3d9",
   "metadata": {},
   "outputs": [],
   "source": [
    "#김나영\n",
    "df = pd.read_csv('../dataset/5_7_fl.csv')\n",
    "\n",
    "# 모평균의 점추정   -> 샘플데이터 10배로 복붙\n",
    "fish = df.length\n",
    "fish = np.tile(fish, 10)\n",
    "\n",
    "mu = np.mean(fish)    #평균\n",
    "sigma_2 = np.var(fish, ddof=1)   # 모분산의 점추정\n",
    "sigma = np.std(fish, ddof=1)     #표준편차\n",
    "se = sigma/np.sqrt(len(fish))    #표준오차\n",
    "df = len(fish)-1   #자유도\n",
    "\n",
    "interval = stats.t.interval(alpha=0.95, df=df, loc=mu, scale=se)  # 신뢰구간\n",
    "interval"
   ]
  },
  {
   "cell_type": "code",
   "execution_count": null,
   "id": "a0793f8a",
   "metadata": {},
   "outputs": [],
   "source": [
    "# 신뢰수준 95% vs 99%\n",
    "\n",
    "#신뢰수준이 높은만큼 그 값에 도달하기 어렵기 때문에 \n",
    "#신뢰수준이 커지면 신뢰구간은 넓어진다. "
   ]
  },
  {
   "cell_type": "code",
   "execution_count": null,
   "id": "e04ffa15",
   "metadata": {},
   "outputs": [],
   "source": [
    "stats.t.interval(alpha=0.99, df=df,loc=mu,scale=se)"
   ]
  },
  {
   "cell_type": "markdown",
   "id": "d823adc0",
   "metadata": {},
   "source": [
    "### [과제3_0412]\n",
    "- 크기가 10인 표본 데이터를 생성하고 평균과 표준편차를 구하세요.\n",
    "- 신뢰수준을 95%로 설정하고 자유도를 계산하세요.\n",
    "- 신뢰구간을 계산하고 결과를 출력하세요"
   ]
  },
  {
   "cell_type": "code",
   "execution_count": null,
   "id": "0cd3f3f8",
   "metadata": {},
   "outputs": [],
   "source": [
    "import numpy as np\n",
    "from scipy.stats import norm\n",
    "from scipy import stats\n",
    "import warnings\n",
    "warnings.filterwarnings('ignore')\n",
    "\n",
    "#표본 데이터 생성\n",
    "data=np.array([1.2,1.8,1.6,1.4,1.5,1.7,1.9,1.3,1.1,1.4])\n",
    "\n",
    "#표본의 크기\n",
    "n=len(data)\n",
    "\n",
    "#표본 평균\n",
    "mean=np.mean(data)\n",
    "\n",
    "#표준오차\n",
    "std=np.std(data,ddof=1)\n",
    "se=std/np.sqrt(len(data))\n",
    "\n",
    "#신뢰수준\n",
    "conf_level = 0.95\n",
    "#자유도\n",
    "df= n-1\n",
    "\n",
    "#신뢰구간 계산\n",
    "conf_int = stats.t.interval(alpha = 0.95, df=df, loc=mean, scale=se)\n",
    "\n",
    "#결과 출력\n",
    "print(\"표본 평균: {:,.2f}\".format(mean))\n",
    "print(\"표본 표준편차: {:,.2f}\".format(std))\n",
    "print(\"신뢰구간: {:.2f}~{:.2f}\".format(conf_int[0],conf_int[1]))"
   ]
  },
  {
   "cell_type": "code",
   "execution_count": null,
   "id": "21de771e",
   "metadata": {},
   "outputs": [],
   "source": [
    "#10배로 샘플사이즈 확대 \n",
    "import numpy as np\n",
    "from scipy.stats import norm\n",
    "#표본 데이터 생성\n",
    "data = np.array([1.2, 1.8, 1.6, 1.4, 1.5, 1.7, 1.9, 1.3, 1.1, 1.4])\n",
    "\n",
    "#표본 크기\n",
    "n=len(data)*10\n",
    "\n",
    "#표본평균\n",
    "mean = np.mean(data)\n",
    "\n",
    "#표준 오차\n",
    "std=np.std(data,ddof=1)\n",
    "se = std/np.sqrt(len(data)*10)\n",
    "\n",
    "#신뢰수준 \n",
    "conf_level = 0.95\n",
    "\n",
    "#자유도 \n",
    "df=n-1\n",
    "\n",
    "# 신뢰구간 계산\n",
    "conf_int = stats.t.interval(alpha=0.95, df=df, loc=mean, scale=se)\n",
    "\n",
    "#결과 출력\n",
    "print(\"표본 평균: {:.2f}\".format(mean))\n",
    "print(\"표본 표준편차: {:.2f}\".format(std))\n",
    "print(\"신뢰구간: {:.2f}~{:.2f}\".format(conf_int[0],conf_int[1]))"
   ]
  },
  {
   "cell_type": "code",
   "execution_count": null,
   "id": "20230f9c",
   "metadata": {},
   "outputs": [],
   "source": []
  },
  {
   "cell_type": "markdown",
   "id": "e24f141a",
   "metadata": {},
   "source": [
    "### [과제4_0412]\n",
    "        어떤 제품을 생산하는 공장에서 제품의 길이를 측정하여 표본평균과 표본표준편차를 계산했다고 가정한다. 이 때 95% 신뢰수준에서 제품의 평균길이를 추정하기 위하여 아래의 경우에 적합한 신뢰구간을 계산하세요.\n",
    "        \n",
    "        - 표본:[49.6,51.3,49.9,50.5,49.7,50.1,50.3,50.0]\n",
    "        - 표본의 크기를 무작위로 100배 확대\n",
    "        \n",
    "- (표본평균 - 모평균) / 표준오차\"로 계산한 t값. 구간추정을 할 때는 t분포의 퍼센트포인트 사용"
   ]
  },
  {
   "cell_type": "code",
   "execution_count": null,
   "id": "9c45b282",
   "metadata": {},
   "outputs": [],
   "source": [
    "import numpy as np\n",
    "from scipy.stats import t\n",
    "\n",
    "# 표본 데이터 생성\n",
    "data = np.array([49.6, 51.3, 49.9, 50.2, 49.8, 50.5, 49.7, 50.1, 50.3, 50.0])\n",
    "\n",
    "# 표본의 크기\n",
    "n = len(data)\n",
    "\n",
    "# 표본 평균\n",
    "mean = np.mean(data)\n",
    "\n",
    "# 표준오차\n",
    "std = np.std(data, ddof=1)\n",
    "se = std/np.sqrt(len(data))\n",
    "\n",
    "# 신뢰수준\n",
    "conf_level = 0.95\n",
    "\n",
    "# 자유도\n",
    "df = n - 1\n",
    "\n",
    "# 신뢰구간 계산\n",
    "conf_int = t.interval(conf_level, df, loc=mean, scale=se)\n",
    "\n",
    "# 결과 출력\n",
    "print(\"표본 평균: {:.2f}\".format(mean))\n",
    "print(\"표본 표준편차: {:.2f}\".format(std))\n",
    "print(\"신뢰구간: {:.2f} ~ {:.2f}\".format(conf_int[0], conf_int[1]))"
   ]
  },
  {
   "cell_type": "code",
   "execution_count": null,
   "id": "fe6d0f76",
   "metadata": {},
   "outputs": [],
   "source": [
    "#위 코드의 100배\n",
    "\n",
    "import numpy as np\n",
    "from scipy.stats import t\n",
    "\n",
    "# 표본 데이터 생성\n",
    "data = np.array([49.6, 51.3, 49.9, 50.2, 49.8, 50.5, 49.7, 50.1, 50.3, 50.0])\n",
    "\n",
    "# 표본의 크기\n",
    "n = len(data)*100\n",
    "\n",
    "# 표본 평균\n",
    "mean = np.mean(data)\n",
    "\n",
    "# 표준오차\n",
    "std = np.std(data, ddof=1)\n",
    "se = std/np.sqrt(len(data)*100) #n값을 100배 늘려줌\n",
    "\n",
    "# 신뢰수준\n",
    "conf_level = 0.95\n",
    "\n",
    "# 자유도\n",
    "df = n - 1\n",
    "\n",
    "# 신뢰구간 계산\n",
    "conf_int = t.interval(conf_level, df, loc=mean, scale=se)\n",
    "\n",
    "# 결과 출력\n",
    "print(\"표본 평균: {:.2f}\".format(mean))\n",
    "print(\"표본 표준편차: {:.2f}\".format(std))\n",
    "print(\"신뢰구간: {:.2f} ~ {:.2f}\".format(conf_int[0], conf_int[1]))\n",
    "\n",
    "#샘플수가 늘면 신뢰구간이 좁아짐. \n",
    "#신뢰수준이 높아지면 신뢰구간은 커진다. "
   ]
  },
  {
   "cell_type": "code",
   "execution_count": null,
   "id": "85ac565f",
   "metadata": {},
   "outputs": [],
   "source": []
  },
  {
   "cell_type": "markdown",
   "id": "62471277",
   "metadata": {},
   "source": [
    "# 4.17일 월요일"
   ]
  },
  {
   "cell_type": "markdown",
   "id": "a430b0f0",
   "metadata": {},
   "source": [
    "#### z분포와 t분포에서 신뢰구간 계산 방법의 차이\n",
    "\n",
    "z분포와 t분포는 모집단의 평균을 추정하기 위해 사용되는 확률분포입니다.<br>\n",
    "하지만, z분포는 모집단의 표준편차를 알고 있을 때(=모분산을 안다), t분포는 모집단의 표준편차를 알지 못할 때(=모분산 모를 때) 사용됩니다. 따라서, z분포는 큰 표본(일반적으로 30개 이상)에 대해서 사용되며, t분포는 작은 표본에 대해서 사용됩니다.\n",
    "\n",
    "z분포에서 신뢰구간을 계산하는 방법은 다음과 같습니다.\n",
    "\n",
    "신뢰구간 = (표본평균 - (z분포의 임계값 * (표준편차<span style=\"background-color:green\">(모집단의 표준편차)</span>/√n)), 표본평균 + (z분포의 임계값 * (표준편차/√n)))\n",
    "\n",
    "여기서,\n",
    "\n",
    "표본평균은 표본에서 추출된 값들의 평균입니다.\n",
    "z분포는 정규분포를 따르는 모집단에서, 모집단의 분산을 알고 있을 때, 표본의 크기와 신뢰 수준에 따라 사용하는 분포입니다.\n",
    "임계값은 신뢰 수준과 자유도에 따라 달라지는 값을 갖습니다.\n",
    "표준편차는 표본의 분산의 제곱근입니다.\n",
    "n은 표본의 크기입니다.\n",
    "반면, t분포에서 신뢰구간을 계산하는 방법은 다음과 같습니다.\n",
    "\n",
    "신뢰구간 = (표본평균 - (t분포의 임계값 * (표준오차<span style=\"background-color:green\">(샘플의 표준편차 이용)</span>)), 표본평균 + (t분포의 임계값 * (표준오차)))\n",
    "\n",
    "여기서,\n",
    "\n",
    "표본평균은 표본에서 추출된 값들의 평균입니다.\n",
    "t분포는 정규분포를 따르는 모집단에서, 모집단의 분산을 모르고 표본의 크기와 신뢰 수준에 따라 사용하는 분포입니다.\n",
    "임계값은 신뢰 수준과 자유도에 따라 달라지는 값을 갖습니다.\n",
    "표준오차는 표본의 표준편차를 이용해 계산됩니다.\n",
    "즉, t분포에서는 모집단의 분산을 알지 못하기 때문에, 표본의 분산을 이용하여 표준편차를 구합니다."
   ]
  },
  {
   "cell_type": "markdown",
   "id": "78560eb3",
   "metadata": {},
   "source": [
    "신뢰구간을 구할 때, 정규분포와 t분포를 적용하는 방법은 다음과 같습니다.\n",
    "\n",
    "- <span style=\"background-color:bluegreen\">모집단의 표준편차를 알고 있는 경우</span><br>\n",
    "만약 모집단의 표준편차를 알고 있다면, 표본의 크기가 작을 경우에는 t분포를 사용하지만, 표본의 크기가 충분히 크다면 정규분포를 사용하여 신뢰구간을 구할 수 있습니다. 이 때, 신뢰수준(confidence level)에 따라서 z값 또는 t값을 계산하여 신뢰구간을 구합니다.\n",
    "\n",
    "-<span style=\"background-color:bluegreen\"> 모집단의 표준편차를 모르는 경우</span><br>\n",
    "만약 모집단의 표준편차를 모르는 경우, 표본의 크기가 작은 경우에는 t분포를 사용하여 신뢰구간을 구합니다. 이 때, 신뢰수준과 자유도(degree of freedom)에 따라서 t값을 계산하여 신뢰구간을 구합니다. 자유도는 표본의 크기에서 1을 뺀 값입니다.\n",
    "\n",
    "예를 들어, 표본의 크기가 10인 경우, t분포를 사용하여 신뢰구간을 계산하고, 표본의 크기가 30 이상인 경우에는 정규분포를 사용하여 신뢰구간을 계산하는 것이 일반적입니다."
   ]
  },
  {
   "cell_type": "code",
   "execution_count": null,
   "id": "1c8280ba",
   "metadata": {},
   "outputs": [],
   "source": [
    "# 모집단의 표준편차를 알고 있는 경우\n",
    "\n",
    "import numpy as np\n",
    "from scipy.stats import norm,t\n",
    "\n",
    "# 표본 데이터 생성\n",
    "data = np.array([49.6, 51.3, 49.9, 50.2, 49.8, 50.5, 49.7, 50.1, 50.3, 50.0])\n",
    "\n",
    "# 표본의 크기\n",
    "n = len(data)\n",
    "\n",
    "# 표본 평균\n",
    "mean = np.mean(data)\n",
    "\n",
    "#모집단의 표준편차\n",
    "pop_std=0.5\n",
    "\n",
    "# 신뢰수준\n",
    "conf_level = 0.95\n",
    "\n",
    "#z값 계산\n",
    "#정규분포에서 어떤 확률값 (누적확률분포)에 해당하는 z-score(표준편차 단위의 값)를 계산\n",
    "z_val=norm.ppf((1+conf_level)/2)\n",
    "\n",
    "# 신뢰구간 계산\n",
    "conf_int =(mean-z_val*pop_std/np.sqrt(n),mean+z_val*pop_std/np.sqrt(n)) \n",
    "#pop_std: 모표준편차\n",
    "\n",
    "# 결과 출력\n",
    "print(\"표본 평균: {:.2f}\".format(mean))\n",
    "print(\"신뢰구간: {:.2f} ~ {:.2f}\".format(conf_int[0], conf_int[1]))"
   ]
  },
  {
   "cell_type": "code",
   "execution_count": null,
   "id": "236f116f",
   "metadata": {},
   "outputs": [],
   "source": [
    "from scipy.stats import norm\n",
    "\n",
    "#정규분포에서 95%의 구간을 구하기 위해 z_score를 계산합니다.\n",
    "\n",
    "z= norm.ppf(0.975)\n",
    "\n",
    "#z-score 출력\n",
    "print(z)"
   ]
  },
  {
   "cell_type": "code",
   "execution_count": null,
   "id": "c024e771",
   "metadata": {},
   "outputs": [],
   "source": [
    "#모집단의 표준편차를 모르는 경우\n",
    "\n",
    "import numpy as np\n",
    "from scipy.stats import t\n",
    "\n",
    "#표본 데이터 생성\n",
    "data = np.array([49.6, 51.3, 49.9, 50.2, 49.8, 50.5, 49.7, 50.1, 50.3, 50.0])\n",
    "\n",
    "#표본의 크기\n",
    "n = len(data)\n",
    "\n",
    "#표본평균 \n",
    "mean = np.mean(data)\n",
    "\n",
    "#표본의 표준편차 \n",
    "std= np.std(data,ddof=1)\n",
    "\n",
    "#신뢰수준 \n",
    "conf_level = 0.95\n",
    "\n",
    "#자유도\n",
    "df = n-1\n",
    "\n",
    "#t값 계산\n",
    "#t- 분포에서 어떤 확률값 (누적 확률분포)에 해당하는 t-score (표준편차 단위의 값)를 계산\n",
    "t_val= t.ppf((1 + conf_level)/2,df)\n",
    "\n",
    "#신뢰구간\n",
    "conf_int=(mean - t_val * std / np.sqrt(n), mean + t_val * std / np.sqrt(n))\n",
    "\n",
    "# 결과 출력\n",
    "print(\"표본 평균: {:.2f}\".format(mean))\n",
    "print(\"표본 표준편차: {:.2f}\".format(std))\n",
    "print(\"신뢰구간: {:.2f} ~ {:.2f}\".format(conf_int[0], conf_int[1]))"
   ]
  },
  {
   "cell_type": "code",
   "execution_count": null,
   "id": "ecd8a196",
   "metadata": {},
   "outputs": [],
   "source": [
    "from scipy.stats import t\n",
    "\n",
    "#t-분포에서 95%의 구간을 구하기 위해 t-score를 계산합니다.\n",
    "t_score = t.ppf(0.975,9)\n",
    "\n",
    "#t-score 출력\n",
    "print(t_score)"
   ]
  },
  {
   "cell_type": "code",
   "execution_count": null,
   "id": "4c7c671a",
   "metadata": {},
   "outputs": [],
   "source": []
  }
 ],
 "metadata": {
  "kernelspec": {
   "display_name": "Python 3 (ipykernel)",
   "language": "python",
   "name": "python3"
  },
  "language_info": {
   "codemirror_mode": {
    "name": "ipython",
    "version": 3
   },
   "file_extension": ".py",
   "mimetype": "text/x-python",
   "name": "python",
   "nbconvert_exporter": "python",
   "pygments_lexer": "ipython3",
   "version": "3.9.13"
  }
 },
 "nbformat": 4,
 "nbformat_minor": 5
}

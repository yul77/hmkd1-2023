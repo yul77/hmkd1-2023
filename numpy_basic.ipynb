{
 "cells": [
  {
   "cell_type": "markdown",
   "id": "7d75cacc",
   "metadata": {},
   "source": [
    "#### NumPy는 “Numerical Python“의 약자로 대규모 다차원 배열과 행렬 연산에 필요한 다양한 함수를 제공\n",
    "* Numerical Python을 의미하는 NumPy는 파이썬에서 선형대수 기반의 프로그램을 쉽게 만들 수 있도록 지원하는 대표적인 패키지\n",
    "* 많은 머신러닝 알고리즘이 넘파이 기반으로 작성돼 있으며 알고리즘의 입출력 데이터를 넘파이 배열 타입으로 사용함\n",
    "* 넘파이의 기본 데이터 타입은 ndarray. ndarray를 이용해 넘파이에서 다차원 배열을 쉽게 생성하고 다양한 연산 수행\n",
    "\n",
    "NumPy 특징\n",
    "\n",
    "- 강력한 N 차원(다차원) 배열 객체\n",
    "- 정교한 브로드케스팅(Broadcast) 기능\n",
    "- C/C ++ 및 포트란 코드 통합 도구\n",
    "- 유용한 선형 대수학, 푸리에 변환 및 난수(랜덤한 수) 기능\n",
    "- 푸리에 변환(Fourier transform, FT)은 시간이나 공간에 대한 함수를 시간 또는 공간 주파수 성분으로 분해하는 변환\n",
    "- 범용적 데이터 처리에 사용 가능한 다차원 컨테이너\n",
    "\n",
    "Numpy Documentation  \n",
    "\n",
    "https://numpy.org/doc/1.21/index.html"
   ]
  },
  {
   "cell_type": "markdown",
   "id": "02f0f305",
   "metadata": {},
   "source": [
    "Numpy는 대용량 데이터 배열을 효율적으로 다룰 수 있도록 설계되었다.\n",
    "- Numpy는 내부적으로 데이터를 다른 내장 파이썬 객체와 구분된 연속된 메모리 블록에 저장\n",
    "- Numpy의 각종 알고리즘은 모두 C로 작성되어 타입 검사나 다른 오버헤드 없이 메모리를 직접 조작\n",
    "- Numpy 배열은 또한 내장 파이썬의 연속된 자료형들보다 훨씬 더 적은 메모리를 사용\n",
    "- Numpy 연산은 파이썬 반복문을 사용하지 않고 전체 배열에 대한 복잡한 계산을 수행"
   ]
  },
  {
   "cell_type": "code",
   "execution_count": 3,
   "id": "ed8af86c",
   "metadata": {},
   "outputs": [
    {
     "name": "stdout",
     "output_type": "stream",
     "text": [
      "Wall time: 24.4 ms\n"
     ]
    }
   ],
   "source": [
    "import numpy as np\n",
    "my_arr=np.arange(1000000) #0~999999까지 \n",
    "my_list=list(range(1000000))\n",
    "\n",
    "%time for _ in range(10): my_array2=my_arr*2\n"
   ]
  },
  {
   "cell_type": "code",
   "execution_count": 4,
   "id": "6da774e7",
   "metadata": {},
   "outputs": [
    {
     "name": "stdout",
     "output_type": "stream",
     "text": [
      "Wall time: 759 ms\n"
     ]
    }
   ],
   "source": [
    "%time for _ in range(10): my_list2=[x*2for x in my_list] #위의 식과 같은건데 소요시간 차이가 큼\n",
    "                                                        # 배열이 더 효과적임."
   ]
  },
  {
   "cell_type": "code",
   "execution_count": 8,
   "id": "cd813ca6",
   "metadata": {},
   "outputs": [
    {
     "name": "stdout",
     "output_type": "stream",
     "text": [
      "[[ 1.76405235  0.40015721  0.97873798]\n",
      " [ 2.2408932   1.86755799 -0.97727788]] \n",
      "\n",
      "[[17.64052346  4.00157208  9.78737984]\n",
      " [22.40893199 18.6755799  -9.7727788 ]] \n",
      "\n",
      "[[ 3.52810469  0.80031442  1.95747597]\n",
      " [ 4.4817864   3.73511598 -1.95455576]]\n"
     ]
    }
   ],
   "source": [
    "#배열 연산\n",
    "np.random.seed(0) #랜덤값 고정\n",
    "data= np.random.randn(2,3)\n",
    "print(data,'\\n')\n",
    "print(data*10,'\\n') #각 값에 전부 10이 곱해짐\n",
    "\n",
    "print(data+data) #각 값끼리 더해짐"
   ]
  },
  {
   "cell_type": "code",
   "execution_count": 12,
   "id": "fce14ec7",
   "metadata": {},
   "outputs": [
    {
     "name": "stdout",
     "output_type": "stream",
     "text": [
      "(2, 3)\n",
      "float64\n",
      "2\n"
     ]
    }
   ],
   "source": [
    "#데이터의 크기 확인\n",
    "\n",
    "print(data.shape) #크기(몇행 몇열인지)\n",
    "print(data.dtype) #자료형\n",
    "print(data.ndim) #차원"
   ]
  },
  {
   "cell_type": "code",
   "execution_count": 14,
   "id": "492bcef4",
   "metadata": {},
   "outputs": [
    {
     "name": "stdout",
     "output_type": "stream",
     "text": [
      "[6 7 5 8 0 1] <class 'numpy.ndarray'>\n"
     ]
    }
   ],
   "source": [
    "#배열생성(array)\n",
    "\n",
    "data1=[6,7,5,8,0,1] #이렇게 리스트가 있을 때 \n",
    "arr1=np.array(data1)\n",
    "print(arr1,type(arr1)) #1차원 배열"
   ]
  },
  {
   "cell_type": "code",
   "execution_count": 19,
   "id": "15f0ab68",
   "metadata": {},
   "outputs": [
    {
     "name": "stdout",
     "output_type": "stream",
     "text": [
      "[[1 2 3 4]\n",
      " [5 6 7 8]] <class 'numpy.ndarray'> \n",
      "\n",
      "(2, 4) \n",
      "\n",
      "2 \n",
      "\n",
      "int32\n"
     ]
    }
   ],
   "source": [
    "#2차원 배열 만들어보기 \n",
    "data2=[[1,2,3,4],[5,6,7,8]]\n",
    "arr2=np.array(data2)\n",
    "print(arr2,type(arr2),'\\n')  #전체의 타입\n",
    "print(arr2.shape,'\\n')\n",
    "print(arr2.ndim,'\\n')\n",
    "print(arr2.dtype) #입력값의 타입 = 정수"
   ]
  },
  {
   "cell_type": "code",
   "execution_count": 21,
   "id": "56a91857",
   "metadata": {},
   "outputs": [
    {
     "name": "stdout",
     "output_type": "stream",
     "text": [
      "[[[ 1  2  3  4  5]\n",
      "  [ 6  7  8  9 10]]\n",
      "\n",
      " [[ 1  2  3  4  5]\n",
      "  [ 6  7  8  9 10]]\n",
      "\n",
      " [[ 1  2  3  4  5]\n",
      "  [ 6  7  8  9 10]]] <class 'numpy.ndarray'> \n",
      "\n",
      "(3, 2, 5) \n",
      "\n",
      "3 \n",
      "\n",
      "int32\n"
     ]
    }
   ],
   "source": [
    "#3차원 배열 만들어보기\n",
    "\n",
    "data3=[[[1,2,3,4,5],[6,7,8,9,10]],\n",
    "       [[1,2,3,4,5],[6,7,8,9,10]],\n",
    "       [[1,2,3,4,5],[6,7,8,9,10]]]\n",
    "arr3=np.array(data3)\n",
    "print(arr3,type(arr3),'\\n')\n",
    "print(arr3.shape,'\\n')\n",
    "print(arr3.ndim,'\\n')\n",
    "print(arr3.dtype)"
   ]
  },
  {
   "cell_type": "markdown",
   "id": "9142693b",
   "metadata": {},
   "source": [
    "배열 생성 및 초기화\n",
    "- Numpy는 원하는 shape로 배열을 설정하고 각 요소를 특정 값으로 초기화하는 zeros, ones, full, eye 함수 제공\n",
    "- 파라미터로 입력한 배열과 같은 shape의 배열을 만드는 zeros_like, ones_like, full_like 함수도 제공"
   ]
  },
  {
   "cell_type": "code",
   "execution_count": 24,
   "id": "fc229e1f",
   "metadata": {},
   "outputs": [
    {
     "name": "stdout",
     "output_type": "stream",
     "text": [
      "[0. 0. 0. 0. 0. 0. 0. 0. 0. 0.]\n",
      "[[0. 0. 0. 0. 0.]\n",
      " [0. 0. 0. 0. 0.]\n",
      " [0. 0. 0. 0. 0.]]\n",
      "[[[0. 0.]\n",
      "  [0. 0.]\n",
      "  [0. 0.]]\n",
      "\n",
      " [[0. 0.]\n",
      "  [0. 0.]\n",
      "  [0. 0.]]]\n"
     ]
    }
   ],
   "source": [
    "print(np.zeros(10)) #원소를 10개로 하는 배열을 만들어준다\n",
    "print(np.zeros((3,5))) #2차원도 가능. 이때 가로도 추가됨\n",
    "print(np.zeros((2,3,2))) #3행 2열짜리 2개. 바깥 대괄호가 3차원임을 표시함 "
   ]
  },
  {
   "cell_type": "code",
   "execution_count": 26,
   "id": "d7ae6a3b",
   "metadata": {},
   "outputs": [
    {
     "name": "stdout",
     "output_type": "stream",
     "text": [
      "[1. 1. 1. 1. 1. 1. 1. 1. 1. 1.] \n",
      "\n",
      "[[1. 1. 1. 1. 1.]\n",
      " [1. 1. 1. 1. 1.]\n",
      " [1. 1. 1. 1. 1.]] \n",
      "\n",
      "[[[1. 1.]\n",
      "  [1. 1.]\n",
      "  [1. 1.]]\n",
      "\n",
      " [[1. 1.]\n",
      "  [1. 1.]\n",
      "  [1. 1.]]]\n"
     ]
    }
   ],
   "source": [
    "print(np.ones(10),'\\n') #위와 같으나 0대신 1이 들어간다\n",
    "print(np.ones((3,5)),'\\n') \n",
    "print(np.ones((2,3,2)))"
   ]
  },
  {
   "cell_type": "code",
   "execution_count": null,
   "id": "8614ea5b",
   "metadata": {},
   "outputs": [],
   "source": [
    "#[과제] zeros_like, ones_like, full_like 함수 사용 예를 작성하세요."
   ]
  },
  {
   "cell_type": "code",
   "execution_count": 2,
   "id": "94a4640d",
   "metadata": {},
   "outputs": [
    {
     "name": "stdout",
     "output_type": "stream",
     "text": [
      "[[0 1 2 3 4]\n",
      " [5 6 7 8 9]]\n",
      "[[0 0 0 0 0]\n",
      " [0 0 0 0 0]] \n",
      "\n",
      "[[1 1 1 1 1]\n",
      " [1 1 1 1 1]] \n",
      "\n",
      "[[2 2 2 2 2]\n",
      " [2 2 2 2 2]]\n"
     ]
    }
   ],
   "source": [
    "import numpy as np\n",
    "a=np.arange(10).reshape(2,5)\n",
    "print(a)\n",
    "\n",
    "print(np.zeros_like(a),'\\n')\n",
    "print(np.ones_like(a),'\\n')\n",
    "print(np.full_like(a,2)) #full은 임의의 어떤 수를 넣어줘야함"
   ]
  },
  {
   "cell_type": "code",
   "execution_count": 56,
   "id": "01b75b90",
   "metadata": {},
   "outputs": [
    {
     "data": {
      "text/plain": [
       "array([ 0,  1,  2,  3,  4,  5,  6,  7,  8,  9, 10, 11, 12, 13, 14])"
      ]
     },
     "execution_count": 56,
     "metadata": {},
     "output_type": "execute_result"
    }
   ],
   "source": [
    "#arange 함수: 파이썬의 range함수의 배열버전\n",
    "ar=np.arange(15)\n",
    "ar"
   ]
  },
  {
   "cell_type": "code",
   "execution_count": 57,
   "id": "dfc535ab",
   "metadata": {},
   "outputs": [
    {
     "data": {
      "text/plain": [
       "array([[ 0,  1,  2,  3,  4],\n",
       "       [ 5,  6,  7,  8,  9],\n",
       "       [10, 11, 12, 13, 14]])"
      ]
     },
     "execution_count": 57,
     "metadata": {},
     "output_type": "execute_result"
    }
   ],
   "source": [
    "#reshape 함수 (shape 을 다시 만든다)\n",
    "ar.reshape(3,5) #원래 어레인지가 15개라 그 갯수를 맞춰줘야 한다. \n",
    "#ar.reshape(1,15)=2차원"
   ]
  },
  {
   "cell_type": "code",
   "execution_count": 63,
   "id": "781c45c9",
   "metadata": {},
   "outputs": [
    {
     "data": {
      "text/plain": [
       "array([[0, 1, 2, 3, 4],\n",
       "       [5, 6, 7, 8, 9]])"
      ]
     },
     "execution_count": 63,
     "metadata": {},
     "output_type": "execute_result"
    }
   ],
   "source": [
    "#Q.array1에 reshape 함수를 이용 (5,2) 배열을 생성하고 형태를 같이 출력하세요.\n",
    "\n",
    "array1=np.arange(10)\n",
    "array1.reshape(2,5)"
   ]
  },
  {
   "cell_type": "code",
   "execution_count": 64,
   "id": "0d5a758d",
   "metadata": {},
   "outputs": [],
   "source": [
    "#Q.ar에 reshape()함수 이용. 1차원,2차원,3차원 배열 생성"
   ]
  },
  {
   "cell_type": "code",
   "execution_count": 75,
   "id": "5368e7e8",
   "metadata": {},
   "outputs": [
    {
     "data": {
      "text/plain": [
       "array([[0, 1, 2, 3, 4],\n",
       "       [5, 6, 7, 8, 9]])"
      ]
     },
     "execution_count": 75,
     "metadata": {},
     "output_type": "execute_result"
    }
   ],
   "source": [
    "ar=np.arange(10)\n",
    "ar\n",
    "\n",
    "ar.reshape(2,5)"
   ]
  },
  {
   "cell_type": "code",
   "execution_count": 70,
   "id": "46560655",
   "metadata": {},
   "outputs": [
    {
     "data": {
      "text/plain": [
       "array([[0, 1, 2, 3, 4],\n",
       "       [5, 6, 7, 8, 9]])"
      ]
     },
     "execution_count": 70,
     "metadata": {},
     "output_type": "execute_result"
    }
   ],
   "source": [
    "ar.reshape(2,5)"
   ]
  },
  {
   "cell_type": "code",
   "execution_count": 74,
   "id": "93fb74ef",
   "metadata": {},
   "outputs": [
    {
     "data": {
      "text/plain": [
       "array([[[0],\n",
       "        [1],\n",
       "        [2],\n",
       "        [3],\n",
       "        [4]],\n",
       "\n",
       "       [[5],\n",
       "        [6],\n",
       "        [7],\n",
       "        [8],\n",
       "        [9]]])"
      ]
     },
     "execution_count": 74,
     "metadata": {},
     "output_type": "execute_result"
    }
   ],
   "source": [
    "ar.reshape(2,5,1)"
   ]
  },
  {
   "cell_type": "code",
   "execution_count": null,
   "id": "e7040df4",
   "metadata": {},
   "outputs": [],
   "source": [
    "ar = np.arange(12)\n",
    "print(ar.reshape(12), '\\n')\n",
    "print(ar.reshape(3,4), '\\n')\n",
    "print(ar.reshape(2,3,2))"
   ]
  },
  {
   "cell_type": "code",
   "execution_count": 108,
   "id": "ab4c8e9f",
   "metadata": {},
   "outputs": [
    {
     "name": "stdout",
     "output_type": "stream",
     "text": [
      "1->2,3차원\n",
      "[[[ 0  1  2  3  4]\n",
      "  [ 5  6  7  8  9]]\n",
      "\n",
      " [[10 11 12 13 14]\n",
      "  [15 16 17 18 19]]\n",
      "\n",
      " [[20 21 22 23 24]\n",
      "  [25 26 27 28 29]]]\n"
     ]
    }
   ],
   "source": [
    "#차원변경\n",
    "ar1=np.arange(30) #0부터 29까지의 수로 이루어진 1차원\n",
    "print('1->2,3차원')\n",
    "\n",
    "ar12=ar1.reshape(2,-1)\n",
    "#ar1을 2행 n열의 2차원 배열로 변환\n",
    "#두 번째 인수를 -1로 지정,\n",
    "#ar1의 원소 개수인 30개를 2행으로 나누면 15가 되므로, ar12는 2행 15열의 2차원 배열이 됨\n",
    "\n",
    "ar13=ar1.reshape(-1,2,5)\n",
    "#ar1을 3차원 배열로 변환\n",
    "#첫 번째 인수를 -1로 지정.  ar1의 원소 개수인 30개를 2x5로 나누면 3이 되므로, \n",
    "#ar13는 3개의 2행 5열의 2차원 배열이 3개 필요하므로 3차원으로 결정\n",
    "\n",
    "print(ar13)"
   ]
  },
  {
   "cell_type": "code",
   "execution_count": 80,
   "id": "9b6d16e0",
   "metadata": {},
   "outputs": [
    {
     "name": "stdout",
     "output_type": "stream",
     "text": [
      "2차원->1,3차원\n",
      "[[ 0  1  2  3  4  5  6  7  8  9 10 11 12 13 14]\n",
      " [15 16 17 18 19 20 21 22 23 24 25 26 27 28 29]] \n",
      "\n",
      "[ 0  1  2  3  4  5  6  7  8  9 10 11 12 13 14 15 16 17 18 19 20 21 22 23\n",
      " 24 25 26 27 28 29] \n",
      "\n",
      "[[[ 0  1  2  3  4]\n",
      "  [ 5  6  7  8  9]]\n",
      "\n",
      " [[10 11 12 13 14]\n",
      "  [15 16 17 18 19]]\n",
      "\n",
      " [[20 21 22 23 24]\n",
      "  [25 26 27 28 29]]]\n"
     ]
    }
   ],
   "source": [
    "print('2차원->1,3차원')\n",
    "\n",
    "print(ar12,'\\n')\n",
    "ar21=ar12.reshape(-1,) #1차원일 땐 이렇게만 해줘도 됨.\n",
    "ar23=ar12.reshape(-1,2,5) #-1(자동설정값만큼의)2행 5열로 알아서 처리해줌\n",
    "print(ar21,'\\n')\n",
    "print(ar23)"
   ]
  },
  {
   "cell_type": "code",
   "execution_count": null,
   "id": "f612bb3b",
   "metadata": {},
   "outputs": [],
   "source": [
    "#차원의 개수는 배열(array)을 구성하는 블록(block)의 개수로 결정됩니다\n",
    "# (3, 2, 5) 형태의 배열은 3개의 2차원 배열을 요소로 가지는 3차원 배열이며, \n",
    "#(3, 10) 형태의 배열은 3개의 1차원 배열을 요소로 가지는 2차원 배열입니다. \n",
    "#이때, 배열의 shape에 따라 블록의 수가 결정되며, dtype은 각 요소(block)의 데이터 타입을 결정합니다."
   ]
  },
  {
   "cell_type": "code",
   "execution_count": 81,
   "id": "ce2e35db",
   "metadata": {},
   "outputs": [
    {
     "name": "stdout",
     "output_type": "stream",
     "text": [
      "3차원->1,2차원\n",
      "[ 0  1  2  3  4  5  6  7  8  9 10 11 12 13 14 15 16 17 18 19 20 21 22 23\n",
      " 24 25 26 27 28 29] \n",
      "\n",
      "[[ 0  1  2  3  4  5  6  7  8  9]\n",
      " [10 11 12 13 14 15 16 17 18 19]\n",
      " [20 21 22 23 24 25 26 27 28 29]]\n"
     ]
    }
   ],
   "source": [
    "print('3차원->1,2차원')\n",
    "\n",
    "ar31=ar13.reshape(-1,)\n",
    "ar32=ar13.reshape(3,-1) #행을 3으로 하고 알아서 해\n",
    "print(ar31,'\\n')\n",
    "print(ar32)"
   ]
  },
  {
   "cell_type": "code",
   "execution_count": 84,
   "id": "440799a4",
   "metadata": {},
   "outputs": [
    {
     "name": "stdout",
     "output_type": "stream",
     "text": [
      "[[[ 0  1  2  3  4]\n",
      "  [ 5  6  7  8  9]]\n",
      "\n",
      " [[10 11 12 13 14]\n",
      "  [15 16 17 18 19]]\n",
      "\n",
      " [[20 21 22 23 24]\n",
      "  [25 26 27 28 29]]] <class 'numpy.ndarray'>\n",
      "[[[0, 1, 2, 3, 4], [5, 6, 7, 8, 9]], [[10, 11, 12, 13, 14], [15, 16, 17, 18, 19]], [[20, 21, 22, 23, 24], [25, 26, 27, 28, 29]]] <class 'list'>\n"
     ]
    }
   ],
   "source": [
    "ar3=np.arange(30).reshape(3,2,5)\n",
    "print(ar3,type(ar3))\n",
    "#리스트로 바꿀 때\n",
    "l3=ar3.tolist()\n",
    "print(l3,type(l3))\n",
    "#리스트를 다시 바꿀 땐 array 쓰면 됨"
   ]
  },
  {
   "cell_type": "markdown",
   "id": "1f5aa1e1",
   "metadata": {},
   "source": [
    "행렬의 종류\n",
    "\n",
    "https://math-development-geometry.tistory.com/52\n",
    "\n",
    "- 정방행렬은 행과 열의 수가 같은 행렬\n",
    "- 대각행렬은 주대각선 원소를 제외한 모든 원소들이 0인 정방행렬\n",
    "- 삼각행렬은 주대각선 원소를 기준으로 위 또는 아래에 있는 성분이 모두 0인 정방행렬\n",
    "  - 상삼각행(upper): 아래성분이 모두 0\n",
    "  - 하삼각행렬(lower): 위의 성분이 모두 0\n",
    "- 항등행렬은 행렬 곱셈 연산에 항등원으로 작용하는 행렬(주 대각선이 다 1.나머지 0)\n",
    "  - 항등행렬에 다른 행렬을 곱사면 결과는 곱한 행렬이 그대로 나온다=단위행렬\n",
    "- 영행렬은 모든 원소가 0인 행렬로 곱셈 연산에서 영원으로 작용하는 행렬\n",
    "- 전치행렬은 주대각선 원소를 기준으로 행과 열을 바꿔주는 행렬\n",
    "- 직교행렬은 행렬 A의 역행렬이 A의 전치행렬이고 A의 전치행렬과 A 행렬을 곱하였을때 항등행렬이 나오는 행렬"
   ]
  },
  {
   "cell_type": "code",
   "execution_count": 86,
   "id": "a2ed8e25",
   "metadata": {},
   "outputs": [
    {
     "data": {
      "text/plain": [
       "array([[7, 7],\n",
       "       [7, 7]])"
      ]
     },
     "execution_count": 86,
     "metadata": {},
     "output_type": "execute_result"
    }
   ],
   "source": [
    "# 정방행렬\n",
    "+\n",
    "a=np.full((2,2),7) #행과 열의 수가 같아야 한다. full=특정 함수로 채워야 함 ex)7\n",
    "a"
   ]
  },
  {
   "cell_type": "code",
   "execution_count": 88,
   "id": "71fba8c9",
   "metadata": {},
   "outputs": [
    {
     "data": {
      "text/plain": [
       "array([[1., 0., 0.],\n",
       "       [0., 1., 0.],\n",
       "       [0., 0., 1.]])"
      ]
     },
     "execution_count": 88,
     "metadata": {},
     "output_type": "execute_result"
    }
   ],
   "source": [
    "#항등행렬, 단위 행렬\n",
    "\n",
    "ar=np.eye(3) #3은 대각선의 갯수.\n",
    "ar\n"
   ]
  },
  {
   "cell_type": "code",
   "execution_count": 89,
   "id": "d7eab385",
   "metadata": {},
   "outputs": [
    {
     "data": {
      "text/plain": [
       "array([[1, 0, 0, 0, 0],\n",
       "       [0, 2, 0, 0, 0],\n",
       "       [0, 0, 3, 0, 0],\n",
       "       [0, 0, 0, 4, 0],\n",
       "       [0, 0, 0, 0, 5]])"
      ]
     },
     "execution_count": 89,
     "metadata": {},
     "output_type": "execute_result"
    }
   ],
   "source": [
    "#대각행렬\n",
    "\n",
    "diag_mat=np.diag([1,2,3,4,5])\n",
    "diag_mat\n",
    "\n",
    "#diag: 대각행렬을 생성하는 함수"
   ]
  },
  {
   "cell_type": "code",
   "execution_count": 90,
   "id": "261962cc",
   "metadata": {},
   "outputs": [
    {
     "name": "stdout",
     "output_type": "stream",
     "text": [
      "[[1 2 3]\n",
      " [0 5 6]\n",
      " [0 0 9]]\n"
     ]
    }
   ],
   "source": [
    "#삼각행렬\n",
    "#upper = 아랫쪽이 다 0\n",
    "upper_tri_mat=np.triu([[1,2,3],[4,5,6],[7,8,9]]) #대괄호 2번 들어감\n",
    "print(upper_tri_mat)\n",
    "\n",
    "#triu= 상삼각 행렬을 생성하는 코드 "
   ]
  },
  {
   "cell_type": "markdown",
   "id": "70ee3b2d",
   "metadata": {},
   "source": [
    "##### [과제] 하 삼각행렬을 생성하세요"
   ]
  },
  {
   "cell_type": "code",
   "execution_count": 106,
   "id": "4c7b1927",
   "metadata": {},
   "outputs": [
    {
     "name": "stdout",
     "output_type": "stream",
     "text": [
      "[[1 0 0]\n",
      " [4 5 0]\n",
      " [7 8 9]]\n"
     ]
    }
   ],
   "source": [
    "lower_tri_mat=np.tril([[1,2,3],[4,5,6],[7,8,9]]) \n",
    "print(lower_tri_mat)\n",
    "\n",
    "#tril= 하삼각 행렬을 생성하는 코드"
   ]
  },
  {
   "cell_type": "code",
   "execution_count": 113,
   "id": "4e58ca6b",
   "metadata": {
    "scrolled": true
   },
   "outputs": [
    {
     "name": "stdout",
     "output_type": "stream",
     "text": [
      "[[1 2]\n",
      " [3 4]\n",
      " [5 6]] \n",
      "\n",
      "[[1 3 5]\n",
      " [2 4 6]]\n"
     ]
    }
   ],
   "source": [
    "#전치행렬: 원래의 행과 열을 바꿈.\n",
    "\n",
    "mat=np.array([[1,2],[3,4],[5,6]])\n",
    "print(mat,'\\n') #= 3행 2열\n",
    "\n",
    "transpose_mat=mat.T\n",
    "print(transpose_mat) #2행 3열"
   ]
  },
  {
   "cell_type": "markdown",
   "id": "8eea5a07",
   "metadata": {},
   "source": [
    "#### 직교 행렬 \n",
    "- 행과 열이 서로 직교하는 정방행렬\n",
    "- 모든 열 백터와 행 백터가 서로 직교하고, 크기가 1인 단위백터로 이루어짐\n",
    "- np.linalg.qr()함수를 사용하여 QR분해 수행하여 직교 행렬을 추출\n",
    "- q를 추출하여 직교행렬을 만든다.\n",
    "- np.dot(행렬곱: orth_mat,orth_mat.T)를 계산하여 직교성을 검증\n",
    "- np.allcolse() 함수로 두 행렬이 동일한지 검사. True를 반환하면 두 행렬은 동일"
   ]
  },
  {
   "cell_type": "code",
   "execution_count": 118,
   "id": "4b026383",
   "metadata": {},
   "outputs": [
    {
     "name": "stdout",
     "output_type": "stream",
     "text": [
      "[[-1.70627019  1.9507754  -0.50965218]\n",
      " [-0.4380743  -1.25279536  0.77749036]\n",
      " [-1.61389785 -0.21274028 -0.89546656]] \n",
      "\n",
      "[[-0.71418111  0.58409529 -0.38571756]\n",
      " [-0.18336158 -0.68793021 -0.70223255]\n",
      " [-0.67551749 -0.43079544  0.59840739]]\n",
      "True\n"
     ]
    }
   ],
   "source": [
    "#직교 행렬 : 행과 열이 서로 직교하는 정방행렬\n",
    "#모든 열 백터와 행 백터가 서로 직교하고, 크기가 1인 단위백터\n",
    "#A의 전치행렬과 A행렬을 곱하였을 때 항등행렬이 나오는 행렬\n",
    "\n",
    "mat=np.random.randn(3,3)\n",
    "\n",
    "print(mat,'\\n')\n",
    "\n",
    "#서로 직교되는걸 분해(qr)\n",
    "\n",
    "q,r=np.linalg.qr(mat)\n",
    "\n",
    "#직교행렬 추출\n",
    "orth_mat=q\n",
    "print(orth_mat)\n",
    "\n",
    "#직교성 검증\n",
    "print(np.allclose(np.dot(orth_mat,orth_mat.T),np.eye(3)))\n",
    "\n",
    "#np.dot(행렬곱)=(orth_mat :직교행렬) x (orth_mat.T: 전치행렬)\n",
    "#npdot = np.eye(3) 이면 항등행렬\n",
    "\n",
    "#print(q)\n",
    "#print(r)\n"
   ]
  },
  {
   "cell_type": "code",
   "execution_count": 119,
   "id": "06c3082d",
   "metadata": {},
   "outputs": [
    {
     "data": {
      "text/plain": [
       "array([[1, 2, 3],\n",
       "       [4, 5, 6],\n",
       "       [7, 8, 9]])"
      ]
     },
     "execution_count": 119,
     "metadata": {},
     "output_type": "execute_result"
    }
   ],
   "source": [
    "#인덱싱, 슬라이싱\n",
    "ar2=np.arange(1,10).reshape(3,3)\n",
    "ar2"
   ]
  },
  {
   "cell_type": "code",
   "execution_count": 126,
   "id": "724bc3b4",
   "metadata": {},
   "outputs": [
    {
     "name": "stdout",
     "output_type": "stream",
     "text": [
      "[7 8 9]\n",
      "3\n",
      "3\n"
     ]
    }
   ],
   "source": [
    "print(ar2[2])\n",
    "print(ar2[0][2])\n",
    "print(ar2[0,2])"
   ]
  },
  {
   "cell_type": "code",
   "execution_count": 127,
   "id": "7733d383",
   "metadata": {},
   "outputs": [
    {
     "data": {
      "text/plain": [
       "array([[ 0,  1,  2,  3],\n",
       "       [ 4,  5,  6,  7],\n",
       "       [ 8,  9, 10, 11],\n",
       "       [12, 13, 14, 15],\n",
       "       [16, 17, 18, 19]])"
      ]
     },
     "execution_count": 127,
     "metadata": {},
     "output_type": "execute_result"
    }
   ],
   "source": [
    "ar=np.arange(20).reshape(5,4)\n",
    "ar"
   ]
  },
  {
   "cell_type": "code",
   "execution_count": 128,
   "id": "a21e032a",
   "metadata": {},
   "outputs": [
    {
     "data": {
      "text/plain": [
       "array([[1, 2, 3],\n",
       "       [5, 6, 7]])"
      ]
     },
     "execution_count": 128,
     "metadata": {},
     "output_type": "execute_result"
    }
   ],
   "source": [
    "ar[:2,1:]"
   ]
  },
  {
   "cell_type": "code",
   "execution_count": 130,
   "id": "e8067f6e",
   "metadata": {},
   "outputs": [
    {
     "data": {
      "text/plain": [
       "array([[1, 2, 3],\n",
       "       [4, 5, 6],\n",
       "       [7, 8, 9]])"
      ]
     },
     "execution_count": 130,
     "metadata": {},
     "output_type": "execute_result"
    }
   ],
   "source": [
    "#Q.ar에서 슬라이싱을 사용해서 아래와 같이 출력하세요. \n",
    "ar=np.arange(1,10).reshape(3,3)\n",
    "ar"
   ]
  },
  {
   "cell_type": "code",
   "execution_count": 143,
   "id": "a2cc36fb",
   "metadata": {},
   "outputs": [
    {
     "name": "stdout",
     "output_type": "stream",
     "text": [
      "[[1 2]\n",
      " [4 5]]\n",
      "[[4 5 6]\n",
      " [7 8 9]]\n",
      "[[1 2 3]\n",
      " [4 5 6]\n",
      " [7 8 9]]\n",
      "[1 4]\n"
     ]
    }
   ],
   "source": [
    "print(ar[:2,:2])\n",
    "print(ar[1:])\n",
    "print(ar[:])\n",
    "\n",
    "print(ar[:2,0])\n",
    "\n"
   ]
  },
  {
   "cell_type": "code",
   "execution_count": 154,
   "id": "f2b7a5b0",
   "metadata": {},
   "outputs": [
    {
     "name": "stdout",
     "output_type": "stream",
     "text": [
      "[[1 2]\n",
      " [4 5]] \n",
      "\n",
      "[[4 5 6]\n",
      " [7 8 9]] \n",
      "\n",
      "[[4 5 6]\n",
      " [7 8 9]]\n",
      "[[1 2 3]\n",
      " [4 5 6]\n",
      " [7 8 9]]\n",
      "[[2 3]\n",
      " [5 6]] \n",
      "\n",
      "[1 4]\n"
     ]
    }
   ],
   "source": [
    "ar[:2,:2]\n",
    "ar[1:]\n",
    "ar[:]\n",
    "ar[0:2,1:]\n",
    "ar[0:2,:1]\n",
    "\n",
    "print(ar[:2,:2],'\\n')\n",
    "print(ar[1:],'\\n')\n",
    "print(ar[1:,:])\n",
    "print(ar[:])\n",
    "print(ar[:2,1:],'\\n')\n",
    "print(ar[:2,0])"
   ]
  },
  {
   "cell_type": "code",
   "execution_count": 145,
   "id": "921e5b48",
   "metadata": {},
   "outputs": [],
   "source": [
    "#[과제]ar에서 인덱스를 이용해서 값을 선택하고 리스트로 아래와 같이 출력하세요."
   ]
  },
  {
   "cell_type": "code",
   "execution_count": 4,
   "id": "a5f943e0",
   "metadata": {},
   "outputs": [
    {
     "data": {
      "text/plain": [
       "array([[1, 2, 3],\n",
       "       [4, 5, 6],\n",
       "       [7, 8, 9]])"
      ]
     },
     "execution_count": 4,
     "metadata": {},
     "output_type": "execute_result"
    }
   ],
   "source": [
    "ar=np.arange(1,10).reshape(3,3)\n",
    "ar\n"
   ]
  },
  {
   "cell_type": "code",
   "execution_count": null,
   "id": "2ffc4d2e",
   "metadata": {},
   "outputs": [],
   "source": [
    "[3,6]\n",
    "[[1,2],[4,5]]\n",
    "[[1,2,3],[4,5,6]]"
   ]
  },
  {
   "cell_type": "code",
   "execution_count": 6,
   "id": "e5b52244",
   "metadata": {
    "scrolled": true
   },
   "outputs": [
    {
     "name": "stdout",
     "output_type": "stream",
     "text": [
      "[3, 6]\n",
      "[[1, 2], [4, 5]]\n",
      "[[1, 2, 3], [4, 5, 6]]\n"
     ]
    }
   ],
   "source": [
    "#박주경\n",
    "ar = np.arange(1,10).reshape(3,3)\n",
    "\n",
    "print(list(ar[:2, 2]))\n",
    "print(ar[:2, :2].tolist())\n",
    "print(ar[:2].tolist())"
   ]
  },
  {
   "cell_type": "code",
   "execution_count": null,
   "id": "529b2d91",
   "metadata": {},
   "outputs": [],
   "source": []
  },
  {
   "cell_type": "code",
   "execution_count": 146,
   "id": "7df34469",
   "metadata": {},
   "outputs": [
    {
     "data": {
      "text/plain": [
       "array([1, 2, 3, 4, 5, 6, 7, 8, 9])"
      ]
     },
     "execution_count": 146,
     "metadata": {},
     "output_type": "execute_result"
    }
   ],
   "source": [
    "#Boolean indexing\n",
    "ar=np.arange(1,10)\n",
    "ar"
   ]
  },
  {
   "cell_type": "code",
   "execution_count": 147,
   "id": "fd94fb80",
   "metadata": {},
   "outputs": [
    {
     "data": {
      "text/plain": [
       "array([6, 7, 8, 9])"
      ]
     },
     "execution_count": 147,
     "metadata": {},
     "output_type": "execute_result"
    }
   ],
   "source": [
    "ar[ar>5]"
   ]
  },
  {
   "cell_type": "code",
   "execution_count": 148,
   "id": "03474364",
   "metadata": {},
   "outputs": [],
   "source": [
    "#Q. 1~14 까지 ndarray를 만들어 array_e로 저장하고 (array_e/2)>5 를 만족하는 값을 불린 인덱스로 출력"
   ]
  },
  {
   "cell_type": "code",
   "execution_count": 151,
   "id": "b6ec5293",
   "metadata": {},
   "outputs": [
    {
     "data": {
      "text/plain": [
       "array([11, 12, 13, 14])"
      ]
     },
     "execution_count": 151,
     "metadata": {},
     "output_type": "execute_result"
    }
   ],
   "source": [
    "ar=np.arange(1,15)\n",
    "ar\n",
    "\n",
    "ar[ar/2 > 5]"
   ]
  },
  {
   "cell_type": "code",
   "execution_count": 181,
   "id": "cf8e3a56",
   "metadata": {},
   "outputs": [
    {
     "data": {
      "text/plain": [
       "array([0.5488135 , 0.71518937, 0.60276338, 0.54488318, 0.4236548 ,\n",
       "       0.64589411, 0.43758721, 0.891773  , 0.96366276, 0.38344152,\n",
       "       0.79172504, 0.52889492, 0.56804456, 0.92559664, 0.07103606,\n",
       "       0.0871293 , 0.0202184 , 0.83261985, 0.77815675, 0.87001215,\n",
       "       0.97861834, 0.79915856, 0.46147936, 0.78052918, 0.11827443,\n",
       "       0.63992102, 0.14335329, 0.94466892, 0.52184832, 0.41466194])"
      ]
     },
     "execution_count": 181,
     "metadata": {},
     "output_type": "execute_result"
    }
   ],
   "source": [
    "#arr에서 0.5보다 큰 수를 출력하세요\n",
    "np.random.seed(0)\n",
    "arr=np.random.rand(30)\n",
    "arr"
   ]
  },
  {
   "cell_type": "code",
   "execution_count": 182,
   "id": "db20a867",
   "metadata": {},
   "outputs": [
    {
     "data": {
      "text/plain": [
       "array([0.5488135 , 0.71518937, 0.60276338, 0.54488318, 0.64589411,\n",
       "       0.891773  , 0.96366276, 0.79172504, 0.52889492, 0.56804456,\n",
       "       0.92559664, 0.83261985, 0.77815675, 0.87001215, 0.97861834,\n",
       "       0.79915856, 0.78052918, 0.63992102, 0.94466892, 0.52184832])"
      ]
     },
     "execution_count": 182,
     "metadata": {},
     "output_type": "execute_result"
    }
   ],
   "source": [
    "arr[arr>0.5]"
   ]
  },
  {
   "cell_type": "code",
   "execution_count": 192,
   "id": "fe5c5266",
   "metadata": {},
   "outputs": [],
   "source": [
    "#data에서 3의 배수인 수만 출력하세요\n",
    "np.random.seed(0)\n",
    "data=np.arange(30)\n"
   ]
  },
  {
   "cell_type": "code",
   "execution_count": 193,
   "id": "f67b4beb",
   "metadata": {},
   "outputs": [
    {
     "data": {
      "text/plain": [
       "array([ 0,  3,  6,  9, 12, 15, 18, 21, 24, 27])"
      ]
     },
     "execution_count": 193,
     "metadata": {},
     "output_type": "execute_result"
    }
   ],
   "source": [
    "data[data%3==0]"
   ]
  },
  {
   "cell_type": "markdown",
   "id": "84c2d5d0",
   "metadata": {},
   "source": [
    "##### [과제][1,2,0,0,4,0]에서 zero가 아닌 인덱스를 배열형태로 출력하세요"
   ]
  },
  {
   "cell_type": "markdown",
   "id": "4b3a6195",
   "metadata": {},
   "source": [
    "np.where(condition)은 \n",
    "- condition 배열의 요소가 True인 인덱스를 반환하는 함수입니다. \n",
    "- condition 배열은 bool 타입이어야 하며, 반환값은 tuple 타입으로 (array of row indices, array of column indices)의 형태로 반환"
   ]
  },
  {
   "cell_type": "code",
   "execution_count": 27,
   "id": "10f59c18",
   "metadata": {},
   "outputs": [
    {
     "data": {
      "text/plain": [
       "array([[1, 2, 3],\n",
       "       [4, 5, 6],\n",
       "       [7, 8, 9]])"
      ]
     },
     "execution_count": 27,
     "metadata": {},
     "output_type": "execute_result"
    }
   ],
   "source": [
    "arr=np.array([[1,2,3],[4,5,6],[7,8,9]])\n",
    "arr"
   ]
  },
  {
   "cell_type": "code",
   "execution_count": 28,
   "id": "8aa9eb30",
   "metadata": {},
   "outputs": [
    {
     "data": {
      "text/plain": [
       "(array([1, 2, 2, 2], dtype=int64), array([2, 0, 1, 2], dtype=int64))"
      ]
     },
     "execution_count": 28,
     "metadata": {},
     "output_type": "execute_result"
    }
   ],
   "source": [
    "array=np.where(arr>5)\n",
    "array #인덱스넘버가 나온다. 1행 2열. 2행 0열, \n",
    "#5보다 큰 인덱스값이 나온다.=튜플반환. 1행의 2열, 2행의 0,1,2열 "
   ]
  },
  {
   "cell_type": "code",
   "execution_count": null,
   "id": "ba8a3557",
   "metadata": {},
   "outputs": [],
   "source": [
    "array=np[0]"
   ]
  },
  {
   "cell_type": "code",
   "execution_count": 10,
   "id": "179c1e52",
   "metadata": {},
   "outputs": [
    {
     "data": {
      "text/plain": [
       "(array([0, 1, 4], dtype=int64),)"
      ]
     },
     "execution_count": 10,
     "metadata": {},
     "output_type": "execute_result"
    }
   ],
   "source": [
    "a=np.array([1,2,0,0,4,0])\n",
    "nz=np.nonzero(a) #0이 아닌 인덱스를 뽑아낸다. 0번 인덱스(1) 1번 인덱스(2) 4번 인덱스(4)\n",
    "nz\n",
    "#0이 아닌 '값'이 아닌 0이 아닌 '인덱스'를 뽑아내라는 문제\n",
    "#0이 아닌 값이었으면 1,2,4"
   ]
  },
  {
   "cell_type": "markdown",
   "id": "893912ca",
   "metadata": {},
   "source": [
    "np.nonzero(a) 함수는 배열 a의 0이 아닌 요소의 인덱스를 반환합니다. 반환값은 인덱스를 담은 튜플 형태로 반환되는데, 이때 0이 아닌 요소의 인덱스는 각 차원별로 배열로 묶여서 반환됩니다.\n",
    "\n",
    "따라서 a=np.array([1,2,0,0,4,0]) 배열에서 0이 아닌 요소의 인덱스는 0, 1, 4입니다. 이들은 1차원 배열 상에서 각각 0번, 1번, 4번 인덱스에 해당하므로 (array([0, 1, 4], dtype=int64),)와 같은 결과가 반환됩니다.\n",
    "\n",
    "만약 반환값으로부터 인덱스 배열을 추출하고 싶다면, nz[0]과 같이 첫 번째 요소를 인덱싱하면 됩니다. 즉, nz[0]은 array([0, 1, 4], dtype=int64)를 반환합니다."
   ]
  },
  {
   "cell_type": "code",
   "execution_count": null,
   "id": "fbe2028f",
   "metadata": {},
   "outputs": [],
   "source": [
    "np.where(a!=0,1,0)"
   ]
  },
  {
   "cell_type": "code",
   "execution_count": 8,
   "id": "ffd5ae0e",
   "metadata": {},
   "outputs": [
    {
     "name": "stdout",
     "output_type": "stream",
     "text": [
      "(array([0, 1, 4], dtype=int64),)\n",
      "[0 1 4]\n"
     ]
    }
   ],
   "source": [
    "#김나영\n",
    "#과제: 0이 아닌 값 인덱스를 배열형태로 출력\n",
    "a=np.array([1,2,0,0,4,0])\n",
    "\n",
    "index=np.where(a!=0)     #조건을 만족하는 인덱스를 반환\n",
    "print(index)\n",
    "print(index[0])           #[0]에 인덱스 값, [1]에 타입값"
   ]
  },
  {
   "cell_type": "code",
   "execution_count": 195,
   "id": "28e40136",
   "metadata": {},
   "outputs": [
    {
     "data": {
      "text/plain": [
       "array([False, False,  True,  True])"
      ]
     },
     "execution_count": 195,
     "metadata": {},
     "output_type": "execute_result"
    }
   ],
   "source": [
    "bools=np.array([False,False,True,True])\n",
    "bools"
   ]
  },
  {
   "cell_type": "code",
   "execution_count": 197,
   "id": "ae0b20d9",
   "metadata": {},
   "outputs": [
    {
     "data": {
      "text/plain": [
       "True"
      ]
     },
     "execution_count": 197,
     "metadata": {},
     "output_type": "execute_result"
    }
   ],
   "source": [
    "#any 메서드: 하나 이상의 값이 True인지 검사\n",
    "bools.any()"
   ]
  },
  {
   "cell_type": "code",
   "execution_count": 196,
   "id": "19c4ff80",
   "metadata": {},
   "outputs": [
    {
     "data": {
      "text/plain": [
       "False"
      ]
     },
     "execution_count": 196,
     "metadata": {},
     "output_type": "execute_result"
    }
   ],
   "source": [
    "#all 메서드: 모든 원소가 True인지 검사\n",
    "bools.all()"
   ]
  },
  {
   "cell_type": "code",
   "execution_count": 198,
   "id": "b80a0cf6",
   "metadata": {},
   "outputs": [
    {
     "data": {
      "text/plain": [
       "array([[ 1.76405235,  0.40015721,  0.97873798,  2.2408932 ],\n",
       "       [ 1.86755799, -0.97727788,  0.95008842, -0.15135721],\n",
       "       [-0.10321885,  0.4105985 ,  0.14404357,  1.45427351],\n",
       "       [ 0.76103773,  0.12167502,  0.44386323,  0.33367433]])"
      ]
     },
     "execution_count": 198,
     "metadata": {},
     "output_type": "execute_result"
    }
   ],
   "source": [
    "#Q.arr에서 0보다 크면 2, 아니면 -2로 변경하세요 \n",
    "arr=np.random.randn(4,4)\n",
    "arr"
   ]
  },
  {
   "cell_type": "code",
   "execution_count": 199,
   "id": "b3bdda2e",
   "metadata": {},
   "outputs": [
    {
     "data": {
      "text/plain": [
       "array([[ 2,  2,  2,  2],\n",
       "       [ 2, -2,  2, -2],\n",
       "       [-2,  2,  2,  2],\n",
       "       [ 2,  2,  2,  2]])"
      ]
     },
     "execution_count": 199,
     "metadata": {},
     "output_type": "execute_result"
    }
   ],
   "source": [
    "np.where(arr >0,2,-2) #0보다 크면 2, 아니면 -2 "
   ]
  },
  {
   "cell_type": "code",
   "execution_count": null,
   "id": "36ea072e",
   "metadata": {},
   "outputs": [],
   "source": [
    "#Q. arr의 모든 양수를 2로 바꾸세요"
   ]
  },
  {
   "cell_type": "code",
   "execution_count": 210,
   "id": "ca8f0fdc",
   "metadata": {},
   "outputs": [
    {
     "data": {
      "text/plain": [
       "array([[-0.88778575, -1.98079647, -0.34791215,  2.        ],\n",
       "       [ 2.        ,  2.        , -0.38732682, -0.30230275],\n",
       "       [-1.04855297, -1.42001794, -1.70627019,  2.        ],\n",
       "       [-0.50965218, -0.4380743 , -1.25279536,  2.        ]])"
      ]
     },
     "execution_count": 210,
     "metadata": {},
     "output_type": "execute_result"
    }
   ],
   "source": [
    "arr=np.random.randn(4,4)\n",
    "arr\n",
    "np.where(arr>0,2,arr) #0보다 크면 2, 아니면 원래의 수"
   ]
  },
  {
   "cell_type": "code",
   "execution_count": 211,
   "id": "8746e7d9",
   "metadata": {},
   "outputs": [
    {
     "data": {
      "text/plain": [
       "array([45, 48, 65, 68, 68, 10, 84, 22, 37, 88])"
      ]
     },
     "execution_count": 211,
     "metadata": {},
     "output_type": "execute_result"
    }
   ],
   "source": [
    "#np.sort: 복사본은 반환\n",
    "\n",
    "np.random.seed(0)\n",
    "arr=np.random.randint(1,100,size=10)\n",
    "arr"
   ]
  },
  {
   "cell_type": "code",
   "execution_count": 212,
   "id": "cac2251b",
   "metadata": {},
   "outputs": [
    {
     "name": "stdout",
     "output_type": "stream",
     "text": [
      "[10 22 37 45 48 65 68 68 84 88]\n",
      "[45 48 65 68 68 10 84 22 37 88]\n"
     ]
    }
   ],
   "source": [
    "print(np.sort(arr))\n",
    "print(arr) #원본은 안바뀜"
   ]
  },
  {
   "cell_type": "code",
   "execution_count": 213,
   "id": "e651b173",
   "metadata": {},
   "outputs": [
    {
     "name": "stdout",
     "output_type": "stream",
     "text": [
      "[10 22 37 45 48 65 68 68 84 88]\n"
     ]
    }
   ],
   "source": [
    "sorted=np.sort(arr) #sorted에 반환해야함\n",
    "print(sorted)"
   ]
  },
  {
   "cell_type": "code",
   "execution_count": 217,
   "id": "f6eddd36",
   "metadata": {},
   "outputs": [
    {
     "name": "stdout",
     "output_type": "stream",
     "text": [
      "[[ 7  1]\n",
      " [ 8 12]]\n",
      "[[ 8 12]\n",
      " [ 1  7]]\n"
     ]
    }
   ],
   "source": [
    "#행렬이 2차원 이상일 경우 axis 축 값 설정을 통해 로우방향, 칼럼방향으로 정렬 수행\n",
    "\n",
    "ar2=np.array([[8,12],\n",
    "            [7,1]])\n",
    "print(np.sort(ar2,axis=0)) #행 방향으로 sort가 됨. \n",
    "\n",
    "print(np.sort(ar2,axis=1))"
   ]
  },
  {
   "cell_type": "code",
   "execution_count": 222,
   "id": "4dfecd13",
   "metadata": {},
   "outputs": [
    {
     "name": "stdout",
     "output_type": "stream",
     "text": [
      "[5 0 3 3 7 9 3 5 2 4]\n"
     ]
    },
    {
     "data": {
      "text/plain": [
       "array([0, 2, 3, 3, 3, 4, 5, 5, 7, 9])"
      ]
     },
     "execution_count": 222,
     "metadata": {},
     "output_type": "execute_result"
    }
   ],
   "source": [
    "#ndarray.sort() =>원본에 반영\n",
    "np.random.seed(0)\n",
    "arr=np.random.randint(10,size=10)\n",
    "print(arr)\n",
    "arr.sort()\n",
    "arr"
   ]
  },
  {
   "cell_type": "code",
   "execution_count": 223,
   "id": "36d82118",
   "metadata": {},
   "outputs": [
    {
     "data": {
      "text/plain": [
       "array([[7, 6, 8, 8, 1, 6, 7, 7, 8, 1],\n",
       "       [5, 9, 8, 9, 4, 3, 0, 3, 5, 0],\n",
       "       [2, 3, 8, 1, 3, 3, 3, 7, 0, 1],\n",
       "       [9, 9, 0, 4, 7, 3, 2, 7, 2, 0],\n",
       "       [0, 4, 5, 5, 6, 8, 4, 1, 4, 9],\n",
       "       [8, 1, 1, 7, 9, 9, 3, 6, 7, 2],\n",
       "       [0, 3, 5, 9, 4, 4, 6, 4, 4, 3],\n",
       "       [4, 4, 8, 4, 3, 7, 5, 5, 0, 1],\n",
       "       [5, 9, 3, 0, 5, 0, 1, 2, 4, 2],\n",
       "       [0, 3, 2, 0, 7, 5, 9, 0, 2, 7]])"
      ]
     },
     "execution_count": 223,
     "metadata": {},
     "output_type": "execute_result"
    }
   ],
   "source": [
    "arr=np.random.randint(10,size=(10,10))\n",
    "arr\n",
    "#다차원 배열의 정렬은 sort 매서드에 넘긴 축에 따라 1차원 부분을 정렬"
   ]
  },
  {
   "cell_type": "code",
   "execution_count": 224,
   "id": "169dee1c",
   "metadata": {},
   "outputs": [
    {
     "data": {
      "text/plain": [
       "array([[1, 1, 6, 6, 7, 7, 7, 8, 8, 8],\n",
       "       [0, 0, 3, 3, 4, 5, 5, 8, 9, 9],\n",
       "       [0, 1, 1, 2, 3, 3, 3, 3, 7, 8],\n",
       "       [0, 0, 2, 2, 3, 4, 7, 7, 9, 9],\n",
       "       [0, 1, 4, 4, 4, 5, 5, 6, 8, 9],\n",
       "       [1, 1, 2, 3, 6, 7, 7, 8, 9, 9],\n",
       "       [0, 3, 3, 4, 4, 4, 4, 5, 6, 9],\n",
       "       [0, 1, 3, 4, 4, 4, 5, 5, 7, 8],\n",
       "       [0, 0, 1, 2, 2, 3, 4, 5, 5, 9],\n",
       "       [0, 0, 0, 2, 2, 3, 5, 7, 7, 9]])"
      ]
     },
     "execution_count": 224,
     "metadata": {},
     "output_type": "execute_result"
    }
   ],
   "source": [
    "arr.sort(1) #열방향. default\n",
    "arr"
   ]
  },
  {
   "cell_type": "code",
   "execution_count": 225,
   "id": "9c9a49d6",
   "metadata": {},
   "outputs": [
    {
     "data": {
      "text/plain": [
       "array([[0, 0, 0, 2, 2, 3, 3, 3, 5, 8],\n",
       "       [0, 0, 1, 2, 2, 3, 4, 5, 6, 8],\n",
       "       [0, 0, 1, 2, 3, 3, 4, 5, 7, 8],\n",
       "       [0, 0, 2, 2, 3, 4, 5, 5, 7, 9],\n",
       "       [0, 1, 2, 3, 4, 4, 5, 6, 7, 9],\n",
       "       [0, 1, 3, 3, 4, 4, 5, 7, 8, 9],\n",
       "       [0, 1, 3, 4, 4, 5, 5, 7, 8, 9],\n",
       "       [0, 1, 3, 4, 4, 5, 7, 8, 9, 9],\n",
       "       [1, 1, 4, 4, 6, 7, 7, 8, 9, 9],\n",
       "       [1, 3, 6, 6, 7, 7, 7, 8, 9, 9]])"
      ]
     },
     "execution_count": 225,
     "metadata": {},
     "output_type": "execute_result"
    }
   ],
   "source": [
    "arr.sort(0) #행방향\n",
    "arr"
   ]
  },
  {
   "cell_type": "code",
   "execution_count": 226,
   "id": "d62bf2e5",
   "metadata": {},
   "outputs": [
    {
     "name": "stdout",
     "output_type": "stream",
     "text": [
      "[3 1 9 5]\n"
     ]
    },
    {
     "data": {
      "text/plain": [
       "array([1, 0, 3, 2], dtype=int64)"
      ]
     },
     "execution_count": 226,
     "metadata": {},
     "output_type": "execute_result"
    }
   ],
   "source": [
    "#정렬된 행렬의 인덱스 반환: 기존 원본 행렬의 원소에 대한 인덱스를 필요로 할 때\n",
    "org_array=np.array([3,1,9,5])\n",
    "sort_indices=np.argsort(org_array)\n",
    "print(org_array)\n",
    "sort_indices #sort한 기준으로 인덱스 반환"
   ]
  },
  {
   "cell_type": "code",
   "execution_count": 227,
   "id": "f42d5780",
   "metadata": {},
   "outputs": [
    {
     "data": {
      "text/plain": [
       "array([0, 1, 2, 3, 4, 5, 6, 7, 8, 9])"
      ]
     },
     "execution_count": 227,
     "metadata": {},
     "output_type": "execute_result"
    }
   ],
   "source": [
    "#배열 데이터의 입출력\n",
    "#np.save, np.load 는 바이너리 형식. npy 파일로 저장\n",
    "\n",
    "arr=np.arange(10)\n",
    "np.save('some_array',arr)\n",
    "\n",
    "np.load('some_array.npy')"
   ]
  },
  {
   "cell_type": "code",
   "execution_count": 230,
   "id": "68b26230",
   "metadata": {},
   "outputs": [
    {
     "data": {
      "text/plain": [
       "array([0, 1, 2, 3, 4, 5, 6, 7, 8, 9])"
      ]
     },
     "execution_count": 230,
     "metadata": {},
     "output_type": "execute_result"
    }
   ],
   "source": [
    "#np.savez: 여러개의 배열을 압축된 형식으로 저장\n",
    "\n",
    "np.savez('array_archive.npz',a=arr,b=arr)\n",
    "arch=np.load('array_archive.npz')\n",
    "arch['a']"
   ]
  },
  {
   "cell_type": "code",
   "execution_count": 241,
   "id": "c73c020e",
   "metadata": {},
   "outputs": [
    {
     "data": {
      "text/plain": [
       "array([0, 1, 0, 1, 0, 1, 0, 1, 0, 1])"
      ]
     },
     "execution_count": 241,
     "metadata": {},
     "output_type": "execute_result"
    }
   ],
   "source": [
    "#Q.인덱싱을 사용하여 [1010101010]을 출력하세요\n",
    "arr = np.array([1,2,3,4,5,6,7,8,9,10])\n",
    "arr[:] = arr%2\n",
    "arr"
   ]
  },
  {
   "cell_type": "code",
   "execution_count": 245,
   "id": "60214146",
   "metadata": {},
   "outputs": [
    {
     "name": "stdout",
     "output_type": "stream",
     "text": [
      "[1 0 1 0 1 0 1 0 1 0]\n"
     ]
    }
   ],
   "source": [
    "#강사님\n",
    "a=np.ones(10,dtype=int)\n",
    "a[[1,3,5,7,9]]=0\n",
    "print(a)"
   ]
  },
  {
   "cell_type": "code",
   "execution_count": null,
   "id": "f5f6c252",
   "metadata": {},
   "outputs": [],
   "source": [
    "[과제] 1 ~ 100을 아래와 같이 출력하세요"
   ]
  },
  {
   "cell_type": "code",
   "execution_count": null,
   "id": "7bb947a6",
   "metadata": {},
   "outputs": [],
   "source": [
    "\n",
    "[[  1   2   3   4   5   6   7   8   9  10]\n",
    " [ 20  19  18  17  16  15  14  13  12  11]\n",
    " [ 21  22  23  24  25  26  27  28  29  30]\n",
    " [ 40  39  38  37  36  35  34  33  32  31]\n",
    " [ 41  42  43  44  45  46  47  48  49  50]\n",
    " [ 60  59  58  57  56  55  54  53  52  51]\n",
    " [ 61  62  63  64  65  66  67  68  69  70]\n",
    " [ 80  79  78  77  76  75  74  73  72  71]\n",
    " [ 81  82  83  84  85  86  87  88  89  90]\n",
    " [100  99  98  97  96  95  94  93  92  91]] <class 'numpy.ndarray'>"
   ]
  },
  {
   "cell_type": "code",
   "execution_count": 13,
   "id": "bc6b4dcf",
   "metadata": {
    "scrolled": true
   },
   "outputs": [
    {
     "data": {
      "text/plain": [
       "array([[  1,   2,   3,   4,   5,   6,   7,   8,   9,  10],\n",
       "       [ 20,  19,  18,  17,  16,  15,  14,  13,  12,  11],\n",
       "       [ 21,  22,  23,  24,  25,  26,  27,  28,  29,  30],\n",
       "       [ 40,  39,  38,  37,  36,  35,  34,  33,  32,  31],\n",
       "       [ 41,  42,  43,  44,  45,  46,  47,  48,  49,  50],\n",
       "       [ 60,  59,  58,  57,  56,  55,  54,  53,  52,  51],\n",
       "       [ 61,  62,  63,  64,  65,  66,  67,  68,  69,  70],\n",
       "       [ 80,  79,  78,  77,  76,  75,  74,  73,  72,  71],\n",
       "       [ 81,  82,  83,  84,  85,  86,  87,  88,  89,  90],\n",
       "       [100,  99,  98,  97,  96,  95,  94,  93,  92,  91]])"
      ]
     },
     "execution_count": 13,
     "metadata": {},
     "output_type": "execute_result"
    }
   ],
   "source": [
    "#임수현\n",
    "arr = np.arange(1,101).reshape(10,10)\n",
    "arr[1::2] = arr[1::2, ::-1]\n",
    "arr"
   ]
  },
  {
   "cell_type": "code",
   "execution_count": 12,
   "id": "4a1f9a9d",
   "metadata": {},
   "outputs": [
    {
     "name": "stdout",
     "output_type": "stream",
     "text": [
      "[[  1   2   3   4   5   6   7   8   9  10]\n",
      " [ 20  19  18  17  16  15  14  13  12  11]\n",
      " [ 21  22  23  24  25  26  27  28  29  30]\n",
      " [ 40  39  38  37  36  35  34  33  32  31]\n",
      " [ 41  42  43  44  45  46  47  48  49  50]\n",
      " [ 60  59  58  57  56  55  54  53  52  51]\n",
      " [ 61  62  63  64  65  66  67  68  69  70]\n",
      " [ 80  79  78  77  76  75  74  73  72  71]\n",
      " [ 81  82  83  84  85  86  87  88  89  90]\n",
      " [100  99  98  97  96  95  94  93  92  91]] <class 'numpy.ndarray'>\n"
     ]
    }
   ],
   "source": [
    "#김나영\n",
    "#과제: 홀수번째 줄만 거꾸로 뒤집기\n",
    "arr = np.arange(1,101).reshape(10,10)\n",
    "\n",
    "for i in range(1,10,2):\n",
    "    arr[i]=arr[i][::-1]\n",
    "\n",
    "print(arr, type(arr))"
   ]
  },
  {
   "cell_type": "code",
   "execution_count": null,
   "id": "793cd12b",
   "metadata": {},
   "outputs": [],
   "source": [
    "[과제] np.ones((10,10))을 아래와 같이 출력하세요"
   ]
  },
  {
   "cell_type": "code",
   "execution_count": null,
   "id": "2a055eef",
   "metadata": {},
   "outputs": [],
   "source": [
    "array([[1., 1., 1., 1., 1., 1., 1., 1., 1., 1.],\n",
    "       [1., 0., 0., 0., 0., 0., 0., 0., 0., 1.],\n",
    "       [1., 0., 0., 0., 0., 0., 0., 0., 0., 1.],\n",
    "       [1., 0., 0., 0., 0., 0., 0., 0., 0., 1.],\n",
    "       [1., 0., 0., 0., 0., 0., 0., 0., 0., 1.],\n",
    "       [1., 0., 0., 0., 0., 0., 0., 0., 0., 1.],\n",
    "       [1., 0., 0., 0., 0., 0., 0., 0., 0., 1.],\n",
    "       [1., 0., 0., 0., 0., 0., 0., 0., 0., 1.],\n",
    "       [1., 0., 0., 0., 0., 0., 0., 0., 0., 1.],\n",
    "       [1., 1., 1., 1., 1., 1., 1., 1., 1., 1.]])"
   ]
  },
  {
   "cell_type": "code",
   "execution_count": 14,
   "id": "1a7cc8a1",
   "metadata": {
    "scrolled": true
   },
   "outputs": [
    {
     "data": {
      "text/plain": [
       "array([[1., 1., 1., 1., 1., 1., 1., 1., 1., 1.],\n",
       "       [1., 0., 0., 0., 0., 0., 0., 0., 0., 1.],\n",
       "       [1., 0., 0., 0., 0., 0., 0., 0., 0., 1.],\n",
       "       [1., 0., 0., 0., 0., 0., 0., 0., 0., 1.],\n",
       "       [1., 0., 0., 0., 0., 0., 0., 0., 0., 1.],\n",
       "       [1., 0., 0., 0., 0., 0., 0., 0., 0., 1.],\n",
       "       [1., 0., 0., 0., 0., 0., 0., 0., 0., 1.],\n",
       "       [1., 0., 0., 0., 0., 0., 0., 0., 0., 1.],\n",
       "       [1., 0., 0., 0., 0., 0., 0., 0., 0., 1.],\n",
       "       [1., 1., 1., 1., 1., 1., 1., 1., 1., 1.]])"
      ]
     },
     "execution_count": 14,
     "metadata": {},
     "output_type": "execute_result"
    }
   ],
   "source": [
    "#임수현\n",
    "arr = np.ones((10,10))\n",
    "arr[1:9,1:9] = 0\n",
    "arr"
   ]
  },
  {
   "cell_type": "code",
   "execution_count": null,
   "id": "d9015452",
   "metadata": {},
   "outputs": [],
   "source": [
    "#김나영\n",
    "#과제: 테두리만 남기고 전부 0으로 변경\n",
    "arr=np.ones((10,10))\n",
    "arr[0], arr[9], arr[:,0], arr[:,9] = 0,0,0,0 \n",
    "arr"
   ]
  },
  {
   "cell_type": "code",
   "execution_count": null,
   "id": "01753eff",
   "metadata": {},
   "outputs": [],
   "source": [
    "[과제] np.ones((5,5))을 아래와 같이 출력하세요"
   ]
  },
  {
   "cell_type": "code",
   "execution_count": null,
   "id": "94907fd7",
   "metadata": {},
   "outputs": [],
   "source": [
    "array([[0., 0., 0., 0., 0., 0., 0., 0., 0.],\n",
    "       [0., 0., 0., 0., 0., 0., 0., 0., 0.],\n",
    "       [0., 0., 1., 1., 1., 1., 1., 0., 0.],\n",
    "       [0., 0., 1., 1., 1., 1., 1., 0., 0.],\n",
    "       [0., 0., 1., 1., 1., 1., 1., 0., 0.],\n",
    "       [0., 0., 1., 1., 1., 1., 1., 0., 0.],\n",
    "       [0., 0., 1., 1., 1., 1., 1., 0., 0.],\n",
    "       [0., 0., 0., 0., 0., 0., 0., 0., 0.],\n",
    "       [0., 0., 0., 0., 0., 0., 0., 0., 0.]])"
   ]
  },
  {
   "cell_type": "code",
   "execution_count": null,
   "id": "41be7b4e",
   "metadata": {},
   "outputs": [],
   "source": [
    "#임수현\n",
    "arr = np.zeros((10,10))\n",
    "arr[2:8,2:8] = 1\n",
    "arr"
   ]
  },
  {
   "cell_type": "code",
   "execution_count": null,
   "id": "c172d317",
   "metadata": {},
   "outputs": [],
   "source": [
    "#김나영\n",
    "#과제: 전부 1인 5x5배열을 -> 9x9배열로 확장, 0 채우기\n",
    "arr=np.ones((5,5))\n",
    "\n",
    "v=np.zeros((2,5))\n",
    "h=np.zeros((9,2))\n",
    "\n",
    "arr2=np.vstack((arr,v))      # arr 아래에 v 붙이기\n",
    "arr2=np.vstack((v,arr2))\n",
    "#print(arr2)\n",
    "\n",
    "arr2=np.hstack((h,arr2))     # h 옆에 arr2 붙이기\n",
    "arr2=np.hstack((arr2,h))\n",
    "print(arr2)"
   ]
  },
  {
   "cell_type": "code",
   "execution_count": null,
   "id": "681042f1",
   "metadata": {},
   "outputs": [],
   "source": [
    "[과제] np.zeros((8,8))을 이용해서 아래와 같이 출력하세요(두가지 방식:인덱싱, tile 함수)"
   ]
  },
  {
   "cell_type": "code",
   "execution_count": null,
   "id": "a6a91631",
   "metadata": {},
   "outputs": [],
   "source": [
    "array([[0, 1, 0, 1, 0, 1, 0, 1],\n",
    "       [1, 0, 1, 0, 1, 0, 1, 0],\n",
    "       [0, 1, 0, 1, 0, 1, 0, 1],\n",
    "       [1, 0, 1, 0, 1, 0, 1, 0],\n",
    "       [0, 1, 0, 1, 0, 1, 0, 1],\n",
    "       [1, 0, 1, 0, 1, 0, 1, 0],\n",
    "       [0, 1, 0, 1, 0, 1, 0, 1],\n",
    "       [1, 0, 1, 0, 1, 0, 1, 0]])"
   ]
  },
  {
   "cell_type": "code",
   "execution_count": 22,
   "id": "182fd27b",
   "metadata": {},
   "outputs": [
    {
     "data": {
      "text/plain": [
       "array([[0, 1, 0, 1, 0, 1, 0, 1],\n",
       "       [1, 0, 1, 0, 1, 0, 1, 0],\n",
       "       [0, 1, 0, 1, 0, 1, 0, 1],\n",
       "       [1, 0, 1, 0, 1, 0, 1, 0],\n",
       "       [0, 1, 0, 1, 0, 1, 0, 1],\n",
       "       [1, 0, 1, 0, 1, 0, 1, 0],\n",
       "       [0, 1, 0, 1, 0, 1, 0, 1],\n",
       "       [1, 0, 1, 0, 1, 0, 1, 0]])"
      ]
     },
     "execution_count": 22,
     "metadata": {},
     "output_type": "execute_result"
    }
   ],
   "source": [
    "#강사님 =정수로 뽑아라\n",
    "z = np.zeros((8,8),dtype=int)\n",
    "z[1::2,::2]=1\n",
    "z[::2,1::2]=1\n",
    "z"
   ]
  },
  {
   "cell_type": "code",
   "execution_count": null,
   "id": "983545f5",
   "metadata": {},
   "outputs": [],
   "source": [
    "#김나영\n",
    "#과제: 전부 0인 배열을 패턴화해서 출력\n",
    "arr=np.zeros((8,8))\n",
    "\n",
    "for i in range(8):\n",
    "    if i%2==0:\n",
    "        arr[i][1::2]=1     # 짝수 번째 줄 0101010\n",
    "    else:\n",
    "        arr[i][0::2]=1     # 홀수 번째 줄 1010101\n",
    "arr"
   ]
  },
  {
   "cell_type": "code",
   "execution_count": 20,
   "id": "91331f01",
   "metadata": {},
   "outputs": [
    {
     "name": "stdout",
     "output_type": "stream",
     "text": [
      "[[0. 1. 0. 1. 0. 1. 0. 1.]\n",
      " [1. 0. 1. 0. 1. 0. 1. 0.]\n",
      " [0. 1. 0. 1. 0. 1. 0. 1.]\n",
      " [1. 0. 1. 0. 1. 0. 1. 0.]\n",
      " [0. 1. 0. 1. 0. 1. 0. 1.]\n",
      " [1. 0. 1. 0. 1. 0. 1. 0.]\n",
      " [0. 1. 0. 1. 0. 1. 0. 1.]\n",
      " [1. 0. 1. 0. 1. 0. 1. 0.]]\n"
     ]
    }
   ],
   "source": [
    "#임수현\n",
    "arr = np.zeros((8,8))\n",
    "for i in range(8):\n",
    "    for j in range(8):\n",
    "        if (i + j) % 2 != 0:\n",
    "            arr[i][j] = 1\n",
    "print(arr)\n",
    "#arr = np.tile(np.array([[0, 1], [1, 0]]), (4, 4))\n",
    "#print(arr)"
   ]
  },
  {
   "cell_type": "code",
   "execution_count": null,
   "id": "8a9d4325",
   "metadata": {},
   "outputs": [],
   "source": [
    "[과제] np.arange(336).reshape(6,7,8)에서 100번째 요소의 인덱스를 구하세요"
   ]
  },
  {
   "cell_type": "code",
   "execution_count": null,
   "id": "c20bf08b",
   "metadata": {},
   "outputs": [],
   "source": [
    "np.arange(336).reshape(6,7,8)"
   ]
  },
  {
   "cell_type": "code",
   "execution_count": null,
   "id": "bd75bbf5",
   "metadata": {},
   "outputs": [],
   "source": [
    "array([[[  0,   1,   2,   3,   4,   5,   6,   7],\n",
    "        [  8,   9,  10,  11,  12,  13,  14,  15],\n",
    "        [ 16,  17,  18,  19,  20,  21,  22,  23],\n",
    "        [ 24,  25,  26,  27,  28,  29,  30,  31],\n",
    "        [ 32,  33,  34,  35,  36,  37,  38,  39],\n",
    "        [ 40,  41,  42,  43,  44,  45,  46,  47],\n",
    "        [ 48,  49,  50,  51,  52,  53,  54,  55]],\n",
    "\n",
    "       [[ 56,  57,  58,  59,  60,  61,  62,  63],\n",
    "        [ 64,  65,  66,  67,  68,  69,  70,  71],\n",
    "        [ 72,  73,  74,  75,  76,  77,  78,  79],\n",
    "        [ 80,  81,  82,  83,  84,  85,  86,  87],\n",
    "        [ 88,  89,  90,  91,  92,  93,  94,  95],\n",
    "        [ 96,  97,  98,  99, 100, 101, 102, 103],\n",
    "        [104, 105, 106, 107, 108, 109, 110, 111]],\n",
    "\n",
    "       [[112, 113, 114, 115, 116, 117, 118, 119],\n",
    "        [120, 121, 122, 123, 124, 125, 126, 127],\n",
    "        [128, 129, 130, 131, 132, 133, 134, 135],\n",
    "        [136, 137, 138, 139, 140, 141, 142, 143],\n",
    "        [144, 145, 146, 147, 148, 149, 150, 151],\n",
    "        [152, 153, 154, 155, 156, 157, 158, 159],\n",
    "        [160, 161, 162, 163, 164, 165, 166, 167]],\n",
    "\n",
    "       [[168, 169, 170, 171, 172, 173, 174, 175],\n",
    "        [176, 177, 178, 179, 180, 181, 182, 183],\n",
    "        [184, 185, 186, 187, 188, 189, 190, 191],\n",
    "        [192, 193, 194, 195, 196, 197, 198, 199],\n",
    "        [200, 201, 202, 203, 204, 205, 206, 207],\n",
    "        [208, 209, 210, 211, 212, 213, 214, 215],\n",
    "        [216, 217, 218, 219, 220, 221, 222, 223]],\n",
    "\n",
    "       [[224, 225, 226, 227, 228, 229, 230, 231],\n",
    "        [232, 233, 234, 235, 236, 237, 238, 239],\n",
    "        [240, 241, 242, 243, 244, 245, 246, 247],\n",
    "        [248, 249, 250, 251, 252, 253, 254, 255],\n",
    "        [256, 257, 258, 259, 260, 261, 262, 263],\n",
    "        [264, 265, 266, 267, 268, 269, 270, 271],\n",
    "        [272, 273, 274, 275, 276, 277, 278, 279]],\n",
    "\n",
    "       [[280, 281, 282, 283, 284, 285, 286, 287],\n",
    "        [288, 289, 290, 291, 292, 293, 294, 295],\n",
    "        [296, 297, 298, 299, 300, 301, 302, 303],\n",
    "        [304, 305, 306, 307, 308, 309, 310, 311],\n",
    "        [312, 313, 314, 315, 316, 317, 318, 319],\n",
    "        [320, 321, 322, 323, 324, 325, 326, 327],\n",
    "        [328, 329, 330, 331, 332, 333, 334, 335]]])"
   ]
  },
  {
   "cell_type": "code",
   "execution_count": null,
   "id": "bd589d7f",
   "metadata": {},
   "outputs": [],
   "source": [
    "(1, 5, 3)"
   ]
  },
  {
   "cell_type": "code",
   "execution_count": 26,
   "id": "cf113aa5",
   "metadata": {},
   "outputs": [
    {
     "data": {
      "text/plain": [
       "(1, 5, 4)"
      ]
     },
     "execution_count": 26,
     "metadata": {},
     "output_type": "execute_result"
    }
   ],
   "source": [
    "#임수현\n",
    "#unravel_index() 함수는 1차원 배열에서 인덱스를 다차원 인덱스 튜플로 반환해주는 함수\n",
    "arr = np.arange(336).reshape(6,7,8)\n",
    "np.unravel_index(100, arr.shape)"
   ]
  },
  {
   "cell_type": "code",
   "execution_count": 1,
   "id": "3444cead",
   "metadata": {},
   "outputs": [
    {
     "ename": "NameError",
     "evalue": "name 'np' is not defined",
     "output_type": "error",
     "traceback": [
      "\u001b[1;31m---------------------------------------------------------------------------\u001b[0m",
      "\u001b[1;31mNameError\u001b[0m                                 Traceback (most recent call last)",
      "\u001b[1;32m~\\AppData\\Local\\Temp\\ipykernel_7288\\2007239623.py\u001b[0m in \u001b[0;36m<module>\u001b[1;34m\u001b[0m\n\u001b[0;32m      1\u001b[0m \u001b[1;31m#김나영\u001b[0m\u001b[1;33m\u001b[0m\u001b[1;33m\u001b[0m\u001b[0m\n\u001b[0;32m      2\u001b[0m \u001b[1;31m#[과제] np.arange(336).reshape(6,7,8)에서 100번째 요소의 인덱스 구하기\u001b[0m\u001b[1;33m\u001b[0m\u001b[1;33m\u001b[0m\u001b[0m\n\u001b[1;32m----> 3\u001b[1;33m \u001b[0marr\u001b[0m\u001b[1;33m=\u001b[0m\u001b[0mnp\u001b[0m\u001b[1;33m.\u001b[0m\u001b[0marange\u001b[0m\u001b[1;33m(\u001b[0m\u001b[1;36m336\u001b[0m\u001b[1;33m)\u001b[0m\u001b[1;33m.\u001b[0m\u001b[0mreshape\u001b[0m\u001b[1;33m(\u001b[0m\u001b[1;36m6\u001b[0m\u001b[1;33m,\u001b[0m\u001b[1;36m7\u001b[0m\u001b[1;33m,\u001b[0m\u001b[1;36m8\u001b[0m\u001b[1;33m)\u001b[0m\u001b[1;33m\u001b[0m\u001b[1;33m\u001b[0m\u001b[0m\n\u001b[0m\u001b[0;32m      4\u001b[0m \u001b[1;33m\u001b[0m\u001b[0m\n\u001b[0;32m      5\u001b[0m \u001b[0mb\u001b[0m\u001b[1;33m=\u001b[0m\u001b[0marr\u001b[0m\u001b[1;33m.\u001b[0m\u001b[0mreshape\u001b[0m\u001b[1;33m(\u001b[0m\u001b[1;33m-\u001b[0m\u001b[1;36m1\u001b[0m\u001b[1;33m)\u001b[0m\u001b[1;33m\u001b[0m\u001b[1;33m\u001b[0m\u001b[0m\n",
      "\u001b[1;31mNameError\u001b[0m: name 'np' is not defined"
     ]
    }
   ],
   "source": [
    "#김나영\n",
    "#[과제] np.arange(336).reshape(6,7,8)에서 100번째 요소의 인덱스 구하기\n",
    "arr=np.arange(336).reshape(6,7,8)\n",
    "\n",
    "b=arr.reshape(-1)\n",
    "idx=np.where(arr==b[99])     #b의 99인덱스 = arr의 100번째\n",
    "\n",
    "index=[idx[i][0] for i in range(len(idx))]    #인덱스값 뽑기\n",
    "print(index)\n",
    "idx"
   ]
  },
  {
   "cell_type": "code",
   "execution_count": null,
   "id": "e3b1d65c",
   "metadata": {},
   "outputs": [],
   "source": []
  }
 ],
 "metadata": {
  "kernelspec": {
   "display_name": "Python 3 (ipykernel)",
   "language": "python",
   "name": "python3"
  },
  "language_info": {
   "codemirror_mode": {
    "name": "ipython",
    "version": 3
   },
   "file_extension": ".py",
   "mimetype": "text/x-python",
   "name": "python",
   "nbconvert_exporter": "python",
   "pygments_lexer": "ipython3",
   "version": "3.9.13"
  }
 },
 "nbformat": 4,
 "nbformat_minor": 5
}

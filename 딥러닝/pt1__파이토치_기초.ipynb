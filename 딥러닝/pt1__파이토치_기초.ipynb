{
  "nbformat": 4,
  "nbformat_minor": 0,
  "metadata": {
    "colab": {
      "provenance": [],
      "machine_shape": "hm",
      "gpuType": "T4",
      "authorship_tag": "ABX9TyMPFghn5scYqaPU+WIpbFkX",
      "include_colab_link": true
    },
    "kernelspec": {
      "name": "python3",
      "display_name": "Python 3"
    },
    "language_info": {
      "name": "python"
    },
    "accelerator": "GPU"
  },
  "cells": [
    {
      "cell_type": "markdown",
      "metadata": {
        "id": "view-in-github",
        "colab_type": "text"
      },
      "source": [
        "<a href=\"https://colab.research.google.com/github/yul77/hmkd1-2023/blob/main/pt1__%ED%8C%8C%EC%9D%B4%ED%86%A0%EC%B9%98_%EA%B8%B0%EC%B4%88.ipynb\" target=\"_parent\"><img src=\"https://colab.research.google.com/assets/colab-badge.svg\" alt=\"Open In Colab\"/></a>"
      ]
    },
    {
      "cell_type": "markdown",
      "source": [
        "#### 파이토치 튜토리얼\n",
        "https://tutorials.pytorch.kr/"
      ],
      "metadata": {
        "id": "R5po5BKPNlO6"
      }
    },
    {
      "cell_type": "code",
      "execution_count": 1,
      "metadata": {
        "colab": {
          "base_uri": "https://localhost:8080/"
        },
        "id": "7Wqavo50Ms5X",
        "outputId": "1c1696dc-f70f-492e-a47f-4ea7fd7a8c2a"
      },
      "outputs": [
        {
          "output_type": "stream",
          "name": "stdout",
          "text": [
            "Mounted at /content/drive\n"
          ]
        }
      ],
      "source": [
        "from google.colab import drive\n",
        "drive.mount('/content/drive')\n"
      ]
    },
    {
      "cell_type": "markdown",
      "source": [
        "# 파이토치(PyTorch)\n",
        "\n",
        "* 페이스북이 초기 루아(Lua) 언어로 개발된 토치(Torch)를 파이썬 버전으로 개발하여 2017년도에 공개\n",
        "* 초기에 토치(Torch)는 넘파이(NumPy) 라이브러리처럼 과학 연산을 위한 라이브러리로 공개\n",
        "* 이후 GPU를 이용한 텐서 조작 및 동적 신경망 구축이 가능하도록 딥러닝 프레임워크로 발전시킴\n",
        "* 파이썬답게 만들어졌고, 유연하면서도 가속화된 계산 속도를 제공"
      ],
      "metadata": {
        "id": "DBvWg0OSNlRQ"
      }
    },
    {
      "cell_type": "markdown",
      "source": [
        "## 파이토치의 주요 특징\n",
        "\n",
        "- 동적 계산 그래프(Dynamic Computational Graph): 파이토치는 계산 그래프를 생성하고 수정할 수 있는 동적 계산 그래프를 사용. 이는 모델의 복잡한 흐름과 제어 흐름을 쉽게 구현할 수 있도록 도와준다. 이러한 특징은 딥러닝 모델의 구성과 실험 과정에서 유연성을 제공.\n",
        "\n",
        "- 자동 미분(Automatic Differentiation): 파이토치는 자동 미분 기능을 제공하여 계산 그래프 상에서의 역전파(Backpropagation)를 자동으로 처리. 이를 통해 모델의 가중치 업데이트를 간편하게 수행.\n",
        "\n",
        "- 쉬운 인터페이스: 파이토치는 직관적이고 쉬운 인터페이스를 제공. PyTorch는 Pythonic한 구문과 함께 다양한 딥러닝 모델을 구성하고 학습시키는 데에 필요한 다양한 기능을 제공.\n",
        "\n",
        "- GPU 지원: 파이토치는 GPU를 활용하여 딥러닝 모델의 학습과 추론을 가속화할 수 있다. GPU를 사용하면 대용량 데이터와 복잡한 모델에 대한 연산을 더욱 빠르게 처리."
      ],
      "metadata": {
        "id": "5vIIJn_IORpx"
      }
    },
    {
      "cell_type": "markdown",
      "source": [
        "## 파이토치의 구성요소\n",
        "\n",
        "- `torch`: 메인 네임스페이스, 텐서 등의 다양한 수학 함수가 포함\n",
        "- `torch.autograd`: 자동 미분 기능을 제공하는 라이브러리\n",
        "- `torch.nn`: 신경망 구축을 위한 데이터 구조나 레이어 등의 라이브러리\n",
        "- `torch.multiprocessing`: 병럴처리 기능을 제공하는 라이브러리\n",
        "- `torch.optim`: SGD(Stochastic Gradient Descent)를 중심으로 한 파라미터 최적화 알고리즘 제공\n",
        "- `torch.utils`: 데이터 조작 등 유틸리티 기능 제공\n",
        "- `torch.onnx`: ONNX(Open Neural Network Exchange), 서로 다른 프레임워크 간의 모델을 공유할 때 사용"
      ],
      "metadata": {
        "id": "lsf5ILxOOvPJ"
      }
    },
    {
      "cell_type": "markdown",
      "source": [
        "## 텐서(Tensors)\n",
        "\n",
        "* 데이터 표현을 위한 기본 구조로 텐서(tensor)를 사용\n",
        "* 텐서는 데이터를 담기위한 컨테이너(container)로서 일반적으로 수치형 데이터를 저장\n",
        "* 넘파이(NumPy)의 ndarray와 유사\n",
        "* GPU를 사용한 연산 가속 가능"
      ],
      "metadata": {
        "id": "sr6cyUJqORsI"
      }
    },
    {
      "cell_type": "code",
      "source": [
        "from google.colab import files\n",
        "from IPython.display import Image\n",
        "\n",
        "uploaded = files.upload()\n",
        "\n",
        "for filename in uploaded.keys():\n",
        "    print(f\"Uploaded file: {filename}\")\n",
        "    display(Image(filename))"
      ],
      "metadata": {
        "colab": {
          "base_uri": "https://localhost:8080/",
          "height": 521
        },
        "id": "2yaWoGpG170c",
        "outputId": "b216183a-0251-4f70-e189-6b491a9a33b0"
      },
      "execution_count": 82,
      "outputs": [
        {
          "output_type": "display_data",
          "data": {
            "text/plain": [
              "<IPython.core.display.HTML object>"
            ],
            "text/html": [
              "\n",
              "     <input type=\"file\" id=\"files-e9ab21b2-f16e-48c0-84d7-c523a1cf70b5\" name=\"files[]\" multiple disabled\n",
              "        style=\"border:none\" />\n",
              "     <output id=\"result-e9ab21b2-f16e-48c0-84d7-c523a1cf70b5\">\n",
              "      Upload widget is only available when the cell has been executed in the\n",
              "      current browser session. Please rerun this cell to enable.\n",
              "      </output>\n",
              "      <script>// Copyright 2017 Google LLC\n",
              "//\n",
              "// Licensed under the Apache License, Version 2.0 (the \"License\");\n",
              "// you may not use this file except in compliance with the License.\n",
              "// You may obtain a copy of the License at\n",
              "//\n",
              "//      http://www.apache.org/licenses/LICENSE-2.0\n",
              "//\n",
              "// Unless required by applicable law or agreed to in writing, software\n",
              "// distributed under the License is distributed on an \"AS IS\" BASIS,\n",
              "// WITHOUT WARRANTIES OR CONDITIONS OF ANY KIND, either express or implied.\n",
              "// See the License for the specific language governing permissions and\n",
              "// limitations under the License.\n",
              "\n",
              "/**\n",
              " * @fileoverview Helpers for google.colab Python module.\n",
              " */\n",
              "(function(scope) {\n",
              "function span(text, styleAttributes = {}) {\n",
              "  const element = document.createElement('span');\n",
              "  element.textContent = text;\n",
              "  for (const key of Object.keys(styleAttributes)) {\n",
              "    element.style[key] = styleAttributes[key];\n",
              "  }\n",
              "  return element;\n",
              "}\n",
              "\n",
              "// Max number of bytes which will be uploaded at a time.\n",
              "const MAX_PAYLOAD_SIZE = 100 * 1024;\n",
              "\n",
              "function _uploadFiles(inputId, outputId) {\n",
              "  const steps = uploadFilesStep(inputId, outputId);\n",
              "  const outputElement = document.getElementById(outputId);\n",
              "  // Cache steps on the outputElement to make it available for the next call\n",
              "  // to uploadFilesContinue from Python.\n",
              "  outputElement.steps = steps;\n",
              "\n",
              "  return _uploadFilesContinue(outputId);\n",
              "}\n",
              "\n",
              "// This is roughly an async generator (not supported in the browser yet),\n",
              "// where there are multiple asynchronous steps and the Python side is going\n",
              "// to poll for completion of each step.\n",
              "// This uses a Promise to block the python side on completion of each step,\n",
              "// then passes the result of the previous step as the input to the next step.\n",
              "function _uploadFilesContinue(outputId) {\n",
              "  const outputElement = document.getElementById(outputId);\n",
              "  const steps = outputElement.steps;\n",
              "\n",
              "  const next = steps.next(outputElement.lastPromiseValue);\n",
              "  return Promise.resolve(next.value.promise).then((value) => {\n",
              "    // Cache the last promise value to make it available to the next\n",
              "    // step of the generator.\n",
              "    outputElement.lastPromiseValue = value;\n",
              "    return next.value.response;\n",
              "  });\n",
              "}\n",
              "\n",
              "/**\n",
              " * Generator function which is called between each async step of the upload\n",
              " * process.\n",
              " * @param {string} inputId Element ID of the input file picker element.\n",
              " * @param {string} outputId Element ID of the output display.\n",
              " * @return {!Iterable<!Object>} Iterable of next steps.\n",
              " */\n",
              "function* uploadFilesStep(inputId, outputId) {\n",
              "  const inputElement = document.getElementById(inputId);\n",
              "  inputElement.disabled = false;\n",
              "\n",
              "  const outputElement = document.getElementById(outputId);\n",
              "  outputElement.innerHTML = '';\n",
              "\n",
              "  const pickedPromise = new Promise((resolve) => {\n",
              "    inputElement.addEventListener('change', (e) => {\n",
              "      resolve(e.target.files);\n",
              "    });\n",
              "  });\n",
              "\n",
              "  const cancel = document.createElement('button');\n",
              "  inputElement.parentElement.appendChild(cancel);\n",
              "  cancel.textContent = 'Cancel upload';\n",
              "  const cancelPromise = new Promise((resolve) => {\n",
              "    cancel.onclick = () => {\n",
              "      resolve(null);\n",
              "    };\n",
              "  });\n",
              "\n",
              "  // Wait for the user to pick the files.\n",
              "  const files = yield {\n",
              "    promise: Promise.race([pickedPromise, cancelPromise]),\n",
              "    response: {\n",
              "      action: 'starting',\n",
              "    }\n",
              "  };\n",
              "\n",
              "  cancel.remove();\n",
              "\n",
              "  // Disable the input element since further picks are not allowed.\n",
              "  inputElement.disabled = true;\n",
              "\n",
              "  if (!files) {\n",
              "    return {\n",
              "      response: {\n",
              "        action: 'complete',\n",
              "      }\n",
              "    };\n",
              "  }\n",
              "\n",
              "  for (const file of files) {\n",
              "    const li = document.createElement('li');\n",
              "    li.append(span(file.name, {fontWeight: 'bold'}));\n",
              "    li.append(span(\n",
              "        `(${file.type || 'n/a'}) - ${file.size} bytes, ` +\n",
              "        `last modified: ${\n",
              "            file.lastModifiedDate ? file.lastModifiedDate.toLocaleDateString() :\n",
              "                                    'n/a'} - `));\n",
              "    const percent = span('0% done');\n",
              "    li.appendChild(percent);\n",
              "\n",
              "    outputElement.appendChild(li);\n",
              "\n",
              "    const fileDataPromise = new Promise((resolve) => {\n",
              "      const reader = new FileReader();\n",
              "      reader.onload = (e) => {\n",
              "        resolve(e.target.result);\n",
              "      };\n",
              "      reader.readAsArrayBuffer(file);\n",
              "    });\n",
              "    // Wait for the data to be ready.\n",
              "    let fileData = yield {\n",
              "      promise: fileDataPromise,\n",
              "      response: {\n",
              "        action: 'continue',\n",
              "      }\n",
              "    };\n",
              "\n",
              "    // Use a chunked sending to avoid message size limits. See b/62115660.\n",
              "    let position = 0;\n",
              "    do {\n",
              "      const length = Math.min(fileData.byteLength - position, MAX_PAYLOAD_SIZE);\n",
              "      const chunk = new Uint8Array(fileData, position, length);\n",
              "      position += length;\n",
              "\n",
              "      const base64 = btoa(String.fromCharCode.apply(null, chunk));\n",
              "      yield {\n",
              "        response: {\n",
              "          action: 'append',\n",
              "          file: file.name,\n",
              "          data: base64,\n",
              "        },\n",
              "      };\n",
              "\n",
              "      let percentDone = fileData.byteLength === 0 ?\n",
              "          100 :\n",
              "          Math.round((position / fileData.byteLength) * 100);\n",
              "      percent.textContent = `${percentDone}% done`;\n",
              "\n",
              "    } while (position < fileData.byteLength);\n",
              "  }\n",
              "\n",
              "  // All done.\n",
              "  yield {\n",
              "    response: {\n",
              "      action: 'complete',\n",
              "    }\n",
              "  };\n",
              "}\n",
              "\n",
              "scope.google = scope.google || {};\n",
              "scope.google.colab = scope.google.colab || {};\n",
              "scope.google.colab._files = {\n",
              "  _uploadFiles,\n",
              "  _uploadFilesContinue,\n",
              "};\n",
              "})(self);\n",
              "</script> "
            ]
          },
          "metadata": {}
        },
        {
          "output_type": "stream",
          "name": "stdout",
          "text": [
            "Saving 다운로드 (1).png to 다운로드 (1).png\n",
            "Uploaded file: 다운로드 (1).png\n"
          ]
        },
        {
          "output_type": "display_data",
          "data": {
            "image/png": "[encoded data removed]",
            "text/plain": [
              "<IPython.core.display.Image object>"
            ]
          },
          "metadata": {}
        }
      ]
    },
    {
      "cell_type": "code",
      "source": [
        "import torch\n",
        "torch.__version__"
      ],
      "metadata": {
        "colab": {
          "base_uri": "https://localhost:8080/",
          "height": 35
        },
        "id": "XDiGn2BnORuK",
        "outputId": "aabeb863-3231-4437-cf60-333f553efd6e"
      },
      "execution_count": 1,
      "outputs": [
        {
          "output_type": "execute_result",
          "data": {
            "text/plain": [
              "'2.0.1+cu118'"
            ],
            "application/vnd.google.colaboratory.intrinsic+json": {
              "type": "string"
            }
          },
          "metadata": {},
          "execution_count": 1
        }
      ]
    },
    {
      "cell_type": "markdown",
      "source": [
        "### 텐서 초기화와 데이터 타입\n",
        "\n",
        "초기화 되지 않은 텐서"
      ],
      "metadata": {
        "id": "PgSKPgMVRJt7"
      }
    },
    {
      "cell_type": "code",
      "source": [
        "x = torch.empty(4,2) # 텐서를 초기화 하지 않고, 현재 메모리에 남아있는 임의의 값으로 채움.\n",
        "print(x)"
      ],
      "metadata": {
        "colab": {
          "base_uri": "https://localhost:8080/"
        },
        "id": "vxkld9vBORwY",
        "outputId": "0a7a3426-6836-419f-91a5-b77e017863d3"
      },
      "execution_count": 2,
      "outputs": [
        {
          "output_type": "stream",
          "name": "stdout",
          "text": [
            "tensor([[ 1.3621e+11,  2.1451e-18],\n",
            "        [ 3.0806e-34,  4.3496e-41],\n",
            "        [ 1.3655e-38,  0.0000e+00],\n",
            "        [-1.2007e-04, -1.7797e+21]])\n"
          ]
        }
      ]
    },
    {
      "cell_type": "code",
      "source": [
        "import numpy as np\n",
        "x = np.empty([4,2]) # 지정된 크기과 배열을 생성하지만 초기화되지 않아 배열 요소에는 이전에 할당된 메모리에 저장된 임의의 값이 들어감.\n",
        "print(x)\n",
        "\n",
        "# 안의 숫자는 중요하지 않고 지정된 크기의 텐서만 지정되고 메모리에 남아있는 임의의 수가 표시되는 것"
      ],
      "metadata": {
        "colab": {
          "base_uri": "https://localhost:8080/"
        },
        "id": "kgMJhORpORyp",
        "outputId": "e1576012-3df7-4532-f092-8e90dd95ed34"
      },
      "execution_count": 3,
      "outputs": [
        {
          "output_type": "stream",
          "name": "stdout",
          "text": [
            "[[7.20314827e-316 0.00000000e+000]\n",
            " [2.88980630e+204 6.01099964e+175]\n",
            " [2.04911928e+214 3.17095864e+180]\n",
            " [1.42553124e+248 6.58670517e-310]]\n"
          ]
        }
      ]
    },
    {
      "cell_type": "markdown",
      "source": [
        "무작위로 초기화 된 텐서"
      ],
      "metadata": {
        "id": "N446HmCHOR0x"
      }
    },
    {
      "cell_type": "code",
      "source": [
        "x = torch.rand(4,2) # 4행2열짜리  0~1사이의 균등한 숫자(rand)를 무작위로 뽑아준다.\n",
        "print(x)"
      ],
      "metadata": {
        "colab": {
          "base_uri": "https://localhost:8080/"
        },
        "id": "75s-KWPmOR3I",
        "outputId": "a01ad949-2e46-47fb-cc2c-54ecfc7a2457"
      },
      "execution_count": 4,
      "outputs": [
        {
          "output_type": "stream",
          "name": "stdout",
          "text": [
            "tensor([[0.1365, 0.7371],\n",
            "        [0.7925, 0.6245],\n",
            "        [0.7062, 0.3937],\n",
            "        [0.8823, 0.8485]])\n"
          ]
        }
      ]
    },
    {
      "cell_type": "markdown",
      "source": [
        "### PyTorch는 데이터 타입\n",
        "\n",
        "1. torch.float32 또는 torch.float: 32비트 부동 소수점 숫자를 나타냅니다. 기본적으로 사용되는 데이터 타입입니다.\n",
        "\n",
        "2. torch.float64 또는 torch.double: 64비트 부동 소수점 숫자를 나타냅니다. 더 정확한 숫자 계산이 필요한 경우에 사용될 수 있습니다.\n",
        "\n",
        "3. torch.float16 또는 torch.half: 반 정밀도 16비트 부동 소수점 숫자를 나타냅니다. 메모리를 적게 사용하며, 계산 속도도 빠릅니다. 그러나 정확도가 상대적으로 낮을 수 있습니다.\n",
        "\n",
        "4. torch.int8, torch.int16, torch.int32, torch.int64: 정수 데이터 타입입니다. 각각 8비트, 16비트, 32비트, 64비트 크기를 가집니다.\n",
        "\n",
        "5. torch.uint8: 8비트 부호 없는 정수 데이터 타입입니다. 0과 255 사이의 값을 가질 수 있습니다.\n",
        "\n",
        "6. torch.bool: 불리언 데이터 타입으로, True 또는 False 값을 가집니다."
      ],
      "metadata": {
        "id": "xzw38KlVOR5a"
      }
    },
    {
      "cell_type": "markdown",
      "source": [
        "| Data type | dtype | CPU tensor | GPU tensor |\n",
        "| ------ | ------ | ------ | ------ |\n",
        "| 32-bit floating point | `torch.float32` or `torch.float` |`torch.FloatTensor` | `torch.cuda.FloatTensor` |\n",
        "| 64-bit floating point | `torch.float64` or `torch.double` |`torch.DoubleTensor` | `torch.cuda.DoubleTensor` |\n",
        "| 16-bit floating point | `torch.float16` or `torch.half` |`torch.HalfTensor` | `torch.cuda.HalfTensor` |\n",
        "| 8-bit integer(unsinged) | `torch.uint8` |`torch.ByteTensor` | `torch.cuda.ByteTensor` |\n",
        "| 8-bit integer(singed) | `torch.int8` |`torch.CharTensor` | `torch.cuda.CharTensor` |\n",
        "| 16-bit integer(signed) | `torch.int16` or `torch.short` |`torch.ShortTensor` | `torch.cuda.ShortTensor` |\n",
        "| 32-bit integer(signed) | `torch.int32` or `torch.int` |`torch.IntTensor` | `torch.cuda.IntTensor` |\n",
        "| 64-bit integer(signed) | `torch.int64` or `torch.long` |`torch.LongTensor` | `torch.cuda.LongTensor` |"
      ],
      "metadata": {
        "id": "hq-IxD2rOR-D"
      }
    },
    {
      "cell_type": "markdown",
      "source": [
        "데이터 타입(dtype)이 long이고 , 0으로 채워진 텐서"
      ],
      "metadata": {
        "id": "3iANCV7TOR7x"
      }
    },
    {
      "cell_type": "code",
      "source": [
        "x  = torch.zeros(4,2, dtype = torch.long) #long = 64비트 정수\n",
        "print(x) # 0으로 구성된 4행 2열을 만들건데 dtype을 64비트짜리 정수로 하겠다."
      ],
      "metadata": {
        "colab": {
          "base_uri": "https://localhost:8080/"
        },
        "id": "elcZlBSZOSAb",
        "outputId": "5f50a69b-4215-44b8-fa42-9bfc763d3964"
      },
      "execution_count": 6,
      "outputs": [
        {
          "output_type": "stream",
          "name": "stdout",
          "text": [
            "tensor([[0, 0],\n",
            "        [0, 0],\n",
            "        [0, 0],\n",
            "        [0, 0]])\n"
          ]
        }
      ]
    },
    {
      "cell_type": "markdown",
      "source": [
        "사용자가 입력한 값으로 텐서 초기화"
      ],
      "metadata": {
        "id": "IjLL0s-7NlTi"
      }
    },
    {
      "cell_type": "code",
      "source": [
        "x =torch.tensor([3,2.3])\n",
        "print(x)"
      ],
      "metadata": {
        "colab": {
          "base_uri": "https://localhost:8080/"
        },
        "id": "eJtICpXxNlV7",
        "outputId": "9768a338-77e8-4177-ea09-324deb0fc45f"
      },
      "execution_count": 7,
      "outputs": [
        {
          "output_type": "stream",
          "name": "stdout",
          "text": [
            "tensor([3.0000, 2.3000])\n"
          ]
        }
      ]
    },
    {
      "cell_type": "markdown",
      "source": [
        "2x4크기 더블타입, 1로 채워진 텐서"
      ],
      "metadata": {
        "id": "EmSgcIciNlYB"
      }
    },
    {
      "cell_type": "code",
      "source": [
        "x = x.new_ones(2,4,dtype = torch.double)# double = 64비트 실수\n",
        "print(x)"
      ],
      "metadata": {
        "colab": {
          "base_uri": "https://localhost:8080/"
        },
        "id": "p0u6dGilNlaJ",
        "outputId": "9a84889a-bd08-4a0b-9d57-c9b06ab8ecae"
      },
      "execution_count": 8,
      "outputs": [
        {
          "output_type": "stream",
          "name": "stdout",
          "text": [
            "tensor([[1., 1., 1., 1.],\n",
            "        [1., 1., 1., 1.]], dtype=torch.float64)\n"
          ]
        }
      ]
    },
    {
      "cell_type": "markdown",
      "source": [
        "x 와 같은 크기, float 타입, 무작위로 채워진 텐서"
      ],
      "metadata": {
        "id": "eHz9TmSwUxf8"
      }
    },
    {
      "cell_type": "code",
      "source": [
        "x = torch.randn_like(x, dtype = torch.float) # float = 32비트 실수\n",
        "print(x)"
      ],
      "metadata": {
        "colab": {
          "base_uri": "https://localhost:8080/"
        },
        "id": "bdn9f8LRU4Mh",
        "outputId": "82737ad1-fd1f-4f4a-82e8-bca37fbdfa50"
      },
      "execution_count": 9,
      "outputs": [
        {
          "output_type": "stream",
          "name": "stdout",
          "text": [
            "tensor([[ 0.9608, -0.3940, -0.4129, -0.8393],\n",
            "        [ 1.3194,  0.5957, -0.7802, -0.4240]])\n"
          ]
        }
      ]
    },
    {
      "cell_type": "code",
      "source": [
        "x = torch.randn(5) # 평균이 0이고 표준편차가 1인 가우시안 정규분포를 이용해 생성\n",
        "print(x) #표준 정규분포를 따르는 값 5개 출력"
      ],
      "metadata": {
        "colab": {
          "base_uri": "https://localhost:8080/"
        },
        "id": "njJoeZFRNlcZ",
        "outputId": "94a8bc1f-7f07-4d0e-9bea-48571935618c"
      },
      "execution_count": 10,
      "outputs": [
        {
          "output_type": "stream",
          "name": "stdout",
          "text": [
            "tensor([-1.2646, -1.4893, -0.5203,  0.6521,  0.8537])\n"
          ]
        }
      ]
    },
    {
      "cell_type": "markdown",
      "source": [
        "텐서의 크기 계산"
      ],
      "metadata": {
        "id": "D6VtF4WBVZfR"
      }
    },
    {
      "cell_type": "code",
      "source": [
        "print(x.size())"
      ],
      "metadata": {
        "colab": {
          "base_uri": "https://localhost:8080/"
        },
        "id": "VabzYOGyNlei",
        "outputId": "318ade39-af07-4ea4-f502-370498580a48"
      },
      "execution_count": 11,
      "outputs": [
        {
          "output_type": "stream",
          "name": "stdout",
          "text": [
            "torch.Size([5])\n"
          ]
        }
      ]
    },
    {
      "cell_type": "markdown",
      "source": [
        "#### 데이터 타입(Data Type)"
      ],
      "metadata": {
        "id": "l3GcL6TYXvZp"
      }
    },
    {
      "cell_type": "code",
      "source": [
        "ft = torch.FloatTensor([1,2,3]) #FloatTensor() 이용해서 타입지정가능\n",
        "print(ft)\n",
        "print(ft.dtype)"
      ],
      "metadata": {
        "colab": {
          "base_uri": "https://localhost:8080/"
        },
        "id": "rVc-AQCiNlgq",
        "outputId": "367b28c0-32ae-40bd-b194-0f4f13cb8d66"
      },
      "execution_count": 12,
      "outputs": [
        {
          "output_type": "stream",
          "name": "stdout",
          "text": [
            "tensor([1., 2., 3.])\n",
            "torch.float32\n"
          ]
        }
      ]
    },
    {
      "cell_type": "code",
      "source": [
        "print(ft.short()) # short = 16비트 정수\n",
        "print(ft.int())\n",
        "print(ft.long())"
      ],
      "metadata": {
        "colab": {
          "base_uri": "https://localhost:8080/"
        },
        "id": "mQEUtJ8pX90J",
        "outputId": "789cc996-ac7a-47ff-bc5a-739abb87d160"
      },
      "execution_count": 16,
      "outputs": [
        {
          "output_type": "stream",
          "name": "stdout",
          "text": [
            "tensor([1, 2, 3], dtype=torch.int16)\n",
            "tensor([1, 2, 3], dtype=torch.int32)\n",
            "tensor([1, 2, 3])\n"
          ]
        }
      ]
    },
    {
      "cell_type": "code",
      "source": [
        "it = torch.IntTensor([1,2,3])\n",
        "print(it)\n",
        "print(it.dtype)"
      ],
      "metadata": {
        "colab": {
          "base_uri": "https://localhost:8080/"
        },
        "id": "7QLvSXQtYZgf",
        "outputId": "1a1cc593-6b07-4896-8bfb-585ff143a61a"
      },
      "execution_count": 17,
      "outputs": [
        {
          "output_type": "stream",
          "name": "stdout",
          "text": [
            "tensor([1, 2, 3], dtype=torch.int32)\n",
            "torch.int32\n"
          ]
        }
      ]
    },
    {
      "cell_type": "code",
      "source": [
        "print(it.float())\n",
        "print(it.double()) #64비트 실수\n",
        "print(it.half()) #16비트 실수"
      ],
      "metadata": {
        "colab": {
          "base_uri": "https://localhost:8080/"
        },
        "id": "EKT_290eYiKV",
        "outputId": "9b662ee6-1de1-45db-f0b3-b76ad7070140"
      },
      "execution_count": 18,
      "outputs": [
        {
          "output_type": "stream",
          "name": "stdout",
          "text": [
            "tensor([1., 2., 3.])\n",
            "tensor([1., 2., 3.], dtype=torch.float64)\n",
            "tensor([1., 2., 3.], dtype=torch.float16)\n"
          ]
        }
      ]
    },
    {
      "cell_type": "markdown",
      "source": [
        "### CUDA Tensors\n",
        "- .to 메소드를 사용하여 텐서를 어떠한 장치(CPU, GPU)로도 옮길 수 있음"
      ],
      "metadata": {
        "id": "qzSFhUEKYqeh"
      }
    },
    {
      "cell_type": "markdown",
      "source": [
        "NVIDIA가 만든 병렬 컴퓨팅 플랫폼 및 API 모델로, 보통 '쿠다'라고 발음한다. CUDA 플랫폼은 GPU 의 가상 명령어셋을 사용할 수 있도록 만들어주는 소프트웨어 레이어이며, NVIDIA가 만든 CUDA 코어가 장착된 GPU에서 작동"
      ],
      "metadata": {
        "id": "_luZRiZ6YTR6"
      }
    },
    {
      "cell_type": "code",
      "source": [
        "x = torch.randn(1)\n",
        "print(x)\n",
        "print(x.item()) #item = x에 있는 값을 꺼내는 것.\n",
        "print(x.dtype)"
      ],
      "metadata": {
        "colab": {
          "base_uri": "https://localhost:8080/"
        },
        "id": "IaKOfvlPYSAR",
        "outputId": "f26a3f77-c071-498a-a7db-3ab19314281a"
      },
      "execution_count": 19,
      "outputs": [
        {
          "output_type": "stream",
          "name": "stdout",
          "text": [
            "tensor([1.0410])\n",
            "1.0409693717956543\n",
            "torch.float32\n"
          ]
        }
      ]
    },
    {
      "cell_type": "code",
      "source": [
        "a = torch.randn(10000000)\n",
        "print(a.mean())\n",
        "print(a.std())"
      ],
      "metadata": {
        "colab": {
          "base_uri": "https://localhost:8080/"
        },
        "id": "alzoxZWGZLa2",
        "outputId": "039c4fda-e51f-47f5-9a66-2338e7f3b6d9"
      },
      "execution_count": 23,
      "outputs": [
        {
          "output_type": "stream",
          "name": "stdout",
          "text": [
            "tensor(-0.0003)\n",
            "tensor(1.0003)\n"
          ]
        }
      ]
    },
    {
      "cell_type": "code",
      "source": [
        "import torch\n",
        "device = torch.device('cuda' if torch.cuda.is_available() else 'cpu')\n",
        "print(device)"
      ],
      "metadata": {
        "colab": {
          "base_uri": "https://localhost:8080/"
        },
        "id": "vfqGN6CDZrzC",
        "outputId": "db17705f-4a1d-4456-b424-acc23887de5c"
      },
      "execution_count": 24,
      "outputs": [
        {
          "output_type": "stream",
          "name": "stdout",
          "text": [
            "cuda\n"
          ]
        }
      ]
    },
    {
      "cell_type": "markdown",
      "source": [
        "## 다차원 텐서 표현\n",
        "#### 0D Tensor(Scalar)\n",
        "- 하나의 숫자를 감도 있는 텐서(tensor)\n",
        "- 축과 형상이 없음"
      ],
      "metadata": {
        "id": "Ivpg0xze0epF"
      }
    },
    {
      "cell_type": "code",
      "source": [
        "t0 = torch.tensor(0)\n",
        "\n",
        "print(t0.ndim)\n",
        "print(t0.shape)\n",
        "print(t0)"
      ],
      "metadata": {
        "colab": {
          "base_uri": "https://localhost:8080/"
        },
        "id": "Z7OYl9m0YINx",
        "outputId": "322e798e-d364-44f5-85bc-a4ec4e02fbf1"
      },
      "execution_count": 78,
      "outputs": [
        {
          "output_type": "stream",
          "name": "stdout",
          "text": [
            "0\n",
            "torch.Size([])\n",
            "tensor(0)\n"
          ]
        }
      ]
    },
    {
      "cell_type": "markdown",
      "source": [
        "1D Tensor(Vector)\n",
        "- 값들을 저장한 리스트와 유사한 텐서\n",
        "- 하나의 축이 존재"
      ],
      "metadata": {
        "id": "xIemO5SDZgAB"
      }
    },
    {
      "cell_type": "code",
      "source": [
        "t1 = torch.tensor([1,2,3])\n",
        "print(t1.ndim)\n",
        "print(t1.shape)\n",
        "print(t1)"
      ],
      "metadata": {
        "colab": {
          "base_uri": "https://localhost:8080/"
        },
        "id": "txdpmAAR00lJ",
        "outputId": "bbe46724-664e-44f0-eea8-e3d79bba3f2f"
      },
      "execution_count": 79,
      "outputs": [
        {
          "output_type": "stream",
          "name": "stdout",
          "text": [
            "1\n",
            "torch.Size([3])\n",
            "tensor([1, 2, 3])\n"
          ]
        }
      ]
    },
    {
      "cell_type": "markdown",
      "source": [
        "2D Tensor(Matrix)\n",
        "- 행렬과 같은 모양으로 두개의 축이 존재\n",
        "- 일반적인 수치, 통계 데이터셋이 해당\n",
        "- 주로 샘플(samples)과 특성(features)을 가진 구조로 사용"
      ],
      "metadata": {
        "id": "udcGz5iJ1EKJ"
      }
    },
    {
      "cell_type": "code",
      "source": [
        "from google.colab import files\n",
        "from IPython.display import Image\n",
        "\n",
        "uploaded = files.upload()\n",
        "\n",
        "for filename in uploaded.keys():\n",
        "    print(f\"Uploaded file: {filename}\")\n",
        "    display(Image(filename))\n"
      ],
      "metadata": {
        "colab": {
          "base_uri": "https://localhost:8080/",
          "height": 232
        },
        "id": "24Dcv-zy1T7L",
        "outputId": "f8edb516-5b02-456b-d89d-072e8e424fd8"
      },
      "execution_count": 81,
      "outputs": [
        {
          "output_type": "display_data",
          "data": {
            "text/plain": [
              "<IPython.core.display.HTML object>"
            ],
            "text/html": [
              "\n",
              "     <input type=\"file\" id=\"files-20d44114-c3d5-412a-ac9b-4bb32c133013\" name=\"files[]\" multiple disabled\n",
              "        style=\"border:none\" />\n",
              "     <output id=\"result-20d44114-c3d5-412a-ac9b-4bb32c133013\">\n",
              "      Upload widget is only available when the cell has been executed in the\n",
              "      current browser session. Please rerun this cell to enable.\n",
              "      </output>\n",
              "      <script>// Copyright 2017 Google LLC\n",
              "//\n",
              "// Licensed under the Apache License, Version 2.0 (the \"License\");\n",
              "// you may not use this file except in compliance with the License.\n",
              "// You may obtain a copy of the License at\n",
              "//\n",
              "//      http://www.apache.org/licenses/LICENSE-2.0\n",
              "//\n",
              "// Unless required by applicable law or agreed to in writing, software\n",
              "// distributed under the License is distributed on an \"AS IS\" BASIS,\n",
              "// WITHOUT WARRANTIES OR CONDITIONS OF ANY KIND, either express or implied.\n",
              "// See the License for the specific language governing permissions and\n",
              "// limitations under the License.\n",
              "\n",
              "/**\n",
              " * @fileoverview Helpers for google.colab Python module.\n",
              " */\n",
              "(function(scope) {\n",
              "function span(text, styleAttributes = {}) {\n",
              "  const element = document.createElement('span');\n",
              "  element.textContent = text;\n",
              "  for (const key of Object.keys(styleAttributes)) {\n",
              "    element.style[key] = styleAttributes[key];\n",
              "  }\n",
              "  return element;\n",
              "}\n",
              "\n",
              "// Max number of bytes which will be uploaded at a time.\n",
              "const MAX_PAYLOAD_SIZE = 100 * 1024;\n",
              "\n",
              "function _uploadFiles(inputId, outputId) {\n",
              "  const steps = uploadFilesStep(inputId, outputId);\n",
              "  const outputElement = document.getElementById(outputId);\n",
              "  // Cache steps on the outputElement to make it available for the next call\n",
              "  // to uploadFilesContinue from Python.\n",
              "  outputElement.steps = steps;\n",
              "\n",
              "  return _uploadFilesContinue(outputId);\n",
              "}\n",
              "\n",
              "// This is roughly an async generator (not supported in the browser yet),\n",
              "// where there are multiple asynchronous steps and the Python side is going\n",
              "// to poll for completion of each step.\n",
              "// This uses a Promise to block the python side on completion of each step,\n",
              "// then passes the result of the previous step as the input to the next step.\n",
              "function _uploadFilesContinue(outputId) {\n",
              "  const outputElement = document.getElementById(outputId);\n",
              "  const steps = outputElement.steps;\n",
              "\n",
              "  const next = steps.next(outputElement.lastPromiseValue);\n",
              "  return Promise.resolve(next.value.promise).then((value) => {\n",
              "    // Cache the last promise value to make it available to the next\n",
              "    // step of the generator.\n",
              "    outputElement.lastPromiseValue = value;\n",
              "    return next.value.response;\n",
              "  });\n",
              "}\n",
              "\n",
              "/**\n",
              " * Generator function which is called between each async step of the upload\n",
              " * process.\n",
              " * @param {string} inputId Element ID of the input file picker element.\n",
              " * @param {string} outputId Element ID of the output display.\n",
              " * @return {!Iterable<!Object>} Iterable of next steps.\n",
              " */\n",
              "function* uploadFilesStep(inputId, outputId) {\n",
              "  const inputElement = document.getElementById(inputId);\n",
              "  inputElement.disabled = false;\n",
              "\n",
              "  const outputElement = document.getElementById(outputId);\n",
              "  outputElement.innerHTML = '';\n",
              "\n",
              "  const pickedPromise = new Promise((resolve) => {\n",
              "    inputElement.addEventListener('change', (e) => {\n",
              "      resolve(e.target.files);\n",
              "    });\n",
              "  });\n",
              "\n",
              "  const cancel = document.createElement('button');\n",
              "  inputElement.parentElement.appendChild(cancel);\n",
              "  cancel.textContent = 'Cancel upload';\n",
              "  const cancelPromise = new Promise((resolve) => {\n",
              "    cancel.onclick = () => {\n",
              "      resolve(null);\n",
              "    };\n",
              "  });\n",
              "\n",
              "  // Wait for the user to pick the files.\n",
              "  const files = yield {\n",
              "    promise: Promise.race([pickedPromise, cancelPromise]),\n",
              "    response: {\n",
              "      action: 'starting',\n",
              "    }\n",
              "  };\n",
              "\n",
              "  cancel.remove();\n",
              "\n",
              "  // Disable the input element since further picks are not allowed.\n",
              "  inputElement.disabled = true;\n",
              "\n",
              "  if (!files) {\n",
              "    return {\n",
              "      response: {\n",
              "        action: 'complete',\n",
              "      }\n",
              "    };\n",
              "  }\n",
              "\n",
              "  for (const file of files) {\n",
              "    const li = document.createElement('li');\n",
              "    li.append(span(file.name, {fontWeight: 'bold'}));\n",
              "    li.append(span(\n",
              "        `(${file.type || 'n/a'}) - ${file.size} bytes, ` +\n",
              "        `last modified: ${\n",
              "            file.lastModifiedDate ? file.lastModifiedDate.toLocaleDateString() :\n",
              "                                    'n/a'} - `));\n",
              "    const percent = span('0% done');\n",
              "    li.appendChild(percent);\n",
              "\n",
              "    outputElement.appendChild(li);\n",
              "\n",
              "    const fileDataPromise = new Promise((resolve) => {\n",
              "      const reader = new FileReader();\n",
              "      reader.onload = (e) => {\n",
              "        resolve(e.target.result);\n",
              "      };\n",
              "      reader.readAsArrayBuffer(file);\n",
              "    });\n",
              "    // Wait for the data to be ready.\n",
              "    let fileData = yield {\n",
              "      promise: fileDataPromise,\n",
              "      response: {\n",
              "        action: 'continue',\n",
              "      }\n",
              "    };\n",
              "\n",
              "    // Use a chunked sending to avoid message size limits. See b/62115660.\n",
              "    let position = 0;\n",
              "    do {\n",
              "      const length = Math.min(fileData.byteLength - position, MAX_PAYLOAD_SIZE);\n",
              "      const chunk = new Uint8Array(fileData, position, length);\n",
              "      position += length;\n",
              "\n",
              "      const base64 = btoa(String.fromCharCode.apply(null, chunk));\n",
              "      yield {\n",
              "        response: {\n",
              "          action: 'append',\n",
              "          file: file.name,\n",
              "          data: base64,\n",
              "        },\n",
              "      };\n",
              "\n",
              "      let percentDone = fileData.byteLength === 0 ?\n",
              "          100 :\n",
              "          Math.round((position / fileData.byteLength) * 100);\n",
              "      percent.textContent = `${percentDone}% done`;\n",
              "\n",
              "    } while (position < fileData.byteLength);\n",
              "  }\n",
              "\n",
              "  // All done.\n",
              "  yield {\n",
              "    response: {\n",
              "      action: 'complete',\n",
              "    }\n",
              "  };\n",
              "}\n",
              "\n",
              "scope.google = scope.google || {};\n",
              "scope.google.colab = scope.google.colab || {};\n",
              "scope.google.colab._files = {\n",
              "  _uploadFiles,\n",
              "  _uploadFilesContinue,\n",
              "};\n",
              "})(self);\n",
              "</script> "
            ]
          },
          "metadata": {}
        },
        {
          "output_type": "stream",
          "name": "stdout",
          "text": [
            "Saving 다운로드.png to 다운로드.png\n",
            "Uploaded file: 다운로드.png\n"
          ]
        },
        {
          "output_type": "display_data",
          "data": {
            "image/png": "[encoded data removed]",
            "text/plain": [
              "<IPython.core.display.Image object>"
            ]
          },
          "metadata": {}
        }
      ]
    },
    {
      "cell_type": "code",
      "source": [
        "t2 = torch.tensor([[1,2,3],\n",
        "                   [4,5,6]])\n",
        "print(t2.ndim)\n",
        "print(t2.shape)\n",
        "print(t2)"
      ],
      "metadata": {
        "colab": {
          "base_uri": "https://localhost:8080/"
        },
        "id": "L0-fFeiJNlix",
        "outputId": "731ad8ce-9101-493c-9f22-511c80e0bc09"
      },
      "execution_count": 83,
      "outputs": [
        {
          "output_type": "stream",
          "name": "stdout",
          "text": [
            "2\n",
            "torch.Size([2, 3])\n",
            "tensor([[1, 2, 3],\n",
            "        [4, 5, 6]])\n"
          ]
        }
      ]
    },
    {
      "cell_type": "markdown",
      "source": [
        "[과제]3D, 4D, 5D 텐서를 생성하세요."
      ],
      "metadata": {
        "id": "4bJHcYvb3zuy"
      }
    },
    {
      "cell_type": "markdown",
      "source": [
        "3D Tensor\n",
        "\n",
        "- 큐브(cube)와 같은 모양으로 세개의 축이 존재\n",
        "- 데이터가 연속된 시퀀스 데이터나 시간 축이 포함된 시계열 데이터에 해당\n",
        "- 주식 가격 데이터셋, 시간에 따른 질병 발병 데이터 등이 존재\n",
        "- 주로 샘플(samples), 타임스텝(timesteps), 특성(features)을 가진 구조로 사용"
      ],
      "metadata": {
        "id": "pvteN4r8Nlk5"
      }
    },
    {
      "cell_type": "code",
      "source": [
        "from google.colab import files\n",
        "from IPython.display import Image\n",
        "\n",
        "uploaded = files.upload()\n",
        "\n",
        "for filename in uploaded.keys():\n",
        "    print(f\"Uploaded file: {filename}\")\n",
        "    display(Image(filename))"
      ],
      "metadata": {
        "colab": {
          "base_uri": "https://localhost:8080/",
          "height": 249
        },
        "id": "nrsIHTqj35jg",
        "outputId": "11add1bf-4614-4c9c-dfac-343e7dfb3b8a"
      },
      "execution_count": 84,
      "outputs": [
        {
          "output_type": "display_data",
          "data": {
            "text/plain": [
              "<IPython.core.display.HTML object>"
            ],
            "text/html": [
              "\n",
              "     <input type=\"file\" id=\"files-e80a2bb3-287a-4ca8-bb54-5da3070f3094\" name=\"files[]\" multiple disabled\n",
              "        style=\"border:none\" />\n",
              "     <output id=\"result-e80a2bb3-287a-4ca8-bb54-5da3070f3094\">\n",
              "      Upload widget is only available when the cell has been executed in the\n",
              "      current browser session. Please rerun this cell to enable.\n",
              "      </output>\n",
              "      <script>// Copyright 2017 Google LLC\n",
              "//\n",
              "// Licensed under the Apache License, Version 2.0 (the \"License\");\n",
              "// you may not use this file except in compliance with the License.\n",
              "// You may obtain a copy of the License at\n",
              "//\n",
              "//      http://www.apache.org/licenses/LICENSE-2.0\n",
              "//\n",
              "// Unless required by applicable law or agreed to in writing, software\n",
              "// distributed under the License is distributed on an \"AS IS\" BASIS,\n",
              "// WITHOUT WARRANTIES OR CONDITIONS OF ANY KIND, either express or implied.\n",
              "// See the License for the specific language governing permissions and\n",
              "// limitations under the License.\n",
              "\n",
              "/**\n",
              " * @fileoverview Helpers for google.colab Python module.\n",
              " */\n",
              "(function(scope) {\n",
              "function span(text, styleAttributes = {}) {\n",
              "  const element = document.createElement('span');\n",
              "  element.textContent = text;\n",
              "  for (const key of Object.keys(styleAttributes)) {\n",
              "    element.style[key] = styleAttributes[key];\n",
              "  }\n",
              "  return element;\n",
              "}\n",
              "\n",
              "// Max number of bytes which will be uploaded at a time.\n",
              "const MAX_PAYLOAD_SIZE = 100 * 1024;\n",
              "\n",
              "function _uploadFiles(inputId, outputId) {\n",
              "  const steps = uploadFilesStep(inputId, outputId);\n",
              "  const outputElement = document.getElementById(outputId);\n",
              "  // Cache steps on the outputElement to make it available for the next call\n",
              "  // to uploadFilesContinue from Python.\n",
              "  outputElement.steps = steps;\n",
              "\n",
              "  return _uploadFilesContinue(outputId);\n",
              "}\n",
              "\n",
              "// This is roughly an async generator (not supported in the browser yet),\n",
              "// where there are multiple asynchronous steps and the Python side is going\n",
              "// to poll for completion of each step.\n",
              "// This uses a Promise to block the python side on completion of each step,\n",
              "// then passes the result of the previous step as the input to the next step.\n",
              "function _uploadFilesContinue(outputId) {\n",
              "  const outputElement = document.getElementById(outputId);\n",
              "  const steps = outputElement.steps;\n",
              "\n",
              "  const next = steps.next(outputElement.lastPromiseValue);\n",
              "  return Promise.resolve(next.value.promise).then((value) => {\n",
              "    // Cache the last promise value to make it available to the next\n",
              "    // step of the generator.\n",
              "    outputElement.lastPromiseValue = value;\n",
              "    return next.value.response;\n",
              "  });\n",
              "}\n",
              "\n",
              "/**\n",
              " * Generator function which is called between each async step of the upload\n",
              " * process.\n",
              " * @param {string} inputId Element ID of the input file picker element.\n",
              " * @param {string} outputId Element ID of the output display.\n",
              " * @return {!Iterable<!Object>} Iterable of next steps.\n",
              " */\n",
              "function* uploadFilesStep(inputId, outputId) {\n",
              "  const inputElement = document.getElementById(inputId);\n",
              "  inputElement.disabled = false;\n",
              "\n",
              "  const outputElement = document.getElementById(outputId);\n",
              "  outputElement.innerHTML = '';\n",
              "\n",
              "  const pickedPromise = new Promise((resolve) => {\n",
              "    inputElement.addEventListener('change', (e) => {\n",
              "      resolve(e.target.files);\n",
              "    });\n",
              "  });\n",
              "\n",
              "  const cancel = document.createElement('button');\n",
              "  inputElement.parentElement.appendChild(cancel);\n",
              "  cancel.textContent = 'Cancel upload';\n",
              "  const cancelPromise = new Promise((resolve) => {\n",
              "    cancel.onclick = () => {\n",
              "      resolve(null);\n",
              "    };\n",
              "  });\n",
              "\n",
              "  // Wait for the user to pick the files.\n",
              "  const files = yield {\n",
              "    promise: Promise.race([pickedPromise, cancelPromise]),\n",
              "    response: {\n",
              "      action: 'starting',\n",
              "    }\n",
              "  };\n",
              "\n",
              "  cancel.remove();\n",
              "\n",
              "  // Disable the input element since further picks are not allowed.\n",
              "  inputElement.disabled = true;\n",
              "\n",
              "  if (!files) {\n",
              "    return {\n",
              "      response: {\n",
              "        action: 'complete',\n",
              "      }\n",
              "    };\n",
              "  }\n",
              "\n",
              "  for (const file of files) {\n",
              "    const li = document.createElement('li');\n",
              "    li.append(span(file.name, {fontWeight: 'bold'}));\n",
              "    li.append(span(\n",
              "        `(${file.type || 'n/a'}) - ${file.size} bytes, ` +\n",
              "        `last modified: ${\n",
              "            file.lastModifiedDate ? file.lastModifiedDate.toLocaleDateString() :\n",
              "                                    'n/a'} - `));\n",
              "    const percent = span('0% done');\n",
              "    li.appendChild(percent);\n",
              "\n",
              "    outputElement.appendChild(li);\n",
              "\n",
              "    const fileDataPromise = new Promise((resolve) => {\n",
              "      const reader = new FileReader();\n",
              "      reader.onload = (e) => {\n",
              "        resolve(e.target.result);\n",
              "      };\n",
              "      reader.readAsArrayBuffer(file);\n",
              "    });\n",
              "    // Wait for the data to be ready.\n",
              "    let fileData = yield {\n",
              "      promise: fileDataPromise,\n",
              "      response: {\n",
              "        action: 'continue',\n",
              "      }\n",
              "    };\n",
              "\n",
              "    // Use a chunked sending to avoid message size limits. See b/62115660.\n",
              "    let position = 0;\n",
              "    do {\n",
              "      const length = Math.min(fileData.byteLength - position, MAX_PAYLOAD_SIZE);\n",
              "      const chunk = new Uint8Array(fileData, position, length);\n",
              "      position += length;\n",
              "\n",
              "      const base64 = btoa(String.fromCharCode.apply(null, chunk));\n",
              "      yield {\n",
              "        response: {\n",
              "          action: 'append',\n",
              "          file: file.name,\n",
              "          data: base64,\n",
              "        },\n",
              "      };\n",
              "\n",
              "      let percentDone = fileData.byteLength === 0 ?\n",
              "          100 :\n",
              "          Math.round((position / fileData.byteLength) * 100);\n",
              "      percent.textContent = `${percentDone}% done`;\n",
              "\n",
              "    } while (position < fileData.byteLength);\n",
              "  }\n",
              "\n",
              "  // All done.\n",
              "  yield {\n",
              "    response: {\n",
              "      action: 'complete',\n",
              "    }\n",
              "  };\n",
              "}\n",
              "\n",
              "scope.google = scope.google || {};\n",
              "scope.google.colab = scope.google.colab || {};\n",
              "scope.google.colab._files = {\n",
              "  _uploadFiles,\n",
              "  _uploadFilesContinue,\n",
              "};\n",
              "})(self);\n",
              "</script> "
            ]
          },
          "metadata": {}
        },
        {
          "output_type": "stream",
          "name": "stdout",
          "text": [
            "Saving 다운로드.png to 다운로드 (2).png\n",
            "Uploaded file: 다운로드 (2).png\n"
          ]
        },
        {
          "output_type": "display_data",
          "data": {
            "image/png": "[encoded data removed]",
            "text/plain": [
              "<IPython.core.display.Image object>"
            ]
          },
          "metadata": {}
        }
      ]
    },
    {
      "cell_type": "markdown",
      "source": [
        "4D Tensor\n",
        "- 4개의 축\n",
        "- 컬러 이미지 데이터가 대표적인 사례(흑백 이미지 데이터는 3D Tensor로 가능)\n",
        "- 주로 샘플(samples), 높이(height), 너비(width), 컬러 채널(channel)을 가진 구조로 사용"
      ],
      "metadata": {
        "id": "2nFz1_gZ4GrL"
      }
    },
    {
      "cell_type": "code",
      "source": [
        "from google.colab import files\n",
        "from IPython.display import Image\n",
        "\n",
        "uploaded = files.upload()\n",
        "\n",
        "for filename in uploaded.keys():\n",
        "    print(f\"Uploaded file: {filename}\")\n",
        "    display(Image(filename))"
      ],
      "metadata": {
        "colab": {
          "base_uri": "https://localhost:8080/",
          "height": 323
        },
        "id": "5Obmfaar35hR",
        "outputId": "0398ec21-e2e2-4b63-cf11-0644eb2ee5ef"
      },
      "execution_count": 85,
      "outputs": [
        {
          "output_type": "display_data",
          "data": {
            "text/plain": [
              "<IPython.core.display.HTML object>"
            ],
            "text/html": [
              "\n",
              "     <input type=\"file\" id=\"files-08300b4b-0544-4db0-9074-86213858de64\" name=\"files[]\" multiple disabled\n",
              "        style=\"border:none\" />\n",
              "     <output id=\"result-08300b4b-0544-4db0-9074-86213858de64\">\n",
              "      Upload widget is only available when the cell has been executed in the\n",
              "      current browser session. Please rerun this cell to enable.\n",
              "      </output>\n",
              "      <script>// Copyright 2017 Google LLC\n",
              "//\n",
              "// Licensed under the Apache License, Version 2.0 (the \"License\");\n",
              "// you may not use this file except in compliance with the License.\n",
              "// You may obtain a copy of the License at\n",
              "//\n",
              "//      http://www.apache.org/licenses/LICENSE-2.0\n",
              "//\n",
              "// Unless required by applicable law or agreed to in writing, software\n",
              "// distributed under the License is distributed on an \"AS IS\" BASIS,\n",
              "// WITHOUT WARRANTIES OR CONDITIONS OF ANY KIND, either express or implied.\n",
              "// See the License for the specific language governing permissions and\n",
              "// limitations under the License.\n",
              "\n",
              "/**\n",
              " * @fileoverview Helpers for google.colab Python module.\n",
              " */\n",
              "(function(scope) {\n",
              "function span(text, styleAttributes = {}) {\n",
              "  const element = document.createElement('span');\n",
              "  element.textContent = text;\n",
              "  for (const key of Object.keys(styleAttributes)) {\n",
              "    element.style[key] = styleAttributes[key];\n",
              "  }\n",
              "  return element;\n",
              "}\n",
              "\n",
              "// Max number of bytes which will be uploaded at a time.\n",
              "const MAX_PAYLOAD_SIZE = 100 * 1024;\n",
              "\n",
              "function _uploadFiles(inputId, outputId) {\n",
              "  const steps = uploadFilesStep(inputId, outputId);\n",
              "  const outputElement = document.getElementById(outputId);\n",
              "  // Cache steps on the outputElement to make it available for the next call\n",
              "  // to uploadFilesContinue from Python.\n",
              "  outputElement.steps = steps;\n",
              "\n",
              "  return _uploadFilesContinue(outputId);\n",
              "}\n",
              "\n",
              "// This is roughly an async generator (not supported in the browser yet),\n",
              "// where there are multiple asynchronous steps and the Python side is going\n",
              "// to poll for completion of each step.\n",
              "// This uses a Promise to block the python side on completion of each step,\n",
              "// then passes the result of the previous step as the input to the next step.\n",
              "function _uploadFilesContinue(outputId) {\n",
              "  const outputElement = document.getElementById(outputId);\n",
              "  const steps = outputElement.steps;\n",
              "\n",
              "  const next = steps.next(outputElement.lastPromiseValue);\n",
              "  return Promise.resolve(next.value.promise).then((value) => {\n",
              "    // Cache the last promise value to make it available to the next\n",
              "    // step of the generator.\n",
              "    outputElement.lastPromiseValue = value;\n",
              "    return next.value.response;\n",
              "  });\n",
              "}\n",
              "\n",
              "/**\n",
              " * Generator function which is called between each async step of the upload\n",
              " * process.\n",
              " * @param {string} inputId Element ID of the input file picker element.\n",
              " * @param {string} outputId Element ID of the output display.\n",
              " * @return {!Iterable<!Object>} Iterable of next steps.\n",
              " */\n",
              "function* uploadFilesStep(inputId, outputId) {\n",
              "  const inputElement = document.getElementById(inputId);\n",
              "  inputElement.disabled = false;\n",
              "\n",
              "  const outputElement = document.getElementById(outputId);\n",
              "  outputElement.innerHTML = '';\n",
              "\n",
              "  const pickedPromise = new Promise((resolve) => {\n",
              "    inputElement.addEventListener('change', (e) => {\n",
              "      resolve(e.target.files);\n",
              "    });\n",
              "  });\n",
              "\n",
              "  const cancel = document.createElement('button');\n",
              "  inputElement.parentElement.appendChild(cancel);\n",
              "  cancel.textContent = 'Cancel upload';\n",
              "  const cancelPromise = new Promise((resolve) => {\n",
              "    cancel.onclick = () => {\n",
              "      resolve(null);\n",
              "    };\n",
              "  });\n",
              "\n",
              "  // Wait for the user to pick the files.\n",
              "  const files = yield {\n",
              "    promise: Promise.race([pickedPromise, cancelPromise]),\n",
              "    response: {\n",
              "      action: 'starting',\n",
              "    }\n",
              "  };\n",
              "\n",
              "  cancel.remove();\n",
              "\n",
              "  // Disable the input element since further picks are not allowed.\n",
              "  inputElement.disabled = true;\n",
              "\n",
              "  if (!files) {\n",
              "    return {\n",
              "      response: {\n",
              "        action: 'complete',\n",
              "      }\n",
              "    };\n",
              "  }\n",
              "\n",
              "  for (const file of files) {\n",
              "    const li = document.createElement('li');\n",
              "    li.append(span(file.name, {fontWeight: 'bold'}));\n",
              "    li.append(span(\n",
              "        `(${file.type || 'n/a'}) - ${file.size} bytes, ` +\n",
              "        `last modified: ${\n",
              "            file.lastModifiedDate ? file.lastModifiedDate.toLocaleDateString() :\n",
              "                                    'n/a'} - `));\n",
              "    const percent = span('0% done');\n",
              "    li.appendChild(percent);\n",
              "\n",
              "    outputElement.appendChild(li);\n",
              "\n",
              "    const fileDataPromise = new Promise((resolve) => {\n",
              "      const reader = new FileReader();\n",
              "      reader.onload = (e) => {\n",
              "        resolve(e.target.result);\n",
              "      };\n",
              "      reader.readAsArrayBuffer(file);\n",
              "    });\n",
              "    // Wait for the data to be ready.\n",
              "    let fileData = yield {\n",
              "      promise: fileDataPromise,\n",
              "      response: {\n",
              "        action: 'continue',\n",
              "      }\n",
              "    };\n",
              "\n",
              "    // Use a chunked sending to avoid message size limits. See b/62115660.\n",
              "    let position = 0;\n",
              "    do {\n",
              "      const length = Math.min(fileData.byteLength - position, MAX_PAYLOAD_SIZE);\n",
              "      const chunk = new Uint8Array(fileData, position, length);\n",
              "      position += length;\n",
              "\n",
              "      const base64 = btoa(String.fromCharCode.apply(null, chunk));\n",
              "      yield {\n",
              "        response: {\n",
              "          action: 'append',\n",
              "          file: file.name,\n",
              "          data: base64,\n",
              "        },\n",
              "      };\n",
              "\n",
              "      let percentDone = fileData.byteLength === 0 ?\n",
              "          100 :\n",
              "          Math.round((position / fileData.byteLength) * 100);\n",
              "      percent.textContent = `${percentDone}% done`;\n",
              "\n",
              "    } while (position < fileData.byteLength);\n",
              "  }\n",
              "\n",
              "  // All done.\n",
              "  yield {\n",
              "    response: {\n",
              "      action: 'complete',\n",
              "    }\n",
              "  };\n",
              "}\n",
              "\n",
              "scope.google = scope.google || {};\n",
              "scope.google.colab = scope.google.colab || {};\n",
              "scope.google.colab._files = {\n",
              "  _uploadFiles,\n",
              "  _uploadFilesContinue,\n",
              "};\n",
              "})(self);\n",
              "</script> "
            ]
          },
          "metadata": {}
        },
        {
          "output_type": "stream",
          "name": "stdout",
          "text": [
            "Saving 다운로드.png to 다운로드 (3).png\n",
            "Uploaded file: 다운로드 (3).png\n"
          ]
        },
        {
          "output_type": "display_data",
          "data": {
            "image/png": "[encoded data removed]",
            "text/plain": [
              "<IPython.core.display.Image object>"
            ]
          },
          "metadata": {}
        }
      ]
    },
    {
      "cell_type": "markdown",
      "source": [
        "5D Tensor\n",
        "- 5개의 축\n",
        "- 비디오 데이터가 대표적인 사례\n",
        "- 주로 샘플(samples), 프레임(frames),높이(height), 너비(width), 컬러 채널(channel)을 가진 구조로 사용"
      ],
      "metadata": {
        "id": "14RKj-k74hlx"
      }
    },
    {
      "cell_type": "markdown",
      "source": [
        "### 텐서의 연산(Operations)\n",
        "- 텐서에 대한 수학 연산, 삼각함수, 비트연산, 비교연산, 집계 등 제공"
      ],
      "metadata": {
        "id": "KWOXhldoNlm5"
      }
    },
    {
      "cell_type": "code",
      "source": [
        "# http://aigong.tistory.com/178\n",
        "\n",
        "import math\n",
        "a = torch.randn(1,2) * 2 - 1 # 가우시안 표준정규 분포\n",
        "\n",
        "print(a)\n",
        "print(torch.abs(a))\n",
        "print(torch.ceil(a))\n",
        "print(torch.floor(a))\n",
        "print(torch.clamp(a, -0.5,0.5))\n",
        "\n",
        "# torch.clamp함수는 주어진 텐서의 각 원소를 주어진 범위 (min과 max)로 제한하는 함수\n",
        "# 입력 값이 min < x(input) < max이면 x가 그대로 나오지만\n",
        "# min보다 작으면 min값이 , max보다 크면 max값이 나오는 구조"
      ],
      "metadata": {
        "colab": {
          "base_uri": "https://localhost:8080/"
        },
        "id": "PiSz4mKjNlpM",
        "outputId": "c7645be9-2c81-43b0-e93a-122eb63faf05"
      },
      "execution_count": 28,
      "outputs": [
        {
          "output_type": "stream",
          "name": "stdout",
          "text": [
            "tensor([[-0.8080,  1.4614]])\n",
            "tensor([[0.8080, 1.4614]])\n",
            "tensor([[-0., 2.]])\n",
            "tensor([[-1.,  1.]])\n",
            "tensor([[-0.5000,  0.5000]])\n"
          ]
        }
      ]
    },
    {
      "cell_type": "code",
      "source": [
        "b = torch.randn(1,5) * 3 - 2\n",
        "print(b)\n",
        "print(torch.abs(b)) # 절대값\n",
        "print(torch.ceil(b)) #천장에 있는 값\n",
        "print(torch.floor(b)) #바닥에 있는 값\n",
        "print(torch.clamp(b, -5, 5)) # b의 값 중에서 -5와 5 사이에 있는 값."
      ],
      "metadata": {
        "colab": {
          "base_uri": "https://localhost:8080/"
        },
        "id": "G2rqVqa4ddbL",
        "outputId": "26c7acd3-6971-44d5-ae1a-78404d285348"
      },
      "execution_count": 29,
      "outputs": [
        {
          "output_type": "stream",
          "name": "stdout",
          "text": [
            "tensor([[-1.1432, -3.5803, -5.9626, -2.9477, -1.7258]])\n",
            "tensor([[1.1432, 3.5803, 5.9626, 2.9477, 1.7258]])\n",
            "tensor([[-1., -3., -5., -2., -1.]])\n",
            "tensor([[-2., -4., -6., -3., -2.]])\n",
            "tensor([[-1.1432, -3.5803, -5.0000, -2.9477, -1.7258]])\n"
          ]
        }
      ]
    },
    {
      "cell_type": "code",
      "source": [
        "print(a)\n",
        "print(torch.min(a))\n",
        "print(torch.max(a))\n",
        "print(torch.mean(a))\n",
        "print(torch.std(a))\n",
        "print(torch.prod(a)) # 텐서 a의 모든 요소를 곱한 값을 출력\n",
        "print(torch.unique(torch.tensor([1,2,3,1,2,1])))\n",
        "\n"
      ],
      "metadata": {
        "colab": {
          "base_uri": "https://localhost:8080/"
        },
        "id": "cQvAhanAd97L",
        "outputId": "c20f14f4-eb60-407d-c141-cd4e7e3a72c3"
      },
      "execution_count": 30,
      "outputs": [
        {
          "output_type": "stream",
          "name": "stdout",
          "text": [
            "tensor([[-0.8080,  1.4614]])\n",
            "tensor(-0.8080)\n",
            "tensor(1.4614)\n",
            "tensor(0.3267)\n",
            "tensor(1.6047)\n",
            "tensor(-1.1808)\n",
            "tensor([1, 2, 3])\n"
          ]
        }
      ]
    },
    {
      "cell_type": "markdown",
      "source": [
        "max 와 min은 dim 인자를 줄 경우 argmax와 argmin도 함께 리턴\n",
        "- argmax : 최대값을 가진 인덱스\n",
        "- argmin : 최소값을 가진 인덱스"
      ],
      "metadata": {
        "id": "dpS-XJ2Jeo6T"
      }
    },
    {
      "cell_type": "code",
      "source": [
        "x = torch.rand(2,2) #균등분포\n",
        "print(x,'\\n')\n",
        "print(x.max(dim=0),'\\n') # 행방향으로 비교했을 때의 최대값\n",
        "print(x.max(dim=1)) #열방향으로 비교했을 때의 최대값"
      ],
      "metadata": {
        "colab": {
          "base_uri": "https://localhost:8080/"
        },
        "id": "rS1lZ48wda76",
        "outputId": "c76646f5-308e-4d86-ef50-32bf8e5083fd"
      },
      "execution_count": 32,
      "outputs": [
        {
          "output_type": "stream",
          "name": "stdout",
          "text": [
            "tensor([[0.4182, 0.5994],\n",
            "        [0.9840, 0.6195]]) \n",
            "\n",
            "torch.return_types.max(\n",
            "values=tensor([0.9840, 0.6195]),\n",
            "indices=tensor([1, 1])) \n",
            "\n",
            "torch.return_types.max(\n",
            "values=tensor([0.5994, 0.9840]),\n",
            "indices=tensor([1, 0]))\n"
          ]
        }
      ]
    },
    {
      "cell_type": "code",
      "source": [
        "x = torch.rand(2,2)\n",
        "print(x,'\\n')\n",
        "print(x.min(dim=0),'\\n') # 행방향으로 비교했을 때의 최소값\n",
        "print(x.min(dim=1)) #열방향으로 비교했을 때의 최소값"
      ],
      "metadata": {
        "colab": {
          "base_uri": "https://localhost:8080/"
        },
        "id": "hTzOD-w-faNF",
        "outputId": "b4f615f5-6999-4e14-b54d-1d0ad38e6902"
      },
      "execution_count": 34,
      "outputs": [
        {
          "output_type": "stream",
          "name": "stdout",
          "text": [
            "tensor([[0.1498, 0.3607],\n",
            "        [0.9625, 0.6568]]) \n",
            "\n",
            "torch.return_types.min(\n",
            "values=tensor([0.1498, 0.3607]),\n",
            "indices=tensor([0, 0])) \n",
            "\n",
            "torch.return_types.min(\n",
            "values=tensor([0.1498, 0.6568]),\n",
            "indices=tensor([0, 1]))\n"
          ]
        }
      ]
    },
    {
      "cell_type": "code",
      "source": [
        " x = torch.rand(2,2)# 무작위로 생성된 행렬을 반환\n",
        " print(x)\n",
        " y = torch.rand(2,2)\n",
        " print(y)"
      ],
      "metadata": {
        "colab": {
          "base_uri": "https://localhost:8080/"
        },
        "id": "uhniVKf9gN60",
        "outputId": "27c2262e-92e0-49ed-f12a-0c7920d64fe0"
      },
      "execution_count": 86,
      "outputs": [
        {
          "output_type": "stream",
          "name": "stdout",
          "text": [
            "tensor([[0.1303, 0.9025],\n",
            "        [0.2066, 0.9095]])\n",
            "tensor([[0.1426, 0.3463],\n",
            "        [0.8463, 0.6549]])\n"
          ]
        }
      ]
    },
    {
      "cell_type": "markdown",
      "source": [
        "torch.add = 덧셈"
      ],
      "metadata": {
        "id": "YO9FzTsVggkz"
      }
    },
    {
      "cell_type": "code",
      "source": [
        "print(x+y,'\\n')\n",
        "print(torch.add(x,y))"
      ],
      "metadata": {
        "colab": {
          "base_uri": "https://localhost:8080/"
        },
        "id": "Adro6CI3gLLE",
        "outputId": "9666609d-b215-4387-fed3-8d020cb06bab"
      },
      "execution_count": 87,
      "outputs": [
        {
          "output_type": "stream",
          "name": "stdout",
          "text": [
            "tensor([[0.2729, 1.2489],\n",
            "        [1.0529, 1.5644]]) \n",
            "\n",
            "tensor([[0.2729, 1.2489],\n",
            "        [1.0529, 1.5644]])\n"
          ]
        }
      ]
    },
    {
      "cell_type": "markdown",
      "source": [
        "결과 텐서를 인자로 제공"
      ],
      "metadata": {
        "id": "dS_ykftUgtWj"
      }
    },
    {
      "cell_type": "code",
      "source": [
        "result = torch.empty(2,4)\n",
        "torch.add(x,y, out = result)\n",
        "print(result)"
      ],
      "metadata": {
        "colab": {
          "base_uri": "https://localhost:8080/"
        },
        "id": "EhkGQABdgq_r",
        "outputId": "0813dd96-a72e-46f9-e670-412471da1ad1"
      },
      "execution_count": 88,
      "outputs": [
        {
          "output_type": "stream",
          "name": "stdout",
          "text": [
            "tensor([[0.2729, 1.2489],\n",
            "        [1.0529, 1.5644]])\n"
          ]
        },
        {
          "output_type": "stream",
          "name": "stderr",
          "text": [
            "<ipython-input-88-211239dfa68e>:2: UserWarning: An output with one or more elements was resized since it had shape [2, 4], which does not match the required output shape [2, 2]. This behavior is deprecated, and in a future PyTorch release outputs will not be resized unless they have zero elements. You can explicitly reuse an out tensor t by resizing it, inplace, to zero elements with t.resize_(0). (Triggered internally at ../aten/src/ATen/native/Resize.cpp:26.)\n",
            "  torch.add(x,y, out = result)\n"
          ]
        }
      ]
    },
    {
      "cell_type": "markdown",
      "source": [
        "`in-place` 방식\n",
        "  - in-place방식으로 텐서의 값을 변경하는 연산 뒤에는 _''가 붙음\n",
        "  - `x.copy_(y), x.t_()`"
      ],
      "metadata": {
        "id": "FFbuPZ89g7lD"
      }
    },
    {
      "cell_type": "code",
      "source": [
        "print(x)\n",
        "print(y)\n",
        "print()\n",
        "y.add_(x) # _가 있는 add_는 메서드가 y자체를 변경한다는 의미이며 y의 값이 변경\n",
        "print(y)"
      ],
      "metadata": {
        "colab": {
          "base_uri": "https://localhost:8080/"
        },
        "id": "QbnnJCoadYUC",
        "outputId": "7fd3e8f6-e9b8-4933-f3c5-51bb244d1193"
      },
      "execution_count": 89,
      "outputs": [
        {
          "output_type": "stream",
          "name": "stdout",
          "text": [
            "tensor([[0.1303, 0.9025],\n",
            "        [0.2066, 0.9095]])\n",
            "tensor([[0.1426, 0.3463],\n",
            "        [0.8463, 0.6549]])\n",
            "\n",
            "tensor([[0.2729, 1.2489],\n",
            "        [1.0529, 1.5644]])\n"
          ]
        }
      ]
    },
    {
      "cell_type": "markdown",
      "source": [
        "torch.sub : 뺄셈"
      ],
      "metadata": {
        "id": "I5Xz5BcFhmKc"
      }
    },
    {
      "cell_type": "code",
      "source": [
        "print(x,'\\n')\n",
        "print(y,'\\n')\n",
        "print(x-y,'\\n')\n",
        "x.sub_(y)\n",
        "print(x,'\\n')\n",
        "print(torch.sub(x,y),'\\n')\n",
        "print(x.sub(y))\n"
      ],
      "metadata": {
        "colab": {
          "base_uri": "https://localhost:8080/"
        },
        "id": "3gd1IDJMNlrZ",
        "outputId": "d5fbae26-b0f3-4755-88dc-314e913c5486"
      },
      "execution_count": 90,
      "outputs": [
        {
          "output_type": "stream",
          "name": "stdout",
          "text": [
            "tensor([[0.1303, 0.9025],\n",
            "        [0.2066, 0.9095]]) \n",
            "\n",
            "tensor([[0.2729, 1.2489],\n",
            "        [1.0529, 1.5644]]) \n",
            "\n",
            "tensor([[-0.1426, -0.3463],\n",
            "        [-0.8463, -0.6549]]) \n",
            "\n",
            "tensor([[-0.1426, -0.3463],\n",
            "        [-0.8463, -0.6549]]) \n",
            "\n",
            "tensor([[-0.4154, -1.5952],\n",
            "        [-1.8992, -2.2193]]) \n",
            "\n",
            "tensor([[-0.4154, -1.5952],\n",
            "        [-1.8992, -2.2193]])\n"
          ]
        }
      ]
    },
    {
      "cell_type": "markdown",
      "source": [
        "torch.mul : 곱셈"
      ],
      "metadata": {
        "id": "5ukTZ95AiqOQ"
      }
    },
    {
      "cell_type": "code",
      "source": [
        "print(x,'\\n')\n",
        "print(y,'\\n')\n",
        "print(x*y,'\\n')\n",
        "x.mul_(y) # y를 x에 곱해서 업데이트\n",
        "print(x,'\\n')\n",
        "print(torch.mul(x,y),'\\n')\n",
        "print(x.mul(y))"
      ],
      "metadata": {
        "colab": {
          "base_uri": "https://localhost:8080/"
        },
        "id": "pmvppG-ciivZ",
        "outputId": "7bd1e8b0-caa8-47da-d801-02e82065a2ee"
      },
      "execution_count": 91,
      "outputs": [
        {
          "output_type": "stream",
          "name": "stdout",
          "text": [
            "tensor([[-0.1426, -0.3463],\n",
            "        [-0.8463, -0.6549]]) \n",
            "\n",
            "tensor([[0.2729, 1.2489],\n",
            "        [1.0529, 1.5644]]) \n",
            "\n",
            "tensor([[-0.0389, -0.4325],\n",
            "        [-0.8910, -1.0245]]) \n",
            "\n",
            "tensor([[-0.0389, -0.4325],\n",
            "        [-0.8910, -1.0245]]) \n",
            "\n",
            "tensor([[-0.0106, -0.5402],\n",
            "        [-0.9382, -1.6028]]) \n",
            "\n",
            "tensor([[-0.0106, -0.5402],\n",
            "        [-0.9382, -1.6028]])\n"
          ]
        }
      ]
    },
    {
      "cell_type": "code",
      "source": [],
      "metadata": {
        "id": "q6p8F4GMljV0"
      },
      "execution_count": null,
      "outputs": []
    },
    {
      "cell_type": "markdown",
      "source": [
        "torch.div : 나눗셈"
      ],
      "metadata": {
        "id": "0VPGC4m7lRrd"
      }
    },
    {
      "cell_type": "code",
      "source": [
        "print(x,'\\n')\n",
        "print(y,'\\n')\n",
        "print(x/y,'\\n')\n",
        "x.div_(y) # y를 x에 곱해서 업데이트\n",
        "print(x,'\\n')\n",
        "print(torch.div(x,y),'\\n')\n",
        "print(x.div(y))"
      ],
      "metadata": {
        "colab": {
          "base_uri": "https://localhost:8080/"
        },
        "id": "oN9kis0SNlth",
        "outputId": "b36024ec-32b0-457b-86ab-6459d24f5bfc"
      },
      "execution_count": 92,
      "outputs": [
        {
          "output_type": "stream",
          "name": "stdout",
          "text": [
            "tensor([[-0.0389, -0.4325],\n",
            "        [-0.8910, -1.0245]]) \n",
            "\n",
            "tensor([[0.2729, 1.2489],\n",
            "        [1.0529, 1.5644]]) \n",
            "\n",
            "tensor([[-0.1426, -0.3463],\n",
            "        [-0.8463, -0.6549]]) \n",
            "\n",
            "tensor([[-0.1426, -0.3463],\n",
            "        [-0.8463, -0.6549]]) \n",
            "\n",
            "tensor([[-0.5226, -0.2773],\n",
            "        [-0.8037, -0.4186]]) \n",
            "\n",
            "tensor([[-0.5226, -0.2773],\n",
            "        [-0.8037, -0.4186]])\n"
          ]
        }
      ]
    },
    {
      "cell_type": "markdown",
      "source": [
        "torch.mm : 내적(dot product)"
      ],
      "metadata": {
        "id": "K5afKOPelq2N"
      }
    },
    {
      "cell_type": "markdown",
      "source": [
        "torch.svd(z)는 변수 z의 특이값 분해를 출력.\n",
        "- 특이값 분해는 행렬을 세 개의 행렬로 분해하는 기법으로, A = UΣVT 형태로 분해. U, Σ, V는 각각 특이벡터(U), 대각행렬(Σ), 전치된 특이벡터(VT)\n",
        "\n",
        "- 이 코드는 주어진 행렬 x와 y를 곱하고, 곱한 결과 행렬 z에 대해 특이값 분해를 수행하여 특이값, 특이벡터, 그리고 전치된 특이벡터를 출력. 특이값 분해는 다양한 응용 분야에서 사용되는 중요한 행렬 분해 기법."
      ],
      "metadata": {
        "id": "ZjJ_WroYl5_7"
      }
    },
    {
      "cell_type": "code",
      "source": [
        "print(x,'\\n')\n",
        "print(y,'\\n')\n",
        "print(torch.matmul(x,y),'\\n')\n",
        "z = torch.mm(x,y)\n",
        "print(z,'\\n')\n",
        "\n",
        "print(torch.svd(z)) #singular value decomposition A = U sigma VT"
      ],
      "metadata": {
        "colab": {
          "base_uri": "https://localhost:8080/"
        },
        "id": "6-Y_5B7Alpyk",
        "outputId": "4433e833-298b-4c55-f90e-868f313be9ba"
      },
      "execution_count": 93,
      "outputs": [
        {
          "output_type": "stream",
          "name": "stdout",
          "text": [
            "tensor([[-0.1426, -0.3463],\n",
            "        [-0.8463, -0.6549]]) \n",
            "\n",
            "tensor([[0.2729, 1.2489],\n",
            "        [1.0529, 1.5644]]) \n",
            "\n",
            "tensor([[-0.4036, -0.7199],\n",
            "        [-0.9204, -2.0814]]) \n",
            "\n",
            "tensor([[-0.4036, -0.7199],\n",
            "        [-0.9204, -2.0814]]) \n",
            "\n",
            "torch.return_types.svd(\n",
            "U=tensor([[-0.3399, -0.9405],\n",
            "        [-0.9405,  0.3399]]),\n",
            "S=tensor([2.4197, 0.0733]),\n",
            "V=tensor([[ 0.4144,  0.9101],\n",
            "        [ 0.9101, -0.4144]]))\n"
          ]
        }
      ]
    },
    {
      "cell_type": "markdown",
      "source": [
        "## 텐서의 조작(Manipulations)\n",
        "인덱싱(Indexing): NumPy처럼 인덱싱 형태로 사용가능"
      ],
      "metadata": {
        "id": "d7k21ZDkmMy2"
      }
    },
    {
      "cell_type": "code",
      "source": [
        "import torch\n",
        "x = torch.Tensor([[1,2],[3,4]])\n",
        "print(x)\n",
        "\n",
        "print(x[0,0])\n",
        "print(x[0,1])\n",
        "print(x[1,0])\n",
        "print(x[1,1])\n",
        "print(x[:,0])\n",
        "print(x[:,1])\n",
        "print(x[0,:])\n",
        "print(x[1,:])"
      ],
      "metadata": {
        "colab": {
          "base_uri": "https://localhost:8080/"
        },
        "id": "aNJtOQUCloL1",
        "outputId": "7323557f-1e77-4640-e387-11e71a2db561"
      },
      "execution_count": 97,
      "outputs": [
        {
          "output_type": "stream",
          "name": "stdout",
          "text": [
            "tensor([[1., 2.],\n",
            "        [3., 4.]])\n",
            "tensor(1.)\n",
            "tensor(2.)\n",
            "tensor(3.)\n",
            "tensor(4.)\n",
            "tensor([1., 3.])\n",
            "tensor([2., 4.])\n",
            "tensor([1., 2.])\n",
            "tensor([3., 4.])\n"
          ]
        }
      ]
    },
    {
      "cell_type": "markdown",
      "source": [
        "https://bigdatadiary0819.tistory.com/60\n",
        "\n",
        "º 랜덤한 값을 가지는 텐서 생성\n",
        "\n",
        "1. torch.rand() : 0과 1 사이의 숫자를 균등하게 생성\n",
        "\n",
        "2. torch.rand_like() : 사이즈를 튜플로 입력하지 않고 기존의 텐서로 정의\n",
        "\n",
        "3. torch.randn() : 평균이 0이고 표준편차가 1인 가우시안 정규분포를 이용해 생성\n",
        "\n",
        "4. torch.randn_like() :  사이즈를 튜플로 입력하지 않고 기존의 텐서로 정의\n",
        "\n",
        "5. torch.randint() : 주어진 범위 내의 정수를 균등하게 생성\n",
        "\n",
        "6. torch.randint_like() : 사이즈를 튜플로 입력하지 않고 기존의 텐서로 정의\n",
        "\n",
        "7. torch.randperm() : 주어진 범위 내의 정수를 랜덤하게 생성\n",
        "\n",
        "º 특정한 값을 가지는 텐서 생성\n",
        "\n",
        "1. torch.arange() : 주어진 범위 내의 정수를 순서대로 생성\n",
        "\n",
        "2. torch.ones() : 주어진 사이즈의 1로 이루어진 텐서 생성\n",
        "\n",
        "3. torch.zeros() : 주어진 사이즈의 0으로 이루어진 텐서 생성\n",
        "\n",
        "4. torch.ones_like() : 사이즈를 튜플로 입력하지 않고 기존의 텐서로 정의\n",
        "\n",
        "5. torch.zeros_like() : 사이즈를 튜플로 입력하지 않고 기존의 텐서로 정의\n",
        "\n",
        "6. torch.linspace() : 시작점과 끝점을 주어진 갯수만큼 균등하게 나눈 간격점을 행벡터로 출력\n",
        "\n",
        "7. torch.logspace() : 시작점과 끝점을 주어진 갯수만큼 로그간격으로 나눈 간격점을 행벡터로 출력"
      ],
      "metadata": {
        "id": "6QtnDrj4lm6k"
      }
    },
    {
      "cell_type": "markdown",
      "source": [
        "view: 텐서의 크기(size)나 모양(shape)을 변경\n",
        "\n",
        "- 기본적으로 변경 전과 후에 텐서 안의 원소 개수가 유지되어야 함\n",
        "- -1로 설정되면 계산을 통해 해당 크기값을 유추"
      ],
      "metadata": {
        "id": "CUAHuSR9ledN"
      }
    },
    {
      "cell_type": "code",
      "source": [
        "x = torch.randn(4,5)\n",
        "print(x)\n",
        "print()\n",
        "y = x.view(20) # view()함수는 텐서의 크기를 결정\n",
        "print(y)\n",
        "\n",
        "z = x.view(5,-1)\n",
        "print(z)"
      ],
      "metadata": {
        "colab": {
          "base_uri": "https://localhost:8080/"
        },
        "id": "VOLsWe9jpNFX",
        "outputId": "e2b7583d-bf45-4a63-8a04-05a8e967fb85"
      },
      "execution_count": 66,
      "outputs": [
        {
          "output_type": "stream",
          "name": "stdout",
          "text": [
            "tensor([[ 6.2312e-01,  1.0573e-01,  1.0459e+00,  9.1470e-01, -8.6739e-01],\n",
            "        [ 2.4217e-02,  9.3269e-01,  9.9667e-01,  4.3529e-01, -1.1528e+00],\n",
            "        [ 1.1436e+00, -2.6266e+00, -3.4972e-01,  4.6171e-01, -1.1907e+00],\n",
            "        [-9.9975e-04,  1.0857e+00, -5.3888e-02,  5.5639e-01, -8.6267e-02]])\n",
            "\n",
            "tensor([ 6.2312e-01,  1.0573e-01,  1.0459e+00,  9.1470e-01, -8.6739e-01,\n",
            "         2.4217e-02,  9.3269e-01,  9.9667e-01,  4.3529e-01, -1.1528e+00,\n",
            "         1.1436e+00, -2.6266e+00, -3.4972e-01,  4.6171e-01, -1.1907e+00,\n",
            "        -9.9975e-04,  1.0857e+00, -5.3888e-02,  5.5639e-01, -8.6267e-02])\n",
            "tensor([[ 6.2312e-01,  1.0573e-01,  1.0459e+00,  9.1470e-01],\n",
            "        [-8.6739e-01,  2.4217e-02,  9.3269e-01,  9.9667e-01],\n",
            "        [ 4.3529e-01, -1.1528e+00,  1.1436e+00, -2.6266e+00],\n",
            "        [-3.4972e-01,  4.6171e-01, -1.1907e+00, -9.9975e-04],\n",
            "        [ 1.0857e+00, -5.3888e-02,  5.5639e-01, -8.6267e-02]])\n"
          ]
        }
      ]
    },
    {
      "cell_type": "code",
      "source": [
        "import torch\n",
        "x = torch.randn(4,5)\n",
        "print(x)\n",
        "print(x.shape)\n",
        "print(x.size())"
      ],
      "metadata": {
        "colab": {
          "base_uri": "https://localhost:8080/"
        },
        "id": "eYvK51DzpDFx",
        "outputId": "0a98ba66-d18e-4c3c-a9fe-3ebb155c4536"
      },
      "execution_count": 62,
      "outputs": [
        {
          "output_type": "stream",
          "name": "stdout",
          "text": [
            "tensor([[-0.4326,  0.3468,  0.3168, -1.8861, -0.0935],\n",
            "        [-0.9661,  0.5288, -0.6039,  0.4041,  0.4055],\n",
            "        [-1.8000,  0.3203,  1.0386,  0.3891, -0.9815],\n",
            "        [ 0.5076, -0.4037, -0.3280,  0.9431,  0.0255]])\n",
            "torch.Size([4, 5])\n",
            "torch.Size([4, 5])\n"
          ]
        }
      ]
    },
    {
      "cell_type": "markdown",
      "source": [
        "item: 텐서에 값이 단 하나라도 존재하면 숫자값을 얻을 수 잇음.\n",
        "+ 스칼라 값이 하나만 존재해야 사용 가능"
      ],
      "metadata": {
        "id": "YZSVM0ynqOuX"
      }
    },
    {
      "cell_type": "code",
      "source": [
        "x = torch.randn(1)\n",
        "print(x)\n",
        "print(x.item()) # 텐서의 값을 파이썬의 숫자로 변환하며 텐서에서 값을 추출\n",
        "print(x.dtype)"
      ],
      "metadata": {
        "colab": {
          "base_uri": "https://localhost:8080/"
        },
        "id": "hs__HiCPqLD2",
        "outputId": "19b8f19d-1e75-4325-9aff-063cf40a1787"
      },
      "execution_count": 98,
      "outputs": [
        {
          "output_type": "stream",
          "name": "stdout",
          "text": [
            "tensor([-0.3834])\n",
            "-0.38342341780662537\n",
            "torch.float32\n"
          ]
        }
      ]
    },
    {
      "cell_type": "markdown",
      "source": [
        "squeesze : 차원을 축소(제거)"
      ],
      "metadata": {
        "id": "ezxEcZ05qxWn"
      }
    },
    {
      "cell_type": "code",
      "source": [
        "tensor = torch.rand(1,3,3)\n",
        "print(tensor)\n",
        "print(tensor.shape)"
      ],
      "metadata": {
        "colab": {
          "base_uri": "https://localhost:8080/"
        },
        "id": "7y8Z4NOEqIIl",
        "outputId": "da9b48e3-7ee8-4768-8ad3-b0d9902cf42e"
      },
      "execution_count": 68,
      "outputs": [
        {
          "output_type": "stream",
          "name": "stdout",
          "text": [
            "tensor([[[0.2492, 0.6255, 0.2896],\n",
            "         [0.6661, 0.5473, 0.1868],\n",
            "         [0.9380, 0.5207, 0.9642]]])\n",
            "torch.Size([1, 3, 3])\n"
          ]
        }
      ]
    },
    {
      "cell_type": "code",
      "source": [
        "t = tensor.squeeze()\n",
        "print(t)\n",
        "print(t.shape) #3 차원이 2차원으로 축소됨"
      ],
      "metadata": {
        "colab": {
          "base_uri": "https://localhost:8080/"
        },
        "id": "M2JB49torIA_",
        "outputId": "19afdc69-eedb-4f95-8b9f-12cd5a2bfd1e"
      },
      "execution_count": 69,
      "outputs": [
        {
          "output_type": "stream",
          "name": "stdout",
          "text": [
            "tensor([[0.2492, 0.6255, 0.2896],\n",
            "        [0.6661, 0.5473, 0.1868],\n",
            "        [0.9380, 0.5207, 0.9642]])\n",
            "torch.Size([3, 3])\n"
          ]
        }
      ]
    },
    {
      "cell_type": "markdown",
      "source": [
        "unsqueeze : 차원을 증가(생성)"
      ],
      "metadata": {
        "id": "x6ez4ur-sBuw"
      }
    },
    {
      "cell_type": "code",
      "source": [
        "t = torch.rand(3,3)\n",
        "print(t)\n",
        "print(t.shape)\n",
        ""
      ],
      "metadata": {
        "colab": {
          "base_uri": "https://localhost:8080/"
        },
        "id": "bPWNmC83rYPG",
        "outputId": "aeac5af3-6380-438b-82da-29e40808068f"
      },
      "execution_count": 99,
      "outputs": [
        {
          "output_type": "stream",
          "name": "stdout",
          "text": [
            "tensor([[0.7026, 0.6950, 0.8151],\n",
            "        [0.7888, 0.6553, 0.2745],\n",
            "        [0.7389, 0.5098, 0.0602]])\n",
            "torch.Size([3, 3])\n"
          ]
        }
      ]
    },
    {
      "cell_type": "code",
      "source": [
        "\n",
        "tensor = t.unsqueeze(dim=0)\n",
        "print(tensor)\n",
        "print(tensor.shape)\n",
        "     # 3행 3열이 1개인 3차원"
      ],
      "metadata": {
        "colab": {
          "base_uri": "https://localhost:8080/"
        },
        "id": "H5Uubso66uqe",
        "outputId": "59f776ac-8568-4117-885c-5377d8801227"
      },
      "execution_count": 100,
      "outputs": [
        {
          "output_type": "stream",
          "name": "stdout",
          "text": [
            "tensor([[[0.7026, 0.6950, 0.8151],\n",
            "         [0.7888, 0.6553, 0.2745],\n",
            "         [0.7389, 0.5098, 0.0602]]])\n",
            "torch.Size([1, 3, 3])\n"
          ]
        }
      ]
    },
    {
      "cell_type": "markdown",
      "source": [
        "tensor.unsqueeze(dim=2)\n",
        "\n",
        "- unsqueeze 함수는 텐서에 새로운 차원을 추가. 여기서 dim=2는 새로운 차원이 추가될 위치를 나타내며 기존 텐서의 모든 차원의 인덱스를 증가시키고, 새로운 차원은 dim=2에 위치.\n",
        "\n",
        "- 원래 텐서의 모양(shape)이 (3, 4)이었다면, unsqueeze(dim=2)를 적용한 후의 모양은 (3, 4, 1)이 됩니다. 따라서, 이 코드에서는 기존 텐서에 1차원을 추가"
      ],
      "metadata": {
        "id": "Rar9bbB_r6jJ"
      }
    },
    {
      "cell_type": "code",
      "source": [
        "tensor.shape"
      ],
      "metadata": {
        "colab": {
          "base_uri": "https://localhost:8080/"
        },
        "id": "33-Yi25g67u8",
        "outputId": "b260174f-b2de-473c-824c-8d9ab4b85031"
      },
      "execution_count": 101,
      "outputs": [
        {
          "output_type": "execute_result",
          "data": {
            "text/plain": [
              "torch.Size([1, 3, 3])"
            ]
          },
          "metadata": {},
          "execution_count": 101
        }
      ]
    },
    {
      "cell_type": "code",
      "source": [
        "tensor = t.unsqueeze(dim=2)\n",
        "print(tensor)\n",
        "print(tensor.shape) # dim을 사용하여 차원을 늘릴 수 있음"
      ],
      "metadata": {
        "colab": {
          "base_uri": "https://localhost:8080/"
        },
        "id": "mX0WcMtLrvu3",
        "outputId": "fa58361c-0ae2-4826-ba04-e609797cf4c0"
      },
      "execution_count": 71,
      "outputs": [
        {
          "output_type": "stream",
          "name": "stdout",
          "text": [
            "tensor([[[0.2492],\n",
            "         [0.6255],\n",
            "         [0.2896]],\n",
            "\n",
            "        [[0.6661],\n",
            "         [0.5473],\n",
            "         [0.1868]],\n",
            "\n",
            "        [[0.9380],\n",
            "         [0.5207],\n",
            "         [0.9642]]])\n",
            "torch.Size([3, 3, 1])\n"
          ]
        }
      ]
    },
    {
      "cell_type": "markdown",
      "source": [
        "stack은 새로운 차원을 추가하여 텐서들을 결합하는 반면, cat은 기존 차원을 따라 텐서들을 연결\n",
        "\n",
        "- stack : 새로운 차원이 추가되며, 해당 차원의 크기는 결합할 텐서들의 개수\n",
        "- cat: 주어진 텐서들을 기존 차원을 따라 연결하여 결합"
      ],
      "metadata": {
        "id": "3_Cksz4erze2"
      }
    },
    {
      "cell_type": "code",
      "source": [
        "x = torch.FloatTensor([1,4])\n",
        "y = torch.FloatTensor([2,5])\n",
        "z = torch.FloatTensor([3,6])\n",
        "print(torch.stack([x,y,z]))  # 차곡차곡 쌓여서 3행 2열이 된다."
      ],
      "metadata": {
        "colab": {
          "base_uri": "https://localhost:8080/"
        },
        "id": "fg-xSkU6qGdO",
        "outputId": "6851fcb3-6f42-4c5c-edec-f3a17c1604f8"
      },
      "execution_count": 72,
      "outputs": [
        {
          "output_type": "stream",
          "name": "stdout",
          "text": [
            "tensor([[1., 4.],\n",
            "        [2., 5.],\n",
            "        [3., 6.]])\n"
          ]
        }
      ]
    },
    {
      "cell_type": "markdown",
      "source": [
        "cat : 텐서를 결합하는 메소드(concatenate)\n",
        "- 주어진 텐서들을 기존 차원을 따라 연결하여 결합"
      ],
      "metadata": {
        "id": "teQRW3ktsxlO"
      }
    },
    {
      "cell_type": "code",
      "source": [
        "a = torch.randn(1,3,3)\n",
        "b = torch.randn(1,3,3)\n",
        "c = torch.cat((a,b),dim=0) #행방향으로 cat\n",
        "print(c)\n",
        "print(c.size()) # 3행 3열이 2개 생김."
      ],
      "metadata": {
        "colab": {
          "base_uri": "https://localhost:8080/"
        },
        "id": "e6G4umJ6pDDX",
        "outputId": "22a4d40f-5d9a-4552-b92b-cfdc1b328f40"
      },
      "execution_count": 73,
      "outputs": [
        {
          "output_type": "stream",
          "name": "stdout",
          "text": [
            "tensor([[[-3.0882,  1.5981,  0.8322],\n",
            "         [ 0.1549,  0.6375,  0.1152],\n",
            "         [-0.4469,  1.5017,  0.1550]],\n",
            "\n",
            "        [[ 0.0716, -1.0392,  1.2616],\n",
            "         [ 0.9562, -0.1560,  0.0307],\n",
            "         [ 0.0038,  0.3187,  1.1388]]])\n",
            "torch.Size([2, 3, 3])\n"
          ]
        }
      ]
    },
    {
      "cell_type": "code",
      "source": [
        "c = torch.cat((a,b),dim=1) #열방향으로 cat\n",
        "print(c)\n",
        "print(c.size()) # 6행 3열짜리 1개 생성"
      ],
      "metadata": {
        "colab": {
          "base_uri": "https://localhost:8080/"
        },
        "id": "7YkXqUw1tVp3",
        "outputId": "17f5f3aa-616d-4919-bb04-b1cccb98ec12"
      },
      "execution_count": 74,
      "outputs": [
        {
          "output_type": "stream",
          "name": "stdout",
          "text": [
            "tensor([[[-3.0882,  1.5981,  0.8322],\n",
            "         [ 0.1549,  0.6375,  0.1152],\n",
            "         [-0.4469,  1.5017,  0.1550],\n",
            "         [ 0.0716, -1.0392,  1.2616],\n",
            "         [ 0.9562, -0.1560,  0.0307],\n",
            "         [ 0.0038,  0.3187,  1.1388]]])\n",
            "torch.Size([1, 6, 3])\n"
          ]
        }
      ]
    },
    {
      "cell_type": "code",
      "source": [
        "c = torch.cat((a,b),dim=2)\n",
        "print(c)\n",
        "print(c.size())"
      ],
      "metadata": {
        "colab": {
          "base_uri": "https://localhost:8080/"
        },
        "id": "FKtk3GO7txpw",
        "outputId": "11d62eff-ce80-4d82-eabf-53bfc65a792b"
      },
      "execution_count": 75,
      "outputs": [
        {
          "output_type": "stream",
          "name": "stdout",
          "text": [
            "tensor([[[-3.0882,  1.5981,  0.8322,  0.0716, -1.0392,  1.2616],\n",
            "         [ 0.1549,  0.6375,  0.1152,  0.9562, -0.1560,  0.0307],\n",
            "         [-0.4469,  1.5017,  0.1550,  0.0038,  0.3187,  1.1388]]])\n",
            "torch.Size([1, 3, 6])\n"
          ]
        }
      ]
    },
    {
      "cell_type": "markdown",
      "source": [
        "chunk : 텐서를 여러개로 나눌 때 사용 (몇개로 나눌 것인가?)"
      ],
      "metadata": {
        "id": "MTEYMwwmuDC4"
      }
    },
    {
      "cell_type": "code",
      "source": [
        "tensor = torch.rand(3,6)\n",
        "print(tensor)\n",
        "\n",
        "t1,t2 = torch.chunk(tensor,2,dim=1) #텐서를 열방향(dim=1)으로 2개로 나눈다\n",
        "print(t1,t1.shape)\n",
        "print(t2) # 몇개로 나눌 것인가가 포인트"
      ],
      "metadata": {
        "colab": {
          "base_uri": "https://localhost:8080/"
        },
        "id": "GT9geQeCpDBA",
        "outputId": "5e08f8f9-4ff5-4abd-8dd2-e2077684b48b"
      },
      "execution_count": 76,
      "outputs": [
        {
          "output_type": "stream",
          "name": "stdout",
          "text": [
            "tensor([[0.5168, 0.0521, 0.8232, 0.7887, 0.0543, 0.1406],\n",
            "        [0.9389, 0.6884, 0.3649, 0.6929, 0.7512, 0.9368],\n",
            "        [0.2477, 0.0990, 0.4304, 0.5330, 0.1051, 0.5968]])\n",
            "tensor([[0.5168, 0.0521, 0.8232],\n",
            "        [0.9389, 0.6884, 0.3649],\n",
            "        [0.2477, 0.0990, 0.4304]]) torch.Size([3, 3])\n",
            "tensor([[0.7887, 0.0543, 0.1406],\n",
            "        [0.6929, 0.7512, 0.9368],\n",
            "        [0.5330, 0.1051, 0.5968]])\n"
          ]
        }
      ]
    },
    {
      "cell_type": "markdown",
      "source": [
        "split : chunk 와 동일한 기능이지만 조금 다름( 텐서의 크기는 몇인가?)\n",
        "- 열 방향으로 최대 2를 가짐"
      ],
      "metadata": {
        "id": "3CjnfyxfvFtI"
      }
    },
    {
      "cell_type": "code",
      "source": [
        "# 텐서의 크기가 포인트.\n",
        "tensor = torch.rand(3,6)\n",
        "t1,t2,t3 = torch.split(tensor, 2, dim = 1)\n",
        "\n",
        "print(tensor)\n",
        "print(t1,t1.shape)\n",
        "print(t2)\n",
        "print(t3)"
      ],
      "metadata": {
        "colab": {
          "base_uri": "https://localhost:8080/"
        },
        "id": "8wDQRyespC-8",
        "outputId": "741d18ca-23f4-40dc-d47c-e6a617a38b74"
      },
      "execution_count": 77,
      "outputs": [
        {
          "output_type": "stream",
          "name": "stdout",
          "text": [
            "tensor([[1.1655e-01, 5.9798e-01, 4.7725e-01, 1.0576e-01, 5.1656e-01, 3.2916e-01],\n",
            "        [1.9478e-01, 8.0167e-01, 5.3906e-04, 3.6827e-01, 9.3842e-01, 3.1928e-01],\n",
            "        [6.3527e-01, 4.0043e-01, 8.9679e-01, 4.4304e-01, 1.4530e-01, 1.9086e-01]])\n",
            "tensor([[0.1166, 0.5980],\n",
            "        [0.1948, 0.8017],\n",
            "        [0.6353, 0.4004]]) torch.Size([3, 2])\n",
            "tensor([[4.7725e-01, 1.0576e-01],\n",
            "        [5.3906e-04, 3.6827e-01],\n",
            "        [8.9679e-01, 4.4304e-01]])\n",
            "tensor([[0.5166, 0.3292],\n",
            "        [0.9384, 0.3193],\n",
            "        [0.1453, 0.1909]])\n"
          ]
        }
      ]
    },
    {
      "cell_type": "code",
      "source": [],
      "metadata": {
        "id": "eGNJDOMovtJp"
      },
      "execution_count": null,
      "outputs": []
    },
    {
      "cell_type": "code",
      "source": [],
      "metadata": {
        "id": "-So3tv_2pC8g"
      },
      "execution_count": null,
      "outputs": []
    },
    {
      "cell_type": "code",
      "source": [],
      "metadata": {
        "id": "Sn8bzfVopC6p"
      },
      "execution_count": null,
      "outputs": []
    },
    {
      "cell_type": "code",
      "source": [],
      "metadata": {
        "id": "nyDYpmNMpC1f"
      },
      "execution_count": null,
      "outputs": []
    }
  ]
}

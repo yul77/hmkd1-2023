{
  "nbformat": 4,
  "nbformat_minor": 0,
  "metadata": {
    "colab": {
      "provenance": [],
      "authorship_tag": "ABX9TyN85u9lO7LetXtSN9kuN44D",
      "include_colab_link": true
    },
    "kernelspec": {
      "name": "python3",
      "display_name": "Python 3"
    },
    "language_info": {
      "name": "python"
    }
  },
  "cells": [
    {
      "cell_type": "markdown",
      "metadata": {
        "id": "view-in-github",
        "colab_type": "text"
      },
      "source": [
        "<a href=\"https://colab.research.google.com/github/yul77/hmkd1-2023/blob/main/auto_arima_(%EC%8B%9C%EA%B3%84%EC%97%B4).ipynb\" target=\"_parent\"><img src=\"https://colab.research.google.com/assets/colab-badge.svg\" alt=\"Open In Colab\"/></a>"
      ]
    },
    {
      "cell_type": "markdown",
      "source": [
        "# 시계열 분석 개념\n",
        "\n",
        "- 시계열 데이터를 통해 시간의 흐름에 따른 종속 변수의 변화를 예측하는 것으로 주가, 환율, 원별 재고량 등이 시계열 자료에 해당된다.\n",
        "- 회귀분석은 변수간의 독립성을 전제로 분석을 하지만 시계열 분석은 변수간의 자기상관성을 전제로 한다는 것이 가장 큰 차이이며 회귀분석의 경우 순서에 영향을 받지 않지만 시계열 분석은 데이터의 순서가 매우 중요하다.\n",
        "- 정상 시계열 분석과 비정상 시계열 분석으로 구분. 정장성 조건을 모두 만족시키려면 정상 시계열, 정상성 조건을 하나라도 만족하지 못하면 비정상 시계열이라고 한다.\n",
        "- 시계열 분석에서 대부분의 자료는 비정상 시계열 자료 이므로 이를 정상시계역로 변환한 후에 분석을 수행한다.\n",
        "- 정상시계열은 추세성, 계절성 등의 패턴을 보이지 않으며 자료의 변화 폭이 일정하고 시간의 흐름에 따라 자기 상관성이 사이하지 않는다는 특징을 가지게 된다.\n",
        "\n",
        "##### 정상성의 조건\n",
        "  - 시계열의 평균이 시간에 따라서 일정하다.\n",
        "  - 분산이 시점에 의존하지 않고 일정하다.\n",
        "  - 시점간의 공분산이 특정 시점에 의존하지 않고 오직 시차에만 의존한다. 즉 t시점과 t-1시점의 공분산은 t시점과 t+1시점의 공분상과 같다는 것을 의미한다.\n",
        "\n",
        "- 평균이 일정하지 않은 경우에는 현시점 자요레서 이전 시점 자료를 빼는 '차분'을 통해 정상 시계열화 할 수 있다.\n",
        "- 시계열 데이터가 계절성을 가지는 경우에는 현 시점 자료에서 여러 시점 전의 자료를 빼는 '계절차분'을 이용한다.\n",
        "- 분산이 일정하지 않은 경우에는 변환을 통해 정상 시계열화 할 수 있다.\n",
        "- 시계열은 추세요인, 계절요인, 순환요인, 불규칙요인으로 구성되며 이들 요인이 복잡하게 혼합되어 하나의 시계열 데이터를 구성한다. 분석 목적에 따라 특정료인만을 분리해 분석하거나 제거하는 작업을 하게 되는데 이를 분해시계열이라고 한다.\n",
        "\n",
        "##### 시계열의 구성요소\n",
        "  - 추세요인 : 인구 증가, 기술의 변화 등과 같은 요인에 의해 장기간 일정한 방향으로 상승 또는 하락하는 경향을 보이는 요인으로 급격한 충격이 없는 한 지속되는 특징이 있다.\n",
        "  - 순환요인 : 정확히 알려진 이유가 없고 주기가 일정하지 않은 변동을 순환요인이라고 한다. 보통 추세선을 따라 상하로 반복 운동하는 형대로 나타난다.\n",
        "  - 계절요인 : 요일별, 월별, 분기별, 계절별 일정한 주기를 가지는 상하 반복을 규칙적인 변동을 계절변동이라 한다. 매년 같은 시기에 유사한 패턴으로 나타나므로 예측하기가 상대적으로 쉬우며 순환 요일보다 주기가 짧은것이 특징이다.\n",
        "  - 불규칙 요인 : 위의 세가지 요인으로 설명하지 못하는 오차에 해당하는 요인으로 어떠한 규칙성 없이 우연히 발생하는 예측 불가능한 변동이다.\n"
      ],
      "metadata": {
        "id": "7bktwaM1zR1r"
      }
    },
    {
      "cell_type": "markdown",
      "source": [
        "### 시계열 분석(Time series analysis) 기법\n",
        "\n",
        "- 평활법 : 자료에 내재된 불규칙적인 변동이나 계절성을 제거하여 시계열 그림을 조금 더 평탄한 형태로 만드는 방법으로 이동평균법과 지수평활법 등이 있다.\n",
        "  - 이동평균법 : 시계열 데이터를 일정 기간별로 자료를 묶어 평균을 구하는 방법.\n",
        "  - 지수평활법 : 최근 자료가 과거 자료보다 예측에 효과적이라는 가정하에 최근 데이터일수록 큰 가중치를 부여하는 방식을 사용해 평균을 계산. m기간의 평균을 계산하는 이동평균법과 달리 지수평활법은 전체 시계열 데이터를 사용해 평균을 구한다는 특징이 있다.\n",
        "\n",
        "- 분해법 : 시계열 데이터에서 추세, 순환, 계절, 불규칙 요인을 분리하는 방법이다.\n",
        "   - 가법모형 : 시계열 데이터(Y) = 추세요인(T) + 순환요인(C) + 계절요인(S) + 불규칙요인(I)\n",
        "   - 승법모혈 : 시계열 데이터(Y) = 추세요인(T) * 순환요인(C) * 계절요인(S) * 불규칙요인(I)\n",
        "\n",
        "- ARIMA는  Autoregressive Integrated Moving Average의 약자로, Autoregressive는 자기회귀모형을 의미하고, Moving Average는 이동평균모형을 의미\n",
        "   - **AR: 자기회귀(Autoregressive)**<br>\n",
        "        변수들의 자기상관성을 기반으로 한 시계열 모형으로 현 시점의 자료를 p시점 전의 과거 자료를 통해 설명할 수 있는 모델이다. 즉, 과거 데이터의 자기 상관성을 분석해 시계열의 특성을 분석한다. 자기 자신의 과거값이 이후 자신의 값에 영향을 주기 때문에 자기회귀모형이라고 하면 AR(p)모형이라고도 한다.<br>\n",
        "        AR모형에서는 몇 시점 전의 데이터가 현 시점의 데이터에 영향을 주는지 알아야 하며, 현시점의 데이터가 1 시점 전의 데이터에만 영향을 받는다면 AR(1) 모형이라고 한다.\n",
        "   - **I : 누적(Integrated)** <br>\n",
        "        누적을 의미하는 것으로, 차분을 이용하는 시계열모형들에 붙이는 표현이라고 생각하면 편하다.\n",
        "   - **MA : 이동평균(Moving Average)** <br>\n",
        "        관측값이 이전의 연속적인 오차항의 영향을 받는다는 모형이다.\n",
        "        즉, 이동평균 과정으로 현재 데이터가 과거 백색잡음의 선형 가중합으로 구성된다는 모형이다. 백색잡음 과정은 서로 독립이고 평균이\n",
        "인 확률변수이므로 항상 정상성을 만족한다는 특징이 있으며, 이들의 선형 결합으로 구성된 MA모형 또한 항상 정상성을 만족하므로 이동평균모형은 정상성 가정이 필요없는 모델이다.\n",
        "\n",
        "- **ARIMA는 자기회귀와 이동평균을 둘 다 고려하는 모형**인데, ARMA와 ARIMA의 차이점은 ARIMA의 경우 시계열의 비정상성(Non-stationary)을 설명하기 위해 관측치간의 차분(Diffrance)을 이용한다는 것.\n",
        "   - 현실에 존재하는 시계열자료는 불안정(Non-stationary)한 경우가 많다. 그런데 AR(p),MA(q)모형이나, 이 둘을 합한 ARMA(p,q)모형으로는 이러한 불안정성을 설명할 수가 없다. 따라서 **모형 그 자체에 이러한 비정상성을 제거하는 과정을 포함한것이 ARIMA모형이며 ARIMA(p,d,q)로 표현**\n",
        "\n",
        "---\n",
        "\n",
        "\n",
        "\n"
      ],
      "metadata": {
        "id": "3_depwxIzarY"
      }
    },
    {
      "cell_type": "markdown",
      "source": [
        "## ARIMA(Autoregressvie integrated MovingAverage)\n",
        "- AR(자기상관) : 이전의 값이 이후의 값에 영향을 미치고 있는 상황\n",
        "    - AR(1) : Xt = theta * Xt-1 + epsilont\n",
        "        - 현재 시점의 데이터를 이전 시점들의 데이터를 활용하여 예측하는 방법\n",
        "        - Xt는 현재 시점의 값을 나타냅니다.\n",
        "        - Xt-1은 이전 시점의 값입니다.\n",
        "        - theta는 모델의 계수이며, 이전 시점의 값에 대한 가중치를 나타냅니다. 이 값이 1보다 작으면 시계열 데이터가 감쇠하거나 감소하는 경향을 보이며, 1보다 크면 시계열 데이터가 증가하는 경향을 보입니다.\n",
        "        - epsilont는 현재 시점의 오차 또는 잔차(residual)를 나타냅니다. 이 값은 예측 모델로 설명되지 않는 불확실성이나 잡음을 의미\n",
        "    - 제일 기본적인 AR(1) 식으로 theta는 자기상관계수, epsilon은 white noise이다. Timelag은 1이 될수도 있고 그 이상이 될 수도 있다.\n",
        "- MA(이동평균) : 랜덤 변수의 평균값이 지속적으로 증가하거나 감소하는 추세\n",
        "    - MA(1) : Xt = epsilont - beta * epsilont-1\n",
        "      - 이 공식은 MA(1) 모델로, 단일 이전 시점의 오차를 사용하여 현재 시점의 값을 예측\n",
        "      - Xt는 현재 시점의 값을 나타냅니다.\n",
        "      - epsilont는 현재 시점의 오차 또는 잔차(residual)를 나타냅니다. 이 값은 예측 모델로 설명되지 않는 불확실성이나 잡음을 의미합니다.\n",
        "      - epsilont-1은 이전 시점의 오차 또는 잔차를 나타냅니다.\n",
        "      - beta는 모델의 계수이며, 이전 시점의 오차에 대한 가중치를 나타냅니다. 이 값은 보통 0과 1 사이의 값으로 설정\n",
        "    - 가장 기본적인 MA(1) 모형을 나타낸 식으로, beta는 이동평균계수, epsilont은 t시점의 오차항\n",
        "\n",
        "차분은 비정상성을 정상성으로 만들기 위해, 관측값들의 차이를 계산하는 것. (비정상성에서 정상성으로)\n",
        "\n",
        "### ARIMA 모수 설정\n",
        "- ARIMA의 모수는 크게 3가지가 있으며 AR모형의 Lag을 의미하는 p, MA모형의 Lag을 의미하는 q, 차분(Diffrence)횟수를 의미하는 d가 있음. p,d,q 순서로 쓴다.\n",
        "- 통상적으로 p+q < 2, p$*$q = 0 인 값들을 많이 사용하는데 p$*$q = 0 이라 하면, 두 값중 하나는 0 이라는 이야기다. ARIMA는 AR모형과 MA모형을 하나로 합쳤다면서 둘 중 하나의 모수가 0인건 또 무슨소리? 라고 할지 모르겠지만, 실제로 대부분의 시계열 자료에서는 하나의 경향만을 강하게 띄기 때문에, 이렇게 사용하는 것이 더 잘 맞는사.\n",
        "- ACF plot와 PACF plot을 통해 AR 및 MA의 모수를 추정\n",
        "- ACF(Auto Correlation Function) : Lag에 따른 관측치들 사이의 관련성을 측정하는 함수\n",
        "-"
      ],
      "metadata": {
        "id": "1LEj8Yprzaty"
      }
    },
    {
      "cell_type": "code",
      "source": [],
      "metadata": {
        "id": "PAmrdgupzawa"
      },
      "execution_count": null,
      "outputs": []
    },
    {
      "cell_type": "code",
      "source": [],
      "metadata": {
        "id": "ZNbm-LXmzayb"
      },
      "execution_count": null,
      "outputs": []
    },
    {
      "cell_type": "code",
      "source": [],
      "metadata": {
        "id": "vLkD_W-_za05"
      },
      "execution_count": null,
      "outputs": []
    },
    {
      "cell_type": "code",
      "source": [],
      "metadata": {
        "id": "5Zgx_6CKza3U"
      },
      "execution_count": null,
      "outputs": []
    },
    {
      "cell_type": "code",
      "source": [],
      "metadata": {
        "id": "xORsh3QAza5m"
      },
      "execution_count": null,
      "outputs": []
    },
    {
      "cell_type": "code",
      "source": [],
      "metadata": {
        "id": "SHlHXiqOza8M"
      },
      "execution_count": null,
      "outputs": []
    },
    {
      "cell_type": "code",
      "source": [],
      "metadata": {
        "id": "F3eM947Yza-i"
      },
      "execution_count": null,
      "outputs": []
    },
    {
      "cell_type": "code",
      "source": [],
      "metadata": {
        "id": "OYmvEkSyzbAs"
      },
      "execution_count": null,
      "outputs": []
    },
    {
      "cell_type": "code",
      "source": [],
      "metadata": {
        "id": "6my7WgPszbDQ"
      },
      "execution_count": null,
      "outputs": []
    },
    {
      "cell_type": "code",
      "source": [],
      "metadata": {
        "id": "pIGPCfCEzbFw"
      },
      "execution_count": null,
      "outputs": []
    },
    {
      "cell_type": "code",
      "source": [],
      "metadata": {
        "id": "01b3-_gJzbH_"
      },
      "execution_count": null,
      "outputs": []
    },
    {
      "cell_type": "code",
      "source": [],
      "metadata": {
        "id": "OGWLpX61zbKZ"
      },
      "execution_count": null,
      "outputs": []
    },
    {
      "cell_type": "code",
      "source": [],
      "metadata": {
        "id": "q0H6Bq-czbM3"
      },
      "execution_count": null,
      "outputs": []
    },
    {
      "cell_type": "code",
      "source": [],
      "metadata": {
        "id": "WLx5AtS_zbPN"
      },
      "execution_count": null,
      "outputs": []
    },
    {
      "cell_type": "code",
      "source": [],
      "metadata": {
        "id": "8rddLyDSzbRk"
      },
      "execution_count": null,
      "outputs": []
    },
    {
      "cell_type": "code",
      "source": [],
      "metadata": {
        "id": "nWirn7xZzbT5"
      },
      "execution_count": null,
      "outputs": []
    },
    {
      "cell_type": "code",
      "source": [],
      "metadata": {
        "id": "M_1Ix0RkzbWR"
      },
      "execution_count": null,
      "outputs": []
    },
    {
      "cell_type": "code",
      "source": [],
      "metadata": {
        "id": "4JOwq2BTzbY2"
      },
      "execution_count": null,
      "outputs": []
    },
    {
      "cell_type": "code",
      "source": [],
      "metadata": {
        "id": "SsRfwDH-zbbI"
      },
      "execution_count": null,
      "outputs": []
    },
    {
      "cell_type": "code",
      "source": [],
      "metadata": {
        "id": "B_rwMjXtzbdj"
      },
      "execution_count": null,
      "outputs": []
    },
    {
      "cell_type": "code",
      "source": [],
      "metadata": {
        "id": "98vGuYhazbgJ"
      },
      "execution_count": null,
      "outputs": []
    },
    {
      "cell_type": "code",
      "source": [],
      "metadata": {
        "id": "tYIIZvWOzbim"
      },
      "execution_count": null,
      "outputs": []
    },
    {
      "cell_type": "code",
      "source": [],
      "metadata": {
        "id": "1w5mmcp7zblB"
      },
      "execution_count": null,
      "outputs": []
    },
    {
      "cell_type": "code",
      "source": [],
      "metadata": {
        "id": "i_6O_M11zbnc"
      },
      "execution_count": null,
      "outputs": []
    },
    {
      "cell_type": "code",
      "source": [],
      "metadata": {
        "id": "374K8EuIzbqD"
      },
      "execution_count": null,
      "outputs": []
    }
  ]
}